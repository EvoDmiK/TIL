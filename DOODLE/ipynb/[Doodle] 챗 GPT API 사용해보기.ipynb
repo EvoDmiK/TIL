{
 "cells": [
  {
   "cell_type": "code",
   "execution_count": 1,
   "id": "2cd246b9-a423-4cb3-a612-841927766f19",
   "metadata": {},
   "outputs": [],
   "source": [
    "from base64 import b64decode\n",
    "from pathlib import Path\n",
    "import openai\n",
    "import json\n",
    "import time\n",
    "import os"
   ]
  },
  {
   "cell_type": "code",
   "execution_count": 2,
   "id": "7de1db9d-1520-455c-92d5-92f164f91a7a",
   "metadata": {},
   "outputs": [],
   "source": [
    "ROOT_PATH = '/'.join(os.getcwd().split('/')[:-3])\n",
    "KEY_PATH  = f'{ROOT_PATH}/utils/keys/keys.json'"
   ]
  },
  {
   "cell_type": "code",
   "execution_count": 3,
   "id": "487e9ca8-06e2-4f21-8e9f-ed178c621bae",
   "metadata": {},
   "outputs": [],
   "source": [
    "key = json.loads(open(KEY_PATH, 'r').read())['openai']"
   ]
  },
  {
   "cell_type": "code",
   "execution_count": 4,
   "id": "21ce4e0d-fd3b-4093-bd69-3b7a632f3792",
   "metadata": {},
   "outputs": [],
   "source": [
    "openai.api_key = key"
   ]
  },
  {
   "cell_type": "code",
   "execution_count": 5,
   "id": "9d2d9da2-761e-47c3-a2ea-73a6e7b721bc",
   "metadata": {},
   "outputs": [
    {
     "name": "stdout",
     "output_type": "stream",
     "text": [
      "spent time : 9.829\n"
     ]
    },
    {
     "data": {
      "text/plain": [
       "'네, 뼈치킨은 말 그대로 닭의 뼈를 이용하여 만든 요리로, 일반적으로 뿌리 감자나 치킨너겟 등과 함께 판매됩니다. 뼈치킨은 바삭하게 튀겨져 있으며, 다양한 소스를 곁들여 먹기도 합니다. 특히 한국에서는 매운 양념소스와 함께 먹는 것이 일반적이며, 술안주로도 자주 즐겨먹는 음식 중 하나입니다.'"
      ]
     },
     "execution_count": 5,
     "metadata": {},
     "output_type": "execute_result"
    }
   ],
   "source": [
    "model = 'gpt-3.5-turbo'\n",
    "query = '뼈치킨에 대해서 알고 있니?'\n",
    "\n",
    "messages = [\n",
    "    {'role' : 'system', 'content' : 'you are a helpful assistant'},\n",
    "    {'role' : 'user',   'content' : query}\n",
    "]\n",
    "\n",
    "start_time = time.time()\n",
    "response = openai.ChatCompletion.create(\n",
    "    model    = model,\n",
    "    messages = messages\n",
    ")\n",
    "print(f'spent time : {time.time() - start_time:.3f}')\n",
    "\n",
    "answer = response['choices'][0]['message']['content']\n",
    "answer"
   ]
  },
  {
   "cell_type": "code",
   "execution_count": 6,
   "id": "8bfa142f-1d90-484a-aacb-69f7ac1268ad",
   "metadata": {},
   "outputs": [],
   "source": [
    "description = 'a flying dove in space, gothic'\n",
    "response    = openai.Image.create(prompt=description,\n",
    "                                  n = 1, size = '1024x1024',\n",
    "                                  response_format = 'b64_json',\n",
    "                                  api_key = key)"
   ]
  },
  {
   "cell_type": "code",
   "execution_count": 9,
   "id": "a9c15afd-516c-4d02-b770-7942abedc5fa",
   "metadata": {},
   "outputs": [],
   "source": [
    "for idx, image_dict in enumerate(response['data']):\n",
    "    \n",
    "    image_data = b64decode(image_dict['b64_json'])\n",
    "    image_file = f'dove_{idx}.png'\n",
    "    \n",
    "    with open(image_file, 'wb') as png: png.write(image_data)"
   ]
  },
  {
   "cell_type": "code",
   "execution_count": null,
   "id": "23ad1d8e-cf25-4418-8410-8a10f252b09b",
   "metadata": {},
   "outputs": [],
   "source": []
  }
 ],
 "metadata": {
  "kernelspec": {
   "display_name": "dove",
   "language": "python",
   "name": "dove"
  },
  "language_info": {
   "codemirror_mode": {
    "name": "ipython",
    "version": 3
   },
   "file_extension": ".py",
   "mimetype": "text/x-python",
   "name": "python",
   "nbconvert_exporter": "python",
   "pygments_lexer": "ipython3",
   "version": "3.8.13"
  }
 },
 "nbformat": 4,
 "nbformat_minor": 5
}
