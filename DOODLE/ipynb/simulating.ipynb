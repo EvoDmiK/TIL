{
 "cells": [
  {
   "cell_type": "code",
   "execution_count": 1,
   "id": "4008f333-3c06-49eb-a670-71dd3bf18214",
   "metadata": {},
   "outputs": [],
   "source": [
    "from collections import namedtuple\n",
    "import re\n",
    "\n",
    "import pandas as pd\n",
    "import numpy as np"
   ]
  },
  {
   "cell_type": "code",
   "execution_count": 2,
   "id": "fcc80452-9d38-4dd7-84bf-d228bd835ccc",
   "metadata": {},
   "outputs": [],
   "source": [
    "max_gene = 65535"
   ]
  },
  {
   "cell_type": "code",
   "execution_count": 3,
   "id": "5d74e120-47df-46aa-b1bf-5c27a3481a87",
   "metadata": {},
   "outputs": [],
   "source": [
    "def generate_mutant(gene, gender = None, length = 9):\n",
    "    \n",
    "    mutant_factor = 0.7\n",
    "    factors = [f'+{np.random.randint(1, 5)}', f'-{np.random.randint(1, 5)}', \n",
    "               f'*{np.random.randint(1, 5)}', f'/{np.random.randint(1, 5)}']\n",
    "    \n",
    "    normal = np.random.normal()\n",
    "    \n",
    "    if gender == 'M':\n",
    "        \n",
    "        if abs(normal) > 0.5:\n",
    "            gene[0] *= 0.1\n",
    "            gene[1] *= 1.2\n",
    "            gene[2] *= 0.9\n",
    "            gene[3] *= 0.3\n",
    "            gene[4] *= 0.4\n",
    "            gene[5] *= 0.2\n",
    "            gene[6] *= 0.5\n",
    "            gene[7] *= 0.8\n",
    "            gene[8] *= 1.3\n",
    "            \n",
    "    elif gender == 'F':\n",
    "        \n",
    "        if abs(normal) > 0.5:\n",
    "            gene[0] *= 1.3\n",
    "            gene[1] *= 0.4\n",
    "            gene[2] *= 0.3\n",
    "            gene[3] *= 1.1\n",
    "            gene[4] *= 0.4\n",
    "            gene[5] *= 0.7\n",
    "            gene[6] *= 0.6\n",
    "            gene[7] *= 0.8\n",
    "            gene[8] *= 1.3\n",
    "    \n",
    "    else: pass\n",
    "    \n",
    "    if abs(normal) > mutant_factor:\n",
    "        \n",
    "        for _ in range(length // 3):\n",
    "            factor    = factors[np.random.randint(4)]\n",
    "            idx       = np.random.randint(length)\n",
    "            gene[idx] = factor\n",
    "            \n",
    "    return gene\n",
    "\n",
    "\n",
    "def generate_new_ind(male, female):\n",
    "    \n",
    "    symbols  = ['+', '-', '*', '/']\n",
    "    new_gene = []\n",
    "    for m, f in zip(male[:-1], female[:-1]):\n",
    "        condition = [m[0] in symbols, f[0] in symbols]\n",
    "        if any(condition):\n",
    "            \n",
    "            if all(condition):\n",
    "                m = re.sub('[^0-9]', '', m)\n",
    "                f = re.sub('[^0-9]', '', f)\n",
    "                \n",
    "                new_gene.append(max(float(m), float(f)))\n",
    "                \n",
    "            else:\n",
    "                \n",
    "                gene = int(eval(f + m)) if m[0] in symbols else int(eval(m + f))\n",
    "                new_gene.append(np.clip(gene, 0, max_gene))\n",
    "                \n",
    "        else: new_gene.append(max(float(m), float(f)))\n",
    "       \n",
    "    gender   = 'M' if abs(np.random.normal()) > 0.63 else 'F'    \n",
    "    new_gene = generate_mutant(new_gene, gender, length = len(new_gene))\n",
    "    \n",
    "    new_gene.append(gender)\n",
    "    return list(map(str, new_gene))\n",
    "\n",
    "def generate_gene(length = 9):\n",
    "    \n",
    "    gene = list(map(str, np.random.randint(15, size = 9)))\n",
    "    gene = generate_mutant(gene, length = length)\n",
    "    \n",
    "    return gene\n",
    "\n",
    "def generate_parents():\n",
    "    init_inds = {\n",
    "                'f1' : generate_gene() + ['F'],\n",
    "                'm1' : generate_gene() + ['M'],\n",
    "            }\n",
    "        \n",
    "    return init_inds"
   ]
  },
  {
   "cell_type": "code",
   "execution_count": 4,
   "id": "e75c4881-b074-4c5d-b8c9-a80ce0fe17b1",
   "metadata": {},
   "outputs": [
    {
     "data": {
      "text/plain": [
       "{'f1': ['2', '5', '6', '6', '4', '10', '0', '4', '8', 'F'],\n",
       " 'm1': ['1', '10', '2', '11', '3', '3', '5', '8', '7', 'M']}"
      ]
     },
     "execution_count": 4,
     "metadata": {},
     "output_type": "execute_result"
    }
   ],
   "source": [
    "people = generate_parents()\n",
    "people"
   ]
  },
  {
   "cell_type": "code",
   "execution_count": 5,
   "id": "60dd6be4-7986-4774-9cc6-60372b5f8f7b",
   "metadata": {
    "tags": []
   },
   "outputs": [],
   "source": [
    "cnt         = 2\n",
    "family_tree = {}\n",
    "\n",
    "while True:\n",
    "    \n",
    "    males   = [people[gen] for gen in people.keys() if 'm' in gen]\n",
    "    females = [people[gen] for gen in people.keys() if 'f' in gen]\n",
    "    \n",
    "    male_idx   = np.random.randint(len(males))\n",
    "    female_idx = np.random.randint(len(females))\n",
    "    \n",
    "    male       = males[male_idx]\n",
    "    female     = females[female_idx]\n",
    "    \n",
    "    child      = generate_new_ind(male, female)\n",
    "    gender     = child[-1].lower()\n",
    "    \n",
    "\n",
    "    child_idx   = f'{gender}{cnt}'\n",
    "    people[child_idx] = child\n",
    "    \n",
    "    males      = [key for key in people.keys() if 'm' in key]\n",
    "    females    = [key for key in people.keys() if 'f' in key]\n",
    "\n",
    "    father     = males[male_idx]\n",
    "    mother     = females[female_idx]\n",
    "    \n",
    "    family_tree[cnt] = {'father' : father, 'mother' : mother, 'child' : child_idx}\n",
    "    \n",
    "    if len(people.keys()) > 20: \n",
    "        people.pop(list(people.keys())[0])\n",
    "        \n",
    "    \n",
    "    cnt += 1\n",
    "    if cnt > 1e+4: break"
   ]
  },
  {
   "cell_type": "code",
   "execution_count": 6,
   "id": "e22f4bb4-49df-44b4-bfc5-9835fa22de80",
   "metadata": {},
   "outputs": [],
   "source": [
    "family_df = pd.DataFrame(family_tree).T\n",
    "family_df = pd.DataFrame(family_df)"
   ]
  },
  {
   "cell_type": "code",
   "execution_count": 7,
   "id": "e223e615-e832-4465-9d7d-49fdffbb7066",
   "metadata": {},
   "outputs": [
    {
     "data": {
      "text/plain": [
       "['335446.749867844',\n",
       " '94370.4',\n",
       " '4.0',\n",
       " '26432.0',\n",
       " '4.0',\n",
       " '2.8',\n",
       " '3',\n",
       " '11331.0',\n",
       " '65535',\n",
       " 'M']"
      ]
     },
     "execution_count": 7,
     "metadata": {},
     "output_type": "execute_result"
    }
   ],
   "source": [
    "people[list(people.keys())[-1]]"
   ]
  },
  {
   "cell_type": "code",
   "execution_count": null,
   "id": "64082ba7-d9ee-4f3c-8fd9-b417b2c8d77c",
   "metadata": {},
   "outputs": [],
   "source": []
  }
 ],
 "metadata": {
  "kernelspec": {
   "display_name": "dove",
   "language": "python",
   "name": "dove"
  },
  "language_info": {
   "codemirror_mode": {
    "name": "ipython",
    "version": 3
   },
   "file_extension": ".py",
   "mimetype": "text/x-python",
   "name": "python",
   "nbconvert_exporter": "python",
   "pygments_lexer": "ipython3",
   "version": "3.8.13"
  }
 },
 "nbformat": 4,
 "nbformat_minor": 5
}
