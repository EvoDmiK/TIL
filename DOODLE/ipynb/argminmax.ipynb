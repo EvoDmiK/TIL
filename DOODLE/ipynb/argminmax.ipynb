{
 "cells": [
  {
   "cell_type": "code",
   "execution_count": 1,
   "id": "5857b616-2a20-4dfb-9963-ce6d36594f2d",
   "metadata": {},
   "outputs": [
    {
     "name": "stdout",
     "output_type": "stream",
     "text": [
      "argmax1 : 4\n",
      "argmin1 : 1\n",
      "\n",
      "argmax2 : 4\n",
      "argmin2 : 1\n"
     ]
    }
   ],
   "source": [
    "spam   = [2, 0, 5, 9, 17, 4, 7, 8, 10]\n",
    "egg    = lambda i : spam[i]\n",
    "\n",
    "argmax = max(range(len(spam)), key = egg)\n",
    "argmin = min(range(len(spam)), key = egg)\n",
    "\n",
    "print(f'argmax1 : {argmax}')\n",
    "print(f'argmin1 : {argmin}\\n')\n",
    "\n",
    "argmax = spam.index(max(spam))\n",
    "argmin = spam.index(min(spam))\n",
    "\n",
    "print(f'argmax2 : {argmax}')\n",
    "print(f'argmin2 : {argmin}')"
   ]
  },
  {
   "cell_type": "code",
   "execution_count": 2,
   "id": "d9c5b232-8336-46da-bb56-b7978f775237",
   "metadata": {},
   "outputs": [
    {
     "name": "stdout",
     "output_type": "stream",
     "text": [
      "1.48 µs ± 12 ns per loop (mean ± std. dev. of 7 runs, 1,000,000 loops each)\n"
     ]
    }
   ],
   "source": [
    "%%timeit\n",
    "spam.index(max(spam))"
   ]
  },
  {
   "cell_type": "code",
   "execution_count": 3,
   "id": "b07867e2-4cb6-4b3e-84c4-de7be6906fde",
   "metadata": {},
   "outputs": [
    {
     "name": "stdout",
     "output_type": "stream",
     "text": [
      "4.9 µs ± 2.31 ns per loop (mean ± std. dev. of 7 runs, 100,000 loops each)\n"
     ]
    }
   ],
   "source": [
    "%%timeit\n",
    "max(range(len(spam)), key = egg)"
   ]
  },
  {
   "cell_type": "code",
   "execution_count": 4,
   "id": "5fe84598-2821-421f-a19c-c413bb232606",
   "metadata": {},
   "outputs": [
    {
     "name": "stdout",
     "output_type": "stream",
     "text": [
      "1.27 µs ± 3.55 ns per loop (mean ± std. dev. of 7 runs, 1,000,000 loops each)\n"
     ]
    }
   ],
   "source": [
    "%%timeit\n",
    "spam.index(min(spam))"
   ]
  },
  {
   "cell_type": "code",
   "execution_count": 5,
   "id": "ac583748-4d14-4b21-9f02-4103a0ed3e48",
   "metadata": {},
   "outputs": [
    {
     "name": "stdout",
     "output_type": "stream",
     "text": [
      "4.75 µs ± 6.44 ns per loop (mean ± std. dev. of 7 runs, 100,000 loops each)\n"
     ]
    }
   ],
   "source": [
    "%%timeit\n",
    "min(range(len(spam)), key = egg)"
   ]
  },
  {
   "cell_type": "code",
   "execution_count": 6,
   "id": "104c264d-79aa-4a5e-a673-50688a5e40bc",
   "metadata": {},
   "outputs": [],
   "source": [
    "def arg_minmax_k(seq, k = 2, minmax = 'max'):\n",
    "    \n",
    "    idx_dict = {v : idx for idx, v in enumerate(seq)}\n",
    "    \n",
    "\n",
    "    if minmax == 'max':\n",
    "        seq = sorted(seq, reverse = True)[:k]\n",
    "\n",
    "    elif minmax == 'min':\n",
    "        seq = sorted(seq)[:k]\n",
    "                                                      \n",
    "    return [idx_dict[v] for v in seq]\n",
    "              "
   ]
  },
  {
   "cell_type": "code",
   "execution_count": 7,
   "id": "d763c854-788f-4de9-98b7-aff58a62b700",
   "metadata": {},
   "outputs": [
    {
     "data": {
      "text/plain": [
       "[4, 8]"
      ]
     },
     "execution_count": 7,
     "metadata": {},
     "output_type": "execute_result"
    }
   ],
   "source": [
    "argmax_5 = arg_minmax_k(spam)\n",
    "argmax_5"
   ]
  },
  {
   "cell_type": "code",
   "execution_count": 8,
   "id": "c60d9dc0-40dd-4385-9e9a-32c71944fa41",
   "metadata": {},
   "outputs": [
    {
     "name": "stdout",
     "output_type": "stream",
     "text": [
      "10.2 µs ± 20.3 ns per loop (mean ± std. dev. of 7 runs, 100,000 loops each)\n"
     ]
    }
   ],
   "source": [
    "%%timeit\n",
    "argmax_5 = arg_minmax_k(spam)"
   ]
  },
  {
   "cell_type": "code",
   "execution_count": 9,
   "id": "aa801928-9a33-4a0a-8698-417274b52d4a",
   "metadata": {},
   "outputs": [
    {
     "data": {
      "text/plain": [
       "[1, 0]"
      ]
     },
     "execution_count": 9,
     "metadata": {},
     "output_type": "execute_result"
    }
   ],
   "source": [
    "argmin_5 = arg_minmax_k(spam, minmax = 'min')\n",
    "argmin_5"
   ]
  },
  {
   "cell_type": "code",
   "execution_count": 10,
   "id": "421b49e3-8298-4bbd-8881-987c79b8fa06",
   "metadata": {},
   "outputs": [
    {
     "name": "stdout",
     "output_type": "stream",
     "text": [
      "9.52 µs ± 16 ns per loop (mean ± std. dev. of 7 runs, 100,000 loops each)\n"
     ]
    }
   ],
   "source": [
    "%%timeit\n",
    "argmin_5 = arg_minmax_k(spam, minmax = 'min')"
   ]
  },
  {
   "cell_type": "code",
   "execution_count": null,
   "id": "eaf09309-9e8c-431e-920b-22017650626e",
   "metadata": {},
   "outputs": [],
   "source": []
  }
 ],
 "metadata": {
  "kernelspec": {
   "display_name": "dove",
   "language": "python",
   "name": "dove"
  },
  "language_info": {
   "codemirror_mode": {
    "name": "ipython",
    "version": 3
   },
   "file_extension": ".py",
   "mimetype": "text/x-python",
   "name": "python",
   "nbconvert_exporter": "python",
   "pygments_lexer": "ipython3",
   "version": "3.8.13"
  }
 },
 "nbformat": 4,
 "nbformat_minor": 5
}
