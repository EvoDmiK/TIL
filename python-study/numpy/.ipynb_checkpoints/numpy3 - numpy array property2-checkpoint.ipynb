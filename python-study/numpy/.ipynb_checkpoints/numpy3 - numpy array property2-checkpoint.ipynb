{
 "cells": [
  {
   "cell_type": "markdown",
   "id": "ded3e50e-aba6-4dc4-98ca-fb18a9c1458e",
   "metadata": {},
   "source": [
    "## 0 .참고 자료¶  \n",
    "### 0.1 도서\n",
    "- O'REILLY 제이크 밴더플래스 저 / 위키북스 김정인 역 - 파이썬 데이터 사이언스 핸드북"
   ]
  },
  {
   "cell_type": "code",
   "execution_count": 2,
   "id": "a18a3bdd-492b-44b1-9489-4f87d690adc9",
   "metadata": {},
   "outputs": [],
   "source": [
    "import numpy as np\n",
    "import time\n",
    "\n",
    "x = np.arange(4)"
   ]
  },
  {
   "cell_type": "markdown",
   "id": "e3c35450-7848-4004-9f7e-8d0d6542806e",
   "metadata": {},
   "source": [
    "## 1. numpy array의 산술 연산"
   ]
  },
  {
   "cell_type": "code",
   "execution_count": 3,
   "id": "f24c1072-02fa-4d46-823f-583138be7e9b",
   "metadata": {},
   "outputs": [
    {
     "name": "stdout",
     "output_type": "stream",
     "text": [
      "original array            :     [0 1 2 3]\n",
      "additive inverse of array :     [ 0 -1 -2 -3] \n",
      "\n",
      "x + 5                     :     [5 6 7 8]\n",
      "x - 5                     :     [-5 -4 -3 -2]\n",
      "x * 2                     :     [0 2 4 6]\n",
      "x / 2                     :     [0.  0.5 1.  1.5]\n",
      "x // 2                    :     [0 0 1 1]\n",
      "x % 2                     :     [0 1 0 1]\n",
      "x^2                       :     [0 1 4 9] \n",
      "\n",
      "CPU times: user 3.47 ms, sys: 0 ns, total: 3.47 ms\n",
      "Wall time: 3.02 ms\n"
     ]
    }
   ],
   "source": [
    "%%time\n",
    "start = time.time()\n",
    "\n",
    "print(f'original array            :     {x}')\n",
    "print(f'additive inverse of array :     {-x} \\n')\n",
    "print(f'x + 5                     :     {x+5}')\n",
    "print(f'x - 5                     :     {x-5}')\n",
    "print(f'x * 2                     :     {x*2}')\n",
    "print(f'x / 2                     :     {x/2}')\n",
    "print(f'x // 2                    :     {x//2}')\n",
    "print(f'x % 2                     :     {x%2}')\n",
    "print(f'x^2                       :     {x**2} \\n')"
   ]
  },
  {
   "cell_type": "markdown",
   "id": "6509d9ac-b964-4f45-ab41-8a233c4ea971",
   "metadata": {},
   "source": [
    "## 2. ufuncs (Universal functions)\n",
    "- numpy 배열의 연산을 빠르게 만들어 주는 핵심은 벡터화 연산을 사용하는 것인데, 일반적으로 ufuncs를 통해 구현된다.\n",
    "- sin(x), cos(x) 등 다양한 수학 함수를 제공한다.\n",
    "- ufuncs에는 단일 입력값에 동작하는 단항 ufuncs, 두 개의 입력값에 동작하는 이항 ufuncs가 있다."
   ]
  },
  {
   "cell_type": "markdown",
   "id": "3d951763-cb8a-4bbd-962c-8b735bec3c4d",
   "metadata": {},
   "source": [
    "### 2-1. 산술연산 ufuncs"
   ]
  },
  {
   "cell_type": "code",
   "execution_count": 6,
   "id": "6fd01589-3171-4e57-bdde-4d82eb7f09b8",
   "metadata": {},
   "outputs": [
    {
     "name": "stdout",
     "output_type": "stream",
     "text": [
      "original array            :     [0 1 2 3]\n",
      "additive inverse of array :     [ 0 -1 -2 -3]\n",
      "\n",
      "x + 5                     :     [5 6 7 8]\n",
      "x - 5                     :     [-5 -4 -3 -2]\n",
      "x * 2                     :     [0 2 4 6]\n",
      "x / 2                     :     [0.  0.5 1.  1.5]\n",
      "x // 2                    :     [0 0 1 1]\n",
      "x % 2                     :     [0 1 0 1]\n",
      "x^2                       :     [0 1 4 9] \n",
      "\n",
      "CPU times: user 3.19 ms, sys: 190 µs, total: 3.38 ms\n",
      "Wall time: 2.89 ms\n"
     ]
    }
   ],
   "source": [
    "%%time\n",
    "start = time.time()\n",
    "\n",
    "print(f'original array            :     {x}')\n",
    "print(f'additive inverse of array :     {-x}\\n')\n",
    "print(f'x + 5                     :     {np.add(x, 5)}')\n",
    "print(f'x - 5                     :     {np.subtract(x, 5)}')\n",
    "print(f'x * 2                     :     {np.multiply(x, 2)}')\n",
    "print(f'x / 2                     :     {np.divide(x, 2)}')\n",
    "print(f'x // 2                    :     {np.floor_divide(x, 2)}')\n",
    "print(f'x % 2                     :     {np.mod(x, 2)}')\n",
    "print(f'x^2                       :     {np.power(x, 2)} \\n')"
   ]
  },
  {
   "cell_type": "markdown",
   "id": "e2b87dd1-9814-4cad-94bf-5e3321c07f67",
   "metadata": {},
   "source": [
    "### 2-2. 삼각, 역삼각함수 ufuncs"
   ]
  },
  {
   "cell_type": "code",
   "execution_count": 7,
   "id": "25982b19-a3fd-45de-9e93-636f9e635eed",
   "metadata": {},
   "outputs": [
    {
     "name": "stdout",
     "output_type": "stream",
     "text": [
      "theta array    : [0.         1.57079633 3.14159265]\n",
      "Sine thetas    : [0.0000000e+00 1.0000000e+00 1.2246468e-16]\n",
      "Cosine thetas  : [ 1.000000e+00  6.123234e-17 -1.000000e+00]\n",
      "Tangent thetas : [ 0.00000000e+00  1.63312394e+16 -1.22464680e-16]\n",
      "\n",
      "x values   : [-1, 0, 1]\n",
      "Arcsine    : [-1.57079633  0.          1.57079633]\n",
      "Arccosine  : [3.14159265 1.57079633 0.        ]\n",
      "Arctangent : [-0.78539816  0.          0.78539816]\n"
     ]
    }
   ],
   "source": [
    "## theta값으로 0 ~ pi까지 균등하게 3개의 원소로 구성된 배열을 만듦\n",
    "thetas = np.linspace(0, np.pi, 3)\n",
    "\n",
    "print(f'theta array    : {thetas}')\n",
    "print(f'Sine thetas    : {np.sin(thetas)}')\n",
    "print(f'Cosine thetas  : {np.cos(thetas)}')\n",
    "print(f'Tangent thetas : {np.tan(thetas)}\\n')\n",
    "\n",
    "x = [-1, 0, 1]\n",
    "print(f'x values   : {x}')\n",
    "print(f'Arcsine    : {np.arcsin(x)}')\n",
    "print(f'Arccosine  : {np.arccos(x)}')\n",
    "print(f'Arctangent : {np.arctan(x)}')"
   ]
  },
  {
   "cell_type": "markdown",
   "id": "1b97219c-2072-4073-8a27-947ddde909e3",
   "metadata": {},
   "source": [
    "### 2-3. 지수, 로그함수 ufuncs"
   ]
  },
  {
   "cell_type": "code",
   "execution_count": 8,
   "id": "55eeba63-f20c-4909-a6ef-921f0ebd0f2b",
   "metadata": {},
   "outputs": [
    {
     "name": "stdout",
     "output_type": "stream",
     "text": [
      "original array : [1, 2, 3]\n",
      "e^x            : [ 2.71828183  7.3890561  20.08553692]\n",
      "2^x            : [2. 4. 8.]\n",
      "3^x            : [ 3  9 27] \n",
      "\n",
      "original array : [1, 2, 4, 10]\n",
      "ln(x)          : [0.         0.69314718 1.38629436 2.30258509]\n",
      "log2(x)        : [0.         1.         2.         3.32192809]\n",
      "log10(x)       : [0.         0.30103    0.60205999 1.        ] \n",
      "\n",
      "original array : [0, 0.001, 0.01, 0.1]\n",
      "exp(x) -1      : [0.         0.0010005  0.01005017 0.10517092]\n",
      "log(x+1)       : [0.         0.0009995  0.00995033 0.09531018]\n"
     ]
    }
   ],
   "source": [
    "## 지수함수\n",
    "x = [1, 2, 3]\n",
    "print(f'original array : {x}')\n",
    "print(f'e^x            : {np.exp(x)}')\n",
    "print(f'2^x            : {np.exp2(x)}')\n",
    "print(f'3^x            : {np.power(3, x)} \\n')\n",
    "\n",
    "## 로그함수\n",
    "x = [1, 2, 4, 10]\n",
    "print(f'original array : {x}')\n",
    "print(f'ln(x)          : {np.log(x)}')\n",
    "print(f'log2(x)        : {np.log2(x)}')\n",
    "print(f'log10(x)       : {np.log10(x)} \\n')\n",
    "\n",
    "## 매우 작은 입력값의 정확도 유지\n",
    "## 딥러닝 연산시 가끔 분모값이 0이 되는 경우가 있는데, 이런 경우를 방지하기 위함.\n",
    "x = [0, 0.001, 0.01, 0.1]\n",
    "print(f'original array : {x}')\n",
    "print(f'exp(x) -1      : {np.expm1(x)}')\n",
    "print(f'log(x+1)       : {np.log1p(x)}')"
   ]
  },
  {
   "cell_type": "markdown",
   "id": "41e3e88c-ca56-4d1d-af09-88e6600a6b5b",
   "metadata": {},
   "source": [
    "### 2-4. 집계함수"
   ]
  },
  {
   "cell_type": "markdown",
   "id": "2f8388c1-558d-4e58-90b3-e92479da64d4",
   "metadata": {},
   "source": [
    "|함수|NaN 무시|설명|\n",
    "|:---:|:---:|:---:|\n",
    "|np.sum|np.nansum|요소의 합 계산|\n",
    "|np.prod|np.nanprod|요소의 곱 계산|\n",
    "|np.mean|np.nanmean|요소의 평균 계산|\n",
    "|np.std|np.nanstd|요소의 표준편차 계산|\n",
    "|np.var|np.nanvar|요소의 분산 계산|\n",
    "|np.min|np.nanmin|최솟값 계산|\n",
    "|np.max|np.nanmax|최댓값 계산|\n",
    "|np.argmain|np.nanargmin|최솟값의 인덱스 찾기|\n",
    "|np.argmax|np.nanargmax|최댓값의 인덱스 찾기|\n",
    "|np.median|np.nanmedian|요소의 중앙값 계산|\n",
    "|np.percentile|np.nanpercentile|요소의 백분의 수 계산|\n",
    "|np.any|-|요소 중 참이 있는지 검사|\n",
    "|np.all|-|모든 요소가 참인지 검사|"
   ]
  },
  {
   "cell_type": "code",
   "execution_count": 15,
   "id": "0e9c008a-17e0-4866-9dc9-6c8d32581b0f",
   "metadata": {},
   "outputs": [
    {
     "name": "stdout",
     "output_type": "stream",
     "text": [
      "original array          : [1 2 3 4 5]\n",
      "sum of all element      : 15\n",
      "sum of all element2     : 15\n",
      "multiple of all element : 120\n",
      "add accumulate x        : [ 1  3  6 10 15]\n",
      "multiple accumulate x   : [  1   2   6  24 120]\n",
      "outer products x        : \n",
      "[[ 1  2  3  4  5]\n",
      " [ 2  4  6  8 10]\n",
      " [ 3  6  9 12 15]\n",
      " [ 4  8 12 16 20]\n",
      " [ 5 10 15 20 25]]\n"
     ]
    }
   ],
   "source": [
    "x = np.arange(1, 6)\n",
    "print(f'original array          : {x}')\n",
    "print(f'sum of all element      : {np.add.reduce(x)}')\n",
    "print(f'sum of all element2     : {np.sum(x)}')\n",
    "print(f'multiple of all element : {np.multiply.reduce(x)}')\n",
    "print(f'add accumulate x        : {np.add.accumulate(x)}')\n",
    "print(f'multiple accumulate x   : {np.multiply.accumulatnpe(x)}')\n",
    "print(f'outer products x        : \\n{np.multiply.outer(x, x)}')"
   ]
  },
  {
   "cell_type": "code",
   "execution_count": 22,
   "id": "90f44a29-305b-4210-a347-64c3531993c6",
   "metadata": {},
   "outputs": [
    {
     "name": "stdout",
     "output_type": "stream",
     "text": [
      "elapsed time of sum and np.sum\n",
      "67.9 ms ± 844 µs per loop (mean ± std. dev. of 7 runs, 10 loops each)\n",
      "392 µs ± 259 ns per loop (mean ± std. dev. of 7 runs, 1,000 loops each)\n",
      "\n",
      "\n",
      "elapsed time of  min and np.min\n",
      "53.2 ms ± 126 µs per loop (mean ± std. dev. of 7 runs, 10 loops each)\n",
      "380 µs ± 115 ns per loop (mean ± std. dev. of 7 runs, 1,000 loops each)\n",
      "\n",
      "\n",
      "elapsed time of  max and np.max\n",
      "52.7 ms ± 124 µs per loop (mean ± std. dev. of 7 runs, 10 loops each)\n",
      "381 µs ± 316 ns per loop (mean ± std. dev. of 7 runs, 1,000 loops each)\n"
     ]
    }
   ],
   "source": [
    "big_array = np.random.rand(1000000)\n",
    "\n",
    "## 크기가 큰 배열에서의 sum 메소드와 ufuncs의 배열 합 동작시간 비교\n",
    "print('elapsed time of sum and np.sum')\n",
    "%timeit sum(big_array)\n",
    "%timeit np.sum(big_array)\n",
    "print('\\n')\n",
    "\n",
    "print('elapsed time of  min and np.min')\n",
    "%timeit min(big_array)\n",
    "%timeit np.min(big_array)\n",
    "print('\\n')\n",
    "\n",
    "print('elapsed time of  max and np.max')\n",
    "%timeit max(big_array)\n",
    "%timeit np.max(big_array)"
   ]
  },
  {
   "cell_type": "markdown",
   "id": "cf9c6d5b-0e36-4486-9b4a-ac92ef2610c5",
   "metadata": {},
   "source": []
  }
 ],
 "metadata": {
  "kernelspec": {
   "display_name": "Python 3 (ipykernel)",
   "language": "python",
   "name": "python3"
  },
  "language_info": {
   "codemirror_mode": {
    "name": "ipython",
    "version": 3
   },
   "file_extension": ".py",
   "mimetype": "text/x-python",
   "name": "python",
   "nbconvert_exporter": "python",
   "pygments_lexer": "ipython3",
   "version": "3.9.10"
  }
 },
 "nbformat": 4,
 "nbformat_minor": 5
}
