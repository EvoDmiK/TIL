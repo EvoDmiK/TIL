{
 "cells": [
  {
   "cell_type": "code",
   "execution_count": 1,
   "id": "4636c614-d7b5-4aff-93c3-ab184c59cc67",
   "metadata": {},
   "outputs": [],
   "source": [
    "import json\n",
    "import os\n",
    "\n",
    "from easydict import EasyDict as edict\n",
    "from PyKakao import Message\n",
    "import requests as req"
   ]
  },
  {
   "cell_type": "code",
   "execution_count": 2,
   "id": "b0e35f1d-d9b9-42b0-bf4e-a6208b26c6db",
   "metadata": {},
   "outputs": [],
   "source": [
    "ROOT_PATH   = '/'.join(os.getcwd().split(os.path.sep)[:-3])\n",
    "CONFIG_PATH = f'{ROOT_PATH}/utils/configs/config.json'\n",
    "CONFIG      = edict(json.loads(open(CONFIG_PATH, 'r').read()))\n",
    "AUTH        = CONFIG.kakao_auth\n",
    "KEY         = CONFIG.kakao"
   ]
  },
  {
   "cell_type": "code",
   "execution_count": 3,
   "id": "ba14aebf-9179-42da-b1d9-65b3b764664c",
   "metadata": {},
   "outputs": [],
   "source": [
    "MSG         = Message(service_key = KEY)\n",
    "MSG.headers = {'Authorization' : AUTH}"
   ]
  },
  {
   "cell_type": "code",
   "execution_count": 4,
   "id": "ffe1816e-79cb-4e69-8097-34088b3ce2fd",
   "metadata": {},
   "outputs": [
    {
     "name": "stdout",
     "output_type": "stream",
     "text": [
      "메시지 전송 성공\n"
     ]
    }
   ],
   "source": [
    "text = \"안녕~\"\n",
    "link = {\n",
    "            \"web_url\" : \"https://developers.kakao.com\",\n",
    "            \"mobile_web_url\" : \"https://developers.kakao.com\"\n",
    "        } \n",
    "\n",
    "button_title = \"확인\"\n",
    "MSG.send_text(text = text, link = {}, button_title = button_title)"
   ]
  },
  {
   "cell_type": "code",
   "execution_count": 5,
   "id": "33fbcd03-95c9-4005-85e8-1bf521d8804d",
   "metadata": {},
   "outputs": [
    {
     "data": {
      "text/plain": [
       "{'msg': 'insufficient scopes.',\n",
       " 'code': -402,\n",
       " 'api_type': 'FRIENDS',\n",
       " 'required_scopes': ['friends'],\n",
       " 'allowed_scopes': ['account_email', 'talk_message', 'profile_nickname']}"
      ]
     },
     "execution_count": 5,
     "metadata": {},
     "output_type": "execute_result"
    }
   ],
   "source": [
    "url_ = 'https://kapi.kakao.com/v1/api/talk/friends'\n",
    "res  = req.get(url_, headers =  MSG.headers)\n",
    "res.json()"
   ]
  },
  {
   "cell_type": "code",
   "execution_count": null,
   "id": "61eebd85-b6c7-4818-afb7-13606a545b7b",
   "metadata": {},
   "outputs": [],
   "source": []
  }
 ],
 "metadata": {
  "kernelspec": {
   "display_name": "dove",
   "language": "python",
   "name": "dove"
  },
  "language_info": {
   "codemirror_mode": {
    "name": "ipython",
    "version": 3
   },
   "file_extension": ".py",
   "mimetype": "text/x-python",
   "name": "python",
   "nbconvert_exporter": "python",
   "pygments_lexer": "ipython3",
   "version": "3.8.13"
  }
 },
 "nbformat": 4,
 "nbformat_minor": 5
}
