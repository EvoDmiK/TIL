{
 "cells": [
  {
   "cell_type": "code",
   "execution_count": 1,
   "id": "84989c90-5341-48a6-93b1-0c18a9b0ab74",
   "metadata": {},
   "outputs": [],
   "source": [
    "import matplotlib.pyplot as plt\n",
    "import math as mt\n",
    "import time"
   ]
  },
  {
   "cell_type": "code",
   "execution_count": 2,
   "id": "40a7506d-dc2e-447c-a740-5bebbb78c686",
   "metadata": {},
   "outputs": [],
   "source": [
    "time_spent = {'for_loop'       : {},\n",
    "              'dict_loop'      : {},\n",
    "               'set_loop'      : {},\n",
    "               'comprehension' : {}}\n"
   ]
  },
  {
   "cell_type": "code",
   "execution_count": 3,
   "id": "acbdd034-fb4b-4c68-9bb1-b01260c7b592",
   "metadata": {},
   "outputs": [],
   "source": [
    "already  = [range(10), range(100), range(1000), range(10000), range(100000),\n",
    "           range(10000000)]\n",
    "\n",
    "compare  = [range(5, 15), range(50, 150), range(500, 1500), \n",
    "            range(5000,15000), range(50000, 150000), range(500000,1500000)]\n",
    "\n",
    "num_elem = [10, 100, 1000, 10000, 100000, 1000000] "
   ]
  },
  {
   "cell_type": "code",
   "execution_count": 4,
   "id": "9d1d13a0-a28e-4704-ab3d-27be1c4a0418",
   "metadata": {},
   "outputs": [],
   "source": [
    "for comp, alr, num in zip(compare, already, num_elem):\n",
    "    \n",
    "    b = []\n",
    "    start = time.time()\n",
    "    for c in comp:\n",
    "        if not c in alr: b.append(c)\n",
    "    time_spent['for_loop'][num] = time.time() - start\n",
    "        "
   ]
  },
  {
   "cell_type": "code",
   "execution_count": 12,
   "id": "415f5765-5b0f-47a0-9938-a2da346c5a57",
   "metadata": {},
   "outputs": [],
   "source": [
    "for comp, alr, num in zip(compare, already, num_elem):\n",
    "    \n",
    "    comp, alr = set(comp), set(alr)\n",
    "    start = time.time()\n",
    "    b     = comp - alr\n",
    "    time_spent['set_loop'][num] = time.time() - start"
   ]
  },
  {
   "cell_type": "code",
   "execution_count": 27,
   "id": "e0f28a11-6c82-4b21-9973-0e86e2af860b",
   "metadata": {},
   "outputs": [],
   "source": [
    "from imutils.paths import list_files"
   ]
  },
  {
   "cell_type": "code",
   "execution_count": 33,
   "id": "4042b5f9-f551-4e73-beff-9996d557ceeb",
   "metadata": {},
   "outputs": [
    {
     "data": {
      "text/plain": [
       "0.29593920707702637"
      ]
     },
     "execution_count": 33,
     "metadata": {},
     "output_type": "execute_result"
    }
   ],
   "source": [
    "start = time.time()\n",
    "a = list(list_files('../../../DoveNest/steam/jsons'))\n",
    "a = []\n",
    "time.time() - start"
   ]
  },
  {
   "cell_type": "code",
   "execution_count": null,
   "id": "036c7ab3-5f60-497f-9ba0-a13f99778685",
   "metadata": {},
   "outputs": [],
   "source": []
  }
 ],
 "metadata": {
  "kernelspec": {
   "display_name": "dove",
   "language": "python",
   "name": "dove"
  },
  "language_info": {
   "codemirror_mode": {
    "name": "ipython",
    "version": 3
   },
   "file_extension": ".py",
   "mimetype": "text/x-python",
   "name": "python",
   "nbconvert_exporter": "python",
   "pygments_lexer": "ipython3",
   "version": "3.8.13"
  }
 },
 "nbformat": 4,
 "nbformat_minor": 5
}
