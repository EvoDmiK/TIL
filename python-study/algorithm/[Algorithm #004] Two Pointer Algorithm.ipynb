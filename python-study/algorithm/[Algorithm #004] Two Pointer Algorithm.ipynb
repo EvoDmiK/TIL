{
 "cells": [
  {
   "cell_type": "markdown",
   "id": "6f4b8196-a082-46c8-b830-a21a6f25d88a",
   "metadata": {},
   "source": [
    "1. 시작점과 끝점이 첫 원소의 인덱스를 가르키도록 한다.  \n",
    "2. 현재 부분합이 M과 같다면 카운트 한다.\n",
    "3. 부분합 <  M이면,  끝점의 인덱스를 1 증가시킨다.\n",
    "4. 부분합 >= M이면, 시작점의 인덱스를 1 증가시킨다.\n",
    "5. 모든 경우를 확인 할 때까지 2 ~ 4를 반복한다."
   ]
  },
  {
   "cell_type": "code",
   "execution_count": 1,
   "id": "a934e027-ed2e-424a-ac2b-65b3f27a17e5",
   "metadata": {},
   "outputs": [],
   "source": [
    "interval_sum = 0\n",
    "cnt, end     = 0, 0\n",
    "n, m         = 5, 5\n",
    "data         = [idx for idx in range(1, 6)]"
   ]
  },
  {
   "cell_type": "code",
   "execution_count": 2,
   "id": "6139ee25-93a2-4092-8790-143038ec70c8",
   "metadata": {},
   "outputs": [
    {
     "name": "stdout",
     "output_type": "stream",
     "text": [
      "0 1 1\n",
      "0 2 3\n",
      "0 3 6\n",
      "0 3 5\n",
      "1 3 3\n",
      "2 4 7\n",
      "2 4 4\n",
      "3 5 9\n",
      "3 5 5\n",
      "4 5 0\n"
     ]
    }
   ],
   "source": [
    "for start in range(n):\n",
    "    \n",
    "    while (interval_sum < m) and end < n:\n",
    "        \n",
    "        interval_sum += data[end]\n",
    "        end          += 1\n",
    "        print(start, end, interval_sum)\n",
    "        \n",
    "    if interval_sum == m: cnt += 1\n",
    "    interval_sum    -= data[start]\n",
    "    print(start, end, interval_sum)"
   ]
  },
  {
   "cell_type": "markdown",
   "id": "ca37291d-8932-4afc-8b9f-9bc326512305",
   "metadata": {
    "tags": []
   },
   "source": [
    "### Q.1. [백준. 2003.] 수들의 합2"
   ]
  },
  {
   "cell_type": "code",
   "execution_count": 3,
   "id": "8c8a7137-6dc7-4951-8c08-27ef82f0cb00",
   "metadata": {},
   "outputs": [],
   "source": [
    "def solution(N, M, array):\n",
    "    \n",
    "    end, cnt = 0, 0 \n",
    "    part_sum = 0\n",
    "    \n",
    "    for start in range(N):\n",
    "        \n",
    "        while (part_sum < M) and (end < N):\n",
    "            \n",
    "            part_sum += array[end]\n",
    "            end      += 1\n",
    "        \n",
    "        if part_sum == M: cnt += 1\n",
    "        part_sum    -= array[start]\n",
    "    \n",
    "    return cnt"
   ]
  },
  {
   "cell_type": "code",
   "execution_count": 4,
   "id": "98510710-26e9-4c47-8b21-58e5775f3791",
   "metadata": {},
   "outputs": [
    {
     "name": "stdout",
     "output_type": "stream",
     "text": [
      "solution 1 : 3\n"
     ]
    }
   ],
   "source": [
    "N1, M1 = 4, 2\n",
    "array1 = [1, 1, 1, 1]\n",
    "\n",
    "print(f'solution 1 : {solution(N1, M1, array1)}')"
   ]
  },
  {
   "cell_type": "code",
   "execution_count": 5,
   "id": "6c1da187-10e8-4ca0-885b-36e6e25576ca",
   "metadata": {},
   "outputs": [
    {
     "name": "stdout",
     "output_type": "stream",
     "text": [
      "solution 2: 3\n"
     ]
    }
   ],
   "source": [
    "N2, M2 = 10, 5\n",
    "array2 = [1, 2, 3, 4, 2, 5, 3, 1, 1, 2]\n",
    "\n",
    "print(f'solution 2: {solution(N2, M2, array2)}')"
   ]
  },
  {
   "cell_type": "code",
   "execution_count": null,
   "id": "43027e4b-fe34-4244-b55b-fbf72765fa43",
   "metadata": {},
   "outputs": [],
   "source": []
  }
 ],
 "metadata": {
  "kernelspec": {
   "display_name": "dove",
   "language": "python",
   "name": "dove"
  },
  "language_info": {
   "codemirror_mode": {
    "name": "ipython",
    "version": 3
   },
   "file_extension": ".py",
   "mimetype": "text/x-python",
   "name": "python",
   "nbconvert_exporter": "python",
   "pygments_lexer": "ipython3",
   "version": "3.8.13"
  }
 },
 "nbformat": 4,
 "nbformat_minor": 5
}
