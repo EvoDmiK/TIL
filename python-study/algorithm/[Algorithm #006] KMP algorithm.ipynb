{
 "cells": [
  {
   "cell_type": "markdown",
   "id": "4f9ba495-f69a-4c7c-b3b0-8300f04695ba",
   "metadata": {},
   "source": [
    "- Degenerate pattern\n",
    "    - 어떤 패턴에 작은 패턴이 한 번 이상 반복되는 현상.\n",
    "    e.g.) 문자열 'ABABAB'에서 'AB'가 반복되는데, 이러한 경우를 Degenerate pattern이라 한다.\n",
    "- LPS (Longest proper prefix which is suffix)  \n",
    "  e.g.) 'ABXAB'에서의 접두사 (prefix)는 'A', 'AB', 'ABX', 'ABXA'이고,  \n",
    "         접미사 (suffix)는 'B', 'AB', 'XAB', 'BXAB'이다.  \n",
    "       - 이중에서 접두사와 접미사가 같은 경우는 'AB'가 되는데, LPS는 접두사와 접미사가 같은 경우 중 길이가 가장 긴 경우를 말한다."
   ]
  },
  {
   "cell_type": "code",
   "execution_count": 1,
   "id": "43edee9f-5dd5-4ff3-abd5-d5756922d59e",
   "metadata": {},
   "outputs": [],
   "source": [
    "def compute_lps(pattern, lps):\n",
    "\n",
    "    ## lps의 첫 번째 인덱스 값은 0이므로, idx는 1부터 시작한다.\n",
    "    length, idx = 0, 1\n",
    "    while idx < len(pattern):\n",
    "\n",
    "        if pat[idx] == pat[length]:\n",
    "            length   += 1\n",
    "            lps[idx]  = length\n",
    "            idx      += 1\n",
    "\n",
    "\n",
    "        else:\n",
    "            if length != 0: length = lps[length - 1]\n",
    "            else:\n",
    "                lps[idx]  = 0 \n",
    "                idx      += 1"
   ]
  },
  {
   "cell_type": "code",
   "execution_count": null,
   "id": "f7b41015-b71c-44f3-8d7a-661ab3ae5ee8",
   "metadata": {},
   "outputs": [],
   "source": []
  }
 ],
 "metadata": {
  "kernelspec": {
   "display_name": "DS",
   "language": "python",
   "name": "ds"
  },
  "language_info": {
   "codemirror_mode": {
    "name": "ipython",
    "version": 3
   },
   "file_extension": ".py",
   "mimetype": "text/x-python",
   "name": "python",
   "nbconvert_exporter": "python",
   "pygments_lexer": "ipython3",
   "version": "3.11.5"
  }
 },
 "nbformat": 4,
 "nbformat_minor": 5
}
