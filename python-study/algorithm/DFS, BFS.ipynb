{
 "cells": [
  {
   "cell_type": "markdown",
   "id": "b245cb3e-4ea7-4ce5-8f6b-941fd2522927",
   "metadata": {},
   "source": [
    "# **0. 참고자료**  \n",
    "****\n",
    "## 0-1. 도서  \n",
    "한빛미디어 | 나동빈 저 - 이것이 취업을 위한 코딩 테스트다 with 파이썬\n",
    "\n",
    "## 0-2. 논문, 학술지\n",
    "\n",
    "## 0-3. 웹 사이트"
   ]
  },
  {
   "cell_type": "markdown",
   "id": "20559f72-1c72-4ffa-a2a0-a10d5c17f1c8",
   "metadata": {},
   "source": [
    "# **1. DFS, BFS**\n",
    "****\n",
    "→ **탐색 (Search)** | 많은 양의 데이터 중에서 원하는 데이터를 찾는 과정  \n",
    "→ 대표적인 탐색 알고리즘으로 **DFS, BFS**를 꼽을 수 있는데 이 두 알고리즘을 제대로 이해해야 탐색 문제 유형을 풀 수 있다.  \n",
    "→ **DFS, BFS**를 제대로 이해하기 위해선 기본 자료구조인 스택과 큐에 대한 이해가 전제되어야 한다."
   ]
  },
  {
   "cell_type": "markdown",
   "id": "b3fbc1e1-f681-4da5-963b-1e66d40edb23",
   "metadata": {},
   "source": [
    "→ **자료 구조(Data Structure)** | 데이터를 표현하고 관리하고 처리하기 위한 구조  \n",
    "→ **스택 (Stack), 큐(Queue)** 라는 자료구조는 **삽입(Push), 삭제(Pop)** 함수로 구성된다.  \n",
    "\n",
    "→ **오버플로 (Overflow)** | 특정 자료구조가 수용할 수 있는 데이터의 크기가 가득 찬 상태에서 삽입 연산을 수행하면 발생  \n",
    "→ **언더플로 (Underflow)** | 특정 자료구조에 데이터가 없는 상태에서 삭제 연산을 수행하면 발생\n",
    "****\n",
    "\n",
    "## **1-1. 스택 (Stack)**\n",
    "****\n",
    "→ **선입후출 (First In Last Out | FILO)** 혹은 **후입선출 (Last In First Out | LIFO)** 특징을 갖는 자료구조  \n",
    "**(!) FILO | 처음 입력된 데이터가 제일 마지막에 삭제됨.**\n",
    "\n",
    "→ 파이썬에선 **리스트**가 대표적인 스택 자료구조임.\n",
    "****"
   ]
  },
  {
   "cell_type": "code",
   "execution_count": 6,
   "id": "320661d4-3643-459a-86a9-7b736ebbd311",
   "metadata": {},
   "outputs": [
    {
     "name": "stdout",
     "output_type": "stream",
     "text": [
      "1.  [5]\n",
      "2.  [5, 2]\n",
      "3.  [5, 2, 3]\n",
      "4.  [5, 2, 3, 7]\n",
      "5.  [5, 2, 3]\n",
      "6.  [5, 2, 3, 1]\n",
      "7.  [5, 2, 3, 1, 4]\n",
      "8.  [5, 2, 3, 1]\n"
     ]
    }
   ],
   "source": [
    "stack = []\n",
    "\n",
    "## 삼입 - 삽입 - 삽입 - 삽입 - 삭제 - 삽입 - 삽입 - 삭제 과정을 거침.\n",
    "stack.append(5)\n",
    "print('1. ', stack)\n",
    "\n",
    "stack.append(2)\n",
    "print('2. ', stack)\n",
    "\n",
    "stack.append(3)\n",
    "print('3. ', stack)\n",
    "\n",
    "stack.append(7)\n",
    "print('4. ', stack)\n",
    "\n",
    "stack.pop()\n",
    "print('5. ', stack)\n",
    "\n",
    "stack.append(1)\n",
    "print('6. ', stack)\n",
    "\n",
    "stack.append(4)\n",
    "print('7. ', stack)\n",
    "\n",
    "stack.pop()\n",
    "print('8. ', stack)"
   ]
  },
  {
   "cell_type": "markdown",
   "id": "7f9ff472-60f0-47d9-bb68-45fe9e5d07fc",
   "metadata": {},
   "source": [
    "## **1-2. 큐 (Queue)**\n",
    "****\n",
    "→ **선입선출 (First In First Out | FIFO)** 혹은 **후입후출 (Last In Last Out | LILO)** 특징을 갖는 자료구조  \n",
    "**(!) FIFO | 처음 입력된 데이터가 제일 처음 삭제됨.**\n",
    "\n",
    "→ 파이썬에선 **queue.Queue, collections.deque**가 대표적인 큐 자료구조임.  \n",
    "**(!) collections.deque는 스택과 큐의 장점을 모두 채택하였고, 리스트에 비해 데이터를 넣고 빼는 속도가 빠름.**  \n",
    "**(!) collections.deque는 queue 라이브러리를 이용하는 것보다 더 간단함.**"
   ]
  },
  {
   "cell_type": "code",
   "execution_count": 8,
   "id": "75ba9155-ece5-4971-99c1-f2f17396b28a",
   "metadata": {},
   "outputs": [
    {
     "name": "stdout",
     "output_type": "stream",
     "text": [
      "1.  deque([5])\n",
      "2.  deque([5, 2])\n",
      "3.  deque([5, 2, 3])\n",
      "4.  deque([5, 2, 3, 7])\n",
      "5.  deque([2, 3, 7])\n",
      "6.  deque([2, 3, 7, 1])\n",
      "7.  deque([2, 3, 7, 1, 4])\n",
      "8.  deque([3, 7, 1, 4])\n"
     ]
    }
   ],
   "source": [
    "from collections import deque\n",
    "q = deque()\n",
    "\n",
    "## 삼입 - 삽입 - 삽입 - 삽입 - 삭제 - 삽입 - 삽입 - 삭제 과정을 거침.\n",
    "q.append(5)\n",
    "print('1. ', q)\n",
    "\n",
    "q.append(2)\n",
    "print('2. ', q)\n",
    "\n",
    "q.append(3)\n",
    "print('3. ', q)\n",
    "\n",
    "q.append(7)\n",
    "print('4. ', q)\n",
    "\n",
    "q.popleft()\n",
    "print('5. ', q)\n",
    "\n",
    "q.append(1)\n",
    "print('6. ', q)\n",
    "\n",
    "q.append(4)\n",
    "print('7. ', q)\n",
    "\n",
    "q.popleft()\n",
    "print('8. ', q)"
   ]
  },
  {
   "cell_type": "markdown",
   "id": "c38daca8-b0db-4c05-95fe-0b57bd406ccc",
   "metadata": {},
   "source": [
    "## **1-3. 재귀함수 (Recursive Function)**\n",
    "****\n",
    "→ 자기 자신을 다시 호출하는 함수  \n",
    "**(!) 파이썬 인터프리터에는 호출 횟수에 제한이 있어 이 한계를 벗어나면 에러가 발생한다.**  \n",
    "**(!) 재귀적(Recursive)과 대비되는 요어는 반복적(iterative)이다.**  \n",
    "→ 대표적인 재귀함수로는 **팩토리얼을 구하는 함수**가 있다.\n",
    "\n",
    "**(!) 재귀 함수가 반복적 함수보다 코드가 간결한데, 수학의 점화식을 그대로 소스코드로 옮기기 때문이다.**  "
   ]
  },
  {
   "cell_type": "code",
   "execution_count": 13,
   "id": "ee1ecdf6-20c1-47a9-a4c9-1413ce64f7e7",
   "metadata": {},
   "outputs": [
    {
     "data": {
      "text/plain": [
       "120"
      ]
     },
     "execution_count": 13,
     "metadata": {},
     "output_type": "execute_result"
    }
   ],
   "source": [
    "## 반복문을 통한 팩토리얼\n",
    "def factorial_with_iter(n):\n",
    "    \n",
    "    factorial = 1\n",
    "    for idx in range(n): factorial *= (idx + 1)\n",
    "    \n",
    "    return factorial\n",
    "\n",
    "factorial_with_iter(5)"
   ]
  },
  {
   "cell_type": "code",
   "execution_count": 12,
   "id": "1ec62e69-15fc-49a5-a8fd-e489b3caf76c",
   "metadata": {},
   "outputs": [
    {
     "data": {
      "text/plain": [
       "120"
      ]
     },
     "execution_count": 12,
     "metadata": {},
     "output_type": "execute_result"
    }
   ],
   "source": [
    "## 재귀함수를 통한 팩토리얼\n",
    "def factorial_with_recur(n):\n",
    "    if n <= 1: return 1\n",
    "    return n*factorial_with_recur(n-1)\n",
    "\n",
    "factorial_with_recur(5)"
   ]
  },
  {
   "cell_type": "markdown",
   "id": "73b346d9-00ec-4810-9e55-09e622decada",
   "metadata": {},
   "source": [
    "## **1-4. DFS (Depth-First Search | 깊이 우선 탐색)**\n",
    "****\n",
    "→ 그래프에서 깊은 부분을 우선적으로 탐색하는 알고리즘.  \n",
    "→ 그래프는 **노드 (Node)**와 **간선 (Edge)** 로 표현되며 노드를 **정점 (Vertex)** 라고도 말한다.  \n",
    "→ **그래프 탐색** | 하나의 노드를 시작으로 다수의 노드를 방문하는 것  \n",
    "**(!) 두 노드가 간선으로 연결되어 있다면 두 노드는 인접(Adjacent)하다 라고 표현한다.**  \n",
    "\n",
    "→ **인접 행렬 (Adjacency Matrix)** |  \n",
    "   (1) 2차원 배열로 그래프의 연결 관계를 표현하는 방식  \n",
    "   (2) 2차원 배열에 각 노드가 연결된 형태로 기록하는 방식\n",
    "   \n",
    "→ **인접 리스트 (Adjacency List)** |  \n",
    "  (1) 리스트로 그래프의 연결 관계를 표현하는 방식  \n",
    "  (2) 모든 노드에 연결된 노드에 대한 정보를 차례로 연결하여 저장하는 방식  \n",
    "  \n",
    "**(!) 연결되어 있지 않은 노드끼리는 무한의 비용이라고 작성한다.**"
   ]
  },
  {
   "cell_type": "code",
   "execution_count": 16,
   "id": "2724282d-7f90-4d58-a0d7-484281a3f82c",
   "metadata": {},
   "outputs": [
    {
     "data": {
      "text/html": [
       "<div>\n",
       "<style scoped>\n",
       "    .dataframe tbody tr th:only-of-type {\n",
       "        vertical-align: middle;\n",
       "    }\n",
       "\n",
       "    .dataframe tbody tr th {\n",
       "        vertical-align: top;\n",
       "    }\n",
       "\n",
       "    .dataframe thead th {\n",
       "        text-align: right;\n",
       "    }\n",
       "</style>\n",
       "<table border=\"1\" class=\"dataframe\">\n",
       "  <thead>\n",
       "    <tr style=\"text-align: right;\">\n",
       "      <th></th>\n",
       "      <th>0</th>\n",
       "      <th>1</th>\n",
       "      <th>2</th>\n",
       "    </tr>\n",
       "  </thead>\n",
       "  <tbody>\n",
       "    <tr>\n",
       "      <th>0</th>\n",
       "      <td>0</td>\n",
       "      <td>7</td>\n",
       "      <td>5</td>\n",
       "    </tr>\n",
       "    <tr>\n",
       "      <th>1</th>\n",
       "      <td>7</td>\n",
       "      <td>0</td>\n",
       "      <td>999999999</td>\n",
       "    </tr>\n",
       "    <tr>\n",
       "      <th>2</th>\n",
       "      <td>5</td>\n",
       "      <td>999999999</td>\n",
       "      <td>0</td>\n",
       "    </tr>\n",
       "  </tbody>\n",
       "</table>\n",
       "</div>"
      ],
      "text/plain": [
       "   0          1          2\n",
       "0  0          7          5\n",
       "1  7          0  999999999\n",
       "2  5  999999999          0"
      ]
     },
     "execution_count": 16,
     "metadata": {},
     "output_type": "execute_result"
    }
   ],
   "source": [
    "import pandas as pd\n",
    "## 인접행렬 예제\n",
    "\n",
    "## 무한 비용 정의\n",
    "INF = 999999999\n",
    "\n",
    "## 2차원 리스트를 이용해 인접 행렬 표현\n",
    "graph = [\n",
    "    [0, 7, 5], [7, 0, INF], [5, INF, 0]\n",
    "]\n",
    "\n",
    "## 0과 1, 2는 연결되어 있고, 1과 2는 연결되어 있지 않은 그래프구조\n",
    "graph = pd.DataFrame(graph)\n",
    "graph"
   ]
  },
  {
   "cell_type": "code",
   "execution_count": 17,
   "id": "b8145fd0-64be-4c0a-aef2-fd67ca94f9d2",
   "metadata": {},
   "outputs": [
    {
     "name": "stdout",
     "output_type": "stream",
     "text": [
      "[[(1, 7), (2, 5)], [(0, 7)], [(0, 5)]]\n"
     ]
    }
   ],
   "source": [
    "## 인접리스트 예제\n",
    "\n",
    "## 행(Row)이 3개인 2차원 리스트로 인접 리스트 표현\n",
    "graph = [[] for _ in range(3)]\n",
    "\n",
    "graph[0].append((1, 7))\n",
    "graph[0].append((2, 5))\n",
    "\n",
    "graph[1].append((0, 7))\n",
    "\n",
    "graph[2].append((0, 5))\n",
    "\n",
    "print(graph)"
   ]
  },
  {
   "cell_type": "markdown",
   "id": "1fabc284-6511-4c14-847b-2d5c521a31a8",
   "metadata": {},
   "source": [
    "#### **(!) 인접 행렬 방식은 모든 관계를 저장하므로 노드 개수가 많을 수록 메모리가 불필요하게 낭비된다.**  \n",
    "#### **(!) 인접 리스트 방식은 특정 두 노드가 연결되어 있는지에 대한 정보를 얻는 속도가 느리다.**  \n",
    "\n",
    "DFS는 **스택** 자료구조를 이용하며 구체적인 동작과정은 다음과 같다.  \n",
    "(1) 탐색 시작 노드를 스택에 삽입하고 방문 처리를 한다.  \n",
    "(2) 스택의 최상단 노드에 방문하지 않은 인접 노드가 있으면 그 인접 노드를 스택에 넣고 방문처리 한다.  \n",
    "&nbsp;&nbsp;&nbsp;&nbsp;&nbsp;방문하지 않는 인접 노드가 없는 경우는 스택에서 최상단 노드를 꺼낸다.  \n",
    "(3) (2)번의 과정을 더 이상 수행할 수 없을 때까지 반복한다.  \n",
    "\n",
    "**(!) 방문처리는 스택에 삽입되어 처리된 노드가 다시 삽입되지 않게 체크하는 것을 의미한다.**  \n",
    "**(!) 방문처리를 함으로써 각 노드를 한 번씩만 처리할 수 있음.**  \n",
    "**(!) DFS는 순서와 상관없이 처리해도 되지만 관행적으로 번호가 낮은 순서부터 처리한다.**"
   ]
  },
  {
   "cell_type": "code",
   "execution_count": 21,
   "id": "c6f7671b-821c-496f-9364-6f8225ee6695",
   "metadata": {},
   "outputs": [
    {
     "name": "stdout",
     "output_type": "stream",
     "text": [
      "1 2 7 6 8 3 4 5 "
     ]
    }
   ],
   "source": [
    "## DFS 예제\n",
    "\n",
    "def dfs(graph, v, visited):\n",
    "    \n",
    "    ## 현재 노드를 방문처리\n",
    "    visited[v] = True\n",
    "    print(v, end = ' ')\n",
    "    ## 현재 노드와 연결된 다른 노드를 재귀적으로 방문\n",
    "    for node in graph[v]:\n",
    "        if not visited[node]: dfs(graph, node, visited)\n",
    "        \n",
    "graph = [\n",
    "    [],         ## 노드가 1부터 시작하여 맞추기 위해 빈 리스트를 첫 번째로 지정해 둠.\n",
    "    [2, 3, 8],  ## 노드 1 | 노드(2, 3, 8)이랑 연결\n",
    "    [1, 7],     ## 노드 2 | 노드(1, 7)이랑 연결\n",
    "    [1, 4, 5],  ## 노드 3 | 노드(1, 4, 5)랑 연결\n",
    "    [3, 5],     ## 노드 4 | 노드(3, 5)랑 연결\n",
    "    [3, 4],     ## 노드 5 | 노드(3, 4)랑 연결\n",
    "    [7],        ## 노드 6 | 노드 7이랑 연결\n",
    "    [2, 6, 8],  ## 노드 7 | 노드(2, 6, 8)이랑 연결\n",
    "    [1, 7]      ## 노드 2 | 노드(1, 7)이랑 연결\n",
    "]\n",
    "\n",
    "## 노드별 방문 처리 여부 | 방문 → True, 방문 안함 → False \n",
    "visited = [False] * len(graph) \n",
    "dfs(graph, 1, visited)"
   ]
  },
  {
   "cell_type": "code",
   "execution_count": null,
   "id": "cbd82dd9-c02f-4a3a-991a-7d8d15a35ffd",
   "metadata": {},
   "outputs": [],
   "source": []
  }
 ],
 "metadata": {
  "kernelspec": {
   "display_name": "bio",
   "language": "python",
   "name": "bio"
  },
  "language_info": {
   "codemirror_mode": {
    "name": "ipython",
    "version": 3
   },
   "file_extension": ".py",
   "mimetype": "text/x-python",
   "name": "python",
   "nbconvert_exporter": "python",
   "pygments_lexer": "ipython3",
   "version": "3.9.12"
  }
 },
 "nbformat": 4,
 "nbformat_minor": 5
}
