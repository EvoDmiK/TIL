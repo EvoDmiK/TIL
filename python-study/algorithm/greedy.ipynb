{
 "cells": [
  {
   "cell_type": "markdown",
   "id": "b1f36f02-ab02-43ff-8043-1abb7f7438fc",
   "metadata": {},
   "source": [
    "# **0. 참고자료**  \n",
    "## 0-1. 도서  \n",
    "한빛미디어 | 나동빈 저 - 이것이 취업을 위한 코딩 테스트다 with 파이썬\n",
    "\n",
    "## 0-2. 논문, 학술지\n",
    "\n",
    "## 0-3. 웹 사이트"
   ]
  },
  {
   "cell_type": "markdown",
   "id": "2cd55421-1be2-45a7-953f-cf4dde87fc3e",
   "metadata": {},
   "source": [
    "# **1. 그리디(Greedy) 알고리즘**\n",
    "→ 어떤 문제가 있을 때 단순 무식하게, 탐욕적으로 푸는 알고리즘.  \n",
    "&nbsp;&nbsp;&nbsp; ( * 탐욕적 | 현재 상황에서 지금 당장 좋은 것만 고르는 방법 )  \n",
    "→ 현재의 선택이 나중에 미칠 영향에 대해서 고려하지 않음.  \n",
    "→ 자주 정렬 알고리즘과 짝을 이뤄 출제 된다."
   ]
  },
  {
   "cell_type": "markdown",
   "id": "fd8d1812-adb3-421d-a2de-391811e6e2c3",
   "metadata": {},
   "source": [
    "### **e.g.1) 거스름돈**  \n",
    "당신은 음식점의 계산을 도와주는 점원이다. 카운터에는 거스름돈으로 사용할 500원, 100원, 50원, 10짜리 동전이 무한히 존재한다고 가정한다.  \n",
    "손님에게 거슬러 줘야 할 돈이 N원일 때 거슬러 줘야 할 동전의 최소 개수를 구하여라.  (단, 거슬러 줘야 할 돈 N은 항상 10의 배수이다.)"
   ]
  },
  {
   "cell_type": "markdown",
   "id": "48fd03ce-3e5a-4a50-a903-1ac839b9de89",
   "metadata": {},
   "source": [
    "### **문제 해설**  \n",
    "→ '가장 큰 화폐 단위'부터 돈을 거슬러 준다.   \n",
    "&nbsp;&nbsp;&nbsp;&nbsp;즉, 500원 부터 거슬러 줄 수 있을 만큼 거슬러 준 후, 100원, 50원, 10원 차례대로 거슬러준다."
   ]
  },
  {
   "cell_type": "code",
   "execution_count": 3,
   "id": "b8c234c7-3987-48d3-a0f9-022d59a9c456",
   "metadata": {},
   "outputs": [
    {
     "name": "stdout",
     "output_type": "stream",
     "text": [
      "coin : 500, change : 260 (cnt | 2)\n",
      "coin : 100, change : 60 (cnt | 4)\n",
      "coin : 50, change : 10 (cnt | 5)\n",
      "coin : 10, change : 0 (cnt | 6)\n",
      "\n",
      "count : 6\n"
     ]
    }
   ],
   "source": [
    "coins = [500, 100, 50, 10]\n",
    "\n",
    "## 화폐의 종류가 K개라고 할때 아래 함수의 시간 복잡도는 O(K)이다.\n",
    "## 아래 함수의 시간 복잡도는 동전의 총 종류에만 영향을 받고, 거슬러 줘야하는 금액의 크기와는 무관하다.\n",
    "\n",
    "def change_count(change):\n",
    "    cnt = 0\n",
    "    \n",
    "    for coin in coins:\n",
    "        cnt += change // coin\n",
    "        change %= coin\n",
    "        \n",
    "        print(f'coin : {coin}, change : {change} (cnt | {cnt})')\n",
    "        \n",
    "    return cnt\n",
    "\n",
    "print(f'\\ncount : {change_count(1260)}')"
   ]
  },
  {
   "cell_type": "markdown",
   "id": "95a5cf2c-33b9-4c0c-9a31-20f495e20bea",
   "metadata": {},
   "source": [
    "### **e.g.2) 큰 수의 법칙**  \n",
    "나동빈 님의 큰 수의 법칙은 다양한 수로 이루어진 배열이 있을때 주어진 수들을 M번 더하여 가장 큰 수를 만드는 법칙이다.  \n",
    "단, 배열의 특정한 인덱스에 해당하는 수가 연속해서 K번을 초과하여 더해질 수 없는 것이 이 법칙의 특징이다.  \n",
    "\n",
    "예를 들어 [2, 4, 5, 4, 6]으로 이루어진 배열이 있을 때 M: 8, K: 3이라 가정했을 때,  \n",
    "특정한 인덱스의 수가 연속해서 3번 까지만 더해질 수 있으므로 큰 수의 법칙에 따른 결과 6+6+6+5+6+6+6+5인 46이 된다.\n",
    "\n",
    "**단, 서로 다른 인덱스에 해당하는 수가 같은 경우에도 서로 다른 것으로 간주한다.**\n",
    "예를 들어 [3, 4, 3, 4, 3]으로 이루어진 배열이 있을 때 M : 7, K : 2라 가정했을 때,  \n",
    "두 번째 원소에 해당하는 4와 네 번째 원소에 해당하는 4를 번갈아 두 번씩 더하는 것이 가능하다.  \n",
    "이 경우 큰 수의 법칙에 따른 결과 4+4+4+4+4+4+4인 28이 된다. \n",
    "\n",
    "배열의 크기 N, 숫자가 더해지는 횟수 M, 그리고 K가 주어질 때 나동빈 님의 큰 수의 법칙에 따른 결과를 출력하시오."
   ]
  },
  {
   "cell_type": "markdown",
   "id": "f415de02-1b20-430e-a177-039d1889eed6",
   "metadata": {},
   "source": [
    "### **1. 입력 조건**\n",
    "1. 첫째 줄에 N (2 <= N <= 1,000), M (1 <= M <= 1,000), K(1 <= K <= 10,1000)의 자연수가 주어지며, 각 자연수는 공백으로 구분한다.\n",
    "2. 둘째 줄에 N새의 자연수가 주어진다. 각 자연수는 공백으로 구분한다.  \n",
    "&nbsp;&nbsp;**단, 각각의 자연수는 1이상 10,000이하의 수로 주어진다.**  \n",
    "3. 입력으로 주어지는 K는 항상 M보다 작거나 같다.\n",
    "\n",
    "### **2. 출력 조건**\n",
    "1. 첫째 줄에 나동빈 님의 큰 수의 법칙에 따라 더해진 답을 출력한다.\n",
    "\n",
    "### **입력 예시**&nbsp;&nbsp;**|**&nbsp;&nbsp;**출력 예시**\n",
    "5&nbsp;&nbsp;&nbsp;8&nbsp;&nbsp;&nbsp;3&nbsp;&nbsp;&nbsp;&nbsp;&nbsp;&nbsp;&nbsp;&nbsp;&nbsp;&nbsp;&nbsp;&nbsp;&nbsp;|&nbsp;&nbsp;&nbsp;&nbsp;46  \n",
    "2&nbsp;&nbsp;&nbsp;4&nbsp;&nbsp;&nbsp;5&nbsp;&nbsp;&nbsp;4&nbsp;&nbsp;&nbsp;6&nbsp;&nbsp;&nbsp;|\n"
   ]
  },
  {
   "cell_type": "code",
   "execution_count": 23,
   "id": "cb41b01b-f284-4504-8bf2-4860e5ee4b51",
   "metadata": {},
   "outputs": [
    {
     "name": "stdout",
     "output_type": "stream",
     "text": [
      "Answer : 46\n",
      "\n",
      "CPU times: user 1 ms, sys: 0 ns, total: 1 ms\n",
      "Wall time: 246 µs\n"
     ]
    }
   ],
   "source": [
    "%%time\n",
    "def big_number(arr1, arr2):\n",
    "    \n",
    "    ## 입력받은 데이터들을 공백으로 나누어 정수형 리스트로 만듦.\n",
    "    ## M | 숫자를 더해주는 횟수\n",
    "    ## K | 인덱스 별로 연속으로 더해줄 수 있는 최대 횟수\n",
    "    _, M, K= map(int, arr1.split(' '))\n",
    "    arr2 = list(map(int, arr2.split(' ')))\n",
    "    \n",
    "    ## 입력받은 데이터를 내림차 순으로 정렬함.\n",
    "    arr2 = sorted(arr2)[::-1]\n",
    "    first, second = arr2[0], arr2[1]\n",
    "    \n",
    "    answer = 0\n",
    "    while M != 0:\n",
    "        ## 가장 큰 수 부터 K번 더해줌.\n",
    "        for _ in range(K):\n",
    "            answer += first\n",
    "            M -= 1\n",
    "        \n",
    "        ## 가장 큰 수를 K번 더해준 후에 두번째로 큰 수를 더함\n",
    "        answer += second\n",
    "        M -= 1\n",
    "    return answer\n",
    "\n",
    "print(f\"Answer : {big_number('5 8 3', '2 4 5 4 6')}\\n\")"
   ]
  },
  {
   "cell_type": "markdown",
   "id": "d1a6839c-783b-423e-ba3c-3c618bdcab22",
   "metadata": {},
   "source": [
    "#### **※ 위 함수는 M의 크기가 100억 이상일 경우에 시간 초과 판정을 받을 수 있다**\n",
    "→ 가장 큰 수와 두번째로 큰 수가 더해질 때 특정 수열 형태로 반복해서 더해지는 특징이 있다.  \n",
    "&nbsp;&nbsp;&nbsp;**(e.g.) 위 예제의 경우 [6, 6, 6, 5]가 반복적으로 반복된다.**  \n",
    "\n",
    "→ 반복되는 수열의 길이는 K+1이며, 가장 큰 수가 더해지는 횟수는 K x M / (K+1)이다.  \n",
    "&nbsp;&nbsp;&nbsp;**※ M이 K+1로 나누어지지 않는 경우 가장 큰 수가 더해지는 횟수는 int(M / (K+1)) x K + M % (K+1)이다.**"
   ]
  },
  {
   "cell_type": "code",
   "execution_count": 24,
   "id": "6f60e9c8-1a14-4e0a-a73e-75eea8aea1da",
   "metadata": {},
   "outputs": [
    {
     "name": "stdout",
     "output_type": "stream",
     "text": [
      "Answer : 46 \n",
      "\n",
      "CPU times: user 1e+03 µs, sys: 0 ns, total: 1e+03 µs\n",
      "Wall time: 616 µs\n"
     ]
    }
   ],
   "source": [
    "%%time\n",
    "def big_number_fix(arr1, arr2):\n",
    "    \n",
    "    _, M, K = map(int, arr1.split(' '))\n",
    "    arr2 = list(map(int, arr2.split(' ')))\n",
    "    arr2 = sorted(arr2)[::-1]\n",
    "    \n",
    "    first, second = arr2[0], arr2[1]\n",
    "    iter_nums = int(M / (K + 1))*K + M % (K + 1)\n",
    "    \n",
    "    answer = first*iter_nums\n",
    "    answer += (M - iter_nums)*second\n",
    "    \n",
    "    return answer\n",
    "    \n",
    "print(f\"Answer : {big_number_fix('5 8 3', '2 4 5 4 6')} \\n\")"
   ]
  },
  {
   "cell_type": "markdown",
   "id": "f8902c54-89b9-482d-b952-70eb392f63b3",
   "metadata": {},
   "source": [
    "### **e.g.3) 숫자 카드 게임**  \n",
    "여러 개의 숫자 카드 중에서 가장 높은 숫자가 쓰인 카드 한 장을 뽑는 게임이다.  \n",
    "**단, 게임의 룰을 지키며 카드를 뽑아야 하고 룰은 다음과 같다.**  \n",
    "\n",
    "(1) 숫자가 쓰인 카드들이 N x M 형태로 놓여 있다. 이때 N은 행의 개수, M은 열의 개수이다.  \n",
    "(2) 먼저 뽑고자 하는 카드가 포함되어 있는 행을 선택한다.  \n",
    "(3) 그 다음 선택된 행에 포함된 카드들 중 숫자가 가장 숫자가 낮은 카드를 뽑아야 한다.  \n",
    "(4) 처음에 카드를 골라낼 행을 선택할 때, 이후에 해당 행에서 가장 숫자가 낮은 카드를 뽑을 것을 고려하여  \n",
    "&nbsp;&nbsp;&nbsp;&nbsp;최종적으로 가장 높은 숫자의 카드를 뽑을 수 있는 전략을 세워야 한다."
   ]
  },
  {
   "cell_type": "markdown",
   "id": "34168e46-b2eb-4829-bb4a-9753d2c59778",
   "metadata": {},
   "source": [
    "### **1. 입력 조건**\n",
    "1. 첫째 줄에 숫자 카드들이 놓인 행의 갯수 N과 열의 개수 M이 공백을 기준으로 하여 각각 자연수로 주어진다. (1<=N, M<=100)  \n",
    "2. 둘째 줄부터 N개의 줄에 걸쳐 각 카드에 적힌 숫자가 주어진다.  &nbsp;&nbsp;**각 숫자는 1이상 10,000이하의 자연수이다.**  \n",
    "\n",
    "### **2. 출력 조건**\n",
    "1. 첫째 줄에 게임의 룰에 맞게 선택한 카드에 적힌 숫자를 출력한다.\n",
    "\n",
    "### **입력 예시**&nbsp;&nbsp;**|**&nbsp;&nbsp;**출력 예시**\n",
    "3  3 &nbsp;&nbsp;&nbsp;&nbsp;|  &nbsp;2  \n",
    "3  1  2 &nbsp;|  \n",
    "4  1  4 &nbsp;|  \n",
    "2  2  2 &nbsp;|  "
   ]
  },
  {
   "cell_type": "code",
   "execution_count": 25,
   "id": "17239344-3ec1-47be-9d0b-07d989d9c3cc",
   "metadata": {},
   "outputs": [
    {
     "name": "stdout",
     "output_type": "stream",
     "text": [
      "answer 1: 2\n",
      "answer 2: 3\n",
      "\n",
      "CPU times: user 1 ms, sys: 0 ns, total: 1 ms\n",
      "Wall time: 631 µs\n"
     ]
    }
   ],
   "source": [
    "%%time\n",
    "def card_game(size, datas):\n",
    "    \n",
    "    h, w = map(int, size.split())\n",
    "    datas = datas.split('\\n')\n",
    "    datas = [list(map(int, data.split())) for data in datas]\n",
    "    \n",
    "    answer = 0\n",
    "    for data in datas:\n",
    "        minimum = min(data)\n",
    "        answer = max(answer, minimum)\n",
    "    return answer\n",
    "\n",
    "answer1 = card_game('3 3', '3 1 2\\n4 1 4\\n2 2 2')\n",
    "answer2 = card_game('2 4', '7 3 1 8\\n3 3 3 4')\n",
    "                    \n",
    "print(f'answer 1: {answer1}')\n",
    "print(f'answer 2: {answer2}\\n')\n",
    "    "
   ]
  },
  {
   "cell_type": "markdown",
   "id": "a5af3bf1-8360-47aa-83fa-521675a52d18",
   "metadata": {},
   "source": [
    "### **e.g.4) 1이 될 때까지**\n",
    "어떠한 수 N이 1이 될 때까지 다음의 두 과정 중 하나를 반복적으로 선택하여 수행하려고 한다.  \n",
    "**단, 두 번째 연산은 N이 K로 나누어떨어질 때만 선택할 수 있다.**\n",
    "\n",
    "N과 K가 주어질 때 1이 될 때까지 1번 혹은 2번의 과정을 수행해야 하는  \n",
    "최소 횟수를 구하는 프로그램을 작성하시오."
   ]
  },
  {
   "cell_type": "markdown",
   "id": "1ee59472-90d5-4596-b120-ca1f65838df5",
   "metadata": {},
   "source": [
    "### **1. 입력 조건**\n",
    "1. 첫째 줄에 N(2 <= N <= 100,000)과 K(2 <= K <= 100,000)가  공백으로 구분되며 각각 자연수로 주어진다.    \n",
    "&nbsp;&nbsp;**이때 입력으로 주어지는 N은 항상 K보다 크거나 같다.**   \n",
    "\n",
    "### **2. 출력 조건**\n",
    "1. 줄에 N이 1이 될 때까지 1번 혹은 2번의 과정을 수행해야 하는 횟수의  \n",
    "   최솟값을 출력한다.\n",
    "\n",
    "### **입력 예시**&nbsp;&nbsp;**|**&nbsp;&nbsp;**출력 예시**\n",
    "&nbsp;25  5 &nbsp;&nbsp;&nbsp;&nbsp;|  &nbsp;2  \n"
   ]
  },
  {
   "cell_type": "code",
   "execution_count": 33,
   "id": "7697780c-1479-4405-9137-c595477f37db",
   "metadata": {},
   "outputs": [
    {
     "name": "stdout",
     "output_type": "stream",
     "text": [
      "answer1 : 3\n",
      "answer2 : 2\n",
      "answer3 : 6\n",
      "\n",
      "CPU times: user 0 ns, sys: 0 ns, total: 0 ns\n",
      "Wall time: 257 µs\n"
     ]
    }
   ],
   "source": [
    "%%time\n",
    "def until_one(string):\n",
    "    n, k = map(int, string.split())\n",
    "    answer = 0\n",
    "    \n",
    "    while 1:\n",
    "        answer += 1\n",
    "        \n",
    "        if n % k == 0: n //= k\n",
    "        else: n -=1\n",
    "        \n",
    "        if n == 1: break\n",
    "        \n",
    "    return answer\n",
    "\n",
    "answer1 = until_one('17 4')\n",
    "answer2 = until_one('25 5')\n",
    "answer3 = until_one('25 3')\n",
    "\n",
    "print(f'answer1 : {answer1}')\n",
    "print(f'answer2 : {answer2}')\n",
    "print(f'answer3 : {answer3}\\n')"
   ]
  },
  {
   "cell_type": "code",
   "execution_count": null,
   "id": "7746fec7-d28f-4cfc-a607-3862a91ea123",
   "metadata": {},
   "outputs": [],
   "source": []
  }
 ],
 "metadata": {
  "kernelspec": {
   "display_name": "bio",
   "language": "python",
   "name": "bio"
  },
  "language_info": {
   "codemirror_mode": {
    "name": "ipython",
    "version": 3
   },
   "file_extension": ".py",
   "mimetype": "text/x-python",
   "name": "python",
   "nbconvert_exporter": "python",
   "pygments_lexer": "ipython3",
   "version": "3.9.12"
  }
 },
 "nbformat": 4,
 "nbformat_minor": 5
}
