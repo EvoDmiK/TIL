{
 "cells": [
  {
   "cell_type": "markdown",
   "id": "450abb79-e9e5-4eba-b1e3-8ab114be297b",
   "metadata": {},
   "source": [
    "### P.#1."
   ]
  },
  {
   "cell_type": "code",
   "execution_count": 1,
   "id": "d31d9d86-18da-47b0-a7c6-87a64615ab95",
   "metadata": {},
   "outputs": [
    {
     "name": "stdin",
     "output_type": "stream",
     "text": [
      " 5 3\n",
      " 5 4 3 2 1\n"
     ]
    }
   ],
   "source": [
    "N, M  = list(map(int, input().split()))\n",
    "array = list(map(int, input().split())) "
   ]
  },
  {
   "cell_type": "code",
   "execution_count": 2,
   "id": "d0a1301a-dd47-4f02-8983-843e3c82ca41",
   "metadata": {},
   "outputs": [
    {
     "data": {
      "text/plain": [
       "[0, 5, 9, 12, 14, 15]"
      ]
     },
     "execution_count": 2,
     "metadata": {},
     "output_type": "execute_result"
    }
   ],
   "source": [
    "sum_array = [0] * (N + 1)\n",
    "for idx in range(N):\n",
    "    sum_array[idx + 1] = sum_array[idx] + array[idx]\n",
    "    \n",
    "sum_array"
   ]
  },
  {
   "cell_type": "code",
   "execution_count": 3,
   "id": "29dd2453-5d72-45e9-a9c0-5fa573de1864",
   "metadata": {},
   "outputs": [
    {
     "name": "stdin",
     "output_type": "stream",
     "text": [
      " 1 3\n",
      " 2 4\n",
      " 5 5\n"
     ]
    }
   ],
   "source": [
    "partial = [list(map(int, input().split())) for _ in range(M)]"
   ]
  },
  {
   "cell_type": "code",
   "execution_count": 4,
   "id": "0d202701-b56d-4796-9a44-2270df767358",
   "metadata": {},
   "outputs": [
    {
     "name": "stdout",
     "output_type": "stream",
     "text": [
      "12\n",
      "9\n",
      "1\n"
     ]
    }
   ],
   "source": [
    "for i, j in partial:\n",
    "    print(sum_array[j] - sum_array[i - 1])"
   ]
  },
  {
   "cell_type": "markdown",
   "id": "17db0019-9b5b-4e8c-9980-991956939726",
   "metadata": {},
   "source": [
    "### P.#2."
   ]
  },
  {
   "cell_type": "code",
   "execution_count": 5,
   "id": "7d9c7fba-a3c2-449e-b926-e073903373a2",
   "metadata": {},
   "outputs": [
    {
     "name": "stdin",
     "output_type": "stream",
     "text": [
      " 2 4\n",
      " 1 2\n",
      " 3 4\n"
     ]
    }
   ],
   "source": [
    "N, M  = list(map(int, input().split()))\n",
    "A     = [list(map(int, input().split())) for _ in range(N)] "
   ]
  },
  {
   "cell_type": "code",
   "execution_count": 6,
   "id": "280da058-4147-483c-8d2b-9cfc9f6432ef",
   "metadata": {},
   "outputs": [],
   "source": [
    "len_h, len_w = len(A), len(A[0])\n",
    "D            = [[0 for _ in range(len_w + 1)] for _ in range(len_h + 1)]"
   ]
  },
  {
   "cell_type": "code",
   "execution_count": 7,
   "id": "c2adb581-e02d-4100-961c-f23bc7086da1",
   "metadata": {},
   "outputs": [
    {
     "data": {
      "text/plain": [
       "[[0, 0, 0], [0, 1, 3], [0, 4, 10]]"
      ]
     },
     "execution_count": 7,
     "metadata": {},
     "output_type": "execute_result"
    }
   ],
   "source": [
    "for h in range(1, len_h + 1):\n",
    "    for w in range(1, len_w + 1):\n",
    "        D[h][w] = D[h][w - 1] + D[h - 1][w] + A[h - 1][w - 1] - D[h - 1][w - 1]\n",
    "D"
   ]
  },
  {
   "cell_type": "code",
   "execution_count": 8,
   "id": "c9b29d1b-2102-439a-a543-15dc938b0a8b",
   "metadata": {},
   "outputs": [
    {
     "name": "stdin",
     "output_type": "stream",
     "text": [
      " 1 1 1 1\n",
      " 1 2 1 2\n",
      " 2 1 2 1\n",
      " 2 2 2 2\n"
     ]
    }
   ],
   "source": [
    "coords = [list(map(int, input().split())) for _ in range(M)]"
   ]
  },
  {
   "cell_type": "code",
   "execution_count": 9,
   "id": "f7c87dbb-97ee-4169-9548-2c21142644cc",
   "metadata": {},
   "outputs": [
    {
     "name": "stdout",
     "output_type": "stream",
     "text": [
      "1\n",
      "2\n",
      "3\n",
      "4\n"
     ]
    }
   ],
   "source": [
    "for (x1, y1, x2, y2) in coords:\n",
    "    \n",
    "    print(D[x2][y2] - D[x1 - 1][y2] - D[x2][y1 -1] + D[x1 - 1][y1 - 1])"
   ]
  },
  {
   "cell_type": "markdown",
   "id": "43b9aae1-1873-4839-9803-0a6b903faa44",
   "metadata": {},
   "source": [
    "### P.#3."
   ]
  },
  {
   "cell_type": "code",
   "execution_count": null,
   "id": "0eb0aa62-79c8-4d3c-99ce-9ccac05e4141",
   "metadata": {},
   "outputs": [],
   "source": []
  }
 ],
 "metadata": {
  "kernelspec": {
   "display_name": "dove",
   "language": "python",
   "name": "dove"
  },
  "language_info": {
   "codemirror_mode": {
    "name": "ipython",
    "version": 3
   },
   "file_extension": ".py",
   "mimetype": "text/x-python",
   "name": "python",
   "nbconvert_exporter": "python",
   "pygments_lexer": "ipython3",
   "version": "3.8.13"
  }
 },
 "nbformat": 4,
 "nbformat_minor": 5
}
