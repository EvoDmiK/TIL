{
 "cells": [
  {
   "cell_type": "markdown",
   "id": "bfa358ce-9288-4561-ae1a-e751ee242638",
   "metadata": {},
   "source": [
    "- 배열 같은 자료형에서 특정 구간에 속한 원소들의 연산 (합, 최댓값, 최솟값 등)을 알아볼 때 효율적임.\n",
    "  - 누적합은 데이터가 변경 되었을 때 O(N)의 시간 복잡도를 가지지만, 세그먼트 트리는 O(log N)의 시간 복잡도를 가짐.\n",
    "  - 배열의 특정 구간에 대한 추가를 담고 있게 된다.\n",
    "- 배열을 양분하고 양분하고 양분하는 식으로 특정 구간에 속한 원소들의 연산을 구한다.\n",
    "- 세그먼트 트리는 재귀 구조를 이용해 구현된다.\n",
    "  - 주의할 점으로는 루트 노드 즉, 노드의 인덱스가 1부터 시작한다."
   ]
  },
  {
   "cell_type": "code",
   "execution_count": 1,
   "id": "9f4128ff-1fa5-4424-ab2b-fbaedabc7fcc",
   "metadata": {},
   "outputs": [
    {
     "name": "stdout",
     "output_type": "stream",
     "text": [
      "array : [1, 2, 5, 3, 9, 6, 5, 3, 2]\n"
     ]
    }
   ],
   "source": [
    "arr = [1, 2, 5, 3, 9, 6, 5, 3, 2]\n",
    "print(f'array : {arr}')\n",
    "\n",
    "## 세그먼트 트리의 길이는 넉넉하게 주었다.\n",
    "seg_tree = [0 for _ in range(4 * len(arr))]"
   ]
  },
  {
   "cell_type": "code",
   "execution_count": 2,
   "id": "9186f7d2-cc26-47b9-83d3-a2c29721d638",
   "metadata": {},
   "outputs": [],
   "source": [
    "def build(tree, node, left, right, func):\n",
    "\n",
    "    if left == right:\n",
    "        tree[node] = arr[left]\n",
    "        return tree[node]\n",
    "\n",
    "    mid        = left + (right - left) // 2\n",
    "    left_val   = build(tree,     2 * node,    left,   mid, func)\n",
    "    right_val  = build(tree, 2 * node + 1, mid + 1, right, func)\n",
    "\n",
    "    tree[node] = func(left_val, right_val)\n",
    "    return tree[node]\n",
    "\n",
    "\n",
    "def update(tree, idx, val, node, left, right, func):\n",
    "\n",
    "    if (idx < left) or (idx > right): return tree[node]\n",
    "\n",
    "    if left == right:\n",
    "        tree[node] = val\n",
    "        return tree[node]\n",
    "\n",
    "    mid        = left + (right - left) // 2\n",
    "    left_val   = update(tree, idx, val,    2 * node,    left,   mid, func)\n",
    "    right_val  = update(tree, idx, val, 2 * node +1, mid + 1, right, func)\n",
    "    \n",
    "    tree[node] = func(left_val, right_val)\n",
    "    return tree[node]\n",
    "\n",
    "\n",
    "def prefix_sum(arr):\n",
    "\n",
    "    sum_array = [0] * (len(arr) + 1)\n",
    "\n",
    "    for idx, _ in enumerate(arr):\n",
    "        sum_array[idx + 1] = sum_array[idx] + arr[idx]\n",
    "\n",
    "\n",
    "    return sum_array\n",
    "\n",
    "\n",
    "## merge 함수의 반환값에 따라 세그먼트 트리가 가지게 되는 정보가 달라진다.\n",
    "## 아래 merge_sum 함수는 구간합 정보를 갖는 트리가 만들어진다.\n",
    "merge_sum = lambda left, right: left + right\n",
    "merge_mul = lambda left, right: left * right \n",
    "merge_min = lambda left, right: min(left, right)"
   ]
  },
  {
   "cell_type": "code",
   "execution_count": 3,
   "id": "a04a7335-62f9-4922-adf0-4e450b2f68ea",
   "metadata": {},
   "outputs": [
    {
     "name": "stdout",
     "output_type": "stream",
     "text": [
      "CPU times: user 0 ns, sys: 0 ns, total: 0 ns\n",
      "Wall time: 38.4 µs\n"
     ]
    },
    {
     "data": {
      "text/plain": [
       "36"
      ]
     },
     "execution_count": 3,
     "metadata": {},
     "output_type": "execute_result"
    }
   ],
   "source": [
    "%%time\n",
    "build(seg_tree, 1, 0, len(arr) - 1, merge_sum)"
   ]
  },
  {
   "cell_type": "code",
   "execution_count": 4,
   "id": "794bdd1e-0e25-4161-adc7-9e76fe99fb7d",
   "metadata": {},
   "outputs": [
    {
     "name": "stdout",
     "output_type": "stream",
     "text": [
      "CPU times: user 0 ns, sys: 0 ns, total: 0 ns\n",
      "Wall time: 33.1 µs\n"
     ]
    },
    {
     "data": {
      "text/plain": [
       "[0, 1, 3, 8, 11, 20, 26, 31, 34, 36]"
      ]
     },
     "execution_count": 4,
     "metadata": {},
     "output_type": "execute_result"
    }
   ],
   "source": [
    "%%time\n",
    "prefix_sum(arr)"
   ]
  },
  {
   "cell_type": "code",
   "execution_count": 5,
   "id": "15b3ddbc-9836-4f04-a042-d726a129e8bf",
   "metadata": {},
   "outputs": [
    {
     "name": "stdout",
     "output_type": "stream",
     "text": [
      "segment tree root node              : 36\n",
      "segment tree left, right node       : 20 16\n",
      "segment tree left left, right node  : 8 12\n",
      "segment tree right left, right node : 11 5\n"
     ]
    }
   ],
   "source": [
    "build(seg_tree, 1, 0, len(arr) - 1, merge_sum)\n",
    "print(f'segment tree root node              : {seg_tree[1]}')\n",
    "print(f'segment tree left, right node       : {seg_tree[2]} {seg_tree[3]}')\n",
    "print(f'segment tree left left, right node  : {seg_tree[4]} {seg_tree[5]}')\n",
    "print(f'segment tree right left, right node : {seg_tree[6]} {seg_tree[7]}')"
   ]
  },
  {
   "cell_type": "code",
   "execution_count": 6,
   "id": "aff9b019-4879-477a-8a1f-3b4976d8df53",
   "metadata": {},
   "outputs": [
    {
     "name": "stdout",
     "output_type": "stream",
     "text": [
      "segment tree root node              : 133\n",
      "segment tree left, right node       : 117 16\n",
      "segment tree left left, right node  : 8 109\n",
      "segment tree right left, right node : 11 5\n"
     ]
    }
   ],
   "source": [
    "update(seg_tree, 3, 100, 1, 0, len(arr) - 1, merge_sum)\n",
    "print(f'segment tree root node              : {seg_tree[1]}')\n",
    "print(f'segment tree left, right node       : {seg_tree[2]} {seg_tree[3]}')\n",
    "print(f'segment tree left left, right node  : {seg_tree[4]} {seg_tree[5]}')\n",
    "print(f'segment tree right left, right node : {seg_tree[6]} {seg_tree[7]}')"
   ]
  },
  {
   "cell_type": "code",
   "execution_count": 7,
   "id": "e4f7824b-bdf7-4fbf-be71-b4f9f77b04ff",
   "metadata": {},
   "outputs": [
    {
     "name": "stdout",
     "output_type": "stream",
     "text": [
      "segment tree root node              : 1\n",
      "segment tree left, right node       : 1 2\n",
      "segment tree left left, right node  : 1 3\n",
      "segment tree right left, right node : 5 2\n"
     ]
    }
   ],
   "source": [
    "build(seg_tree, 1, 0, len(arr) - 1, merge_min)\n",
    "print(f'segment tree root node              : {seg_tree[1]}')\n",
    "print(f'segment tree left, right node       : {seg_tree[2]} {seg_tree[3]}')\n",
    "print(f'segment tree left left, right node  : {seg_tree[4]} {seg_tree[5]}')\n",
    "print(f'segment tree right left, right node : {seg_tree[6]} {seg_tree[7]}')"
   ]
  },
  {
   "cell_type": "code",
   "execution_count": 8,
   "id": "79e19a5e-3f38-46a4-9163-98c1dbace171",
   "metadata": {},
   "outputs": [
    {
     "name": "stdout",
     "output_type": "stream",
     "text": [
      "segment tree root node              : -5\n",
      "segment tree left, right node       : 1 -5\n",
      "segment tree left left, right node  : 1 3\n",
      "segment tree right left, right node : -5 2\n"
     ]
    }
   ],
   "source": [
    "update(seg_tree, 5, -5, 1, 0, len(arr) - 1, merge_min)\n",
    "print(f'segment tree root node              : {seg_tree[1]}')\n",
    "print(f'segment tree left, right node       : {seg_tree[2]} {seg_tree[3]}')\n",
    "print(f'segment tree left left, right node  : {seg_tree[4]} {seg_tree[5]}')\n",
    "print(f'segment tree right left, right node : {seg_tree[6]} {seg_tree[7]}')"
   ]
  },
  {
   "cell_type": "code",
   "execution_count": 9,
   "id": "cd96c1d1-78da-4872-a26c-8206d1126295",
   "metadata": {},
   "outputs": [
    {
     "name": "stdout",
     "output_type": "stream",
     "text": [
      "segment tree root node              : 48600\n",
      "segment tree left, right node       : 270 180\n",
      "segment tree left left, right node  : 10 27\n",
      "segment tree right left, right node : 30 6\n"
     ]
    }
   ],
   "source": [
    "build(seg_tree, 1, 0, len(arr) - 1, merge_mul)\n",
    "print(f'segment tree root node              : {seg_tree[1]}')\n",
    "print(f'segment tree left, right node       : {seg_tree[2]} {seg_tree[3]}')\n",
    "print(f'segment tree left left, right node  : {seg_tree[4]} {seg_tree[5]}')\n",
    "print(f'segment tree right left, right node : {seg_tree[6]} {seg_tree[7]}')"
   ]
  },
  {
   "cell_type": "code",
   "execution_count": 10,
   "id": "9050344e-f632-4590-98f9-f2bb09acf860",
   "metadata": {},
   "outputs": [
    {
     "name": "stdout",
     "output_type": "stream",
     "text": [
      "segment tree root node              : 29160\n",
      "segment tree left, right node       : 162 180\n",
      "segment tree left left, right node  : 6 27\n",
      "segment tree right left, right node : 30 6\n"
     ]
    }
   ],
   "source": [
    "update(seg_tree, 2, 3, 1, 0, len(arr) - 1, merge_mul)\n",
    "print(f'segment tree root node              : {seg_tree[1]}')\n",
    "print(f'segment tree left, right node       : {seg_tree[2]} {seg_tree[3]}')\n",
    "print(f'segment tree left left, right node  : {seg_tree[4]} {seg_tree[5]}')\n",
    "print(f'segment tree right left, right node : {seg_tree[6]} {seg_tree[7]}')"
   ]
  }
 ],
 "metadata": {
  "kernelspec": {
   "display_name": "DS",
   "language": "python",
   "name": "ds"
  },
  "language_info": {
   "codemirror_mode": {
    "name": "ipython",
    "version": 3
   },
   "file_extension": ".py",
   "mimetype": "text/x-python",
   "name": "python",
   "nbconvert_exporter": "python",
   "pygments_lexer": "ipython3",
   "version": "3.11.5"
  }
 },
 "nbformat": 4,
 "nbformat_minor": 5
}
