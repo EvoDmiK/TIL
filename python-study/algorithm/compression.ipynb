{
 "cells": [
  {
   "cell_type": "code",
   "execution_count": 1,
   "id": "a4b9bf8e-6846-4009-b270-1e4c13daca7f",
   "metadata": {},
   "outputs": [],
   "source": [
    "class CompressGene:\n",
    "    \n",
    "    def __init__(self, gene: str) -> None:\n",
    "        \n",
    "        self.nucleotide2bit = {'A' : 0b00, 'G' : 0b10,\n",
    "                               'C' : 0b01, 'T' : 0b11}\n",
    "        self.bit2nucleotide = {0b00 : 'A', 0b10 : 'G',\n",
    "                               0b01 : 'C', 0b11 : 'T'}\n",
    "        self._compress(gene)\n",
    "        \n",
    "    \n",
    "    def _compress(self, gene: str) -> None:\n",
    "        \n",
    "        self.bit_string: int = 1\n",
    "        for nucleotide in gene.upper():\n",
    "            \n",
    "            ## 왼쪽으로 2비트 쉬프트 해준다.\n",
    "            self.bit_string <<= 2\n",
    "            \n",
    "            if nucleotide in self.nucleotide2bit.keys():\n",
    "                self.bit_string |= self.nucleotide2bit[nucleotide]\n",
    "                \n",
    "            else:\n",
    "                \n",
    "                raise ValueError(f'유효하지 않은 염기 서열입니다. {nucleotide}')\n",
    "                \n",
    "    def decompress(self) -> str:\n",
    "        \n",
    "        gene: str = ''\n",
    "        for idx in range(0, self.bit_string.bit_length() - 1, 2):\n",
    "            \n",
    "            bits: int = self.bit_string >> idx & 0b11\n",
    "            if bits in self.bit2nucleotide.keys():\n",
    "                \n",
    "                gene += self.bit2nucleotide[bits]\n",
    "            \n",
    "            else:\n",
    "                raise ValueError(f'Invalid bits : {bits}')\n",
    "                \n",
    "        return gene[::-1]\n",
    "\n",
    "    \n",
    "    def __str__(self) -> str: return self.decompress()"
   ]
  },
  {
   "cell_type": "code",
   "execution_count": 2,
   "id": "77421095-aa18-4557-8fdc-0753e46b94d2",
   "metadata": {},
   "outputs": [],
   "source": [
    "from sys import getsizeof"
   ]
  },
  {
   "cell_type": "code",
   "execution_count": 5,
   "id": "d670c391-7616-452d-af2d-53b49989eacc",
   "metadata": {},
   "outputs": [
    {
     "name": "stdout",
     "output_type": "stream",
     "text": [
      "원본 문자열 사이즈 : 86049\n",
      "압축 문자열 사이즈 : 22960\n",
      "True\n"
     ]
    }
   ],
   "source": [
    "original   :          str = 'TAGGGATTAACCGTTATATATATATAGCCATGGATCGATTATATAGGGATTAACCGTTATATATATATAGCCATGGATCGATTATA' * 1000\n",
    "compressed : CompressGene = CompressGene(original)\n",
    "\n",
    "print(f'원본 문자열 사이즈 : {getsizeof(original)}')\n",
    "print(f'압축 문자열 사이즈 : {getsizeof(compressed.bit_string)}')\n",
    "print(original == compressed.decompress())"
   ]
  },
  {
   "cell_type": "code",
   "execution_count": null,
   "id": "382bfe82-77ad-4ba5-8b66-3dcddb84c7ad",
   "metadata": {},
   "outputs": [],
   "source": []
  }
 ],
 "metadata": {
  "kernelspec": {
   "display_name": "dove",
   "language": "python",
   "name": "dove"
  },
  "language_info": {
   "codemirror_mode": {
    "name": "ipython",
    "version": 3
   },
   "file_extension": ".py",
   "mimetype": "text/x-python",
   "name": "python",
   "nbconvert_exporter": "python",
   "pygments_lexer": "ipython3",
   "version": "3.8.13"
  }
 },
 "nbformat": 4,
 "nbformat_minor": 5
}
