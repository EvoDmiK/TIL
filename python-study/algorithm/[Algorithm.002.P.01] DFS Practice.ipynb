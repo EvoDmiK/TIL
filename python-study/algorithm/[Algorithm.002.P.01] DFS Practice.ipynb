{
 "cells": [
  {
   "cell_type": "code",
   "execution_count": 1,
   "id": "7e575372-868e-472a-ad44-ad1980fb4df4",
   "metadata": {},
   "outputs": [],
   "source": [
    "graph = {\n",
    "    'A' : ['B'],\n",
    "    'B' : ['A', 'C', 'H'],\n",
    "    'C' : ['B', 'D'],\n",
    "    'D' : ['C', 'G', 'E'],\n",
    "    'E' : ['D', 'F'],\n",
    "    'F' : ['E'],\n",
    "    'G' : ['D'],\n",
    "    'H' : ['B', 'I', 'J', 'M'],\n",
    "    'I' : ['H'],\n",
    "    'J' : ['H', 'K', 'L'],\n",
    "    'K' : ['J', 'L'],\n",
    "    'L' : ['K'],\n",
    "    'M' : ['H']\n",
    "}\n",
    "\n",
    "visited = {k : False for k in graph}"
   ]
  },
  {
   "cell_type": "code",
   "execution_count": 2,
   "id": "b93f805c-6cb7-4d9e-9cfc-1e76abf94546",
   "metadata": {},
   "outputs": [],
   "source": [
    "def dfs(graph, node, visited):\n",
    "    \n",
    "    visited[node] = True\n",
    "    print(node, end = ' ')\n",
    "    for neighbor in graph[node]:\n",
    "        \n",
    "        if not visited[neighbor]: dfs(graph, neighbor, visited)\n"
   ]
  },
  {
   "cell_type": "code",
   "execution_count": 3,
   "id": "806795e8-5854-4354-97bf-4e1ef1035d03",
   "metadata": {},
   "outputs": [
    {
     "name": "stdout",
     "output_type": "stream",
     "text": [
      "G D C B A H I J K L M E F "
     ]
    }
   ],
   "source": [
    "dfs(graph, 'G', visited)"
   ]
  },
  {
   "cell_type": "code",
   "execution_count": 4,
   "id": "f985a721-d260-4624-af6f-1cfb11aad044",
   "metadata": {},
   "outputs": [
    {
     "name": "stdin",
     "output_type": "stream",
     "text": [
      "PC 수 :  3\n",
      "네트워크 연결 수 :  1\n",
      " 1 2\n"
     ]
    }
   ],
   "source": [
    "num_pc         = int(input('PC 수 : '))\n",
    "num_connection = int(input('네트워크 연결 수 : '))\n",
    "\n",
    "## 연결된 PC 입력받기\n",
    "connection     = [list(map(int, input().split())) \n",
    "                  for _ in range(num_connection)]"
   ]
  },
  {
   "cell_type": "code",
   "execution_count": 5,
   "id": "b4125f1b-16a2-48c7-8161-0fb0b0b19175",
   "metadata": {},
   "outputs": [],
   "source": [
    "conn_dict = {k[0] : [] for k in connection}\n",
    "for conn in connection: conn_dict[conn[0]].append(conn[1])"
   ]
  },
  {
   "cell_type": "code",
   "execution_count": 6,
   "id": "9a8e6a8f-93c7-46af-9df6-25507cc35644",
   "metadata": {},
   "outputs": [],
   "source": [
    "visited = {k : False for k in range(1, num_pc + 1)}"
   ]
  },
  {
   "cell_type": "code",
   "execution_count": 7,
   "id": "20af7823-d0b0-4063-82ac-373c532389d2",
   "metadata": {},
   "outputs": [],
   "source": [
    "def virus(graph, node, visited):\n",
    "    \n",
    "    visited[node] = True\n",
    "    for c in graph[node]:\n",
    "        if not visited[c]:\n",
    "            try: virus(graph, c, visited)\n",
    "            except: pass\n",
    "            \n",
    "virus(conn_dict, 1, visited)"
   ]
  },
  {
   "cell_type": "code",
   "execution_count": 8,
   "id": "126a1b79-86fa-42c1-8008-8e15f3df356f",
   "metadata": {},
   "outputs": [
    {
     "data": {
      "text/plain": [
       "1"
      ]
     },
     "execution_count": 8,
     "metadata": {},
     "output_type": "execute_result"
    }
   ],
   "source": [
    "len([v for v in visited.values() if v]) - 1"
   ]
  },
  {
   "cell_type": "code",
   "execution_count": 9,
   "id": "b78e126c-8250-4e93-94cc-3a3c1e1ce1b5",
   "metadata": {},
   "outputs": [
    {
     "name": "stdin",
     "output_type": "stream",
     "text": [
      "조건을 입력해주세요. :  5 5 3\n",
      " 5 4\n",
      " 5 2\n",
      " 1 2\n",
      " 3 4\n",
      " 3 1\n"
     ]
    }
   ],
   "source": [
    "condition  = list(map(int, input('조건을 입력해주세요. : ').split()))\n",
    "connection = [list(map(int, input().split()))\n",
    "                   for _ in range(condition[1])]\n"
   ]
  },
  {
   "cell_type": "code",
   "execution_count": 10,
   "id": "2ce38ef1-3b21-4006-b473-1e274bbbf123",
   "metadata": {},
   "outputs": [
    {
     "data": {
      "text/plain": [
       "{1: [2, 3], 2: [5, 1], 3: [4, 1], 4: [5, 3], 5: [4, 2]}"
      ]
     },
     "execution_count": 10,
     "metadata": {},
     "output_type": "execute_result"
    }
   ],
   "source": [
    "conn_dict = {k : [] for k in range(1, condition[0] + 1)}\n",
    "visited = {k : False for k in range(1, condition[0] + 1)}\n",
    "\n",
    "for conn in connection: \n",
    "    conn_dict[conn[0]].append(conn[1])\n",
    "    conn_dict[conn[1]].append(conn[0])\n",
    "    \n",
    "\n",
    "conn_dict"
   ]
  },
  {
   "cell_type": "code",
   "execution_count": 11,
   "id": "8ad011b0-4ca1-4405-aed7-53df84f4cb40",
   "metadata": {},
   "outputs": [
    {
     "name": "stdout",
     "output_type": "stream",
     "text": [
      "3 1 2 5 4 "
     ]
    }
   ],
   "source": [
    "def dfs(node, graph, visited):\n",
    "    \n",
    "    visited[node] = True\n",
    "    print(node, end = ' ')\n",
    "    \n",
    "    for g in sorted(graph[node]):\n",
    "        if not visited[g]: dfs(g, graph, visited)\n",
    "        \n",
    "dfs(condition[2], conn_dict, visited)"
   ]
  },
  {
   "cell_type": "code",
   "execution_count": null,
   "id": "1cfb82f4-6d3e-40a3-8ab0-57b5df115450",
   "metadata": {},
   "outputs": [],
   "source": []
  }
 ],
 "metadata": {
  "kernelspec": {
   "display_name": "dove",
   "language": "python",
   "name": "dove"
  },
  "language_info": {
   "codemirror_mode": {
    "name": "ipython",
    "version": 3
   },
   "file_extension": ".py",
   "mimetype": "text/x-python",
   "name": "python",
   "nbconvert_exporter": "python",
   "pygments_lexer": "ipython3",
   "version": "3.8.13"
  }
 },
 "nbformat": 4,
 "nbformat_minor": 5
}
