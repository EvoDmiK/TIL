{
 "cells": [
  {
   "cell_type": "markdown",
   "id": "b245cb3e-4ea7-4ce5-8f6b-941fd2522927",
   "metadata": {},
   "source": [
    "# **0. 참고자료**  \n",
    "****\n",
    "## 0-1. 도서  \n",
    "한빛미디어 | 나동빈 저 - 이것이 취업을 위한 코딩 테스트다 with 파이썬\n",
    "\n",
    "## 0-2. 논문, 학술지\n",
    "\n",
    "## 0-3. 웹 사이트"
   ]
  },
  {
   "cell_type": "markdown",
   "id": "20559f72-1c72-4ffa-a2a0-a10d5c17f1c8",
   "metadata": {},
   "source": [
    "# **1. DFS, BFS**\n",
    "****\n",
    "- <span style=\"color:orange\"><b>탐색 (Search)</b></span> | 많은 양의 데이터 중에서 원하는 데이터를 찾는 과정  \n",
    "- 대표적인 탐색 알고리즘으로 <span style=\"color:orange\"><b>DFS, BFS</b></span>를 꼽을 수 있는데 이 두 알고리즘을 제대로 이해해야 탐색 문제 유형을 풀 수 있다.  \n",
    "- <span style=\"color:orange\"><b>DFS, BFS</b></span>를 제대로 이해하기 위해선 기본 자료구조인 스택과 큐에 대한 이해가 전제되어야 한다."
   ]
  },
  {
   "cell_type": "markdown",
   "id": "b3fbc1e1-f681-4da5-963b-1e66d40edb23",
   "metadata": {},
   "source": [
    "- <span style=\"color:orange\"><b>자료 구조(Data Structure)</b></span> | 데이터를 표현하고 관리하고 처리하기 위한 구조  \n",
    "- <span style=\"color:orange\"><b>스택 (Stack), 큐(Queue)</b></span> 라는 자료구조는 <span style=\"color:orange\"><b>삽입(Push), 삭제(Pop)</b></span> 함수로 구성된다.  \n",
    "\n",
    "- <span style=\"color:orange\"><b>오버플로 (Overflow)</b></span> | 특정 자료구조가 수용할 수 있는 데이터의 크기가 가득 찬 상태에서 삽입 연산을 수행하면 발생  \n",
    "- <span style=\"color:orange\"><b>언더플로 (Underflow)</b></span></b></span> | 특정 자료구조에 데이터가 없는 상태에서 삭제 연산을 수행하면 발생\n",
    "****\n",
    "\n",
    "## **1-1. 스택 (Stack)**\n",
    "****\n",
    "- <span style=\"color:orange\"><b>선입후출 (First In Last Out | FILO)</b></span> 혹은 <span style=\"color:orange\"><b>후입선출 (Last In First Out | LIFO)</b></span> 특징을 갖는 자료구조  \n",
    "<span style=\"color:red\"><b>(!) FILO | 처음 입력된 데이터가 제일 마지막에 삭제됨.</b></span>\n",
    "\n",
    "- 파이썬에선 <span style=\"color:orange\"><b>리스트**가 대표적인 스택 자료구조임.\n",
    "****"
   ]
  },
  {
   "cell_type": "code",
   "execution_count": 6,
   "id": "320661d4-3643-459a-86a9-7b736ebbd311",
   "metadata": {},
   "outputs": [
    {
     "name": "stdout",
     "output_type": "stream",
     "text": [
      "1.  [5]\n",
      "2.  [5, 2]\n",
      "3.  [5, 2, 3]\n",
      "4.  [5, 2, 3, 7]\n",
      "5.  [5, 2, 3]\n",
      "6.  [5, 2, 3, 1]\n",
      "7.  [5, 2, 3, 1, 4]\n",
      "8.  [5, 2, 3, 1]\n"
     ]
    }
   ],
   "source": [
    "stack = []\n",
    "\n",
    "## 삼입 - 삽입 - 삽입 - 삽입 - 삭제 - 삽입 - 삽입 - 삭제 과정을 거침.\n",
    "stack.append(5)\n",
    "print('1. ', stack)\n",
    "\n",
    "stack.append(2)\n",
    "print('2. ', stack)\n",
    "\n",
    "stack.append(3)\n",
    "print('3. ', stack)\n",
    "\n",
    "stack.append(7)\n",
    "print('4. ', stack)\n",
    "\n",
    "stack.pop()\n",
    "print('5. ', stack)\n",
    "\n",
    "stack.append(1)\n",
    "print('6. ', stack)\n",
    "\n",
    "stack.append(4)\n",
    "print('7. ', stack)\n",
    "\n",
    "stack.pop()\n",
    "print('8. ', stack)"
   ]
  },
  {
   "cell_type": "markdown",
   "id": "7f9ff472-60f0-47d9-bb68-45fe9e5d07fc",
   "metadata": {},
   "source": [
    "## **1-2. 큐 (Queue)**\n",
    "****\n",
    "- <span style=\"color:orange\"><b>선입선출 (First In First Out | FIFO)</b></span> 혹은 <span style=\"color:orange\"><b>후입후출 (Last In Last Out | LILO)</b></span> 특징을 갖는 자료구조  \n",
    "<span style=\"color:red\"><b>(!) FIFO | 처음 입력된 데이터가 제일 처음 삭제됨.</b></span>\n",
    "\n",
    "- 파이썬에선 <span style=\"color:orange\"><b>queue.Queue, collections.deque</b></span>가 대표적인 큐 자료구조임.  \n",
    "<span style=\"color:red\"><b>(!) collections.deque는 스택과 큐의 장점을 모두 채택하였고, 리스트에 비해 데이터를 넣고 빼는 속도가 빠름.</b></span>   \n",
    "<span style=\"color:red\"><b>(!) collections.deque는 queue 라이브러리를 이용하는 것보다 더 간단함.</b></span>"
   ]
  },
  {
   "cell_type": "code",
   "execution_count": 8,
   "id": "75ba9155-ece5-4971-99c1-f2f17396b28a",
   "metadata": {},
   "outputs": [
    {
     "name": "stdout",
     "output_type": "stream",
     "text": [
      "1.  deque([5])\n",
      "2.  deque([5, 2])\n",
      "3.  deque([5, 2, 3])\n",
      "4.  deque([5, 2, 3, 7])\n",
      "5.  deque([2, 3, 7])\n",
      "6.  deque([2, 3, 7, 1])\n",
      "7.  deque([2, 3, 7, 1, 4])\n",
      "8.  deque([3, 7, 1, 4])\n"
     ]
    }
   ],
   "source": [
    "from collections import deque\n",
    "q = deque()\n",
    "\n",
    "## 삼입 - 삽입 - 삽입 - 삽입 - 삭제 - 삽입 - 삽입 - 삭제 과정을 거침.\n",
    "q.append(5)\n",
    "print('1. ', q)\n",
    "\n",
    "q.append(2)\n",
    "print('2. ', q)\n",
    "\n",
    "q.append(3)\n",
    "print('3. ', q)\n",
    "\n",
    "q.append(7)\n",
    "print('4. ', q)\n",
    "\n",
    "q.popleft()\n",
    "print('5. ', q)\n",
    "\n",
    "q.append(1)\n",
    "print('6. ', q)\n",
    "\n",
    "q.append(4)\n",
    "print('7. ', q)\n",
    "\n",
    "q.popleft()\n",
    "print('8. ', q)"
   ]
  },
  {
   "cell_type": "markdown",
   "id": "c38daca8-b0db-4c05-95fe-0b57bd406ccc",
   "metadata": {},
   "source": [
    "## **1-3. 재귀함수 (Recursive Function)**\n",
    "****\n",
    "- 자기 자신을 다시 호출하는 함수  \n",
    "<span style=\"color:red\"><b>(!) 파이썬 인터프리터에는 호출 횟수에 제한이 있어 이 한계를 벗어나면 에러가 발생한다.</b></span>  \n",
    "<span style=\"color:red\"><b>(!) 재귀적(Recursive)과 대비되는 요어는 반복적(iterative)이다.</b></span>  \n",
    "- 대표적인 재귀함수로는 <span style=\"color:orange\"><b>팩토리얼을 구하는 함수</b></span>가 있다.\n",
    "\n",
    "<span style=\"color:red\"><b>(!) 재귀 함수가 반복적 함수보다 코드가 간결한데, 수학의 점화식을 그대로 소스코드로 옮기기 때문이다.</b></span> "
   ]
  },
  {
   "cell_type": "code",
   "execution_count": 13,
   "id": "ee1ecdf6-20c1-47a9-a4c9-1413ce64f7e7",
   "metadata": {},
   "outputs": [
    {
     "data": {
      "text/plain": [
       "120"
      ]
     },
     "execution_count": 13,
     "metadata": {},
     "output_type": "execute_result"
    }
   ],
   "source": [
    "## 반복문을 통한 팩토리얼\n",
    "def factorial_with_iter(n):\n",
    "    \n",
    "    factorial = 1\n",
    "    for idx in range(n): factorial *= (idx + 1)\n",
    "    \n",
    "    return factorial\n",
    "\n",
    "factorial_with_iter(5)"
   ]
  },
  {
   "cell_type": "code",
   "execution_count": 12,
   "id": "1ec62e69-15fc-49a5-a8fd-e489b3caf76c",
   "metadata": {},
   "outputs": [
    {
     "data": {
      "text/plain": [
       "120"
      ]
     },
     "execution_count": 12,
     "metadata": {},
     "output_type": "execute_result"
    }
   ],
   "source": [
    "## 재귀함수를 통한 팩토리얼\n",
    "def factorial_with_recur(n):\n",
    "    if n <= 1: return 1\n",
    "    return n*factorial_with_recur(n-1)\n",
    "\n",
    "factorial_with_recur(5)"
   ]
  },
  {
   "cell_type": "markdown",
   "id": "73b346d9-00ec-4810-9e55-09e622decada",
   "metadata": {},
   "source": [
    "## **1-4. DFS (Depth-First Search | 깊이 우선 탐색)**\n",
    "****\n",
    "- 그래프에서 깊은 부분을 우선적으로 탐색하는 알고리즘.  \n",
    "- 그래프는 <span style=\"color:orange\"><b>노드 (Node)</b></span> 와 <span style=\"color:orange\"><b>간선 (Edge)</b></span> 로 표현되며 노드를 <span style=\"color:orange\"><b>정점 (Vertex)</b></span> 라고도 말한다.  \n",
    "- <span style=\"color:orange\"><b>그래프 탐색 (Graph Search)</b></span> | 하나의 노드를 시작으로 다수의 노드를 방문하는 것  \n",
    "<span style=\"color:red\"><b>(!) 두 노드가 간선으로 연결되어 있다면 두 노드는 인접(Adjacent)하다 라고 표현한다.</b></span>   \n",
    "\n",
    "- <span style=\"color:orange\"><b>인접 행렬 (Adjacency Matrix)</b></span> |  \n",
    "   (1) 2차원 배열로 그래프의 연결 관계를 표현하는 방식  \n",
    "   (2) 2차원 배열에 각 노드가 연결된 형태로 기록하는 방식\n",
    "   \n",
    "- <span style=\"color:orange\"><b>인접 리스트 (Adjacency List)</b></span> |  \n",
    "  (1) 리스트로 그래프의 연결 관계를 표현하는 방식  \n",
    "  (2) 모든 노드에 연결된 노드에 대한 정보를 차례로 연결하여 저장하는 방식  \n",
    "  \n",
    "<span style=\"color:red\"><b>(!) 연결되어 있지 않은 노드끼리는 무한의 비용이라고 작성한다.</b></span>"
   ]
  },
  {
   "cell_type": "markdown",
   "id": "871bc13c-4c13-437d-9ca8-81f22b0b2529",
   "metadata": {},
   "source": [
    "#### **인접 행렬, 인접 리스트 예제 그래프**\n",
    "<img src='images/graph1.png' width=250>"
   ]
  },
  {
   "cell_type": "code",
   "execution_count": 16,
   "id": "2724282d-7f90-4d58-a0d7-484281a3f82c",
   "metadata": {},
   "outputs": [
    {
     "data": {
      "text/html": [
       "<div>\n",
       "<style scoped>\n",
       "    .dataframe tbody tr th:only-of-type {\n",
       "        vertical-align: middle;\n",
       "    }\n",
       "\n",
       "    .dataframe tbody tr th {\n",
       "        vertical-align: top;\n",
       "    }\n",
       "\n",
       "    .dataframe thead th {\n",
       "        text-align: right;\n",
       "    }\n",
       "</style>\n",
       "<table border=\"1\" class=\"dataframe\">\n",
       "  <thead>\n",
       "    <tr style=\"text-align: right;\">\n",
       "      <th></th>\n",
       "      <th>0</th>\n",
       "      <th>1</th>\n",
       "      <th>2</th>\n",
       "    </tr>\n",
       "  </thead>\n",
       "  <tbody>\n",
       "    <tr>\n",
       "      <th>0</th>\n",
       "      <td>0</td>\n",
       "      <td>7</td>\n",
       "      <td>5</td>\n",
       "    </tr>\n",
       "    <tr>\n",
       "      <th>1</th>\n",
       "      <td>7</td>\n",
       "      <td>0</td>\n",
       "      <td>999999999</td>\n",
       "    </tr>\n",
       "    <tr>\n",
       "      <th>2</th>\n",
       "      <td>5</td>\n",
       "      <td>999999999</td>\n",
       "      <td>0</td>\n",
       "    </tr>\n",
       "  </tbody>\n",
       "</table>\n",
       "</div>"
      ],
      "text/plain": [
       "   0          1          2\n",
       "0  0          7          5\n",
       "1  7          0  999999999\n",
       "2  5  999999999          0"
      ]
     },
     "execution_count": 16,
     "metadata": {},
     "output_type": "execute_result"
    }
   ],
   "source": [
    "import pandas as pd\n",
    "## 인접행렬 예제\n",
    "\n",
    "## 무한 비용 정의\n",
    "INF = 999999999\n",
    "\n",
    "## 2차원 리스트를 이용해 인접 행렬 표현\n",
    "graph = [\n",
    "    [0, 7, 5], [7, 0, INF], [5, INF, 0]\n",
    "]\n",
    "\n",
    "## 0과 1, 2는 연결되어 있고, 1과 2는 연결되어 있지 않은 그래프구조\n",
    "graph = pd.DataFrame(graph)\n",
    "graph"
   ]
  },
  {
   "cell_type": "code",
   "execution_count": 17,
   "id": "b8145fd0-64be-4c0a-aef2-fd67ca94f9d2",
   "metadata": {},
   "outputs": [
    {
     "name": "stdout",
     "output_type": "stream",
     "text": [
      "[[(1, 7), (2, 5)], [(0, 7)], [(0, 5)]]\n"
     ]
    }
   ],
   "source": [
    "## 인접리스트 예제\n",
    "\n",
    "## 행(Row)이 3개인 2차원 리스트로 인접 리스트 표현\n",
    "graph = [[] for _ in range(3)]\n",
    "\n",
    "graph[0].append((1, 7))\n",
    "graph[0].append((2, 5))\n",
    "\n",
    "graph[1].append((0, 7))\n",
    "\n",
    "graph[2].append((0, 5))\n",
    "\n",
    "print(graph)"
   ]
  },
  {
   "cell_type": "markdown",
   "id": "1fabc284-6511-4c14-847b-2d5c521a31a8",
   "metadata": {
    "tags": []
   },
   "source": [
    "<span style=\"color:red\"><b>(!) 인접 행렬 방식은 모든 관계를 저장하므로 노드 개수가 많을 수록 메모리가 불필요하게 낭비된다.</b></span>  \n",
    "<span style=\"color:red\"><b>(!) 인접 리스트 방식은 특정 두 노드가 연결되어 있는지에 대한 정보를 얻는 속도가 느리다.</b></span>  \n",
    "\n",
    "- DFS는 <span style=\"color:orange\"><b>스택</b></span> 자료구조를 이용하며 구체적인 동작과정은 다음과 같다.  \n",
    "(1) 탐색 시작 노드를 스택에 삽입하고 방문 처리를 한다.  \n",
    "(2) 스택의 최상단 노드에 방문하지 않은 인접 노드가 있으면 그 인접 노드를 스택에 넣고 방문처리 한다.  \n",
    "&nbsp;&nbsp;&nbsp;&nbsp;&nbsp;방문하지 않는 인접 노드가 없는 경우는 스택에서 최상단 노드를 꺼낸다.  \n",
    "(3) (2)번의 과정을 더 이상 수행할 수 없을 때까지 반복한다.  \n",
    "\n",
    "<span style=\"color:red\"><b>(!) 방문처리는 스택에 삽입되어 처리된 노드가 다시 삽입되지 않게 체크하는 것을 의미한다.</b></span>   \n",
    "<span style=\"color:red\"><b>(!) 방문처리를 함으로써 각 노드를 한 번씩만 처리할 수 있음.</b></span>    \n",
    "<span style=\"color:red\"><b>(!) DFS는 순서와 상관없이 처리해도 되지만 관행적으로 번호가 낮은 순서부터 처리한다.</b></span>  "
   ]
  },
  {
   "cell_type": "markdown",
   "id": "a9c302ef-69c8-4698-8dcf-5c19bd0b3450",
   "metadata": {},
   "source": [
    "#### **DFS, BFS 예제 그래프 구조**\n",
    "<img src='./images/graph2.png' width=400>"
   ]
  },
  {
   "cell_type": "code",
   "execution_count": 5,
   "id": "7868722d-91f4-46a6-8cd7-e28ea1f6f9f1",
   "metadata": {},
   "outputs": [
    {
     "name": "stdout",
     "output_type": "stream",
     "text": [
      "1 2 7 6 8 3 4 5 "
     ]
    }
   ],
   "source": [
    "## DFS 예제\n",
    "\n",
    "def dfs(graph, v, visited):\n",
    "    \n",
    "    ## 현재 노드를 방문처리\n",
    "    visited[v] = True\n",
    "    print(v, end = ' ')\n",
    "    ## 현재 노드와 연결된 다른 노드를 재귀적으로 방문\n",
    "    for node in graph[v]:\n",
    "        ## node가 방문처리 되어 있지 않은 경우 재귀함수에 입력하여 방문처리\n",
    "        if not visited[node]: dfs(graph, node, visited)\n",
    "        \n",
    "graph = [\n",
    "    [],         ## 노드가 1부터 시작하여 맞추기 위해 빈 리스트를 첫 번째로 지정해 둠.\n",
    "    [2, 3, 8],  ## 노드 1 | 노드(2, 3, 8)이랑 연결\n",
    "    [1, 7],     ## 노드 2 | 노드(1, 7)이랑 연결\n",
    "    [1, 4, 5],  ## 노드 3 | 노드(1, 4, 5)랑 연결\n",
    "    [3, 5],     ## 노드 4 | 노드(3, 5)랑 연결\n",
    "    [3, 4],     ## 노드 5 | 노드(3, 4)랑 연결\n",
    "    [7],        ## 노드 6 | 노드 7이랑 연결\n",
    "    [2, 6, 8],  ## 노드 7 | 노드(2, 6, 8)이랑 연결\n",
    "    [1, 7]      ## 노드 8 | 노드(1, 7)이랑 연결\n",
    "]\n",
    "\n",
    "## 노드별 방문 처리 여부 | 방문 → True, 방문 안함 → False \n",
    "visited = [False] * len(graph) \n",
    "dfs(graph, 1, visited)"
   ]
  },
  {
   "cell_type": "code",
   "execution_count": 1,
   "id": "c6f7671b-821c-496f-9364-6f8225ee6695",
   "metadata": {},
   "outputs": [
    {
     "name": "stdout",
     "output_type": "stream",
     "text": [
      "1 2 7 6 8 3 4 5 "
     ]
    }
   ],
   "source": [
    "## DFS 예제\n",
    "\n",
    "def dfs(graph, v, visited):\n",
    "    \n",
    "    ## 현재 노드를 방문처리\n",
    "    visited[v] = True\n",
    "    print(v, end = ' ')\n",
    "    ## 현재 노드와 연결된 다른 노드를 재귀적으로 방문\n",
    "    for node in graph[v]:\n",
    "        ## 노드가 방문 처리되어 있지 않은 경우\n",
    "        if not visited[node]: dfs(graph, node, visited)\n",
    "        \n",
    "graph = [\n",
    "    [],         ## 노드가 1부터 시작하여 맞추기 위해 빈 리스트를 첫 번째로 지정해 둠.\n",
    "    [2, 3, 8],  ## 노드 1 | 노드(2, 3, 8)이랑 연결\n",
    "    [1, 7],     ## 노드 2 | 노드(1, 7)이랑 연결\n",
    "    [1, 4, 5],  ## 노드 3 | 노드(1, 4, 5)랑 연결\n",
    "    [3, 5],     ## 노드 4 | 노드(3, 5)랑 연결\n",
    "    [3, 4],     ## 노드 5 | 노드(3, 4)랑 연결\n",
    "    [7],        ## 노드 6 | 노드 7이랑 연결\n",
    "    [2, 6, 8],  ## 노드 7 | 노드(2, 6, 8)이랑 연결\n",
    "    [1, 7]      ## 노드 2 | 노드(1, 7)이랑 연결\n",
    "]\n",
    "\n",
    "## 노드별 방문 처리 여부 | 방문 → True, 방문 안함 → False \n",
    "visited = [False] * len(graph) \n",
    "dfs(graph, 1, visited)"
   ]
  },
  {
   "cell_type": "markdown",
   "id": "abe4c649-83d3-466d-be88-6463b3f93293",
   "metadata": {},
   "source": [
    "## **1-5. BFS (Breadth First Search | 너비 우선 탐색)**\n",
    "- 가까운 노드부터 탐색하는 알고리즘  \n",
    "- BFS를 구현하기 위해서는 FIFO 방식인 <span style=\"color:orange\"><b>큐</b></span> 자료구조를 이용하는 것이 정석이다.  \n",
    "- BFS의 구체적인 동작과정은 다음과 같다.  \n",
    "(1) 탐색 시작 노드를 큐에 삽입하고 방문 처리를 한다.  \n",
    "(2) 큐에서 노드를 꺼내 해당 노드의 인접 노드 중 방문하지 않은 노드를   \n",
    "&nbsp;&nbsp;&nbsp;&nbsp;&nbsp;모두 큐에 삽입하고 방문 처리 한다.  \n",
    "(3) (2)번의 과정을 더 이상 수행할 수 없을 때까지 반복한다."
   ]
  },
  {
   "cell_type": "code",
   "execution_count": 6,
   "id": "fd92f27a-f0a7-4d95-a84e-a0899dfc11e5",
   "metadata": {},
   "outputs": [
    {
     "name": "stdout",
     "output_type": "stream",
     "text": [
      "1 2 3 8 7 4 5 6 "
     ]
    }
   ],
   "source": [
    "## BFS 예제\n",
    "from collections import deque\n",
    "\n",
    "def bfs(graph, start, visited):\n",
    "    \n",
    "    ## 현재 노드를 큐에 입력해줌.\n",
    "    queue = deque([start])\n",
    "    \n",
    "    ## 현재 노드를 방문 처리\n",
    "    visited[start] = True\n",
    "    \n",
    "    ## 큐가 빌 때까지 반복\n",
    "    while queue:\n",
    "        ## 큐에서 하나의 원소를 뽑아 출력\n",
    "        v = queue.popleft()\n",
    "        print(v, end = ' ')\n",
    "        \n",
    "        ## 아직 방문하지 않은 인접 노드를 큐에 삽입\n",
    "        for idx in graph[v]:\n",
    "            if not visited[idx]:\n",
    "                queue.append(idx)\n",
    "                visited[idx] = True\n",
    "                \n",
    "graph = [\n",
    "    [],         ## 노드가 1부터 시작하여 맞추기 위해 빈 리스트를 첫 번째로 지정해 둠.\n",
    "    [2, 3, 8],  ## 노드 1 | 노드(2, 3, 8)이랑 연결\n",
    "    [1, 7],     ## 노드 2 | 노드(1, 7)이랑 연결\n",
    "    [1, 4, 5],  ## 노드 3 | 노드(1, 4, 5)랑 연결\n",
    "    [3, 5],     ## 노드 4 | 노드(3, 5)랑 연결\n",
    "    [3, 4],     ## 노드 5 | 노드(3, 4)랑 연결\n",
    "    [7],        ## 노드 6 | 노드 7이랑 연결\n",
    "    [2, 6, 8],  ## 노드 7 | 노드(2, 6, 8)이랑 연결\n",
    "    [1, 7]      ## 노드 8 | 노드(1, 7)이랑 연결\n",
    "]\n",
    "\n",
    "visited = [False] * len(graph)\n",
    "bfs(graph, 1, visited)"
   ]
  },
  {
   "cell_type": "markdown",
   "id": "a41929d2-e8d7-4cd3-b1dd-cb9b52a13634",
   "metadata": {},
   "source": [
    "||DFS|BFS|\n",
    "|:---:|:---:|:---:|\n",
    "|**동작 원리**| 스택| 큐|\n",
    "|**구현 방법**|재귀함수 이용|큐 자료구조 이용|\n",
    "\n",
    "- DFS와 BFS는 1차원, 2차원 배열을 그래프 형태로 생각하면 수월하게 생각할 수 있다.    \n",
    "- 2차원 배열에서의 탐색 문제를 만나면 그래프 형태로 바꿔 생각한다.  \n",
    "\n",
    "### **e.g. 1) 음료수 얼려 먹기**\n",
    "N x M 크기의 얼음 틀이 있다. 구멍이 뚫려 있는 부분은 0, 칸막이가 존재하는 부분은 1로 표시한다.  \n",
    "구멍이 뚫려 있는 부분끼리 상, 하, 좌, 우로 붙어 있는 경우 서로 연결되어 있는 것으로 간주한다.  \n",
    "이때 얼음 틀의 모양이 주어졌을 때 생성되는 총 아이스크임의 개수를 구하는 프로그램을 작성하시오.  \n",
    "\n",
    "**아래의 경우 아이스크림 3개 만들 수 있다.**"
   ]
  },
  {
   "cell_type": "code",
   "execution_count": 9,
   "id": "479d7842-9616-4e27-b4e4-d7b0ab3f8bf6",
   "metadata": {},
   "outputs": [
    {
     "data": {
      "text/plain": [
       "<matplotlib.image.AxesImage at 0x7f54ce836100>"
      ]
     },
     "execution_count": 9,
     "metadata": {},
     "output_type": "execute_result"
    },
    {
     "data": {
      "image/png": "[encoded data removed]",
      "text/plain": [
       "<Figure size 432x288 with 1 Axes>"
      ]
     },
     "metadata": {
      "needs_background": "light"
     },
     "output_type": "display_data"
    }
   ],
   "source": [
    "import matplotlib.pyplot as plt\n",
    "import numpy as np\n",
    "\n",
    "ice_frame = np.array([[0, 0, 1, 1, 0], \n",
    "                      [0, 0, 0, 1, 1], \n",
    "                      [1, 1, 1, 1, 1],\n",
    "                      [0, 0, 0, 0, 0]])\n",
    "\n",
    "plt.imshow(ice_frame, cmap='gray')"
   ]
  },
  {
   "cell_type": "markdown",
   "id": "0d369bd6-3f00-48fd-8fa9-5d8cc4e511d3",
   "metadata": {},
   "source": [
    "### **1. 입력 조건**\n",
    "- 첫째 줄에 얼음 틀의 세로 길이 N(1 <= N <= 1,000)과 가로 길이 M(1 <= M <= 1,000)이 주어진다.   \n",
    "- 두 번째 줄부터 N+1번째 줄까지 얼음 틀의 형태가 주어진다.\n",
    "- 이때 구멍이 뚫린 부분은 0, 그렇지 않은 부분은 1이다.\n",
    "\n",
    "### **2. 출력 조건**\n",
    "- 한 번에 만들 수 있는 아이스크림의 개수를 출력한다.\n",
    "\n",
    "### **입력 예시**&nbsp;&nbsp;&nbsp;&nbsp;&nbsp;&nbsp;&nbsp;**|**&nbsp;&nbsp;**출력 예시**\n",
    "&nbsp;15  14 &nbsp;&nbsp;&nbsp;&nbsp;&nbsp;&nbsp;&nbsp;&nbsp;&nbsp;&nbsp;&nbsp;&nbsp;&nbsp;&nbsp;&nbsp;&nbsp;&nbsp;&nbsp;&nbsp;&nbsp;&nbsp;&nbsp;&nbsp;|  &nbsp;8  \n",
    "&nbsp;00000111100000 &nbsp;&nbsp;&nbsp;&nbsp;|  \n",
    "&nbsp;11111101111110 &nbsp;&nbsp;&nbsp;&nbsp;|  \n",
    "&nbsp;11011101101110 &nbsp;&nbsp;&nbsp;&nbsp;|  \n",
    "&nbsp;11011101100000 &nbsp;&nbsp;&nbsp;&nbsp;|  \n",
    "&nbsp;11011111111111 &nbsp;&nbsp;&nbsp;&nbsp;|  \n",
    "&nbsp;11011111111100 &nbsp;&nbsp;&nbsp;&nbsp;|  \n",
    "&nbsp;11000000011111 &nbsp;&nbsp;&nbsp;&nbsp;|  \n",
    "&nbsp;01111111111111 &nbsp;&nbsp;&nbsp;&nbsp;|  \n",
    "&nbsp;00000000011111 &nbsp;&nbsp;&nbsp;&nbsp;|  \n",
    "&nbsp;01111111111000 &nbsp;&nbsp;&nbsp;&nbsp;|  \n",
    "&nbsp;00011111111000 &nbsp;&nbsp;&nbsp;&nbsp;|  \n",
    "&nbsp;00000001111000 &nbsp;&nbsp;&nbsp;&nbsp;|  \n",
    "&nbsp;11111111110011 &nbsp;&nbsp;&nbsp;&nbsp;|  \n",
    "&nbsp;11100011111111 &nbsp;&nbsp;&nbsp;&nbsp;|  \n",
    "&nbsp;11100011111111 &nbsp;&nbsp;&nbsp;&nbsp;|  "
   ]
  },
  {
   "cell_type": "markdown",
   "id": "b3d56aea-7689-4372-a02f-2bb65cf95287",
   "metadata": {},
   "source": [
    "### **문제 해설**\n",
    "- 아래와 같은 3 x 3크기의 얼음틀이 있다고 가정하자.\n",
    "- 0인 값이 상, 하, 좌, 우로 연결되어 있는 노드를 묶으면 아래 이미지 처럼 나타난다."
   ]
  },
  {
   "cell_type": "code",
   "execution_count": 10,
   "id": "7078239a-b24a-426b-9f6d-1bf406f72ce4",
   "metadata": {},
   "outputs": [
    {
     "data": {
      "text/plain": [
       "<matplotlib.image.AxesImage at 0x7f54ce79e6a0>"
      ]
     },
     "execution_count": 10,
     "metadata": {},
     "output_type": "execute_result"
    },
    {
     "data": {
      "image/png": "[encoded data removed]",
      "text/plain": [
       "<Figure size 432x288 with 1 Axes>"
      ]
     },
     "metadata": {
      "needs_background": "light"
     },
     "output_type": "display_data"
    }
   ],
   "source": [
    "ice_frame2 = np.array([\n",
    "                        [0, 0, 1],\n",
    "                        [0, 1, 0],\n",
    "                        [1, 0, 1]\n",
    "                    ])\n",
    "\n",
    "plt.imshow(ice_frame2, cmap = 'gray')"
   ]
  },
  {
   "cell_type": "markdown",
   "id": "a03ca184-e977-4104-8fc7-40634df85307",
   "metadata": {},
   "source": [
    "- 이러한 묶음을 찾아주는 프로그램은 다음 과정을 거쳐 작성할 수 있다.  \n",
    "(1) 특정 지점의 주변 상, 하, 좌, 우를 살펴본 후 주변 지점 중 값이 0이면서  \n",
    "&nbsp;&nbsp;&nbsp;&nbsp;&nbsp;아직 방문하지 않은 지점이 있다면 해당 지점을 방문한다.  \n",
    "(2) 방문한 지점에서 다시 상, 하, 좌, 우를 살펴보며 방문을 진행하면,  \n",
    "&nbsp;&nbsp;&nbsp;&nbsp;&nbsp;연결된 모든 지점을 방문할 수 있다.  \n",
    "(3) (1) ~ (2)번의 과정을 모든 노드에 반복하며 방문하지 않은 지점의 수를 센다."
   ]
  },
  {
   "cell_type": "code",
   "execution_count": 15,
   "id": "6a7d321b-baf4-4a5b-b639-1de5bd4d0753",
   "metadata": {},
   "outputs": [
    {
     "name": "stdin",
     "output_type": "stream",
     "text": [
      " 4 5\n",
      " 00110\n",
      " 00011\n",
      " 11111\n",
      " 00000\n"
     ]
    },
    {
     "name": "stdout",
     "output_type": "stream",
     "text": [
      "before graph : [[0, 0, 1, 1, 0], [0, 0, 0, 1, 1], [1, 1, 1, 1, 1], [0, 0, 0, 0, 0]]\n",
      "3\n",
      "after graph : [[1, 1, 1, 1, 1], [1, 1, 1, 1, 1], [1, 1, 1, 1, 1], [1, 1, 1, 1, 1]]\n"
     ]
    }
   ],
   "source": [
    "n, m = map(int, input().split())\n",
    "\n",
    "## 2차원 배열의 얼음틀 정보 받기\n",
    "graph = []\n",
    "for _ in range(n): graph.append(list(map(int, input())))\n",
    "\n",
    "def dfs(x, y):\n",
    "    ## 주어진 범위를 벗어난 경우에 종료\n",
    "    condition = [x <= -1, x >= n, y <= -1, y >= m]\n",
    "    if any(condition): return False\n",
    "\n",
    "    ## 현재 노드를 방문하지 않은 경우\n",
    "    ## i.e. 2차원 배열의 (x, y) 좌표가 0인 경우\n",
    "    if graph[x][y] == 0:\n",
    "        \n",
    "        ## 해당 노드 방문처리\n",
    "        graph[x][y] = 1\n",
    "        \n",
    "        ## 현재 노드의 상, 하, 좌, 우의 위치도 모두 재귀적으로 호출\n",
    "        dfs(x - 1, y)\n",
    "        dfs(x + 1, y)\n",
    "        dfs(x, y - 1)\n",
    "        dfs(x, y + 1)\n",
    "        \n",
    "        return True\n",
    "    return False\n",
    "\n",
    "print(f'before graph : {graph}')\n",
    "\n",
    "\n",
    "## 모든 노드에 대해 음료수 채우기\n",
    "result = 0\n",
    "for odx in range(n):\n",
    "    for idx in range(m):\n",
    "        ## 현재 노드에서 DFS 수행\n",
    "        if dfs(odx, idx) == True: result += 1\n",
    "        \n",
    "print(result)"
   ]
  },
  {
   "cell_type": "code",
   "execution_count": null,
   "id": "4f56460b-5b34-4d11-bcf1-a503a396db29",
   "metadata": {},
   "outputs": [],
   "source": []
  }
 ],
 "metadata": {
  "kernelspec": {
   "display_name": "bio",
   "language": "python",
   "name": "bio"
  },
  "language_info": {
   "codemirror_mode": {
    "name": "ipython",
    "version": 3
   },
   "file_extension": ".py",
   "mimetype": "text/x-python",
   "name": "python",
   "nbconvert_exporter": "python",
   "pygments_lexer": "ipython3",
   "version": "3.9.12"
  }
 },
 "nbformat": 4,
 "nbformat_minor": 5
}
