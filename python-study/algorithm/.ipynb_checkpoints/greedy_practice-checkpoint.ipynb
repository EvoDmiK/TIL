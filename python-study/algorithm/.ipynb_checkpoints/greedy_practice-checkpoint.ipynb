{
 "cells": [
  {
   "cell_type": "markdown",
   "id": "194c7e82-0277-45c9-b732-bee6fcecf625",
   "metadata": {},
   "source": [
    "# **0. 참고자료**  \n",
    "## 0-1. 도서  \n",
    "\n",
    "## 0-2. 논문, 학술지\n",
    "\n",
    "## 0-3. 웹 사이트"
   ]
  },
  {
   "cell_type": "markdown",
   "id": "3f818d3b-cc57-4cd3-b117-ce8b24931575",
   "metadata": {},
   "source": [
    "# **1. 최대 곱 구하기**\n",
    "\n",
    "여럿이서 카드 게임을 하고 있는데, 각 플레이어는 3장의 카드를 들고 있다.  \n",
    "예를 들어 첫 플레이어는 1, 6, 5의 카드를 들고 있고, 두번째 플레이어는 4, 2, 3의 카드를 들고 있다.  \n",
    "플레이어들끼리 카드 한 장씩 냈을 때, 낸 카드의 곱의 최대값을 구하라\n",
    "\n",
    "### **1-1. 입력 조건**\n",
    "1. 첫 번째 줄은 게임에 참가하는 플레이어의 수를 입력한다.\n",
    "2. 두 번째 줄부터 n번째 줄 까지 3개의 자연수로 구성된 문자열을 입력한다.  \n",
    "   **3개의 자연수는 공백으로 구분되고, 각각의 자연수는 1이상 100,000이하의 수로 구성된다.**\n",
    "\n",
    "### **1-2. 출력 조건**\n",
    "1. 첫째 줄에 n명의 플레이어들끼리 카드 한 장씩 냈을때 낸 카드의 곱의 최대값을 출력한다.\n",
    "\n",
    "### **입력 예시**&nbsp;&nbsp;**|**&nbsp;&nbsp;**출력 예시**\n",
    "2&nbsp;&nbsp;&nbsp;&nbsp;&nbsp;&nbsp;&nbsp;&nbsp;&nbsp;&nbsp;&nbsp;&nbsp;&nbsp;&nbsp;&nbsp;&nbsp;&nbsp;&nbsp;&nbsp;&nbsp;&nbsp;&nbsp;&nbsp;|&nbsp;&nbsp;&nbsp;&nbsp;24   \n",
    "1&nbsp;&nbsp;&nbsp;6&nbsp;&nbsp;&nbsp;5&nbsp;&nbsp;&nbsp;&nbsp;&nbsp;&nbsp;&nbsp;&nbsp;&nbsp;&nbsp;&nbsp;&nbsp;&nbsp;|  \n",
    "4&nbsp;&nbsp;&nbsp;2&nbsp;&nbsp;&nbsp;3&nbsp;&nbsp;&nbsp;&nbsp;&nbsp;&nbsp;&nbsp;&nbsp;&nbsp;&nbsp;&nbsp;&nbsp;&nbsp;|\n"
   ]
  },
  {
   "cell_type": "code",
   "execution_count": 48,
   "id": "7086064c-81ad-4a15-a4e4-8a8ecf71a190",
   "metadata": {},
   "outputs": [
    {
     "name": "stdin",
     "output_type": "stream",
     "text": [
      "총 몇 명의 플레이어가 게임합니까? :  2\n",
      "[1]번째 플레이어의 카드를 입력해주세요. :  1 6 5\n",
      "[2]번째 플레이어의 카드를 입력해주세요. :  4 2 3\n"
     ]
    },
    {
     "name": "stdout",
     "output_type": "stream",
     "text": [
      "플레이어들이 가진 카드의 전체 곱입니다. : 24\n"
     ]
    }
   ],
   "source": [
    "## num_players | 게임에 참가한 참가자의 숫자\n",
    "num_players = int(input('총 몇 명의 플레이어가 게임합니까? : '))\n",
    "\n",
    "cards = []\n",
    "def multiple(cards):\n",
    "    ##        cards | 플레이어 각각의 최댓값이 저장된 리스트 (길이 : num_players)\n",
    "    ## max_multiple | 한 장씩 낸 카드의 곱의 최대값을 구하기 위한 초기값\n",
    "    max_multiple = 1\n",
    "    for card in cards: max_multiple *= card\n",
    "    return max_multiple\n",
    "\n",
    "## 게임이 참여한 플레이어들의 카드를 입력받아 최댓값을 구하는 부분\n",
    "for idx in range(num_players):\n",
    "    card = input(f'[{idx + 1}]번째 플레이어의 카드를 입력해주세요. : ')\n",
    "    card = list(map(int, card.split()))\n",
    "    \n",
    "    cards.append(max(card))\n",
    "\n",
    "print(f'플레이어들이 가진 카드의 전체 곱입니다. : {multiple(cards)}')"
   ]
  },
  {
   "cell_type": "markdown",
   "id": "854aa05d-a974-447c-94b6-dc87c8fc13b3",
   "metadata": {},
   "source": [
    "\n",
    "# **2. 동전 0**\n",
    "준규가 가지고 있는 동전은 총 N 종류이고, 각각의 동전을 매우 많이 가지고 있다.  \n",
    "동전을 적절히 사용하여 그 가치의 합을 K로 만들려고 할 때,  \n",
    "이 때 필요한 동전의 최소 갯수를 구하는 프로그램을 작성하시오.\n",
    "\n",
    "### **2-1. 입력 조건**\n",
    "1. 첫 번째 줄은 N과 K가 주어진다.(1 <= N <= 10, 1 <= K <= 100,000,000)\n",
    "2. 두 번째 줄부터 n번째 줄 까지 동전의 가치 A(i)가 오름차 순으로 주어진다. (1<= A(i) <= 1,000,000, A(1) = 1)  \n",
    "   **i >= 2인 경우에 A(i)는 A(i-1)의 배수이다.**\n",
    "\n",
    "### **2-2. 출력 조건**\n",
    "1. 첫째 줄에 K원을 만드는데 필요한 동전 개수의 최솟값을 출력한다.\n",
    "\n",
    "### **입력 예시**&nbsp;&nbsp;**|**&nbsp;&nbsp;**출력 예시**\n",
    "5&nbsp;&nbsp;&nbsp;10&nbsp;&nbsp;&nbsp;&nbsp;&nbsp;&nbsp;&nbsp;&nbsp;&nbsp;&nbsp;&nbsp;&nbsp;&nbsp;&nbsp;&nbsp;&nbsp;&nbsp;|&nbsp;&nbsp;&nbsp;6  \n",
    "1&nbsp;&nbsp;&nbsp;&nbsp;&nbsp;&nbsp;&nbsp;&nbsp;&nbsp;&nbsp;&nbsp;&nbsp;&nbsp;&nbsp;&nbsp;&nbsp;&nbsp;&nbsp;&nbsp;&nbsp;&nbsp;&nbsp;&nbsp;&nbsp;|  \n",
    "5&nbsp;&nbsp;&nbsp;&nbsp;&nbsp;&nbsp;&nbsp;&nbsp;&nbsp;&nbsp;&nbsp;&nbsp;&nbsp;&nbsp;&nbsp;&nbsp;&nbsp;&nbsp;&nbsp;&nbsp;&nbsp;&nbsp;&nbsp;&nbsp;|  \n",
    "10&nbsp;&nbsp;&nbsp;&nbsp;&nbsp;&nbsp;&nbsp;&nbsp;&nbsp;&nbsp;&nbsp;&nbsp;&nbsp;&nbsp;&nbsp;&nbsp;&nbsp;&nbsp;&nbsp;&nbsp;&nbsp;&nbsp;|  \n",
    "50&nbsp;&nbsp;&nbsp;&nbsp;&nbsp;&nbsp;&nbsp;&nbsp;&nbsp;&nbsp;&nbsp;&nbsp;&nbsp;&nbsp;&nbsp;&nbsp;&nbsp;&nbsp;&nbsp;&nbsp;&nbsp;&nbsp;|  \n",
    "100&nbsp;&nbsp;&nbsp;&nbsp;&nbsp;&nbsp;&nbsp;&nbsp;&nbsp;&nbsp;&nbsp;&nbsp;&nbsp;&nbsp;&nbsp;&nbsp;&nbsp;&nbsp;&nbsp;&nbsp;|  \n",
    "500&nbsp;&nbsp;&nbsp;&nbsp;&nbsp;&nbsp;&nbsp;&nbsp;&nbsp;&nbsp;&nbsp;&nbsp;&nbsp;&nbsp;&nbsp;&nbsp;&nbsp;&nbsp;&nbsp;&nbsp;|  \n",
    "1000&nbsp;&nbsp;&nbsp;&nbsp;&nbsp;&nbsp;&nbsp;&nbsp;&nbsp;&nbsp;&nbsp;&nbsp;&nbsp;&nbsp;&nbsp;&nbsp;&nbsp;&nbsp;|  \n",
    "5000&nbsp;&nbsp;&nbsp;&nbsp;&nbsp;&nbsp;&nbsp;&nbsp;&nbsp;&nbsp;&nbsp;&nbsp;&nbsp;&nbsp;&nbsp;&nbsp;&nbsp;&nbsp;|  \n",
    "10000&nbsp;&nbsp;&nbsp;&nbsp;&nbsp;&nbsp;&nbsp;&nbsp;&nbsp;&nbsp;&nbsp;&nbsp;&nbsp;&nbsp;&nbsp;&nbsp;|  \n",
    "50000&nbsp;&nbsp;&nbsp;&nbsp;&nbsp;&nbsp;&nbsp;&nbsp;&nbsp;&nbsp;&nbsp;&nbsp;&nbsp;&nbsp;&nbsp;&nbsp;|"
   ]
  },
  {
   "cell_type": "code",
   "execution_count": 54,
   "id": "d975ce0f-fe97-4622-b16d-bd10752142b2",
   "metadata": {},
   "outputs": [
    {
     "name": "stdin",
     "output_type": "stream",
     "text": [
      " 5 1000\n",
      " 1\n",
      " 200\n",
      " 400\n",
      " 800\n",
      " 1600\n"
     ]
    },
    {
     "name": "stdout",
     "output_type": "stream",
     "text": [
      "answer for K : 1000, coin count : 2\n",
      "\n",
      "CPU times: user 122 ms, sys: 24 ms, total: 146 ms\n",
      "Wall time: 10.8 s\n"
     ]
    }
   ],
   "source": [
    "%%time\n",
    "def min_coins(K, coins):\n",
    "    ## 입력받은 동전의 종류를 내림차 순으로 정렬\n",
    "    ## coin_count | K원을 만드는데 필요한 동전 개수의 초기값\n",
    "    coins.sort(reverse = True)\n",
    "    coin_count = 0\n",
    "    \n",
    "    for coin in coins:\n",
    "        ## 동전의 종류가 K값 보다 큰 경우 그냥 넘어감.\n",
    "        if coin > K: continue\n",
    "        else:\n",
    "            ## coin_count | K를 coin으로 나눈 몫으로 더한 값\n",
    "            ##         K  | coin이 사용된 갯수만큼의 값을 맞추고자 하는 값에서 빼줌.\n",
    "            ## e.g) K = 1000, coin = 400 → K = 1000 - 400*(1000 // 400)⇒ K = 1000 - 400*2 ⇒ K = 200\n",
    "            coin_count += K // coin\n",
    "            K -= coin * (K // coin)\n",
    "            \n",
    "    return coin_count\n",
    "\n",
    "N, K = map(int, input().split())\n",
    "coins = list(map(int, [input() for _ in range(N)]))\n",
    "    \n",
    "print(f'answer for K : {K}, coin count : {min_coins(K, coins)}\\n')"
   ]
  },
  {
   "cell_type": "code",
   "execution_count": 43,
   "id": "de068b6a-2398-4ba0-b8df-7fe5457b8e32",
   "metadata": {},
   "outputs": [
    {
     "name": "stdout",
     "output_type": "stream",
     "text": [
      "answer1 : 6\n",
      "answer2 : 12\n",
      "answer3 : 2\n",
      "\n",
      "CPU times: user 0 ns, sys: 0 ns, total: 0 ns\n",
      "Wall time: 248 µs\n"
     ]
    }
   ],
   "source": [
    "%%time\n",
    "answer1 = min_coins(4200, [1, 5, 10, 50, 100, 500, 1000, 5000, 10000, 50000])\n",
    "answer2 = min_coins(4790, [1, 5, 10, 50, 100, 500, 1000, 5000, 10000, 50000])\n",
    "answer3 = min_coins(10, [1, 2, 4, 8, 16])\n",
    "\n",
    "print(f'answer1 : {answer1}')\n",
    "print(f'answer2 : {answer2}')\n",
    "print(f'answer3 : {answer3}\\n')"
   ]
  },
  {
   "cell_type": "markdown",
   "id": "e70714f2-a50e-4f2c-87e9-ca7a11d244d1",
   "metadata": {},
   "source": [
    "# **3. 배남 문제**\n",
    "N개의 물건의 가치 V와 무게 M이 주어지고, W무게만큼 수용할 수 있는 배낭에  \n",
    "이 물건들을 가치의 합이 최대가 되게 담아야 한다.\n",
    "\n",
    "### **3-1. 입력 조건**\n",
    "1. 첫 번째 줄은 (value, weight) 쌍으로 담긴 어레이 형으로 입력 받는다.\n",
    "2. 두 번째 줄은 배낭 용량을 정수형으로 입력받는다.\n",
    "\n",
    "### **3-2. 출력 조건**\n",
    "1. 가능한 최대 value의 합\n",
    "\n",
    "### **입력 예시**&nbsp;&nbsp;&nbsp;&nbsp;&nbsp;&nbsp;&nbsp;&nbsp;&nbsp;&nbsp;&nbsp;&nbsp;&nbsp;&nbsp;&nbsp;&nbsp;**|**&nbsp;&nbsp;**출력 예시**\n",
    "[(60, 10), (100, 20), (120, 30)]  |  240  \n",
    "50&nbsp;&nbsp;&nbsp;&nbsp;&nbsp;&nbsp;&nbsp;&nbsp;&nbsp;&nbsp;&nbsp;&nbsp;&nbsp;&nbsp;&nbsp;&nbsp;&nbsp;&nbsp;&nbsp;&nbsp;&nbsp;&nbsp;&nbsp;&nbsp;&nbsp;&nbsp;&nbsp;&nbsp;&nbsp;&nbsp;&nbsp;&nbsp;&nbsp;&nbsp;&nbsp;&nbsp;&nbsp;&nbsp;&nbsp;&nbsp;&nbsp;&nbsp; | "
   ]
  },
  {
   "cell_type": "code",
   "execution_count": 6,
   "id": "80b91cd5-967e-4aec-bd3e-bdf53ab5fb21",
   "metadata": {},
   "outputs": [
    {
     "name": "stdout",
     "output_type": "stream",
     "text": [
      "[(2, 1), (1, 2)]\n"
     ]
    }
   ],
   "source": [
    "def knapsack(array, weight):\n",
    "    array = sorted(array, key = lambda x: x[0], reverse = True)\n",
    "    \n",
    "    total_value = 0\n",
    "    for v, w in array:\n",
    "        if w > weight: continue\n",
    "        \n",
    "        weight      -= w\n",
    "        total_value += v\n",
    "        \n",
    "    return total_value\n",
    "        \n",
    "\n",
    "knapsack([(1, 2), (2, 1)], 50)"
   ]
  },
  {
   "cell_type": "code",
   "execution_count": null,
   "id": "6e942e76-ad5b-42e2-a1bb-9a7f3b168a77",
   "metadata": {},
   "outputs": [],
   "source": []
  }
 ],
 "metadata": {
  "kernelspec": {
   "display_name": "bio",
   "language": "python",
   "name": "bio"
  },
  "language_info": {
   "codemirror_mode": {
    "name": "ipython",
    "version": 3
   },
   "file_extension": ".py",
   "mimetype": "text/x-python",
   "name": "python",
   "nbconvert_exporter": "python",
   "pygments_lexer": "ipython3",
   "version": "3.9.12"
  }
 },
 "nbformat": 4,
 "nbformat_minor": 5
}
