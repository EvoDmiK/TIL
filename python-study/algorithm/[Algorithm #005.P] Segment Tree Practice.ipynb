{
 "cells": [
  {
   "cell_type": "code",
   "execution_count": 1,
   "id": "7204fc32-638d-41bc-a855-35576bbbd23b",
   "metadata": {},
   "outputs": [
    {
     "name": "stdin",
     "output_type": "stream",
     "text": [
      " 5 3\n",
      " 5 4 3 2 1\n"
     ]
    }
   ],
   "source": [
    "N, M  = map(int, input().split())\n",
    "array = list(map(int, input().split()))"
   ]
  },
  {
   "cell_type": "code",
   "execution_count": 2,
   "id": "2d7f26f7-ce20-44d7-9e86-d2f6df55d2ea",
   "metadata": {},
   "outputs": [],
   "source": [
    "merge  = lambda left, right: left + right\n",
    "\n",
    "def build(arr, tree, node, left, right):\n",
    "\n",
    "    if left == right:\n",
    "        tree[node] = arr[left]\n",
    "        return tree[node]\n",
    "\n",
    "    mid   = left + (right - left) // 2\n",
    "    val_l = build(arr, tree,     2 * node,    left,   mid)\n",
    "    val_r = build(arr, tree, 2 * node + 1, mid + 1, right)\n",
    "\n",
    "    tree[node] = merge(val_l, val_r)\n",
    "    return tree[node]"
   ]
  },
  {
   "cell_type": "code",
   "execution_count": 3,
   "id": "e3616121-834d-4fef-a7f7-c868696f5d44",
   "metadata": {},
   "outputs": [
    {
     "data": {
      "text/plain": [
       "[0, 15, 12, 3, 9, 3, 2, 1, 5, 4, 0, 0, 0, 0, 0]"
      ]
     },
     "execution_count": 3,
     "metadata": {},
     "output_type": "execute_result"
    }
   ],
   "source": [
    "tree = [0] * (3 * len(array))\n",
    "build(array, tree, 1, 0, len(array) - 1)\n",
    "\n",
    "tree"
   ]
  },
  {
   "cell_type": "code",
   "execution_count": null,
   "id": "d88dfddb-8858-4239-a7c9-13dc3f56063d",
   "metadata": {},
   "outputs": [],
   "source": []
  }
 ],
 "metadata": {
  "kernelspec": {
   "display_name": "DS",
   "language": "python",
   "name": "ds"
  },
  "language_info": {
   "codemirror_mode": {
    "name": "ipython",
    "version": 3
   },
   "file_extension": ".py",
   "mimetype": "text/x-python",
   "name": "python",
   "nbconvert_exporter": "python",
   "pygments_lexer": "ipython3",
   "version": "3.11.5"
  }
 },
 "nbformat": 4,
 "nbformat_minor": 5
}
