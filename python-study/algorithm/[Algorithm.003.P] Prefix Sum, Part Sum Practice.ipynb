{
 "cells": [
  {
   "cell_type": "code",
   "execution_count": 21,
   "id": "58ecd63b-66cf-4e99-b9b2-6513b054899c",
   "metadata": {},
   "outputs": [
    {
     "name": "stdin",
     "output_type": "stream",
     "text": [
      " 4 3\n",
      " 100 101 382 573\n"
     ]
    }
   ],
   "source": [
    "n, m     = list(map(int, input().split()))\n",
    "rythms   = list(map(int, input().split()))"
   ]
  },
  {
   "cell_type": "code",
   "execution_count": 22,
   "id": "a0de50b6-f617-428b-8edc-bfc899e1189f",
   "metadata": {},
   "outputs": [
    {
     "data": {
      "text/plain": [
       "[0, 100, 201, 583, 1156]"
      ]
     },
     "execution_count": 22,
     "metadata": {},
     "output_type": "execute_result"
    }
   ],
   "source": [
    "sum_arr = [0] * (n + 1)\n",
    "\n",
    "for idx in range(n):\n",
    "    sum_arr[idx + 1] = sum_arr[idx] + rythms[idx]\n",
    "    \n",
    "sum_arr"
   ]
  },
  {
   "cell_type": "code",
   "execution_count": 20,
   "id": "6a54cd3f-11ff-490d-87eb-c0acf2280f64",
   "metadata": {},
   "outputs": [
    {
     "name": "stdout",
     "output_type": "stream",
     "text": [
      "0\n",
      "1\n",
      "1\n",
      "12\n",
      "12\n",
      "12\n",
      "23\n",
      "23\n",
      "24\n",
      "24\n",
      "24\n"
     ]
    }
   ],
   "source": [
    "part_sum = 0\n",
    "\n",
    "for (i, j) in partials:\n",
    "    \n",
    "    for idx in range(i, j):\n",
    "        \n",
    "        part_sum += abs(sum_arr[idx + 1] - sum_arr[idx])\n",
    "    \n",
    "        print(part_sum)\n",
    "    print(part_sum)"
   ]
  },
  {
   "cell_type": "code",
   "execution_count": 6,
   "id": "47e6c5dc-436d-4c5e-bbdc-8c02d1cc8605",
   "metadata": {},
   "outputs": [
    {
     "data": {
      "text/plain": [
       "[100, 101, 382, 573]"
      ]
     },
     "execution_count": 6,
     "metadata": {},
     "output_type": "execute_result"
    }
   ],
   "source": [
    "rythms"
   ]
  },
  {
   "cell_type": "code",
   "execution_count": null,
   "id": "356274b9-96c5-4daf-9108-e52e6f18750c",
   "metadata": {},
   "outputs": [],
   "source": []
  }
 ],
 "metadata": {
  "kernelspec": {
   "display_name": "dove",
   "language": "python",
   "name": "dove"
  },
  "language_info": {
   "codemirror_mode": {
    "name": "ipython",
    "version": 3
   },
   "file_extension": ".py",
   "mimetype": "text/x-python",
   "name": "python",
   "nbconvert_exporter": "python",
   "pygments_lexer": "ipython3",
   "version": "3.8.13"
  }
 },
 "nbformat": 4,
 "nbformat_minor": 5
}
