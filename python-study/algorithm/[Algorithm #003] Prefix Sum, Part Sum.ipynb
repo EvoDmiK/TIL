{
 "cells": [
  {
   "cell_type": "markdown",
   "id": "14deba79-a83b-4b3d-8be7-35e393c8ca4c",
   "metadata": {},
   "source": [
    "###  1.   1차원 배열\n",
    "#### 1-1. 1차원 배열에서의 누적합 (Prefix Sum of 1-Dimensional Array)"
   ]
  },
  {
   "cell_type": "code",
   "execution_count": 1,
   "id": "92bffd65-e413-48fa-a6e0-fce466a7dfc8",
   "metadata": {},
   "outputs": [],
   "source": [
    "array1     = [2, 4, 1, -5, 2, -3]\n",
    "length     = len(array1)\n",
    "sum_array1 = [0] * (length + 1)"
   ]
  },
  {
   "cell_type": "code",
   "execution_count": 2,
   "id": "34734049-b447-43c4-8d05-52fc95d61445",
   "metadata": {},
   "outputs": [
    {
     "name": "stdout",
     "output_type": "stream",
     "text": [
      "CPU times: user 0 ns, sys: 0 ns, total: 0 ns\n",
      "Wall time: 61.5 µs\n"
     ]
    },
    {
     "data": {
      "text/plain": [
       "[0, 2, 6, 7, 2, 4, 1]"
      ]
     },
     "execution_count": 2,
     "metadata": {},
     "output_type": "execute_result"
    }
   ],
   "source": [
    "%%time\n",
    "a = 0\n",
    "sum_ = sum_array1.copy()\n",
    "for idx, elem in enumerate(array1, 1):\n",
    "    \n",
    "    a        += elem\n",
    "    sum_[idx] = a\n",
    "    \n",
    "sum_"
   ]
  },
  {
   "cell_type": "markdown",
   "id": "4719b0f7-15e0-4fde-b610-419c27b0b998",
   "metadata": {},
   "source": [
    "- 1차원 배열에서 누적합을 구하는 공식은  \n",
    "  S[i + 1] = S[i] + A[i], 0 <= i <= len(A)"
   ]
  },
  {
   "cell_type": "code",
   "execution_count": 3,
   "id": "71befaaa-0c21-4d5c-a489-0773d81304ec",
   "metadata": {},
   "outputs": [
    {
     "name": "stdout",
     "output_type": "stream",
     "text": [
      "CPU times: user 0 ns, sys: 0 ns, total: 0 ns\n",
      "Wall time: 58.7 µs\n"
     ]
    },
    {
     "data": {
      "text/plain": [
       "[0, 2, 6, 7, 2, 4, 1]"
      ]
     },
     "execution_count": 3,
     "metadata": {},
     "output_type": "execute_result"
    }
   ],
   "source": [
    "%%time\n",
    "for idx in range(length):\n",
    "    sum_array1[idx + 1] = sum_array1[idx] + array1[idx]\n",
    "\n",
    "sum_array1"
   ]
  },
  {
   "cell_type": "markdown",
   "id": "0d8c8a58-e1a6-46f0-abad-34e15c0e2934",
   "metadata": {},
   "source": [
    "### 1-2. 1차원 배열에서의 부분합 (Part Sum of 1-Dimensional Array)\n",
    "- 1차원 배열에서 i부터 j 까지의 부분합을 구하는 공식은  \n",
    "  Sum_ij = S[j] - S[i - 1]"
   ]
  },
  {
   "cell_type": "code",
   "execution_count": 13,
   "id": "e7f4f894-45d3-474f-95ed-6bffacd1ba40",
   "metadata": {},
   "outputs": [
    {
     "name": "stdout",
     "output_type": "stream",
     "text": [
      "2 2\n"
     ]
    },
    {
     "data": {
      "text/plain": [
       "'Sum of array from 2 to 4 : 0'"
      ]
     },
     "execution_count": 13,
     "metadata": {},
     "output_type": "execute_result"
    }
   ],
   "source": [
    "i, j = 2, 4\n",
    "print(sum_array1[j], sum_array1[i - 1])\n",
    "f'Sum of array from {i} to {j} : {sum_array1[j] - sum_array1[i - 1]}'"
   ]
  },
  {
   "cell_type": "markdown",
   "id": "b53a7157-dc1a-4150-a97f-63975e55d55a",
   "metadata": {},
   "source": [
    "###  2. 2차원 배열\n",
    "#### 2-1. 2차원 배열에서의 누적합 (Prefix Sum of 2-Dimensional Array)"
   ]
  },
  {
   "cell_type": "code",
   "execution_count": 12,
   "id": "8f80ec3e-6871-411b-95ca-2fc50901ae5e",
   "metadata": {},
   "outputs": [
    {
     "data": {
      "text/plain": [
       "[[1, 2, 3, 4], [2, 3, 4, 5], [3, 4, 5, 6], [4, 5, 6, 7]]"
      ]
     },
     "execution_count": 12,
     "metadata": {},
     "output_type": "execute_result"
    }
   ],
   "source": [
    "array2  = [[1, 2, 3, 4], [2, 3, 4, 5], [3, 4, 5, 6], [4, 5, 6, 7]]\n",
    "m, n       = len(array2), len(array2[0])\n",
    "sum_array2    = [[0 for _ in range(n + 1)] for _ in range(m + 1)] \n",
    "\n",
    "array2"
   ]
  },
  {
   "cell_type": "markdown",
   "id": "0094a59c-22fb-4790-b1a9-9d8d09e01355",
   "metadata": {},
   "source": [
    "#### 2-2. 2차원 배열에서의 부분합 (Part Sum of 2-Dimensional Array)\n",
    "- (x1, y1)에서 (x2, y2) 까지의 부분합 공식  \n",
    "  **D = S[y][x] - S[y - 1][x] - S[y][x - 1] + S[y - 1][x - 1]**"
   ]
  },
  {
   "cell_type": "code",
   "execution_count": 6,
   "id": "fc2781e6-9258-407a-97f4-d066f869001c",
   "metadata": {},
   "outputs": [
    {
     "data": {
      "text/plain": [
       "[[0, 0, 0, 0, 0],\n",
       " [0, 1, 3, 6, 10],\n",
       " [0, 3, 8, 15, 24],\n",
       " [0, 6, 15, 27, 42],\n",
       " [0, 10, 24, 42, 64]]"
      ]
     },
     "execution_count": 6,
     "metadata": {},
     "output_type": "execute_result"
    }
   ],
   "source": [
    "for odx in range(1, n + 1):\n",
    "    \n",
    "    for idx in range(1, m + 1):\n",
    "        \n",
    "        sum_array2[odx][idx] = array2[odx - 1][idx - 1] + sum_array2[odx - 1][idx] + sum_array2[odx][idx - 1] - sum_array2[odx - 1][idx - 1]\n",
    "        \n",
    "sum_array2"
   ]
  },
  {
   "cell_type": "code",
   "execution_count": 11,
   "id": "d9f333de-01d1-4082-8da5-1d22b54ff3df",
   "metadata": {},
   "outputs": [
    {
     "data": {
      "text/plain": [
       "18"
      ]
     },
     "execution_count": 11,
     "metadata": {},
     "output_type": "execute_result"
    }
   ],
   "source": [
    "hdx1, hdx2, wdx1, wdx2 = 1, 3, 1, 3\n",
    "sum_array2[hdx2][wdx2] - sum_array2[hdx2][wdx1] - sum_array2[hdx1][wdx2] + sum_array2[hdx1][wdx]"
   ]
  },
  {
   "cell_type": "code",
   "execution_count": null,
   "id": "27ef21ff-1413-4cb7-8903-7fc4e07d4675",
   "metadata": {},
   "outputs": [],
   "source": []
  }
 ],
 "metadata": {
  "kernelspec": {
   "display_name": "dove",
   "language": "python",
   "name": "dove"
  },
  "language_info": {
   "codemirror_mode": {
    "name": "ipython",
    "version": 3
   },
   "file_extension": ".py",
   "mimetype": "text/x-python",
   "name": "python",
   "nbconvert_exporter": "python",
   "pygments_lexer": "ipython3",
   "version": "3.8.13"
  }
 },
 "nbformat": 4,
 "nbformat_minor": 5
}
