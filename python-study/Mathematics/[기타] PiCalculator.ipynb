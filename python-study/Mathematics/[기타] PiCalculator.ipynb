{
 "cells": [
  {
   "cell_type": "code",
   "execution_count": 1,
   "id": "710353ce-e27b-4771-85b2-9292320c9483",
   "metadata": {},
   "outputs": [],
   "source": [
    "from random import *\n",
    "import math as mt"
   ]
  },
  {
   "cell_type": "code",
   "execution_count": 2,
   "id": "3aedc588-cdc2-4ab6-bba1-c96d76945096",
   "metadata": {},
   "outputs": [],
   "source": [
    "N = 100"
   ]
  },
  {
   "cell_type": "code",
   "execution_count": 3,
   "id": "2666854f-3de4-407d-ad17-43ed1b7aa19c",
   "metadata": {},
   "outputs": [
    {
     "name": "stdout",
     "output_type": "stream",
     "text": [
      "CPU times: user 0 ns, sys: 0 ns, total: 0 ns\n",
      "Wall time: 228 µs\n"
     ]
    },
    {
     "data": {
      "text/plain": [
       "3.12"
      ]
     },
     "execution_count": 3,
     "metadata": {},
     "output_type": "execute_result"
    }
   ],
   "source": [
    "%%time\n",
    "\n",
    "## 원의 면적를 이용한 방법\n",
    "def pi_circle(n):\n",
    "    \n",
    "    pi, cnt = 0, 0\n",
    "    for idx in range(n):\n",
    "        \n",
    "        x, y = random(), random()\n",
    "        if x**2 + y**2 < 1: cnt += 1\n",
    "        \n",
    "        pi = 4. * float(cnt) / (idx + 1)\n",
    "        \n",
    "    return pi\n",
    "\n",
    "pi_circle(N)"
   ]
  },
  {
   "cell_type": "code",
   "execution_count": 4,
   "id": "28257f01-fe69-4d20-a4df-3bd7a5c6ebd8",
   "metadata": {},
   "outputs": [
    {
     "name": "stdout",
     "output_type": "stream",
     "text": [
      "CPU times: user 0 ns, sys: 0 ns, total: 0 ns\n",
      "Wall time: 127 µs\n"
     ]
    },
    {
     "data": {
      "text/plain": [
       "3.1415929035585526"
      ]
     },
     "execution_count": 4,
     "metadata": {},
     "output_type": "execute_result"
    }
   ],
   "source": [
    "%%time\n",
    "\n",
    "## Nilakantha 급수를 이용한 방법\n",
    "def pi_nilakantha(n):\n",
    "\n",
    "    pi, decimal, sign = 3, 0, 1\n",
    "    for idx in range(1, n):\n",
    "        \n",
    "        decimal += sign / (idx * (idx + 1) * (2*idx + 1))\n",
    "        sign     = -sign\n",
    "        \n",
    "    return pi + decimal\n",
    "\n",
    "pi_nilakantha(N)"
   ]
  },
  {
   "cell_type": "code",
   "execution_count": 5,
   "id": "882ffee6-e51b-47ea-af4c-17055aa14af3",
   "metadata": {},
   "outputs": [
    {
     "name": "stdout",
     "output_type": "stream",
     "text": [
      "CPU times: user 0 ns, sys: 0 ns, total: 0 ns\n",
      "Wall time: 153 µs\n"
     ]
    },
    {
     "data": {
      "text/plain": [
       "3.1315929035585537"
      ]
     },
     "execution_count": 5,
     "metadata": {},
     "output_type": "execute_result"
    }
   ],
   "source": [
    "%%time\n",
    "\n",
    "## arctan의 테일러 급수를 이용한 방법 (Leibniz 급수)\n",
    "def pi_leibniz(n):\n",
    "\n",
    "    pi          = 0\n",
    "    for idx in range(0, n):\n",
    "        pi += 4*(-1)**idx / (2*idx + 1)\n",
    "        \n",
    "    return pi\n",
    "\n",
    "pi_leibniz(N)"
   ]
  },
  {
   "cell_type": "code",
   "execution_count": 6,
   "id": "a0fe42bf-3609-4428-8937-7308299b020c",
   "metadata": {},
   "outputs": [
    {
     "name": "stdout",
     "output_type": "stream",
     "text": [
      "CPU times: user 0 ns, sys: 1 ms, total: 1 ms\n",
      "Wall time: 383 µs\n"
     ]
    },
    {
     "data": {
      "text/plain": [
       "3.1415926535897944"
      ]
     },
     "execution_count": 6,
     "metadata": {},
     "output_type": "execute_result"
    }
   ],
   "source": [
    "%%time\n",
    "\n",
    "## Martin 급수를 이용한 방법\n",
    "def pi_martin(n):\n",
    "    \n",
    "    pi          = 0\n",
    "    for idx in range(1, n):\n",
    "        \n",
    "        fore = 16*(-1)**(idx - 1)/(2*idx - 1) * (1/5)   ** (2*idx - 1)\n",
    "        rear =  4*(-1)**(idx - 1)/(2*idx - 1) * (1/239) ** (2*idx - 1)\n",
    "        \n",
    "        pi += (fore - rear)\n",
    "        \n",
    "    return pi\n",
    "\n",
    "pi_martin(N)"
   ]
  },
  {
   "cell_type": "code",
   "execution_count": 7,
   "id": "692fc39f-3c1d-466a-9508-84da5bfcdede",
   "metadata": {},
   "outputs": [
    {
     "name": "stdout",
     "output_type": "stream",
     "text": [
      "CPU times: user 15 ms, sys: 0 ns, total: 15 ms\n",
      "Wall time: 14.6 ms\n"
     ]
    },
    {
     "data": {
      "text/plain": [
       "3.141592653589793"
      ]
     },
     "execution_count": 7,
     "metadata": {},
     "output_type": "execute_result"
    }
   ],
   "source": [
    "%%time\n",
    "\n",
    "factorial = lambda n: 1 if n == 0 else n * factorial(n - 1)\n",
    "\n",
    "## Ramanujan 급수를 이용한 방법\n",
    "def pi_ramanujan(n):\n",
    "    \n",
    "    alpha  = 2*mt.sqrt(2) / 99 ** 2\n",
    "    pi_inv = 0\n",
    "    \n",
    "    for idx in range(n):\n",
    "        fore    = factorial(4*idx)   / factorial(idx) ** 4\n",
    "        rear    = (26390*idx + 1103) / 396 **(4 * idx)\n",
    "        pi_inv += fore * rear\n",
    "        \n",
    "    return 1 / (pi_inv * alpha)\n",
    "\n",
    "pi_ramanujan(N)"
   ]
  },
  {
   "cell_type": "code",
   "execution_count": 8,
   "id": "e45d4574-7c77-4fba-b9a9-c16a323a19cf",
   "metadata": {},
   "outputs": [
    {
     "name": "stdout",
     "output_type": "stream",
     "text": [
      "CPU times: user 0 ns, sys: 1 ms, total: 1 ms\n",
      "Wall time: 213 µs\n"
     ]
    },
    {
     "data": {
      "text/plain": [
       "3.141592653589793"
      ]
     },
     "execution_count": 8,
     "metadata": {},
     "output_type": "execute_result"
    }
   ],
   "source": [
    "%%time\n",
    "\n",
    "## Plouffe 급수를 이용한 방법\n",
    "def pi_plouffe(n):\n",
    "    \n",
    "    pi = 0\n",
    "    for idx in range(n):\n",
    "        pi += pow(1 / 16, idx)*(4 / (8*idx + 1) - 1 / (4*idx + 2) - 1 / (8*idx + 5) - 1 / (8*idx + 6))\n",
    "        \n",
    "    return pi\n",
    "\n",
    "pi_plouffe(N)"
   ]
  },
  {
   "cell_type": "code",
   "execution_count": null,
   "id": "5e56ac2b-57ec-492b-8804-559466e23021",
   "metadata": {},
   "outputs": [],
   "source": []
  }
 ],
 "metadata": {
  "kernelspec": {
   "display_name": "dove",
   "language": "python",
   "name": "dove"
  },
  "language_info": {
   "codemirror_mode": {
    "name": "ipython",
    "version": 3
   },
   "file_extension": ".py",
   "mimetype": "text/x-python",
   "name": "python",
   "nbconvert_exporter": "python",
   "pygments_lexer": "ipython3",
   "version": "3.8.13"
  }
 },
 "nbformat": 4,
 "nbformat_minor": 5
}
