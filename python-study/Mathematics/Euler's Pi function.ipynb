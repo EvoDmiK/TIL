{
 "cells": [
  {
   "cell_type": "code",
   "execution_count": 1,
   "id": "5602975b-2e16-41e1-b28e-9796bac5743f",
   "metadata": {},
   "outputs": [],
   "source": [
    "import math as mt"
   ]
  },
  {
   "cell_type": "code",
   "execution_count": 2,
   "id": "f59e3454-f28b-4162-83bb-8e2a5387b008",
   "metadata": {},
   "outputs": [],
   "source": [
    "## 소수 판별해주는 함수\n",
    "def is_prime(p):\n",
    "\n",
    "    if p == 1: return False\n",
    "        \n",
    "    for idx in range(2, int(mt.sqrt(p)) + 1):\n",
    "\n",
    "        if p % idx == 0: return False\n",
    "\n",
    "    return True\n",
    "\n",
    "\n",
    "## 소인수 구해주는 함수\n",
    "def get_prime_factors(n):\n",
    "\n",
    "    prime_factors = []\n",
    "    for idx in range(1, int(mt.sqrt(n)) + 1):\n",
    "\n",
    "        q, r = divmod(n, idx)\n",
    "        if r ==0:\n",
    "\n",
    "            if is_prime(idx): prime_factors.append(idx)\n",
    "\n",
    "            ## idx를 제곱해서 n이 되는 경우, 이미 prime_factors에\n",
    "            ## 들어가 있기 때문에 추가하지 않음.\n",
    "            if ((idx ** 2) != n):\n",
    "                if is_prime(q): prime_factors.append(q)\n",
    "\n",
    "    return sorted(prime_factors)\n",
    "\n",
    "\n",
    "def euler_pi_function(n):\n",
    "\n",
    "    prime_factors = get_prime_factors(n)\n",
    "    for factor in prime_factors:\n",
    "        \n",
    "        n *= (1 - 1/factor)\n",
    "\n",
    "    return n\n",
    "\n",
    "\n",
    "def get_relatively_primes(n):\n",
    "\n",
    "    cnt = 0\n",
    "    for idx in range(1, n + 1):\n",
    "\n",
    "        if mt.gcd(idx, n) == 1: cnt += 1\n",
    "\n",
    "    return cnt"
   ]
  },
  {
   "cell_type": "code",
   "execution_count": 3,
   "id": "0bfc3704-3325-4769-898a-4b282563ff57",
   "metadata": {},
   "outputs": [
    {
     "name": "stdout",
     "output_type": "stream",
     "text": [
      "Euler's pi function :     21768208.0\n",
      "count one by one    : 21768208\n"
     ]
    }
   ],
   "source": [
    "print(f\"Euler's pi function :     {euler_pi_function(23571113)}\")\n",
    "print(f\"count one by one    : {get_relatively_primes(23571113)}\")"
   ]
  },
  {
   "cell_type": "code",
   "execution_count": 4,
   "id": "70a7213b-8987-4eba-9ef9-3635b1207ebb",
   "metadata": {},
   "outputs": [
    {
     "name": "stdout",
     "output_type": "stream",
     "text": [
      "1.79 ms ± 5.3 µs per loop (mean ± std. dev. of 7 runs, 1,000 loops each)\n"
     ]
    }
   ],
   "source": [
    "%%timeit\n",
    "euler_pi_function(23571113)"
   ]
  },
  {
   "cell_type": "code",
   "execution_count": 5,
   "id": "059f2847-087f-4308-9324-412bcb023022",
   "metadata": {},
   "outputs": [
    {
     "name": "stdout",
     "output_type": "stream",
     "text": [
      "15.1 s ± 1.02 s per loop (mean ± std. dev. of 7 runs, 1 loop each)\n"
     ]
    }
   ],
   "source": [
    "%%timeit\n",
    "get_relatively_primes(23571113)"
   ]
  },
  {
   "cell_type": "code",
   "execution_count": null,
   "id": "dcf410d9-4e84-4ab5-bde4-19efec8899ed",
   "metadata": {},
   "outputs": [],
   "source": []
  }
 ],
 "metadata": {
  "kernelspec": {
   "display_name": "DS",
   "language": "python",
   "name": "ds"
  },
  "language_info": {
   "codemirror_mode": {
    "name": "ipython",
    "version": 3
   },
   "file_extension": ".py",
   "mimetype": "text/x-python",
   "name": "python",
   "nbconvert_exporter": "python",
   "pygments_lexer": "ipython3",
   "version": "3.11.5"
  }
 },
 "nbformat": 4,
 "nbformat_minor": 5
}
