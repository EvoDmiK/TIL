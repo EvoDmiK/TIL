{
 "cells": [
  {
   "cell_type": "markdown",
   "id": "35f85e1b-ebec-4a30-ae48-75c8c308093b",
   "metadata": {},
   "source": [
    "## **1.1. 넘파이로 벡터 생성 및 시각화하기**\n",
    "\n",
    "- **벡터 (vector)** 는 수를 순서대로 나열한 것.\n",
    "    - 벡터의 차원 (dimentionality)은 벡터가 가진 원소의 수를 뜻함.  \n",
    "      ⚠️ 파이썬에서의 벡터의 차원은 벡터의 **길이 (length)** 혹은 **모양 (shape)** 이라고 한다.\n",
    "    - 벡터의 방향 (orientation)은 벡터가 **열 방향**인지 **행 방향**인지 나타냄.  \n",
    "      $$\n",
    "          \\vec{x}\\;=\\;\\begin{bmatrix} x_1 \\\\ x_2 \\\\ \\vdots \\\\x_n \\end{bmatrix},\n",
    "          \\vec{y}\\;=\\;\\begin{bmatrix} y_1\\;y_2\\;\\cdots\\;y_m \\end{bmatrix}\n",
    "      $$\n",
    "      - 위의 예에서 벡터 x는 n차원 열 벡터, 벡터 y는 m차원 행 벡터이다.  \n",
    "        ⚠️ 행 벡터와 열 벡터가 가지는 원소가 같더라도, 다른 벡터이다.\n",
    "\n",
    "      ⚠️ 모든 벡터는 벡터가 가진 원소의 수에 상관없이 numpy에서 2차원 배열로 간주된다.\n",
    "      - 보통 벡터에 아무런 표시가 없다면 열 방향으로 가정하고, 행 벡터는 $\\vec{w}^T$로 표기한다.\n",
    "        - 이때, T는 **전치 연산 (transpose operation)** 이라고 한다.  \n",
    "          ⚠️ ($\\vec{w}^T)^T = \\vec{w}$이다."
   ]
  },
  {
   "cell_type": "code",
   "execution_count": 1,
   "id": "b9b4154a-63e6-4e0a-92d1-b46e495171aa",
   "metadata": {},
   "outputs": [],
   "source": [
    "import numpy as np"
   ]
  },
  {
   "cell_type": "code",
   "execution_count": 2,
   "id": "3d61db34-70ee-427c-961e-858e97f4c96e",
   "metadata": {},
   "outputs": [
    {
     "name": "stdout",
     "output_type": "stream",
     "text": [
      "1d array shape      : (3,)\n",
      "column vector shape : (3, 1)\n",
      "row vector shape    : (1, 3)\n"
     ]
    }
   ],
   "source": [
    "## 1차원 배열 (방향이 없음)\n",
    "array   = np.array([1, 2, 3])\n",
    "\n",
    "## 열 벡터 (column vector), 3 x 1 사이즈\n",
    "col_vec = np.array([[1], [2], [3]])\n",
    "\n",
    "## 행 벡터 (row vector), 1 x 3 사이즈\n",
    "row_vec = np.array([[1, 2, 3]])\n",
    "\n",
    "print(f'1d array shape      : {array.shape}')\n",
    "print(f'column vector shape : {col_vec.shape}')\n",
    "print(f'row vector shape    : {row_vec.shape}')"
   ]
  },
  {
   "cell_type": "markdown",
   "id": "8d80966f-e75d-470d-8dd0-c43898246fb7",
   "metadata": {},
   "source": [
    "### **1.1.1. 벡터의 기하학적 해석**\n",
    "- 벡터는 대수적으로는 **순서대로 나열된 수 목록**으로 해석하지만,  \n",
    "  기하학적으로 벡터는 특정 길이 (혹은 **크기 (magnitude)**)와 방향(혹은 **각도 (angle)**)을 가진 직선으로 해석된다.  \n",
    "  ⚠️ 여기서 방향은 양의 $x$축을 기준으로 방향을 가진다.  \n",
    "  ⚠️ 벡터의 두 점은 시작하는 꼬리, 끝나는 머리(화살표가 있음)로 구성된다.\n",
    "\n",
    "## **1.2. 벡터 연산**\n",
    "### **1.2.1. 두 벡터의 덧셈**\n",
    "- 두 벡터의 덧셈은 서로 대응되는 원소끼리 더한다.\n",
    "    - 차원이 다른 즉, 벡터 내 원소의 개수가 다른 경우에는 덧셈 연산을 할 수 없다.\n"
   ]
  },
  {
   "cell_type": "code",
   "execution_count": 3,
   "id": "ae0737c3-7430-4873-8a04-13c454c43382",
   "metadata": {},
   "outputs": [
    {
     "name": "stdout",
     "output_type": "stream",
     "text": [
      "operands could not be broadcast together with shapes (1,4) (1,3) \n",
      "v + w : [[14 25 36]]\n",
      "u + w : [[0 0 0]]\n"
     ]
    }
   ],
   "source": [
    "v  = np.array([[4, 5, 6]])\n",
    "w  = np.array([[10, 20, 30]])\n",
    "u  = np.array([[ 0, 3, 6, 9]])\n",
    "\n",
    "v_p_w = v + w\n",
    "try: u_p_w = u + w\n",
    "\n",
    "## 두 벡터의 차원이 달라 에러가 발생한다.\n",
    "except Exception as e: \n",
    "    u_p_w  = np.zeros((1, 3), dtype = np.uint8)\n",
    "    print(e)\n",
    "\n",
    "print(f'v + w : {v_p_w}')\n",
    "print(f'u + w : {u_p_w}')"
   ]
  },
  {
   "cell_type": "code",
   "execution_count": 4,
   "id": "6d6ad48a-3892-458c-9391-33e732ab5425",
   "metadata": {},
   "outputs": [
    {
     "name": "stdout",
     "output_type": "stream",
     "text": [
      "열 벡터의 사이즈         : (3, 1)\n",
      "행 벡터의 사이즈         : (1, 4)\n",
      "두 벡터 덧셈 연산의 사이즈 : (3, 4)\n"
     ]
    },
    {
     "data": {
      "text/plain": [
       "array([[ 5,  6,  7,  8],\n",
       "       [ 6,  7,  8,  9],\n",
       "       [ 7,  8,  9, 10]])"
      ]
     },
     "execution_count": 4,
     "metadata": {},
     "output_type": "execute_result"
    }
   ],
   "source": [
    "#⚠️ numpy에서 열 벡터와 행 벡터를 더하고자 하면 numpy의 브로드캐스팅 (broadcasting)연산으로\n",
    "## (열 벡터의 차원) x (행 벡터의 차원) 사이즈의 행렬로 만들어진다.\n",
    "v = np.array([[4, 5, 6, 7]])\n",
    "w = np.array([[1, 2, 3]]).T\n",
    "\n",
    "print(f'열 벡터의 사이즈         : {w.shape}')\n",
    "print(f'행 벡터의 사이즈         : {v.shape}')\n",
    "print(f'두 벡터 덧셈 연산의 사이즈 : {(w + v).shape}')\n",
    "w + v"
   ]
  },
  {
   "cell_type": "markdown",
   "id": "d8f5307a-8f0b-47f6-8eed-4068150d625e",
   "metadata": {},
   "source": [
    "### **1.2.2. 벡터의 덧셈과 뺄셈의 기하학적 해석**\n",
    "- 두 벡터를 기하학적으로 더한 결과는 한 벡터의 꼬리와 다른 한 벡터의 머리를 이은 선이다.\n",
    "    - 여러 벡터를 더한 최종 합은 첫 번째 꼬리에서 마지막 머리까지 이어지는 선이 된다.\n",
    "- 두 벡터를 빼는 방식은 두 벡터의 꼬리를 같은 좌표에 두고, 한 벡터의 머리에서 다른 벡터의 머리로 가는 선이다.\n",
    "    - 직교벡터 분해의 기초가 되며, 선형 최소 제곱법 등 과학과 공학에서 주로 사용된다.\n",
    " \n",
    "### **1.2.3. 스칼라-벡터 곱셈**\n",
    "- 선대에서 **스칼라 (scalar)** 는 벡터나 행렬에 포함된 원소가 아닌, 수 그 자체를 의미한다.\n",
    "    - 스칼라는 일반적으로 그리스어 소문자로 나타내고, 대표적은 스칼라로는 eigen value를 의미하는 $\\lambda$가 있다.\n",
    "    - 스칼라-벡터 곱셈은 벡터의 각 원소에 스칼라를 곱한다.\n",
    "        - 스칼라가 양의 실수 일때, 스칼라-벡터 곱의 기하학적 의미는 벡터의 방향은 동일하지만, 크기가 스칼라 배 된다는 특징이 있다.\n",
    "\n",
    "📓 Note. **영 벡터 (zero vector)**\n",
    "- 모든 원소가 0인 벡터이며, 볼트체로 0을 표시\n",
    "    - 영벡터를 이용해 문제를 푸는 것은 선형 대수에서 자명하지 않은 해를 찾을 때 사용된다.\n",
    " \n",
    "### **1.2.4. 스칼라-벡터 덧셈**\n",
    "- 일반적으로 스칼라-벡터 덧셈 연산은 성립하지 않지만, 파이썬 같은 수치 처리 프로그램에선 가능하다.\n",
    "    - 스칼라-벡터 곱셈과 유사한 결과를 보이는데, 각 벡터의 원소에 스칼라를 더한값을 결과물로 갖는다. "
   ]
  },
  {
   "cell_type": "code",
   "execution_count": 5,
   "id": "664e32ce-db62-4be1-943a-9ae6cf4c38c6",
   "metadata": {},
   "outputs": [
    {
     "name": "stdout",
     "output_type": "stream",
     "text": [
      "scalar * a :\n",
      "[[ 2  4  6  8 10]]\n",
      "\n",
      "scalar * b :\n",
      "[[ 4]\n",
      " [ 6]\n",
      " [10]\n",
      " [14]\n",
      " [22]]\n",
      "\n",
      "scalar + a :\n",
      "[[3 4 5 6 7]]\n"
     ]
    }
   ],
   "source": [
    "scalar = 2\n",
    "a      = np.array([[1, 2, 3, 4,  5]])\n",
    "b      = np.array([[2, 3, 5, 7, 11]]).T\n",
    "\n",
    "print(f'scalar * a :\\n{scalar * a}\\n')\n",
    "print(f'scalar * b :\\n{scalar * b}\\n')\n",
    "print(f'scalar + a :\\n{scalar + a}')"
   ]
  },
  {
   "cell_type": "markdown",
   "id": "0643589d-6237-4f00-bea6-3007ecfc63ca",
   "metadata": {},
   "source": [
    "### **1.2.5. 전치 (transpose)**\n",
    "- 전치 연산을 열벡터 -> 행벡터 혹은 행벡터 -> 열벡터로 변환하는 연산을 뜻한다.\n",
    "    - 이 개념을 벡터가 아닌, 행렬로 확장한다면 행렬 m을 전치 시켰을 때, (i, j) 번째 원소는 (j, i) 번째 원소가 된다.  \n",
    "      i.e. $M^T_{i, j}\\;=\\;M_{j, i}$가 된다.\n",
    "    - 또한, 상기한 대로 특정 벡터나 행렬에 두 번 전치 연산을 취한 경우, 자기 자신이 된다.  \n",
    "      i.e. $(\\vec w^T)^T\\;=\\;\\vec w$\n",
    "\n",
    "### **1.2.6. 벡터 브로드 캐스팅**\n",
    "- 브로드캐스팅 연산은 전통적인 선대 교과서에는 없는 내용이고, 현대 컴퓨터 기반의 선대에서만 존재한다.\n",
    "    - 한 벡터를 다른 벡터의 각 원소로 연산을 여러번 반복하는 방식으로 동작한다. "
   ]
  },
  {
   "cell_type": "code",
   "execution_count": 6,
   "id": "c941962d-343c-4612-8771-ca2737896a2b",
   "metadata": {},
   "outputs": [
    {
     "name": "stdout",
     "output_type": "stream",
     "text": [
      "v.shape : (1, 3) \n",
      "w.shape : (1, 2)\n",
      "\n",
      "[v.T + w] \n",
      "[[11 21]\n",
      " [12 22]\n",
      " [13 23]]\n",
      "\n",
      "[v   + w.T]\n",
      "[[11 12 13]\n",
      " [21 22 23]]\n"
     ]
    }
   ],
   "source": [
    "v = np.array([[ 1,  2,  3]])\n",
    "w = np.array([[10, 20]])\n",
    "\n",
    "print(f'v.shape : {v.shape} \\nw.shape : {w.shape}\\n')\n",
    "print(f'[v.T + w] \\n{v.T + w}\\n')\n",
    "print(f'[v   + w.T]\\n{v + w.T}')"
   ]
  },
  {
   "cell_type": "code",
   "execution_count": null,
   "id": "9bd6517c-7e79-4d1a-a615-7d2b4c8371bb",
   "metadata": {},
   "outputs": [],
   "source": []
  },
  {
   "cell_type": "code",
   "execution_count": null,
   "id": "df20f629-2171-4d29-8bbc-581e0e2fb921",
   "metadata": {},
   "outputs": [],
   "source": []
  },
  {
   "cell_type": "code",
   "execution_count": null,
   "id": "e688d14e-7f70-4a82-8d60-e3c3f71113ea",
   "metadata": {},
   "outputs": [],
   "source": []
  },
  {
   "cell_type": "code",
   "execution_count": null,
   "id": "8dbc912a-cb3c-444f-829e-c66e8c1487cb",
   "metadata": {},
   "outputs": [],
   "source": []
  },
  {
   "cell_type": "code",
   "execution_count": null,
   "id": "6aaebf5e-b78c-4efa-b2eb-51736a47f39b",
   "metadata": {},
   "outputs": [],
   "source": []
  },
  {
   "cell_type": "code",
   "execution_count": null,
   "id": "d4e1163c-117e-4995-8d22-1bc926cf6ccd",
   "metadata": {},
   "outputs": [],
   "source": []
  },
  {
   "cell_type": "code",
   "execution_count": null,
   "id": "727d851a-563a-4c39-9876-53d98bb3195b",
   "metadata": {},
   "outputs": [],
   "source": []
  },
  {
   "cell_type": "markdown",
   "id": "3c30d88e-bef7-401a-9f3b-2109b494bd06",
   "metadata": {},
   "source": [
    "# **99. 참고자료**\n",
    "## **99-1. 도서** \n",
    "- 개발자를 위한 실전 선형대수학 | 마이크. X. 코헨 저, 장정호 역 / 한빛 미디어\n",
    "\n",
    "## **99-2. 논문, 학술지**\n",
    "\n",
    "## **99-3. 웹 사이트**\n",
    "\n",
    "## **99-4. 데이터셋 출처**\n"
   ]
  },
  {
   "cell_type": "code",
   "execution_count": null,
   "id": "36d572fc-c42f-452c-a00c-c2effd65fea7",
   "metadata": {},
   "outputs": [],
   "source": []
  }
 ],
 "metadata": {
  "kernelspec": {
   "display_name": "DS",
   "language": "python",
   "name": "ds"
  },
  "language_info": {
   "codemirror_mode": {
    "name": "ipython",
    "version": 3
   },
   "file_extension": ".py",
   "mimetype": "text/x-python",
   "name": "python",
   "nbconvert_exporter": "python",
   "pygments_lexer": "ipython3",
   "version": "3.11.5"
  }
 },
 "nbformat": 4,
 "nbformat_minor": 5
}
