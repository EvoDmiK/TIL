{
 "cells": [
  {
   "cell_type": "markdown",
   "id": "35f85e1b-ebec-4a30-ae48-75c8c308093b",
   "metadata": {},
   "source": [
    "## **1.1. 넘파이로 벡터 생성 및 시각화하기**\n",
    "\n",
    "- **벡터 (vector)** 는 수를 순서대로 나열한 것.\n",
    "    - 벡터의 차원 (dimentionality)은 벡터가 가진 원소의 수를 뜻함.  \n",
    "      ⚠️ 파이썬에서의 벡터의 차원은 벡터의 **길이 (length)** 혹은 **모양 (shape)** 이라고 한다.\n",
    "    - 벡터의 방향 (orientation)은 벡터가 **열 방향**인지 **행 방향**인지 나타냄.  \n",
    "      $$\n",
    "          \\vec{x}\\;=\\;\\begin{bmatrix} x_1 \\\\ x_2 \\\\ \\vdots \\\\x_n \\end{bmatrix},\n",
    "          \\vec{y}\\;=\\;\\begin{bmatrix} y_1\\;y_2\\;\\cdots\\;y_m \\end{bmatrix}\n",
    "      $$\n",
    "      - 위의 예에서 벡터 x는 n차원 열 벡터, 벡터 y는 m차원 행 벡터이다.  \n",
    "        ⚠️ 행 벡터와 열 벡터가 가지는 원소가 같더라도, 다른 벡터이다.\n",
    "\n",
    "      ⚠️ 모든 벡터는 벡터가 가진 원소의 수에 상관없이 numpy에서 2차원 배열로 간주된다.\n",
    "      - 보통 벡터에 아무런 표시가 없다면 열 방향으로 가정하고, 행 벡터는 $\\vec{w}^T$로 표기한다.\n",
    "        - 이때, T는 **전치 연산 (transpose operation)** 이라고 한다.  \n",
    "          ⚠️ ($\\vec{w}^T)^T = \\vec{w}$이다."
   ]
  },
  {
   "cell_type": "code",
   "execution_count": 1,
   "id": "b9b4154a-63e6-4e0a-92d1-b46e495171aa",
   "metadata": {},
   "outputs": [],
   "source": [
    "import numpy as np"
   ]
  },
  {
   "cell_type": "code",
   "execution_count": 2,
   "id": "3d61db34-70ee-427c-961e-858e97f4c96e",
   "metadata": {},
   "outputs": [
    {
     "name": "stdout",
     "output_type": "stream",
     "text": [
      "1d array shape      : (3,)\n",
      "column vector shape : (3, 1)\n",
      "row vector shape    : (1, 3)\n"
     ]
    }
   ],
   "source": [
    "## 1차원 배열 (방향이 없음)\n",
    "array   = np.array([1, 2, 3])\n",
    "\n",
    "## 열 벡터 (column vector), 3 x 1 사이즈\n",
    "col_vec = np.array([[1], [2], [3]])\n",
    "\n",
    "## 행 벡터 (row vector), 1 x 3 사이즈\n",
    "row_vec = np.array([[1, 2, 3]])\n",
    "\n",
    "print(f'1d array shape      : {array.shape}')\n",
    "print(f'column vector shape : {col_vec.shape}')\n",
    "print(f'row vector shape    : {row_vec.shape}')"
   ]
  },
  {
   "cell_type": "markdown",
   "id": "8d80966f-e75d-470d-8dd0-c43898246fb7",
   "metadata": {},
   "source": [
    "### **1.1.1. 벡터의 기하학적 해석**\n",
    "- 벡터는 대수적으로는 **순서대로 나열된 수 목록**으로 해석하지만,  \n",
    "  기하학적으로 벡터는 특정 길이 (혹은 **크기 (magnitude)**)와 방향(혹은 **각도 (angle)**)을 가진 직선으로 해석된다.  \n",
    "  ⚠️ 여기서 방향은 양의 $x$축을 기준으로 방향을 가진다.  \n",
    "  ⚠️ 벡터의 두 점은 시작하는 꼬리, 끝나는 머리(화살표가 있음)로 구성된다.\n",
    "\n",
    "## **1.2. 벡터 연산**\n",
    "### **1.2.1. 두 벡터의 덧셈**\n",
    "- 두 벡터의 덧셈은 서로 대응되는 원소끼리 더한다.\n",
    "    - 차원이 다른 즉, 벡터 내 원소의 개수가 다른 경우에는 덧셈 연산을 할 수 없다.\n"
   ]
  },
  {
   "cell_type": "code",
   "execution_count": 3,
   "id": "ae0737c3-7430-4873-8a04-13c454c43382",
   "metadata": {},
   "outputs": [
    {
     "name": "stdout",
     "output_type": "stream",
     "text": [
      "operands could not be broadcast together with shapes (1,4) (1,3) \n",
      "v + w : [[14 25 36]]\n",
      "u + w : [[0 0 0]]\n"
     ]
    }
   ],
   "source": [
    "v  = np.array([[4, 5, 6]])\n",
    "w  = np.array([[10, 20, 30]])\n",
    "u  = np.array([[ 0, 3, 6, 9]])\n",
    "\n",
    "v_p_w = v + w\n",
    "try: u_p_w = u + w\n",
    "except Exception as e: \n",
    "    u_p_w  = np.zeros((1, 3), dtype = np.uint8)\n",
    "    print(e)\n",
    "\n",
    "print(f'v + w : {v_p_w}')\n",
    "print(f'u + w : {u_p_w}')"
   ]
  },
  {
   "cell_type": "code",
   "execution_count": null,
   "id": "a4d78948-fba8-4d87-ac70-a454319092c0",
   "metadata": {},
   "outputs": [],
   "source": []
  },
  {
   "cell_type": "code",
   "execution_count": null,
   "id": "96e84bcc-2c69-4d9c-8fe7-b55f1f038bae",
   "metadata": {},
   "outputs": [],
   "source": []
  },
  {
   "cell_type": "code",
   "execution_count": null,
   "id": "664e32ce-db62-4be1-943a-9ae6cf4c38c6",
   "metadata": {},
   "outputs": [],
   "source": []
  },
  {
   "cell_type": "code",
   "execution_count": null,
   "id": "5a241b3e-8886-4053-ad99-fbae51a66713",
   "metadata": {},
   "outputs": [],
   "source": []
  },
  {
   "cell_type": "code",
   "execution_count": null,
   "id": "6aaebf5e-b78c-4efa-b2eb-51736a47f39b",
   "metadata": {},
   "outputs": [],
   "source": []
  },
  {
   "cell_type": "code",
   "execution_count": null,
   "id": "d4e1163c-117e-4995-8d22-1bc926cf6ccd",
   "metadata": {},
   "outputs": [],
   "source": []
  },
  {
   "cell_type": "code",
   "execution_count": null,
   "id": "727d851a-563a-4c39-9876-53d98bb3195b",
   "metadata": {},
   "outputs": [],
   "source": []
  },
  {
   "cell_type": "markdown",
   "id": "3c30d88e-bef7-401a-9f3b-2109b494bd06",
   "metadata": {},
   "source": [
    "# **99. 참고자료**\n",
    "## **99-1. 도서** \n",
    "- 개발자를 위한 실전 선형대수학 | 마이크. X. 코헨 저, 장정호 역 / 한빛 미디어\n",
    "\n",
    "## **99-2. 논문, 학술지**\n",
    "\n",
    "## **99-3. 웹 사이트**\n",
    "\n",
    "## **99-4. 데이터셋 출처**\n"
   ]
  }
 ],
 "metadata": {
  "kernelspec": {
   "display_name": "DS",
   "language": "python",
   "name": "ds"
  },
  "language_info": {
   "codemirror_mode": {
    "name": "ipython",
    "version": 3
   },
   "file_extension": ".py",
   "mimetype": "text/x-python",
   "name": "python",
   "nbconvert_exporter": "python",
   "pygments_lexer": "ipython3",
   "version": "3.11.5"
  }
 },
 "nbformat": 4,
 "nbformat_minor": 5
}
