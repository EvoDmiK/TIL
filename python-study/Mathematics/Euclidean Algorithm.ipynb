{
 "cells": [
  {
   "cell_type": "code",
   "execution_count": null,
   "id": "e74633d7-54aa-4034-b5f8-ddee5713861e",
   "metadata": {},
   "outputs": [],
   "source": [
    "## 유클리드 호제법을 이용한 최대 공약수 구하기\n",
    "def get_gcd(n: int, m: int) -> int:\n",
    "\n",
    "    while 1:\n",
    "        n, m = m, n % m\n",
    "        \n",
    "        if m == 0: return n\n",
    "\n",
    "\n",
    "## 여러 숫자의 최대 공약수 구하기\n",
    "def get_multiple_gcd(nums: list) -> int:\n",
    "\n",
    "\n",
    "    n = nums[0]\n",
    "    for num in nums[1:]:\n",
    "        n = get_gcd(n, num)\n",
    "\n",
    "    return n\n",
    "\n",
    "\n",
    "## 최소 공배수 구하기\n",
    "def get_lcm(nums: list) -> int:\n",
    "\n",
    "    numerator   = eval('*'.join([str(num) for num in nums]))\n",
    "    denominator = get_multiple_gcd(nums)\n",
    "\n",
    "    return numerator // denominator\n",
    "    "
   ]
  },
  {
   "cell_type": "code",
   "execution_count": null,
   "id": "634810af-5d05-4cc5-a30f-2519f2872063",
   "metadata": {},
   "outputs": [],
   "source": [
    "print(f'Greatest Common Divisor : {get_multiple_gcd([3396575, 375, 65])}')\n",
    "print(f'Least Common Multiple   : {get_lcm([3396575, 375, 65])}')"
   ]
  },
  {
   "cell_type": "code",
   "execution_count": null,
   "id": "80a7abde-daf0-4e3e-b40f-e730acd41d57",
   "metadata": {},
   "outputs": [],
   "source": []
  }
 ],
 "metadata": {
  "kernelspec": {
   "display_name": "DS",
   "language": "python",
   "name": "ds"
  },
  "language_info": {
   "codemirror_mode": {
    "name": "ipython",
    "version": 3
   },
   "file_extension": ".py",
   "mimetype": "text/x-python",
   "name": "python",
   "nbconvert_exporter": "python",
   "pygments_lexer": "ipython3",
   "version": "3.11.5"
  }
 },
 "nbformat": 4,
 "nbformat_minor": 5
}
