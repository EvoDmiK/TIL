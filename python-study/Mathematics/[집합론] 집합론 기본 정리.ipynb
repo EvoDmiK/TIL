{
 "cells": [
  {
   "cell_type": "code",
   "execution_count": 1,
   "id": "2d94622b-585c-4fc5-818d-bd8f6f7829c0",
   "metadata": {},
   "outputs": [],
   "source": [
    "union        = lambda A, B : A.union(B)\n",
    "intersection = lambda A, B : A.intersection(B)\n",
    "complement   = lambda A    : set([x for x in U if x not in A])"
   ]
  },
  {
   "cell_type": "code",
   "execution_count": 2,
   "id": "c8f150c1-e125-4f36-9272-cee27c48e282",
   "metadata": {},
   "outputs": [],
   "source": [
    "a = set([1, 2, 3, 7])\n",
    "b = set([1, 3, 4, 5])\n",
    "c = set([2, 3, 6])\n",
    "U = union(a, union(b, c))"
   ]
  },
  {
   "cell_type": "code",
   "execution_count": 3,
   "id": "dc92cf15-d364-45a3-881b-aa86e67f1b88",
   "metadata": {},
   "outputs": [
    {
     "name": "stdout",
     "output_type": "stream",
     "text": [
      "- a ∩ (b U c)       : {1, 2, 3}\n",
      "- (a ∩ b)U(a ∩ c)   : {1, 2, 3}\n",
      "\n",
      "- a U (b ∩ c)       : {1, 2, 3, 7}\n",
      "- (a U b) ∩ (a U c) : {1, 2, 3, 7}\n"
     ]
    }
   ],
   "source": [
    "## Distributive law\n",
    "print(f'- a ∩ (b U c)       : {intersection(a, union(b, c))}')\n",
    "print(f'- (a ∩ b)U(a ∩ c)   : {union(intersection(a, b), intersection(a, c))}\\n')\n",
    "\n",
    "print(f'- a U (b ∩ c)       : {union(a, intersection(b, c))}')\n",
    "print(f'- (a U b) ∩ (a U c) : {intersection(union(a, b), union(a, c))}')"
   ]
  },
  {
   "cell_type": "code",
   "execution_count": 4,
   "id": "6fa50b8c-fc9a-4d29-a1f1-d3fe5b84e707",
   "metadata": {},
   "outputs": [
    {
     "name": "stdout",
     "output_type": "stream",
     "text": [
      "- (a ∩ b)^C : {2, 4, 5, 6, 7}\n",
      "- a^C U b^C : {2, 4, 5, 6, 7}\n",
      "\n",
      "- (a U b)^C : {6}\n",
      "- a^C ∩ b^C : {6}\n"
     ]
    }
   ],
   "source": [
    "## De Morgan's law\n",
    "print(f'- (a ∩ b)^C : {complement(intersection(a, b))}')\n",
    "print(f'- a^C U b^C : {union(complement(a), complement(b))}\\n')\n",
    "print(f'- (a U b)^C : {complement(union(a, b))}')\n",
    "print(f'- a^C ∩ b^C : {intersection(complement(a), complement(b))}')"
   ]
  },
  {
   "cell_type": "code",
   "execution_count": 5,
   "id": "7ec56953-de0e-4e33-872e-a9c4b70499b8",
   "metadata": {},
   "outputs": [
    {
     "name": "stdout",
     "output_type": "stream",
     "text": [
      "- a - b : {2, 7}\n"
     ]
    }
   ],
   "source": [
    "print(f'- a - b   : {a.difference(b)}')\n",
    "print(f'- a ∩ b^C : {intersection(a, complement(b))}')"
   ]
  },
  {
   "cell_type": "code",
   "execution_count": null,
   "id": "e749b310-a97d-4506-bf22-e30dad9f47e1",
   "metadata": {},
   "outputs": [],
   "source": []
  }
 ],
 "metadata": {
  "kernelspec": {
   "display_name": "DS",
   "language": "python",
   "name": "ds"
  },
  "language_info": {
   "codemirror_mode": {
    "name": "ipython",
    "version": 3
   },
   "file_extension": ".py",
   "mimetype": "text/x-python",
   "name": "python",
   "nbconvert_exporter": "python",
   "pygments_lexer": "ipython3",
   "version": "3.11.5"
  }
 },
 "nbformat": 4,
 "nbformat_minor": 5
}
