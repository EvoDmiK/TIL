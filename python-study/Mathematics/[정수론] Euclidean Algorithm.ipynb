{
 "cells": [
  {
   "cell_type": "code",
   "execution_count": 1,
   "id": "634810af-5d05-4cc5-a30f-2519f2872063",
   "metadata": {},
   "outputs": [],
   "source": [
    "## 유클리드 호제법을 이용한 최대 공약수 구하기\n",
    "def get_gcd(n: int, m: int) -> int:\n",
    "\n",
    "    while 1:\n",
    "        n, m = m, n % m\n",
    "        \n",
    "        if m == 0: return n\n",
    "\n",
    "\n",
    "## 여러 숫자의 최대 공약수 구하기\n",
    "def get_multiple_gcd(nums: list) -> int:\n",
    "\n",
    "\n",
    "    n = nums[0]\n",
    "    for num in nums[1:]:\n",
    "        n = get_gcd(n, num)\n",
    "\n",
    "    return n\n",
    "\n",
    "\n",
    "## 최소 공배수 구하기\n",
    "def get_lcm(nums: list) -> int:\n",
    "\n",
    "    numerator   = eval('*'.join([str(num) for num in nums]))\n",
    "    denominator = get_multiple_gcd(nums)\n",
    "\n",
    "    return numerator // denominator\n",
    "\n",
    "\n",
    "## 확장된 유클리드 호제법\n",
    "def extended_euclidean_algorithm(n: int, m: int) -> tuple:\n",
    "\n",
    "    x0, y0, x1, y1 = 1, 0, 0, 1\n",
    "\n",
    "    while m != 0:\n",
    "        q ,  n, m = n // m, m, n % m\n",
    "        x0, x1    = x1, x0 - q * x1\n",
    "        y0, y1    = y1, y0 - q * y1\n",
    "\n",
    "    return x0, y0"
   ]
  },
  {
   "cell_type": "code",
   "execution_count": 2,
   "id": "69413db1-305a-4a6f-a237-a81f4dd396f4",
   "metadata": {},
   "outputs": [
    {
     "name": "stdout",
     "output_type": "stream",
     "text": [
      "Greatest Common Divisor : 5\n",
      "Least Common Multiple   : 16558303125\n",
      "Extended Euclidean      : 25 = 3396575 * 2 + 375 * -18115\n"
     ]
    }
   ],
   "source": [
    "print(f'Greatest Common Divisor : {get_multiple_gcd([3396575, 375, 65])}')\n",
    "print(f'Least Common Multiple   : {get_lcm([3396575, 375, 65])}')\n",
    "\n",
    "s, t = extended_euclidean_algorithm(3396575, 375)\n",
    "gcd  = get_gcd(3396575, 375)\n",
    "print(f'Extended Euclidean      : {gcd} = 3396575 * {s} + 375 * {t}')"
   ]
  },
  {
   "cell_type": "code",
   "execution_count": null,
   "id": "9ffd7a3b-d51e-4d9c-86f1-38bcf6174267",
   "metadata": {},
   "outputs": [],
   "source": []
  }
 ],
 "metadata": {
  "kernelspec": {
   "display_name": "DS",
   "language": "python",
   "name": "ds"
  },
  "language_info": {
   "codemirror_mode": {
    "name": "ipython",
    "version": 3
   },
   "file_extension": ".py",
   "mimetype": "text/x-python",
   "name": "python",
   "nbconvert_exporter": "python",
   "pygments_lexer": "ipython3",
   "version": "3.11.5"
  }
 },
 "nbformat": 4,
 "nbformat_minor": 5
}
