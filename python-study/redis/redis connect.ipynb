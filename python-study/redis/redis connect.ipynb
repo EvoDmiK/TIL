{
 "cells": [
  {
   "cell_type": "code",
   "execution_count": 1,
   "id": "fc4c1f18-f0c3-4855-91ee-94a22f1ed54a",
   "metadata": {},
   "outputs": [],
   "source": [
    "import json\n",
    "import os\n",
    "\n",
    "from easydict import EasyDict as edict\n",
    "import redis"
   ]
  },
  {
   "cell_type": "code",
   "execution_count": 2,
   "id": "831d558c-f7c4-4c06-b34c-5203da89a2cd",
   "metadata": {},
   "outputs": [],
   "source": [
    "ROOT_PATH   = '/'.join(os.getcwd().split(os.path.sep)[:-3])\n",
    "CONFIG_PATH = f'{ROOT_PATH}/utils/config.json'\n",
    "CONFIG      = edict(json.loads(open(CONFIG_PATH, 'r').read()))"
   ]
  },
  {
   "cell_type": "code",
   "execution_count": 3,
   "id": "c5dbceed-a8d6-4909-81ba-d21ff0343eb5",
   "metadata": {},
   "outputs": [],
   "source": [
    "host        = CONFIG.db_host\n",
    "port        = CONFIG.redis_port\n",
    "conn        = redis.StrictRedis(host = host, port = port, db = 0)"
   ]
  },
  {
   "cell_type": "code",
   "execution_count": 4,
   "id": "1b01d5cc-6ce4-4625-8c4e-8e2a06e7af86",
   "metadata": {},
   "outputs": [
    {
     "data": {
      "text/plain": [
       "True"
      ]
     },
     "execution_count": 4,
     "metadata": {},
     "output_type": "execute_result"
    }
   ],
   "source": [
    "conn.set('KimDove', 'Dove Nest')"
   ]
  },
  {
   "cell_type": "code",
   "execution_count": 5,
   "id": "ae741093-e962-47b6-8b24-22ed14cadddd",
   "metadata": {},
   "outputs": [
    {
     "data": {
      "text/plain": [
       "'Dove Nest'"
      ]
     },
     "execution_count": 5,
     "metadata": {},
     "output_type": "execute_result"
    }
   ],
   "source": [
    "conn.get('KimDove').decode()"
   ]
  },
  {
   "cell_type": "code",
   "execution_count": 6,
   "id": "d73acefd-7892-49bf-9eca-625fffd306b7",
   "metadata": {},
   "outputs": [
    {
     "data": {
      "text/plain": [
       "[b'test_dict', b'KimDove', b'kim', b'Castle Push']"
      ]
     },
     "execution_count": 6,
     "metadata": {},
     "output_type": "execute_result"
    }
   ],
   "source": [
    "conn.keys()"
   ]
  },
  {
   "cell_type": "code",
   "execution_count": 7,
   "id": "7de855c8-5d42-42dc-b9a3-11f9fbdf8727",
   "metadata": {},
   "outputs": [
    {
     "data": {
      "text/plain": [
       "True"
      ]
     },
     "execution_count": 7,
     "metadata": {},
     "output_type": "execute_result"
    }
   ],
   "source": [
    "test_dict = { 'ham' : 'eggs' }\n",
    "test_json = json.dumps(test_dict, ensure_ascii = False).encode('utf-8')\n",
    "conn.set('test_dict', test_json)"
   ]
  },
  {
   "cell_type": "code",
   "execution_count": 8,
   "id": "e164bb84-f87e-4f98-8b52-b4fb596e81f4",
   "metadata": {},
   "outputs": [
    {
     "data": {
      "text/plain": [
       "{'ham': 'eggs'}"
      ]
     },
     "execution_count": 8,
     "metadata": {},
     "output_type": "execute_result"
    }
   ],
   "source": [
    "test_json = conn.get('test_dict').decode('utf-8')\n",
    "test_json = dict(json.loads(test_json))\n",
    "\n",
    "test_json"
   ]
  },
  {
   "cell_type": "code",
   "execution_count": null,
   "id": "9293589a-3b09-4670-9901-a5df696f995f",
   "metadata": {},
   "outputs": [],
   "source": []
  }
 ],
 "metadata": {
  "kernelspec": {
   "display_name": "dove",
   "language": "python",
   "name": "dove"
  },
  "language_info": {
   "codemirror_mode": {
    "name": "ipython",
    "version": 3
   },
   "file_extension": ".py",
   "mimetype": "text/x-python",
   "name": "python",
   "nbconvert_exporter": "python",
   "pygments_lexer": "ipython3",
   "version": "3.8.13"
  }
 },
 "nbformat": 4,
 "nbformat_minor": 5
}
