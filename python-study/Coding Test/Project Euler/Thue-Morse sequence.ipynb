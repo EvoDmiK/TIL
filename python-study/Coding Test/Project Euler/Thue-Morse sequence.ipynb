{
 "cells": [
  {
   "cell_type": "code",
   "execution_count": 35,
   "id": "5c43aa78-575d-4f63-9aef-a61ead2697be",
   "metadata": {},
   "outputs": [],
   "source": [
    "def tm_seq(idx, seq_):\n",
    "    \n",
    "    twice_idx          = seq_[idx]\n",
    "    twice_idx_plus_one = 1 - int(seq_[idx])\n",
    "    \n",
    "    seq_ += str(twice_idx)\n",
    "    seq_ += str(twice_idx_plus_one)\n",
    "    return seq_"
   ]
  },
  {
   "cell_type": "code",
   "execution_count": 36,
   "id": "f1946889-d603-4d74-9bdc-cb78850ceca0",
   "metadata": {},
   "outputs": [],
   "source": [
    "seq_ = '0'"
   ]
  },
  {
   "cell_type": "code",
   "execution_count": 37,
   "id": "b939f639-19ec-49f1-a4d8-fe7faea59639",
   "metadata": {},
   "outputs": [],
   "source": [
    "for idx in range(100): seq_ = tm_seq(idx, seq_)"
   ]
  },
  {
   "cell_type": "code",
   "execution_count": 38,
   "id": "a1d503c1-6162-4f4c-86bd-f0b6e1217778",
   "metadata": {},
   "outputs": [
    {
     "data": {
      "text/plain": [
       "'01011001101001011010011001011001101001100101101001011001101001011010011001011010010110011010011001011001101001011010011001011001101001100101101001011001101001100101100110100101101001100101101001011001'"
      ]
     },
     "execution_count": 38,
     "metadata": {},
     "output_type": "execute_result"
    }
   ],
   "source": [
    "seq_[1:]"
   ]
  },
  {
   "cell_type": "code",
   "execution_count": null,
   "id": "22bb5193-c157-42f9-94a6-e27628266afb",
   "metadata": {},
   "outputs": [],
   "source": []
  }
 ],
 "metadata": {
  "kernelspec": {
   "display_name": "dove",
   "language": "python",
   "name": "dove"
  },
  "language_info": {
   "codemirror_mode": {
    "name": "ipython",
    "version": 3
   },
   "file_extension": ".py",
   "mimetype": "text/x-python",
   "name": "python",
   "nbconvert_exporter": "python",
   "pygments_lexer": "ipython3",
   "version": "3.8.13"
  }
 },
 "nbformat": 4,
 "nbformat_minor": 5
}
