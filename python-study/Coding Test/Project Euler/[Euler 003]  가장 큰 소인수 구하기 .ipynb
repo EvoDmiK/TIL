{
 "cells": [
  {
   "cell_type": "markdown",
   "id": "502e33cf-ea94-43a5-bf20-d169f85e2fe1",
   "metadata": {},
   "source": [
    "# **0. 참고자료**\n",
    "## 0-1. 문제 출처\n",
    "- Project Euler | 가장 큰 소인수 구하기 (problem 3.) [[문제 링크]](https://euler.synap.co.kr/problem=3)\n",
    "\n",
    "# **1. 문제 설명**\n",
    "- 어떤 수를 소수의 곱으로만 나타내는 것을 소인수분해라 하고, 이 소수들을 그 수의 소인수라고 합니다.\n",
    "- 600,851,475,143의 소인수 중에서 가장 큰 수를 구하세요.\n",
    "\n",
    "# **2. 제한 사항**\n",
    "\n",
    "# **3. 입출력 예**\n",
    "- 예를 들면 13,195의 소인수는 5, 7, 13, 29 입니다."
   ]
  },
  {
   "cell_type": "code",
   "execution_count": 1,
   "id": "61aafefd-d98d-49d9-864b-54122469b894",
   "metadata": {},
   "outputs": [],
   "source": [
    "import math as mt"
   ]
  },
  {
   "cell_type": "code",
   "execution_count": 2,
   "id": "a7b430ef-06a3-44d1-b23c-9848d47a68e4",
   "metadata": {},
   "outputs": [],
   "source": [
    "## 정수론 때 배웠던 소수 판별법\n",
    "def is_prime(n):\n",
    "    \n",
    "    if (n <= 0) or (n == 1): return False\n",
    "\n",
    "    idx = 2\n",
    "    while idx <= int(mt.sqrt(n)):\n",
    "        \n",
    "        if n % idx == 0: return False\n",
    "        idx += 1\n",
    "        \n",
    "    return True"
   ]
  },
  {
   "cell_type": "code",
   "execution_count": 3,
   "id": "6b1d9c84-b152-443f-94f2-38ad4f667fa7",
   "metadata": {},
   "outputs": [
    {
     "data": {
      "text/plain": [
       "True"
      ]
     },
     "execution_count": 3,
     "metadata": {},
     "output_type": "execute_result"
    }
   ],
   "source": [
    "is_prime(2)"
   ]
  },
  {
   "cell_type": "code",
   "execution_count": 4,
   "id": "72b20752-2fac-4c18-a7fb-bd2d767fcdc7",
   "metadata": {},
   "outputs": [],
   "source": [
    "prime_factor = []\n",
    "append = prime_factor.append\n",
    "\n",
    "n = 59932000\n",
    "## 정수 n의 소인수는 n / 2 이하의 수로만 구성되어 있다는 정리 이용\n",
    "for idx in range(2, n // 2 + 1): \n",
    "    \n",
    "    condition = [is_prime(idx), n % idx == 0]\n",
    "    if all(condition): append(idx)\n",
    "    "
   ]
  },
  {
   "cell_type": "code",
   "execution_count": 5,
   "id": "92317b7d-1b2d-4142-ad08-c80328f1f937",
   "metadata": {},
   "outputs": [
    {
     "data": {
      "text/plain": [
       "[2, 5, 14983]"
      ]
     },
     "execution_count": 5,
     "metadata": {},
     "output_type": "execute_result"
    }
   ],
   "source": [
    "prime_factor"
   ]
  }
 ],
 "metadata": {
  "kernelspec": {
   "display_name": "dove",
   "language": "python",
   "name": "dove"
  },
  "language_info": {
   "codemirror_mode": {
    "name": "ipython",
    "version": 3
   },
   "file_extension": ".py",
   "mimetype": "text/x-python",
   "name": "python",
   "nbconvert_exporter": "python",
   "pygments_lexer": "ipython3",
   "version": "3.8.13"
  }
 },
 "nbformat": 4,
 "nbformat_minor": 5
}
