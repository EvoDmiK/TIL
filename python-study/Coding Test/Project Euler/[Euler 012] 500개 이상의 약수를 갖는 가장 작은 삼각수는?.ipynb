{
 "cells": [
  {
   "cell_type": "code",
   "execution_count": 1,
   "id": "9398532a-b1fa-440b-b24e-dd62c06dacaf",
   "metadata": {},
   "outputs": [],
   "source": [
    "def num_divisors(n):\n",
    "    \n",
    "    divisors = [n]\n",
    "    for idx in range(1, int(n ** 0.5) + 1):\n",
    "        \n",
    "        \n",
    "        if n % idx == 0: \n",
    "            divisors.append(idx)\n",
    "            divisors.append(n // idx)\n",
    "        \n",
    "    return len(set(divisors))"
   ]
  },
  {
   "cell_type": "code",
   "execution_count": 5,
   "id": "9f1e121c-c419-45c0-85f2-701f67b26d53",
   "metadata": {},
   "outputs": [
    {
     "name": "stdout",
     "output_type": "stream",
     "text": [
      "76576500 12375 576\n"
     ]
    }
   ],
   "source": [
    "cnt = 1\n",
    "while True:\n",
    "    \n",
    "    sums = int(0.5 * (cnt * (cnt + 1)))\n",
    "    divs = num_divisors(sums)\n",
    "\n",
    "    if divs >= 500: \n",
    "        print(sums, cnt, divs)\n",
    "        break\n",
    "        \n",
    "    cnt += 1"
   ]
  },
  {
   "cell_type": "code",
   "execution_count": null,
   "id": "5ca5116a-0949-4efa-9740-c78f22c8e52a",
   "metadata": {},
   "outputs": [],
   "source": []
  }
 ],
 "metadata": {
  "kernelspec": {
   "display_name": "dove",
   "language": "python",
   "name": "dove"
  },
  "language_info": {
   "codemirror_mode": {
    "name": "ipython",
    "version": 3
   },
   "file_extension": ".py",
   "mimetype": "text/x-python",
   "name": "python",
   "nbconvert_exporter": "python",
   "pygments_lexer": "ipython3",
   "version": "3.8.13"
  }
 },
 "nbformat": 4,
 "nbformat_minor": 5
}
