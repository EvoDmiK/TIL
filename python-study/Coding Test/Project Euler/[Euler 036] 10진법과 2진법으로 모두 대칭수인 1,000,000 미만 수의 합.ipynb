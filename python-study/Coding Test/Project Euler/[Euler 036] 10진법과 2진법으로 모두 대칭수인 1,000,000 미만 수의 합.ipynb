{
 "cells": [
  {
   "cell_type": "code",
   "execution_count": 1,
   "id": "1135fd77-959f-407d-a579-1c80e40fb5cf",
   "metadata": {},
   "outputs": [
    {
     "name": "stdout",
     "output_type": "stream",
     "text": [
      "872187\n"
     ]
    }
   ],
   "source": [
    "sum = 0\n",
    "for num in range(1000000):\n",
    "\n",
    "    binary = bin(num)[2:]\n",
    "    num    = str(num)\n",
    "\n",
    "    condition = [binary == binary[::-1], num == num[::-1]]\n",
    "\n",
    "    if all(condition): sum += int(num)\n",
    "\n",
    "print(sum)"
   ]
  },
  {
   "cell_type": "code",
   "execution_count": null,
   "id": "45f13554-7e9e-4124-9c20-e4622fadecb0",
   "metadata": {},
   "outputs": [],
   "source": []
  }
 ],
 "metadata": {
  "kernelspec": {
   "display_name": "dove",
   "language": "python",
   "name": "dove"
  },
  "language_info": {
   "codemirror_mode": {
    "name": "ipython",
    "version": 3
   },
   "file_extension": ".py",
   "mimetype": "text/x-python",
   "name": "python",
   "nbconvert_exporter": "python",
   "pygments_lexer": "ipython3",
   "version": "3.8.13"
  }
 },
 "nbformat": 4,
 "nbformat_minor": 5
}
