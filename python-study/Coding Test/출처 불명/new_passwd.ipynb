{
 "cells": [
  {
   "cell_type": "code",
   "execution_count": 2,
   "id": "7d2dfbf3",
   "metadata": {},
   "outputs": [],
   "source": [
    "import re\n",
    "\n",
    "def solution(new_id):\n",
    "\n",
    "    answer = re.sub('[^-._a-z0-9]+', '', new_id.lower())\n",
    "    answer = re.sub('[.]+', '.', answer)\n",
    "    answer = answer[1:] if answer[0] == '.' else answer[:-1] if answer[-1] == '.' else answer\n",
    "\n",
    "    answer = answer if answer != '' else 'a'\n",
    "    answer = answer[:15] if len(answer) > 15 else answer\n",
    "    answer = answer if answer[-1] != '.' else answer[:-1]\n",
    "\n",
    "    answer = answer if len(answer) > 2 else answer + (answer[-1]*(3-len(answer)))\n",
    "    return answer"
   ]
  }
 ],
 "metadata": {
  "kernelspec": {
   "display_name": "Python 3",
   "language": "python",
   "name": "python3"
  },
  "language_info": {
   "codemirror_mode": {
    "name": "ipython",
    "version": 3
   },
   "file_extension": ".py",
   "mimetype": "text/x-python",
   "name": "python",
   "nbconvert_exporter": "python",
   "pygments_lexer": "ipython3",
   "version": "3.8.8"
  }
 },
 "nbformat": 4,
 "nbformat_minor": 5
}
