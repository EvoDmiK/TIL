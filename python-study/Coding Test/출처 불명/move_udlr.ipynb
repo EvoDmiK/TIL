{
 "cells": [
  {
   "cell_type": "code",
   "execution_count": 10,
   "id": "6c90289b",
   "metadata": {},
   "outputs": [],
   "source": [
    "def solution(n, directions):\n",
    "    init_coord = [1, 1]\n",
    "    directions = directions.split(' ')\n",
    "    \n",
    "    for direction in directions:\n",
    "        if direction == 'R': init_coord[1] = init_coord[1] + 1 if init_coord[1] + 1 < n else init_coord[1]\n",
    "        elif direction == 'L': init_coord[1] = init_coord[1] - 1 if init_coord[1] - 1 > 1 else init_coord[1] \n",
    "        elif direction == 'U' : init_coord[0] = init_coord[0] - 1 if init_coord[0] - 1 > 1 else init_coord[0]\n",
    "        else  : init_coord[0] = init_coord[0] + 1 if init_coord[0] + 1 < n else init_coord[0]\n",
    "        print(init_coord)\n",
    "    return f'{init_coord[0]} {init_coord[1]}'"
   ]
  },
  {
   "cell_type": "code",
   "execution_count": 11,
   "id": "11e04d91",
   "metadata": {},
   "outputs": [
    {
     "name": "stdout",
     "output_type": "stream",
     "text": [
      "[1, 2]\n",
      "[1, 3]\n",
      "[1, 4]\n",
      "[1, 4]\n",
      "[2, 4]\n",
      "[3, 4]\n",
      "3 4\n"
     ]
    }
   ],
   "source": [
    "Q1_n, Q1_dirs = 5, 'R R R U D D'\n",
    "print(solution(Q1_n, Q1_dirs))"
   ]
  }
 ],
 "metadata": {
  "kernelspec": {
   "display_name": "Python 3",
   "language": "python",
   "name": "python3"
  },
  "language_info": {
   "codemirror_mode": {
    "name": "ipython",
    "version": 3
   },
   "file_extension": ".py",
   "mimetype": "text/x-python",
   "name": "python",
   "nbconvert_exporter": "python",
   "pygments_lexer": "ipython3",
   "version": "3.8.8"
  }
 },
 "nbformat": 4,
 "nbformat_minor": 5
}
