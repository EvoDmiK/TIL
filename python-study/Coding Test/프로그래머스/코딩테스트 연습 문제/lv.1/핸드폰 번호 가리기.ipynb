{
 "cells": [
  {
   "cell_type": "markdown",
   "id": "502e33cf-ea94-43a5-bf20-d169f85e2fe1",
   "metadata": {},
   "source": [
    "# **0. 참고자료**\n",
    "## 0-1. 문제 출처\n",
    "프로그래머스 - 코딩테스트 연습 핸드폰 번호 가리기 | [[문제 출처]](https://school.programmers.co.kr/learn/courses/30/lessons/12948)\n",
    "# **1. 문제 설명**\n",
    "- 프로그래머스 모바일은 개인정보 보호를 위해 고지서를 보낼 때 고객들의 전화번호의 일부를 가립니다.  \n",
    "- 전화번호가 문자열 phone_number로 주어졌을 때, 전화번호의 뒷 4자리를 제외한 나머지 숫자를 전부 *으로 가린 문자열을 리턴하는 함수, solution을 완성해주세요.  \n",
    "\n",
    "# **2. 제한 사항**\n",
    "- phone_number는 길이 4 이상, 20이하인 문자열입니다.  \n",
    "\n",
    "# **3. 입출력 예**\n",
    "|phone_number|return|\n",
    "|:--:|:--:|\n",
    "|\"01033334444\"|\"*******4444\"|\n",
    "|\"027778888\"|\"*****8888\"|"
   ]
  },
  {
   "cell_type": "code",
   "execution_count": 1,
   "id": "61aafefd-d98d-49d9-864b-54122469b894",
   "metadata": {},
   "outputs": [],
   "source": [
    "import re\n",
    "def solution(phone_number):\n",
    "    answer = re.sub('[0-9]', '*', phone_number[:-4])\n",
    "    return answer + phone_number[-4:]"
   ]
  },
  {
   "cell_type": "code",
   "execution_count": 2,
   "id": "c6910026-fd83-4bb0-97ec-4076c701358e",
   "metadata": {},
   "outputs": [
    {
     "name": "stdout",
     "output_type": "stream",
     "text": [
      "solution 1 : *******4444\n",
      "solution 2 : *****8888\n"
     ]
    }
   ],
   "source": [
    "sol1 = solution('01033334444')\n",
    "sol2 = solution('027778888')\n",
    "\n",
    "print(f'solution 1 : {sol1}')\n",
    "print(f'solution 2 : {sol2}')"
   ]
  },
  {
   "cell_type": "code",
   "execution_count": null,
   "id": "22b0aa16-d780-43bf-80d9-15f149757c6c",
   "metadata": {},
   "outputs": [],
   "source": []
  }
 ],
 "metadata": {
  "kernelspec": {
   "display_name": "bio",
   "language": "python",
   "name": "bio"
  },
  "language_info": {
   "codemirror_mode": {
    "name": "ipython",
    "version": 3
   },
   "file_extension": ".py",
   "mimetype": "text/x-python",
   "name": "python",
   "nbconvert_exporter": "python",
   "pygments_lexer": "ipython3",
   "version": "3.9.12"
  }
 },
 "nbformat": 4,
 "nbformat_minor": 5
}
