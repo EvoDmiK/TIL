{
 "cells": [
  {
   "cell_type": "markdown",
   "id": "502e33cf-ea94-43a5-bf20-d169f85e2fe1",
   "metadata": {},
   "source": [
    "# **0. 참고자료**\n",
    "## 0-1. 문제 출처\n",
    "- 프로그래머스 - 2022 KAKAO TECH INTERNSHIP 성격 유형 검사하기 | [[문제 출처]](https://school.programmers.co.kr/learn/courses/30/lessons/118667)\n",
    "\n",
    "# **1. 문제 설명**\n",
    "길이가 같은 두 개의 큐가 주어집니다. 하나의 큐를 골라 원소를 추출(pop)하고,  \n",
    "추출된 원소를 다른 큐에 집어넣는(insert) 작업을 통해 각 큐의 원소 합이 같도록 만들려고 합니다.  \n",
    "이때 필요한 작업의 최소 횟수를 구하고자 합니다.  \n",
    "한 번의 pop과 한 번의 insert를 합쳐서 작업을 1회 수행한 것으로 간주합니다.  \n",
    "\n",
    "큐는 먼저 집어넣은 원소가 먼저 나오는 구조입니다.  \n",
    "이 문제에서는 큐를 배열로 표현하며, 원소가 배열 앞쪽에 있을수록 먼저 집어넣은 원소임을 의미합니다.  \n",
    "즉, pop을 하면 배열의 첫 번째 원소가 추출되며, insert를 하면 배열의 끝에 원소가 추가됩니다.  \n",
    "\n",
    "예를 들어 큐 [1, 2, 3, 4]가 주어졌을 때,  \n",
    "pop을 하면 맨 앞에 있는 원소 1이 추출되어 [2, 3, 4]가 되며,  \n",
    "이어서 5를 insert하면 [2, 3, 4, 5]가 됩니다.  \n",
    "\n",
    "다음은 두 큐를 나타내는 예시입니다.  \n",
    "\n",
    "``` python\n",
    "    queue1 = [3, 2, 7, 2]  \n",
    "    queue2 = [4, 6, 5, 1] \n",
    "```\n",
    "\n",
    "두 큐에 담긴 모든 원소의 합은 30입니다. 따라서, 각 큐의 합을 15로 만들어야 합니다.  \n",
    "예를 들어, 다음과 같이 2가지 방법이 있습니다.\n",
    "\n",
    "    - queue2의 4, 6, 5를 순서대로 추출하여 queue1에 추가한 뒤,  \n",
    "      queue1의 3, 2, 7, 2를 순서대로 추출하여 queue2에 추가합니다.  \n",
    "      그 결과 queue1은 [4, 6, 5], queue2는 [1, 3, 2, 7, 2]가 되며,  \n",
    "      각 큐의 원소 합은 15로 같습니다. 이 방법은 작업을 7번 수행합니다.  \n",
    "      \n",
    "    - queue1에서 3을 추출하여 queue2에 추가합니다.  \n",
    "      그리고 queue2에서 4를 추출하여 queue1에 추가합니다.  \n",
    "      그 결과 queue1은 [2, 7, 2, 4], queue2는 [6, 5, 1, 3]가 되며,  \n",
    "      각 큐의 원소 합은 15로 같습니다. 이 방법은 작업을 2번만 수행하며,  \n",
    "      이보다 적은 횟수로 목표를 달성할 수 없습니다.\n",
    "      \n",
    "따라서 각 큐의 원소 합을 같게 만들기 위해 필요한 작업의 최소 횟수는 2입니다.\n",
    "길이가 같은 두 개의 큐를 나타내는 정수 배열 queue1, queue2가 매개변수로 주어집니다.  \n",
    "각 큐의 원소 합을 같게 만들기 위해 필요한 작업의 최소 횟수를 return 하도록 solution 함수를 완성해주세요.  \n",
    "단, 어떤 방법으로도 각 큐의 원소 합을 같게 만들 수 없는 경우, -1을 return 해주세요.\n",
    "\n",
    "# **2. 제한 사항**\n",
    "- 1 ≤ queue1의 길이 = queue2의 길이 ≤ 300,000  \n",
    "- 1 ≤ queue1의 원소, queue2의 원소 ≤ 109  \n",
    "- 주의: 언어에 따라 합 계산 과정 중 산술 오버플로우 발생 가능성이 있으므로 long type 고려가 필요합니다.  \n",
    "\n",
    "# **3. 입출력 예**\n",
    "|queue1|queue2|result|\n",
    "|:--|:--|:--|\n",
    "|[3, 2, 7, 2]|[4, 6, 5, 1]|2|\n",
    "|[1, 2, 1, 2]|[1, 10, 1, 2]|7|\n",
    "|[1, 1]|[1, 5]|-1|"
   ]
  },
  {
   "cell_type": "code",
   "execution_count": 1,
   "id": "61aafefd-d98d-49d9-864b-54122469b894",
   "metadata": {},
   "outputs": [],
   "source": [
    "from collections import deque\n",
    "\n",
    "def solution(queue1, queue2):\n",
    "    \n",
    "    ## 2로 나누어 떨어지지 않는다면, 두 큐의 합이 같을 수 없으므로.\n",
    "    if sum(queue1 + queue2) % 2 != 0: return -1\n",
    "\n",
    "    answer = 0\n",
    "    queue1, queue2 = deque(queue1), deque(queue2)\n",
    "    sum_q1, sum_q2 = sum(queue1), sum(queue2)\n",
    "\n",
    "    while (sum_q1 != sum_q2):\n",
    "        \n",
    "        if answer > 300000:\n",
    "            return -1\n",
    "        \n",
    "        if sum_q1 > sum_q2:\n",
    "            q = queue1.popleft()\n",
    "            queue2.append(q)\n",
    "            \n",
    "            sum_q1 -= q\n",
    "            sum_q2 += q\n",
    "            \n",
    "        elif sum_q1 < sum_q2:\n",
    "            q = queue2.popleft()\n",
    "            queue1.append(q)\n",
    "            \n",
    "            sum_q1 += q\n",
    "            sum_q2 -= q\n",
    "        \n",
    "        else:\n",
    "            return answer\n",
    "        \n",
    "        answer += 1\n",
    "\n",
    "    return answer"
   ]
  },
  {
   "cell_type": "code",
   "execution_count": 2,
   "id": "72bc53b3-2409-4fe6-9afa-8847dbb91a75",
   "metadata": {},
   "outputs": [
    {
     "name": "stdout",
     "output_type": "stream",
     "text": [
      "solution 1 : 2\n",
      "solution 2 : 7\n",
      "solution 3 : -1\n"
     ]
    }
   ],
   "source": [
    "sol1 = solution([3, 2, 7, 2], [4, 6, 5, 1])\n",
    "sol2 = solution([1, 2, 1, 2], [1, 10, 1, 2])\n",
    "sol3 = solution([1, 1], [1, 5])\n",
    "\n",
    "print(f'solution 1 : {sol1}')\n",
    "print(f'solution 2 : {sol2}')\n",
    "print(f'solution 3 : {sol3}')"
   ]
  },
  {
   "cell_type": "code",
   "execution_count": null,
   "id": "9f79abc3-7378-427f-9350-d990773de373",
   "metadata": {},
   "outputs": [],
   "source": []
  }
 ],
 "metadata": {
  "kernelspec": {
   "display_name": "bio",
   "language": "python",
   "name": "bio"
  },
  "language_info": {
   "codemirror_mode": {
    "name": "ipython",
    "version": 3
   },
   "file_extension": ".py",
   "mimetype": "text/x-python",
   "name": "python",
   "nbconvert_exporter": "python",
   "pygments_lexer": "ipython3",
   "version": "3.9.12"
  }
 },
 "nbformat": 4,
 "nbformat_minor": 5
}
