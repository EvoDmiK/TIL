{
 "cells": [
  {
   "cell_type": "markdown",
   "id": "502e33cf-ea94-43a5-bf20-d169f85e2fe1",
   "metadata": {},
   "source": [
    "# **0. 참고자료**\n",
    "## 0-1. 문제 출처\n",
    "\n",
    "# **1. 문제 설명**\n",
    "\n",
    "# **2. 제한 사항**\n",
    "\n",
    "# **3. 입출력 예**"
   ]
  },
  {
   "cell_type": "code",
   "execution_count": 1,
   "id": "a2733d45-20ff-40d5-a818-c6c972c1cb01",
   "metadata": {},
   "outputs": [],
   "source": [
    "N = 4"
   ]
  },
  {
   "cell_type": "code",
   "execution_count": 9,
   "id": "61aafefd-d98d-49d9-864b-54122469b894",
   "metadata": {},
   "outputs": [
    {
     "name": "stdin",
     "output_type": "stream",
     "text": [
      " 3 5\n",
      " 3 5\n",
      " 1 3\n",
      " 1 1\n"
     ]
    },
    {
     "data": {
      "text/plain": [
       "[[3, 5], [3, 5], [1, 3], [1, 1]]"
      ]
     },
     "execution_count": 9,
     "metadata": {},
     "output_type": "execute_result"
    }
   ],
   "source": [
    "cherry_blossoms = [list(map(int, input().split(' '))) for _ in range(N)]\n",
    "cherry_blossoms"
   ]
  },
  {
   "cell_type": "code",
   "execution_count": 29,
   "id": "76a4b350-8ef8-46eb-b266-cacb72895276",
   "metadata": {},
   "outputs": [
    {
     "data": {
      "text/plain": [
       "[[0, 0, 0, 0, 0], [0, 0, 0, 0, 0], [0, 0, 0, 0, 0], [0, 0, 0, 0, 0]]"
      ]
     },
     "execution_count": 29,
     "metadata": {},
     "output_type": "execute_result"
    }
   ],
   "source": [
    "last_day = max([c[1] for c in cherry_blossoms])\n",
    "counts   = [[0 for _ in range(last_day)] for _ in range(N)]\n",
    "counts"
   ]
  },
  {
   "cell_type": "code",
   "execution_count": 30,
   "id": "662982f9-502f-4b50-bad6-974242f5b918",
   "metadata": {},
   "outputs": [
    {
     "name": "stdout",
     "output_type": "stream",
     "text": [
      "3 [[0, 0, 2, 0, 0], [0, 0, 0, 0, 0], [0, 0, 0, 0, 0], [0, 0, 0, 0, 0]]\n",
      "4 [[0, 0, 2, 2, 0], [0, 0, 0, 0, 0], [0, 0, 0, 0, 0], [0, 0, 0, 0, 0]]\n",
      "5 [[0, 0, 2, 2, 2], [0, 0, 0, 0, 0], [0, 0, 0, 0, 0], [0, 0, 0, 0, 0]]\n",
      "3 [[0, 0, 2, 2, 2], [0, 0, 2, 0, 0], [0, 0, 0, 0, 0], [0, 0, 0, 0, 0]]\n",
      "4 [[0, 0, 2, 2, 2], [0, 0, 2, 2, 0], [0, 0, 0, 0, 0], [0, 0, 0, 0, 0]]\n",
      "5 [[0, 0, 2, 2, 2], [0, 0, 2, 2, 2], [0, 0, 0, 0, 0], [0, 0, 0, 0, 0]]\n",
      "1 [[0, 0, 2, 2, 2], [0, 0, 2, 2, 2], [2, 0, 0, 0, 0], [0, 0, 0, 0, 0]]\n",
      "2 [[0, 0, 2, 2, 2], [0, 0, 2, 2, 2], [2, 2, 0, 0, 0], [0, 0, 0, 0, 0]]\n",
      "3 [[0, 0, 2, 2, 2], [0, 0, 2, 2, 2], [2, 2, 2, 0, 0], [0, 0, 0, 0, 0]]\n",
      "1 [[0, 0, 2, 2, 2], [0, 0, 2, 2, 2], [2, 2, 2, 0, 0], [2, 0, 0, 0, 0]]\n"
     ]
    },
    {
     "data": {
      "text/plain": [
       "[[0, 0, 2, 2, 2], [0, 0, 2, 2, 2], [2, 2, 2, 0, 0], [2, 0, 0, 0, 0]]"
      ]
     },
     "execution_count": 30,
     "metadata": {},
     "output_type": "execute_result"
    }
   ],
   "source": [
    "for odx, (Si, Ei) in enumerate(cherry_blossoms):\n",
    "    \n",
    "    for idx in range(Si, Ei + 1):\n",
    "        \n",
    "        counts[odx][idx - 1] += 1\n",
    "        counts[odx][idx - 1] += 1\n",
    "        \n",
    "        print(idx, counts)\n",
    "        \n",
    "counts"
   ]
  },
  {
   "cell_type": "code",
   "execution_count": null,
   "id": "97aabb3b-221b-41bc-9731-cb0200ca7be4",
   "metadata": {},
   "outputs": [],
   "source": []
  }
 ],
 "metadata": {
  "kernelspec": {
   "display_name": "bio",
   "language": "python",
   "name": "bio"
  },
  "language_info": {
   "codemirror_mode": {
    "name": "ipython",
    "version": 3
   },
   "file_extension": ".py",
   "mimetype": "text/x-python",
   "name": "python",
   "nbconvert_exporter": "python",
   "pygments_lexer": "ipython3",
   "version": "3.10.8"
  }
 },
 "nbformat": 4,
 "nbformat_minor": 5
}
