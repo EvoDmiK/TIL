{
 "cells": [
  {
   "cell_type": "markdown",
   "id": "502e33cf-ea94-43a5-bf20-d169f85e2fe1",
   "metadata": {},
   "source": [
    "# **0. 참고자료**\n",
    "## 0-1. 문제 출처\n",
    "\n",
    "# **1. 문제 설명**\n",
    "\n",
    "# **2. 제한 사항**\n",
    "\n",
    "# **3. 입출력 예**"
   ]
  },
  {
   "cell_type": "code",
   "execution_count": 1,
   "id": "1b83fbb6-306e-4876-a023-b393400cce16",
   "metadata": {},
   "outputs": [
    {
     "name": "stdin",
     "output_type": "stream",
     "text": [
      " 5 2\n"
     ]
    }
   ],
   "source": [
    "n, k = map(int, input().split())\n",
    "n, k = max(n, k), min(n, k)"
   ]
  },
  {
   "cell_type": "code",
   "execution_count": 2,
   "id": "36ef239e-b341-438f-ac40-c2e089959814",
   "metadata": {},
   "outputs": [],
   "source": [
    "factorial = lambda n: n*factorial(n - 1) if n > 1 else 1"
   ]
  },
  {
   "cell_type": "code",
   "execution_count": 3,
   "id": "0ad435e7-9984-4688-94a0-56b061ca7b79",
   "metadata": {},
   "outputs": [
    {
     "name": "stdout",
     "output_type": "stream",
     "text": [
      "10\n"
     ]
    }
   ],
   "source": [
    "print(factorial(n) // (factorial(n - k) * factorial(k)))"
   ]
  },
  {
   "cell_type": "code",
   "execution_count": null,
   "id": "a9ac85d4-3a16-468c-8405-5cc0e07c097d",
   "metadata": {},
   "outputs": [],
   "source": []
  }
 ],
 "metadata": {
  "kernelspec": {
   "display_name": "bio",
   "language": "python",
   "name": "bio"
  },
  "language_info": {
   "codemirror_mode": {
    "name": "ipython",
    "version": 3
   },
   "file_extension": ".py",
   "mimetype": "text/x-python",
   "name": "python",
   "nbconvert_exporter": "python",
   "pygments_lexer": "ipython3",
   "version": "3.10.8"
  }
 },
 "nbformat": 4,
 "nbformat_minor": 5
}
