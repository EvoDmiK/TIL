{
 "cells": [
  {
   "cell_type": "markdown",
   "id": "502e33cf-ea94-43a5-bf20-d169f85e2fe1",
   "metadata": {},
   "source": [
    "# **0. 참고자료**\n",
    "## 0-1. 문제 출처\n",
    "\n",
    "# **1. 문제 설명**\n",
    "\n",
    "# **2. 제한 사항**\n",
    "\n",
    "# **3. 입출력 예**"
   ]
  },
  {
   "cell_type": "code",
   "execution_count": 1,
   "id": "61aafefd-d98d-49d9-864b-54122469b894",
   "metadata": {},
   "outputs": [
    {
     "name": "stdin",
     "output_type": "stream",
     "text": [
      " AABCDD\n",
      " afzz\n",
      " 09121\n",
      " a8EWg6\n",
      " P5h3kx\n"
     ]
    },
    {
     "name": "stdout",
     "output_type": "stream",
     "text": [
      "Aa0aPAf985Bz1EhCz2W3D1gkD6x\n"
     ]
    }
   ],
   "source": [
    "data = [input() for _ in range(5)]\n",
    "\n",
    "answer = ''\n",
    "len_   = max([len(word) for word in data])\n",
    "\n",
    "for _1dx in range(len_):\n",
    "    \n",
    "    for _2dx in range(5):\n",
    "        \n",
    "        try: answer += data[_2dx][_1dx]\n",
    "        except: pass\n",
    "    \n",
    "print(answer)"
   ]
  },
  {
   "cell_type": "code",
   "execution_count": null,
   "id": "871f7ffa-1dd1-4f2e-871c-5f15c6e5846c",
   "metadata": {},
   "outputs": [],
   "source": []
  }
 ],
 "metadata": {
  "kernelspec": {
   "display_name": "bio",
   "language": "python",
   "name": "bio"
  },
  "language_info": {
   "codemirror_mode": {
    "name": "ipython",
    "version": 3
   },
   "file_extension": ".py",
   "mimetype": "text/x-python",
   "name": "python",
   "nbconvert_exporter": "python",
   "pygments_lexer": "ipython3",
   "version": "3.10.8"
  }
 },
 "nbformat": 4,
 "nbformat_minor": 5
}
