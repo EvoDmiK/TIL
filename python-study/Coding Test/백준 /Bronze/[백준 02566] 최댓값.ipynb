{
 "cells": [
  {
   "cell_type": "markdown",
   "id": "502e33cf-ea94-43a5-bf20-d169f85e2fe1",
   "metadata": {},
   "source": [
    "# **0. 참고자료**\n",
    "## 0-1. 문제 출처\n",
    "\n",
    "# **1. 문제 설명**\n",
    "\n",
    "# **2. 제한 사항**\n",
    "\n",
    "# **3. 입출력 예**"
   ]
  },
  {
   "cell_type": "code",
   "execution_count": 1,
   "id": "86821fa5-1f89-4047-94e6-57f6e95be727",
   "metadata": {},
   "outputs": [
    {
     "name": "stdin",
     "output_type": "stream",
     "text": [
      " 3 23 85 34 17 74 25 52 65\n",
      " 10 7 39 42 88 52 14 72 63\n",
      " 87 42 18 78 53 45 18 84 53\n",
      " 34 28 64 85 12 16 75 36 55\n",
      " 21 77 45 35 28 75 90 76 1\n",
      " 25 87 65 15 28 11 37 28 74\n",
      " 65 27 75 41 7 89 78 64 39\n",
      " 47 47 70 45 23 65 3 41 44\n",
      " 87 13 82 38 31 12 29 29 80\n"
     ]
    },
    {
     "name": "stdout",
     "output_type": "stream",
     "text": [
      "90\n",
      "5 7\n"
     ]
    }
   ],
   "source": [
    "matrix    = [list(map(int, input().split())) for _ in range(9)]\n",
    "max_value = []\n",
    "                  \n",
    "for idx, row in enumerate(matrix): max_value.append((idx + 1, max(row)))\n",
    "    \n",
    "max_row, max_value = sorted(max_value, key = lambda x: x[1])[::-1][0]\n",
    "max_col            = matrix[max_row - 1].index(max_value)\n",
    "\n",
    "print(max_value)\n",
    "print(f'{max_row} {max_col + 1}')"
   ]
  },
  {
   "cell_type": "code",
   "execution_count": null,
   "id": "59bd54ee-070f-47a6-a5f6-baac7d38d3df",
   "metadata": {},
   "outputs": [],
   "source": []
  }
 ],
 "metadata": {
  "kernelspec": {
   "display_name": "bio",
   "language": "python",
   "name": "bio"
  },
  "language_info": {
   "codemirror_mode": {
    "name": "ipython",
    "version": 3
   },
   "file_extension": ".py",
   "mimetype": "text/x-python",
   "name": "python",
   "nbconvert_exporter": "python",
   "pygments_lexer": "ipython3",
   "version": "3.10.8"
  }
 },
 "nbformat": 4,
 "nbformat_minor": 5
}
