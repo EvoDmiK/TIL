{
 "cells": [
  {
   "cell_type": "markdown",
   "id": "502e33cf-ea94-43a5-bf20-d169f85e2fe1",
   "metadata": {},
   "source": [
    "# **0. 참고자료**\n",
    "## 0-1. 문제 출처\n",
    "\n",
    "# **1. 문제 설명**\n",
    "\n",
    "# **2. 제한 사항**\n",
    "\n",
    "# **3. 입출력 예**"
   ]
  },
  {
   "cell_type": "code",
   "execution_count": 1,
   "id": "d09eec76-97a0-4e9e-b055-d40be62e941e",
   "metadata": {},
   "outputs": [],
   "source": [
    "import math as mt"
   ]
  },
  {
   "cell_type": "code",
   "execution_count": 2,
   "id": "67454320-ffdd-4874-a3bf-678096d64787",
   "metadata": {},
   "outputs": [
    {
     "name": "stdin",
     "output_type": "stream",
     "text": [
      " 3\n",
      " 0 0 13 40 0 37\n",
      " 0 0 3 0 7 4\n",
      " 1 1 1 1 1 5\n"
     ]
    }
   ],
   "source": [
    "N = int(input())\n",
    "circles = [list(map(int, input().split())) for _ in range(N)]"
   ]
  },
  {
   "cell_type": "code",
   "execution_count": 3,
   "id": "9356cfab-c267-46dc-a69e-41ac9e74e7c2",
   "metadata": {},
   "outputs": [
    {
     "name": "stdout",
     "output_type": "stream",
     "text": [
      "2\n",
      "1\n",
      "0\n"
     ]
    }
   ],
   "source": [
    "for circle in circles:\n",
    "    x1, y1, r1, x2, y2, r2 = circle\n",
    "    d = mt.sqrt((x1 - x2)**2 + (y1 - y2)**2)\n",
    "    \n",
    "    if   (d == 0) and (r1 == r2): print(-1)\n",
    "    elif (abs(r1 - r2) == d) or (r1 + r2 == d): print(1)\n",
    "    elif (abs(r1 - r2) < d < r1 + r2): print(2)\n",
    "    else: print(0)\n"
   ]
  },
  {
   "cell_type": "code",
   "execution_count": null,
   "id": "fde75c0a-4250-454a-ae09-859ef506745d",
   "metadata": {},
   "outputs": [],
   "source": []
  }
 ],
 "metadata": {
  "kernelspec": {
   "display_name": "bio",
   "language": "python",
   "name": "bio"
  },
  "language_info": {
   "codemirror_mode": {
    "name": "ipython",
    "version": 3
   },
   "file_extension": ".py",
   "mimetype": "text/x-python",
   "name": "python",
   "nbconvert_exporter": "python",
   "pygments_lexer": "ipython3",
   "version": "3.10.8"
  }
 },
 "nbformat": 4,
 "nbformat_minor": 5
}
