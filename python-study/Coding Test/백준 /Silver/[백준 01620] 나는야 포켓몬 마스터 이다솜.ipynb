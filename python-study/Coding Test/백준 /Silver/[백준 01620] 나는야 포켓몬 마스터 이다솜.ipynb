{
 "cells": [
  {
   "cell_type": "markdown",
   "id": "502e33cf-ea94-43a5-bf20-d169f85e2fe1",
   "metadata": {},
   "source": [
    "# **0. 참고자료**\n",
    "## 0-1. 문제 출처\n",
    "\n",
    "# **1. 문제 설명**\n",
    "\n",
    "# **2. 제한 사항**\n",
    "\n",
    "# **3. 입출력 예**"
   ]
  },
  {
   "cell_type": "code",
   "execution_count": 1,
   "id": "d539cb77-2436-48c7-a020-b5151901c328",
   "metadata": {},
   "outputs": [],
   "source": [
    "pokemons = [\n",
    "            'Bulbasaur', 'Ivysaur', 'Venusaur',\n",
    "            'Charmander','Charmeleon', 'Charizard',\n",
    "            'Squirtle', 'Wartortle', 'Blastoise',\n",
    "            'Caterpie', 'Metapod', 'Butterfree',\n",
    "            'Weedle', 'Kakuna', 'Beedrill',\n",
    "            'Pidgey', 'Pidgeotto', 'Pidgeot',\n",
    "            'Rattata', 'Raticate', 'Spearow',\n",
    "            'Fearow',  'Ekans', 'Arbok',\n",
    "            'Pikachu', 'Raichu'\n",
    "        ]"
   ]
  },
  {
   "cell_type": "code",
   "execution_count": 2,
   "id": "51cce07f-2e9a-470f-8385-5d9dd5a4af57",
   "metadata": {},
   "outputs": [
    {
     "name": "stdin",
     "output_type": "stream",
     "text": [
      " 26 5\n"
     ]
    }
   ],
   "source": [
    "N, M     = map(int, input().split())\n",
    "index    = {}"
   ]
  },
  {
   "cell_type": "code",
   "execution_count": 3,
   "id": "59547984-969a-4adc-9a5a-405bd5c31091",
   "metadata": {},
   "outputs": [
    {
     "name": "stdin",
     "output_type": "stream",
     "text": [
      " 25\n"
     ]
    },
    {
     "name": "stdout",
     "output_type": "stream",
     "text": [
      "Pikachu\n"
     ]
    },
    {
     "name": "stdin",
     "output_type": "stream",
     "text": [
      " Raichu\n"
     ]
    },
    {
     "name": "stdout",
     "output_type": "stream",
     "text": [
      "26\n"
     ]
    },
    {
     "name": "stdin",
     "output_type": "stream",
     "text": [
      " 3\n"
     ]
    },
    {
     "name": "stdout",
     "output_type": "stream",
     "text": [
      "Venusaur\n"
     ]
    },
    {
     "name": "stdin",
     "output_type": "stream",
     "text": [
      " Pidgey\n"
     ]
    },
    {
     "name": "stdout",
     "output_type": "stream",
     "text": [
      "16\n"
     ]
    },
    {
     "name": "stdin",
     "output_type": "stream",
     "text": [
      " Kakuna\n"
     ]
    },
    {
     "name": "stdout",
     "output_type": "stream",
     "text": [
      "14\n"
     ]
    }
   ],
   "source": [
    "for idx, pokemon in enumerate(pokemons, 1):\n",
    "    # pokemon = input()\n",
    "    index[pokemon] = idx\n",
    "    index[idx]     = pokemon\n",
    "\n",
    "for _ in range(M):\n",
    "    \n",
    "    inp = input()\n",
    "    print(index[int(inp)] if inp.isdigit() else index[inp])\n",
    "        "
   ]
  },
  {
   "cell_type": "code",
   "execution_count": null,
   "id": "64decd73-9545-4cb4-abba-ff86fc7e8f75",
   "metadata": {},
   "outputs": [],
   "source": []
  }
 ],
 "metadata": {
  "kernelspec": {
   "display_name": "bio",
   "language": "python",
   "name": "bio"
  },
  "language_info": {
   "codemirror_mode": {
    "name": "ipython",
    "version": 3
   },
   "file_extension": ".py",
   "mimetype": "text/x-python",
   "name": "python",
   "nbconvert_exporter": "python",
   "pygments_lexer": "ipython3",
   "version": "3.10.8"
  }
 },
 "nbformat": 4,
 "nbformat_minor": 5
}
