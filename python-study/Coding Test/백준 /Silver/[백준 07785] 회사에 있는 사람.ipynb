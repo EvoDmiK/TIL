{
 "cells": [
  {
   "cell_type": "markdown",
   "id": "502e33cf-ea94-43a5-bf20-d169f85e2fe1",
   "metadata": {},
   "source": [
    "# **0. 참고자료**\n",
    "## 0-1. 문제 출처\n",
    "\n",
    "# **1. 문제 설명**\n",
    "\n",
    "# **2. 제한 사항**\n",
    "\n",
    "# **3. 입출력 예**"
   ]
  },
  {
   "cell_type": "code",
   "execution_count": 1,
   "id": "61aafefd-d98d-49d9-864b-54122469b894",
   "metadata": {},
   "outputs": [
    {
     "name": "stdin",
     "output_type": "stream",
     "text": [
      " 4\n"
     ]
    }
   ],
   "source": [
    "N      = int(input())\n",
    "people = {}"
   ]
  },
  {
   "cell_type": "code",
   "execution_count": 2,
   "id": "894db186-c3c2-4c62-aeb7-6509fd5a8d92",
   "metadata": {},
   "outputs": [
    {
     "name": "stdin",
     "output_type": "stream",
     "text": [
      " Baha enter\n",
      " Askar enter\n",
      " Baha leave\n",
      " Artem enter\n"
     ]
    },
    {
     "name": "stdout",
     "output_type": "stream",
     "text": [
      "Askar\n",
      "Artem\n"
     ]
    }
   ],
   "source": [
    "for _ in range(N):\n",
    "    \n",
    "    person, log    = input().split()\n",
    "    \n",
    "    if log == 'enter': people[person] = log\n",
    "    else: del people[person]\n",
    "\n",
    "print('\\n'.join(sorted(people.keys(), reverse = True)))"
   ]
  },
  {
   "cell_type": "code",
   "execution_count": null,
   "id": "b658dae6-4874-4793-8c92-0268cfabc2c0",
   "metadata": {},
   "outputs": [],
   "source": []
  }
 ],
 "metadata": {
  "kernelspec": {
   "display_name": "bio",
   "language": "python",
   "name": "bio"
  },
  "language_info": {
   "codemirror_mode": {
    "name": "ipython",
    "version": 3
   },
   "file_extension": ".py",
   "mimetype": "text/x-python",
   "name": "python",
   "nbconvert_exporter": "python",
   "pygments_lexer": "ipython3",
   "version": "3.10.8"
  }
 },
 "nbformat": 4,
 "nbformat_minor": 5
}
