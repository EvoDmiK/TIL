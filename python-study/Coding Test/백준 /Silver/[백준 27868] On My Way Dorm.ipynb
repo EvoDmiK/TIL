{
 "cells": [
  {
   "cell_type": "code",
   "execution_count": 1,
   "id": "bc3faf60-65b5-4528-a0a8-f15b79b5594d",
   "metadata": {},
   "outputs": [
    {
     "name": "stdin",
     "output_type": "stream",
     "text": [
      " 6 1\n",
      " 1 1 1 1 1 2\n",
      " ++0-\n"
     ]
    },
    {
     "name": "stdout",
     "output_type": "stream",
     "text": [
      "-0++\n"
     ]
    }
   ],
   "source": [
    "company, dormitory = list(map(int, input().split()))\n",
    "speed              = list(map(int, input().split()))\n",
    "command            = input()\n",
    "\n",
    "print(command[::-1])"
   ]
  },
  {
   "cell_type": "code",
   "execution_count": null,
   "id": "c863afb2-7aab-4be3-a11a-fc58e6bdfbee",
   "metadata": {},
   "outputs": [],
   "source": []
  }
 ],
 "metadata": {
  "kernelspec": {
   "display_name": "dove",
   "language": "python",
   "name": "dove"
  },
  "language_info": {
   "codemirror_mode": {
    "name": "ipython",
    "version": 3
   },
   "file_extension": ".py",
   "mimetype": "text/x-python",
   "name": "python",
   "nbconvert_exporter": "python",
   "pygments_lexer": "ipython3",
   "version": "3.8.13"
  }
 },
 "nbformat": 4,
 "nbformat_minor": 5
}
