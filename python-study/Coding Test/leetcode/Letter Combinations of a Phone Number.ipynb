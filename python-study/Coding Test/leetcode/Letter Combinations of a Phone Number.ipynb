{
 "cells": [
  {
   "cell_type": "markdown",
   "id": "824f9ee7-3141-4642-97e9-767a03482310",
   "metadata": {},
   "source": [
    "# **0. 참고자료**\n",
    "## 0-1. 문제 출처\n",
    "- leetcode - roman to int | [[문제 출처]](https://leetcode.com/problems/roman-to-integer/)\n",
    "\n",
    "# **1. 문제 설명**\n",
    "Given a string containing digits from 2-9 inclusive, return all possible letter combinations that the number could represent. Return the answer in any order.  \n",
    "A mapping of digits to letters (just like on the telephone buttons) is given below. Note that 1 does not map to any letters.  \n",
    "\n",
    "|digits|letter|\n",
    "|:--:|:--:|\n",
    "|2|abc|\n",
    "|3|def|\n",
    "|4|ghi|\n",
    "|5|jkl|\n",
    "|6|mno|\n",
    "|7|pqrs|\n",
    "|8|tuv|\n",
    "|9|wxyz|\n",
    "\n",
    "**e.g.1)**  \n",
    "Input: digits = \"23\"  \n",
    "Output: [\"ad\",\"ae\",\"af\",\"bd\",\"be\",\"bf\",\"cd\",\"ce\",\"cf\"]  \n",
    "**e.g.2)**  \n",
    "Input: digits = \"\"  \n",
    "Output: []  \n",
    "\n",
    "**e.g.3)**  \n",
    "Input: digits = \"2\"  \n",
    "Output: [\"a\",\"b\",\"c\"]  \n",
    "\n",
    "**Constraints:**  \n",
    "0 <= digits.length <= 4  \n",
    "digits[i] is a digit in the range ['2', '9'].  "
   ]
  },
  {
   "cell_type": "code",
   "execution_count": 3,
   "id": "c477eb32-566b-41fb-9f1d-c971e73449d0",
   "metadata": {},
   "outputs": [],
   "source": [
    "from itertools import product\n",
    "\n",
    "class Solution:\n",
    "    def letterCombinations(self, digits: str):\n",
    "        if digits == \"\": return []\n",
    "        \n",
    "        digit_to_str = {\n",
    "                            '2' : 'abc',\n",
    "                            '3' : 'def',\n",
    "                            '4' : 'ghi',\n",
    "                            '5' : 'jkl',\n",
    "                            '6' : 'mno',\n",
    "                            '7' : 'pqrs',\n",
    "                            '8' : 'tuv',\n",
    "                            '9' : 'wxyz'\n",
    "                        }\n",
    "        \n",
    "        answers = [digit_to_str[d] for d in digits]\n",
    "        answers = [''.join(p) for p in product(*answers)]\n",
    "        \n",
    "        return answers"
   ]
  },
  {
   "cell_type": "code",
   "execution_count": 9,
   "id": "3ab006a0-4031-4821-a5c7-a0d7db52ccd2",
   "metadata": {},
   "outputs": [
    {
     "name": "stdout",
     "output_type": "stream",
     "text": [
      "A1. combinations of 23 is ['ad', 'ae', 'af', 'bd', 'be', 'bf', 'cd', 'ce', 'cf']\n",
      "A2. combinations of  is []\n",
      "A3. combinations of 2 is ['a', 'b', 'c']\n"
     ]
    }
   ],
   "source": [
    "sol = Solution()\n",
    "print(f'A1. combinations of 23 is {sol.letterCombinations(\"23\")}')\n",
    "print(f'A2. combinations of  is {sol.letterCombinations(\"\")}')\n",
    "print(f'A3. combinations of 2 is {sol.letterCombinations(\"2\")}')"
   ]
  },
  {
   "cell_type": "code",
   "execution_count": null,
   "id": "382fd9a2-bdcd-40c7-9cdc-fef8c42e8dc2",
   "metadata": {},
   "outputs": [],
   "source": []
  }
 ],
 "metadata": {
  "kernelspec": {
   "display_name": "bio",
   "language": "python",
   "name": "bio"
  },
  "language_info": {
   "codemirror_mode": {
    "name": "ipython",
    "version": 3
   },
   "file_extension": ".py",
   "mimetype": "text/x-python",
   "name": "python",
   "nbconvert_exporter": "python",
   "pygments_lexer": "ipython3",
   "version": "3.9.12"
  }
 },
 "nbformat": 4,
 "nbformat_minor": 5
}
