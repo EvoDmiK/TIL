{
 "cells": [
  {
   "cell_type": "code",
   "execution_count": 1,
   "id": "01a9b2cb-9f7c-4e6e-9987-667b5d9db90f",
   "metadata": {},
   "outputs": [],
   "source": [
    "from collections import Counter\n",
    "import json\n",
    "import os\n",
    "import re\n",
    "\n",
    "import matplotlib.pyplot as plt\n",
    "import pandas as pd\n",
    "import numpy as np\n",
    "import cv2"
   ]
  },
  {
   "cell_type": "code",
   "execution_count": 2,
   "id": "8715fa58-5ebc-43db-a351-ab71d01eab5e",
   "metadata": {},
   "outputs": [],
   "source": [
    "ROOT_PATH = '/'.join(os.getcwd().split('/')[:-3])\n",
    "DATA_PATH = f'{ROOT_PATH}/AI_study/dataset/mcnicknames'"
   ]
  },
  {
   "cell_type": "code",
   "execution_count": 3,
   "id": "0de694a1-7a50-4585-bf12-8ffdcff72bbb",
   "metadata": {},
   "outputs": [],
   "source": [
    "clear_name = lambda name: re.compile('[^a-zA-Z0-9_]').sub('', name)"
   ]
  },
  {
   "cell_type": "code",
   "execution_count": 4,
   "id": "ac444203-0f60-4eb6-9be7-b93a516c9c0f",
   "metadata": {},
   "outputs": [],
   "source": [
    "df = pd.read_csv(f'{DATA_PATH}/nicknames.csv')\n",
    "df = df.dropna()"
   ]
  },
  {
   "cell_type": "code",
   "execution_count": 5,
   "id": "ac8ca032-606f-47a1-a618-eeef7ad1c882",
   "metadata": {},
   "outputs": [
    {
     "data": {
      "text/plain": [
       "0        0\n",
       "1       00\n",
       "2      000\n",
       "3     0000\n",
       "4    00000\n",
       "Name: nicknames_s, dtype: object"
      ]
     },
     "execution_count": 5,
     "metadata": {},
     "output_type": "execute_result"
    }
   ],
   "source": [
    "nicknames = df['nicknames_s']\n",
    "nicknames.head()"
   ]
  },
  {
   "cell_type": "code",
   "execution_count": 6,
   "id": "3c669f87-9855-48f3-a903-dce95f6ad12c",
   "metadata": {},
   "outputs": [
    {
     "data": {
      "text/plain": [
       "[('a', 3564957),\n",
       " ('e', 3303318),\n",
       " ('r', 2553768),\n",
       " ('i', 2504072),\n",
       " ('o', 2418331),\n",
       " ('n', 2077960),\n",
       " ('t', 1899211),\n",
       " ('s', 1871014),\n",
       " ('l', 1834379),\n",
       " ('m', 1437298)]"
      ]
     },
     "execution_count": 6,
     "metadata": {},
     "output_type": "execute_result"
    }
   ],
   "source": [
    "names       = ''.join([clear_name(name).lower() for name in nicknames])\n",
    "alpha_count = Counter(names)\n",
    "alpha_count.most_common(10)"
   ]
  },
  {
   "cell_type": "code",
   "execution_count": 7,
   "id": "f8af9bc8-f098-40d4-a5aa-b784f95e16c3",
   "metadata": {},
   "outputs": [],
   "source": [
    "keyboard_image = cv2.imread(f'{DATA_PATH}/keyboard.png')\n",
    "H, W           = keyboard_image.shape[:2]"
   ]
  },
  {
   "cell_type": "code",
   "execution_count": 8,
   "id": "ba1c8831-6ea7-40e1-b118-a8f0af388aba",
   "metadata": {},
   "outputs": [],
   "source": [
    "keycoords   = json.loads(open(f'{DATA_PATH}/buttons.json', 'r').read())\n",
    "keycoords   = {key : list(map(int, value.split('-'))) for key, value in keycoords.items()}"
   ]
  },
  {
   "cell_type": "code",
   "execution_count": 9,
   "id": "7b070339-8eb5-4dda-891e-85d47fc29ea9",
   "metadata": {},
   "outputs": [
    {
     "data": {
      "text/plain": [
       "<matplotlib.image.AxesImage at 0x7f8899ad99d0>"
      ]
     },
     "execution_count": 9,
     "metadata": {},
     "output_type": "execute_result"
    },
    {
     "data": {
      "image/png": "[encoded data removed]",
      "text/plain": [
       "<Figure size 640x480 with 1 Axes>"
      ]
     },
     "metadata": {},
     "output_type": "display_data"
    }
   ],
   "source": [
    "boards = np.zeros((H, W), dtype = np.uint8)\n",
    "plt.imshow(boards, cmap = 'gray')"
   ]
  },
  {
   "cell_type": "code",
   "execution_count": 10,
   "id": "0187b6d5-134f-4a85-a232-24efd0200235",
   "metadata": {},
   "outputs": [
    {
     "data": {
      "text/plain": [
       "<matplotlib.image.AxesImage at 0x7f8899a4dfd0>"
      ]
     },
     "execution_count": 10,
     "metadata": {},
     "output_type": "execute_result"
    },
    {
     "data": {
      "image/png": "[encoded data removed]",
      "text/plain": [
       "<Figure size 640x480 with 1 Axes>"
      ]
     },
     "metadata": {},
     "output_type": "display_data"
    }
   ],
   "source": [
    "beta = 1e-2\n",
    "for (alpha, count) in alpha_count.items():\n",
    "    \n",
    "    cx, cy = keycoords[alpha]\n",
    "    count  = int(beta * count)\n",
    "    \n",
    "    boards[cy - 45 : cy + 45, cx - 45 : cx + 45] += count\n",
    "    \n",
    "plt.imshow(boards)"
   ]
  },
  {
   "cell_type": "code",
   "execution_count": null,
   "id": "cd53dc21-c491-4965-aadf-d775b6c6efc8",
   "metadata": {},
   "outputs": [],
   "source": []
  }
 ],
 "metadata": {
  "kernelspec": {
   "display_name": "dove",
   "language": "python",
   "name": "dove"
  },
  "language_info": {
   "codemirror_mode": {
    "name": "ipython",
    "version": 3
   },
   "file_extension": ".py",
   "mimetype": "text/x-python",
   "name": "python",
   "nbconvert_exporter": "python",
   "pygments_lexer": "ipython3",
   "version": "3.8.13"
  }
 },
 "nbformat": 4,
 "nbformat_minor": 5
}
