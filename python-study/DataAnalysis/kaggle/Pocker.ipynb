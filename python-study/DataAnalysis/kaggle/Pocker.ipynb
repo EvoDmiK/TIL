{
 "cells": [
  {
   "cell_type": "code",
   "execution_count": 1,
   "id": "1610fc27-b486-4b01-8209-e2793f7c1987",
   "metadata": {},
   "outputs": [],
   "source": [
    "from collections import Counter\n",
    "import os\n",
    "\n",
    "from sklearn.model_selection import train_test_split\n",
    "from sklearn.preprocessing import LabelEncoder\n",
    "import matplotlib.pyplot as plt\n",
    "from sklearn.svm import SVC\n",
    "from sklearn import metrics\n",
    "import seaborn as sns\n",
    "import pandas as pd\n",
    "import numpy as np"
   ]
  },
  {
   "cell_type": "code",
   "execution_count": 2,
   "id": "1cae7d4a-6fd0-4fe0-ab84-dfd10fdf9216",
   "metadata": {},
   "outputs": [],
   "source": [
    "ROOT_PATH = '/'.join(os.getcwd().split('/')[:-3])\n",
    "DATA_PATH = f'{ROOT_PATH}/AI_study/dataset/Pocker'\n",
    "\n",
    "idx2suit  = {1 : 'H', 2: 'S', 3 : 'D', 4 : 'C'}"
   ]
  },
  {
   "cell_type": "code",
   "execution_count": 3,
   "id": "fc307dc9-b074-4297-b2a9-881180c86ee1",
   "metadata": {},
   "outputs": [
    {
     "data": {
      "text/html": [
       "<div>\n",
       "<style scoped>\n",
       "    .dataframe tbody tr th:only-of-type {\n",
       "        vertical-align: middle;\n",
       "    }\n",
       "\n",
       "    .dataframe tbody tr th {\n",
       "        vertical-align: top;\n",
       "    }\n",
       "\n",
       "    .dataframe thead th {\n",
       "        text-align: right;\n",
       "    }\n",
       "</style>\n",
       "<table border=\"1\" class=\"dataframe\">\n",
       "  <thead>\n",
       "    <tr style=\"text-align: right;\">\n",
       "      <th></th>\n",
       "      <th>S1</th>\n",
       "      <th>C1</th>\n",
       "      <th>S2</th>\n",
       "      <th>C2</th>\n",
       "      <th>S3</th>\n",
       "      <th>C3</th>\n",
       "      <th>S4</th>\n",
       "      <th>C4</th>\n",
       "      <th>S5</th>\n",
       "      <th>C5</th>\n",
       "      <th>hand</th>\n",
       "    </tr>\n",
       "  </thead>\n",
       "  <tbody>\n",
       "    <tr>\n",
       "      <th>0</th>\n",
       "      <td>4</td>\n",
       "      <td>9</td>\n",
       "      <td>2</td>\n",
       "      <td>1</td>\n",
       "      <td>2</td>\n",
       "      <td>2</td>\n",
       "      <td>4</td>\n",
       "      <td>7</td>\n",
       "      <td>2</td>\n",
       "      <td>8</td>\n",
       "      <td>0</td>\n",
       "    </tr>\n",
       "    <tr>\n",
       "      <th>1</th>\n",
       "      <td>1</td>\n",
       "      <td>4</td>\n",
       "      <td>3</td>\n",
       "      <td>6</td>\n",
       "      <td>1</td>\n",
       "      <td>12</td>\n",
       "      <td>3</td>\n",
       "      <td>11</td>\n",
       "      <td>2</td>\n",
       "      <td>7</td>\n",
       "      <td>0</td>\n",
       "    </tr>\n",
       "    <tr>\n",
       "      <th>2</th>\n",
       "      <td>1</td>\n",
       "      <td>11</td>\n",
       "      <td>4</td>\n",
       "      <td>1</td>\n",
       "      <td>3</td>\n",
       "      <td>7</td>\n",
       "      <td>4</td>\n",
       "      <td>11</td>\n",
       "      <td>2</td>\n",
       "      <td>1</td>\n",
       "      <td>2</td>\n",
       "    </tr>\n",
       "    <tr>\n",
       "      <th>3</th>\n",
       "      <td>2</td>\n",
       "      <td>9</td>\n",
       "      <td>2</td>\n",
       "      <td>4</td>\n",
       "      <td>3</td>\n",
       "      <td>6</td>\n",
       "      <td>1</td>\n",
       "      <td>9</td>\n",
       "      <td>4</td>\n",
       "      <td>9</td>\n",
       "      <td>3</td>\n",
       "    </tr>\n",
       "    <tr>\n",
       "      <th>4</th>\n",
       "      <td>1</td>\n",
       "      <td>8</td>\n",
       "      <td>2</td>\n",
       "      <td>4</td>\n",
       "      <td>2</td>\n",
       "      <td>11</td>\n",
       "      <td>2</td>\n",
       "      <td>2</td>\n",
       "      <td>2</td>\n",
       "      <td>1</td>\n",
       "      <td>0</td>\n",
       "    </tr>\n",
       "  </tbody>\n",
       "</table>\n",
       "</div>"
      ],
      "text/plain": [
       "   S1  C1  S2  C2  S3  C3  S4  C4  S5  C5  hand\n",
       "0   4   9   2   1   2   2   4   7   2   8     0\n",
       "1   1   4   3   6   1  12   3  11   2   7     0\n",
       "2   1  11   4   1   3   7   4  11   2   1     2\n",
       "3   2   9   2   4   3   6   1   9   4   9     3\n",
       "4   1   8   2   4   2  11   2   2   2   1     0"
      ]
     },
     "execution_count": 3,
     "metadata": {},
     "output_type": "execute_result"
    }
   ],
   "source": [
    "df = pd.read_csv(f'{DATA_PATH}/train.csv')\n",
    "df.head()"
   ]
  },
  {
   "cell_type": "code",
   "execution_count": 4,
   "id": "078735e3-1212-4f0c-9011-953101897bb7",
   "metadata": {},
   "outputs": [
    {
     "data": {
      "image/png": "[encoded data removed]",
      "text/plain": [
       "<Figure size 640x480 with 1 Axes>"
      ]
     },
     "metadata": {},
     "output_type": "display_data"
    }
   ],
   "source": [
    "datas, label = df.drop(['hand'], axis = 1), df[['hand']]\n",
    "label_count = label.value_counts('hand')\n",
    "\n",
    "plt.bar(label_count.keys(), label_count.values)\n",
    "for k, v in label_count.items():\n",
    "    \n",
    "    plt.text(\n",
    "                k, v, v,\n",
    "                verticalalignment   = 'bottom',\n",
    "                horizontalalignment = 'center'\n",
    "            )"
   ]
  },
  {
   "cell_type": "code",
   "execution_count": 5,
   "id": "746e3826-39ac-4c43-bcbb-2c19801d0d39",
   "metadata": {},
   "outputs": [],
   "source": [
    "sum_suits = sum([datas.value_counts(f'S{idx}') for idx in range(1, 6)])\n",
    "sum_ranks = sum([datas.value_counts(f'C{idx}') for idx in range(1, 6)])"
   ]
  },
  {
   "cell_type": "code",
   "execution_count": 6,
   "id": "7f928faa-1ef8-4871-92ef-3694b2735444",
   "metadata": {},
   "outputs": [
    {
     "data": {
      "image/png": "[encoded data removed]",
      "text/plain": [
       "<Figure size 640x480 with 1 Axes>"
      ]
     },
     "metadata": {},
     "output_type": "display_data"
    }
   ],
   "source": [
    "plt.bar(sum_suits.keys(), sum_suits.values)\n",
    "for k, v in sum_suits.items():\n",
    "    \n",
    "    plt.text(\n",
    "                k, v, v,\n",
    "                verticalalignment   = 'bottom', \n",
    "                horizontalalignment = 'center'\n",
    "            )"
   ]
  },
  {
   "cell_type": "code",
   "execution_count": 7,
   "id": "211ba068-abd5-4757-955b-25e61ccfccad",
   "metadata": {},
   "outputs": [
    {
     "data": {
      "image/png": "[encoded data removed]",
      "text/plain": [
       "<Figure size 640x480 with 1 Axes>"
      ]
     },
     "metadata": {},
     "output_type": "display_data"
    }
   ],
   "source": [
    "plt.bar(sum_ranks.keys(), sum_ranks.values)\n",
    "for k, v in sum_ranks.items():\n",
    "    \n",
    "    plt.text(\n",
    "                k, v, v,\n",
    "                verticalalignment   = 'bottom', \n",
    "                horizontalalignment = 'center'\n",
    "            )"
   ]
  },
  {
   "cell_type": "code",
   "execution_count": 8,
   "id": "44cd29dd-57cb-4a85-bed9-bb7bfd6a052f",
   "metadata": {},
   "outputs": [],
   "source": [
    "new_data     = []\n",
    "new_data_str = ''\n",
    "\n",
    "encoder = LabelEncoder()\n",
    "\n",
    "for data in datas.iterrows():\n",
    "    \n",
    "    _, series = data\n",
    "    converted_data = [f'{idx2suit[series[f\"S{idx}\"]]}{series[f\"C{idx}\"]}' for idx in range(1, 6)]\n",
    "    new_data.append(converted_data)"
   ]
  },
  {
   "cell_type": "code",
   "execution_count": 9,
   "id": "256fa04a-17f7-4a25-bba6-f4da98cd679c",
   "metadata": {},
   "outputs": [
    {
     "data": {
      "text/plain": [
       "[['C9', 'S1', 'S2', 'C7', 'S8'],\n",
       " ['H4', 'D6', 'H12', 'D11', 'S7'],\n",
       " ['H11', 'C1', 'D7', 'C11', 'S1'],\n",
       " ['S9', 'S4', 'D6', 'H9', 'C9'],\n",
       " ['H8', 'S4', 'S11', 'S2', 'S1']]"
      ]
     },
     "execution_count": 9,
     "metadata": {},
     "output_type": "execute_result"
    }
   ],
   "source": [
    "new_data[:5]"
   ]
  },
  {
   "cell_type": "code",
   "execution_count": 10,
   "id": "bca023a5-f1cd-4e52-97a0-c6c71286b462",
   "metadata": {},
   "outputs": [
    {
     "name": "stderr",
     "output_type": "stream",
     "text": [
      "/opt/conda/envs/dove/lib/python3.8/site-packages/sklearn/preprocessing/_label.py:98: DataConversionWarning: A column-vector y was passed when a 1d array was expected. Please change the shape of y to (n_samples, ), for example using ravel().\n",
      "  y = column_or_1d(y, warn=True)\n",
      "/opt/conda/envs/dove/lib/python3.8/site-packages/sklearn/preprocessing/_label.py:133: DataConversionWarning: A column-vector y was passed when a 1d array was expected. Please change the shape of y to (n_samples, ), for example using ravel().\n",
      "  y = column_or_1d(y, warn=True)\n"
     ]
    }
   ],
   "source": [
    "new_data = np.array(new_data).reshape(-1, 1)\n",
    "\n",
    "encoder = LabelEncoder()\n",
    "encoder.fit(new_data)\n",
    "\n",
    "encoded = encoder.transform(new_data)\n",
    "encoded = encoded.reshape(-1, 5)"
   ]
  },
  {
   "cell_type": "code",
   "execution_count": null,
   "id": "beca88b9-90ac-452c-b3c9-c4a14196559d",
   "metadata": {},
   "outputs": [],
   "source": []
  },
  {
   "cell_type": "code",
   "execution_count": null,
   "id": "0ae762f5-08d1-4287-be4a-63b2bd97d14a",
   "metadata": {},
   "outputs": [],
   "source": []
  }
 ],
 "metadata": {
  "kernelspec": {
   "display_name": "dove",
   "language": "python",
   "name": "dove"
  },
  "language_info": {
   "codemirror_mode": {
    "name": "ipython",
    "version": 3
   },
   "file_extension": ".py",
   "mimetype": "text/x-python",
   "name": "python",
   "nbconvert_exporter": "python",
   "pygments_lexer": "ipython3",
   "version": "3.8.13"
  }
 },
 "nbformat": 4,
 "nbformat_minor": 5
}
