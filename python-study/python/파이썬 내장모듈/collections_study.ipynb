{
 "cells": [
  {
   "cell_type": "markdown",
   "id": "d261b04b-33f9-4668-854c-c65531fa2095",
   "metadata": {},
   "source": [
    "# **0. 참고자료**\n",
    "## 0-1. 도서   \n",
    "\n",
    "## 0-2. 논문, 학술지\n",
    "\n",
    "## 0-3. 웹 사이트\n",
    "- python docs  - collections | [[python docs 링크]](https://docs.python.org/ko/3/library/collections.html)  \n",
    "- kimdoky - Python, collections (효율적인 컨테이너형 데이터) | [[블로그 링크]](https://kimdoky.github.io/python/2019/11/25/python-collections/)  \n",
    "- wikidocs    - 점프 투 파이썬 (라이브러리 예제편) | [[위키독스]](https://wikidocs.net/106964)\n",
    "\n",
    "## 0-4. 데이터셋 출처"
   ]
  },
  {
   "cell_type": "markdown",
   "id": "6bdf09aa-9522-46bb-975f-41cf1c53e202",
   "metadata": {},
   "source": [
    "# **1. collections**\n",
    "- collections 모듈은 파이썬의 자료형인 dict, list, set, tuple에 대한 대안을 제공하는 자료형을 구현한다.  \n",
    "\n",
    "|자료형|설명|\n",
    "|:--|:--|\n",
    "|ChainMap|여러 매핑의 단일 뷰를 만드는 딕셔너리류 클래스|\n",
    "|Counter|해시 가능한 객체를 세는 데 사용하는 딕셔너리 서브 클래스|\n",
    "|deque|양쪽 끝에서 빠르게 추가와 삭제를 할 수 있는 리스트류 컨테이너|\n",
    "|defaultdict|누락된 값을 제공하기 위해 팩토리 함수를 호출하는 딕셔너리 서브 클래스|\n",
    "|namedtuple()|이름 붙은 필드를 갖는 튜플 서브 클래스를 만들기 위한 팩토리 함수|\n",
    "|OrderedDict|항목이 추가된 순서를 기억하는 딕셔너리 서브 클래스|\n",
    "|UserDict|쉬운 딕셔너리 서브 클래싱을 위해 딕셔너리 객체를 감싸는 래퍼|\n",
    "|UserList|쉬운 리스트 서브 클래싱을 위해 리스트 객체를 감싸는 래퍼|\n",
    "|UserString|쉬운 문자열 서브 클래싱을 위해 문자열 객체를 감싸는 래퍼|\n",
    "\n",
    "## **1-1. ChainMap 객체**\n",
    "- 여러 딕셔너리나 다른 매핑을 함께 묶어 갱신 가능한 단일 뷰를 만듦.  \n",
    "- 인자값으로 maps가 지정되지 않으면, 새 체인에 항상 하나 이상의 매핑이 있도록, 빈 딕셔너리 하나가 제공됨.  \n",
    "|arrt/ method|설명|\n",
    "|:--|:--|\n",
    "|maps|등록된 매핑 객체 리스트|\n",
    "|new_child|현재 인스턴스의 모든 맵을 포함한 새 객체를 반환|\n",
    "|parents|현재 인스턴스의 첫 번째 맵을 제외한 새 맵을 반환|\n",
    "\n",
    "- ChainMap()의 이터레이션 순서는 매칭을 마지막에서 첫 번째 방향으로 스캔하여 결정된다.  "
   ]
  },
  {
   "cell_type": "code",
   "execution_count": 19,
   "id": "9928a151-85d2-4ea7-9b46-fc73309b4779",
   "metadata": {},
   "outputs": [
    {
     "name": "stdout",
     "output_type": "stream",
     "text": [
      "- Chain Map : ChainMap({'music': 'bach', 'art': 'van gogh'}, {'art': 'rembrandt', 'opera': 'carmen'})\n",
      "\n",
      "- new child  : ChainMap({}, {'music': 'bach', 'art': 'van gogh'}, {'art': 'rembrandt', 'opera': 'carmen'}) \n",
      "- maps       : [{}, {'music': 'bach', 'art': 'van gogh'}, {'art': 'rembrandt', 'opera': 'carmen'}] \n",
      "- parents    : ChainMap({'music': 'bach', 'art': 'van gogh'}, {'art': 'rembrandt', 'opera': 'carmen'}) \n",
      "\n",
      "- d[\"x\"] = 1 : ChainMap({'x': 1}, {'music': 'bach', 'art': 'van gogh'}, {'art': 'rembrandt', 'opera': 'carmen'})\n",
      "- d items    : ItemsView(ChainMap({'x': 1}, {'music': 'bach', 'art': 'van gogh'}, {'art': 'rembrandt', 'opera': 'carmen'}))\n"
     ]
    }
   ],
   "source": [
    "from collections import *\n",
    "\n",
    "baseline    = {'music' : 'bach', 'art' : 'van gogh'}\n",
    "adjustments = {'art' : 'rembrandt', 'opera' : 'carmen'}\n",
    "\n",
    "c = ChainMap(baseline, adjustments)\n",
    "print(f'- Chain Map : {c}\\n')\n",
    "\n",
    "d = c.new_child()\n",
    "## 기본값으로 빈 딕셔너리도 포함되어 있으므로, new_child에도 빈 딕셔너리가 포함되어 있다.\n",
    "print(f'- new child  : {d} \\n- maps       : {d.maps} \\n- parents    : {d.parents} \\n')\n",
    "\n",
    "## 아래 코드를 입력하면 기본값으로 있던 빈 딕셔너리에 값이 들어간다.\n",
    "d['x'] = 1\n",
    "print(f'- d[\"x\"] = 1 : {d}')\n",
    "print(f'- d items    : {d.items()}')"
   ]
  },
  {
   "cell_type": "markdown",
   "id": "6b8ef0d7-87fd-4258-9b99-b3688c394001",
   "metadata": {},
   "source": [
    "## **1-2. Counter 객체**\n",
    "- 입력 데이터에서 각 값의 counter를 셀때 사용.\n",
    "- 입력 데이터의 요소가 딕셔너리 키로 저장되고 개수가 딕셔너리 값으로 저장된다.  \n",
    "|attr / method|설명|\n",
    "|:--|:--|\n",
    "|elements()|지정한 개수만큼 반복되는 요소를 임의의 순서로 반환. (단, 1보다 작으면 무시)|\n",
    "|most_common(n)|값이 큰 순서대로 키와 값으로 이루어진 tuple을 최대 n건의 리스트로 반환|\n",
    "|substract([반복 가능 또는 매핑])| iterable 또는 매핑 객체의 값을 뺀다.|"
   ]
  },
  {
   "cell_type": "code",
   "execution_count": 40,
   "id": "78f3d31c-6884-4591-b3c3-39443f5e027e",
   "metadata": {},
   "outputs": [
    {
     "name": "stdout",
     "output_type": "stream",
     "text": [
      "- Counter of words   : Counter({'blue': 3, 'green': 3, 'red': 2, 'yellow': 2})\n",
      "- elements of c      : ['blue', 'blue', 'green', 'green', 'green', 'red', 'red', 'red', 'yellow', 'yellow', 'yellow', 'yellow']\n",
      "- most common of c   : [('yellow', 4), ('green', 3), ('red', 3), ('blue', 2)]\n",
      "- subtract of a to b : Counter({'a': 3, 'b': 0, 'c': -3, 'd': -6})\n"
     ]
    }
   ],
   "source": [
    "from collections import Counter\n",
    "\n",
    "words      = ['red', 'blue', 'red', 'green', 'blue', 'blue', 'yellow', 'green', 'green', 'yellow']\n",
    "print(f'- Counter of words   : {Counter(words)}')\n",
    "\n",
    "c          = Counter(green = 3, blue = 2, red = 3, yellow = 4)\n",
    "print(f'- elements of c      : {sorted(c.elements())}')\n",
    "\n",
    "most_words = c.most_common(4)\n",
    "print(f'- most common of c   : {most_words}')\n",
    "\n",
    "a          = Counter(a = 4, b = 2, c = 0, d = -2)\n",
    "b          = Counter(a = 1, b = 2, c = 3, d = 4)\n",
    "a.subtract(b)\n",
    "\n",
    "print(f'- subtract of a to b : {a}')"
   ]
  },
  {
   "cell_type": "markdown",
   "id": "3dad18c9-fd9d-4008-b2c8-fb037bde6ecb",
   "metadata": {},
   "source": [
    "- Counter 객체의 연산  \n",
    "(1) a & b (교집합) : a와 b가 공통으로 가지고 있는 키 : 값 반환 (값은 두 Counter 객체에 있는 것중 최소값)  \n",
    "(2) a | b (합집합) : a와 b가 가지고 있는 키 : 값 전체를 반환  (값은 두 Counter 객체에 있는 것중 최대값)  \n",
    "(3) a + b          : a와 b의 요소별 덧셈을 한 결과를 반환  \n",
    "(4) a - b          : a와 b의 요소별 뺄셈을 한 결과를 반환 (뺄셈을 한 결과가 양수인 것만 반환)  "
   ]
  },
  {
   "cell_type": "code",
   "execution_count": 42,
   "id": "c6edb48f-856f-4836-b320-b3a97ffb5673",
   "metadata": {},
   "outputs": [
    {
     "name": "stdout",
     "output_type": "stream",
     "text": [
      "- d + e            : Counter({'a': 4, 'b': 3})\n",
      "- d - e            : Counter({'a': 2})\n",
      "- d intersection e : Counter({'a': 1, 'b': 1})\n",
      "- d union e        : Counter({'a': 3, 'b': 2})\n"
     ]
    }
   ],
   "source": [
    "d = Counter(a = 3, b = 1)\n",
    "e = Counter(a = 1, b = 2)\n",
    "\n",
    "print(f'- d + e            : {d + e}')\n",
    "print(f'- d - e            : {d - e}')\n",
    "print(f'- d intersection e : {d & e}')\n",
    "print(f'- d union e        : {d | e}')"
   ]
  },
  {
   "cell_type": "markdown",
   "id": "212c436e-7636-48fd-bfb3-e35d20a52247",
   "metadata": {},
   "source": [
    "## **1-3. deque 객체**\n",
    "- append()를 이용해 왼쪽에서 오른쪽으로 초기화된 새 데크(deque) 객체를 반환  \n",
    "- deque는 스택과 큐를 일반화 한 것으로 | double-ended queue의 약자  \n",
    "\n",
    "|attr/ method| 설명 |\n",
    "|:--|:--|\n",
    "|append(x)|x를 오른쪽에 추가|\n",
    "|appendleft(x)|x를 왼쪽에 추가|\n",
    "|clear()|모든 요소를 제거하여 길이를 0으로 만듦|\n",
    "|copy()|얕은 복사|\n",
    "|count(x)|x와 같은 요소의 수를 반환|\n",
    "|extend(iterable)|iterable을 오른쪽에 추가|\n",
    "|extendleft(iterable)|iterable을 왼쪽에 추가|\n",
    "|index(x, [, start[, stop]])|x의 인덱스를 반환 (찾지 못하면 ValueError)|\n",
    "|insert(i, x)|i 인덱스에 x를 삽입 (maxlen 이상으로 커지면 IndexError)|\n",
    "|pop()|오른쪽에서 요소를 제거하고 반환 (요소가 없으면 IndexError)|\n",
    "|popleft()|왼쪽에서 요소를 제거하고 반환 (요소가 없으면 IndexError) |\n",
    "|remove(value)|먼저 발견된 value를 제거 (없으면 ValueError)|\n",
    "|reverse()|순서를 뒤집음|\n",
    "|roatete(n = 1)|n이 양수면 오른쪽, 음수면 왼쪽으로 돌림|\n",
    "|maxlen|deque의 최대 크기를 반환 (제한이 없으면 None)|\n"
   ]
  },
  {
   "cell_type": "code",
   "execution_count": 53,
   "id": "a4440de5-49e8-4aae-8ab5-16c640616bcc",
   "metadata": {},
   "outputs": [
    {
     "name": "stdout",
     "output_type": "stream",
     "text": [
      "- original deque             : deque(['g', 'h', 'i'])\n",
      "\n",
      "- right append deque         : deque(['g', 'h', 'i', 'j'])\n",
      "- left append deque          : deque(['f', 'g', 'h', 'i', 'j'])\n",
      "\n",
      "- right pop deque            : deque(['f', 'g', 'h', 'i'])\n",
      "- left pop deque             : deque(['g', 'h', 'i'])\n",
      "\n",
      "- reversed deque             : ['i', 'h', 'g']\n",
      "- right extended deque       : deque(['i', 'h', 'g', 'j', 'k', 'l'])\n",
      "- left extended deque        : deque(['f', 'e', 'd', 'i', 'h', 'g', 'j', 'k', 'l'])\n",
      "\n",
      "- rotate with clockwise      : deque(['l', 'f', 'e', 'd', 'i', 'h', 'g', 'j', 'k'])\n",
      "- rotate with anti-clockwise : deque(['f', 'e', 'd', 'i', 'h', 'g', 'j', 'k', 'l'])\n"
     ]
    }
   ],
   "source": [
    "from collections import deque\n",
    "\n",
    "deq = deque('ghi')\n",
    "print(f'- original deque             : {deq}\\n')\n",
    "\n",
    "deq.append('j')\n",
    "print(f'- right append deque         : {deq}')\n",
    "\n",
    "deq.appendleft('f')\n",
    "print(f'- left append deque          : {deq}\\n')\n",
    "\n",
    "deq.pop()\n",
    "print(f'- right pop deque            : {deq}')\n",
    "\n",
    "deq.popleft()\n",
    "print(f'- left pop deque             : {deq}\\n')\n",
    "\n",
    "deq.reverse()\n",
    "print(f'- reversed deque             : {list(deq)}')\n",
    "\n",
    "deq.extend('jkl')\n",
    "print(f'- right extended deque       : {deq}')\n",
    "\n",
    "deq.extendleft('def')\n",
    "print(f'- left extended deque        : {deq}\\n')\n",
    "\n",
    "deq.rotate(1)\n",
    "print(f'- rotate with clockwise      : {deq}')\n",
    "\n",
    "deq.rotate(-1)\n",
    "print(f'- rotate with anti-clockwise : {deq}')"
   ]
  },
  {
   "cell_type": "markdown",
   "id": "6c3b6b6d-5bed-4422-928c-3b92da6a510d",
   "metadata": {},
   "source": [
    "## **1-4. defaultdict 객체**\n",
    "- default_factory를 지정하면 등록되어 있지 않은 키를 호출해도 KeyError가 발생하지 않고, 지정된 기본값을 반환  "
   ]
  },
  {
   "cell_type": "code",
   "execution_count": 66,
   "id": "acf918a4-c9a5-4e1e-b62a-46c54c2a6a73",
   "metadata": {},
   "outputs": [
    {
     "name": "stdout",
     "output_type": "stream",
     "text": [
      "original dict             : defaultdict(<class 'int'>, {'i': 1, 'j': 2})\n",
      "value for missing key \"k\" : 0\n",
      "\n",
      "- list for defaultdict    : defaultdict(<class 'list'>, {'yellow': [1, 3], 'blue': [2, 4], 'red': [1]})\n",
      "- list for setdefault     : {'yellow': [1, 3], 'blue': [2, 4], 'red': [1]}\n"
     ]
    }
   ],
   "source": [
    "c = defaultdict(int)\n",
    "c['i'] = 1\n",
    "c['j'] = 2\n",
    "\n",
    "print(f'original dict             : {c}')\n",
    "print(f'value for missing key \"k\" : {c[\"k\"]}\\n')\n",
    "\n",
    "\n",
    "## 같은 키 요소 연결 (1)\n",
    "## defaultdict()로 구현\n",
    "s = [('yellow', 1), ('blue', 2), ('yellow', 3), ('blue', 4), ('red', 1)]\n",
    "d = defaultdict(list)\n",
    "\n",
    "for k, v in s: d[k].append(v)\n",
    "print(f'- list for defaultdict    : {d}')\n",
    "\n",
    "## 같은 키 요소 연결 (2)\n",
    "## dict/setdefault()로 구현\n",
    "d = {}\n",
    "for k, v in s: d.setdefault(k, []).append(v)\n",
    "print(f'- list for setdefault     : {d}')"
   ]
  },
  {
   "cell_type": "markdown",
   "id": "35a7cbf1-be18-4d5d-ad49-a418c247e4fc",
   "metadata": {},
   "source": [
    "## **1-5. namedtuple 객체**\n",
    "- tuple은 데이터를 그룹으로 관리할 때 자주 사용한다.  \n",
    "- namedtuple()은 정수 인덱스 뿐만 아니라, 속성 이름을 지정하여 요소를 취득할 수 있다.  \n",
    "\n",
    "#### **사용법**\n",
    "- collections.namedtuple(typename, filed_names, *, rename = False, defaults = None, module = None)  \n",
    "(1) typename    | 생성할 튜플의 이름  \n",
    "(2) filed_names | 튜플 요소 이름 지정  \n",
    "(3) rename      | True일 때 잘못된 요소의 이름을 수정  \n",
    "\n",
    "|attr/ method|설명|\n",
    "|:--|:--|\n",
    "|_make(iterable)| 기존 시퀀스에서 새 인스턴스 반환|\n",
    "|_asdict()|요소의 이름과 값을 매핑한 OrderedDict 인스턴스를 반환|\n",
    "|_replace(kwaeargs[dict])|지정된 필드를 새로운 값으로 교체한 튜플의 새 인스턴스를 반환|\n",
    "|_fields|필드 이름을 나열하는 문자열 튜플 반환|\n",
    "|_field_defaults|dict에 필드 이름을 기본값으로 매핑|"
   ]
  },
  {
   "cell_type": "code",
   "execution_count": 84,
   "id": "7fea9d43-45f4-4b8f-b88f-13e811cde08e",
   "metadata": {},
   "outputs": [
    {
     "name": "stdout",
     "output_type": "stream",
     "text": [
      "- x, y                                   : 11, 22\n",
      "\n",
      "- x + y                                  : 33\n",
      "- x * y                                  : 242\n",
      "\n",
      "- creative named tuple                   : point(x=33, y=44)\n",
      "- p for OrderedDict                      : {'x': 11, 'y': 22}\n",
      "- replace x in p                         : point(x=99, y=22)\n",
      "\n",
      "- fields for p                           : ('x', 'y')\n",
      "- default value for \"premium\" in account : account(type='premium', balance=0)\n"
     ]
    }
   ],
   "source": [
    "point = namedtuple('point', ['x', 'y'])\n",
    "\n",
    "p     = point(11, 22)\n",
    "x, y  = p\n",
    "print(f'- x, y                                   : {x}, {y}\\n')\n",
    "\n",
    "print(f'- x + y                                  : {p[0] + p[1]}')\n",
    "print(f'- x * y                                  : {p.x * p.y}\\n')\n",
    "\n",
    "t     = [33, 44]\n",
    "print(f'- creative named tuple                   : {point._make(t)}')\n",
    "print(f'- p for OrderedDict                      : {p._asdict()}')\n",
    "print(f'- replace x in p                         : {p._replace(x = 99)}\\n')\n",
    "\n",
    "print(f'- fields for p                           : {p._fields}')\n",
    "\n",
    "account = namedtuple('account', ['type', 'balance'], defaults = [0])\n",
    "account._field_defaults\n",
    "\n",
    "print(f'- default value for \"premium\" in account : {account(\"premium\")}')"
   ]
  },
  {
   "cell_type": "markdown",
   "id": "82c8f466-1d04-4742-9d20-ea418b35a808",
   "metadata": {},
   "source": [
    "## **1-6. OrderedDict 객체**\n",
    "- 삽입 순서를 기억하는 dict 객체  \n",
    "- 초기값을 지정할 때 시퀀스는 순서를 기억하지만, dict, 키워드 인수 등은 순서를 기억하지 않는다.  \n",
    "|attr / method|설명|\n",
    "|:--|:--|\n",
    "|popitem(last = True)|last 인자가 True면 LIFO, Flase면 FIFO 순으로 리턴|\n",
    "|move_to_end(key, last = True)|key를 정렬된 dict의 끝으로 이동하는데, True면 오른쪽으로 이동, False면 처음으로 이동. (key가 없으면 KeyError)|"
   ]
  },
  {
   "cell_type": "code",
   "execution_count": 100,
   "id": "913c3160-b899-4e81-80b2-512697827daf",
   "metadata": {},
   "outputs": [
    {
     "name": "stdout",
     "output_type": "stream",
     "text": [
      "- original OrderedDict : OrderedDict([('a', None), ('b', None), ('c', None), ('d', None), ('e', None)])\n",
      "\n",
      "- \"b\" move to last : acdeb\n"
     ]
    }
   ],
   "source": [
    "d = OrderedDict.fromkeys('abcde')\n",
    "print(f'- original OrderedDict : {d}\\n')\n",
    "\n",
    "d.move_to_end('b')\n",
    "print(f'- \"b\" move to last : {\"\".join(d.keys())}')"
   ]
  },
  {
   "cell_type": "markdown",
   "id": "1d3baf3d-919f-4d87-8658-83d103dbca17",
   "metadata": {},
   "source": [
    "# **3. 예제**\n",
    "### **e. g.1)**  \n",
    "- 시계방향으로 1 ~ 5가 적힌 다이얼이 있으며 현재 가리키는 눈금은 1이다.  \n",
    "  이 다이얼을 오른쪽으로 2칸 돌려 가리키는 눈금이 4가 하려면 어떻게 해야할까?  \n",
    "  \n",
    "  \n",
    "### **A1.**"
   ]
  },
  {
   "cell_type": "code",
   "execution_count": 106,
   "id": "ec93fbfc-4457-4eca-92fb-45418df60e0b",
   "metadata": {},
   "outputs": [
    {
     "name": "stdout",
     "output_type": "stream",
     "text": [
      "- original dials                 : deque([1, 2, 3, 4, 5])\n",
      "- clockwise rotation for 2 times : deque([4, 5, 1, 2, 3])\n"
     ]
    }
   ],
   "source": [
    "dials = deque([1, 2, 3, 4, 5])\n",
    "print(f'- original dials                 : {dials}')\n",
    "\n",
    "## 시계 방향으로 2번 이동시킴\n",
    "dials.rotate(2)\n",
    "print(f'- clockwise rotation for 2 times : {dials}')"
   ]
  },
  {
   "cell_type": "markdown",
   "id": "a842a8e1-4980-4c05-b1f8-cede621cd174",
   "metadata": {},
   "source": [
    "### **e. g.2)**  \n",
    "- 직원 주소록을 만들고자 다음과 같이 이름, 나이, 휴대전화로 구성된 직원 정보 데이터를 이용하려 한다.  \n",
    "|이름|나이|전화번호|\n",
    "|:--:|:--:|:--:|\n",
    "|홍길동|23|01099990001|\n",
    "|김철수|31|01099991002|\n",
    "|이영희|29|01099992003|\n",
    "\n",
    "- 하지만, 리스트의 요소가 튜플이라 데이터에 접근하기가 쉽지 않다.  \n",
    "  왜냐하면 데이터를 확인하려면 튜플 데이터의 인덱스 순서가 무엇을 뜻하는지 알아야 하기 때문이다.  \n",
    "  다음처럼 튜플 데이터를 각 칼럼의 이름으로 찾을 수 있도록 하려면 어떻게 해야 할까?  \n",
    "  \n",
    "- emp.name → 홍길동 출력 | emp.age → 23 출력 | emp.cellphone → 01099990001 출력\n",
    "  \n",
    "### **A2.**"
   ]
  },
  {
   "cell_type": "code",
   "execution_count": 119,
   "id": "2d5e3980-e5ba-4a71-9b8e-ee763686dbb7",
   "metadata": {},
   "outputs": [
    {
     "name": "stdout",
     "output_type": "stream",
     "text": [
      "- name      : 홍길동 \n",
      "  age       : 23 \n",
      "  cellphone : 01099990001\n"
     ]
    }
   ],
   "source": [
    "data = [\n",
    "        ('홍길동', 23, '01099990001'),\n",
    "        ('김철수', 31, '01099991002'),\n",
    "        ('이영희', 29, '01099992003'),\n",
    "    ]\n",
    "\n",
    "emp      = namedtuple('emp', ['name', 'age', 'cellphone'])\n",
    "emp      = [emp._make((d[0], d[1], d[2])) for d in data]\n",
    "emp_hong = emp[0]\n",
    "\n",
    "print(f'- name      : {emp_hong.name} \\n  age       : {emp_hong.age} \\n  cellphone : {emp_hong.cellphone}')"
   ]
  },
  {
   "cell_type": "markdown",
   "id": "cca68344-3b60-4d45-b531-f1fa0d8ac186",
   "metadata": {},
   "source": [
    "### **e. g.3)**  \n",
    "- 다음은 김소월의 시 '산유화'이다. 잠시 여유를 갖고 감상해 보자.  \n",
    "\n",
    "    산에는 꽃 피네.\n",
    "    꽃이 피네.\n",
    "    갈 봄 여름없이\n",
    "    꽃이 피네.\n",
    "\n",
    "    산에\n",
    "    산에\n",
    "    피는 꽃은\n",
    "    저만치 혼자서 피어있네.\n",
    "\n",
    "    산에서 우는 새여\n",
    "    꽃이 좋아\n",
    "    산에서\n",
    "    사노라네.\n",
    "\n",
    "    산에는 꽃지네\n",
    "    꽃이 지네.\n",
    "    갈 봄 여름 없이\n",
    "    꽃이 지네.\n",
    "\n",
    "- 이 시에서 가장 많이 사용한 단어와 그 개수를 구하려면 어떻게 해야할까?\n",
    "\n",
    "\n",
    "### **A3.**"
   ]
  },
  {
   "cell_type": "code",
   "execution_count": 125,
   "id": "355e7726-1402-4056-bf77-a093e990d7f1",
   "metadata": {},
   "outputs": [
    {
     "data": {
      "text/plain": [
       "[('꽃이', 5)]"
      ]
     },
     "execution_count": 125,
     "metadata": {},
     "output_type": "execute_result"
    }
   ],
   "source": [
    "import re\n",
    "\n",
    "poem = ''' 산에는 꽃 피네.\n",
    "            꽃이 피네.\n",
    "            갈 봄 여름없이\n",
    "            꽃이 피네.\n",
    "\n",
    "            산에\n",
    "            산에\n",
    "            피는 꽃은\n",
    "            저만치 혼자서 피어있네.\n",
    "\n",
    "            산에서 우는 새여\n",
    "            꽃이 좋아\n",
    "            산에서\n",
    "            사노라네.\n",
    "\n",
    "            산에는 꽃지네\n",
    "            꽃이 지네.\n",
    "            갈 봄 여름 없이\n",
    "            꽃이 지네. '''\n",
    "\n",
    "## 정규표현식에서 \\w+는 단어를 의미하므로, re.findall() 함수를 이용해 모든 단어를 리스트로 반환한다.\n",
    "words       = re.findall(r'\\w+', poem)\n",
    "most_common = Counter(words).most_common(1)\n",
    "most_common\n"
   ]
  },
  {
   "cell_type": "code",
   "execution_count": null,
   "id": "b07b9bfa-a534-4533-af23-5a557f497659",
   "metadata": {},
   "outputs": [],
   "source": []
  }
 ],
 "metadata": {
  "kernelspec": {
   "display_name": "bio",
   "language": "python",
   "name": "bio"
  },
  "language_info": {
   "codemirror_mode": {
    "name": "ipython",
    "version": 3
   },
   "file_extension": ".py",
   "mimetype": "text/x-python",
   "name": "python",
   "nbconvert_exporter": "python",
   "pygments_lexer": "ipython3",
   "version": "3.9.12"
  }
 },
 "nbformat": 4,
 "nbformat_minor": 5
}
