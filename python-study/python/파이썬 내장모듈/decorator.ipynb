{
 "cells": [
  {
   "cell_type": "code",
   "execution_count": 1,
   "id": "e0fbd808-261e-428d-8974-5cdbd8eac3fb",
   "metadata": {},
   "outputs": [
    {
     "name": "stdout",
     "output_type": "stream",
     "text": [
      "spam 시작\n",
      "spam\n",
      "spam 끝\n",
      "egg 시작\n",
      "egg\n",
      "egg 끝\n"
     ]
    }
   ],
   "source": [
    "## 데코레이터 적용 전\n",
    "def spam():\n",
    "    print('spam 시작')\n",
    "    print('spam')\n",
    "    print('spam 끝')\n",
    "    \n",
    "    \n",
    "def egg():\n",
    "    print('egg 시작')\n",
    "    print('egg')\n",
    "    print('egg 끝')\n",
    "\n",
    "\n",
    "spam()\n",
    "egg()"
   ]
  },
  {
   "cell_type": "code",
   "execution_count": 2,
   "id": "7ef67321-139b-42f1-b4ff-71622da8ba16",
   "metadata": {},
   "outputs": [
    {
     "name": "stdout",
     "output_type": "stream",
     "text": [
      "spam 시작\n",
      "spam\n",
      "spam 끝\n",
      "egg 시작\n",
      "egg\n",
      "egg 끝\n"
     ]
    }
   ],
   "source": [
    "## 데코레이터 적용 후 \n",
    "\n",
    "## 호출할 함수를 매개변수로 받음.\n",
    "def trace(func):\n",
    "    \n",
    "    ## 호출할 함수를 감싸는 함수\n",
    "    def wrapper():\n",
    "        ## __name__으로 함수 이름 지정\n",
    "        name = func.__name__\n",
    "        \n",
    "        print(f'{name} 시작')\n",
    "        ## 매개변수로 받은 함수 호출\n",
    "        func()\n",
    "        print(f'{name} 끝')\n",
    "    \n",
    "    ## wrapper 함수 반환\n",
    "    return wrapper\n",
    "\n",
    "\n",
    "def spam(): print('spam')\n",
    "\n",
    "\n",
    "def egg(): print('egg')\n",
    "\n",
    "\n",
    "trace_spam = trace(spam)\n",
    "trace_spam()\n",
    "\n",
    "trace_egg  = trace(egg)\n",
    "trace_egg()"
   ]
  },
  {
   "cell_type": "code",
   "execution_count": 3,
   "id": "cd3ba9e2-bae5-4018-9194-bab45d82e0d9",
   "metadata": {},
   "outputs": [
    {
     "name": "stdout",
     "output_type": "stream",
     "text": [
      "spam 시작\n",
      "spam\n",
      "spam 끝\n",
      "egg 시작\n",
      "egg\n",
      "egg 끝\n"
     ]
    }
   ],
   "source": [
    "## 함수 위에 @{trace 함수} 형식으로 사용할 수도 있다.\n",
    "\n",
    "@trace\n",
    "def spam(): print('spam')\n",
    "\n",
    "\n",
    "@trace\n",
    "def egg(): print('egg')\n",
    "\n",
    "\n",
    "spam()\n",
    "egg()"
   ]
  },
  {
   "cell_type": "code",
   "execution_count": 4,
   "id": "6e5a6481-5f24-49ce-b41e-aa7172ec6378",
   "metadata": {},
   "outputs": [
    {
     "name": "stdout",
     "output_type": "stream",
     "text": [
      "deco 1\n",
      "deco 2\n",
      "spam\n"
     ]
    }
   ],
   "source": [
    "## 데코레이터는 여러개 이용할 수 있다.\n",
    "def deco1(func):\n",
    "    \n",
    "    def wrapper():\n",
    "        print('deco 1')\n",
    "        func()\n",
    "        \n",
    "    return wrapper\n",
    "\n",
    "\n",
    "def deco2(func):\n",
    "    \n",
    "    def wrapper():\n",
    "        print('deco 2')\n",
    "        func()\n",
    "        \n",
    "    return wrapper\n",
    "\n",
    "\n",
    "@deco1\n",
    "@deco2\n",
    "def spam(): print('spam')\n",
    "\n",
    "spam()"
   ]
  },
  {
   "cell_type": "code",
   "execution_count": 5,
   "id": "16d8d53e-3dc2-42fc-83e3-9871e702476f",
   "metadata": {},
   "outputs": [
    {
     "name": "stdout",
     "output_type": "stream",
     "text": [
      "invalid parameter :  1\n",
      "unsupported operand type(s) for +: 'int' and 'str'\n"
     ]
    }
   ],
   "source": [
    "## 데코레이터와 함수에 파라미터가 들어가는 경우\n",
    "def trace(msg):\n",
    "    \n",
    "    def inner(func):\n",
    "        \n",
    "        def wrapper(egg):\n",
    "            \n",
    "            try:\n",
    "                print(f'{func(egg)}')\n",
    "                \n",
    "            except Exception as e:\n",
    "                print(f'{msg} {egg}')\n",
    "                print(f'{e}')\n",
    "                \n",
    "        return wrapper\n",
    "    return inner\n",
    "\n",
    "\n",
    "@trace('invalid parameter : ')\n",
    "def spam(egg):\n",
    "    print(egg + '2')\n",
    "    \n",
    "spam(1)"
   ]
  },
  {
   "cell_type": "code",
   "execution_count": 6,
   "id": "e0fa57ab-e677-4434-abef-eebd739d97bd",
   "metadata": {},
   "outputs": [
    {
     "name": "stdout",
     "output_type": "stream",
     "text": [
      "12\n",
      "None\n"
     ]
    }
   ],
   "source": [
    "spam('1')"
   ]
  },
  {
   "cell_type": "code",
   "execution_count": 7,
   "id": "f1a69a98-801d-417f-9ce6-55f6c816d342",
   "metadata": {},
   "outputs": [
    {
     "name": "stdout",
     "output_type": "stream",
     "text": [
      "invalid parameter :  unsupported operand type(s) for +: 'int' and 'str'\n"
     ]
    }
   ],
   "source": [
    "## 데코레이터에 파라미터가 들어가는 경우\n",
    "def trace(msg):\n",
    "    \n",
    "    def wrapper(func):\n",
    "        try:\n",
    "            func()\n",
    "            \n",
    "        except Exception as e:\n",
    "            print(f'{msg} {e}')\n",
    "        \n",
    "    return wrapper\n",
    "\n",
    "\n",
    "@trace('invalid parameter : ')\n",
    "def spam():\n",
    "    \n",
    "    print(1 + '2')\n",
    "    "
   ]
  },
  {
   "cell_type": "code",
   "execution_count": null,
   "id": "a2d49961-7c65-46f3-b9d8-61f4a9a7cdd5",
   "metadata": {},
   "outputs": [],
   "source": []
  }
 ],
 "metadata": {
  "kernelspec": {
   "display_name": "dove",
   "language": "python",
   "name": "dove"
  },
  "language_info": {
   "codemirror_mode": {
    "name": "ipython",
    "version": 3
   },
   "file_extension": ".py",
   "mimetype": "text/x-python",
   "name": "python",
   "nbconvert_exporter": "python",
   "pygments_lexer": "ipython3",
   "version": "3.8.13"
  }
 },
 "nbformat": 4,
 "nbformat_minor": 5
}
