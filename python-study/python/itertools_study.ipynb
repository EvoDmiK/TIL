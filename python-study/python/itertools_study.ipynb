{
 "cells": [
  {
   "cell_type": "markdown",
   "id": "cc12dd5d-9265-4d80-bad2-49d22af9f0f5",
   "metadata": {},
   "source": [
    "# **0. 참고자료**\n",
    "## 0-1. 도서   \n",
    "\n",
    "## 0-2. 논문, 학술지\n",
    "\n",
    "## 0-3. 웹 사이트\n",
    "- python docs  - itertools | [[python docs 링크]](https://docs.python.org/ko/3/library/itertools.html)  \n",
    "- HAMA 블로그 - 데이터 분석에 피가 되는 itertools 익히기 | [[블로그 링크]](https://hamait.tistory.com/803)  \n",
    "- wikidocs    - 점프 투 파이썬 (라이브러리 예제편) | [[위키독스]](https://wikidocs.net/106964)\n",
    "\n",
    "## 0-4. 데이터셋 출처"
   ]
  },
  {
   "cell_type": "markdown",
   "id": "93cac961-33cd-46d1-8e1b-876e64f306f7",
   "metadata": {},
   "source": [
    "# **1. itertools**\n",
    "- itertools는 유용한 빠르고 메모리 효율적인 도구의 핵십 집합을 표준화한다.\n",
    "\n",
    "## 1-1. 무한 이터레이터 (Infinite Iterator)\n",
    "- 무한 이터레이터는 별도의 종료 조건이 없다면 끝도 없이 돈다.  \n",
    "(1) count(start, [step]) | 인자값으로 받은 start부터 step을 계속 더해가며 반복함.  \n",
    "(2) repeat(elem, [, n])&nbsp;&nbsp;| 인자값으로 받은 elem을 n번 반복함.  \n",
    "(3) cycle(p)&nbsp;&nbsp;&nbsp;&nbsp;&nbsp;&nbsp;&nbsp;&nbsp;&nbsp;&nbsp;&nbsp;&nbsp;&nbsp;&nbsp;&nbsp;&nbsp;&nbsp;&nbsp;| 인자값으로 받은 p의 처음부터 마지막까지 반복함"
   ]
  },
  {
   "cell_type": "code",
   "execution_count": 4,
   "id": "ee78e360-b913-4582-8a81-407da7207fdc",
   "metadata": {},
   "outputs": [],
   "source": [
    "from operator import itemgetter\n",
    "from itertools import *\n",
    "from pprint import pprint"
   ]
  },
  {
   "cell_type": "code",
   "execution_count": 34,
   "id": "012520ce-5fc3-4f5c-b9c8-8f88ea8ebbec",
   "metadata": {},
   "outputs": [
    {
     "name": "stdout",
     "output_type": "stream",
     "text": [
      "count function  :  10 13 16 19 22 25 28 31 34 37 40 \n",
      "repeat function :  10 10 10 10 10 10 10 10 10 10 10 \n",
      "cycle function  :  A B C D A B C D A B C D A B C D "
     ]
    }
   ],
   "source": [
    "## count 함수 예시\n",
    "print('count function  : ', end= ' ')\n",
    "for idx in count(10, step = 3):\n",
    "    if idx == 43: break\n",
    "    print(idx, end = ' ')\n",
    "    \n",
    "## repeat 함수 예시\n",
    "print('\\nrepeat function : ', end= ' ')\n",
    "for idx in repeat(10, 11): print(idx, end = ' ')\n",
    "\n",
    "## cycle 함수 예시\n",
    "print('\\ncycle function  : ', end = ' ')\n",
    "for idx, c in enumerate(cycle('ABCD')):\n",
    "    if idx == 16: break\n",
    "    print(c, end = ' ')"
   ]
  },
  {
   "cell_type": "markdown",
   "id": "0d150df1-5208-49a6-83bd-86bde95adb49",
   "metadata": {},
   "source": [
    "## 1-2. 유한 이터레이터\n",
    "(1) accumulate(p, [, func])&nbsp;&nbsp;&nbsp;&nbsp;&nbsp;&nbsp;&nbsp;&nbsp;&nbsp;&nbsp;&nbsp;&nbsp;&nbsp;&nbsp;&nbsp;&nbsp;&nbsp;&nbsp;&nbsp;&nbsp;&nbsp;&nbsp;&nbsp;&nbsp;&nbsp;&nbsp;&nbsp;&nbsp; | iterator 안에 있는 요소들의 단계 합을 반환해줌.  \n",
    "(2) chain(p, q, ...)&nbsp;&nbsp;&nbsp;&nbsp;&nbsp;&nbsp;&nbsp;&nbsp;&nbsp;&nbsp;&nbsp;&nbsp;&nbsp;&nbsp;&nbsp;&nbsp;&nbsp;&nbsp;&nbsp;&nbsp;&nbsp;&nbsp;&nbsp;&nbsp;&nbsp;&nbsp;&nbsp;&nbsp;&nbsp;&nbsp;&nbsp;&nbsp;&nbsp;&nbsp;&nbsp;&nbsp;&nbsp;&nbsp;&nbsp;&nbsp;&nbsp;&nbsp;&nbsp;&nbsp;| 유한개의 iterable한 객체들을 더해줌.  \n",
    "(2)-1 chain.from_iterable(iterable)&nbsp;&nbsp;&nbsp;&nbsp;&nbsp;&nbsp;&nbsp;&nbsp;&nbsp;&nbsp;&nbsp;&nbsp;&nbsp;&nbsp;&nbsp;&nbsp;| iterable한 객체 안에 있는 iterable한 객체들을 더해줌.  \n",
    "<span style=\"color:orange\"><b><!> chain 함수와 다른 점은 인자 값으로 iterable한 객체 하나만 들어간다는 것이다.</b></span>  \n",
    "(3) compress(data, selectors)&nbsp;&nbsp;&nbsp;&nbsp;&nbsp;&nbsp;&nbsp;&nbsp;&nbsp;&nbsp;&nbsp;&nbsp;&nbsp;&nbsp;&nbsp;&nbsp;&nbsp;&nbsp;&nbsp;&nbsp;&nbsp;&nbsp;&nbsp;&nbsp; | selector안에 있는 요소가 True(or 1)인 값만 반환  \n",
    "(4) dropwhile(pred, seq)&nbsp;&nbsp;&nbsp;&nbsp;&nbsp;&nbsp;&nbsp;&nbsp;&nbsp;&nbsp;&nbsp;&nbsp;&nbsp;&nbsp;&nbsp;&nbsp;&nbsp;&nbsp;&nbsp;&nbsp;&nbsp;&nbsp;&nbsp;&nbsp;&nbsp;&nbsp;&nbsp;&nbsp;&nbsp;&nbsp;&nbsp;&nbsp; | pred에 맞는 조건이 나올때 까지 seq 요소를 삭제하고, 남은 seq 값만 반환  \n",
    "(5) filterfalse(pred, seq)&nbsp;&nbsp;&nbsp;&nbsp;&nbsp;&nbsp;&nbsp;&nbsp;&nbsp;&nbsp;&nbsp;&nbsp;&nbsp;&nbsp;&nbsp;&nbsp;&nbsp;&nbsp;&nbsp;&nbsp;&nbsp;&nbsp;&nbsp;&nbsp;&nbsp;&nbsp;&nbsp;&nbsp;&nbsp;&nbsp;&nbsp;&nbsp;&nbsp; | pred가 true인 seq 값들 반환  \n",
    "(6) groupby(iterable, [, key])&nbsp;&nbsp;&nbsp;&nbsp;&nbsp;&nbsp;&nbsp;&nbsp;&nbsp;&nbsp;&nbsp;&nbsp;&nbsp;&nbsp;&nbsp;&nbsp;&nbsp;&nbsp;&nbsp;&nbsp;&nbsp;&nbsp;&nbsp;&nbsp;&nbsp; | key 값으로 그룹화 된 서브 iterator들 반환  \n",
    "(7) islice(seq, [start, ], stop, [ ,step])&nbsp;&nbsp;&nbsp;&nbsp;&nbsp;&nbsp;&nbsp;&nbsp;&nbsp;&nbsp;&nbsp;&nbsp;&nbsp;&nbsp; | seq[start: stop: step]과 같은 결과값 반환  \n",
    "(8) starmap(func, seq)&nbsp;&nbsp;&nbsp;&nbsp;&nbsp;&nbsp;&nbsp;&nbsp;&nbsp;&nbsp;&nbsp;&nbsp;&nbsp;&nbsp;&nbsp;&nbsp;&nbsp;&nbsp;&nbsp;&nbsp;&nbsp;&nbsp;&nbsp;&nbsp;&nbsp;&nbsp;&nbsp;&nbsp;&nbsp;&nbsp;&nbsp;&nbsp;&nbsp;&nbsp; | seq가 func에 들어간 결과값 반환  \n",
    "(9) takewhile(pred, seq)&nbsp;&nbsp;&nbsp;&nbsp;&nbsp;&nbsp;&nbsp;&nbsp;&nbsp;&nbsp;&nbsp;&nbsp;&nbsp;&nbsp;&nbsp;&nbsp;&nbsp;&nbsp;&nbsp;&nbsp;&nbsp;&nbsp; &nbsp;&nbsp;&nbsp;&nbsp;&nbsp;&nbsp;&nbsp;&nbsp; | dropwhile과 반대 기능 (pred에 맞는 조건들의 seq 값만 반환)  \n",
    "(10) tee(iterator, n)&nbsp;&nbsp;&nbsp;&nbsp;&nbsp;&nbsp;&nbsp;&nbsp;&nbsp;&nbsp;&nbsp;&nbsp;&nbsp;&nbsp;&nbsp;&nbsp;&nbsp; &nbsp;&nbsp;&nbsp;&nbsp;&nbsp;&nbsp;&nbsp;&nbsp;&nbsp;&nbsp;&nbsp;&nbsp;&nbsp;&nbsp; &nbsp;&nbsp;&nbsp;&nbsp;&nbsp; | 하나의 iterator를 n개로 만들어줌   \n",
    "(11) zip_longest(p, q, ..., [ ,fillvalue])&nbsp;&nbsp;&nbsp;&nbsp;&nbsp;&nbsp;&nbsp;&nbsp;&nbsp;&nbsp;&nbsp;&nbsp; | zip 함수와 달리 길이가 다른 iterator에 기본값(fillvalue)을 추가하여 사용가능"
   ]
  },
  {
   "cell_type": "code",
   "execution_count": 101,
   "id": "a0852fbd-0899-4ac7-a0b0-fed300b3683d",
   "metadata": {},
   "outputs": [
    {
     "name": "stdout",
     "output_type": "stream",
     "text": [
      "(1) accumulate function      :  1 3 6 10 15 \n",
      "(2) chain function         :  A B C a b c \n",
      "(3) chain.from_iterable function :  A B C a b c \n",
      "(4) compress function      : A D G \n",
      "(5) dropwhile function     : 6 4 1 \n",
      "(6) filterfalse function   : 0 3 6 9 \n",
      "(7) groupby function\n",
      "{'A': [{'blood': 'A', 'name': '김지아'},\n",
      "       {'blood': 'A', 'name': '손우진'},\n",
      "       {'blood': 'A', 'name': '박은주'}],\n",
      " 'AB': [{'blood': 'AB', 'name': '이상호'}, {'blood': 'AB', 'name': '최상현'}],\n",
      " 'B': [{'blood': 'B', 'name': '이영순'}, {'blood': 'B', 'name': '김지민'}],\n",
      " 'O': [{'blood': 'O', 'name': '이민서'}]}\n",
      "\n",
      "(8) islice function       :  C D E F G H I \n",
      "(9) starmap function      :  32 9 \n",
      "(10) takewhile function   :  1 4 \n",
      "(11) tee function         :  [0, 1, 2, 3, 4, 5, 6, 7, 8, 9] [0, 1, 2, 3, 4, 5, 6, 7, 8, 9] [0, 1, 2, 3, 4, 5, 6, 7, 8, 9] \n",
      "(12) zip_longest function :  ('A', 'w') ('B', 'x') ('C', 'y') ('D', 'z') ('E', 'z') ('F', 'z') "
     ]
    }
   ],
   "source": [
    "print('(1) accumulate function      : ', end = ' ')\n",
    "for idx in accumulate([1, 2, 3, 4, 5]): print(idx, end = ' ')\n",
    "\n",
    "print('\\n(2) chain function         : ', end = ' ')\n",
    "for c in chain('ABC', 'abc'): print(c, end = ' ')\n",
    "\n",
    "print('\\n(3) chain.from_iterable function : ', end = ' ')\n",
    "for c in chain.from_iterable(['ABC', 'abc']): print(c, end = ' ')\n",
    "\n",
    "print('\\n(4) compress function      :', end = ' ')\n",
    "for c in compress('ABCDEFGHI', [1, 0,0, 1, 0, 0, 1, 0, 0]): print(c, end = ' ')\n",
    "\n",
    "print('\\n(5) dropwhile function     :', end = ' ')\n",
    "for idx in dropwhile(lambda x: x < 5, [1, 4, 6, 4,1]): print(idx, end = ' ')\n",
    "\n",
    "print('\\n(6) filterfalse function   :', end = ' ')\n",
    "for idx in filterfalse(lambda x: x % 3, range(10)): print(idx, end = ' ')\n",
    "\n",
    "print('\\n(7) groupby function')\n",
    "data = [\n",
    "    {'name': '이민서', 'blood': 'O'},\n",
    "    {'name': '이영순', 'blood': 'B'},\n",
    "    {'name': '이상호', 'blood': 'AB'},\n",
    "    {'name': '김지민', 'blood': 'B'},\n",
    "    {'name': '최상현', 'blood': 'AB'},\n",
    "    {'name': '김지아', 'blood': 'A'},\n",
    "    {'name': '손우진', 'blood': 'A'},\n",
    "    {'name': '박은주', 'blood': 'A'}\n",
    "]\n",
    "data = sorted(data, key = itemgetter('blood'))\n",
    "\n",
    "result = {}\n",
    "for key, value in groupby(data, key = itemgetter('blood')): result[key] = list(value)\n",
    "pprint(result)\n",
    "\n",
    "print('\\n(8) islice function       : ', end = ' ')\n",
    "for idx in islice('ABCDEFGHI', 2, None): print(idx, end = ' ')\n",
    "\n",
    "print('\\n(9) starmap function      : ', end = ' ')\n",
    "for idx in starmap(pow, [(2, 5), (3, 2)]): print(idx, end = ' ')\n",
    "\n",
    "print('\\n(10) takewhile function   : ', end = ' ')\n",
    "for idx in takewhile(lambda x: x < 5, [1, 4, 6, 4,1]): print(idx, end = ' ')\n",
    "\n",
    "print('\\n(11) tee function         : ', end = ' ')\n",
    "i1, i2, i3 = tee(range(10), 3)\n",
    "iters      = (i1, i2, i3)\n",
    "for idx in iters: print(list(idx), end = ' ')\n",
    "\n",
    "print('\\n(12) zip_longest function : ', end = ' ')\n",
    "for idx in zip_longest('ABCDEF', 'wxy', fillvalue = 'z'): print(idx, end = ' ')"
   ]
  },
  {
   "cell_type": "markdown",
   "id": "edb0b5aa-e47b-435f-b6d2-5c125ec3b054",
   "metadata": {},
   "source": [
    "## 1-3. 조합형 이터레이터\n",
    "(1) product(p, q,... [repeat = 1])&nbsp;&nbsp;&nbsp;&nbsp;&nbsp;&nbsp;&nbsp;&nbsp;&nbsp;&nbsp;&nbsp;&nbsp;&nbsp;&nbsp;&nbsp;&nbsp;| 원소 길이 repeat 만큼의 데카르트 곱을 구해주는 함수  \n",
    "(2) permutations(p, [,r])&nbsp;&nbsp;&nbsp;&nbsp;&nbsp;&nbsp;&nbsp;&nbsp;&nbsp;&nbsp;&nbsp;&nbsp;&nbsp;&nbsp;&nbsp;&nbsp;&nbsp;&nbsp;&nbsp;&nbsp;&nbsp;&nbsp;&nbsp;&nbsp;&nbsp;&nbsp;&nbsp;&nbsp;| 원소 길이 r만큼의 순열을 구해주는 함수  \n",
    "(3) combinations(p, r)&nbsp;&nbsp;&nbsp;&nbsp;&nbsp;&nbsp;&nbsp;&nbsp;&nbsp;&nbsp;&nbsp;&nbsp;&nbsp;&nbsp;&nbsp;&nbsp;&nbsp;&nbsp;&nbsp;&nbsp;&nbsp;&nbsp;&nbsp;&nbsp;&nbsp;&nbsp;&nbsp;&nbsp;&nbsp;&nbsp;&nbsp;| 원소 길이 r만큼의 조합을 구해주는 함수 (중복 허용 안됨)  \n",
    "(4) combinations_with_replacement(p, r) | 원소 길이 r만큼의 조합을 구해주는 함수 (중복 허용 됨)"
   ]
  },
  {
   "cell_type": "code",
   "execution_count": 93,
   "id": "fa081493-4d6b-4256-85bb-96a2b485682c",
   "metadata": {},
   "outputs": [
    {
     "name": "stdout",
     "output_type": "stream",
     "text": [
      "\n",
      "(1) product function                       : [('A', 'A'), ('A', 'B'), ('A', 'C'), ('B', 'A'), ('B', 'B'), ('B', 'C'), ('C', 'A'), ('C', 'B'), ('C', 'C')]\n",
      "\n",
      "(2) permutations function                  : [('A', 'B'), ('A', 'C'), ('B', 'A'), ('B', 'C'), ('C', 'A'), ('C', 'B')]\n",
      "\n",
      "(3) combinations function                  : [('A', 'B'), ('A', 'C'), ('B', 'C')]\n",
      "\n",
      "(4) combinations_with_replacement function : [('A', 'A'), ('A', 'B'), ('A', 'C'), ('B', 'B'), ('B', 'C'), ('C', 'C')]\n"
     ]
    }
   ],
   "source": [
    "print(f'\\n(1) product function                       : {list(product(\"ABC\", repeat = 2))}')\n",
    "print(f'\\n(2) permutations function                  : {list(permutations(\"ABC\", r = 2))}')\n",
    "print(f'\\n(3) combinations function                  : {list(combinations(\"ABC\", r = 2))}')\n",
    "print(f'\\n(4) combinations_with_replacement function : {list(combinations_with_replacement(\"ABC\", r = 2))}')"
   ]
  },
  {
   "cell_type": "markdown",
   "id": "4991002d-8487-4d46-b353-f098d3ee947f",
   "metadata": {},
   "source": [
    "# **3. 예제**\n",
    "### **e. g.1)**  \n",
    "- 어느 고객센터에 다음과 같이 3명이 근무 중이라 할 때 3명이 순서대로 고객 상담 전화를 받을 수 있도록 하는  \n",
    "  상담 프로그램을 개발해야 한다. 상잠 전화가 올 때마다 순서대로 상담원을 배정하려면 어떻게 하면 될까?\n",
    "### **A1.**"
   ]
  },
  {
   "cell_type": "code",
   "execution_count": 5,
   "id": "c48e12cc-71ca-4c57-9e8c-243711323be9",
   "metadata": {},
   "outputs": [
    {
     "name": "stdout",
     "output_type": "stream",
     "text": [
      "김은경\n",
      "이명자\n",
      "이성진\n",
      "김은경\n",
      "이명자\n",
      "이성진\n",
      "김은경\n",
      "이명자\n",
      "이성진\n",
      "김은경\n",
      "이명자\n",
      "이성진\n",
      "김은경\n",
      "이명자\n",
      "이성진\n"
     ]
    }
   ],
   "source": [
    "members = ['김은경', '이명자', '이성진']\n",
    "for (idx, member) in enumerate(cycle(members)):\n",
    "    if idx == 15: break\n",
    "    print(member)"
   ]
  },
  {
   "cell_type": "markdown",
   "id": "61be8800-bed3-4f66-b5ac-67aca74bd94f",
   "metadata": {},
   "source": [
    "### **e. g.2)**  \n",
    "- 어떤 회사의 1월부터 12월까지의 매출 데이터이다. 월별 누적 합계를 구하는 프로그램이 필요하다.  \n",
    "  파이썬으로 월별 누적 합계를 구하는 프로그램은 어떻게 만들면 될까?\n",
    "### **A2.**"
   ]
  },
  {
   "cell_type": "code",
   "execution_count": 15,
   "id": "565b0c3e-9423-4b2a-9572-9da65a66cf56",
   "metadata": {},
   "outputs": [
    {
     "name": "stdout",
     "output_type": "stream",
     "text": [
      "[1161, 2975, 4245, 6501, 7914, 9756, 11977, 14184, 16634, 19457, 21997, 24131]\n",
      "[1161, 2975, 4245, 6501, 7914, 9756, 11977, 14184, 16634, 19457, 21997, 24131]\n"
     ]
    }
   ],
   "source": [
    "monthly_income = [1161, 1814, 1270, 2256, 1413, 1842, 2221, 2207, 2450, 2823, 2540, 2134]\n",
    "print(list(accumulate(monthly_income)))\n",
    "\n",
    "## itertools를 사용하지 않으면 어떻게 짤까?\n",
    "for idx in range(1, len(monthly_income[1:]) + 1): monthly_income[idx] += monthly_income[idx - 1]\n",
    "    \n",
    "print(monthly_income)"
   ]
  },
  {
   "cell_type": "code",
   "execution_count": 43,
   "id": "9e1f0b6b-cf0b-401e-8394-381b514b6589",
   "metadata": {},
   "outputs": [],
   "source": [
    "monthly_income = [1161, 1814, 1270, 2256, 1413, 1842, 2221, 2207, 2450, 2823, 2540, 2134]\n",
    "monthly_income2 = [1161, 1814, 1270, 2256, 1413, 1842, 2221, 2207, 2450, 2823, 2540, 2134]"
   ]
  },
  {
   "cell_type": "code",
   "execution_count": 44,
   "id": "785b973c-37dc-40a1-a183-533443460d6d",
   "metadata": {},
   "outputs": [
    {
     "name": "stdout",
     "output_type": "stream",
     "text": [
      "itertools max    :  [1161, 1814, 1814, 2256, 2256, 2256, 2256, 2256, 2450, 2823, 2823, 2823]\n",
      "itertools min    :  [1161, 1161, 1161, 1161, 1161, 1161, 1161, 1161, 1161, 1161, 1161, 1161] \n",
      "\n",
      "CPU times: user 1 ms, sys: 0 ns, total: 1 ms\n",
      "Wall time: 462 µs\n"
     ]
    }
   ],
   "source": [
    "%%time\n",
    "## accumulate 함수에 두번째 인자로 max, min함수를 넣어주면 그때까지의 최대값, 최소값을 표시할 수 있다.\n",
    "monthly_income = [1161, 1814, 1270, 2256, 1413, 1842, 2221, 2207, 2450, 2823, 2540, 2134]\n",
    "print('itertools max    : ', list(accumulate(monthly_income, max)))\n",
    "print('itertools min    : ', list(accumulate(monthly_income, min)), '\\n')"
   ]
  },
  {
   "cell_type": "code",
   "execution_count": 45,
   "id": "fbfa98f4-7a38-4f66-b176-8439a074b22e",
   "metadata": {},
   "outputs": [
    {
     "name": "stdout",
     "output_type": "stream",
     "text": [
      "no itertools max :  [1161, 1814, 1814, 2256, 2256, 2256, 2256, 2256, 2450, 2823, 2823, 2823]\n",
      "no itertools min :  [1161, 1161, 1161, 1161, 1161, 1161, 1161, 1161, 1161, 1161, 1161, 1161]\n",
      "CPU times: user 1 ms, sys: 0 ns, total: 1 ms\n",
      "Wall time: 746 µs\n"
     ]
    }
   ],
   "source": [
    "%%time\n",
    "## itertools를 사용하지 않으면\n",
    "for idx in range(1, len(monthly_income[1:])+1): monthly_income[idx] = max(monthly_income[idx - 1], monthly_income[idx])\n",
    "for idx in range(1, len(monthly_income2[1:])+1): monthly_income2[idx] = min(monthly_income2[idx - 1], monthly_income2[idx])\n",
    "print('no itertools max : ', monthly_income)\n",
    "print('no itertools min : ', monthly_income2)"
   ]
  },
  {
   "cell_type": "code",
   "execution_count": null,
   "id": "add74d4d-de64-490b-9832-58601d42eb92",
   "metadata": {},
   "outputs": [],
   "source": []
  }
 ],
 "metadata": {
  "kernelspec": {
   "display_name": "bio",
   "language": "python",
   "name": "bio"
  },
  "language_info": {
   "codemirror_mode": {
    "name": "ipython",
    "version": 3
   },
   "file_extension": ".py",
   "mimetype": "text/x-python",
   "name": "python",
   "nbconvert_exporter": "python",
   "pygments_lexer": "ipython3",
   "version": "3.9.12"
  }
 },
 "nbformat": 4,
 "nbformat_minor": 5
}
