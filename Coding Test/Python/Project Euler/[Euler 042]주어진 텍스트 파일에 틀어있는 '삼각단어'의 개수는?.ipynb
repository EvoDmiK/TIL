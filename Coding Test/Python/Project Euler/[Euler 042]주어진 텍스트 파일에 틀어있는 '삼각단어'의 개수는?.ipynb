{
 "cells": [
  {
   "cell_type": "code",
   "execution_count": 1,
   "id": "60d75f12-52e4-4c0a-ad48-990f87f52898",
   "metadata": {},
   "outputs": [],
   "source": [
    "words = open('texts/words.txt', 'r').readlines()[0]\n",
    "words = words.replace('\"', '').split(',')"
   ]
  },
  {
   "cell_type": "code",
   "execution_count": 2,
   "id": "d30726a3-f1ee-4b9e-a846-1d8a78381b07",
   "metadata": {},
   "outputs": [],
   "source": [
    "char2digit = lambda words: [ord(word) - 64 for word in words]"
   ]
  },
  {
   "cell_type": "code",
   "execution_count": 5,
   "id": "7d1f39e2-913b-49c3-b0d6-47b55c1fef4e",
   "metadata": {},
   "outputs": [
    {
     "name": "stdout",
     "output_type": "stream",
     "text": [
      "162\n"
     ]
    }
   ],
   "source": [
    "cnt = 0\n",
    "triangle_num = [idx * (idx + 1) // 2 for idx in range(26)]\n",
    "\n",
    "for word in words:\n",
    "    \n",
    "    digit   = char2digit(word)\n",
    "    sum_ord = sum(digit)\n",
    "    \n",
    "    if sum_ord in triangle_num: cnt += 1\n",
    "    \n",
    "print(cnt)"
   ]
  },
  {
   "cell_type": "code",
   "execution_count": null,
   "id": "c8744bf8-0611-4995-84da-5f8e414626b3",
   "metadata": {},
   "outputs": [],
   "source": []
  }
 ],
 "metadata": {
  "kernelspec": {
   "display_name": "dove",
   "language": "python",
   "name": "dove"
  },
  "language_info": {
   "codemirror_mode": {
    "name": "ipython",
    "version": 3
   },
   "file_extension": ".py",
   "mimetype": "text/x-python",
   "name": "python",
   "nbconvert_exporter": "python",
   "pygments_lexer": "ipython3",
   "version": "3.8.13"
  }
 },
 "nbformat": 4,
 "nbformat_minor": 5
}
