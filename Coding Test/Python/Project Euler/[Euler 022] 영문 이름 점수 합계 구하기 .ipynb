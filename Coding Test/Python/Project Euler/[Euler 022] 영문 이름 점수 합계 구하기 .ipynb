{
 "cells": [
  {
   "cell_type": "markdown",
   "id": "502e33cf-ea94-43a5-bf20-d169f85e2fe1",
   "metadata": {},
   "source": [
    "# **0. 참고자료**\n",
    "## 0-1. 문제 출처\n",
    "- Project Euler | 영문 이름 점수 합계 구하기 (problem 22.) [[문제 링크]](https://euler.synap.co.kr/problem=22)\n",
    "\n",
    "# **1. 문제 설명**\n",
    "- 여기 5천개 이상의 영문 이름들이 들어있는 46KB짜리 텍스트 파일 names.txt 이 있습니다 (우클릭해서 다운로드 받으세요).  \n",
    "  이제 각 이름에 대해서 아래와 같은 방법으로 점수를 매기고자 합니다.\n",
    "  \n",
    "    - 먼저 모든 이름을 알파벳 순으로 정렬합니다.  \n",
    "    - 각 이름에 대해서, 그 이름을 이루는 알파벳에 해당하는 수(A=1, B=2, ..., Z=26)를 모두 더합니다.  \n",
    "    - 여기에 이 이름의 순번을 곱합니다.\n",
    "    \n",
    "- names.txt에 들어있는 모든 이름의 점수를 계산해서 더하면 얼마입니까?\n",
    "\n",
    "# **2. 제한 사항**\n",
    "\n",
    "# **3. 입출력 예**\n",
    "- 예를 들어 \"COLIN\"의 경우, 알파벳에 해당하는 수는 3, 15, 12, 9, 14이므로 합이 53,  \n",
    "  그리고 정렬했을 때 938번째에 오므로 최종 점수는 938 × 53 = 49714가 됩니다.\n",
    "\n"
   ]
  },
  {
   "cell_type": "code",
   "execution_count": 1,
   "id": "61aafefd-d98d-49d9-864b-54122469b894",
   "metadata": {},
   "outputs": [],
   "source": [
    "names = open('texts/names.txt', 'r').readline()\n",
    "names = names.replace('\"', '').split(',')\n",
    "names.sort()"
   ]
  },
  {
   "cell_type": "code",
   "execution_count": 2,
   "id": "39c880b9-ca34-402f-ae84-6cd28e485d97",
   "metadata": {},
   "outputs": [
    {
     "name": "stdout",
     "output_type": "stream",
     "text": [
      "index of COLIN : 939 \n",
      "score of COLIN : 49714\n",
      "total score    : 871198282\n",
      "\n",
      "\n",
      "CPU times: user 26 ms, sys: 1 ms, total: 27 ms\n",
      "Wall time: 26.5 ms\n"
     ]
    }
   ],
   "source": [
    "%%time\n",
    "name_scoring = lambda name: sum([ord(alpha) - ord('A') + 1 for alpha in name.upper()])\n",
    "\n",
    "total_score = 0\n",
    "for idx, name in enumerate(names, 1): total_score += idx * name_scoring(name)\n",
    "\n",
    "colin_idx   = names.index('COLIN') + 1\n",
    "colin_score = name_scoring('COLIN')\n",
    "\n",
    "print(f'index of COLIN : {colin_idx + 1} \\nscore of COLIN : {colin_idx * colin_score}')\n",
    "print(f'total score    : {total_score}\\n\\n')"
   ]
  }
 ],
 "metadata": {
  "kernelspec": {
   "display_name": "dove",
   "language": "python",
   "name": "dove"
  },
  "language_info": {
   "codemirror_mode": {
    "name": "ipython",
    "version": 3
   },
   "file_extension": ".py",
   "mimetype": "text/x-python",
   "name": "python",
   "nbconvert_exporter": "python",
   "pygments_lexer": "ipython3",
   "version": "3.8.13"
  }
 },
 "nbformat": 4,
 "nbformat_minor": 5
}
