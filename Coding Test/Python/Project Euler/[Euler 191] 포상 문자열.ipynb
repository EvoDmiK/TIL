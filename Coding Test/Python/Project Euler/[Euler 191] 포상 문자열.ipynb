{
 "cells": [
  {
   "cell_type": "code",
   "execution_count": 1,
   "id": "f5734f29-163a-4c5f-bce3-155f82c62931",
   "metadata": {},
   "outputs": [],
   "source": [
    "from itertools import product\n",
    "from collections import Counter"
   ]
  },
  {
   "cell_type": "code",
   "execution_count": 2,
   "id": "14e614c1-f5aa-4fce-a4a1-a21e99ed75c6",
   "metadata": {},
   "outputs": [],
   "source": [
    "def get_prize(permutes):\n",
    "    \n",
    "    total_length   = len(permutes)\n",
    "    for permute in permutes:\n",
    "\n",
    "        already = False\n",
    "        if Counter(permute)['L'] >= 2: \n",
    "            total_length -= 1\n",
    "            already = True\n",
    "\n",
    "        for idx, _ in enumerate(permute):\n",
    "\n",
    "            absent = permute[idx: idx + 3]\n",
    "            if Counter(absent)['A'] == 3: \n",
    "\n",
    "                if not already:\n",
    "                    total_length -= 1\n",
    "                    break\n",
    "        \n",
    "    return total_length"
   ]
  },
  {
   "cell_type": "code",
   "execution_count": 3,
   "id": "32263a77-c0a4-4766-b10c-41963d0bbeff",
   "metadata": {},
   "outputs": [
    {
     "data": {
      "text/plain": [
       "(81, 43)"
      ]
     },
     "execution_count": 3,
     "metadata": {},
     "output_type": "execute_result"
    }
   ],
   "source": [
    "strings  = ['O', 'A', 'L']\n",
    "permutes = list(product(strings, repeat = 4))\n",
    "\n",
    "len(permutes), get_prize(permutes)"
   ]
  },
  {
   "cell_type": "code",
   "execution_count": 4,
   "id": "2065f8cc-810f-4bc7-a179-9c999243b44b",
   "metadata": {},
   "outputs": [
    {
     "data": {
      "text/plain": [
       "(59049, 3536)"
      ]
     },
     "execution_count": 4,
     "metadata": {},
     "output_type": "execute_result"
    }
   ],
   "source": [
    "permutes = list(product(strings, repeat = 10))\n",
    "len(permutes), get_prize(permutes)"
   ]
  },
  {
   "cell_type": "code",
   "execution_count": null,
   "id": "8a115e14-1cd7-49e6-a7a1-7d353071ce6b",
   "metadata": {},
   "outputs": [],
   "source": []
  }
 ],
 "metadata": {
  "kernelspec": {
   "display_name": "dove",
   "language": "python",
   "name": "dove"
  },
  "language_info": {
   "codemirror_mode": {
    "name": "ipython",
    "version": 3
   },
   "file_extension": ".py",
   "mimetype": "text/x-python",
   "name": "python",
   "nbconvert_exporter": "python",
   "pygments_lexer": "ipython3",
   "version": "3.8.13"
  }
 },
 "nbformat": 4,
 "nbformat_minor": 5
}
