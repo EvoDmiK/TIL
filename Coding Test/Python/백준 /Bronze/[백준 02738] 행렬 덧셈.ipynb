{
 "cells": [
  {
   "cell_type": "markdown",
   "id": "502e33cf-ea94-43a5-bf20-d169f85e2fe1",
   "metadata": {},
   "source": [
    "# **0. 참고자료**\n",
    "## 0-1. 문제 출처\n",
    "\n",
    "# **1. 문제 설명**\n",
    "\n",
    "# **2. 제한 사항**\n",
    "\n",
    "# **3. 입출력 예**"
   ]
  },
  {
   "cell_type": "code",
   "execution_count": 1,
   "id": "61aafefd-d98d-49d9-864b-54122469b894",
   "metadata": {},
   "outputs": [
    {
     "name": "stdin",
     "output_type": "stream",
     "text": [
      " 4 3\n",
      " 1 1 1\n",
      " 2 2 2\n",
      " 3 3 3\n",
      " 4 4 4\n",
      " 5 5 5\n",
      " 6 6 6\n",
      " 7 7 7\n",
      " 8 8 8\n"
     ]
    },
    {
     "name": "stdout",
     "output_type": "stream",
     "text": [
      "6 6 6\n",
      "8 8 8\n",
      "10 10 10\n",
      "12 12 12\n"
     ]
    }
   ],
   "source": [
    "N, M     = map(int, input().split())\n",
    "matrices = [list(map(int, input().split())) for _ in range(2 * N)]\n",
    "\n",
    "A, B     = matrices[:N], matrices[N:]\n",
    "\n",
    "for r, a_row, b_row in zip(range(N), A, B):\n",
    "    \n",
    "    answer = []\n",
    "    for c, a_col, b_col in zip(range(M), a_row, b_row):\n",
    "        \n",
    "        answer.append(str(a_col + b_col))\n",
    "    \n",
    "    print(' '.join(answer))"
   ]
  },
  {
   "cell_type": "code",
   "execution_count": null,
   "id": "bad6fded-f776-4867-af98-a8fe72febec6",
   "metadata": {},
   "outputs": [],
   "source": []
  }
 ],
 "metadata": {
  "kernelspec": {
   "display_name": "bio",
   "language": "python",
   "name": "bio"
  },
  "language_info": {
   "codemirror_mode": {
    "name": "ipython",
    "version": 3
   },
   "file_extension": ".py",
   "mimetype": "text/x-python",
   "name": "python",
   "nbconvert_exporter": "python",
   "pygments_lexer": "ipython3",
   "version": "3.10.8"
  }
 },
 "nbformat": 4,
 "nbformat_minor": 5
}
