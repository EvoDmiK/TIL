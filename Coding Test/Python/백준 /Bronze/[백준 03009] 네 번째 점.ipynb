{
 "cells": [
  {
   "cell_type": "markdown",
   "id": "502e33cf-ea94-43a5-bf20-d169f85e2fe1",
   "metadata": {},
   "source": [
    "# **0. 참고자료**\n",
    "## 0-1. 문제 출처\n",
    "\n",
    "# **1. 문제 설명**\n",
    "\n",
    "# **2. 제한 사항**\n",
    "\n",
    "# **3. 입출력 예**"
   ]
  },
  {
   "cell_type": "code",
   "execution_count": 1,
   "id": "61aafefd-d98d-49d9-864b-54122469b894",
   "metadata": {},
   "outputs": [],
   "source": [
    "from collections import Counter"
   ]
  },
  {
   "cell_type": "code",
   "execution_count": 2,
   "id": "62ada597-c6fb-4483-b7cb-b49b0f8e97b1",
   "metadata": {},
   "outputs": [
    {
     "name": "stdin",
     "output_type": "stream",
     "text": [
      " 30 20\n",
      " 10 10\n",
      " 10 20\n"
     ]
    },
    {
     "name": "stdout",
     "output_type": "stream",
     "text": [
      "30 10\n"
     ]
    }
   ],
   "source": [
    "coords      = [list(map(int, input().split())) for _ in range(3)]\n",
    "count_coord = lambda idx : Counter([coord[idx] for coord in coords])\n",
    "pick_coord  = lambda cnt : [k for k, v in cnt.items() if v == 1]\n",
    "\n",
    "counter_x = count_coord(0)\n",
    "counter_y = count_coord(1)\n",
    "\n",
    "x         = pick_coord(counter_x)[0]\n",
    "y         = pick_coord(counter_y)[0]\n",
    "\n",
    "print(f'{x} {y}')"
   ]
  },
  {
   "cell_type": "code",
   "execution_count": null,
   "id": "a54e8581-9cdf-4a58-ac02-31d515f736e3",
   "metadata": {},
   "outputs": [],
   "source": []
  }
 ],
 "metadata": {
  "kernelspec": {
   "display_name": "bio",
   "language": "python",
   "name": "bio"
  },
  "language_info": {
   "codemirror_mode": {
    "name": "ipython",
    "version": 3
   },
   "file_extension": ".py",
   "mimetype": "text/x-python",
   "name": "python",
   "nbconvert_exporter": "python",
   "pygments_lexer": "ipython3",
   "version": "3.10.8"
  }
 },
 "nbformat": 4,
 "nbformat_minor": 5
}
