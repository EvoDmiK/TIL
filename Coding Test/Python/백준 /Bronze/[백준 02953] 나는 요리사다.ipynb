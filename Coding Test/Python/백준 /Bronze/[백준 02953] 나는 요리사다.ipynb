{
 "cells": [
  {
   "cell_type": "code",
   "execution_count": 1,
   "id": "5b5e5bce-9900-4f2f-8bd0-f6b0e88c46f9",
   "metadata": {},
   "outputs": [
    {
     "name": "stdin",
     "output_type": "stream",
     "text": [
      " 5 4 4 5\n",
      " 5 4 4 4\n",
      " 5 5 4 4\n",
      " 5 5 5 4\n",
      " 4 4 4 5\n"
     ]
    },
    {
     "name": "stdout",
     "output_type": "stream",
     "text": [
      "4 19\n"
     ]
    }
   ],
   "source": [
    "chiefs    = [(sum(map(int, input().split())), idx) for idx in range(1, 6)]\n",
    "max_score = max(chiefs)\n",
    "print(max_score[1], max_score[0])"
   ]
  },
  {
   "cell_type": "code",
   "execution_count": null,
   "id": "0a97f1b0-0cb7-4191-a94d-838d1d4a5e61",
   "metadata": {},
   "outputs": [],
   "source": []
  }
 ],
 "metadata": {
  "kernelspec": {
   "display_name": "MISC",
   "language": "python",
   "name": "misc"
  },
  "language_info": {
   "codemirror_mode": {
    "name": "ipython",
    "version": 3
   },
   "file_extension": ".py",
   "mimetype": "text/x-python",
   "name": "python",
   "nbconvert_exporter": "python",
   "pygments_lexer": "ipython3",
   "version": "3.11.4"
  }
 },
 "nbformat": 4,
 "nbformat_minor": 5
}
