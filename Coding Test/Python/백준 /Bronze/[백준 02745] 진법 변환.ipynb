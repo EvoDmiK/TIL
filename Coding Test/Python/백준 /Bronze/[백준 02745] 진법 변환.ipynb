{
 "cells": [
  {
   "cell_type": "markdown",
   "id": "502e33cf-ea94-43a5-bf20-d169f85e2fe1",
   "metadata": {},
   "source": [
    "# **0. 참고자료**\n",
    "## 0-1. 문제 출처\n",
    "\n",
    "# **1. 문제 설명**\n",
    "\n",
    "# **2. 제한 사항**\n",
    "\n",
    "# **3. 입출력 예**"
   ]
  },
  {
   "cell_type": "code",
   "execution_count": 1,
   "id": "61aafefd-d98d-49d9-864b-54122469b894",
   "metadata": {},
   "outputs": [
    {
     "name": "stdin",
     "output_type": "stream",
     "text": [
      " ZZZZZ 36\n"
     ]
    }
   ],
   "source": [
    "N, B = input().split()"
   ]
  },
  {
   "cell_type": "code",
   "execution_count": 2,
   "id": "31ca1a0e-bf54-4eb6-bbfb-4ff3c1a919cd",
   "metadata": {},
   "outputs": [],
   "source": [
    "alpha2digit = lambda alpha: ord(alpha.upper()) - 55"
   ]
  },
  {
   "cell_type": "code",
   "execution_count": 3,
   "id": "857d2d86-c04f-4b92-a7b8-25963bcbe7b3",
   "metadata": {},
   "outputs": [],
   "source": [
    "def convert(N, B):\n",
    "    solution = 0\n",
    "    B        = int(B)\n",
    "    \n",
    "    for idx, n in enumerate(N):\n",
    "    \n",
    "        power = len(N) - idx\n",
    "        if n.isdigit(): solution += int(n) * B ** (power - 1)\n",
    "        else: solution += alpha2digit(n) * B ** (power - 1)\n",
    "\n",
    "    return solution"
   ]
  },
  {
   "cell_type": "code",
   "execution_count": 4,
   "id": "52f4b7f0-54ec-42e4-aebf-916dba536e9d",
   "metadata": {},
   "outputs": [
    {
     "data": {
      "text/plain": [
       "60466175"
      ]
     },
     "execution_count": 4,
     "metadata": {},
     "output_type": "execute_result"
    }
   ],
   "source": [
    "convert(N, B)"
   ]
  },
  {
   "cell_type": "code",
   "execution_count": null,
   "id": "a0863304-45ae-457e-afd8-b9e16e42a29f",
   "metadata": {},
   "outputs": [],
   "source": []
  }
 ],
 "metadata": {
  "kernelspec": {
   "display_name": "DS",
   "language": "python",
   "name": "ds"
  },
  "language_info": {
   "codemirror_mode": {
    "name": "ipython",
    "version": 3
   },
   "file_extension": ".py",
   "mimetype": "text/x-python",
   "name": "python",
   "nbconvert_exporter": "python",
   "pygments_lexer": "ipython3",
   "version": "3.10.12"
  }
 },
 "nbformat": 4,
 "nbformat_minor": 5
}
