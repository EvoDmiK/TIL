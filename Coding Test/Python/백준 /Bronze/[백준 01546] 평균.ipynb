{
 "cells": [
  {
   "cell_type": "markdown",
   "id": "ae2890f5-8231-4d0e-8f89-7a7bd4c21324",
   "metadata": {},
   "source": [
    "# **0. 참고자료**\n",
    "## 0-1. 문제 출처\n",
    "\n",
    "# **1. 문제 설명**\n",
    "\n",
    "# **2. 제한 사항**\n",
    "\n",
    "# **3. 입출력 예**"
   ]
  },
  {
   "cell_type": "code",
   "execution_count": 1,
   "id": "6913a4a1-b3ae-4942-a64e-7bc6e734766b",
   "metadata": {},
   "outputs": [
    {
     "name": "stdin",
     "output_type": "stream",
     "text": [
      " 3\n",
      " 40 80 60\n"
     ]
    },
    {
     "name": "stdout",
     "output_type": "stream",
     "text": [
      "75.0\n"
     ]
    }
   ],
   "source": [
    "from statistics import mean\n",
    "\n",
    "_      = input()\n",
    "\n",
    "scores = list(map(int, input().split()))\n",
    "max_   = max(scores)\n",
    "print(mean([(score * 100) / max_ for score in scores]))"
   ]
  }
 ],
 "metadata": {
  "kernelspec": {
   "display_name": "dove",
   "language": "python",
   "name": "dove"
  },
  "language_info": {
   "codemirror_mode": {
    "name": "ipython",
    "version": 3
   },
   "file_extension": ".py",
   "mimetype": "text/x-python",
   "name": "python",
   "nbconvert_exporter": "python",
   "pygments_lexer": "ipython3",
   "version": "3.8.13"
  }
 },
 "nbformat": 4,
 "nbformat_minor": 5
}
