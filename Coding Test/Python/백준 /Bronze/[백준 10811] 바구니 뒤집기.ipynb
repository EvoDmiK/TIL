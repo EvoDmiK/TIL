{
 "cells": [
  {
   "cell_type": "markdown",
   "id": "42378cc1-608f-4fd2-a91c-65c3cbb5240d",
   "metadata": {},
   "source": [
    "# **0. 참고자료**\n",
    "## 0-1. 문제 출처\n",
    "\n",
    "# **1. 문제 설명**\n",
    "\n",
    "# **2. 제한 사항**\n",
    "\n",
    "# **3. 입출력 예**"
   ]
  },
  {
   "cell_type": "code",
   "execution_count": 1,
   "id": "84013842-321a-4ffb-81a4-ac4b0d146177",
   "metadata": {},
   "outputs": [
    {
     "name": "stdin",
     "output_type": "stream",
     "text": [
      " 5 4\n",
      " 1 2\n",
      " 3 4\n",
      " 1 4\n",
      " 2 2\n"
     ]
    },
    {
     "name": "stdout",
     "output_type": "stream",
     "text": [
      "3 4 1 2 5\n"
     ]
    }
   ],
   "source": [
    "N, M    = map(int, input().split())\n",
    "baskets = [str(idx) for idx in range(1, N + 1)]\n",
    "\n",
    "for _ in range(M):\n",
    "    \n",
    "    start, end = map(int, input().split())\n",
    "    baskets[start - 1: end] = baskets[start - 1: end][::-1]\n",
    "    \n",
    "print(' '.join(baskets))"
   ]
  },
  {
   "cell_type": "code",
   "execution_count": null,
   "id": "2f58701a-d186-45bc-b0fd-9a45dd767c51",
   "metadata": {},
   "outputs": [],
   "source": []
  }
 ],
 "metadata": {
  "kernelspec": {
   "display_name": "dove",
   "language": "python",
   "name": "dove"
  },
  "language_info": {
   "codemirror_mode": {
    "name": "ipython",
    "version": 3
   },
   "file_extension": ".py",
   "mimetype": "text/x-python",
   "name": "python",
   "nbconvert_exporter": "python",
   "pygments_lexer": "ipython3",
   "version": "3.8.13"
  }
 },
 "nbformat": 4,
 "nbformat_minor": 5
}
