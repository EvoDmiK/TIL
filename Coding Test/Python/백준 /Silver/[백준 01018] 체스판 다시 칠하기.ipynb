{
 "cells": [
  {
   "cell_type": "markdown",
   "id": "502e33cf-ea94-43a5-bf20-d169f85e2fe1",
   "metadata": {},
   "source": [
    "# **0. 참고자료**\n",
    "## 0-1. 문제 출처\n",
    "\n",
    "# **1. 문제 설명**\n",
    "\n",
    "# **2. 제한 사항**\n",
    "\n",
    "# **3. 입출력 예**"
   ]
  },
  {
   "cell_type": "code",
   "execution_count": 1,
   "id": "61aafefd-d98d-49d9-864b-54122469b894",
   "metadata": {},
   "outputs": [
    {
     "name": "stdin",
     "output_type": "stream",
     "text": [
      " 10 13\n",
      " BBBBBBBBWBWBW\n",
      " BBBBBBBBBWBWB\n",
      " BBBBBBBBWBWBW\n",
      " BBBBBBBBBWBWB\n",
      " BBBBBBBBWBWBW\n",
      " BBBBBBBBBWBWB\n",
      " BBBBBBBBWBWBW\n",
      " BBBBBBBBBWBWB\n",
      " WWWWWWWWWWBWB\n",
      " WWWWWWWWWWBWB\n"
     ]
    }
   ],
   "source": [
    "N, M   = map(int, input().split())\n",
    "board  = [input() for _ in range(N)]\n",
    "repair = []"
   ]
  },
  {
   "cell_type": "code",
   "execution_count": 2,
   "id": "539f6e33-03d6-4edb-8c37-99d539ab6b2d",
   "metadata": {},
   "outputs": [
    {
     "name": "stdout",
     "output_type": "stream",
     "text": [
      "12\n"
     ]
    }
   ],
   "source": [
    "## 체스판을 8 x 8 사이즈로 자르기 위한 경우의 수\n",
    "for row in range(N - 7):\n",
    "    for col in range(M -7):\n",
    "        \n",
    "        ## 맨 처음이 W, B인 것들의 갯수\n",
    "        W, B = 0, 0\n",
    "        \n",
    "        ## 체스판을 8 x 8 사이즈로 자르는 부분\n",
    "        for odx in range(row, row + 8):\n",
    "            for idx in range(col, col + 8):\n",
    "                \n",
    "                ## 8 x 8 사이즈의 체스판이 'W'로 시작할 경우\n",
    "                if (odx + idx) % 2 == 0:\n",
    "                    \n",
    "                    ## (odx + idx)를 2로 나눈 나머지가 0인 경우\n",
    "                    if board[odx][idx] != 'W': W += 1\n",
    "                    if board[odx][idx] != 'B': B += 1\n",
    "                \n",
    "                else:\n",
    "                    if board[odx][idx] != 'B': W += 1\n",
    "                    if board[odx][idx] != 'W': B += 1\n",
    "                    \n",
    "        repair.append(W); repair.append(B)\n",
    "        \n",
    "print(min(repair))"
   ]
  },
  {
   "cell_type": "code",
   "execution_count": null,
   "id": "f1d15fc5-2042-493e-b871-edec72f0db02",
   "metadata": {},
   "outputs": [],
   "source": []
  }
 ],
 "metadata": {
  "kernelspec": {
   "display_name": "bio",
   "language": "python",
   "name": "bio"
  },
  "language_info": {
   "codemirror_mode": {
    "name": "ipython",
    "version": 3
   },
   "file_extension": ".py",
   "mimetype": "text/x-python",
   "name": "python",
   "nbconvert_exporter": "python",
   "pygments_lexer": "ipython3",
   "version": "3.10.8"
  }
 },
 "nbformat": 4,
 "nbformat_minor": 5
}
