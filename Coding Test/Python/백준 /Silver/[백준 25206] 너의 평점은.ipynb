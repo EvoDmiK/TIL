{
 "cells": [
  {
   "cell_type": "markdown",
   "id": "f3c34e28-9182-4f12-b269-abbd2ae4a101",
   "metadata": {},
   "source": [
    "# **0. 참고자료**\n",
    "## 0-1. 문제 출처\n",
    "\n",
    "# **1. 문제 설명**\n",
    "\n",
    "# **2. 제한 사항**\n",
    "\n",
    "# **3. 입출력 예**"
   ]
  },
  {
   "cell_type": "code",
   "execution_count": 1,
   "id": "ef2c0017-bd7b-42cb-91c3-910440af1fea",
   "metadata": {},
   "outputs": [
    {
     "name": "stdin",
     "output_type": "stream",
     "text": [
      " 1 3.0 A+\n",
      " 2 3.0 A+\n",
      " 3 3.0 A0\n",
      " 4 3.0 A+\n",
      " 5 3.0 A+\n",
      " 6 3.0 B0\n",
      " 7 3.0 A0\n",
      " 8 3.0 B0\n",
      " 9 3.0 B0\n",
      " 10 3.0 C+\n",
      " 11 3.0 B0\n",
      " 12 4.0 A+\n",
      " 13 3.0 B+\n",
      " 14 3.0 C0\n",
      " 15 3.0 D+\n",
      " 16 3.0 C+\n",
      " 17 3.0 B0\n",
      " 18 3.0 B+\n",
      " 19 3.0 D0\n",
      " 20 4.0 P\n"
     ]
    },
    {
     "name": "stdout",
     "output_type": "stream",
     "text": [
      "3.2844827586206895\n"
     ]
    }
   ],
   "source": [
    "grade2score = {'A+' : 4.5, 'A0' : 4.0, 'B+' : 3.5, 'B0' : 3.0,\n",
    "               'C+' : 2.5, 'C0' : 2.0, 'D+' : 1.5, 'D0' : 1.0, 'F' : 0.0}\n",
    "\n",
    "total_score  = 0.0\n",
    "total_credit = 0.0 \n",
    "\n",
    "for _ in range(20):\n",
    "    \n",
    "    _, credit, grade = input().split()\n",
    "    \n",
    "    if grade in grade2score.keys():\n",
    "        total_score  += float(credit) * grade2score[grade]\n",
    "        total_credit += float(credit) \n",
    "\n",
    "\n",
    "print(total_score / total_credit)"
   ]
  },
  {
   "cell_type": "code",
   "execution_count": null,
   "id": "bd1f0075-a28f-4a5e-a5f2-e5ac66c8c248",
   "metadata": {},
   "outputs": [],
   "source": []
  }
 ],
 "metadata": {
  "kernelspec": {
   "display_name": "Python 3 (ipykernel)",
   "language": "python",
   "name": "python3"
  },
  "language_info": {
   "codemirror_mode": {
    "name": "ipython",
    "version": 3
   },
   "file_extension": ".py",
   "mimetype": "text/x-python",
   "name": "python",
   "nbconvert_exporter": "python",
   "pygments_lexer": "ipython3",
   "version": "3.9.10"
  }
 },
 "nbformat": 4,
 "nbformat_minor": 5
}
