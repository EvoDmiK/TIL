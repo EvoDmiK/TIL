{
 "cells": [
  {
   "cell_type": "markdown",
   "id": "502e33cf-ea94-43a5-bf20-d169f85e2fe1",
   "metadata": {},
   "source": [
    "# **0. 참고자료**\n",
    "## 0-1. 문제 출처\n",
    "\n",
    "# **1. 문제 설명**\n",
    "\n",
    "# **2. 제한 사항**\n",
    "\n",
    "# **3. 입출력 예**"
   ]
  },
  {
   "cell_type": "code",
   "execution_count": 1,
   "id": "61aafefd-d98d-49d9-864b-54122469b894",
   "metadata": {},
   "outputs": [
    {
     "name": "stdin",
     "output_type": "stream",
     "text": [
      " 12\n",
      " a b\n",
      " b c\n",
      " c d\n",
      " d ChongChong\n",
      " d e\n",
      " e f\n",
      " f g\n",
      " g h\n",
      " h i\n",
      " i j\n",
      " j k\n",
      " k l\n"
     ]
    },
    {
     "name": "stdout",
     "output_type": "stream",
     "text": [
      "10\n"
     ]
    }
   ],
   "source": [
    "dancer = {'ChongChong'}\n",
    "\n",
    "for _ in range(int(input())):\n",
    "    \n",
    "    user1, user2 = input().split()\n",
    "    \n",
    "    if user1 in dancer: dancer.add(user2)\n",
    "    \n",
    "    if user2 in dancer: dancer.add(user1)\n",
    "    \n",
    "print(len(dancer))"
   ]
  },
  {
   "cell_type": "code",
   "execution_count": null,
   "id": "db458473-a594-464d-97fd-21f42ae23fc5",
   "metadata": {},
   "outputs": [],
   "source": []
  }
 ],
 "metadata": {
  "kernelspec": {
   "display_name": "bio",
   "language": "python",
   "name": "bio"
  },
  "language_info": {
   "codemirror_mode": {
    "name": "ipython",
    "version": 3
   },
   "file_extension": ".py",
   "mimetype": "text/x-python",
   "name": "python",
   "nbconvert_exporter": "python",
   "pygments_lexer": "ipython3",
   "version": "3.10.8"
  }
 },
 "nbformat": 4,
 "nbformat_minor": 5
}
