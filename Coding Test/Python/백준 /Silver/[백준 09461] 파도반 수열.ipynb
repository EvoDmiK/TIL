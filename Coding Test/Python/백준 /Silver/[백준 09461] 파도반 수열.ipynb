{
 "cells": [
  {
   "cell_type": "markdown",
   "id": "6ce110d1-3d9a-4a16-a915-bcc0f55c8398",
   "metadata": {},
   "source": [
    "# **0. 참고자료**\n",
    "## 0-1. 문제 출처\n",
    "\n",
    "# **1. 문제 설명**\n",
    "\n",
    "# **2. 제한 사항**\n",
    "\n",
    "# **3. 입출력 예**\n",
    "\n",
    "#### 점화식\n",
    "$\n",
    "    P_{n} = P_{n - 2} - P_{n - 3} \\\\\n",
    "    where, P_1 = 1, P_2 = 1, P_3 = 1\n",
    "$"
   ]
  },
  {
   "cell_type": "code",
   "execution_count": 1,
   "id": "2bde8c31-ad1a-40d3-ba4a-65a56dbf54bc",
   "metadata": {},
   "outputs": [],
   "source": [
    "## 점화식 \n",
    "## P_n = P_(n - 2) + P_(n - 1)\n",
    "def Padovan_dove(n):\n",
    "    \n",
    "    seq = [1, 1, 1]\n",
    "    for idx in range(3, n):\n",
    "            seq.append(seq[idx - 2] + seq[idx - 3])\n",
    "        \n",
    "    return seq[-1]"
   ]
  },
  {
   "cell_type": "code",
   "execution_count": 2,
   "id": "e1a9bc97-5e5b-4910-bb95-6d55409122db",
   "metadata": {},
   "outputs": [
    {
     "name": "stdin",
     "output_type": "stream",
     "text": [
      " 2\n",
      " 6\n",
      " 12\n"
     ]
    },
    {
     "name": "stdout",
     "output_type": "stream",
     "text": [
      "3\n",
      "16\n"
     ]
    }
   ],
   "source": [
    "nums = [int(input()) for _ in range(int(input()))]\n",
    "for num in nums: print(Padovan_dove(num))"
   ]
  },
  {
   "cell_type": "code",
   "execution_count": null,
   "id": "78356254-7a40-468e-91ab-96147f7de2d5",
   "metadata": {},
   "outputs": [],
   "source": []
  }
 ],
 "metadata": {
  "kernelspec": {
   "display_name": "dove",
   "language": "python",
   "name": "dove"
  },
  "language_info": {
   "codemirror_mode": {
    "name": "ipython",
    "version": 3
   },
   "file_extension": ".py",
   "mimetype": "text/x-python",
   "name": "python",
   "nbconvert_exporter": "python",
   "pygments_lexer": "ipython3",
   "version": "3.8.13"
  }
 },
 "nbformat": 4,
 "nbformat_minor": 5
}
