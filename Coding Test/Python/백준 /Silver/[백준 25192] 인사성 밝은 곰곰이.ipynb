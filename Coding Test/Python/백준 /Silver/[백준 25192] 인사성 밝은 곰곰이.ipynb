{
 "cells": [
  {
   "cell_type": "markdown",
   "id": "3bdbf14c-33e2-40f4-b79f-adfcbfda0598",
   "metadata": {},
   "source": [
    "# **0. 참고자료**\n",
    "## 0-1. 문제 출처\n",
    "\n",
    "# **1. 문제 설명**\n",
    "\n",
    "# **2. 제한 사항**\n",
    "\n",
    "# **3. 입출력 예**"
   ]
  },
  {
   "cell_type": "code",
   "execution_count": 1,
   "id": "fab335d9-4c26-4df9-b25d-503878993912",
   "metadata": {},
   "outputs": [
    {
     "name": "stdin",
     "output_type": "stream",
     "text": [
      " 7\n",
      " ENTER\n",
      " pjshwa\n",
      " chansol\n",
      " chogahui05\n",
      " ENTER\n",
      " pjshwa\n",
      " chansol\n"
     ]
    }
   ],
   "source": [
    "N        = int(input())\n",
    "logs     = [input() for _ in range(N)]\n",
    "\n",
    "## 로그 안에 'ENTER'가 들어가 있는 만큼 빈 리스트를 만들어 줌.\n",
    "n_gomgom = [[] for _ in range(logs.count('ENTER'))]"
   ]
  },
  {
   "cell_type": "code",
   "execution_count": 2,
   "id": "1438d0ed-65d8-4fe4-b5ac-09f144586b7b",
   "metadata": {},
   "outputs": [],
   "source": [
    "## 처음에는 첫 번째 리스트에 들어가야 하므로, idx 값을 0으로 초기화 해줌.\n",
    "idx = 0\n",
    "\n",
    "## 맨 첫 번째는 ENTER로 확정되어있으므로,\n",
    "## 두 번째 원소부터 돌아가도록 함.\n",
    "for log in logs[1:]:\n",
    "    ## ENTER인 경우 리스트의 다음 원소에 저장하도록 해줌.\n",
    "    if log == 'ENTER': idx += 1\n",
    "    else: n_gomgom[idx].append(log)"
   ]
  },
  {
   "cell_type": "code",
   "execution_count": 3,
   "id": "890f65ba-3286-4cac-90b2-81dfa84513bc",
   "metadata": {},
   "outputs": [
    {
     "name": "stdout",
     "output_type": "stream",
     "text": [
      "정답은 바로 두구두구두구두구 : 5 입니다!!!\n"
     ]
    }
   ],
   "source": [
    "answer = sum([len(set(log)) for log in n_gomgom])\n",
    "print(f'정답은 바로 두구두구두구두구 : {answer} 입니다!!!')"
   ]
  },
  {
   "cell_type": "code",
   "execution_count": null,
   "id": "cf9462a3-60f5-4e37-b622-25e1f786f658",
   "metadata": {},
   "outputs": [],
   "source": []
  }
 ],
 "metadata": {
  "kernelspec": {
   "display_name": "dove",
   "language": "python",
   "name": "dove"
  },
  "language_info": {
   "codemirror_mode": {
    "name": "ipython",
    "version": 3
   },
   "file_extension": ".py",
   "mimetype": "text/x-python",
   "name": "python",
   "nbconvert_exporter": "python",
   "pygments_lexer": "ipython3",
   "version": "3.8.13"
  }
 },
 "nbformat": 4,
 "nbformat_minor": 5
}
