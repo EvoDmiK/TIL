{
 "cells": [
  {
   "cell_type": "markdown",
   "id": "842ef7dc-9f96-4f43-8866-72f0f97046b1",
   "metadata": {},
   "source": [
    "# **0. 참고자료**\n",
    "## 0-1. 문제 출처\n",
    "\n",
    "# **1. 문제 설명**\n",
    "\n",
    "# **2. 제한 사항**\n",
    "\n",
    "# **3. 입출력 예**"
   ]
  },
  {
   "cell_type": "code",
   "execution_count": 1,
   "id": "2c24a755-1d29-437d-a279-0ad460d882a4",
   "metadata": {},
   "outputs": [
    {
     "name": "stdin",
     "output_type": "stream",
     "text": [
      " 10\n"
     ]
    },
    {
     "name": "stdout",
     "output_type": "stream",
     "text": [
      "4/1\n"
     ]
    }
   ],
   "source": [
    "n         = int(input())\n",
    "line, end = 0, 0\n",
    "\n",
    "## m번째 라인에는 m개의 분수가 있음.\n",
    "## 몇 번째 라인에 있는지, 몇 번째 인덱스에 있는지 확인\n",
    "while n > end:\n",
    "    \n",
    "    line += 1\n",
    "    end  += line\n",
    "    \n",
    "diff = end - n\n",
    "## 짝수라인 -> 분자가 1씩 줄어듦, 분모가 1씩 증가\n",
    "if line % 2== 0:\n",
    "    top    = line - diff\n",
    "    bottom = diff + 1\n",
    "\n",
    "## 홀수라인 -> 분자가 1씩 증가, 분모가 1씩 감소 \n",
    "else:\n",
    "    top    = diff + 1\n",
    "    bottom = line - diff\n",
    "    \n",
    "print(f'{top}/{bottom}')"
   ]
  },
  {
   "cell_type": "code",
   "execution_count": null,
   "id": "4ef8a60c-cee1-4d82-93f2-836c2a4b9e06",
   "metadata": {},
   "outputs": [],
   "source": []
  }
 ],
 "metadata": {
  "kernelspec": {
   "display_name": "dove",
   "language": "python",
   "name": "dove"
  },
  "language_info": {
   "codemirror_mode": {
    "name": "ipython",
    "version": 3
   },
   "file_extension": ".py",
   "mimetype": "text/x-python",
   "name": "python",
   "nbconvert_exporter": "python",
   "pygments_lexer": "ipython3",
   "version": "3.8.13"
  }
 },
 "nbformat": 4,
 "nbformat_minor": 5
}
