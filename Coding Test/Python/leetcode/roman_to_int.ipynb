{
 "cells": [
  {
   "cell_type": "markdown",
   "id": "dd48bfd1-18c0-4d2a-a554-56ad14015836",
   "metadata": {},
   "source": [
    "# **0. 참고자료**\n",
    "## 0-1. 문제 출처\n",
    "- leetcode - roman to int | [[문제 출처]](https://leetcode.com/problems/roman-to-integer/)\n",
    "\n",
    "# **1. 문제 설명**\n",
    "Roman numerals are represented by seven different symbols: I, V, X, L, C, D and M.  \n",
    "\n",
    "\n",
    "|Symbol|Value|\n",
    "|:----|:----|\n",
    "|I|1|\n",
    "|V|5|\n",
    "|X|10|\n",
    "|L|50|\n",
    "|C|100|\n",
    "|D|500|\n",
    "|M|1000|\n",
    "\n",
    "For example, 2 is written as II in Roman numeral, just two ones added together.  \n",
    "\n",
    "12 is written as XII, which is simply X + II. The number 27 is written as XXVII, which is XX + V + II.  \n",
    "Roman numerals are usually written largest to smallest from left to right. However, the numeral for four is   not IIII.  \n",
    "\n",
    "Instead, the number four is written as IV. Because the one is before the five we subtract it making four.  \n",
    "The same principle applies to the number nine, which is written as IX. There are six instances where subtraction is used:\n",
    "\n",
    "- I can be placed before V (5) and X (10) to make 4 and 9. \n",
    "- X can be placed before L (50) and C (100) to make 40 and 90. \n",
    "- C can be placed before D (500) and M (1000) to make 400 and 900.\n",
    "\n",
    "Given a roman numeral, convert it to an integer.  \n",
    "\n",
    "**e.g. 1)**  \n",
    "Input: s = \"III\"  \n",
    "Output: 3  \n",
    "Explanation: III = 3.  \n",
    "\n",
    "**e.g. 2)**  \n",
    "Input: s = \"LVIII\"  \n",
    "Output: 58  \n",
    "Explanation: L = 50, V= 5, III = 3. \n",
    "\n",
    "**Constraints**\n",
    "- 1 <= s.length <= 15  \n",
    "- s contains only the characters ('I', 'V', 'X', 'L', 'C', 'D', 'M').  \n",
    "- It is guaranteed that s is a valid roman numeral in the range [1, 3999].  "
   ]
  },
  {
   "cell_type": "code",
   "execution_count": 13,
   "id": "c422bc79-b682-4de0-89c0-db048bfc46b7",
   "metadata": {},
   "outputs": [],
   "source": [
    "from collections import Counter\n",
    "\n",
    "class Solution:\n",
    "    def romanToInt(self, string: str) -> int:\n",
    "        roman_to_int = {\n",
    "                        'I' : 1,\n",
    "                        'V' : 5,\n",
    "                        'X' : 10,\n",
    "                        'L' : 50,\n",
    "                        'C' : 100, \n",
    "                        'D' : 500, \n",
    "                        'M' : 1000\n",
    "                        }\n",
    "        \n",
    "        string     = self.preprocessing(string)\n",
    "        \n",
    "        ## 문자열에 있는 알파벳 갯수 세주는 부분\n",
    "        char_count = Counter(string)\n",
    "        \n",
    "        total_int = 0\n",
    "        ## 알파벳에 맞는 정수를 알파벳 갯수와 곱하여 더해줌.\n",
    "        for k, v in char_count.items(): total_int += roman_to_int[k] * v\n",
    "            \n",
    "        return total_int\n",
    "        \n",
    "        \n",
    "    ## 전처리 함수 (V, X, L, C, D, M) 앞에 (I, X, C) 붙은 경우 전처리\n",
    "    def preprocessing(self, string: str):\n",
    "        string = string.replace('IV', 'I'*4)\n",
    "        string = string.replace('IX', 'I'*9)\n",
    "        \n",
    "        string = string.replace('XL', 'X'*4)\n",
    "        string = string.replace('XC', 'X'*9)\n",
    "                                \n",
    "        string = string.replace('CD', 'C'*4)\n",
    "        string = string.replace('CM', 'C'*9)\n",
    "        \n",
    "        return string.upper()\n",
    "        "
   ]
  },
  {
   "cell_type": "code",
   "execution_count": 12,
   "id": "33b7eaba-65d0-4c1f-ab9d-34f682cd97eb",
   "metadata": {},
   "outputs": [
    {
     "name": "stdout",
     "output_type": "stream",
     "text": [
      "A1. III     is 3\n",
      "A2. LVIII   is 58\n",
      "A3. MCMXCIV is 1994\n"
     ]
    }
   ],
   "source": [
    "sol = Solution()\n",
    "print(f'A1. III     is {sol.romanToInt(\"III\")}')\n",
    "print(f'A2. LVIII   is {sol.romanToInt(\"LVIII\")}')\n",
    "print(f'A3. MCMXCIV is {sol.romanToInt(\"MCMXCIV\")}')"
   ]
  },
  {
   "cell_type": "code",
   "execution_count": null,
   "id": "f6cfef54-c393-486c-96ce-9e258c302738",
   "metadata": {},
   "outputs": [],
   "source": []
  }
 ],
 "metadata": {
  "kernelspec": {
   "display_name": "bio",
   "language": "python",
   "name": "bio"
  },
  "language_info": {
   "codemirror_mode": {
    "name": "ipython",
    "version": 3
   },
   "file_extension": ".py",
   "mimetype": "text/x-python",
   "name": "python",
   "nbconvert_exporter": "python",
   "pygments_lexer": "ipython3",
   "version": "3.9.12"
  }
 },
 "nbformat": 4,
 "nbformat_minor": 5
}
