{
 "cells": [
  {
   "cell_type": "markdown",
   "id": "502e33cf-ea94-43a5-bf20-d169f85e2fe1",
   "metadata": {},
   "source": [
    "# **0. 참고자료**\n",
    "## 0-1. 문제 출처\n",
    "프로그래머스 - 코딩테스트 연습 숫자의 표현 | [[문제 출처]](https://school.programmers.co.kr/learn/courses/30/lessons/12924)\n",
    "\n",
    "# **1. 문제 설명**\n",
    "Finn은 요즘 수학공부에 빠져 있습니다. 수학 공부를 하던 Finn은  \n",
    "자연수 n을 연속한 자연수들로 표현 하는 방법이 여러개라는 사실을 알게 되었습니다.  예를들어 15는 다음과 같이 4가지로 표현 할 수 있습니다.  \n",
    "\n",
    "- 1 + 2 + 3 + 4 + 5 = 15\n",
    "- 4 + 5 + 6 = 15\n",
    "- 7 + 8 = 15\n",
    "- 15 = 15\n",
    "\n",
    "자연수 n이 매개변수로 주어질 때, 연속된 자연수들로 n을 표현하는 방법의 수를 return하는 solution를 완성해주세요.  \n",
    "\n",
    "# **2. 제한 사항**\n",
    "- n은 10,000 이하의 자연수 입니다.  \n",
    "\n",
    "# **3. 입출력 예**\n",
    "|n|result|\n",
    "|:--|:--|\n",
    "|15|4|"
   ]
  },
  {
   "cell_type": "code",
   "execution_count": 1,
   "id": "61aafefd-d98d-49d9-864b-54122469b894",
   "metadata": {},
   "outputs": [],
   "source": [
    "def solution(n):\n",
    "    answer = 0\n",
    "    \n",
    "    ## 바깥의 반복문은 1 ~ n까지 반복시킴.\n",
    "    for odx in range(1, n + 1):    \n",
    "        m = 0\n",
    "        \n",
    "        ## 안쪽의 반복문은 odx ~ n까지 반복시키며, odx부터 연속된 자연수를 더해줌.\n",
    "        for idx in range(odx, n + 1):\n",
    "            ## m은 odx ~ 연속된 자연수가 더해지는 값\n",
    "            m += idx\n",
    "            \n",
    "            ## 연속된 자연수의 합이 입력받은 수와 같은 경우에 결과 값에 1을 더해줌.\n",
    "            if m == n:\n",
    "                answer += 1\n",
    "                break\n",
    "            \n",
    "            ## 연속된 자연수의 합이 입력받은 수보다 큰 경우 반복문을 멈춤.\n",
    "            if m > n: break        \n",
    "    return answer"
   ]
  },
  {
   "cell_type": "code",
   "execution_count": 2,
   "id": "64b3cc1d-543c-4dcd-b495-486ee9e877ce",
   "metadata": {},
   "outputs": [
    {
     "name": "stdout",
     "output_type": "stream",
     "text": [
      "soltion : 4\n"
     ]
    }
   ],
   "source": [
    "sol = solution(15)\n",
    "print(f'soltion : {sol}')"
   ]
  },
  {
   "cell_type": "code",
   "execution_count": null,
   "id": "35deab54-b739-4198-9d74-086f0e0bc2be",
   "metadata": {},
   "outputs": [],
   "source": []
  }
 ],
 "metadata": {
  "kernelspec": {
   "display_name": "dove",
   "language": "python",
   "name": "dove"
  },
  "language_info": {
   "codemirror_mode": {
    "name": "ipython",
    "version": 3
   },
   "file_extension": ".py",
   "mimetype": "text/x-python",
   "name": "python",
   "nbconvert_exporter": "python",
   "pygments_lexer": "ipython3",
   "version": "3.8.13"
  }
 },
 "nbformat": 4,
 "nbformat_minor": 5
}
