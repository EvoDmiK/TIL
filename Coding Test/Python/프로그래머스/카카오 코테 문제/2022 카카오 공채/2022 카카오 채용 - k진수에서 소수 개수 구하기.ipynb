{
 "cells": [
  {
   "cell_type": "markdown",
   "id": "7efa501d-8cc5-4def-a5d0-bfefb441c9fe",
   "metadata": {},
   "source": [
    "# **0. 참고자료**\n",
    "## 0-1. 문제 출처\n",
    "- 프로그래머스 - 2022 KAKAO BLIND RECRUITMENT k진수에서 소수 개수 구하기\n",
    " | [[문제 출처]](https://school.programmers.co.kr/learn/courses/30/lessons/92335#)\n",
    "\n",
    "# **1. 문제 설명**\n",
    "양의 정수 n이 주어집니다. 이 숫자를 k진수로 바꿨을 때, 변환된 수 안에 아래 조건에 맞는  \n",
    "소수(Prime number)가 몇 개인지 알아보려 합니다.  \n",
    "\n",
    "- 0P0처럼 소수 양쪽에 0이 있는 경우\n",
    "- P0처럼 소수 오른쪽에만 0이 있고 왼쪽에는 아무것도 없는 경우\n",
    "- 0P처럼 소수 왼쪽에만 0이 있고 오른쪽에는 아무것도 없는 경우\n",
    "- P처럼 소수 양쪽에 아무것도 없는 경우\n",
    "- 단, P는 각 자릿수에 0을 포함하지 않는 소수입니다.\n",
    "    - 예를 들어, 101은 P가 될 수 없습니다.\n",
    "    \n",
    "예를 들어, 437674을 3진수로 바꾸면 211020101011입니다.  \n",
    "여기서 찾을 수 있는 조건에 맞는 소수는 왼쪽부터 순서대로 211, 2, 11이 있으며, 총 3개입니다.  \n",
    "(211, 2, 11을 k진법으로 보았을 때가 아닌, 10진법으로 보았을 때 소수여야 한다는 점에 주의합니다.)  \n",
    "211은 P0 형태에서 찾을 수 있으며, 2는 0P0에서, 11은 0P에서 찾을 수 있습니다.  \n",
    "  \n",
    "정수 n과 k가 매개변수로 주어집니다.  \n",
    "n을 k진수로 바꿨을 때, 변환된 수 안에서 찾을 수 있는 위 조건에 맞는 소수의 개수를  \n",
    "return 하도록 solution 함수를 완성해 주세요.\n",
    "\n",
    "## **제한 사항**\n",
    "- 1 ≤ n ≤ 1,000,000\n",
    "- 3 ≤ k ≤ 10\n",
    "\n",
    "## **입출력 예**\n",
    "|n|k|result|\n",
    "|:----|:----|:----|\n",
    "|437674|3|3|\n",
    "|110011|10|2|\n"
   ]
  },
  {
   "cell_type": "code",
   "execution_count": 1,
   "id": "f8a24905-33dd-43b3-b726-e47c4c9295d3",
   "metadata": {},
   "outputs": [],
   "source": [
    "import math as mt\n",
    "\n",
    "def get_log(n, k):    \n",
    "    log = ''\n",
    "    while n > 0:\n",
    "        n, mod = divmod(n, k)\n",
    "        log += str(mod)\n",
    "        \n",
    "    return log[::-1]\n",
    "\n",
    "def is_prime(n):\n",
    "    if n == 1: return False\n",
    "    for idx in range(2, int(mt.sqrt(n)) + 1):\n",
    "        if n % idx == 0: return False\n",
    "    \n",
    "    return True\n",
    "\n",
    "def solution(n, k):\n",
    "    cnt = 0\n",
    "    \n",
    "    for l in log = get_log(n, k).split('0'):\n",
    "        if l == '': continue\n",
    "        if is_prime(int(l)): cnt += 1\n",
    "        \n",
    "    return cnt"
   ]
  },
  {
   "cell_type": "code",
   "execution_count": 4,
   "id": "7af6b858-2306-41ba-b148-0740b2c35b47",
   "metadata": {},
   "outputs": [
    {
     "name": "stdout",
     "output_type": "stream",
     "text": [
      "solution 1 : 3\n",
      "solution 2 : 2\n"
     ]
    }
   ],
   "source": [
    "sol1 = solution(437674, 3)\n",
    "sol2 = solution(110011, 10)\n",
    "\n",
    "print(f'solution 1 : {sol1}')\n",
    "print(f'solution 2 : {sol2}')"
   ]
  },
  {
   "cell_type": "code",
   "execution_count": null,
   "id": "c36053f5-1f22-4bfb-b851-693e633bcfc7",
   "metadata": {},
   "outputs": [],
   "source": []
  }
 ],
 "metadata": {
  "kernelspec": {
   "display_name": "bio",
   "language": "python",
   "name": "bio"
  },
  "language_info": {
   "codemirror_mode": {
    "name": "ipython",
    "version": 3
   },
   "file_extension": ".py",
   "mimetype": "text/x-python",
   "name": "python",
   "nbconvert_exporter": "python",
   "pygments_lexer": "ipython3",
   "version": "3.9.12"
  }
 },
 "nbformat": 4,
 "nbformat_minor": 5
}
