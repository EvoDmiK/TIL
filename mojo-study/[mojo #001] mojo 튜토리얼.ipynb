{
 "cells": [
  {
   "cell_type": "code",
   "execution_count": 1,
   "id": "087ef26f-fb59-400a-ba1d-537270ed98eb",
   "metadata": {},
   "outputs": [],
   "source": [
    "def your_function(a, b):\n",
    "    ## let은 변하지 않는 변수를 선언할 때 사용.\n",
    "    let c = a\n",
    "    ## 아래 코드는 에러 발생\n",
    "    ##  c = b\n",
    "    \n",
    "    if c != b:\n",
    "        let d = b\n",
    "        print(d)"
   ]
  },
  {
   "cell_type": "code",
   "execution_count": 2,
   "id": "0e3ac732-a842-4566-a426-8b47c7b2d409",
   "metadata": {},
   "outputs": [
    {
     "name": "stdout",
     "output_type": "stream",
     "text": [
      "3\n"
     ]
    }
   ],
   "source": [
    "your_function(2, 3)"
   ]
  },
  {
   "cell_type": "code",
   "execution_count": 3,
   "id": "71908b7f-c420-4d4e-8551-8995b0af0d8d",
   "metadata": {},
   "outputs": [],
   "source": [
    "def foo() -> Float32: return 3.14\n",
    "\n",
    "def your_function2():\n",
    "\n",
    "    let x:     Int = 42\n",
    "    let y: Float64 = 17.0\n",
    "\n",
    "    ## 변수를 선언할 때 값을 나중에 초기화 해 줄수도 있다.\n",
    "    let z: Float32\n",
    "\n",
    "    ## 파이썬처럼 컴프리헨션도 가능한 것 같다.\n",
    "    z = 1.0 if x!= 0 else foo()\n",
    "\n",
    "    print(z)\n"
   ]
  },
  {
   "cell_type": "code",
   "execution_count": 4,
   "id": "1cc14b9e-e5d7-44b2-a395-51d34baa6610",
   "metadata": {},
   "outputs": [
    {
     "name": "stdout",
     "output_type": "stream",
     "text": [
      "1.0\n"
     ]
    }
   ],
   "source": [
    "your_function2()"
   ]
  },
  {
   "cell_type": "code",
   "execution_count": null,
   "id": "4a8c724e-f929-4777-a8f1-1ffc35e53a3b",
   "metadata": {},
   "outputs": [
    {
     "name": "stderr",
     "output_type": "stream",
     "text": [
      "error: \u001b[0;1;31m\u001b[1mExpression [5]:4:5: \u001b[0m\u001b[1muse of unknown declaration 'x', 'fn' declarations require explicit variable declarations\n",
      "\u001b[0m    x = 3\n",
      "\u001b[0;1;32m    ^\n",
      "\u001b[0m\u001b[0m\n",
      "error: \u001b[0;1;31m\u001b[1mExpression [5]:5:5: \u001b[0m\u001b[1muse of unknown declaration 'y', 'fn' declarations require explicit variable declarations\n",
      "\u001b[0m    y = 2\n",
      "\u001b[0;1;32m    ^\n",
      "\u001b[0m\u001b[0m\n",
      "expression failed to parse (no further compiler diagnostics)"
     ]
    }
   ],
   "source": [
    "## def로 정의된 함수는 변수들에 let, var를 선언해주지 않아도 되지만,\n",
    "## fn으로 정의된 함수는 변수들에 let, var를 지정해 주어야함.\n",
    "fn your_function3():\n",
    "    x = 3\n",
    "    y = 2"
   ]
  },
  {
   "cell_type": "code",
   "execution_count": 7,
   "id": "c24b03d7-8f32-4ab9-8f91-fd3bb8cba39e",
   "metadata": {},
   "outputs": [
    {
     "name": "stdout",
     "output_type": "stream",
     "text": [
      "7\n"
     ]
    }
   ],
   "source": [
    "fn your_function3():\n",
    "\n",
    "    var x = 3\n",
    "    let y = 4\n",
    "\n",
    "    x = x + y\n",
    "    print(x)\n",
    "\n",
    "your_function3()"
   ]
  },
  {
   "cell_type": "code",
   "execution_count": null,
   "id": "809c63c2-0fd9-47ec-a124-dd37abdcfbcc",
   "metadata": {},
   "outputs": [],
   "source": []
  }
 ],
 "metadata": {
  "kernelspec": {
   "display_name": "Mojo",
   "language": "mojo",
   "name": "mojo-jupyter-kernel"
  },
  "language_info": {
   "codemirror_mode": {
    "name": "mojo"
   },
   "file_extension": ".mojo",
   "mimetype": "text/x-mojo",
   "name": "mojo"
  }
 },
 "nbformat": 4,
 "nbformat_minor": 5
}
