{
 "cells": [
  {
   "cell_type": "code",
   "execution_count": 1,
   "id": "fc4c1f18-f0c3-4855-91ee-94a22f1ed54a",
   "metadata": {},
   "outputs": [],
   "source": [
    "import json\n",
    "import os\n",
    "\n",
    "from easydict import EasyDict as edict\n",
    "import redis"
   ]
  },
  {
   "cell_type": "code",
   "execution_count": 2,
   "id": "831d558c-f7c4-4c06-b34c-5203da89a2cd",
   "metadata": {},
   "outputs": [],
   "source": [
    "ROOT_PATH   = '/'.join(os.getcwd().split(os.path.sep)[:-3])\n",
    "CONFIG_PATH = f'{ROOT_PATH}/utils/configs/config.json'\n",
    "PORTS_PATH  = f'{ROOT_PATH}/utils/configs/ports.json'\n",
    "\n",
    "CONFIG      = edict(json.loads(open(CONFIG_PATH, 'r').read()))\n",
    "PORTS       = edict(json.loads(open(PORTS_PATH, 'r').read()))"
   ]
  },
  {
   "cell_type": "code",
   "execution_count": 3,
   "id": "c5dbceed-a8d6-4909-81ba-d21ff0343eb5",
   "metadata": {},
   "outputs": [],
   "source": [
    "host        = CONFIG.global_host\n",
    "port        = PORTS.redis_port\n",
    "conn        = redis.StrictRedis(host = host, port = port, db = 0)"
   ]
  },
  {
   "cell_type": "code",
   "execution_count": 4,
   "id": "fa9c1102-d744-47b4-8612-c7e1808d000c",
   "metadata": {},
   "outputs": [
    {
     "name": "stdout",
     "output_type": "stream",
     "text": [
      "[b'kimdove']\n",
      "[b'kimdove']\n"
     ]
    }
   ],
   "source": [
    "print(conn.keys())\n",
    "conn.set('kimdove', 'pigeon')\n",
    "print(conn.keys())"
   ]
  },
  {
   "cell_type": "code",
   "execution_count": null,
   "id": "cb29342b-8e6e-4871-bd73-00dd7082dd1b",
   "metadata": {},
   "outputs": [],
   "source": []
  }
 ],
 "metadata": {
  "kernelspec": {
   "display_name": "dove",
   "language": "python",
   "name": "dove"
  },
  "language_info": {
   "codemirror_mode": {
    "name": "ipython",
    "version": 3
   },
   "file_extension": ".py",
   "mimetype": "text/x-python",
   "name": "python",
   "nbconvert_exporter": "python",
   "pygments_lexer": "ipython3",
   "version": "3.8.13"
  }
 },
 "nbformat": 4,
 "nbformat_minor": 5
}
