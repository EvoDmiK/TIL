{
 "cells": [
  {
   "cell_type": "code",
   "execution_count": 1,
   "id": "4165d586-96c7-4d78-982e-c804fd2fd191",
   "metadata": {},
   "outputs": [
    {
     "name": "stdout",
     "output_type": "stream",
     "text": [
      "[INFO] config.json 파일을 로딩합니다.\n",
      "[INFO] ports.json 파일을 로딩합니다.\n"
     ]
    }
   ],
   "source": [
    "import json\n",
    "import sys\n",
    "import os\n",
    "\n",
    "from easydict import EasyDict as edict\n",
    "import pymysql as sql\n",
    "\n",
    "## 하위 폴더에 있는 패키지 로딩을 위한 밑작업\n",
    "SEP       = os.path.sep\n",
    "MISC_PATH = SEP.join(os.getcwd().split(SEP)[:-2])\n",
    "ROOT_PATH = SEP.join(os.getcwd().split(SEP)[:-4])\n",
    "sys.path.append(MISC_PATH)\n",
    "\n",
    "from misc.config import *"
   ]
  },
  {
   "cell_type": "code",
   "execution_count": 2,
   "id": "8f7b5857-e5a1-4738-9560-5cc164f7c4d1",
   "metadata": {},
   "outputs": [],
   "source": [
    "host   = CONFIGS.global_host\n",
    "port   = PORTS.sql_port\n",
    "user   = CONFIGS.sql_user\n",
    "passwd = CONFIGS.sql_passwd\n",
    "\n",
    "## 노트북 재시작할때마다 DB삭제용 플래그\n",
    "not_first = True"
   ]
  },
  {
   "cell_type": "code",
   "execution_count": 3,
   "id": "a9331c21-b400-44a5-baf2-d66c2b5c2a79",
   "metadata": {},
   "outputs": [],
   "source": [
    "## DB 서버에 연결\n",
    "conn   = sql.connect(host     = host, user = user, port = port,\n",
    "                     password = passwd)\n",
    "\n",
    "cursor = conn.cursor()"
   ]
  },
  {
   "cell_type": "code",
   "execution_count": 4,
   "id": "d53f4bf3-43cc-4b03-a7ef-a5ee73440c79",
   "metadata": {},
   "outputs": [],
   "source": [
    "def print_results(text: str, results: tuple):\n",
    "    \n",
    "    print(f'{text}')\n",
    "    for result in results: print(result)\n",
    "    print('\\n')"
   ]
  },
  {
   "cell_type": "code",
   "execution_count": 5,
   "id": "8272ff11-dfad-4700-bf40-36f4b48c8360",
   "metadata": {},
   "outputs": [
    {
     "name": "stdout",
     "output_type": "stream",
     "text": [
      "[before]\n",
      "('DoveNest',)\n",
      "('information_schema',)\n",
      "('mysql',)\n",
      "('performance_schema',)\n",
      "('study',)\n",
      "('sys',)\n",
      "\n",
      "\n",
      "[middle]\n",
      "('DoveNest',)\n",
      "('dummy',)\n",
      "('information_schema',)\n",
      "('mysql',)\n",
      "('performance_schema',)\n",
      "('study',)\n",
      "('sys',)\n",
      "\n",
      "\n",
      "[after]\n",
      "('DoveNest',)\n",
      "('information_schema',)\n",
      "('mysql',)\n",
      "('performance_schema',)\n",
      "('study',)\n",
      "('sys',)\n",
      "\n",
      "\n"
     ]
    }
   ],
   "source": [
    "query = 'show databases'\n",
    "cursor.execute(query)\n",
    "print_results('[before]', cursor.fetchall())\n",
    "\n",
    "## 생성하고자 하는 DB가 없는 경우에만 생성\n",
    "cursor.execute('create database if not exists study')\n",
    "cursor.execute('create database if not exists dummy')\n",
    "\n",
    "cursor.execute(query)\n",
    "print_results('[middle]', cursor.fetchall())\n",
    "\n",
    "## DB 제거\n",
    "cursor.execute('drop database dummy')\n",
    "cursor.execute(query)\n",
    "print_results('[after]', cursor.fetchall())"
   ]
  },
  {
   "cell_type": "code",
   "execution_count": 6,
   "id": "a5aafacd-5b5c-4f65-a948-e276969468e1",
   "metadata": {},
   "outputs": [
    {
     "data": {
      "text/plain": [
       "0"
      ]
     },
     "execution_count": 6,
     "metadata": {},
     "output_type": "execute_result"
    }
   ],
   "source": [
    "## 사용하고자 하는 DB 선택\n",
    "cursor.execute('use study')\n",
    "\n",
    "cursor.execute('drop table if exists tCity')\n",
    "cursor.execute('drop table if exists tStaff')"
   ]
  },
  {
   "cell_type": "code",
   "execution_count": 7,
   "id": "7a298536-a831-443c-a757-a07096e8c8eb",
   "metadata": {},
   "outputs": [
    {
     "name": "stdout",
     "output_type": "stream",
     "text": [
      "[before]\n",
      "('department',)\n",
      "('dept_',)\n",
      "('employee',)\n",
      "('employee_',)\n",
      "('tCity_bu',)\n",
      "('tReport',)\n",
      "('tStaff_bu',)\n",
      "('tSudo',)\n",
      "\n",
      "\n"
     ]
    }
   ],
   "source": [
    "query = 'show tables'\n",
    "cursor.execute(query)\n",
    "print_results('[before]', cursor.fetchall())"
   ]
  },
  {
   "cell_type": "code",
   "execution_count": 8,
   "id": "323ee35a-2bf1-4aab-bf22-ba55c381a001",
   "metadata": {},
   "outputs": [
    {
     "name": "stdout",
     "output_type": "stream",
     "text": [
      "[middle]\n",
      "('department',)\n",
      "('dept_',)\n",
      "('dummy',)\n",
      "('employee',)\n",
      "('employee_',)\n",
      "('tCity',)\n",
      "('tCity_bu',)\n",
      "('tReport',)\n",
      "('tStaff_bu',)\n",
      "('tSudo',)\n",
      "\n",
      "\n",
      "[after]\n",
      "('department',)\n",
      "('dept_',)\n",
      "('employee',)\n",
      "('employee_',)\n",
      "('tCity',)\n",
      "('tCity_bu',)\n",
      "('tReport',)\n",
      "('tStaff_bu',)\n",
      "('tSudo',)\n",
      "\n",
      "\n"
     ]
    }
   ],
   "source": [
    "## 마찬가지로 생성하고자 하는 이름의 테이블이 없을때만 테이블 생성\n",
    "crud_query = '''create table if not exists tCity\n",
    "                (\n",
    "                 NAME VARCHAR(20) PRIMARY KEY,\n",
    "                 AREA INTEGER NOT NULL,\n",
    "                 POPU INTEGER NOT NULL,\n",
    "                 METRO VARCHAR(5) NOT NULL,\n",
    "                 REGION VARCHAR(10) NOT NULL)\n",
    "             '''\n",
    "\n",
    "dummy_query = '''\n",
    "                create table if not exists dummy (idx INTEGER)\n",
    "              '''\n",
    "\n",
    "cursor.execute(crud_query)\n",
    "cursor.execute(dummy_query)\n",
    "cursor.execute(query)\n",
    "print_results('[middle]', cursor.fetchall())\n",
    "\n",
    "## 테이블 제거\n",
    "cursor.execute('drop table dummy')\n",
    "cursor.execute(query)\n",
    "print_results('[after]', cursor.fetchall())"
   ]
  },
  {
   "cell_type": "code",
   "execution_count": 9,
   "id": "eb777487-58de-4063-9fb6-d4c3ec409c32",
   "metadata": {},
   "outputs": [],
   "source": [
    "## 데이터 추가하는 쿼리함수\n",
    "def insert(columns: list, values: list, table_name: str = 'tCity'):\n",
    "    \n",
    "    columns = ', '.join(columns)\n",
    "    v       = ', '.join(['%s' for _ in values])\n",
    "    query   = f'insert into {table_name} ({columns}) values ({v})'\n",
    "    \n",
    "    cursor.execute(query, values)"
   ]
  },
  {
   "cell_type": "markdown",
   "id": "1a2a45eb-f69f-4458-87f1-28db15d8f28e",
   "metadata": {},
   "source": [
    "## **1. 데이터 조회 (SELECT 문)**\n",
    "~~~ SQL\n",
    "    SELECT '필드명' FROM '테이블 이름' [WHERE 조건][ORDER BY 정렬기준];\n",
    "~~~\n",
    "- []안에 있는 옵션들은 생략가능하다.\n",
    "- 필드명에 '*'을 입력하면 모든 필드의 데이터를 가져올 수 있다.\n",
    "    - 모든 필드의 데이터를 가져올 수는 있지만, 출력 결과가 가변적이라  \n",
    "      위험한 경우도 있다.  \n",
    "   - 코드가 불명확해지고, 어플리케이션의 메모리가 낭비되어 지양하는 것이 좋다. \n",
    "          "
   ]
  },
  {
   "cell_type": "code",
   "execution_count": 10,
   "id": "15bfa37d-1eb2-4aa0-9dca-cf91cff2c23d",
   "metadata": {},
   "outputs": [],
   "source": [
    "## 데이터 조회하는 쿼리함수\n",
    "def select(text  :str = None, column:str         =  '*', table_name   : str = 'tCity', limit_k = None,\n",
    "           cond  :str = None, order_column : str = None, order = 'asc', distinct = False):\n",
    "    \n",
    "    distinct = 'distinct' if distinct else '' \n",
    "    query    = f'select {distinct} {column} from {table_name} '\n",
    "    \n",
    "    ## 조회하는데 조건이 있을 경우에 where문 추가\n",
    "    if cond != None: query += f'where {cond}'\n",
    "    \n",
    "    ## 조회하는데 정렬하고자 하는 컬럼이 있다면 order by문 추가\n",
    "    if order_column != None: query += f'order by {order_column} {order}'\n",
    "    \n",
    "    ## 조회하는 레코드 개수 설정하는 LIMIT 문 추가\n",
    "    if limit_k != None: query += f' limit {limit_k}'\n",
    "    \n",
    "    print(f'[query] {query};\\n')\n",
    "    cursor.execute(query)\n",
    "    if text != None: print_results(text, cursor.fetchall())"
   ]
  },
  {
   "cell_type": "code",
   "execution_count": 11,
   "id": "a999ca0e-c925-423c-b472-fe2f724d0ede",
   "metadata": {},
   "outputs": [
    {
     "name": "stdout",
     "output_type": "stream",
     "text": [
      "[query] select  * from tCity ;\n",
      "\n",
      "[before]\n",
      "\n",
      "\n",
      "[query] select  * from tCity ;\n",
      "\n",
      "[after]\n",
      "('부산', 765, 342, 'y', '경상')\n",
      "('서울', 605, 974, 'y', '경기')\n",
      "('순천', 910, 27, 'n', '전라')\n",
      "('오산', 42, 21, 'n', '경기')\n",
      "('전주', 205, 65, 'n', '전라')\n",
      "('청주', 940, 83, 'n', '충청')\n",
      "('춘천', 1116, 27, 'n', '강원')\n",
      "('홍천', 1819, 7, 'n', '강원')\n",
      "\n",
      "\n"
     ]
    }
   ],
   "source": [
    "select('[before]')\n",
    "\n",
    "column = ['NAME', 'AREA', 'POPU', 'METRO', 'REGION']\n",
    "values = [\n",
    "          ['부산',    765,    342,     'y',    '경상'],\n",
    "          ['서울',    605,    974,     'y',    '경기'],\n",
    "          ['순천',    910,     27,     'n',    '전라'],\n",
    "          ['오산',     42,     21,     'n',    '경기'],\n",
    "          ['전주',    205,     65,     'n',    '전라'],\n",
    "          ['청주',    940,     83,     'n',    '충청'],\n",
    "          ['춘천',   1116,     27,     'n',    '강원'],\n",
    "          ['홍천',   1819,      7,     'n',    '강원'],\n",
    "         ]\n",
    "\n",
    "for value in values: insert(column, value)\n",
    "\n",
    "select('[after]')"
   ]
  },
  {
   "cell_type": "code",
   "execution_count": 12,
   "id": "825e0a6a-a429-4f82-a13f-72934ab73102",
   "metadata": {},
   "outputs": [
    {
     "name": "stdout",
     "output_type": "stream",
     "text": [
      "[query] select  REGION, POPU from tCity order by POPU desc;\n",
      "\n",
      "[order test]\n",
      "('경기', 974)\n",
      "('경상', 342)\n",
      "('충청', 83)\n",
      "('전라', 65)\n",
      "('전라', 27)\n",
      "('강원', 27)\n",
      "('경기', 21)\n",
      "('강원', 7)\n",
      "\n",
      "\n",
      "[query] select  * from tCity where METRO = \"n\"order by POPU asc;\n",
      "\n",
      "[condition test]\n",
      "('홍천', 1819, 7, 'n', '강원')\n",
      "('오산', 42, 21, 'n', '경기')\n",
      "('순천', 910, 27, 'n', '전라')\n",
      "('춘천', 1116, 27, 'n', '강원')\n",
      "('전주', 205, 65, 'n', '전라')\n",
      "('청주', 940, 83, 'n', '충청')\n",
      "\n",
      "\n"
     ]
    }
   ],
   "source": [
    "select(    '[order test]',       'REGION, POPU', order_column = 'POPU', order = 'desc')\n",
    "select('[condition test]', cond = 'METRO = \"n\"', order_column = 'POPU')"
   ]
  },
  {
   "cell_type": "code",
   "execution_count": 13,
   "id": "3c902a0b-f6c2-47e0-9d97-257c5ba75292",
   "metadata": {},
   "outputs": [
    {
     "data": {
      "text/plain": [
       "0"
      ]
     },
     "execution_count": 13,
     "metadata": {},
     "output_type": "execute_result"
    }
   ],
   "source": [
    "## 다른 예제를 위한 새로운 테이블 생성\n",
    "query = '''\n",
    "            create table if not exists tStaff\n",
    "            (name   CHAR(15) PRIMARY KEY,\n",
    "             depart CHAR(10) NOT NULL,\n",
    "             gender CHAR(3)  NOT NULL,\n",
    "             joindate DATE NOT NULL,\n",
    "             grade CHAR(10) NOT NULL,\n",
    "             salary INT NOT NULL,\n",
    "             score DECIMAL(5, 2) NULL)\n",
    "        '''\n",
    "\n",
    "cursor.execute(query)"
   ]
  },
  {
   "cell_type": "code",
   "execution_count": 14,
   "id": "6689316b-0776-470c-b905-42f96785cc32",
   "metadata": {},
   "outputs": [
    {
     "name": "stdout",
     "output_type": "stream",
     "text": [
      "[query] select  * from tStaff ;\n",
      "\n",
      "[tStaff table]\n",
      "('강감찬', '영업부', '남', datetime.date(2018, 10, 9), '사원', 320, Decimal('56.00'))\n",
      "('김유신', '총무부', '남', datetime.date(2000, 2, 3), '이사', 420, Decimal('88.80'))\n",
      "('논개', '인사과', '여', datetime.date(2010, 9, 16), '대리', 340, Decimal('46.20'))\n",
      "('대조영', '총무부', '남', datetime.date(2020, 7, 7), '차장', 290, Decimal('49.90'))\n",
      "('선덕여왕', '인사과', '여', datetime.date(2017, 8, 3), '사원', 315, Decimal('45.10'))\n",
      "('성삼문', '영업부', '남', datetime.date(2014, 6, 8), '대리', 285, Decimal('87.75'))\n",
      "('신사임당', '영업부', '여', datetime.date(2013, 6, 19), '부장', 400, Decimal('92.00'))\n",
      "('안중근', '인사과', '남', datetime.date(2012, 5, 5), '대리', 256, Decimal('76.50'))\n",
      "('안창호', '영업부', '남', datetime.date(2015, 8, 15), '사원', 370, Decimal('74.20'))\n",
      "('유관순', '영업부', '여', datetime.date(2009, 3, 1), '과장', 380, None)\n",
      "('윤봉길', '영업부', '남', datetime.date(2015, 8, 15), '과장', 350, Decimal('71.25'))\n",
      "('을지문덕', '영업부', '남', datetime.date(2019, 6, 29), '사원', 330, None)\n",
      "('이사부', '총무부', '남', datetime.date(2000, 2, 3), '대리', 375, Decimal('50.00'))\n",
      "('이율곡', '총무부', '남', datetime.date(2016, 3, 8), '과장', 385, Decimal('65.40'))\n",
      "('장보고', '인사과', '남', datetime.date(2005, 4, 1), '부장', 440, Decimal('58.30'))\n",
      "('정몽주', '총무부', '남', datetime.date(2010, 9, 16), '대리', 370, Decimal('89.50'))\n",
      "('정약용', '총무부', '남', datetime.date(2020, 3, 14), '과장', 380, Decimal('69.80'))\n",
      "('허난설헌', '인사과', '여', datetime.date(2020, 1, 5), '사원', 285, Decimal('44.50'))\n",
      "('홍길동', '인사과', '남', datetime.date(2019, 8, 8), '차장', 380, Decimal('77.70'))\n",
      "('황진이', '인사과', '여', datetime.date(2012, 5, 5), '사원', 275, Decimal('52.50'))\n",
      "\n",
      "\n"
     ]
    }
   ],
   "source": [
    "column = ['name', 'depart', 'gender', 'joindate', 'grade', 'salary', 'score']\n",
    "values = [\n",
    "            ('김유신' , '총무부','남','2000-2-3','이사',420,88.8),\n",
    "            ('유관순' , '영업부','여','2009-3-1','과장',380, None),\n",
    "            ('안중근' , '인사과','남','2012-5-5','대리',256,76.5),\n",
    "            ('윤봉길' , '영업부','남','2015-8-15','과장',350,71.25),\n",
    "            ('강감찬' , '영업부','남','2018-10-9','사원',320,56.0),\n",
    "            ('정몽주' , '총무부','남','2010-9-16','대리',370,89.5),\n",
    "            ('허난설헌', '인사과','여','2020-1-5','사원',285,44.5),\n",
    "            ('신사임당', '영업부','여','2013-6-19','부장',400,92.0),\n",
    "            ('성삼문' , '영업부','남','2014-6-8','대리',285,87.75),\n",
    "            ('논개'   , '인사과','여','2010-9-16','대리',340,46.2),\n",
    "            ('황진이'  , '인사과','여','2012-5-5','사원',275,52.5),\n",
    "            ('이율곡'  , '총무부','남','2016-3-8','과장',385,65.4),\n",
    "            ('이사부'  , '총무부','남','2000-2-3','대리',375,50),\n",
    "            ('안창호'  , '영업부','남','2015-8-15','사원',370,74.2),\n",
    "            ('을지문덕' , '영업부','남','2019-6-29','사원',330, None),\n",
    "            ('정약용'  , '총무부','남','2020-3-14','과장',380,69.8),\n",
    "            ('홍길동'  , '인사과','남','2019-8-8','차장',380,77.7),\n",
    "            ('대조영'  , '총무부','남','2020-7-7','차장',290,49.9),\n",
    "            ('장보고'  , '인사과','남','2005-4-1','부장',440,58.3),\n",
    "            ('선덕여왕' , '인사과','여','2017-8-3','사원',315,45.1),\n",
    "         ]\n",
    "\n",
    "\n",
    "for value in values: insert(column, value, table_name = 'tStaff')\n",
    "\n",
    "select('[tStaff table]', table_name = 'tStaff')"
   ]
  },
  {
   "cell_type": "markdown",
   "id": "f1369e1a-485a-45f1-9c6a-9224b3f491ea",
   "metadata": {},
   "source": [
    "##### **연습 문제 #001.**\n",
    "\n",
    "> Q. tStaff 테이블에서 이름과 부서, 직급 필드만 출력하라\n"
   ]
  },
  {
   "cell_type": "code",
   "execution_count": 15,
   "id": "f574ffe5-2ba3-4dfb-b9f7-d4c6adca10dd",
   "metadata": {},
   "outputs": [
    {
     "name": "stdout",
     "output_type": "stream",
     "text": [
      "[query] select  name, depart, grade from tStaff ;\n",
      "\n",
      "[A.]\n",
      "('강감찬', '영업부', '사원')\n",
      "('김유신', '총무부', '이사')\n",
      "('논개', '인사과', '대리')\n",
      "('대조영', '총무부', '차장')\n",
      "('선덕여왕', '인사과', '사원')\n",
      "('성삼문', '영업부', '대리')\n",
      "('신사임당', '영업부', '부장')\n",
      "('안중근', '인사과', '대리')\n",
      "('안창호', '영업부', '사원')\n",
      "('유관순', '영업부', '과장')\n",
      "('윤봉길', '영업부', '과장')\n",
      "('을지문덕', '영업부', '사원')\n",
      "('이사부', '총무부', '대리')\n",
      "('이율곡', '총무부', '과장')\n",
      "('장보고', '인사과', '부장')\n",
      "('정몽주', '총무부', '대리')\n",
      "('정약용', '총무부', '과장')\n",
      "('허난설헌', '인사과', '사원')\n",
      "('홍길동', '인사과', '차장')\n",
      "('황진이', '인사과', '사원')\n",
      "\n",
      "\n"
     ]
    }
   ],
   "source": [
    "select('[A.]', 'name, depart, grade', table_name = 'tStaff')"
   ]
  },
  {
   "cell_type": "markdown",
   "id": "91e260b5-2b5a-4142-be17-af9d2c651ad0",
   "metadata": {},
   "source": [
    "- SELECT 문이 출력하는 결과를 결과 셋(result set) 또는  \n",
    "  로우 셋(row set) 이라고 하는 테이블이 생성된다.\n",
    "  - 결과 셋의 필드명은 테이블에서 정의한 필드명과 동일하다.  \n",
    "  \n",
    " ### **별명 (AS)**\n",
    " \n",
    "- SELECT 문의 필드명 뒤에 AS를 사용해 별명을 설정하면,  \n",
    "  출력 결과에서 설정한 별명으로 확인할 수 있다.\n",
    "  - 공백이나 특수문자 포함이 가능하다."
   ]
  },
  {
   "cell_type": "code",
   "execution_count": 16,
   "id": "64837fd0-25dc-4efa-bab3-06c0225f08a1",
   "metadata": {},
   "outputs": [
    {
     "name": "stdout",
     "output_type": "stream",
     "text": [
      "[query] select  name as 도시명, popu as \"인구(만 명)\" from tCity ;\n",
      "\n"
     ]
    }
   ],
   "source": [
    "select(column = 'name as 도시명, popu as \"인구(만 명)\"')"
   ]
  },
  {
   "cell_type": "markdown",
   "id": "4b2a2fb1-4545-4f8f-9245-9e950272b57d",
   "metadata": {},
   "source": [
    "![AS 예제](../../../assets/SQL/CH4/AS_EXAMPLE.jpeg)"
   ]
  },
  {
   "cell_type": "markdown",
   "id": "3067712f-0824-4bbc-9287-907b548538aa",
   "metadata": {},
   "source": [
    "##### **연습 문제 #002.** \n",
    "\n",
    "> Q. 결과창의 헤더에 다음과 같이 출력하도록 하는 필드 목록을 작성하라.\n"
   ]
  },
  {
   "cell_type": "markdown",
   "id": "8dbc1c0d-0e9d-4f74-a297-46a1e33e8aab",
   "metadata": {},
   "source": [
    "||도시|인구(만명)|지역|\n",
    "|---|---|---|---|\n",
    "|1|서울|947|경기|\n",
    "|2|부산|342|경상|\n",
    "|3|오산|21|경기|\n",
    "|4|청주|83|충청|\n",
    "\n",
    "![연습문제 2번](../../../assets/SQL/CH4/EXER_#002.jpeg)"
   ]
  },
  {
   "cell_type": "markdown",
   "id": "642d3c4e-3114-4313-8204-ac218ac18903",
   "metadata": {},
   "source": [
    "#### 계산값 출력\n",
    "- SELECT 이후 필드명에 계산식을 이용하면 테이블에 저장된 값을 가공할 수 있다.\n",
    "![계산식 적용](../../../assets/SQL/CH4/Calc.jpeg)\n",
    "\n",
    "\n",
    "- 계산식을 이용하면 기존 테이블에 존재하지 않는 정보도 추가 할 수 있다.\n",
    "![계산식 적용2](../../../assets/SQL/CH4/Calc2.jpeg)\n",
    "\n",
    "- SELECT 문을 아래 둘 중 하나의 방법으로 간단한 계산기로도 사용할 수 있다.\n",
    "    ~~~ SQL\n",
    "        - select [계산식] from dual;  \n",
    "        - select [계산식];\n",
    "    ~~~"
   ]
  },
  {
   "cell_type": "code",
   "execution_count": 17,
   "id": "89d592fd-ae2d-40d8-860c-73937beec79a",
   "metadata": {},
   "outputs": [
    {
     "name": "stdout",
     "output_type": "stream",
     "text": [
      "[with from]\n",
      "(86400,)\n",
      "\n",
      "\n",
      "[without from]\n",
      "(86400,)\n",
      "\n",
      "\n"
     ]
    }
   ],
   "source": [
    "cursor.execute('select 60 * 60 * 24 as day from dual')\n",
    "print_results('[with from]', cursor.fetchall())\n",
    "cursor.execute('select 60 * 60 * 24 as day')\n",
    "print_results('[without from]', cursor.fetchall())"
   ]
  },
  {
   "cell_type": "markdown",
   "id": "e0ee3b68-3f61-4d7d-96be-3338837df056",
   "metadata": {},
   "source": [
    "##### **연습 문제 #003.** \n",
    "\n",
    "> Q. SELECT 문을 사용해 1년은 몇 초인지 계산하라.\n"
   ]
  },
  {
   "cell_type": "code",
   "execution_count": 18,
   "id": "586b1b18-6a03-4121-8770-25c853366e21",
   "metadata": {},
   "outputs": [
    {
     "name": "stdout",
     "output_type": "stream",
     "text": [
      "[A.]\n",
      "(31536000,)\n",
      "\n",
      "\n"
     ]
    }
   ],
   "source": [
    "cursor.execute('select 60 * 60 * 24 *365')\n",
    "print_results('[A.]', cursor.fetchall())"
   ]
  },
  {
   "cell_type": "markdown",
   "id": "0dbbe26c-a940-450c-ac34-5a4bbadf3e13",
   "metadata": {},
   "source": [
    "## **2. 조건문**\n",
    "### 2-1. 필드 비교\n",
    "- WHERE 절은 읽을 레코드의 조건을 지정해준다.\n",
    "    - SELECT는 조회가 주 기능이어서 주로 WHERE절과 사용한다.\n",
    "    - WHERE 절은 DELETE, UPDATE 등의 명령과도 함께 사용된다.\n",
    "    \n",
    "- WHERE 절에서 조건에 사용할 수 있는 연산자는 아래와 같다.\n",
    "    - 필드의 자료형과 비교대상의 자료형이 호환되어야 한다.  \n",
    "    \n",
    "- 숫자는 상수를 그대로 쓰지만, 문자열과 날짜 상수는 따옴표로 감싸야한다.\n",
    "    \n",
    "||연산자|설명|예|\n",
    "|---|---|---|---|\n",
    "|1|A = B|A와 B가 같다.|WHERE name='서울'|\n",
    "|2|A <> B, A !=B|A와 B가 같지 않다.|WHERE region <> '경기'|\n",
    "|3|A > B|A가 B보다 크다.|WHERE popu > 300|\n",
    "|4|A < B|A가 B보다 작다.|WHERE popu < 200|\n",
    "|5|A >= B|A가 B보다 크거나 같다.|WHERE area >= 1000|\n",
    "|6|A <= B|A가 B보다 작거나 같다.|WHERE area <= 100|\n"
   ]
  },
  {
   "cell_type": "code",
   "execution_count": 19,
   "id": "9c148771-2c1c-4fbb-ab95-c81386ba36de",
   "metadata": {},
   "outputs": [
    {
     "name": "stdout",
     "output_type": "stream",
     "text": [
      "[query] select  * from tCity where name = \"서울\";\n",
      "\n",
      "[name equal to \"서울\"]\n",
      "('서울', 605, 974, 'y', '경기')\n",
      "\n",
      "\n",
      "[query] select  * from tCity where region <> \"경기\";\n",
      "\n",
      "[region not equal to \"경기\"]\n",
      "('부산', 765, 342, 'y', '경상')\n",
      "('순천', 910, 27, 'n', '전라')\n",
      "('전주', 205, 65, 'n', '전라')\n",
      "('청주', 940, 83, 'n', '충청')\n",
      "('춘천', 1116, 27, 'n', '강원')\n",
      "('홍천', 1819, 7, 'n', '강원')\n",
      "\n",
      "\n",
      "[query] select  * from tCity where popu > 300;\n",
      "\n",
      "[popu greater than 300]\n",
      "('부산', 765, 342, 'y', '경상')\n",
      "('서울', 605, 974, 'y', '경기')\n",
      "\n",
      "\n",
      "[query] select  * from tCity where popu < 200;\n",
      "\n",
      "[popu less than 200]\n",
      "('순천', 910, 27, 'n', '전라')\n",
      "('오산', 42, 21, 'n', '경기')\n",
      "('전주', 205, 65, 'n', '전라')\n",
      "('청주', 940, 83, 'n', '충청')\n",
      "('춘천', 1116, 27, 'n', '강원')\n",
      "('홍천', 1819, 7, 'n', '강원')\n",
      "\n",
      "\n",
      "[query] select  * from tCity where area >= 1000;\n",
      "\n",
      "[area greater than or equal to 3000]\n",
      "('춘천', 1116, 27, 'n', '강원')\n",
      "('홍천', 1819, 7, 'n', '강원')\n",
      "\n",
      "\n",
      "[query] select  * from tCity where area <= 100;\n",
      "\n",
      "[area less than or equal to 100]\n",
      "('오산', 42, 21, 'n', '경기')\n",
      "\n",
      "\n"
     ]
    }
   ],
   "source": [
    "select('[name equal to \"서울\"]'               , cond = 'name = \"서울\"')\n",
    "select('[region not equal to \"경기\"]'         , cond = 'region <> \"경기\"')\n",
    "select('[popu greater than 300]'             , cond = 'popu > 300')\n",
    "select('[popu less than 200]'                , cond = 'popu < 200')\n",
    "select('[area greater than or equal to 3000]', cond = 'area >= 1000')\n",
    "select('[area less than or equal to 100]'    , cond = 'area <= 100')"
   ]
  },
  {
   "cell_type": "markdown",
   "id": "e1b6f5ef-ff5a-4832-8b99-c0061a72a406",
   "metadata": {},
   "source": [
    "##### **연습 문제 #004.** \n",
    "\n",
    "> Q1. 인구가 10만명 미만인 도시의 이름을 출력하라.  \n",
    "> Q2. 전라도에 있는 도시의 정보를 출력하라.  \n",
    "> Q3. 월급이 400만원 이상인 직원의 이름을 출력하라.\n"
   ]
  },
  {
   "cell_type": "code",
   "execution_count": 20,
   "id": "5d2b4445-c85e-4574-abfb-bcd409f9e1b2",
   "metadata": {},
   "outputs": [
    {
     "name": "stdout",
     "output_type": "stream",
     "text": [
      "[query] select  name from tCity where popu * 10000 > 100000;\n",
      "\n",
      "[A1.]\n",
      "('부산',)\n",
      "('서울',)\n",
      "('순천',)\n",
      "('오산',)\n",
      "('전주',)\n",
      "('청주',)\n",
      "('춘천',)\n",
      "\n",
      "\n",
      "[query] select  * from tCity where region = \"전라\";\n",
      "\n",
      "[A2.]\n",
      "('순천', 910, 27, 'n', '전라')\n",
      "('전주', 205, 65, 'n', '전라')\n",
      "\n",
      "\n",
      "[query] select  name from tStaff where salary * 10000 >= 4000000;\n",
      "\n",
      "[A3.]\n",
      "('김유신',)\n",
      "('신사임당',)\n",
      "('장보고',)\n",
      "\n",
      "\n"
     ]
    }
   ],
   "source": [
    "select('[A1.]', column = 'name', cond = 'popu * 10000 > 100000')\n",
    "select('[A2.]', cond = 'region = \"전라\"')\n",
    "select('[A3.]', column = 'name', table_name = 'tStaff', cond = 'salary * 10000 >= 4000000')"
   ]
  },
  {
   "cell_type": "markdown",
   "id": "e051cac7-e2b4-402b-97bf-bc64c277724a",
   "metadata": {},
   "source": [
    "### 2-2. NULL 비교\n",
    "- NULL은 값이 입력되어 있지 않은 상태를 말한다.\n",
    "    - 값이 지정되어 있지 않기 때문에, 0이나 빈 문자열과도 다른 상태이다.\n",
    "    \n",
    "> #### <e.g.>\n",
    "~~~ SQL  \n",
    "    CREATE TABLE tCity\n",
    "    (\n",
    "        name CHAR(10) PRIMARY KEY,\n",
    "        area INT NULL,\n",
    "        popu INT NULL,\n",
    "        metro CHAR(1) NOT NULL,\n",
    "        region CHAR(6) NOT NULL\n",
    "    );\n",
    "~~~\n",
    "\n",
    "- 선언문 뒤에 NULL이 있으면 값을 입력하지 않아도 된다는 뜻이다.\n",
    "    - 위 예에서는 인구와 면적은 값을 입력하지 않아도 되고, 그 외 데이터 들은 입력해야한다.\n",
    "    - NULL 비교를 위해서는 연산자로 is를 사용한다."
   ]
  },
  {
   "cell_type": "code",
   "execution_count": 21,
   "id": "e3c99fd4-8798-41c5-b0bd-93ceedb2870d",
   "metadata": {},
   "outputs": [
    {
     "name": "stdout",
     "output_type": "stream",
     "text": [
      "[query] select  * from tStaff where score is NULL;\n",
      "\n",
      "[score is NULL in tStaff]\n",
      "('유관순', '영업부', '여', datetime.date(2009, 3, 1), '과장', 380, None)\n",
      "('을지문덕', '영업부', '남', datetime.date(2019, 6, 29), '사원', 330, None)\n",
      "\n",
      "\n"
     ]
    }
   ],
   "source": [
    "## tStaff 테이블에서 score가 NULL인 직원들만 추출\n",
    "select('[score is NULL in tStaff]', table_name = 'tStaff', cond = f'score is NULL')"
   ]
  },
  {
   "cell_type": "code",
   "execution_count": 22,
   "id": "dc43cfe7-f075-41e2-84df-9589904d10fe",
   "metadata": {},
   "outputs": [
    {
     "name": "stdout",
     "output_type": "stream",
     "text": [
      "[query] select  * from tStaff where score is not NULL;\n",
      "\n",
      "[score is not NULL in tStaff]\n",
      "('강감찬', '영업부', '남', datetime.date(2018, 10, 9), '사원', 320, Decimal('56.00'))\n",
      "('김유신', '총무부', '남', datetime.date(2000, 2, 3), '이사', 420, Decimal('88.80'))\n",
      "('논개', '인사과', '여', datetime.date(2010, 9, 16), '대리', 340, Decimal('46.20'))\n",
      "('대조영', '총무부', '남', datetime.date(2020, 7, 7), '차장', 290, Decimal('49.90'))\n",
      "('선덕여왕', '인사과', '여', datetime.date(2017, 8, 3), '사원', 315, Decimal('45.10'))\n",
      "('성삼문', '영업부', '남', datetime.date(2014, 6, 8), '대리', 285, Decimal('87.75'))\n",
      "('신사임당', '영업부', '여', datetime.date(2013, 6, 19), '부장', 400, Decimal('92.00'))\n",
      "('안중근', '인사과', '남', datetime.date(2012, 5, 5), '대리', 256, Decimal('76.50'))\n",
      "('안창호', '영업부', '남', datetime.date(2015, 8, 15), '사원', 370, Decimal('74.20'))\n",
      "('윤봉길', '영업부', '남', datetime.date(2015, 8, 15), '과장', 350, Decimal('71.25'))\n",
      "('이사부', '총무부', '남', datetime.date(2000, 2, 3), '대리', 375, Decimal('50.00'))\n",
      "('이율곡', '총무부', '남', datetime.date(2016, 3, 8), '과장', 385, Decimal('65.40'))\n",
      "('장보고', '인사과', '남', datetime.date(2005, 4, 1), '부장', 440, Decimal('58.30'))\n",
      "('정몽주', '총무부', '남', datetime.date(2010, 9, 16), '대리', 370, Decimal('89.50'))\n",
      "('정약용', '총무부', '남', datetime.date(2020, 3, 14), '과장', 380, Decimal('69.80'))\n",
      "('허난설헌', '인사과', '여', datetime.date(2020, 1, 5), '사원', 285, Decimal('44.50'))\n",
      "('홍길동', '인사과', '남', datetime.date(2019, 8, 8), '차장', 380, Decimal('77.70'))\n",
      "('황진이', '인사과', '여', datetime.date(2012, 5, 5), '사원', 275, Decimal('52.50'))\n",
      "\n",
      "\n"
     ]
    }
   ],
   "source": [
    "select('[score is not NULL in tStaff]', table_name = 'tStaff', cond = f'score is not NULL')"
   ]
  },
  {
   "cell_type": "markdown",
   "id": "7396edaa-2fb5-4c53-a95f-94a4c5532556",
   "metadata": {},
   "source": [
    "### 2-3. 논리 연산자\n",
    "- 두 가지 이상의 조건을 동시에 점검할 때는 AND, OR 논리 연산자를 사용한다.\n",
    "    - A AND B | A와 B 두 조건을 모두 만족하는 데이터\n",
    "    - A OR  B | A와 B 둘 중 하나의 조건만 만족하는 데이터\n",
    "    - AND 연산자가 OR 연산자보다 우선 순위가 높고, 괄호로 우선 순위를 지정해 줄 수 있다.\n",
    "    \n",
    "- 조건에 부합하지 않는 데이터를 구하기 위해서는 NOT 논리 연산자를 사용한다.\n",
    "    - \"!=\"와 같은 기능을 하지만, 복합 조건의 부정을 취할 때는 NOT을 사용하면 편하다."
   ]
  },
  {
   "cell_type": "code",
   "execution_count": 23,
   "id": "ca7c5ee7-6452-465a-9c4c-0b76af560294",
   "metadata": {},
   "outputs": [
    {
     "name": "stdout",
     "output_type": "stream",
     "text": [
      "[query] select  * from tCity where region = \"경기\" and popu >= 50 or area >= 500;\n",
      "\n",
      "[지역이 경기도면서 인구가 50만 이상이거나 지역이 경기도가 아니여도 면적이 500 이상]\n",
      "('부산', 765, 342, 'y', '경상')\n",
      "('서울', 605, 974, 'y', '경기')\n",
      "('순천', 910, 27, 'n', '전라')\n",
      "('청주', 940, 83, 'n', '충청')\n",
      "('춘천', 1116, 27, 'n', '강원')\n",
      "('홍천', 1819, 7, 'n', '강원')\n",
      "\n",
      "\n",
      "[query] select  * from tCity where region = \"경기\" and (popu >= 50 or area >= 500);\n",
      "\n",
      "[지역이 경기도면서, 인구가 50만이 넘거나 면적이 500 이상]\n",
      "('서울', 605, 974, 'y', '경기')\n",
      "\n",
      "\n",
      "[query] select  * from tCity where region != \"경기\";\n",
      "\n",
      "[지역이 경기도가 아닌 데이터]\n",
      "('부산', 765, 342, 'y', '경상')\n",
      "('순천', 910, 27, 'n', '전라')\n",
      "('전주', 205, 65, 'n', '전라')\n",
      "('청주', 940, 83, 'n', '충청')\n",
      "('춘천', 1116, 27, 'n', '강원')\n",
      "('홍천', 1819, 7, 'n', '강원')\n",
      "\n",
      "\n",
      "[query] select  * from tCity where NOT (region = \"경기\");\n",
      "\n",
      "[지역이 경기도가 아닌 데이터]\n",
      "('부산', 765, 342, 'y', '경상')\n",
      "('순천', 910, 27, 'n', '전라')\n",
      "('전주', 205, 65, 'n', '전라')\n",
      "('청주', 940, 83, 'n', '충청')\n",
      "('춘천', 1116, 27, 'n', '강원')\n",
      "('홍천', 1819, 7, 'n', '강원')\n",
      "\n",
      "\n"
     ]
    }
   ],
   "source": [
    "select('[지역이 경기도면서 인구가 50만 이상이거나 지역이 경기도가 아니여도 면적이 500 이상]', cond = 'region = \"경기\" and popu >= 50 or area >= 500')\n",
    "select('[지역이 경기도면서, 인구가 50만이 넘거나 면적이 500 이상]', cond = 'region = \"경기\" and (popu >= 50 or area >= 500)')\n",
    "select('[지역이 경기도가 아닌 데이터]', cond = 'region != \"경기\"')\n",
    "select('[지역이 경기도가 아닌 데이터]', cond = 'NOT (region = \"경기\")')"
   ]
  },
  {
   "cell_type": "markdown",
   "id": "dc75fb1b-d333-45c9-b063-9442480550ec",
   "metadata": {},
   "source": [
    "##### **연습 문제 #005.** \n",
    "\n",
    "> Q1. 직원 목록에서 월급이 300 미만이면서 성취도는 60 이상인 직원이 누구인지 조사하라.  \n",
    "> Q2. 영업부의 여직원 이름을 조사하라.\n"
   ]
  },
  {
   "cell_type": "code",
   "execution_count": 24,
   "id": "193027e1-753b-4962-95be-f4fabd6900cd",
   "metadata": {},
   "outputs": [
    {
     "name": "stdout",
     "output_type": "stream",
     "text": [
      "[query] select  * from tStaff where salary < 300 and score >= 60;\n",
      "\n",
      "[A1.]\n",
      "('성삼문', '영업부', '남', datetime.date(2014, 6, 8), '대리', 285, Decimal('87.75'))\n",
      "('안중근', '인사과', '남', datetime.date(2012, 5, 5), '대리', 256, Decimal('76.50'))\n",
      "\n",
      "\n",
      "[query] select  name from tStaff where gender = \"여\";\n",
      "\n",
      "[A2.]\n",
      "('논개',)\n",
      "('선덕여왕',)\n",
      "('신사임당',)\n",
      "('유관순',)\n",
      "('허난설헌',)\n",
      "('황진이',)\n",
      "\n",
      "\n"
     ]
    }
   ],
   "source": [
    "select('[A1.]', table_name = 'tStaff', cond = 'salary < 300 and score >= 60')\n",
    "select('[A2.]', table_name = 'tStaff', column = 'name', cond = 'gender = \"여\"')"
   ]
  },
  {
   "cell_type": "markdown",
   "id": "36efe950-21fb-4bf5-99b3-796d72fd6757",
   "metadata": {},
   "source": [
    "### 2-4. LIKE\n",
    "- LIKE는 \"=\" 연산자와 달리 패턴으로 부분 문자열을 검색한다.\n",
    "- LIKE 문의 패턴에는 아래와 같은 와일드 카드를 사용한다.  \n",
    "\n",
    "||와일드 카드|설명|\n",
    "|---|---|---|\n",
    "|1|%|복수개의 문자와 대응. DoS의 *와 동일한 의미를 가지며 %자리에 임의 개수의 임의 문자가 올 수 있다.|\n",
    "|2|_|하나의 문자와 대응. DoS의 ?와 동일한 의미를 가지며 _자리에 하나의 임의 문자가 올 수 있다.|\n",
    "|3|[]|[] 안에 포함된 문자 리스트 중 하나의 문자와 대응한다.|\n",
    "|4|[^]|[^] 안에 포함된 문자 리스트에 포함되지 않은 하나의 문자와 대응한다.|"
   ]
  },
  {
   "cell_type": "code",
   "execution_count": 25,
   "id": "0dd29f49-cd01-46d7-962a-037f19b29d36",
   "metadata": {},
   "outputs": [
    {
     "name": "stdout",
     "output_type": "stream",
     "text": [
      "[query] select  * from tCity where name LIKE \"%천%\";\n",
      "\n",
      "[\"천\" in City name]\n",
      "('순천', 910, 27, 'n', '전라')\n",
      "('춘천', 1116, 27, 'n', '강원')\n",
      "('홍천', 1819, 7, 'n', '강원')\n",
      "\n",
      "\n",
      "[query] select  * from tCity where name not like \"%천%\";\n",
      "\n",
      "[\"천\" not in City name]\n",
      "('부산', 765, 342, 'y', '경상')\n",
      "('서울', 605, 974, 'y', '경기')\n",
      "('오산', 42, 21, 'n', '경기')\n",
      "('전주', 205, 65, 'n', '전라')\n",
      "('청주', 940, 83, 'n', '충청')\n",
      "\n",
      "\n"
     ]
    }
   ],
   "source": [
    "## 도시 이름에 '천'이 들어가는 도시 조회\n",
    "## 아래 조건식은 앞뒤의 문자열이 얼마나 길던지 문자열에 \"천\"이 들어가는 데이터들을 모두 출력해준다.\n",
    "select('[\"천\" in City name]', cond = 'name LIKE \"%천%\"')\n",
    "\n",
    "## 아래 조건식은 문자열에 \"천\"이 들어가지 않는 데이터들을 모두 출력해준다.\n",
    "select('[\"천\" not in City name]', cond = 'name not like \"%천%\"')"
   ]
  },
  {
   "cell_type": "code",
   "execution_count": 26,
   "id": "04bd76e1-2823-4721-8450-22269626d2b8",
   "metadata": {},
   "outputs": [
    {
     "name": "stdout",
     "output_type": "stream",
     "text": [
      "[query] select  * from tCity where name like \"천%\";\n",
      "\n",
      "[\"천\"으로 시작되는 도시 이름]\n",
      "\n",
      "\n",
      "[query] select  * from tCity where name like \"%천\";\n",
      "\n",
      "[\"천\"으로 끝나는 도시 이름]\n",
      "('순천', 910, 27, 'n', '전라')\n",
      "('춘천', 1116, 27, 'n', '강원')\n",
      "('홍천', 1819, 7, 'n', '강원')\n",
      "\n",
      "\n"
     ]
    }
   ],
   "source": [
    "## 이레 조건식은 천으로 시작하는 데이터만 출력한다.\n",
    "select('[\"천\"으로 시작되는 도시 이름]', cond = 'name like \"천%\"')\n",
    "\n",
    "## 아래 조건식은 천으로 끝나는 데이터만 출력한다.\n",
    "select('[\"천\"으로 끝나는 도시 이름]', cond = 'name like \"%천\"')"
   ]
  },
  {
   "cell_type": "markdown",
   "id": "3b16264d-d588-45a6-885d-b06a3c9a39ed",
   "metadata": {},
   "source": [
    "- 와일드 카드와 동일한 특수문자를 사용할 경우 escape 문자를 사용한다.\n",
    "~~~ SQL\n",
    "    LIKE '%30#%' ESCAPE '#'\n",
    "~~~\n",
    "    - 위 예시에서 %30#%는 30%를 포함하고 있는 문자열을 조회한다.\n",
    "    \n",
    "##### **연습 문제 #006.** \n",
    "\n",
    "> Q1. 직원 목록에서 '정'씨를 조사하라.   \n",
    "> Q2. 이름에 '신'자가 포함된 직원을 조사하라."
   ]
  },
  {
   "cell_type": "code",
   "execution_count": 27,
   "id": "d19d9b16-0f20-4758-a404-31f7be60fc92",
   "metadata": {},
   "outputs": [
    {
     "name": "stdout",
     "output_type": "stream",
     "text": [
      "[query] select  * from tStaff where name like \"정%\";\n",
      "\n",
      "[A1.]\n",
      "('정몽주', '총무부', '남', datetime.date(2010, 9, 16), '대리', 370, Decimal('89.50'))\n",
      "('정약용', '총무부', '남', datetime.date(2020, 3, 14), '과장', 380, Decimal('69.80'))\n",
      "\n",
      "\n",
      "[query] select  * from tStaff where name like \"%신%\";\n",
      "\n",
      "[A2.]\n",
      "('김유신', '총무부', '남', datetime.date(2000, 2, 3), '이사', 420, Decimal('88.80'))\n",
      "('신사임당', '영업부', '여', datetime.date(2013, 6, 19), '부장', 400, Decimal('92.00'))\n",
      "\n",
      "\n"
     ]
    }
   ],
   "source": [
    "select('[A1.]', table_name = 'tStaff', cond = 'name like \"정%\"')\n",
    "\n",
    "select('[A2.]', table_name = 'tStaff', cond = 'name like \"%신%\"')"
   ]
  },
  {
   "cell_type": "markdown",
   "id": "f6f4af23-7f0f-4664-bdb3-3024b6bddb29",
   "metadata": {
    "tags": []
   },
   "source": [
    "### 2-5. BETWEEN\n",
    "- BETWEEN A AND B 문은 최소값 A ~ 최대값 B 사이의 값을 조회해준다.\n",
    "- 부등호를 사용하는 범위 조건은 수치값에 대해 사용하지만, between A and B는  \n",
    "  문자열이나 날짜 등에도 사용할 수 있다."
   ]
  },
  {
   "cell_type": "code",
   "execution_count": 28,
   "id": "50fe66b6-7ccf-491a-ade6-d4fa21bf254d",
   "metadata": {},
   "outputs": [
    {
     "name": "stdout",
     "output_type": "stream",
     "text": [
      "[query] select  * from tCity where popu between 50 and 100;\n",
      "\n",
      "[인구가 50 ~ 100만 사이의 값인 도시]\n",
      "('전주', 205, 65, 'n', '전라')\n",
      "('청주', 940, 83, 'n', '충청')\n",
      "\n",
      "\n",
      "[query] select  * from tCity where popu >= 50 AND popu <= 100;\n",
      "\n",
      "[인구가 50 ~ 100만 사이의 값인 도시]\n",
      "('전주', 205, 65, 'n', '전라')\n",
      "('청주', 940, 83, 'n', '충청')\n",
      "\n",
      "\n"
     ]
    }
   ],
   "source": [
    "select('[인구가 50 ~ 100만 사이의 값인 도시]', cond = 'popu between 50 and 100')\n",
    "\n",
    "## 아래 조건문은 위 조건문과 같은 결과를 낸다.\n",
    "select('[인구가 50 ~ 100만 사이의 값인 도시]', cond = 'popu >= 50 AND popu <= 100')"
   ]
  },
  {
   "cell_type": "code",
   "execution_count": 29,
   "id": "ce8d2d88-b7a3-42a1-aedf-6765b38c08e1",
   "metadata": {},
   "outputs": [
    {
     "name": "stdout",
     "output_type": "stream",
     "text": [
      "[query] select  * from tStaff where name between \"가\" and \"사\";\n",
      "\n",
      "[이름이 가 ~ 사 사이인 직원들]\n",
      "('강감찬', '영업부', '남', datetime.date(2018, 10, 9), '사원', 320, Decimal('56.00'))\n",
      "('김유신', '총무부', '남', datetime.date(2000, 2, 3), '이사', 420, Decimal('88.80'))\n",
      "('논개', '인사과', '여', datetime.date(2010, 9, 16), '대리', 340, Decimal('46.20'))\n",
      "('대조영', '총무부', '남', datetime.date(2020, 7, 7), '차장', 290, Decimal('49.90'))\n",
      "\n",
      "\n",
      "[query] select  * from tStaff where joindate between \"20150101\" and \"20180101\";\n",
      "\n",
      "[입사일이 2015.01.01 ~ 2018.01.01인 직원들]\n",
      "('선덕여왕', '인사과', '여', datetime.date(2017, 8, 3), '사원', 315, Decimal('45.10'))\n",
      "('안창호', '영업부', '남', datetime.date(2015, 8, 15), '사원', 370, Decimal('74.20'))\n",
      "('윤봉길', '영업부', '남', datetime.date(2015, 8, 15), '과장', 350, Decimal('71.25'))\n",
      "('이율곡', '총무부', '남', datetime.date(2016, 3, 8), '과장', 385, Decimal('65.40'))\n",
      "\n",
      "\n"
     ]
    }
   ],
   "source": [
    "select('[이름이 가 ~ 사 사이인 직원들]', table_name = 'tStaff', cond = 'name between \"가\" and \"사\"')\n",
    "select('[입사일이 2015.01.01 ~ 2018.01.01인 직원들]', table_name = 'tStaff', \n",
    "       cond = 'joindate between \"20150101\" and \"20180101\"')"
   ]
  },
  {
   "cell_type": "markdown",
   "id": "acd053b2-2732-4a4d-8341-1ad7cd891a91",
   "metadata": {},
   "source": [
    "##### **연습 문제 #007.** \n",
    "\n",
    "> Q1. 면적 500 ~ 1,000 사이의 도시 목록을 조사하라.   \n",
    "> Q2. 월급이 200만원대인 직원의 목록을 구하라."
   ]
  },
  {
   "cell_type": "code",
   "execution_count": 30,
   "id": "0d2e5458-68a2-49b0-9f88-7b49c8ae139c",
   "metadata": {},
   "outputs": [
    {
     "name": "stdout",
     "output_type": "stream",
     "text": [
      "[query] select  * from tCity where area between 500 and 1000;\n",
      "\n",
      "[A1.]\n",
      "('부산', 765, 342, 'y', '경상')\n",
      "('서울', 605, 974, 'y', '경기')\n",
      "('순천', 910, 27, 'n', '전라')\n",
      "('청주', 940, 83, 'n', '충청')\n",
      "\n",
      "\n",
      "[query] select  * from tStaff where salary between 200 and 299;\n",
      "\n",
      "[A2.]\n",
      "('대조영', '총무부', '남', datetime.date(2020, 7, 7), '차장', 290, Decimal('49.90'))\n",
      "('성삼문', '영업부', '남', datetime.date(2014, 6, 8), '대리', 285, Decimal('87.75'))\n",
      "('안중근', '인사과', '남', datetime.date(2012, 5, 5), '대리', 256, Decimal('76.50'))\n",
      "('허난설헌', '인사과', '여', datetime.date(2020, 1, 5), '사원', 285, Decimal('44.50'))\n",
      "('황진이', '인사과', '여', datetime.date(2012, 5, 5), '사원', 275, Decimal('52.50'))\n",
      "\n",
      "\n"
     ]
    }
   ],
   "source": [
    "select('[A1.]', cond = 'area between 500 and 1000')\n",
    "select('[A2.]', cond = 'salary between 200 and 299', table_name = 'tStaff')"
   ]
  },
  {
   "cell_type": "markdown",
   "id": "b1c6cb5d-4fad-4121-8682-0e607be19b5f",
   "metadata": {},
   "source": [
    "### 2-6. IN\n",
    "- BETWEEN 문은 A와 B 사이 연속된 범위의 값만 검색할 수 있는 반면 IN 문은 불연속적인  \n",
    "  값 여러 개의 목록을 제공하여 목록과 일치하는 레코드를 검색한다.\n",
    "  \n",
    "  - IN 뒤의 괄호 안에 콤마로 구분된 값 목록을 나열하여 그 중 하나에 해당하는지 점검한다.\n",
    "  - 값 개수에는 제한이 없어 무수히 많은 값을 넣을 수도 있다."
   ]
  },
  {
   "cell_type": "code",
   "execution_count": 31,
   "id": "1f56cad9-2c8a-4de9-bcb8-44b5ff2942fe",
   "metadata": {},
   "outputs": [
    {
     "name": "stdout",
     "output_type": "stream",
     "text": [
      "[query] select  * from tCity where region in (\"경상\", \"전라\");\n",
      "\n",
      "[지역이 \"경상\" 이거나 \"전라\"인 데이터]\n",
      "('부산', 765, 342, 'y', '경상')\n",
      "('순천', 910, 27, 'n', '전라')\n",
      "('전주', 205, 65, 'n', '전라')\n",
      "\n",
      "\n",
      "[query] select  * from tCity where region = \"경상\" or region =  \"전라\";\n",
      "\n",
      "[지역이 \"경상\" 이거나 \"전라\"인 데이터]\n",
      "('부산', 765, 342, 'y', '경상')\n",
      "('순천', 910, 27, 'n', '전라')\n",
      "('전주', 205, 65, 'n', '전라')\n",
      "\n",
      "\n"
     ]
    }
   ],
   "source": [
    "## 아래 조건문은 지역이 경상도이거나 전라도인 데이터만 조회한다.\n",
    "select('[지역이 \"경상\" 이거나 \"전라\"인 데이터]', cond = 'region in (\"경상\", \"전라\")')\n",
    "\n",
    "## 아래 조건문은 위 조건문과 같은 결과 셋을 출력한다.\n",
    "select('[지역이 \"경상\" 이거나 \"전라\"인 데이터]', cond = 'region = \"경상\" or region =  \"전라\"')"
   ]
  },
  {
   "cell_type": "code",
   "execution_count": 32,
   "id": "fece7eab-8c4e-4d1f-a82d-d89f37b76eac",
   "metadata": {},
   "outputs": [
    {
     "name": "stdout",
     "output_type": "stream",
     "text": [
      "[query] select  * from tCity where region not in (\"경상\", \"전라\");\n",
      "\n",
      "[지역이 \"경상\" 이나 \"전라\"가 아닌 데이터]\n",
      "('서울', 605, 974, 'y', '경기')\n",
      "('오산', 42, 21, 'n', '경기')\n",
      "('청주', 940, 83, 'n', '충청')\n",
      "('춘천', 1116, 27, 'n', '강원')\n",
      "('홍천', 1819, 7, 'n', '강원')\n",
      "\n",
      "\n",
      "[query] select  * from tStaff where name like '이%' or name like '안%';\n",
      "\n",
      "[이씨이거나 안씨인 직원]\n",
      "('안중근', '인사과', '남', datetime.date(2012, 5, 5), '대리', 256, Decimal('76.50'))\n",
      "('안창호', '영업부', '남', datetime.date(2015, 8, 15), '사원', 370, Decimal('74.20'))\n",
      "('이사부', '총무부', '남', datetime.date(2000, 2, 3), '대리', 375, Decimal('50.00'))\n",
      "('이율곡', '총무부', '남', datetime.date(2016, 3, 8), '과장', 385, Decimal('65.40'))\n",
      "\n",
      "\n"
     ]
    }
   ],
   "source": [
    "## 아래 조건문은 지역이 경상도이나 전라도가 아닌 데이터만 조회한다.\n",
    "select('[지역이 \"경상\" 이나 \"전라\"가 아닌 데이터]', cond = 'region not in (\"경상\", \"전라\")')\n",
    "\n",
    "## LIKE 문과는 결합하여 사용할 수 없고 OR로 묶어야한다. \n",
    "## 위 방법은 복잡도가 증가하고 성능상의 문제가 발생할 수 있다.\n",
    "\n",
    "## 아래 조건문은 안씨이거나 이씨인 직원을 뽑는다.\n",
    "select('[이씨이거나 안씨인 직원]', cond = \"name like '이%' or name like '안%'\", \n",
    "        table_name = 'tStaff')"
   ]
  },
  {
   "cell_type": "markdown",
   "id": "eb7af42e-99f9-4287-8822-539e77810069",
   "metadata": {},
   "source": [
    "##### **연습 문제 #008.** \n",
    "\n",
    "> Q1. 총무부나 영업부에 근무하는 직원의 목록을 조사하라.   \n",
    "> Q2. 인사과나 영업부에 근무하는 대리의 목록을 조사하라.  \n",
    "> Q3. 차장급 이상의 여직원 목록을 조사하라."
   ]
  },
  {
   "cell_type": "code",
   "execution_count": 33,
   "id": "8261e244-0bcf-4999-917b-34340387b099",
   "metadata": {},
   "outputs": [
    {
     "name": "stdout",
     "output_type": "stream",
     "text": [
      "[query] select  * from tStaff where depart in (\"총무부\", \"영업부\");\n",
      "\n",
      "[A1].\n",
      "('강감찬', '영업부', '남', datetime.date(2018, 10, 9), '사원', 320, Decimal('56.00'))\n",
      "('김유신', '총무부', '남', datetime.date(2000, 2, 3), '이사', 420, Decimal('88.80'))\n",
      "('대조영', '총무부', '남', datetime.date(2020, 7, 7), '차장', 290, Decimal('49.90'))\n",
      "('성삼문', '영업부', '남', datetime.date(2014, 6, 8), '대리', 285, Decimal('87.75'))\n",
      "('신사임당', '영업부', '여', datetime.date(2013, 6, 19), '부장', 400, Decimal('92.00'))\n",
      "('안창호', '영업부', '남', datetime.date(2015, 8, 15), '사원', 370, Decimal('74.20'))\n",
      "('유관순', '영업부', '여', datetime.date(2009, 3, 1), '과장', 380, None)\n",
      "('윤봉길', '영업부', '남', datetime.date(2015, 8, 15), '과장', 350, Decimal('71.25'))\n",
      "('을지문덕', '영업부', '남', datetime.date(2019, 6, 29), '사원', 330, None)\n",
      "('이사부', '총무부', '남', datetime.date(2000, 2, 3), '대리', 375, Decimal('50.00'))\n",
      "('이율곡', '총무부', '남', datetime.date(2016, 3, 8), '과장', 385, Decimal('65.40'))\n",
      "('정몽주', '총무부', '남', datetime.date(2010, 9, 16), '대리', 370, Decimal('89.50'))\n",
      "('정약용', '총무부', '남', datetime.date(2020, 3, 14), '과장', 380, Decimal('69.80'))\n",
      "\n",
      "\n",
      "[query] select  * from tStaff where depart in (\"인사과\", \"영업부\") and grade = \"대리\";\n",
      "\n",
      "[A2].\n",
      "('논개', '인사과', '여', datetime.date(2010, 9, 16), '대리', 340, Decimal('46.20'))\n",
      "('성삼문', '영업부', '남', datetime.date(2014, 6, 8), '대리', 285, Decimal('87.75'))\n",
      "('안중근', '인사과', '남', datetime.date(2012, 5, 5), '대리', 256, Decimal('76.50'))\n",
      "\n",
      "\n",
      "[query] select  * from tStaff where grade in (\"차장\", \"부장\", \"이사\") and gender = \"여\";\n",
      "\n",
      "[A3].\n",
      "('신사임당', '영업부', '여', datetime.date(2013, 6, 19), '부장', 400, Decimal('92.00'))\n",
      "\n",
      "\n"
     ]
    }
   ],
   "source": [
    "select('[A1].', table_name = 'tStaff', \n",
    "       cond = 'depart in (\"총무부\", \"영업부\")')\n",
    "select('[A2].', table_name = 'tStaff', \n",
    "       cond = 'depart in (\"인사과\", \"영업부\") and grade = \"대리\"')\n",
    "select('[A3].', table_name = 'tStaff', \n",
    "       cond = 'grade in (\"차장\", \"부장\", \"이사\") and gender = \"여\"')"
   ]
  },
  {
   "cell_type": "markdown",
   "id": "ac4e51a9-d238-4f68-8c75-847d02199d96",
   "metadata": {},
   "source": [
    "## **3. 정렬**\n",
    "### 3-1. ORDER BY\n",
    "- SELECT 문은 명령에 별다른 명시가 없을 경우 DBMS의 기본 순서를 따른다.\n",
    "    - ORACLE은 레코드의 입력 순서를 기억해 두고 출력한다.\n",
    "    - SQL Server와 Maria DB는 기본키에 대해 오름차 순으로 정렬한다.\n",
    "    \n",
    "~~~ SQL\n",
    "    ORDER BY 필드 [ASC | DESC]\n",
    "~~~\n",
    "- ASC는 오름차순으로 DESC는 내림차순으로 정렬하고, 기본값은 ASC이다."
   ]
  },
  {
   "cell_type": "code",
   "execution_count": 34,
   "id": "d17a3005-6641-4d8f-871c-c43e19d539c5",
   "metadata": {},
   "outputs": [
    {
     "name": "stdout",
     "output_type": "stream",
     "text": [
      "[query] select  * from tCity order by popu asc;\n",
      "\n",
      "[POPU for asc]\n",
      "('홍천', 1819, 7, 'n', '강원')\n",
      "('오산', 42, 21, 'n', '경기')\n",
      "('순천', 910, 27, 'n', '전라')\n",
      "('춘천', 1116, 27, 'n', '강원')\n",
      "('전주', 205, 65, 'n', '전라')\n",
      "('청주', 940, 83, 'n', '충청')\n",
      "('부산', 765, 342, 'y', '경상')\n",
      "('서울', 605, 974, 'y', '경기')\n",
      "\n",
      "\n",
      "[query] select  * from tCity order by popu desc;\n",
      "\n",
      "[POPU for desc]\n",
      "('서울', 605, 974, 'y', '경기')\n",
      "('부산', 765, 342, 'y', '경상')\n",
      "('청주', 940, 83, 'n', '충청')\n",
      "('전주', 205, 65, 'n', '전라')\n",
      "('순천', 910, 27, 'n', '전라')\n",
      "('춘천', 1116, 27, 'n', '강원')\n",
      "('오산', 42, 21, 'n', '경기')\n",
      "('홍천', 1819, 7, 'n', '강원')\n",
      "\n",
      "\n"
     ]
    }
   ],
   "source": [
    "## 아래 조건문은 인구수를 기준으로 정렬하여 인구수가 적은 도시부터 출력한다.\n",
    "select('[POPU for asc]', order_column = 'popu', order = 'asc')\n",
    "\n",
    "## 아래 조건문은 인구수를 기준으로 정렬하여 인구수가 많은 도시부터 출력한다.\n",
    "select('[POPU for desc]', order_column = 'popu', order = 'desc')"
   ]
  },
  {
   "cell_type": "markdown",
   "id": "6204342f-1e5c-48df-b479-d4d0e73bc064",
   "metadata": {},
   "source": [
    "- order by 문에 두 개 이상의 기준 필드를 지정할 수 있다.\n",
    "    - 첫 번째 기준 필드의 값이 같은 경우 두 번째 기준 필드로 정렬한다."
   ]
  },
  {
   "cell_type": "code",
   "execution_count": 35,
   "id": "c7cbfd1f-0718-45b8-bf8c-0b1ef45b8006",
   "metadata": {},
   "outputs": [
    {
     "name": "stdout",
     "output_type": "stream",
     "text": [
      "[query] select  region, name, area, popu from tCity order by region, name desc;\n",
      "\n",
      "[지역은 오름차순, 같은 지역의 도시끼리는 내림차순으로 정렬]\n",
      "('강원', '홍천', 1819, 7)\n",
      "('강원', '춘천', 1116, 27)\n",
      "('경기', '오산', 42, 21)\n",
      "('경기', '서울', 605, 974)\n",
      "('경상', '부산', 765, 342)\n",
      "('전라', '전주', 205, 65)\n",
      "('전라', '순천', 910, 27)\n",
      "('충청', '청주', 940, 83)\n",
      "\n",
      "\n"
     ]
    }
   ],
   "source": [
    "## 아래 조건문은 지역별로 정렬하되 같은 지역에 속한 도시끼리는 이름의 내림차 순으로 정렬한다.\n",
    "## region에 대해서는 order 기준이 지정되어 있지 않으므로 기본 값인 asc가 적용된다.\n",
    "select(text         = '[지역은 오름차순, 같은 지역의 도시끼리는 내림차순으로 정렬]',\n",
    "       column       =                      'region, name, area, popu',\n",
    "       order_column =                                  'region, name',\n",
    "       order        =                                          'desc'\n",
    "      )"
   ]
  },
  {
   "cell_type": "markdown",
   "id": "f61cd57a-4b61-4979-a3fc-577551b0d5fc",
   "metadata": {},
   "source": [
    "- ORDER BY는 보통 필드명으로도 지정하지만, 각 필드의 인덱스 값으로도 지정할 수 있다.\n",
    "    - 단, SQL에서는 인덱스가 1번부터 시작한다.\n",
    "    \n",
    "- WHERE 절과 함께 사용할때는 ORDER BY가 WHERE보다 뒤에 있어야 한다."
   ]
  },
  {
   "cell_type": "code",
   "execution_count": 36,
   "id": "8679d6d7-393d-4b51-9bbb-dc984d48aa61",
   "metadata": {},
   "outputs": [
    {
     "name": "stdout",
     "output_type": "stream",
     "text": [
      "[query] select  * from tCity order by 2 asc;\n",
      "\n",
      "[ORDER BY INDEX 2]\n",
      "('오산', 42, 21, 'n', '경기')\n",
      "('전주', 205, 65, 'n', '전라')\n",
      "('서울', 605, 974, 'y', '경기')\n",
      "('부산', 765, 342, 'y', '경상')\n",
      "('순천', 910, 27, 'n', '전라')\n",
      "('청주', 940, 83, 'n', '충청')\n",
      "('춘천', 1116, 27, 'n', '강원')\n",
      "('홍천', 1819, 7, 'n', '강원')\n",
      "\n",
      "\n",
      "[query] select  name, popu*10000/area from tCity order by popu*10000/area asc;\n",
      "\n",
      "[이름과 인구 밀도만 표시하는데, 인구밀도를 기준으로 표시]\n",
      "('홍천', Decimal('38.4827'))\n",
      "('춘천', Decimal('241.9355'))\n",
      "('순천', Decimal('296.7033'))\n",
      "('청주', Decimal('882.9787'))\n",
      "('전주', Decimal('3170.7317'))\n",
      "('부산', Decimal('4470.5882'))\n",
      "('오산', Decimal('5000.0000'))\n",
      "('서울', Decimal('16099.1736'))\n",
      "\n",
      "\n",
      "[query] select  * from tCity where region=\"경기\"order by area asc;\n",
      "\n",
      "[경기도면서, area 오름차순 정렬]\n",
      "('오산', 42, 21, 'n', '경기')\n",
      "('서울', 605, 974, 'y', '경기')\n",
      "\n",
      "\n"
     ]
    }
   ],
   "source": [
    "## 아래 쿼리문은 SELECT * FROM tCity ORDER BY area;와 동일한 결과 셋을 반환한다.\n",
    "select('[ORDER BY INDEX 2]', order_column = '2')\n",
    "\n",
    "## 아래 쿼리문은 도시 이름과 인구밀도를 반환한다.\n",
    "select('[이름과 인구 밀도만 표시하는데, 인구밀도를 기준으로 표시]', column = 'name, popu*10000/area'\n",
    "       , order_column = 'popu*10000/area')\n",
    "\n",
    "\n",
    "## 아래 쿼리문은 경기 지역인 도시들 중에서 면적순으로 정렬한 결과를 반환한다.\n",
    "select('[경기도면서, area 오름차순 정렬]', cond = 'region=\"경기\"', order_column = 'area')"
   ]
  },
  {
   "cell_type": "markdown",
   "id": "c7411c80-6e50-44ff-932c-4a5984bd51da",
   "metadata": {},
   "source": [
    "##### **연습 문제 #009.** \n",
    "\n",
    "> Q1. 직원 목록을 월급이 적은 사람부터 순서대로 정렬하되 월급이 같다면 성취도가 높은 사람을 먼저 출력하라  \n",
    "> Q2. 영업부 직원을 먼저 입사한 순서대로 정렬하라."
   ]
  },
  {
   "cell_type": "code",
   "execution_count": 37,
   "id": "6df18be2-42f9-4fce-9cb3-2e53123d0bd0",
   "metadata": {},
   "outputs": [
    {
     "name": "stdout",
     "output_type": "stream",
     "text": [
      "[query] select  * from tStaff order by salary, score desc;\n",
      "\n",
      "[A1.]\n",
      "('안중근', '인사과', '남', datetime.date(2012, 5, 5), '대리', 256, Decimal('76.50'))\n",
      "('황진이', '인사과', '여', datetime.date(2012, 5, 5), '사원', 275, Decimal('52.50'))\n",
      "('성삼문', '영업부', '남', datetime.date(2014, 6, 8), '대리', 285, Decimal('87.75'))\n",
      "('허난설헌', '인사과', '여', datetime.date(2020, 1, 5), '사원', 285, Decimal('44.50'))\n",
      "('대조영', '총무부', '남', datetime.date(2020, 7, 7), '차장', 290, Decimal('49.90'))\n",
      "('선덕여왕', '인사과', '여', datetime.date(2017, 8, 3), '사원', 315, Decimal('45.10'))\n",
      "('강감찬', '영업부', '남', datetime.date(2018, 10, 9), '사원', 320, Decimal('56.00'))\n",
      "('을지문덕', '영업부', '남', datetime.date(2019, 6, 29), '사원', 330, None)\n",
      "('논개', '인사과', '여', datetime.date(2010, 9, 16), '대리', 340, Decimal('46.20'))\n",
      "('윤봉길', '영업부', '남', datetime.date(2015, 8, 15), '과장', 350, Decimal('71.25'))\n",
      "('정몽주', '총무부', '남', datetime.date(2010, 9, 16), '대리', 370, Decimal('89.50'))\n",
      "('안창호', '영업부', '남', datetime.date(2015, 8, 15), '사원', 370, Decimal('74.20'))\n",
      "('이사부', '총무부', '남', datetime.date(2000, 2, 3), '대리', 375, Decimal('50.00'))\n",
      "('홍길동', '인사과', '남', datetime.date(2019, 8, 8), '차장', 380, Decimal('77.70'))\n",
      "('정약용', '총무부', '남', datetime.date(2020, 3, 14), '과장', 380, Decimal('69.80'))\n",
      "('유관순', '영업부', '여', datetime.date(2009, 3, 1), '과장', 380, None)\n",
      "('이율곡', '총무부', '남', datetime.date(2016, 3, 8), '과장', 385, Decimal('65.40'))\n",
      "('신사임당', '영업부', '여', datetime.date(2013, 6, 19), '부장', 400, Decimal('92.00'))\n",
      "('김유신', '총무부', '남', datetime.date(2000, 2, 3), '이사', 420, Decimal('88.80'))\n",
      "('장보고', '인사과', '남', datetime.date(2005, 4, 1), '부장', 440, Decimal('58.30'))\n",
      "\n",
      "\n",
      "[query] select  * from tStaff where depart=\"영업부\"order by joindate asc;\n",
      "\n",
      "[A2.]\n",
      "('유관순', '영업부', '여', datetime.date(2009, 3, 1), '과장', 380, None)\n",
      "('신사임당', '영업부', '여', datetime.date(2013, 6, 19), '부장', 400, Decimal('92.00'))\n",
      "('성삼문', '영업부', '남', datetime.date(2014, 6, 8), '대리', 285, Decimal('87.75'))\n",
      "('안창호', '영업부', '남', datetime.date(2015, 8, 15), '사원', 370, Decimal('74.20'))\n",
      "('윤봉길', '영업부', '남', datetime.date(2015, 8, 15), '과장', 350, Decimal('71.25'))\n",
      "('강감찬', '영업부', '남', datetime.date(2018, 10, 9), '사원', 320, Decimal('56.00'))\n",
      "('을지문덕', '영업부', '남', datetime.date(2019, 6, 29), '사원', 330, None)\n",
      "\n",
      "\n"
     ]
    }
   ],
   "source": [
    "select('[A1.]'                       , table_name   = 'tStaff', \n",
    "       order_column = 'salary, score', order        = 'desc')\n",
    "\n",
    "select('[A2.]'               , table_name   = 'tStaff',\n",
    "       cond = 'depart=\"영업부\"', order_column = 'joindate')"
   ]
  },
  {
   "cell_type": "markdown",
   "id": "ed2aa35a-19c1-4437-b0da-c6175c51cb85",
   "metadata": {},
   "source": [
    "### 3-2. DISTINCT\n",
    "- 테이블에 데이터가 많아지는 경우에 SELECT 하는 것만으로도 시간이 오래걸린다.\n",
    "    - 이러한 문제를 해소하기 위해 중복된 데이터는 출력하지 않는 등 여러 방법을 사용한다.\n",
    "    - 중복된 값을 제거할 때는 DISTINCT를 사용한다.\n",
    "    \n",
    "    ~~~ SQL\n",
    "        SELECT DISTINC * FROM [테이블 명]\n",
    "    ~~~"
   ]
  },
  {
   "cell_type": "code",
   "execution_count": 38,
   "id": "986c5a0b-dae7-4529-b45e-9ace1633a8bf",
   "metadata": {},
   "outputs": [
    {
     "name": "stdout",
     "output_type": "stream",
     "text": [
      "[query] select  region from tCity ;\n",
      "\n",
      "[all data showing even 중복]\n",
      "('경상',)\n",
      "('경기',)\n",
      "('전라',)\n",
      "('경기',)\n",
      "('전라',)\n",
      "('충청',)\n",
      "('강원',)\n",
      "('강원',)\n",
      "\n",
      "\n",
      "[query] select distinct region from tCity ;\n",
      "\n",
      "[without 중복 데이터]\n",
      "('경상',)\n",
      "('경기',)\n",
      "('전라',)\n",
      "('충청',)\n",
      "('강원',)\n",
      "\n",
      "\n",
      "[query] select distinct region from tCity order by region asc;\n",
      "\n",
      "[without 중복 데이터, region asc]\n",
      "('강원',)\n",
      "('경기',)\n",
      "('경상',)\n",
      "('전라',)\n",
      "('충청',)\n",
      "\n",
      "\n"
     ]
    }
   ],
   "source": [
    "select('[all data showing even 중복]', column = 'region')\n",
    "\n",
    "## 아래 쿼리문은 중복된 데이터는 한 번만 보여준다.\n",
    "select('[without 중복 데이터]', column = 'region', distinct = True)\n",
    "\n",
    "## 아래 쿼리문은 중복된 데이터는 제거하고, 지역 이름을 오름차순으로 정렬한다.\n",
    "select('[without 중복 데이터, region asc]', column = 'region', distinct = True,\n",
    "        order_column = 'region')"
   ]
  },
  {
   "cell_type": "markdown",
   "id": "b6849b5c-d5e9-4f47-a0e0-9b63cd4fb96c",
   "metadata": {},
   "source": [
    "##### **연습 문제 #010.** \n",
    "\n",
    "> Q1. 2020년 이후 신입 사원을 받은 적 있는 부서 목록을 조사하라"
   ]
  },
  {
   "cell_type": "code",
   "execution_count": 39,
   "id": "6e9cb0e2-d98a-4360-8d74-1fe15cc7618a",
   "metadata": {},
   "outputs": [
    {
     "name": "stdout",
     "output_type": "stream",
     "text": [
      "[query] select distinct depart from tStaff where joindate >= 20200101;\n",
      "\n",
      "[A1.]\n",
      "('총무부',)\n",
      "('인사과',)\n",
      "\n",
      "\n"
     ]
    }
   ],
   "source": [
    "select('[A1.]'          , distinct = True, table_name = 'tStaff',\n",
    "       column = 'depart', cond     = 'joindate >= 20200101')"
   ]
  },
  {
   "cell_type": "markdown",
   "id": "e2b591d7-5bac-4a5d-95f2-ecb28b71524b",
   "metadata": {},
   "source": [
    "### **3-3. LIMIT**\n",
    "- LIMIT 문은 테이블 내의 k개의 레코드를 뽑아내준다.\n",
    "    - 오라클에서는 의사 컬럼, SQL Server에서는 TOP문을 사용한다.\n",
    "    ~~~SQL\n",
    "        - SQL Server : SELECT TOP k [필드명] FROM [테이블 명];\n",
    "        - Maria DB   : SELECT [필드명] FROM [테이블 명] LIMIT [건너뛸 개수], k;\n",
    "    ~~~\n",
    "    - 건너뛸 개수를 비워두면 기본 값은 0으로 적용되어 첫 행부터 출력된다."
   ]
  },
  {
   "cell_type": "code",
   "execution_count": 40,
   "id": "a0b4bd2d-18bf-47c5-a054-72bf0954043c",
   "metadata": {},
   "outputs": [
    {
     "name": "stdout",
     "output_type": "stream",
     "text": [
      "[query] select  * from tCity order by area desc limit 4;\n",
      "\n",
      "[면적이 넓은 상위 4개 도시]\n",
      "('홍천', 1819, 7, 'n', '강원')\n",
      "('춘천', 1116, 27, 'n', '강원')\n",
      "('청주', 940, 83, 'n', '충청')\n",
      "('순천', 910, 27, 'n', '전라')\n",
      "\n",
      "\n",
      "[query] select  * from tCity  limit 2, 3;\n",
      "\n",
      "[맨 앞 2개 건너뛰고, 그 다음 3개]\n",
      "('순천', 910, 27, 'n', '전라')\n",
      "('오산', 42, 21, 'n', '경기')\n",
      "('전주', 205, 65, 'n', '전라')\n",
      "\n",
      "\n",
      "[맨 앞 2개 건너뛰고, 그 다음 3개]\n",
      "('청주', 940, 83, 'n', '충청')\n",
      "('순천', 910, 27, 'n', '전라')\n",
      "('부산', 765, 342, 'y', '경상')\n",
      "\n",
      "\n"
     ]
    }
   ],
   "source": [
    "## 아래 쿼리문은 면적이 넓은 상위 4개의 도시\n",
    "select('[면적이 넓은 상위 4개 도시]', order_column = 'area', \n",
    "       order = 'desc', limit_k = 4)\n",
    "\n",
    "## 아래 쿼리문은 다음 구문 2개는 건너뛰고, 이후 3개의 행을 보여준다.\n",
    "select('[맨 앞 2개 건너뛰고, 그 다음 3개]', limit_k = '2, 3')\n",
    "\n",
    "## 아래 쿼리문은 위의 쿼리문과 동일한 결과 셋을 출력한다.\n",
    "print('[맨 앞 2개 건너뛰고, 그 다음 3개]')\n",
    "cursor.execute('select * from tCity order by area desc limit 3 offset 2')\n",
    "for result in cursor.fetchall(): print(f'{result}')\n",
    "print('\\n')"
   ]
  },
  {
   "cell_type": "markdown",
   "id": "6133e237-52af-4ca9-9b3f-bafc83f8e423",
   "metadata": {},
   "source": [
    "##### **연습 문제 #010.** \n",
    "\n",
    "> Q1. 직원을 월급순으로 정렬한 후 12위에서 16위까지 출력하라."
   ]
  },
  {
   "cell_type": "code",
   "execution_count": 41,
   "id": "3f35a554-d0a1-4833-9ec3-c7d5feea8fe5",
   "metadata": {},
   "outputs": [
    {
     "name": "stdout",
     "output_type": "stream",
     "text": [
      "[query] select  * from tStaff order by salary desc limit 12, 5;\n",
      "\n",
      "[A1.]\n",
      "('을지문덕', '영업부', '남', datetime.date(2019, 6, 29), '사원', 330, None)\n",
      "('강감찬', '영업부', '남', datetime.date(2018, 10, 9), '사원', 320, Decimal('56.00'))\n",
      "('선덕여왕', '인사과', '여', datetime.date(2017, 8, 3), '사원', 315, Decimal('45.10'))\n",
      "('대조영', '총무부', '남', datetime.date(2020, 7, 7), '차장', 290, Decimal('49.90'))\n",
      "('허난설헌', '인사과', '여', datetime.date(2020, 1, 5), '사원', 285, Decimal('44.50'))\n",
      "\n",
      "\n"
     ]
    }
   ],
   "source": [
    "select('[A1.]', table_name = 'tStaff', order_column = 'salary',\n",
    "        limit_k = '12, 5', order = 'desc')"
   ]
  },
  {
   "cell_type": "code",
   "execution_count": 42,
   "id": "fdb20ced-6239-4e75-86b0-7b0f54dc135d",
   "metadata": {},
   "outputs": [],
   "source": [
    "conn.commit()\n",
    "conn.close()"
   ]
  },
  {
   "cell_type": "markdown",
   "id": "e27cc5bb-7583-4da3-90dd-ad6897732f92",
   "metadata": {},
   "source": [
    "# **99. 참고자료**\n",
    "## **99-1. 도서** \n",
    "- 소문난 명강의 - 김상형의 SQL 정복 | 김상형 저 / 한빛 미디어\n",
    "\n",
    "## **99-2. 논문, 학술지**\n",
    "\n",
    "## **99-3. 웹 사이트**\n",
    "\n",
    "## **99-4. 데이터셋 출처**\n"
   ]
  },
  {
   "cell_type": "code",
   "execution_count": null,
   "id": "4382d541-86c2-473d-8aee-642aaa8958e3",
   "metadata": {},
   "outputs": [],
   "source": []
  }
 ],
 "metadata": {
  "kernelspec": {
   "display_name": "DS",
   "language": "python",
   "name": "ds"
  },
  "language_info": {
   "codemirror_mode": {
    "name": "ipython",
    "version": 3
   },
   "file_extension": ".py",
   "mimetype": "text/x-python",
   "name": "python",
   "nbconvert_exporter": "python",
   "pygments_lexer": "ipython3",
   "version": "3.10.12"
  }
 },
 "nbformat": 4,
 "nbformat_minor": 5
}
