{
 "cells": [
  {
   "cell_type": "code",
   "execution_count": 1,
   "metadata": {},
   "outputs": [
    {
     "name": "stdout",
     "output_type": "stream",
     "text": [
      "[INFO] config.json 파일을 로딩합니다.\n",
      "[INFO] ports.json 파일을 로딩합니다.\n"
     ]
    }
   ],
   "source": [
    "import json\n",
    "import sys\n",
    "import os\n",
    "\n",
    "from easydict import EasyDict as edict\n",
    "import pymysql as sql\n",
    "\n",
    "## 하위 폴더에 있는 패키지 로딩을 위한 밑작업\n",
    "SEP       = os.path.sep\n",
    "MISC_PATH = SEP.join(os.getcwd().split(SEP)[:-2])\n",
    "ROOT_PATH = SEP.join(os.getcwd().split(SEP)[:-4])\n",
    "sys.path.append(MISC_PATH)\n",
    "\n",
    "from misc.config import *\n",
    "from misc.utils import *"
   ]
  },
  {
   "cell_type": "code",
   "execution_count": 2,
   "metadata": {},
   "outputs": [],
   "source": [
    "host   = CONFIGS.global_host\n",
    "port   = PORTS.sql_port\n",
    "user   = CONFIGS.sql_user\n",
    "passwd = CONFIGS.sql_passwd"
   ]
  },
  {
   "cell_type": "code",
   "execution_count": 3,
   "metadata": {},
   "outputs": [],
   "source": [
    "## DB 서버에 연결\n",
    "conn   = sql.connect(host     = host, user = user, port = port,\n",
    "                     password = passwd, db = 'study')\n",
    "\n",
    "cursor = conn.cursor()"
   ]
  },
  {
   "cell_type": "markdown",
   "metadata": {
    "id": "ShZpIxef9Xa-"
   },
   "source": [
    "## **1. 제약**\n",
    "### 1-1. 무결성 관리 \n",
    "- 데이터 베이스에 데이터가 결함없이 완벽한 상태를 무결성이라한다.\n",
    "    - 무결성이 깨지면 데이터를 사용하는 응용 프로그램이 제대로 돌아갈 수 없다.\n",
    "    - 버그에 의해 데이터가 깨질 수도 있는데, 오류에 대처하는 방어 체계를 갖춰야 한다.\n",
    "      \n",
    "- 데이터를 처리하는 단계별로 서버측과 클라이언트측이 각자의 무결성 관리 정책을 제공한다.\n",
    "    - 클라이언트 측에는 입력한 정보에 맞게 라디오 버튼, 리스트 박스 등의 컨트럴로 오입력을 차단한다.\n",
    "    - 서버 측에서는 DBMS가 규칙을 기억하고 있다가 비정상 데이터의 입력을 거부한다.\n",
    "    - 적용 범위에 따라 세가지로 구분된다.\n",
    "      \n",
    "     |무결성|설명|\n",
    "     |:--|:--|\n",
    "     |컬럼 무결성|컬럼 하나에 저장되는 원자적인 값을 점검한다.|\n",
    "     |엔티티 무결성|레코드끼리 중복값을 가지지 않도록 하여 유일한 식별자를 관리한다.|\n",
    "     |참조 무결성|테이블 간 관계를 구성하는 키가 항상 유효하도록 관리하며 외래키 제약으로 관리한다.|\n",
    "\n",
    "- 테이블을 생성할 때 쿼리문에서 Null, Not null, primiary key로 제약을 지정할 수 있다."
   ]
  },
  {
   "cell_type": "code",
   "execution_count": 4,
   "metadata": {},
   "outputs": [
    {
     "name": "stdout",
     "output_type": "stream",
     "text": [
      "[query] insert into tCity values (\"평양\", \"넓음\", \"많음\", \"n\", \"북한\");\n",
      "[ERROR] (1366, \"Incorrect integer value: '넓음' for column `study`.`tCity`.`AREA` at row 1\")\n",
      "[ERROR] 쿼리에 문제가 발생하였습니다.\n"
     ]
    }
   ],
   "source": [
    "## 아래 쿼리문은 데이터의 타입이 달라 에러가 발생한다.\n",
    "try:\n",
    "    values  = [['\"평양\"', '\"넓음\"', '\"많음\"', '\"n\"', '\"북한\"']]\n",
    "    insert_(cursor, table_name = 'tCity', values = values)\n",
    "except Exception as e:\n",
    "    print(e)"
   ]
  },
  {
   "cell_type": "markdown",
   "metadata": {},
   "source": [
    "### 1-2. NULL 허용\n",
    "- NULL은 아무것도 입력되어 있지 않은 것이며 알 수 없거나, 결정되지 않은 특수한 상태를 의미한다.\n",
    "    - 반드시 입력해야 하는 필수 필드는 NOT NULL을 지정해 NULL 값을 허용하지 못하게 한다.\n",
    "    - NOT NULL을 지정하지 않는 경우에는 기본값으로 NULL 값을 허용한다.\n",
    "        - null 허용 속성의 기본값은 DBMS에 따라 다르며, DB나 연결 수준에서 변경할 수도 있다.\n",
    "        - 필드 선언문 끝에 항상 Null, Not null을 명시해주는 것이 좋다. \n",
    "\n",
    "~~~SQL\n",
    "    create table tCity(\n",
    "        name CHAR(10) PRIMARY KEY,\n",
    "        area INT NULL,\n",
    "        popu INT NULL,\n",
    "        metro CHAR(1) NOT NULL,\n",
    "        region CHAR(6) NOT NULL\n",
    "    );\n",
    "~~~\n",
    "- 위 커리문에서는 name, metro, region 필드는 primary key 혹은 not null  \n",
    "  속성을 가지고 있어 값을 무조건 입력해야한다."
   ]
  },
  {
   "cell_type": "code",
   "execution_count": 5,
   "metadata": {},
   "outputs": [
    {
     "name": "stdout",
     "output_type": "stream",
     "text": [
      "[query] insert into tCity (name, popu, metro, region) values ('울산', 114, 'y', '경상');\n",
      "[INFO] 데이터 삽입 완료 \n",
      "\n",
      "[query] insert into tCity (name, metro, region) values ('삼척', 'n', '강원');\n",
      "[INFO] 데이터 삽입 완료 \n",
      "\n",
      "[query] select * from tCity;\n",
      "[[쿼리 삽입 확인]]\n",
      "('부산', 765, 342, 'y', '경상')\n",
      "('삼척', None, None, 'n', '강원')\n",
      "('서울', 605, 974, 'y', '경기')\n",
      "('순천', 910, 27, 'n', '전라')\n",
      "('오산', 42, 21, 'n', '경기')\n",
      "('울산', None, 114, 'y', '경상')\n",
      "('전주', 205, 65, 'n', '전라')\n",
      "('청주', 940, 83, 'n', '충청')\n",
      "('춘천', 1116, 27, 'n', '강원')\n",
      "('홍천', 1819, 7, 'n', '강원')\n",
      "\n",
      "\n"
     ]
    }
   ],
   "source": [
    "## area와 popu는 값 생략이 가능하여, 아래 두 쿼리문은 정상 작동한다.\n",
    "column = 'name, popu, metro, region'\n",
    "values = [[\"'울산'\", \"114\", \"'y'\", \"'경상'\"]]\n",
    "insert_(cursor, table_name = 'tCity', column = column, values = values)\n",
    "\n",
    "column = 'name, metro, region'\n",
    "values = [[\"'삼척'\", \"'n'\", \"'강원'\"]]\n",
    "insert_(cursor, table_name = 'tCity', column = column, values = values)\n",
    "\n",
    "select(cursor, '[쿼리 삽입 확인]', table_name = 'tCity')"
   ]
  },
  {
   "cell_type": "code",
   "execution_count": 6,
   "metadata": {},
   "outputs": [
    {
     "name": "stdout",
     "output_type": "stream",
     "text": [
      "[query] insert into tCity (area, popu, metro, region) values (456, 123, 'n', '충청');\n",
      "[ERROR] (1364, \"Field 'NAME' doesn't have a default value\")\n",
      "[ERROR] 쿼리에 문제가 발생하였습니다.\n"
     ]
    }
   ],
   "source": [
    "## 아래 쿼리문은 null 값이 허용되지 않은 필드에도 null 값을 삽입하려고 해 에러가 발생한다.\n",
    "column = 'area, popu, metro, region'\n",
    "values = [[\"456\", \"123\", \"'n'\", \"'충청'\"]]\n",
    "insert_(cursor, table_name = 'tCity', column = column, values = values)"
   ]
  },
  {
   "cell_type": "code",
   "execution_count": 9,
   "metadata": {},
   "outputs": [
    {
     "data": {
      "text/plain": [
       "0"
      ]
     },
     "execution_count": 9,
     "metadata": {},
     "output_type": "execute_result"
    }
   ],
   "source": [
    "cursor.execute('''\n",
    "    create table if not exists tNullable(\n",
    "        name char(10) not null,\n",
    "        age int\n",
    "    )\n",
    "''')"
   ]
  },
  {
   "cell_type": "code",
   "execution_count": 13,
   "metadata": {},
   "outputs": [
    {
     "name": "stdout",
     "output_type": "stream",
     "text": [
      "[query] insert into tNullable values ('흥부', 36);\n",
      "[INFO] 데이터 삽입 완료 \n",
      "\n",
      "[query] insert into tNullable (name) values ('놀부');\n",
      "[INFO] 데이터 삽입 완료 \n",
      "\n",
      "[query] select * from tNullable;\n",
      "[[null 기본값 확인]]\n",
      "('흥부', 36)\n",
      "('놀부', None)\n",
      "\n",
      "\n"
     ]
    }
   ],
   "source": [
    "## 아래 쿼리문들을 통해 null 값을 지정하지 않아도\n",
    "## 기본적으로 null을 허용함을 알 수 있다.\n",
    "values = [[\"'흥부'\", \"36\"]]\n",
    "insert_(cursor, table_name = 'tNullable', values = values)\n",
    "\n",
    "column = 'name'\n",
    "values = [[\"'놀부'\"]]\n",
    "insert_(cursor, table_name = 'tNullable', values = values, column = column)\n",
    "\n",
    "select(cursor, '[null 기본값 확인]', table_name = 'tNullable')"
   ]
  },
  {
   "cell_type": "markdown",
   "metadata": {},
   "source": [
    "### 1-3. 기본값\n",
    "- null 허용속성은 필드값이 존재하는지 점검해야하고, 보통 값과 다루는 방식이 달라 DB속도가 저해된다.\n",
    "    - 필드에 null을 허용 속성을 지정하기 보다 기본값을 사용하는 것이 좋다.\n",
    "    - 보통 수치형은 0으로, 문자열은 ' '이나 'N/A'로 기본값을 많이 사용한다.  "
   ]
  },
  {
   "cell_type": "code",
   "execution_count": null,
   "metadata": {},
   "outputs": [],
   "source": []
  },
  {
   "cell_type": "code",
   "execution_count": null,
   "metadata": {},
   "outputs": [],
   "source": []
  },
  {
   "cell_type": "code",
   "execution_count": null,
   "metadata": {},
   "outputs": [],
   "source": []
  },
  {
   "cell_type": "code",
   "execution_count": null,
   "metadata": {},
   "outputs": [],
   "source": []
  },
  {
   "cell_type": "code",
   "execution_count": null,
   "metadata": {},
   "outputs": [],
   "source": []
  },
  {
   "cell_type": "code",
   "execution_count": null,
   "metadata": {},
   "outputs": [],
   "source": []
  },
  {
   "cell_type": "code",
   "execution_count": null,
   "metadata": {},
   "outputs": [],
   "source": []
  },
  {
   "cell_type": "code",
   "execution_count": null,
   "metadata": {},
   "outputs": [],
   "source": []
  },
  {
   "cell_type": "code",
   "execution_count": null,
   "metadata": {},
   "outputs": [],
   "source": []
  },
  {
   "cell_type": "code",
   "execution_count": null,
   "metadata": {},
   "outputs": [],
   "source": []
  },
  {
   "cell_type": "code",
   "execution_count": 14,
   "metadata": {},
   "outputs": [],
   "source": [
    "conn.commit()\n",
    "conn.close()"
   ]
  },
  {
   "cell_type": "markdown",
   "metadata": {},
   "source": [
    "# **99. 참고자료**\n",
    "## **99-1. 도서** \n",
    "- 소문난 명강의 - 김상형의 SQL 정복 | 김상형 저 / 한빛 미디어\n",
    "\n",
    "## **99-2. 논문, 학술지**\n",
    "\n",
    "## **99-3. 웹 사이트**\n",
    "\n",
    "## **99-4. 데이터셋 출처**\n"
   ]
  },
  {
   "cell_type": "code",
   "execution_count": null,
   "metadata": {},
   "outputs": [],
   "source": []
  }
 ],
 "metadata": {
  "accelerator": "GPU",
  "colab": {
   "authorship_tag": "ABX9TyPz9VtDNpThZgOFDvRU/rPu",
   "collapsed_sections": [],
   "include_colab_link": true,
   "provenance": []
  },
  "kernelspec": {
   "display_name": "DS",
   "language": "python",
   "name": "ds"
  },
  "language_info": {
   "codemirror_mode": {
    "name": "ipython",
    "version": 3
   },
   "file_extension": ".py",
   "mimetype": "text/x-python",
   "name": "python",
   "nbconvert_exporter": "python",
   "pygments_lexer": "ipython3",
   "version": "3.10.12"
  }
 },
 "nbformat": 4,
 "nbformat_minor": 4
}
