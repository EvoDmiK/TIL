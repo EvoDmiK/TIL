{
 "cells": [
  {
   "cell_type": "code",
   "execution_count": 1,
   "metadata": {},
   "outputs": [
    {
     "name": "stdout",
     "output_type": "stream",
     "text": [
      "[INFO] config.json 파일을 로딩합니다.\n",
      "[INFO] ports.json 파일을 로딩합니다.\n"
     ]
    }
   ],
   "source": [
    "import json\n",
    "import sys\n",
    "import os\n",
    "\n",
    "from easydict import EasyDict as edict\n",
    "import pymysql as sql\n",
    "\n",
    "## 하위 폴더에 있는 패키지 로딩을 위한 밑작업\n",
    "SEP       = os.path.sep\n",
    "MISC_PATH = SEP.join(os.getcwd().split(SEP)[:-2])\n",
    "ROOT_PATH = SEP.join(os.getcwd().split(SEP)[:-4])\n",
    "sys.path.append(MISC_PATH)\n",
    "\n",
    "from misc.config import *\n",
    "from misc.utils import *"
   ]
  },
  {
   "cell_type": "code",
   "execution_count": 2,
   "metadata": {},
   "outputs": [],
   "source": [
    "host   = CONFIGS.global_host\n",
    "port   = PORTS.sql_port\n",
    "user   = CONFIGS.sql_user\n",
    "passwd = CONFIGS.sql_passwd"
   ]
  },
  {
   "cell_type": "code",
   "execution_count": 3,
   "metadata": {},
   "outputs": [],
   "source": [
    "## DB 서버에 연결\n",
    "conn   = sql.connect(host     = host, user = user, port = port,\n",
    "                     password = passwd, db = 'study')\n",
    "\n",
    "cursor = conn.cursor()"
   ]
  },
  {
   "cell_type": "markdown",
   "metadata": {},
   "source": [
    "## **1. 삽입**\n",
    "### 1-1. INSERT\n",
    "~~~SQL\n",
    "    INSERT INTO [테이블] ([필드 목록]) VALUES ([값 목록]);\n",
    "~~~\n",
    "- SQL Server나 Maria DB에서는 INTO를 생략하는 것을 허용있다.\n",
    "    - 오라클을 포함한 일부 DBMS는 INTO를 생략하면 에러를 발생한다.\n",
    "    - SQL 표준에는 INTO가 필수로 되어 있어 같이 사용하는 것이 좋다.\n",
    " \n",
    "- 모든 필드에 값을 추가할 때는 필드 목록을 생략할 수 있다.\n",
    "~~~SQL\n",
    "    INSERT INTO [테이블] VALUES ([값 목록]);\n",
    "~~~\n",
    "\n",
    "- SQL Server와 MariaDB는 이름순으로 정렬하여 춘천과 홍천 사이에 평택이 삽입된다.\n",
    "- 필드 목록을 명시하지 않는 경우에는 미리 선언한 필드 목록의 순서와 동일하게 데이터를 넣어야한다."
   ]
  },
  {
   "cell_type": "code",
   "execution_count": 4,
   "metadata": {},
   "outputs": [
    {
     "name": "stdout",
     "output_type": "stream",
     "text": [
      "[query] insert into tCity (NAME, AREA, POPU, METRO, REGION) values (\"논산\", 554, 12, \"n\", \"충청\");\n",
      "[INFO] 데이터 삽입 완료 \n",
      "\n",
      "[query] select * from tCity;\n",
      "[논산 데이터 삽입]\n",
      "('논산', 554, 12, 'n', '충청')\n",
      "('부산', 765, 342, 'y', '경상')\n",
      "('서울', 605, 974, 'y', '경기')\n",
      "('순천', 910, 27, 'n', '전라')\n",
      "('오산', 42, 21, 'n', '경기')\n",
      "('전주', 205, 65, 'n', '전라')\n",
      "('청주', 940, 83, 'n', '충청')\n",
      "('춘천', 1116, 27, 'n', '강원')\n",
      "('홍천', 1819, 7, 'n', '강원')\n",
      "\n",
      "\n",
      "[query] insert into tCity values (\"평택\", 453, 51, \"n\", \"경기\");\n",
      "[INFO] 데이터 삽입 완료 \n",
      "\n",
      "[query] select * from tCity;\n",
      "[평택 데이터 삽입]\n",
      "('논산', 554, 12, 'n', '충청')\n",
      "('부산', 765, 342, 'y', '경상')\n",
      "('서울', 605, 974, 'y', '경기')\n",
      "('순천', 910, 27, 'n', '전라')\n",
      "('오산', 42, 21, 'n', '경기')\n",
      "('전주', 205, 65, 'n', '전라')\n",
      "('청주', 940, 83, 'n', '충청')\n",
      "('춘천', 1116, 27, 'n', '강원')\n",
      "('평택', 453, 51, 'n', '경기')\n",
      "('홍천', 1819, 7, 'n', '강원')\n",
      "\n",
      "\n"
     ]
    }
   ],
   "source": [
    "values  = [['\"논산\"', '554', '12', '\"n\"', '\"충청\"']]\n",
    "columns = 'NAME, AREA, POPU, METRO, REGION'\n",
    "insert_(cursor, 'tCity', column = columns, values = values)\n",
    "select(cursor, '논산 데이터 삽입', table_name = 'tCity')\n",
    "\n",
    "values  = [['\"평택\"', '453', '51', '\"n\"', '\"경기\"']]\n",
    "insert_(cursor, 'tCity', values)\n",
    "select(cursor, '평택 데이터 삽입', table_name = 'tCity')"
   ]
  },
  {
   "cell_type": "markdown",
   "metadata": {},
   "source": [
    "### 1-2. COMMIT, ROLLBACK\n",
    "- DB에 데이터를 삽입하면 commit을 하기 전에는 임시 영역에서 삽입 대기 상태로 남아있다.\n",
    "    - 임시 영역에 변경 사항이 이상 없는 경우 테이블에 적용하는 commit 시킨다.\n",
    "    - 데이터를 잘 못 넣었을 경우 rollback을 통해 변경 사항을 취소할 수 있다.\n",
    " \n",
    "~~~SQL\n",
    "    - COMMIT;\n",
    "    - ROLLBACK;\n",
    "~~~\n",
    "- pymysql에서는 conn.commit()을 통해 commit시켜 준다."
   ]
  },
  {
   "cell_type": "markdown",
   "metadata": {},
   "source": [
    "##### **연습 문제 #001.** \n",
    "\n",
    "> Q1. 도시 목록에 용인을 삽입하라. 면적 293에 인구 98만이되 데이터는 임의값을 써도 상관없다.  \n",
    "> Q2. 직원 목록에 자신의 신상을 삽입해 보아라."
   ]
  },
  {
   "cell_type": "code",
   "execution_count": 5,
   "metadata": {},
   "outputs": [
    {
     "name": "stdout",
     "output_type": "stream",
     "text": [
      "[query] insert into tCity values (\"용인\", 293, 98, \"n\", \"경기\");\n",
      "[INFO] 데이터 삽입 완료 \n",
      "\n",
      "[query] insert into tStaff values (\"김둘기\", \"개발팀\", \"남\", \"2023-08-16\", \"대리\", 999, 89.80);\n",
      "[INFO] 데이터 삽입 완료 \n",
      "\n"
     ]
    }
   ],
   "source": [
    "values = [['\"용인\"', '293', '98', '\"n\"', '\"경기\"']]\n",
    "insert_(cursor, 'tCity', values)\n",
    "\n",
    "values = [['\"김둘기\"', '\"개발팀\"', '\"남\"', '\"2023-08-16\"', '\"대리\"', '999', '89.80']]\n",
    "insert_(cursor, 'tStaff', values)"
   ]
  },
  {
   "cell_type": "code",
   "execution_count": 6,
   "metadata": {},
   "outputs": [
    {
     "name": "stdout",
     "output_type": "stream",
     "text": [
      "[query] select * from tCity;\n",
      "[[A1. Result]]\n",
      "('논산', 554, 12, 'n', '충청')\n",
      "('부산', 765, 342, 'y', '경상')\n",
      "('서울', 605, 974, 'y', '경기')\n",
      "('순천', 910, 27, 'n', '전라')\n",
      "('오산', 42, 21, 'n', '경기')\n",
      "('용인', 293, 98, 'n', '경기')\n",
      "('전주', 205, 65, 'n', '전라')\n",
      "('청주', 940, 83, 'n', '충청')\n",
      "('춘천', 1116, 27, 'n', '강원')\n",
      "('평택', 453, 51, 'n', '경기')\n",
      "('홍천', 1819, 7, 'n', '강원')\n",
      "\n",
      "\n",
      "[query] select * from tStaff;\n",
      "[[A2. Result]]\n",
      "('강감찬', '영업부', '남', datetime.date(2018, 10, 9), '사원', 320, Decimal('56.00'))\n",
      "('김둘기', '개발팀', '남', datetime.date(2023, 8, 16), '대리', 999, Decimal('89.80'))\n",
      "('김유신', '총무부', '남', datetime.date(2000, 2, 3), '이사', 420, Decimal('88.80'))\n",
      "('논개', '인사과', '여', datetime.date(2010, 9, 16), '대리', 340, Decimal('46.20'))\n",
      "('대조영', '총무부', '남', datetime.date(2020, 7, 7), '차장', 290, Decimal('49.90'))\n",
      "('선덕여왕', '인사과', '여', datetime.date(2017, 8, 3), '사원', 315, Decimal('45.10'))\n",
      "('성삼문', '영업부', '남', datetime.date(2014, 6, 8), '대리', 285, Decimal('87.75'))\n",
      "('신사임당', '영업부', '여', datetime.date(2013, 6, 19), '부장', 400, Decimal('92.00'))\n",
      "('안중근', '인사과', '남', datetime.date(2012, 5, 5), '대리', 256, Decimal('76.50'))\n",
      "('안창호', '영업부', '남', datetime.date(2015, 8, 15), '사원', 370, Decimal('74.20'))\n",
      "('유관순', '영업부', '여', datetime.date(2009, 3, 1), '과장', 380, None)\n",
      "('윤봉길', '영업부', '남', datetime.date(2015, 8, 15), '과장', 350, Decimal('71.25'))\n",
      "('을지문덕', '영업부', '남', datetime.date(2019, 6, 29), '사원', 330, None)\n",
      "('이사부', '총무부', '남', datetime.date(2000, 2, 3), '대리', 375, Decimal('50.00'))\n",
      "('이율곡', '총무부', '남', datetime.date(2016, 3, 8), '과장', 385, Decimal('65.40'))\n",
      "('장보고', '인사과', '남', datetime.date(2005, 4, 1), '부장', 440, Decimal('58.30'))\n",
      "('정몽주', '총무부', '남', datetime.date(2010, 9, 16), '대리', 370, Decimal('89.50'))\n",
      "('정약용', '총무부', '남', datetime.date(2020, 3, 14), '과장', 380, Decimal('69.80'))\n",
      "('허난설헌', '인사과', '여', datetime.date(2020, 1, 5), '사원', 285, Decimal('44.50'))\n",
      "('홍길동', '인사과', '남', datetime.date(2019, 8, 8), '차장', 380, Decimal('77.70'))\n",
      "('황진이', '인사과', '여', datetime.date(2012, 5, 5), '사원', 275, Decimal('52.50'))\n",
      "\n",
      "\n"
     ]
    }
   ],
   "source": [
    "select(cursor, \"[A1. Result]\", table_name = 'tCity')\n",
    "select(cursor, \"[A2. Result]\", table_name = 'tStaff')"
   ]
  },
  {
   "cell_type": "markdown",
   "metadata": {},
   "source": [
    "### 1-3. 확장 INSERT 문\n",
    "- 여러개의 필드를 한 번에 삽입하려면 삽입하고자 하는 필드들을 한 번에 명시해주면 된다.\n",
    "~~~SQL\n",
    "    INSERT INTO [테이블] (필드명) VALUES ([데이터 1]), ..., ([데이터 n])\n",
    "~~~\n",
    "- SQL Server, MariaDB 등 많은 DBMS에서는 지원하지만, ORACLE에서는 지원하지 않는다."
   ]
  },
  {
   "cell_type": "markdown",
   "metadata": {},
   "source": [
    "##### **연습 문제 #002.** \n",
    "\n",
    "> Q1. 도시 목록에 아래 데이터들을 삽입하라  \n",
    "> (이천, 461, 21, n, 경기), (대구, 883, 248, y, 경상), (영월, 1127, 4, n, 강원)"
   ]
  },
  {
   "cell_type": "code",
   "execution_count": 7,
   "metadata": {},
   "outputs": [
    {
     "name": "stdout",
     "output_type": "stream",
     "text": [
      "[query] insert into tCity values (\"이천\", 461, 21, \"n\", \"경기\"), (\"대구\", 884, 248, \"y\", \"경상\"), (\"영월\", 1127, 4, \"n\", \"강원\");\n",
      "[INFO] 데이터 삽입 완료 \n",
      "\n",
      "[query] select * from tCity;\n",
      "[[A1. Result]]\n",
      "('논산', 554, 12, 'n', '충청')\n",
      "('대구', 884, 248, 'y', '경상')\n",
      "('부산', 765, 342, 'y', '경상')\n",
      "('서울', 605, 974, 'y', '경기')\n",
      "('순천', 910, 27, 'n', '전라')\n",
      "('영월', 1127, 4, 'n', '강원')\n",
      "('오산', 42, 21, 'n', '경기')\n",
      "('용인', 293, 98, 'n', '경기')\n",
      "('이천', 461, 21, 'n', '경기')\n",
      "('전주', 205, 65, 'n', '전라')\n",
      "('청주', 940, 83, 'n', '충청')\n",
      "('춘천', 1116, 27, 'n', '강원')\n",
      "('평택', 453, 51, 'n', '경기')\n",
      "('홍천', 1819, 7, 'n', '강원')\n",
      "\n",
      "\n"
     ]
    }
   ],
   "source": [
    "values = [\n",
    "          ['\"이천\"', '461',  '21', '\"n\"', '\"경기\"'],\n",
    "          ['\"대구\"', '884', '248', '\"y\"', '\"경상\"'],\n",
    "          ['\"영월\"', '1127', '4', '\"n\"', '\"강원\"']\n",
    "         ]\n",
    "\n",
    "insert_(cursor, table_name = 'tCity', values = values)\n",
    "select(cursor, '[A1. Result]', table_name = 'tCity')"
   ]
  },
  {
   "cell_type": "markdown",
   "metadata": {},
   "source": [
    "### 1-4. INSERT SELECT 문\n",
    "- 이미 저장되어 있는 정보를 복사할 때 INSERT SELECT 문을 사용한다.\n",
    "~~~SQL\n",
    "    INSERT INTO [타겟 테이블]([필드명]) SELECT ... FROM [원본 테이블];\n",
    "~~~\n",
    "\n",
    "- 유사하게 CREATE SELECT문은 새로운 테이블을 만들어 결과셋을 삽입한다.\n",
    "    - 백업 테이블을 만들어 작업하기 위해 이 구문을 이용할 수 있다.\n",
    "    - SQL Server는 CREATE SELECT 대신 SELECT INTO 명령을 사용해 복사할 수 있다.\n",
    " \n",
    "~~~SQL\n",
    "    CREATE TABLE [대상 테이블] AS SELECT [필드 목록] FROM [원본 테이블];\n",
    "~~~\n",
    "\n",
    "- 데이터만 복사할 뿐 기본키나 외래키 같은 제약 조건까지 복사하지 않는다."
   ]
  },
  {
   "cell_type": "code",
   "execution_count": 8,
   "metadata": {},
   "outputs": [
    {
     "name": "stdout",
     "output_type": "stream",
     "text": [
      "[query] select * from tSudo;\n",
      "[[create tSudo]]\n",
      "('서울', 605, 974)\n",
      "('오산', 42, 21)\n",
      "('용인', 293, 98)\n",
      "('이천', 461, 21)\n",
      "('평택', 453, 51)\n",
      "\n",
      "\n"
     ]
    }
   ],
   "source": [
    "## 아래 쿼리문은 tCity테이블에서 경기도 지역 도시만으로 테이블을 생성한다.\n",
    "query = 'create table if not exists tSudo as select name, area, popu from tCity where region = \"경기\"'\n",
    "\n",
    "cursor.execute(query)\n",
    "\n",
    "select(cursor, '[create tSudo]', table_name = 'tSudo')"
   ]
  },
  {
   "cell_type": "markdown",
   "metadata": {},
   "source": [
    "##### **연습 문제 #003.** \n",
    "\n",
    "> Q1. 성취도가 80점 이상인 직원만 골라 이름과 월급에 대한 보고서를  \n",
    "> &nbsp;&nbsp;&nbsp;&nbsp;&nbsp;&nbsp;별도의 테이블로 작성하라."
   ]
  },
  {
   "cell_type": "code",
   "execution_count": 9,
   "metadata": {},
   "outputs": [
    {
     "name": "stdout",
     "output_type": "stream",
     "text": [
      "[query] select * from tReport;\n",
      "[[A1. Result]]\n",
      "('김둘기', 999)\n",
      "('김유신', 420)\n",
      "('성삼문', 285)\n",
      "('신사임당', 400)\n",
      "('정몽주', 370)\n",
      "\n",
      "\n",
      "[query] select name, salary, score from tStaff where score >= 80;\n",
      "[[A1. REF]]\n",
      "('김둘기', 999, Decimal('89.80'))\n",
      "('김유신', 420, Decimal('88.80'))\n",
      "('성삼문', 285, Decimal('87.75'))\n",
      "('신사임당', 400, Decimal('92.00'))\n",
      "('정몽주', 370, Decimal('89.50'))\n",
      "\n",
      "\n"
     ]
    }
   ],
   "source": [
    "query = 'create table if not exists tReport as select name, salary from tStaff where score >= 80'\n",
    "cursor.execute(query)\n",
    "\n",
    "select(cursor, '[A1. Result]', table_name = 'tReport')\n",
    "select(cursor,    '[A1. REF]', table_name = 'tStaff',\n",
    "       column = 'name, salary, score', cond = 'score >= 80')"
   ]
  },
  {
   "cell_type": "code",
   "execution_count": 10,
   "metadata": {},
   "outputs": [
    {
     "name": "stdout",
     "output_type": "stream",
     "text": [
      "[query] select * from tCity_bu;\n",
      "[[BACKUP]]\n",
      "('논산', 554, 12, 'n', '충청')\n",
      "('대구', 884, 248, 'y', '경상')\n",
      "('부산', 765, 342, 'y', '경상')\n",
      "('서울', 605, 1000, 'y', '충청')\n",
      "('순천', 910, 27, 'n', '전라')\n",
      "('영월', 1127, 4, 'n', '강원')\n",
      "('오산', 42, 42, 'n', '경기')\n",
      "('용인', 293, 98, 'n', '경기')\n",
      "('이천', 461, 21, 'n', '경기')\n",
      "('전주', 205, 65, 'n', '전라')\n",
      "('청주', 940, 83, 'n', '충청')\n",
      "('춘천', 1116, 27, 'n', '강원')\n",
      "('평택', 453, 51, 'n', '경기')\n",
      "('홍천', 1819, 7, 'n', '강원')\n",
      "\n",
      "\n"
     ]
    }
   ],
   "source": [
    "query = 'create table if not exists tCity_bu as select * from tCity'\n",
    "cursor.execute(query)\n",
    "\n",
    "select(cursor, '[BACKUP]', table_name = 'tCity_bu')"
   ]
  },
  {
   "cell_type": "code",
   "execution_count": 11,
   "metadata": {},
   "outputs": [
    {
     "name": "stdout",
     "output_type": "stream",
     "text": [
      "[query] select * from tStaff_bu;\n",
      "[[BACKUP]]\n",
      "('강감찬', '영업부', '남', datetime.date(2018, 10, 9), '사원', 352, Decimal('56.00'))\n",
      "('김둘기', '개발팀', '남', datetime.date(2023, 8, 16), '대리', 999, Decimal('89.80'))\n",
      "('김유신', '총무부', '남', datetime.date(2000, 2, 3), '이사', 420, Decimal('88.80'))\n",
      "('논개', '인사과', '여', datetime.date(2010, 9, 16), '대리', 340, Decimal('46.20'))\n",
      "('대조영', '총무부', '남', datetime.date(2020, 7, 7), '차장', 290, Decimal('49.90'))\n",
      "('선덕여왕', '인사과', '여', datetime.date(2017, 8, 3), '대리', 315, Decimal('45.10'))\n",
      "('성삼문', '영업부', '남', datetime.date(2014, 6, 8), '대리', 314, Decimal('87.75'))\n",
      "('신사임당', '영업부', '여', datetime.date(2013, 6, 19), '부장', 440, Decimal('92.00'))\n",
      "('안중근', '인사과', '남', datetime.date(2012, 5, 5), '대리', 256, Decimal('76.50'))\n",
      "('안창호', '영업부', '남', datetime.date(2015, 8, 15), '사원', 407, Decimal('74.20'))\n",
      "('유관순', '영업부', '여', datetime.date(2009, 3, 1), '과장', 418, None)\n",
      "('윤봉길', '영업부', '남', datetime.date(2015, 8, 15), '과장', 385, Decimal('71.25'))\n",
      "('을지문덕', '영업부', '남', datetime.date(2019, 6, 29), '사원', 363, None)\n",
      "('이사부', '총무부', '남', datetime.date(2000, 2, 3), '대리', 375, Decimal('50.00'))\n",
      "('이율곡', '총무부', '남', datetime.date(2016, 3, 8), '과장', 385, Decimal('65.40'))\n",
      "('장보고', '인사과', '남', datetime.date(2005, 4, 1), '부장', 440, Decimal('58.30'))\n",
      "('정몽주', '총무부', '남', datetime.date(2010, 9, 16), '대리', 370, Decimal('89.50'))\n",
      "('정약용', '총무부', '남', datetime.date(2020, 3, 14), '과장', 380, Decimal('69.80'))\n",
      "('허난설헌', '인사과', '여', datetime.date(2020, 1, 5), '대리', 285, Decimal('44.50'))\n",
      "('홍길동', '인사과', '남', datetime.date(2019, 8, 8), '차장', 380, Decimal('77.70'))\n",
      "('황진이', '인사과', '여', datetime.date(2012, 5, 5), '대리', 275, Decimal('52.50'))\n",
      "\n",
      "\n"
     ]
    }
   ],
   "source": [
    "query = 'create table if not exists tStaff_bu as select * from tStaff'\n",
    "cursor.execute(query)\n",
    "\n",
    "select(cursor, '[BACKUP]', table_name = 'tStaff_bu')"
   ]
  },
  {
   "cell_type": "markdown",
   "metadata": {},
   "source": [
    "## **2. 삭제**\n",
    "### 2-1. DELETE\n",
    "- 테이블에 저장되어 있는 데이터를 삭제할 때는 DELETE 문을 사용한다.\n",
    "    - 삭제는 레코드 단위로 수행하므로 열에 대한 지정은 없다.\n",
    "    - 오라클과 SQL Server는 FROM 생략할 수 있지만, MariaDB는 생략할 수 없다.\n",
    " \n",
    "- 조건에 맞는 데이터를 찾아서 제거하기 위해선 뒤에 WHERE를 추가한다.\n",
    "\n",
    "~~~SQL\n",
    "    DELETE FROM [테이블 명] WHERE [조건];\n",
    "~~~\n",
    "\n",
    "- DELETE 문에 WHERE절을 추가 하지 않으면 전체 테이블의 데이터가 사라져 조심해야한다.\n",
    "    - WHERE 문을 명시하더라도, 조건을 잘못 지정할 수 있으므로\n",
    "      select문으로 먼저 확인하고 delete 문으로 제거하는 것이 좋다. "
   ]
  },
  {
   "cell_type": "code",
   "execution_count": 12,
   "metadata": {},
   "outputs": [
    {
     "name": "stdout",
     "output_type": "stream",
     "text": [
      "[query] delete from tCity where region = \"경기\";\n",
      "[INFO] 데이터 제거 완료 \n",
      "\n",
      "[query] select * from tCity;\n",
      "[[경기도 데이터 삭제]]\n",
      "('논산', 554, 12, 'n', '충청')\n",
      "('대구', 884, 248, 'y', '경상')\n",
      "('부산', 765, 342, 'y', '경상')\n",
      "('순천', 910, 27, 'n', '전라')\n",
      "('영월', 1127, 4, 'n', '강원')\n",
      "('전주', 205, 65, 'n', '전라')\n",
      "('청주', 940, 83, 'n', '충청')\n",
      "('춘천', 1116, 27, 'n', '강원')\n",
      "('홍천', 1819, 7, 'n', '강원')\n",
      "\n",
      "\n"
     ]
    }
   ],
   "source": [
    "## 아래 쿼리문은 지역 이름이 \"경기\"인 모든 데이터를 제거한다.\n",
    "delete_(cursor, table_name = 'tCity', cond = 'region = \"경기\"')\n",
    "select(cursor, '[경기도 데이터 삭제]', table_name = 'tCity')"
   ]
  },
  {
   "cell_type": "markdown",
   "metadata": {},
   "source": [
    "##### **연습 문제 #004.** \n",
    "\n",
    "> Q1. 영업부 직원을 전부 해고시켜 보자."
   ]
  },
  {
   "cell_type": "code",
   "execution_count": 13,
   "metadata": {},
   "outputs": [
    {
     "name": "stdout",
     "output_type": "stream",
     "text": [
      "[query] delete from tStaff where depart = \"영업부\";\n",
      "[INFO] 데이터 제거 완료 \n",
      "\n",
      "[query] select * from tStaff;\n",
      "[[A1. Result]]\n",
      "('김둘기', '개발팀', '남', datetime.date(2023, 8, 16), '대리', 999, Decimal('89.80'))\n",
      "('김유신', '총무부', '남', datetime.date(2000, 2, 3), '이사', 420, Decimal('88.80'))\n",
      "('논개', '인사과', '여', datetime.date(2010, 9, 16), '대리', 340, Decimal('46.20'))\n",
      "('대조영', '총무부', '남', datetime.date(2020, 7, 7), '차장', 290, Decimal('49.90'))\n",
      "('선덕여왕', '인사과', '여', datetime.date(2017, 8, 3), '사원', 315, Decimal('45.10'))\n",
      "('안중근', '인사과', '남', datetime.date(2012, 5, 5), '대리', 256, Decimal('76.50'))\n",
      "('이사부', '총무부', '남', datetime.date(2000, 2, 3), '대리', 375, Decimal('50.00'))\n",
      "('이율곡', '총무부', '남', datetime.date(2016, 3, 8), '과장', 385, Decimal('65.40'))\n",
      "('장보고', '인사과', '남', datetime.date(2005, 4, 1), '부장', 440, Decimal('58.30'))\n",
      "('정몽주', '총무부', '남', datetime.date(2010, 9, 16), '대리', 370, Decimal('89.50'))\n",
      "('정약용', '총무부', '남', datetime.date(2020, 3, 14), '과장', 380, Decimal('69.80'))\n",
      "('허난설헌', '인사과', '여', datetime.date(2020, 1, 5), '사원', 285, Decimal('44.50'))\n",
      "('홍길동', '인사과', '남', datetime.date(2019, 8, 8), '차장', 380, Decimal('77.70'))\n",
      "('황진이', '인사과', '여', datetime.date(2012, 5, 5), '사원', 275, Decimal('52.50'))\n",
      "\n",
      "\n"
     ]
    }
   ],
   "source": [
    "delete_(cursor, table_name = 'tStaff', cond = 'depart = \"영업부\"')\n",
    "select(cursor, '[A1. Result]', table_name = 'tStaff')"
   ]
  },
  {
   "cell_type": "markdown",
   "metadata": {},
   "source": [
    "### 2-2. TRUNCATE\n",
    "~~~SQL\n",
    "    DELETE FROM [테이블 명];\n",
    "~~~\n",
    "- 위 쿼리문은 테이블 내 모든 데이터를 제거하지만, 속도가 느리다.\n",
    "\n",
    "~~~SQL\n",
    "    TRUNCATE TABLE [테이블 명];\n",
    "~~~\n",
    "- 위 쿼리문은 DELETE FROM 처럼 테이블 내 모든 데이터를 제거하지만,  \n",
    "  속도가 빠르고 로그가 남지 않아 ROLLBACK으로도 복구할 수 없다.\n",
    "- 테이블까지 제거하는 방법은 DROP TABLE을 사용한다."
   ]
  },
  {
   "cell_type": "code",
   "execution_count": 14,
   "metadata": {},
   "outputs": [
    {
     "name": "stdout",
     "output_type": "stream",
     "text": [
      "[query] select * from tCity;\n",
      "[[BEFORE]]\n",
      "\n",
      "\n",
      "[query] insert into tCity values (\"서울\", 605, 974, \"y\", \"경기\"), (\"부산\", 765, 342, \"y\", \"경상\");\n",
      "[INFO] 데이터 삽입 완료 \n",
      "\n",
      "[query] select * from tCity;\n",
      "[[AFTER]]\n",
      "('부산', 765, 342, 'y', '경상')\n",
      "('서울', 605, 974, 'y', '경기')\n",
      "\n",
      "\n"
     ]
    }
   ],
   "source": [
    "## tCity 테이블 내 데이터를 모두 지우고, 서울, 부산 데이터만 추가한다.\n",
    "cursor.execute('truncate table tCity')\n",
    "select(cursor, '[BEFORE]', table_name = 'tCity')\n",
    "\n",
    "values = [\n",
    "            ['\"서울\"', '605', '974', '\"y\"', '\"경기\"'],\n",
    "            ['\"부산\"', '765', '342', '\"y\"', '\"경상\"']\n",
    "         ]\n",
    "insert_(cursor, table_name = 'tCity', values = values)\n",
    "select(cursor, '[AFTER]', table_name = 'tCity')"
   ]
  },
  {
   "cell_type": "markdown",
   "metadata": {},
   "source": [
    "## **3. 갱신**\n",
    "### 3-1. UPDATE\n",
    "- 테이블에 있는 데이터를 변경할 때는 UPDATE를 사용한다.\n",
    "    -  조건에 맞는 데이터만 변경하고 싶다면, WHERE 절을 사용한다.\n",
    "        - WHERE 절로 변경 대상 레코드를 찾고 SET 문의 대입문을 순서대로 실행한다.  \n",
    "    -  DELETE 문과 마찬가지로 일반적으로 WHERE문을 함께 사용한다.\n",
    "    -  UPDATE 문도 임시 영역에 저장되며 확정하려면 COMMIT을 사용해야한다.\n",
    "~~~SQL\n",
    "    UPDATE [테이블 명] SET 필드=값 [, 필드=값] WHERE [조건];\n",
    "~~~\n",
    "\n",
    "- WHERE 절에는 SELECT 문과 동일하게 비교 연산자, BETWEEN, IN, LIKE 등 연산자를 사용할 수 있다.\n",
    "    - SET 문에는 필드끼리의 연산도 가능하다."
   ]
  },
  {
   "cell_type": "code",
   "execution_count": 15,
   "metadata": {},
   "outputs": [
    {
     "name": "stdout",
     "output_type": "stream",
     "text": [
      "[query] update tCity_bu set popu = 1000, region = \"충청\" where name = \"서울\";\n",
      "[INFO] 데이터 업데이트 완료 \n",
      "\n",
      "[query] select * from tCity_bu;\n",
      "[[데이터 갱신 확인]]\n",
      "('논산', 554, 12, 'n', '충청')\n",
      "('대구', 884, 248, 'y', '경상')\n",
      "('부산', 765, 342, 'y', '경상')\n",
      "('서울', 605, 1000, 'y', '충청')\n",
      "('순천', 910, 27, 'n', '전라')\n",
      "('영월', 1127, 4, 'n', '강원')\n",
      "('오산', 42, 42, 'n', '경기')\n",
      "('용인', 293, 98, 'n', '경기')\n",
      "('이천', 461, 21, 'n', '경기')\n",
      "('전주', 205, 65, 'n', '전라')\n",
      "('청주', 940, 83, 'n', '충청')\n",
      "('춘천', 1116, 27, 'n', '강원')\n",
      "('평택', 453, 51, 'n', '경기')\n",
      "('홍천', 1819, 7, 'n', '강원')\n",
      "\n",
      "\n"
     ]
    }
   ],
   "source": [
    "## 아래 쿼리문을 이용하면 도시 이름이 서울인 데이터의 인구수를 1000, 지역을 충청으로 바꿔준다.\n",
    "update_(cursor, table_name = 'tCity_bu', cond = 'name = \"서울\"',\n",
    "        set_ = 'popu = 1000, region = \"충청\"')\n",
    "\n",
    "select(cursor, '[데이터 갱신 확인]', table_name = 'tCity_bu')"
   ]
  },
  {
   "cell_type": "code",
   "execution_count": 16,
   "metadata": {},
   "outputs": [
    {
     "name": "stdout",
     "output_type": "stream",
     "text": [
      "[query] update tCity_bu set popu = popu * 2 where name = \"오산\";\n",
      "[INFO] 데이터 업데이트 완료 \n",
      "\n",
      "[query] select * from tCity_bu;\n",
      "[[데이터 갱신 확인]]\n",
      "('논산', 554, 12, 'n', '충청')\n",
      "('대구', 884, 248, 'y', '경상')\n",
      "('부산', 765, 342, 'y', '경상')\n",
      "('서울', 605, 1000, 'y', '충청')\n",
      "('순천', 910, 27, 'n', '전라')\n",
      "('영월', 1127, 4, 'n', '강원')\n",
      "('오산', 42, 84, 'n', '경기')\n",
      "('용인', 293, 98, 'n', '경기')\n",
      "('이천', 461, 21, 'n', '경기')\n",
      "('전주', 205, 65, 'n', '전라')\n",
      "('청주', 940, 83, 'n', '충청')\n",
      "('춘천', 1116, 27, 'n', '강원')\n",
      "('평택', 453, 51, 'n', '경기')\n",
      "('홍천', 1819, 7, 'n', '강원')\n",
      "\n",
      "\n"
     ]
    }
   ],
   "source": [
    "## 아래 쿼리문은 오산의 인구를 두 배로 늘려준다.\n",
    "update_(cursor, table_name = 'tCity_bu', cond = 'name = \"오산\"',\n",
    "        set_ = 'popu = popu * 2')\n",
    "\n",
    "select(cursor, '[데이터 갱신 확인]', table_name = 'tCity_bu')"
   ]
  },
  {
   "cell_type": "markdown",
   "metadata": {},
   "source": [
    "##### **연습 문제 #005.** \n",
    "\n",
    "> Q1. 여자 사원급을 모두 대리로 진급시켜라.  \n",
    "> Q2. 영업부 직원의 월급을 10%씩 인상하라."
   ]
  },
  {
   "cell_type": "code",
   "execution_count": 17,
   "metadata": {},
   "outputs": [
    {
     "name": "stdout",
     "output_type": "stream",
     "text": [
      "[query] update tStaff_bu set grade = \"대리\" where gender = \"여\" and grade = \"사원\";\n",
      "[INFO] 데이터 업데이트 완료 \n",
      "\n",
      "[query] select * from tStaff_bu;\n",
      "[[A1. Result]]\n",
      "('강감찬', '영업부', '남', datetime.date(2018, 10, 9), '사원', 352, Decimal('56.00'))\n",
      "('김둘기', '개발팀', '남', datetime.date(2023, 8, 16), '대리', 999, Decimal('89.80'))\n",
      "('김유신', '총무부', '남', datetime.date(2000, 2, 3), '이사', 420, Decimal('88.80'))\n",
      "('논개', '인사과', '여', datetime.date(2010, 9, 16), '대리', 340, Decimal('46.20'))\n",
      "('대조영', '총무부', '남', datetime.date(2020, 7, 7), '차장', 290, Decimal('49.90'))\n",
      "('선덕여왕', '인사과', '여', datetime.date(2017, 8, 3), '대리', 315, Decimal('45.10'))\n",
      "('성삼문', '영업부', '남', datetime.date(2014, 6, 8), '대리', 314, Decimal('87.75'))\n",
      "('신사임당', '영업부', '여', datetime.date(2013, 6, 19), '부장', 440, Decimal('92.00'))\n",
      "('안중근', '인사과', '남', datetime.date(2012, 5, 5), '대리', 256, Decimal('76.50'))\n",
      "('안창호', '영업부', '남', datetime.date(2015, 8, 15), '사원', 407, Decimal('74.20'))\n",
      "('유관순', '영업부', '여', datetime.date(2009, 3, 1), '과장', 418, None)\n",
      "('윤봉길', '영업부', '남', datetime.date(2015, 8, 15), '과장', 385, Decimal('71.25'))\n",
      "('을지문덕', '영업부', '남', datetime.date(2019, 6, 29), '사원', 363, None)\n",
      "('이사부', '총무부', '남', datetime.date(2000, 2, 3), '대리', 375, Decimal('50.00'))\n",
      "('이율곡', '총무부', '남', datetime.date(2016, 3, 8), '과장', 385, Decimal('65.40'))\n",
      "('장보고', '인사과', '남', datetime.date(2005, 4, 1), '부장', 440, Decimal('58.30'))\n",
      "('정몽주', '총무부', '남', datetime.date(2010, 9, 16), '대리', 370, Decimal('89.50'))\n",
      "('정약용', '총무부', '남', datetime.date(2020, 3, 14), '과장', 380, Decimal('69.80'))\n",
      "('허난설헌', '인사과', '여', datetime.date(2020, 1, 5), '대리', 285, Decimal('44.50'))\n",
      "('홍길동', '인사과', '남', datetime.date(2019, 8, 8), '차장', 380, Decimal('77.70'))\n",
      "('황진이', '인사과', '여', datetime.date(2012, 5, 5), '대리', 275, Decimal('52.50'))\n",
      "\n",
      "\n"
     ]
    }
   ],
   "source": [
    "update_(cursor, table_name = 'tStaff_bu', cond = 'gender = \"여\" and grade = \"사원\"',\n",
    "        set_ = 'grade = \"대리\"')\n",
    "\n",
    "select(cursor, '[A1. Result]', table_name = 'tStaff_bu')"
   ]
  },
  {
   "cell_type": "code",
   "execution_count": 18,
   "metadata": {},
   "outputs": [
    {
     "name": "stdout",
     "output_type": "stream",
     "text": [
      "[query] update tStaff_bu set salary = salary * 1.1 where depart = \"영업부\";\n",
      "[INFO] 데이터 업데이트 완료 \n",
      "\n",
      "[query] select * from tStaff_bu;\n",
      "[[A2.]]\n",
      "('강감찬', '영업부', '남', datetime.date(2018, 10, 9), '사원', 387, Decimal('56.00'))\n",
      "('김둘기', '개발팀', '남', datetime.date(2023, 8, 16), '대리', 999, Decimal('89.80'))\n",
      "('김유신', '총무부', '남', datetime.date(2000, 2, 3), '이사', 420, Decimal('88.80'))\n",
      "('논개', '인사과', '여', datetime.date(2010, 9, 16), '대리', 340, Decimal('46.20'))\n",
      "('대조영', '총무부', '남', datetime.date(2020, 7, 7), '차장', 290, Decimal('49.90'))\n",
      "('선덕여왕', '인사과', '여', datetime.date(2017, 8, 3), '대리', 315, Decimal('45.10'))\n",
      "('성삼문', '영업부', '남', datetime.date(2014, 6, 8), '대리', 345, Decimal('87.75'))\n",
      "('신사임당', '영업부', '여', datetime.date(2013, 6, 19), '부장', 484, Decimal('92.00'))\n",
      "('안중근', '인사과', '남', datetime.date(2012, 5, 5), '대리', 256, Decimal('76.50'))\n",
      "('안창호', '영업부', '남', datetime.date(2015, 8, 15), '사원', 448, Decimal('74.20'))\n",
      "('유관순', '영업부', '여', datetime.date(2009, 3, 1), '과장', 460, None)\n",
      "('윤봉길', '영업부', '남', datetime.date(2015, 8, 15), '과장', 424, Decimal('71.25'))\n",
      "('을지문덕', '영업부', '남', datetime.date(2019, 6, 29), '사원', 399, None)\n",
      "('이사부', '총무부', '남', datetime.date(2000, 2, 3), '대리', 375, Decimal('50.00'))\n",
      "('이율곡', '총무부', '남', datetime.date(2016, 3, 8), '과장', 385, Decimal('65.40'))\n",
      "('장보고', '인사과', '남', datetime.date(2005, 4, 1), '부장', 440, Decimal('58.30'))\n",
      "('정몽주', '총무부', '남', datetime.date(2010, 9, 16), '대리', 370, Decimal('89.50'))\n",
      "('정약용', '총무부', '남', datetime.date(2020, 3, 14), '과장', 380, Decimal('69.80'))\n",
      "('허난설헌', '인사과', '여', datetime.date(2020, 1, 5), '대리', 285, Decimal('44.50'))\n",
      "('홍길동', '인사과', '남', datetime.date(2019, 8, 8), '차장', 380, Decimal('77.70'))\n",
      "('황진이', '인사과', '여', datetime.date(2012, 5, 5), '대리', 275, Decimal('52.50'))\n",
      "\n",
      "\n"
     ]
    }
   ],
   "source": [
    "update_(cursor, table_name = 'tStaff_bu', cond = 'depart = \"영업부\"',\n",
    "        set_ = 'salary = salary * 1.1')\n",
    "\n",
    "select(cursor, '[A2.]', table_name = 'tStaff_bu')"
   ]
  },
  {
   "cell_type": "code",
   "execution_count": 19,
   "metadata": {},
   "outputs": [],
   "source": [
    "conn.commit()\n",
    "conn.close()"
   ]
  },
  {
   "cell_type": "markdown",
   "metadata": {},
   "source": [
    "### 3-2. CRUD (Create Read Update Delete)\n",
    "- 데이터를 관리하는 명령이라 SQL 명령어 분류상 DML에 속한다.\n",
    "\n",
    "# **99. 참고자료**\n",
    "## **99-1. 도서** \n",
    "- 소문난 명강의 - 김상형의 SQL 정복 | 김상형 저 / 한빛 미디어\n",
    "\n",
    "## **99-2. 논문, 학술지**\n",
    "\n",
    "## **99-3. 웹 사이트**\n",
    "\n",
    "## **99-4. 데이터셋 출처**\n"
   ]
  },
  {
   "cell_type": "code",
   "execution_count": null,
   "metadata": {},
   "outputs": [],
   "source": []
  }
 ],
 "metadata": {
  "accelerator": "GPU",
  "colab": {
   "authorship_tag": "ABX9TyPz9VtDNpThZgOFDvRU/rPu",
   "collapsed_sections": [],
   "include_colab_link": true,
   "provenance": []
  },
  "kernelspec": {
   "display_name": "DS",
   "language": "python",
   "name": "ds"
  },
  "language_info": {
   "codemirror_mode": {
    "name": "ipython",
    "version": 3
   },
   "file_extension": ".py",
   "mimetype": "text/x-python",
   "name": "python",
   "nbconvert_exporter": "python",
   "pygments_lexer": "ipython3",
   "version": "3.10.12"
  }
 },
 "nbformat": 4,
 "nbformat_minor": 4
}
