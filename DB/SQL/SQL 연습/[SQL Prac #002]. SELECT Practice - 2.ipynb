{
 "cells": [
  {
   "cell_type": "code",
   "execution_count": 1,
   "metadata": {},
   "outputs": [
    {
     "name": "stdout",
     "output_type": "stream",
     "text": [
      "[INFO] config.json 파일을 로딩합니다.\n",
      "[INFO] ports.json 파일을 로딩합니다.\n"
     ]
    }
   ],
   "source": [
    "import sys\n",
    "import os\n",
    "\n",
    "import pymysql as sql\n",
    "\n",
    "## 하위 폴더에 있는 패키지 로딩을 위한 밑작업\n",
    "SEP       = os.path.sep\n",
    "MISC_PATH = SEP.join(os.getcwd().split(SEP)[:-2])\n",
    "ROOT_PATH = SEP.join(os.getcwd().split(SEP)[:-4])\n",
    "sys.path.append(MISC_PATH)\n",
    "\n",
    "from misc.config import *\n",
    "from misc.utils import *"
   ]
  },
  {
   "cell_type": "code",
   "execution_count": 2,
   "metadata": {},
   "outputs": [],
   "source": [
    "host   = CONFIGS.global_host\n",
    "port   = PORTS.sql_port\n",
    "user   = CONFIGS.sql_user\n",
    "passwd = CONFIGS.sql_passwd"
   ]
  },
  {
   "cell_type": "code",
   "execution_count": 3,
   "metadata": {},
   "outputs": [],
   "source": [
    "## DB 서버에 연결\n",
    "conn   = sql.connect(host     = host, user = user, port = port,\n",
    "                     password = passwd, db = 'study')\n",
    "\n",
    "cursor = conn.cursor()"
   ]
  },
  {
   "cell_type": "code",
   "execution_count": 4,
   "metadata": {},
   "outputs": [
    {
     "name": "stdout",
     "output_type": "stream",
     "text": [
      "[query] select * from employee_;\n",
      "\n",
      "[whole data]\n",
      "(7369, 'SMITH', 'CLERK', 7902, datetime.datetime(1980, 12, 17, 0, 0), 800, None, 20)\n",
      "(7499, 'ALLEN', 'SALESMAN', 7698, datetime.datetime(1981, 2, 20, 0, 0), 1600, 300, 30)\n",
      "(7521, 'WARD', 'SALESMAN', 7698, datetime.datetime(1981, 2, 22, 0, 0), 1250, 500, 30)\n",
      "(7566, 'JONES', 'MANAGER', 7839, datetime.datetime(1981, 4, 2, 0, 0), 2975, None, 20)\n",
      "(7654, 'MARTIN', 'SALESMAN', 7698, datetime.datetime(1981, 9, 28, 0, 0), 1250, 1400, 30)\n",
      "(7698, 'BLAKE', 'MANAGER', 7839, datetime.datetime(1981, 5, 1, 0, 0), 2850, None, 30)\n",
      "(7782, 'CLARK', 'MANAGER', 7839, datetime.datetime(1981, 6, 9, 0, 0), 2450, None, 10)\n",
      "(7788, 'SCOTT', 'ANALYST', 7566, datetime.datetime(1982, 12, 9, 0, 0), 3000, None, 20)\n",
      "(7839, 'KING', 'PRESIDENT', None, datetime.datetime(1981, 11, 17, 0, 0), 5000, None, 10)\n",
      "(7844, 'TURNER', 'SALESMAN', 7698, datetime.datetime(1981, 9, 8, 0, 0), 1500, 0, 30)\n",
      "(7876, 'ADAMS', 'CLERK', 7788, datetime.datetime(1983, 1, 12, 0, 0), 1100, None, 20)\n",
      "(7900, 'JAMES', 'CLERK', 7698, datetime.datetime(1981, 12, 3, 0, 0), 950, None, 30)\n",
      "(7902, 'FORD', 'ANALYST', 7566, datetime.datetime(1981, 12, 3, 0, 0), 3000, None, 20)\n",
      "(7934, 'MILLER', 'CLERK', 7782, datetime.datetime(1982, 1, 23, 0, 0), 1300, None, 10)\n",
      "\n",
      "\n"
     ]
    }
   ],
   "source": [
    "select(cursor, \"whole data\", table_name = 'employee_')"
   ]
  },
  {
   "cell_type": "markdown",
   "metadata": {},
   "source": [
    " #### **[Q #001]. 부서번호가 10번인 부서의 사람 중 사원번호, 이름, 월급을 조회하시오.**"
   ]
  },
  {
   "cell_type": "code",
   "execution_count": 5,
   "metadata": {},
   "outputs": [
    {
     "name": "stdout",
     "output_type": "stream",
     "text": [
      "[query] select empno, ename, sal from employee_ where deptno=10;\n",
      "\n",
      "[A #001]\n",
      "(7782, 'CLARK', 2450)\n",
      "(7839, 'KING', 5000)\n",
      "(7934, 'MILLER', 1300)\n",
      "\n",
      "\n",
      "[query] select empno, ename, sal, deptno from employee_ where deptno=10;\n",
      "\n",
      "[A #001 REF]\n",
      "(7782, 'CLARK', 2450, 10)\n",
      "(7839, 'KING', 5000, 10)\n",
      "(7934, 'MILLER', 1300, 10)\n",
      "\n",
      "\n"
     ]
    }
   ],
   "source": [
    "select(cursor, 'A #001', table_name = 'employee_',\n",
    "       column = 'empno, ename, sal', cond = 'deptno=10')\n",
    "\n",
    "select(cursor, 'A #001 REF', table_name = 'employee_',\n",
    "       column = 'empno, ename, sal, deptno', cond = 'deptno=10')"
   ]
  },
  {
   "cell_type": "markdown",
   "metadata": {},
   "source": [
    " #### **[Q #002]. 사원번호가 7369인 사람 중 이름, 입사일, 부서번호를 조회 하시오.**"
   ]
  },
  {
   "cell_type": "code",
   "execution_count": 6,
   "metadata": {},
   "outputs": [
    {
     "name": "stdout",
     "output_type": "stream",
     "text": [
      "[query] select ename, hiredate, deptno from employee_ where empno = 7369;\n",
      "\n",
      "[A #002]\n",
      "('SMITH', datetime.datetime(1980, 12, 17, 0, 0), 20)\n",
      "\n",
      "\n",
      "[query] select empno, ename, hiredate, deptno from employee_ where empno = 7369;\n",
      "\n",
      "[A #002 REF]\n",
      "(7369, 'SMITH', datetime.datetime(1980, 12, 17, 0, 0), 20)\n",
      "\n",
      "\n"
     ]
    }
   ],
   "source": [
    "select(cursor, 'A #002', table_name = 'employee_',\n",
    "       column = 'ename, hiredate, deptno', cond = 'empno = 7369')\n",
    "\n",
    "select(cursor, 'A #002 REF', table_name = 'employee_',\n",
    "       column = 'empno, ename, hiredate, deptno', cond = 'empno = 7369')"
   ]
  },
  {
   "cell_type": "markdown",
   "metadata": {},
   "source": [
    " #### **[Q #003]. 이름이 ALLEN인 사람의 모든 정보를 조회 하시오.**"
   ]
  },
  {
   "cell_type": "code",
   "execution_count": 7,
   "metadata": {},
   "outputs": [
    {
     "name": "stdout",
     "output_type": "stream",
     "text": [
      "[query] select * from employee_ where ename=\"ALLEN\";\n",
      "\n",
      "[A #003]\n",
      "(7499, 'ALLEN', 'SALESMAN', 7698, datetime.datetime(1981, 2, 20, 0, 0), 1600, 300, 30)\n",
      "\n",
      "\n"
     ]
    }
   ],
   "source": [
    "select(cursor, 'A #003', table_name = 'employee_',\n",
    "       cond = 'ename=\"ALLEN\"')"
   ]
  },
  {
   "cell_type": "markdown",
   "metadata": {},
   "source": [
    " #### **[Q #004]. 입사일이 1983/01/12인 사람의 이름, 부서번호, 월급을 조회 하시오.**"
   ]
  },
  {
   "cell_type": "code",
   "execution_count": 8,
   "metadata": {},
   "outputs": [
    {
     "name": "stdout",
     "output_type": "stream",
     "text": [
      "[query] select ename, deptno, sal from employee_ where hiredate = \"19830112\";\n",
      "\n",
      "[A #004]\n",
      "('ADAMS', 20, 1100)\n",
      "\n",
      "\n",
      "[query] select ename, deptno, sal, hiredate from employee_ where hiredate = \"19830112\";\n",
      "\n",
      "[A #004 REF]\n",
      "('ADAMS', 20, 1100, datetime.datetime(1983, 1, 12, 0, 0))\n",
      "\n",
      "\n"
     ]
    }
   ],
   "source": [
    "select(cursor, 'A #004', table_name = 'employee_',\n",
    "       column = 'ename, deptno, sal', \n",
    "       cond = 'hiredate = \"19830112\"')\n",
    "\n",
    "\n",
    "select(cursor, 'A #004 REF', table_name = 'employee_',\n",
    "       column = 'ename, deptno, sal, hiredate',\n",
    "       cond   = 'hiredate = \"19830112\"')"
   ]
  },
  {
   "cell_type": "markdown",
   "metadata": {},
   "source": [
    " #### **[Q #005]. 직업이 MANAGER가 아닌 사람의 모든 정보를 출력하세요.** "
   ]
  },
  {
   "cell_type": "code",
   "execution_count": 9,
   "metadata": {},
   "outputs": [
    {
     "name": "stdout",
     "output_type": "stream",
     "text": [
      "[query] select * from employee_ where job <> \"manager\";\n",
      "\n",
      "[A #005]\n",
      "(7369, 'SMITH', 'CLERK', 7902, datetime.datetime(1980, 12, 17, 0, 0), 800, None, 20)\n",
      "(7499, 'ALLEN', 'SALESMAN', 7698, datetime.datetime(1981, 2, 20, 0, 0), 1600, 300, 30)\n",
      "(7521, 'WARD', 'SALESMAN', 7698, datetime.datetime(1981, 2, 22, 0, 0), 1250, 500, 30)\n",
      "(7654, 'MARTIN', 'SALESMAN', 7698, datetime.datetime(1981, 9, 28, 0, 0), 1250, 1400, 30)\n",
      "(7788, 'SCOTT', 'ANALYST', 7566, datetime.datetime(1982, 12, 9, 0, 0), 3000, None, 20)\n",
      "(7839, 'KING', 'PRESIDENT', None, datetime.datetime(1981, 11, 17, 0, 0), 5000, None, 10)\n",
      "(7844, 'TURNER', 'SALESMAN', 7698, datetime.datetime(1981, 9, 8, 0, 0), 1500, 0, 30)\n",
      "(7876, 'ADAMS', 'CLERK', 7788, datetime.datetime(1983, 1, 12, 0, 0), 1100, None, 20)\n",
      "(7900, 'JAMES', 'CLERK', 7698, datetime.datetime(1981, 12, 3, 0, 0), 950, None, 30)\n",
      "(7902, 'FORD', 'ANALYST', 7566, datetime.datetime(1981, 12, 3, 0, 0), 3000, None, 20)\n",
      "(7934, 'MILLER', 'CLERK', 7782, datetime.datetime(1982, 1, 23, 0, 0), 1300, None, 10)\n",
      "\n",
      "\n"
     ]
    }
   ],
   "source": [
    "select(cursor, 'A #005', table_name = 'employee_',\n",
    "       cond = 'job <> \"manager\"')"
   ]
  },
  {
   "cell_type": "markdown",
   "metadata": {},
   "source": [
    " #### **[Q #006]. 이름이 K로 시작하는 사람보다 높은 이름을 가진 사람의 모든 정보를 출력하세요.**"
   ]
  },
  {
   "cell_type": "code",
   "execution_count": 10,
   "metadata": {},
   "outputs": [
    {
     "name": "stdout",
     "output_type": "stream",
     "text": [
      "[query] select * from employee_ where ename between \"A\" and \"K\" order by ename;\n",
      "\n",
      "[A #006]\n",
      "(7876, 'ADAMS', 'CLERK', 7788, datetime.datetime(1983, 1, 12, 0, 0), 1100, None, 20)\n",
      "(7499, 'ALLEN', 'SALESMAN', 7698, datetime.datetime(1981, 2, 20, 0, 0), 1600, 300, 30)\n",
      "(7698, 'BLAKE', 'MANAGER', 7839, datetime.datetime(1981, 5, 1, 0, 0), 2850, None, 30)\n",
      "(7782, 'CLARK', 'MANAGER', 7839, datetime.datetime(1981, 6, 9, 0, 0), 2450, None, 10)\n",
      "(7902, 'FORD', 'ANALYST', 7566, datetime.datetime(1981, 12, 3, 0, 0), 3000, None, 20)\n",
      "(7900, 'JAMES', 'CLERK', 7698, datetime.datetime(1981, 12, 3, 0, 0), 950, None, 30)\n",
      "(7566, 'JONES', 'MANAGER', 7839, datetime.datetime(1981, 4, 2, 0, 0), 2975, None, 20)\n",
      "\n",
      "\n"
     ]
    }
   ],
   "source": [
    "select(cursor, 'A #006', table_name = 'employee_',\n",
    "       cond = 'ename between \"A\" and \"K\"', order = \"ename\")"
   ]
  },
  {
   "cell_type": "markdown",
   "metadata": {},
   "source": [
    " #### **[Q #007]. 입사일이 1981.04.02보다 느리고 1982.12.09보다 빠른 사원의 이름, 월급, 부서번호를 조회 하시오.**"
   ]
  },
  {
   "cell_type": "code",
   "execution_count": 11,
   "metadata": {},
   "outputs": [
    {
     "name": "stdout",
     "output_type": "stream",
     "text": [
      "[query] select ename, sal, deptno from employee_ where hiredate between \"19810402\" and \"19821209\";\n",
      "\n",
      "[A #007]\n",
      "('JONES', 2975, 20)\n",
      "('MARTIN', 1250, 30)\n",
      "('BLAKE', 2850, 30)\n",
      "('CLARK', 2450, 10)\n",
      "('SCOTT', 3000, 20)\n",
      "('KING', 5000, 10)\n",
      "('TURNER', 1500, 30)\n",
      "('JAMES', 950, 30)\n",
      "('FORD', 3000, 20)\n",
      "('MILLER', 1300, 10)\n",
      "\n",
      "\n",
      "[query] select ename, sal, deptno, hiredate from employee_ where hiredate between \"19810402\" and \"19821209\" order by hiredate;\n",
      "\n",
      "[A #007 REF]\n",
      "('JONES', 2975, 20, datetime.datetime(1981, 4, 2, 0, 0))\n",
      "('BLAKE', 2850, 30, datetime.datetime(1981, 5, 1, 0, 0))\n",
      "('CLARK', 2450, 10, datetime.datetime(1981, 6, 9, 0, 0))\n",
      "('TURNER', 1500, 30, datetime.datetime(1981, 9, 8, 0, 0))\n",
      "('MARTIN', 1250, 30, datetime.datetime(1981, 9, 28, 0, 0))\n",
      "('KING', 5000, 10, datetime.datetime(1981, 11, 17, 0, 0))\n",
      "('JAMES', 950, 30, datetime.datetime(1981, 12, 3, 0, 0))\n",
      "('FORD', 3000, 20, datetime.datetime(1981, 12, 3, 0, 0))\n",
      "('MILLER', 1300, 10, datetime.datetime(1982, 1, 23, 0, 0))\n",
      "('SCOTT', 3000, 20, datetime.datetime(1982, 12, 9, 0, 0))\n",
      "\n",
      "\n"
     ]
    }
   ],
   "source": [
    "select(cursor,  'A #007', table_name = 'employee_',\n",
    "       column = 'ename, sal, deptno', \n",
    "       cond = 'hiredate between \"19810402\" and \"19821209\"')\n",
    "\n",
    "select(cursor,  'A #007 REF', table_name = 'employee_',\n",
    "       column = 'ename, sal, deptno, hiredate', \n",
    "       cond = 'hiredate between \"19810402\" and \"19821209\"', order = 'hiredate')"
   ]
  },
  {
   "cell_type": "markdown",
   "metadata": {},
   "source": [
    " #### **[Q #008]. 이름 중 S가 포함되어 있는 사람만의 모든 정보를 조회 하시오.**"
   ]
  },
  {
   "cell_type": "code",
   "execution_count": 12,
   "metadata": {},
   "outputs": [
    {
     "name": "stdout",
     "output_type": "stream",
     "text": [
      "[query] select * from employee_ where ename like \"%S%\";\n",
      "\n",
      "[A #008]\n",
      "(7369, 'SMITH', 'CLERK', 7902, datetime.datetime(1980, 12, 17, 0, 0), 800, None, 20)\n",
      "(7566, 'JONES', 'MANAGER', 7839, datetime.datetime(1981, 4, 2, 0, 0), 2975, None, 20)\n",
      "(7788, 'SCOTT', 'ANALYST', 7566, datetime.datetime(1982, 12, 9, 0, 0), 3000, None, 20)\n",
      "(7876, 'ADAMS', 'CLERK', 7788, datetime.datetime(1983, 1, 12, 0, 0), 1100, None, 20)\n",
      "(7900, 'JAMES', 'CLERK', 7698, datetime.datetime(1981, 12, 3, 0, 0), 950, None, 30)\n",
      "\n",
      "\n"
     ]
    }
   ],
   "source": [
    "select(cursor, 'A #008', table_name = 'employee_',\n",
    "       cond = 'ename like \"%S%\"')"
   ]
  },
  {
   "cell_type": "markdown",
   "metadata": {},
   "source": [
    "#### **[Q #009]. 이름이 S로 시작하고 T로 끝나는 사람의 모든 정보를 조회 하시오.**"
   ]
  },
  {
   "cell_type": "code",
   "execution_count": 13,
   "metadata": {},
   "outputs": [
    {
     "name": "stdout",
     "output_type": "stream",
     "text": [
      "[query] select * from employee_ where ename like \"S%T\";\n",
      "\n",
      "[A #009]\n",
      "(7788, 'SCOTT', 'ANALYST', 7566, datetime.datetime(1982, 12, 9, 0, 0), 3000, None, 20)\n",
      "\n",
      "\n"
     ]
    }
   ],
   "source": [
    "select(cursor, 'A #009', table_name = 'employee_',\n",
    "       cond = 'ename like \"S%T\"')"
   ]
  },
  {
   "cell_type": "markdown",
   "metadata": {},
   "source": [
    " #### **[Q #010]. 첫 번째 문자는 관계없고 두 번째 문자가 A인 사람의 정보를 조회하시오.**"
   ]
  },
  {
   "cell_type": "code",
   "execution_count": 14,
   "metadata": {},
   "outputs": [
    {
     "name": "stdout",
     "output_type": "stream",
     "text": [
      "[query] select * from employee_ where ename like \"_A%\";\n",
      "\n",
      "[A #010]\n",
      "(7521, 'WARD', 'SALESMAN', 7698, datetime.datetime(1981, 2, 22, 0, 0), 1250, 500, 30)\n",
      "(7654, 'MARTIN', 'SALESMAN', 7698, datetime.datetime(1981, 9, 28, 0, 0), 1250, 1400, 30)\n",
      "(7900, 'JAMES', 'CLERK', 7698, datetime.datetime(1981, 12, 3, 0, 0), 950, None, 30)\n",
      "\n",
      "\n"
     ]
    }
   ],
   "source": [
    "select(cursor, 'A #010', table_name = 'employee_',\n",
    "       cond = 'ename like \"_A%\"')"
   ]
  },
  {
   "cell_type": "markdown",
   "metadata": {},
   "source": [
    " #### **[Q #011]. 급여가 많은 순으로 정렬하여 조회 하시오.**"
   ]
  },
  {
   "cell_type": "code",
   "execution_count": 15,
   "metadata": {},
   "outputs": [
    {
     "name": "stdout",
     "output_type": "stream",
     "text": [
      "[query] select * from employee_ order by sal desc;\n",
      "\n",
      "[A #011]\n",
      "(7839, 'KING', 'PRESIDENT', None, datetime.datetime(1981, 11, 17, 0, 0), 5000, None, 10)\n",
      "(7788, 'SCOTT', 'ANALYST', 7566, datetime.datetime(1982, 12, 9, 0, 0), 3000, None, 20)\n",
      "(7902, 'FORD', 'ANALYST', 7566, datetime.datetime(1981, 12, 3, 0, 0), 3000, None, 20)\n",
      "(7566, 'JONES', 'MANAGER', 7839, datetime.datetime(1981, 4, 2, 0, 0), 2975, None, 20)\n",
      "(7698, 'BLAKE', 'MANAGER', 7839, datetime.datetime(1981, 5, 1, 0, 0), 2850, None, 30)\n",
      "(7782, 'CLARK', 'MANAGER', 7839, datetime.datetime(1981, 6, 9, 0, 0), 2450, None, 10)\n",
      "(7499, 'ALLEN', 'SALESMAN', 7698, datetime.datetime(1981, 2, 20, 0, 0), 1600, 300, 30)\n",
      "(7844, 'TURNER', 'SALESMAN', 7698, datetime.datetime(1981, 9, 8, 0, 0), 1500, 0, 30)\n",
      "(7934, 'MILLER', 'CLERK', 7782, datetime.datetime(1982, 1, 23, 0, 0), 1300, None, 10)\n",
      "(7654, 'MARTIN', 'SALESMAN', 7698, datetime.datetime(1981, 9, 28, 0, 0), 1250, 1400, 30)\n",
      "(7521, 'WARD', 'SALESMAN', 7698, datetime.datetime(1981, 2, 22, 0, 0), 1250, 500, 30)\n",
      "(7876, 'ADAMS', 'CLERK', 7788, datetime.datetime(1983, 1, 12, 0, 0), 1100, None, 20)\n",
      "(7900, 'JAMES', 'CLERK', 7698, datetime.datetime(1981, 12, 3, 0, 0), 950, None, 30)\n",
      "(7369, 'SMITH', 'CLERK', 7902, datetime.datetime(1980, 12, 17, 0, 0), 800, None, 20)\n",
      "\n",
      "\n"
     ]
    }
   ],
   "source": [
    "select(cursor, 'A #011', table_name = 'employee_',\n",
    "       order = 'sal desc')"
   ]
  },
  {
   "cell_type": "markdown",
   "metadata": {},
   "source": [
    " #### **[Q #012]. 이름의 첫 글자가 K로 시작하거나 부서 번호가 30인 사람의 사원 번호, 이름, 부서 번호를 조회 하시오.**"
   ]
  },
  {
   "cell_type": "code",
   "execution_count": 16,
   "metadata": {},
   "outputs": [
    {
     "name": "stdout",
     "output_type": "stream",
     "text": [
      "[query] select empno, ename, deptno from employee_ where ename like \"K%\" or deptno = 30;\n",
      "\n",
      "[A #012]\n",
      "(7499, 'ALLEN', 30)\n",
      "(7521, 'WARD', 30)\n",
      "(7654, 'MARTIN', 30)\n",
      "(7698, 'BLAKE', 30)\n",
      "(7839, 'KING', 10)\n",
      "(7844, 'TURNER', 30)\n",
      "(7900, 'JAMES', 30)\n",
      "\n",
      "\n"
     ]
    }
   ],
   "source": [
    "select(cursor, 'A #012', table_name = 'employee_',\n",
    "       cond   = 'ename like \"K%\" or deptno = 30',\n",
    "       column = 'empno, ename, deptno')"
   ]
  },
  {
   "cell_type": "markdown",
   "metadata": {},
   "source": [
    " #### **[Q #013].급여가 1500이상이고, 부서번호가 30번인 사원 중 직업이 manager인 사람의 정보를 출력하세요.**"
   ]
  },
  {
   "cell_type": "code",
   "execution_count": 17,
   "metadata": {},
   "outputs": [
    {
     "name": "stdout",
     "output_type": "stream",
     "text": [
      "[query] select * from employee_ where sal >= 1500 and deptno = 30 and job = \"MANAGER\";\n",
      "\n",
      "[A #013]\n",
      "(7698, 'BLAKE', 'MANAGER', 7839, datetime.datetime(1981, 5, 1, 0, 0), 2850, None, 30)\n",
      "\n",
      "\n"
     ]
    }
   ],
   "source": [
    "select(cursor, 'A #013', table_name = 'employee_',\n",
    "       cond = 'sal >= 1500 and deptno = 30 and job = \"MANAGER\"')"
   ]
  },
  {
   "cell_type": "markdown",
   "metadata": {},
   "source": [
    " #### **[Q #014]. 사원번호가 7654와 7782 사이 이외의 사원의 모든 정보를 조회 하시오.**"
   ]
  },
  {
   "cell_type": "code",
   "execution_count": 18,
   "metadata": {},
   "outputs": [
    {
     "name": "stdout",
     "output_type": "stream",
     "text": [
      "[query] select * from employee_ where not (empno between 7654 and 7782);\n",
      "\n",
      "[A #014]\n",
      "(7369, 'SMITH', 'CLERK', 7902, datetime.datetime(1980, 12, 17, 0, 0), 800, None, 20)\n",
      "(7499, 'ALLEN', 'SALESMAN', 7698, datetime.datetime(1981, 2, 20, 0, 0), 1600, 300, 30)\n",
      "(7521, 'WARD', 'SALESMAN', 7698, datetime.datetime(1981, 2, 22, 0, 0), 1250, 500, 30)\n",
      "(7566, 'JONES', 'MANAGER', 7839, datetime.datetime(1981, 4, 2, 0, 0), 2975, None, 20)\n",
      "(7788, 'SCOTT', 'ANALYST', 7566, datetime.datetime(1982, 12, 9, 0, 0), 3000, None, 20)\n",
      "(7839, 'KING', 'PRESIDENT', None, datetime.datetime(1981, 11, 17, 0, 0), 5000, None, 10)\n",
      "(7844, 'TURNER', 'SALESMAN', 7698, datetime.datetime(1981, 9, 8, 0, 0), 1500, 0, 30)\n",
      "(7876, 'ADAMS', 'CLERK', 7788, datetime.datetime(1983, 1, 12, 0, 0), 1100, None, 20)\n",
      "(7900, 'JAMES', 'CLERK', 7698, datetime.datetime(1981, 12, 3, 0, 0), 950, None, 30)\n",
      "(7902, 'FORD', 'ANALYST', 7566, datetime.datetime(1981, 12, 3, 0, 0), 3000, None, 20)\n",
      "(7934, 'MILLER', 'CLERK', 7782, datetime.datetime(1982, 1, 23, 0, 0), 1300, None, 10)\n",
      "\n",
      "\n"
     ]
    }
   ],
   "source": [
    "select(cursor, 'A #014', table_name = 'employee_',\n",
    "       cond = 'not (empno between 7654 and 7782)')"
   ]
  },
  {
   "cell_type": "markdown",
   "metadata": {},
   "source": [
    "#### **[Q #015]. 이름이 B와 J 사이의 모든 사원의 정보를 조회 하시오.**"
   ]
  },
  {
   "cell_type": "code",
   "execution_count": 19,
   "metadata": {},
   "outputs": [
    {
     "name": "stdout",
     "output_type": "stream",
     "text": [
      "[query] select * from employee_ where ename between \"B\" and \"J\";\n",
      "\n",
      "[A #015]\n",
      "(7698, 'BLAKE', 'MANAGER', 7839, datetime.datetime(1981, 5, 1, 0, 0), 2850, None, 30)\n",
      "(7782, 'CLARK', 'MANAGER', 7839, datetime.datetime(1981, 6, 9, 0, 0), 2450, None, 10)\n",
      "(7902, 'FORD', 'ANALYST', 7566, datetime.datetime(1981, 12, 3, 0, 0), 3000, None, 20)\n",
      "\n",
      "\n"
     ]
    }
   ],
   "source": [
    "select(cursor, 'A #015', table_name = 'employee_',\n",
    "       cond = 'ename between \"B\" and \"J\"')"
   ]
  },
  {
   "cell_type": "markdown",
   "metadata": {},
   "source": [
    "#### **[Q #016]. 입사일이 81년 이외에 입사한 직원의 모든 정보를 조회 하시오.**"
   ]
  },
  {
   "cell_type": "code",
   "execution_count": 20,
   "metadata": {},
   "outputs": [
    {
     "name": "stdout",
     "output_type": "stream",
     "text": [
      "[query] select * from employee_ where not (hiredate like \"1981%\");\n",
      "\n",
      "[A #016]\n",
      "(7369, 'SMITH', 'CLERK', 7902, datetime.datetime(1980, 12, 17, 0, 0), 800, None, 20)\n",
      "(7788, 'SCOTT', 'ANALYST', 7566, datetime.datetime(1982, 12, 9, 0, 0), 3000, None, 20)\n",
      "(7876, 'ADAMS', 'CLERK', 7788, datetime.datetime(1983, 1, 12, 0, 0), 1100, None, 20)\n",
      "(7934, 'MILLER', 'CLERK', 7782, datetime.datetime(1982, 1, 23, 0, 0), 1300, None, 10)\n",
      "\n",
      "\n"
     ]
    }
   ],
   "source": [
    "select(cursor, 'A #016', table_name = 'employee_',\n",
    "       cond = 'not (hiredate like \"1981%\")')"
   ]
  },
  {
   "cell_type": "markdown",
   "metadata": {},
   "source": [
    "#### **[Q #017]. 직업이 manager와 salesman인 직원의 모든 정보를 조회 하시오.**"
   ]
  },
  {
   "cell_type": "code",
   "execution_count": 21,
   "metadata": {},
   "outputs": [
    {
     "name": "stdout",
     "output_type": "stream",
     "text": [
      "[query] select * from employee_ where job in (\"MANAGER\", \"SALESMAN\");\n",
      "\n",
      "[A #017]\n",
      "(7499, 'ALLEN', 'SALESMAN', 7698, datetime.datetime(1981, 2, 20, 0, 0), 1600, 300, 30)\n",
      "(7521, 'WARD', 'SALESMAN', 7698, datetime.datetime(1981, 2, 22, 0, 0), 1250, 500, 30)\n",
      "(7566, 'JONES', 'MANAGER', 7839, datetime.datetime(1981, 4, 2, 0, 0), 2975, None, 20)\n",
      "(7654, 'MARTIN', 'SALESMAN', 7698, datetime.datetime(1981, 9, 28, 0, 0), 1250, 1400, 30)\n",
      "(7698, 'BLAKE', 'MANAGER', 7839, datetime.datetime(1981, 5, 1, 0, 0), 2850, None, 30)\n",
      "(7782, 'CLARK', 'MANAGER', 7839, datetime.datetime(1981, 6, 9, 0, 0), 2450, None, 10)\n",
      "(7844, 'TURNER', 'SALESMAN', 7698, datetime.datetime(1981, 9, 8, 0, 0), 1500, 0, 30)\n",
      "\n",
      "\n"
     ]
    }
   ],
   "source": [
    "select(cursor, 'A #017', table_name = 'employee_',\n",
    "       cond = 'job in (\"MANAGER\", \"SALESMAN\")')"
   ]
  },
  {
   "cell_type": "markdown",
   "metadata": {},
   "source": [
    "#### **[Q #018]. 부서번호가 20, 30번을 제외한 모든 사람의 이름, 사원번호, 부서번호 정보를 조회 하시오.**"
   ]
  },
  {
   "cell_type": "code",
   "execution_count": 22,
   "metadata": {},
   "outputs": [
    {
     "name": "stdout",
     "output_type": "stream",
     "text": [
      "[query] select ename, empno, deptno from employee_ where not (deptno in (20, 30));\n",
      "\n",
      "[A #018]\n",
      "('CLARK', 7782, 10)\n",
      "('KING', 7839, 10)\n",
      "('MILLER', 7934, 10)\n",
      "\n",
      "\n"
     ]
    }
   ],
   "source": [
    "select(cursor, 'A #018', table_name = 'employee_',\n",
    "       cond   = 'not (deptno in (20, 30))',\n",
    "       column = 'ename, empno, deptno')"
   ]
  },
  {
   "cell_type": "markdown",
   "metadata": {},
   "source": [
    "#### **[Q #019]. 입사일이 81년도인 직원의 모든 정보를 조회 하시오.**"
   ]
  },
  {
   "cell_type": "code",
   "execution_count": 23,
   "metadata": {},
   "outputs": [
    {
     "name": "stdout",
     "output_type": "stream",
     "text": [
      "[query] select * from employee_ where hiredate like \"1981%\";\n",
      "\n",
      "[A #019]\n",
      "(7499, 'ALLEN', 'SALESMAN', 7698, datetime.datetime(1981, 2, 20, 0, 0), 1600, 300, 30)\n",
      "(7521, 'WARD', 'SALESMAN', 7698, datetime.datetime(1981, 2, 22, 0, 0), 1250, 500, 30)\n",
      "(7566, 'JONES', 'MANAGER', 7839, datetime.datetime(1981, 4, 2, 0, 0), 2975, None, 20)\n",
      "(7654, 'MARTIN', 'SALESMAN', 7698, datetime.datetime(1981, 9, 28, 0, 0), 1250, 1400, 30)\n",
      "(7698, 'BLAKE', 'MANAGER', 7839, datetime.datetime(1981, 5, 1, 0, 0), 2850, None, 30)\n",
      "(7782, 'CLARK', 'MANAGER', 7839, datetime.datetime(1981, 6, 9, 0, 0), 2450, None, 10)\n",
      "(7839, 'KING', 'PRESIDENT', None, datetime.datetime(1981, 11, 17, 0, 0), 5000, None, 10)\n",
      "(7844, 'TURNER', 'SALESMAN', 7698, datetime.datetime(1981, 9, 8, 0, 0), 1500, 0, 30)\n",
      "(7900, 'JAMES', 'CLERK', 7698, datetime.datetime(1981, 12, 3, 0, 0), 950, None, 30)\n",
      "(7902, 'FORD', 'ANALYST', 7566, datetime.datetime(1981, 12, 3, 0, 0), 3000, None, 20)\n",
      "\n",
      "\n"
     ]
    }
   ],
   "source": [
    "select(cursor, 'A #019', table_name = 'employee_',\n",
    "       cond = 'hiredate like \"1981%\"')"
   ]
  },
  {
   "cell_type": "markdown",
   "metadata": {},
   "source": [
    "#### **[Q #020]. 커미션이 NULL인 사람의 정보를 조회 하시오.**"
   ]
  },
  {
   "cell_type": "code",
   "execution_count": 24,
   "metadata": {},
   "outputs": [
    {
     "name": "stdout",
     "output_type": "stream",
     "text": [
      "[query] select * from employee_ where comm is Null;\n",
      "\n",
      "[A #020]\n",
      "(7369, 'SMITH', 'CLERK', 7902, datetime.datetime(1980, 12, 17, 0, 0), 800, None, 20)\n",
      "(7566, 'JONES', 'MANAGER', 7839, datetime.datetime(1981, 4, 2, 0, 0), 2975, None, 20)\n",
      "(7698, 'BLAKE', 'MANAGER', 7839, datetime.datetime(1981, 5, 1, 0, 0), 2850, None, 30)\n",
      "(7782, 'CLARK', 'MANAGER', 7839, datetime.datetime(1981, 6, 9, 0, 0), 2450, None, 10)\n",
      "(7788, 'SCOTT', 'ANALYST', 7566, datetime.datetime(1982, 12, 9, 0, 0), 3000, None, 20)\n",
      "(7839, 'KING', 'PRESIDENT', None, datetime.datetime(1981, 11, 17, 0, 0), 5000, None, 10)\n",
      "(7876, 'ADAMS', 'CLERK', 7788, datetime.datetime(1983, 1, 12, 0, 0), 1100, None, 20)\n",
      "(7900, 'JAMES', 'CLERK', 7698, datetime.datetime(1981, 12, 3, 0, 0), 950, None, 30)\n",
      "(7902, 'FORD', 'ANALYST', 7566, datetime.datetime(1981, 12, 3, 0, 0), 3000, None, 20)\n",
      "(7934, 'MILLER', 'CLERK', 7782, datetime.datetime(1982, 1, 23, 0, 0), 1300, None, 10)\n",
      "\n",
      "\n"
     ]
    }
   ],
   "source": [
    "select(cursor, 'A #020', table_name = 'employee_',\n",
    "       cond = 'comm is Null')"
   ]
  },
  {
   "cell_type": "markdown",
   "metadata": {},
   "source": [
    "#### **[Q #021]. 커미션이 NULL이 아닌 사람의 정보를 조회 하시오.**"
   ]
  },
  {
   "cell_type": "code",
   "execution_count": 25,
   "metadata": {},
   "outputs": [
    {
     "name": "stdout",
     "output_type": "stream",
     "text": [
      "[query] select * from employee_ where not (comm is Null);\n",
      "\n",
      "[A #021]\n",
      "(7499, 'ALLEN', 'SALESMAN', 7698, datetime.datetime(1981, 2, 20, 0, 0), 1600, 300, 30)\n",
      "(7521, 'WARD', 'SALESMAN', 7698, datetime.datetime(1981, 2, 22, 0, 0), 1250, 500, 30)\n",
      "(7654, 'MARTIN', 'SALESMAN', 7698, datetime.datetime(1981, 9, 28, 0, 0), 1250, 1400, 30)\n",
      "(7844, 'TURNER', 'SALESMAN', 7698, datetime.datetime(1981, 9, 8, 0, 0), 1500, 0, 30)\n",
      "\n",
      "\n"
     ]
    }
   ],
   "source": [
    "select(cursor, 'A #021', table_name = 'employee_',\n",
    "       cond = 'not (comm is Null)')"
   ]
  },
  {
   "cell_type": "markdown",
   "metadata": {},
   "source": [
    "#### **[Q #022]. 부서 번호가 30이고, 급여가 1500 이상인 사람의 이름, 부서, 월급 정보를 조회 하시오.**"
   ]
  },
  {
   "cell_type": "code",
   "execution_count": 26,
   "metadata": {},
   "outputs": [
    {
     "name": "stdout",
     "output_type": "stream",
     "text": [
      "[query] select empno, ename, deptno from employee_ where deptno = 30 and sal >= 1500;\n",
      "\n",
      "[A #022]\n",
      "(7499, 'ALLEN', 30)\n",
      "(7698, 'BLAKE', 30)\n",
      "(7844, 'TURNER', 30)\n",
      "\n",
      "\n",
      "[query] select empno, ename, deptno, sal from employee_ where deptno = 30 and sal >= 1500;\n",
      "\n",
      "[A #022 REF]\n",
      "(7499, 'ALLEN', 30, 1600)\n",
      "(7698, 'BLAKE', 30, 2850)\n",
      "(7844, 'TURNER', 30, 1500)\n",
      "\n",
      "\n"
     ]
    }
   ],
   "source": [
    "select(cursor, 'A #022', table_name = 'employee_',\n",
    "       cond   = 'deptno = 30 and sal >= 1500',\n",
    "       column = 'empno, ename, deptno') \n",
    "\n",
    "select(cursor, 'A #022 REF', table_name = 'employee_',\n",
    "       cond   = 'deptno = 30 and sal >= 1500',\n",
    "       column = 'empno, ename, deptno, sal') "
   ]
  },
  {
   "cell_type": "markdown",
   "metadata": {},
   "source": [
    "#### **[Q #023]. 이름이 K로 시작하거나 부서번호가 30인 사람의 사원번호, 이름, 부서번호 정보를 조회 하시오.**"
   ]
  },
  {
   "cell_type": "code",
   "execution_count": 27,
   "metadata": {},
   "outputs": [
    {
     "name": "stdout",
     "output_type": "stream",
     "text": [
      "[query] select empno, ename, deptno from employee_ where ename like \"K%\" or deptno = 30;\n",
      "\n",
      "[A #023]\n",
      "(7499, 'ALLEN', 30)\n",
      "(7521, 'WARD', 30)\n",
      "(7654, 'MARTIN', 30)\n",
      "(7698, 'BLAKE', 30)\n",
      "(7839, 'KING', 10)\n",
      "(7844, 'TURNER', 30)\n",
      "(7900, 'JAMES', 30)\n",
      "\n",
      "\n"
     ]
    }
   ],
   "source": [
    "select(cursor, 'A #023', table_name = 'employee_',\n",
    "       cond   = 'ename like \"K%\" or deptno = 30',\n",
    "       column = 'empno, ename, deptno') "
   ]
  },
  {
   "cell_type": "markdown",
   "metadata": {},
   "source": [
    "#### **[Q #024]. ALLEN의 직무와 같은 사람의 이름, 부서 번호, 급여, 직무 정보를 조회 하시오.**"
   ]
  },
  {
   "cell_type": "code",
   "execution_count": 28,
   "metadata": {},
   "outputs": [
    {
     "name": "stdout",
     "output_type": "stream",
     "text": [
      "[query] select ename, deptno, sal, job from employee_ where job = (select job from employee_ where ename = \"ALLEN\");\n",
      "\n",
      "[A #024]\n",
      "('ALLEN', 30, 1600, 'SALESMAN')\n",
      "('WARD', 30, 1250, 'SALESMAN')\n",
      "('MARTIN', 30, 1250, 'SALESMAN')\n",
      "('TURNER', 30, 1500, 'SALESMAN')\n",
      "\n",
      "\n"
     ]
    }
   ],
   "source": [
    "select(cursor, 'A #024', table_name = 'employee_',\n",
    "       cond   = 'job = (select job from employee_ where ename = \"ALLEN\")',\n",
    "       column = 'ename, deptno, sal, job')"
   ]
  },
  {
   "cell_type": "markdown",
   "metadata": {},
   "source": [
    "#### **[Q #025]. JONES가 속해있는 부서의 모든 사람의 사원번호, 이름, 입사일, 급여 정보를 조회 하시오.**"
   ]
  },
  {
   "cell_type": "code",
   "execution_count": 29,
   "metadata": {},
   "outputs": [
    {
     "name": "stdout",
     "output_type": "stream",
     "text": [
      "[query] select empno, ename, hiredate, sal from employee_ where deptno = (select deptno from employee_ where ename = \"JONES\");\n",
      "\n",
      "[A #025]\n",
      "(7369, 'SMITH', datetime.datetime(1980, 12, 17, 0, 0), 800)\n",
      "(7566, 'JONES', datetime.datetime(1981, 4, 2, 0, 0), 2975)\n",
      "(7788, 'SCOTT', datetime.datetime(1982, 12, 9, 0, 0), 3000)\n",
      "(7876, 'ADAMS', datetime.datetime(1983, 1, 12, 0, 0), 1100)\n",
      "(7902, 'FORD', datetime.datetime(1981, 12, 3, 0, 0), 3000)\n",
      "\n",
      "\n",
      "[query] select empno, ename, hiredate, sal, deptno from employee_ where deptno = (select deptno from employee_ where ename = \"JONES\");\n",
      "\n",
      "[A #025 REF]\n",
      "(7369, 'SMITH', datetime.datetime(1980, 12, 17, 0, 0), 800, 20)\n",
      "(7566, 'JONES', datetime.datetime(1981, 4, 2, 0, 0), 2975, 20)\n",
      "(7788, 'SCOTT', datetime.datetime(1982, 12, 9, 0, 0), 3000, 20)\n",
      "(7876, 'ADAMS', datetime.datetime(1983, 1, 12, 0, 0), 1100, 20)\n",
      "(7902, 'FORD', datetime.datetime(1981, 12, 3, 0, 0), 3000, 20)\n",
      "\n",
      "\n"
     ]
    }
   ],
   "source": [
    "select(cursor, 'A #025', table_name = 'employee_',\n",
    "       cond   = 'deptno = (select deptno from employee_ where ename = \"JONES\")',\n",
    "       column = 'empno, ename, hiredate, sal')\n",
    "\n",
    "select(cursor, 'A #025 REF', table_name = 'employee_',\n",
    "       cond   = 'deptno = (select deptno from employee_ where ename = \"JONES\")',\n",
    "       column = 'empno, ename, hiredate, sal, deptno')"
   ]
  },
  {
   "cell_type": "markdown",
   "metadata": {},
   "source": [
    "#### **[Q #026]. MARTIN이나 SCOTT의 급여와 같은 사원의 사원번호, 이름, 급여 정보를 조회 하시오.**"
   ]
  },
  {
   "cell_type": "code",
   "execution_count": 30,
   "metadata": {},
   "outputs": [
    {
     "name": "stdout",
     "output_type": "stream",
     "text": [
      "[query] select empno, ename, sal from employee_ where sal = (select sal from employee_ where ename = \"MARTIN\") or                    sal = (select sal from employee_ where ename = \"SCOTT\");\n",
      "\n",
      "[A #026]\n",
      "(7521, 'WARD', 1250)\n",
      "(7654, 'MARTIN', 1250)\n",
      "(7788, 'SCOTT', 3000)\n",
      "(7902, 'FORD', 3000)\n",
      "\n",
      "\n"
     ]
    }
   ],
   "source": [
    "select(cursor, 'A #026', table_name = 'employee_',\n",
    "       cond   = '''sal = (select sal from employee_ where ename = \"MARTIN\") or \\\n",
    "                   sal = (select sal from employee_ where ename = \"SCOTT\")''',\n",
    "       column = 'empno, ename, sal')"
   ]
  },
  {
   "cell_type": "markdown",
   "metadata": {},
   "source": [
    "#### **[Q #027]. 부서 번호가 30번 부서의 최고 급여보다 높은 사원의 사원번호, 이름, 급여 정보를 조회 하시오.**"
   ]
  },
  {
   "cell_type": "code",
   "execution_count": 31,
   "metadata": {},
   "outputs": [
    {
     "name": "stdout",
     "output_type": "stream",
     "text": [
      "[query] select empno, ename, sal from employee_ where sal > (select max(sal) from employee_ where deptno = 30);\n",
      "\n",
      "[A #027]\n",
      "(7566, 'JONES', 2975)\n",
      "(7788, 'SCOTT', 3000)\n",
      "(7839, 'KING', 5000)\n",
      "(7902, 'FORD', 3000)\n",
      "\n",
      "\n",
      "[query] select max(sal) from employee_ where deptno = 30;\n",
      "\n",
      "[A #027 REF]\n",
      "(2850,)\n",
      "\n",
      "\n"
     ]
    }
   ],
   "source": [
    "select(cursor, 'A #027', table_name = 'employee_',\n",
    "       cond   = 'sal > (select max(sal) from employee_ where deptno = 30)',\n",
    "       column = 'empno, ename, sal')\n",
    "\n",
    "select(cursor, 'A #027 REF', table_name = 'employee_',\n",
    "       column = 'max(sal)',\n",
    "       cond   = 'deptno = 30')"
   ]
  },
  {
   "cell_type": "markdown",
   "metadata": {},
   "source": [
    "#### **[Q #028]. 사원 중 급여와 보너스를 합친 금액이 가장 많은 경우와 가장 적은 경우, 평균 금액을 조회 하시오.**"
   ]
  },
  {
   "cell_type": "code",
   "execution_count": 32,
   "metadata": {},
   "outputs": [
    {
     "name": "stdout",
     "output_type": "stream",
     "text": [
      "[query] select max(sal + comm), min(sal + comm), avg(sal + comm) from employee_;\n",
      "\n",
      "[A #028]\n",
      "(2650, 1500, Decimal('1950.0000'))\n",
      "\n",
      "\n",
      "[query] select sal + comm from employee_;\n",
      "\n",
      "[A #028 REF]\n",
      "(None,)\n",
      "(1900,)\n",
      "(1750,)\n",
      "(None,)\n",
      "(2650,)\n",
      "(None,)\n",
      "(None,)\n",
      "(None,)\n",
      "(None,)\n",
      "(1500,)\n",
      "(None,)\n",
      "(None,)\n",
      "(None,)\n",
      "(None,)\n",
      "\n",
      "\n"
     ]
    }
   ],
   "source": [
    "select(cursor, 'A #028', table_name = 'employee_',\n",
    "       column = 'max(sal + comm), min(sal + comm), avg(sal + comm)')\n",
    "\n",
    "select(cursor, 'A #028 REF', table_name = 'employee_',\n",
    "       column = 'sal + comm')"
   ]
  },
  {
   "cell_type": "markdown",
   "metadata": {},
   "source": [
    "#### **[Q #029]. 급여가 30번 부서의 최고 급여보다 높은 사원의 사원 번호, 이름, 급여 정보를 조회 하시오.**"
   ]
  },
  {
   "cell_type": "code",
   "execution_count": 33,
   "metadata": {},
   "outputs": [
    {
     "name": "stdout",
     "output_type": "stream",
     "text": [
      "[query] select empno, ename, sal from employee_ where sal > (select max(sal) from employee_ where deptno = 30);\n",
      "\n",
      "[A #029]\n",
      "(7566, 'JONES', 2975)\n",
      "(7788, 'SCOTT', 3000)\n",
      "(7839, 'KING', 5000)\n",
      "(7902, 'FORD', 3000)\n",
      "\n",
      "\n",
      "[query] select max(sal) from employee_ where deptno = 30;\n",
      "\n",
      "[A #029 REF]\n",
      "(2850,)\n",
      "\n",
      "\n"
     ]
    }
   ],
   "source": [
    "select(cursor, 'A #029', table_name = 'employee_',\n",
    "       column = 'empno, ename, sal',\n",
    "       cond   = 'sal > (select max(sal) from employee_ where deptno = 30)')\n",
    "\n",
    "select(cursor, 'A #029 REF', table_name = 'employee_',\n",
    "       column = 'max(sal)', cond = 'deptno = 30')"
   ]
  },
  {
   "cell_type": "code",
   "execution_count": 34,
   "metadata": {},
   "outputs": [],
   "source": [
    "conn.close()"
   ]
  },
  {
   "cell_type": "markdown",
   "metadata": {},
   "source": [
    "# **99. 참고자료**\n",
    "## **99-1. 도서**  \n",
    "## **99-2. 논문, 학술지**\n",
    "\n",
    "## **99-3. 웹 사이트**\n",
    "- 작업실 | [SQL/실습] 데이터 검색 - 연습문제 풀어보기 2 (문제) [[블로그 링크]](https://reeme.tistory.com/35?category=905298)\n",
    "\n",
    "## **99-4. 데이터셋 출처**"
   ]
  },
  {
   "cell_type": "code",
   "execution_count": null,
   "metadata": {},
   "outputs": [],
   "source": []
  }
 ],
 "metadata": {
  "accelerator": "GPU",
  "colab": {
   "authorship_tag": "ABX9TyPz9VtDNpThZgOFDvRU/rPu",
   "collapsed_sections": [],
   "include_colab_link": true,
   "provenance": []
  },
  "kernelspec": {
   "display_name": "DS",
   "language": "python",
   "name": "ds"
  },
  "language_info": {
   "codemirror_mode": {
    "name": "ipython",
    "version": 3
   },
   "file_extension": ".py",
   "mimetype": "text/x-python",
   "name": "python",
   "nbconvert_exporter": "python",
   "pygments_lexer": "ipython3",
   "version": "3.10.12"
  }
 },
 "nbformat": 4,
 "nbformat_minor": 4
}
