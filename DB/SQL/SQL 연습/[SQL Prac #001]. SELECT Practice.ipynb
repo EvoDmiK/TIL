{
 "cells": [
  {
   "cell_type": "code",
   "execution_count": 1,
   "id": "71580f7f-a64a-44b7-a884-fbb19c32f32e",
   "metadata": {},
   "outputs": [
    {
     "name": "stdout",
     "output_type": "stream",
     "text": [
      "[INFO] config.json 파일을 로딩합니다.\n",
      "[INFO] ports.json 파일을 로딩합니다.\n"
     ]
    }
   ],
   "source": [
    "import sys\n",
    "import os\n",
    "\n",
    "import pymysql as sql\n",
    "\n",
    "## 하위 폴더에 있는 패키지 로딩을 위한 밑작업\n",
    "SEP       = os.path.sep\n",
    "MISC_PATH = SEP.join(os.getcwd().split(SEP)[:-2])\n",
    "ROOT_PATH = SEP.join(os.getcwd().split(SEP)[:-4])\n",
    "sys.path.append(MISC_PATH)\n",
    "\n",
    "from misc.config import *"
   ]
  },
  {
   "cell_type": "code",
   "execution_count": 2,
   "id": "e50ea593-96cd-4970-b75d-0dadfdc2126b",
   "metadata": {},
   "outputs": [],
   "source": [
    "host   = CONFIGS.global_host\n",
    "port   = PORTS.sql_port\n",
    "user   = CONFIGS.sql_user\n",
    "passwd = CONFIGS.sql_passwd"
   ]
  },
  {
   "cell_type": "code",
   "execution_count": 3,
   "id": "36998ea8-958d-4f2c-b6d8-6cf5a5d47321",
   "metadata": {},
   "outputs": [],
   "source": [
    "conn   = sql.connect(host   =   host, user = user, port = port,\n",
    "                     passwd = passwd, db   = 'study')\n",
    "cursor = conn.cursor()"
   ]
  },
  {
   "cell_type": "code",
   "execution_count": 4,
   "id": "debee710-21f4-484d-a2cd-98029cf08a8e",
   "metadata": {},
   "outputs": [],
   "source": [
    "def print_fetch(text: str, results: tuple):\n",
    "    \n",
    "    print(f'[{text}]')\n",
    "    for result in results: print(result)\n",
    "    print('\\n')\n",
    "    \n",
    "\n",
    "def select(table_name: str, text: str = None, column: str = '*', \n",
    "           distinct: bool = False, cond: str = None,\n",
    "           order: str = None, limit_k: str = None):\n",
    "    \n",
    "    \n",
    "    query = f'select distinct {column} from {table_name}' if distinct \\\n",
    "            else f'select {column} from {table_name}'\n",
    "    \n",
    "    if cond != None: query += f' WHERE {cond}'\n",
    "    \n",
    "    if order != None: query += f' ORDER BY {order}'\n",
    "    \n",
    "    if limit_k != None: query += f' LIMIT {limit_k}'\n",
    "    \n",
    "    print(f'[query] {query};\\n')\n",
    "    \n",
    "    cursor.execute(query)\n",
    "    if text != None: print_fetch(text, cursor.fetchall())\n",
    "           "
   ]
  },
  {
   "cell_type": "code",
   "execution_count": 5,
   "id": "4edc477f-22fb-4875-a51a-286a6594fc8e",
   "metadata": {},
   "outputs": [
    {
     "name": "stdout",
     "output_type": "stream",
     "text": [
      "('department',)\n",
      "('dept_',)\n",
      "('employee',)\n",
      "('employee_',)\n",
      "('tCity',)\n",
      "('tStaff',)\n",
      "\n",
      "\n"
     ]
    }
   ],
   "source": [
    "cursor.execute('show tables')\n",
    "for result in cursor.fetchall(): print(result)\n",
    "print('\\n')"
   ]
  },
  {
   "cell_type": "code",
   "execution_count": 6,
   "id": "7d710e6c-2b44-4cff-9af8-17d5c3820323",
   "metadata": {},
   "outputs": [
    {
     "name": "stdout",
     "output_type": "stream",
     "text": [
      "[query] select column_name from information_schema.columns WHERE table_name = \"employee\";\n",
      "\n",
      "[employee table columns]\n",
      "('eno',)\n",
      "('ename',)\n",
      "('job',)\n",
      "('manager',)\n",
      "('hiredate',)\n",
      "('salary',)\n",
      "('commission',)\n",
      "('dno',)\n",
      "\n",
      "\n",
      "[query] select column_name from information_schema.columns WHERE table_name = \"department\";\n",
      "\n",
      "[department table columns]\n",
      "('dno',)\n",
      "('dname',)\n",
      "('loc',)\n",
      "\n",
      "\n"
     ]
    }
   ],
   "source": [
    "select(column = 'column_name', text = 'employee table columns',\n",
    "      table_name = 'information_schema.columns',\n",
    "      cond = 'table_name = \"employee\"')\n",
    "\n",
    "select(column = 'column_name', text = 'department table columns',\n",
    "      table_name = 'information_schema.columns',\n",
    "      cond = 'table_name = \"department\"')"
   ]
  },
  {
   "cell_type": "code",
   "execution_count": 7,
   "id": "8478ca35-8194-426b-b160-7f0ec86e8c33",
   "metadata": {},
   "outputs": [
    {
     "name": "stdout",
     "output_type": "stream",
     "text": [
      "[query] select * from employee;\n",
      "\n",
      "[whole datas in employee table]\n",
      "('101', 'e1', 'section', '102', datetime.datetime(2020, 1, 1, 0, 0), 100, 100, '10')\n",
      "('102', 'e2', 'chief', '103', datetime.datetime(2020, 1, 2, 0, 0), 200, None, '10')\n",
      "('103', 'e3', 'senior', '105', datetime.datetime(2020, 1, 3, 0, 0), 2500, 200, '30')\n",
      "('104', 'e4', 'section', '107', datetime.datetime(2020, 1, 4, 0, 0), 400, None, '30')\n",
      "('105', 'e5', 'chief', '101', datetime.datetime(2020, 1, 5, 0, 0), 450, 100, '20')\n",
      "('106', 'e6', 'senior', '108', datetime.datetime(2020, 1, 6, 0, 0), 500, None, '10')\n",
      "('107', 'e7', 'section', '109', datetime.datetime(2020, 1, 7, 0, 0), 520, 100, '30')\n",
      "('108', 'e8', 'chief', '103', datetime.datetime(2020, 1, 8, 0, 0), 670, None, '20')\n",
      "('109', 'e9', 'senior', '103', datetime.datetime(2020, 1, 9, 0, 0), 800, 100, '10')\n",
      "('110', 'e10', 'section', '103', datetime.datetime(2020, 1, 10, 0, 0), 120, None, '20')\n",
      "('111', 'e11', 'chief', '104', datetime.datetime(2020, 1, 11, 0, 0), 130, 0, '10')\n",
      "('112', 'e12', 'senior', '101', datetime.datetime(2020, 1, 12, 0, 0), 220, None, '30')\n",
      "('113', 'e13', 'section', '102', datetime.datetime(2020, 1, 13, 0, 0), 520, 100, '10')\n",
      "\n",
      "\n",
      "[query] select * from department;\n",
      "\n",
      "[whole datas in department table]\n",
      "('10', 'Accounting', 'Seoul')\n",
      "('20', 'Human', 'Incheon')\n",
      "('30', 'Sales', 'Yungin')\n",
      "('40', 'Computing', 'Suwon')\n",
      "\n",
      "\n"
     ]
    }
   ],
   "source": [
    "select(text = 'whole datas in employee table'  ,   table_name = 'employee')\n",
    "\n",
    "select(text = 'whole datas in department table', table_name = 'department')"
   ]
  },
  {
   "cell_type": "markdown",
   "id": "ddf44ae7-29d8-4f9a-8c8f-7641175dc7ff",
   "metadata": {},
   "source": [
    " #### **[Q #001]. employee 테이블에서 사원명과 봉급 * 12를 조회하라.**"
   ]
  },
  {
   "cell_type": "code",
   "execution_count": 8,
   "id": "8f1751c4-f956-446a-b880-4289f26d25f4",
   "metadata": {},
   "outputs": [
    {
     "name": "stdout",
     "output_type": "stream",
     "text": [
      "[query] select ename, salary * 12 from employee;\n",
      "\n",
      "[A #001]\n",
      "('e1', 1200)\n",
      "('e2', 2400)\n",
      "('e3', 30000)\n",
      "('e4', 4800)\n",
      "('e5', 5400)\n",
      "('e6', 6000)\n",
      "('e7', 6240)\n",
      "('e8', 8040)\n",
      "('e9', 9600)\n",
      "('e10', 1440)\n",
      "('e11', 1560)\n",
      "('e12', 2640)\n",
      "('e13', 6240)\n",
      "\n",
      "\n"
     ]
    }
   ],
   "source": [
    "select(text   = 'A #001', table_name = 'employee',\n",
    "       column = 'ename, salary * 12')"
   ]
  },
  {
   "cell_type": "markdown",
   "id": "6bf107e3-cb6a-4ed8-9788-566937499ef3",
   "metadata": {},
   "source": [
    "#### **[Q #002]. employee 테이블에서 사원번호 110번의 이름과 부서번호.**"
   ]
  },
  {
   "cell_type": "code",
   "execution_count": 9,
   "id": "d223f834-ecac-4134-8049-f47fc133de9f",
   "metadata": {},
   "outputs": [
    {
     "name": "stdout",
     "output_type": "stream",
     "text": [
      "[query] select ename, dno from employee WHERE eno=110;\n",
      "\n",
      "[A #002]\n",
      "('e10', '20')\n",
      "\n",
      "\n",
      "[query] select ename, dno, eno from employee WHERE eno = 110;\n",
      "\n",
      "[A #002 REF]\n",
      "('e10', '20', '110')\n",
      "\n",
      "\n"
     ]
    }
   ],
   "source": [
    "select(text = 'A #002', table_name = 'employee',\n",
    "       column = 'ename, dno', cond = 'eno=110')\n",
    "\n",
    "select(text = 'A #002 REF', table_name = 'employee',\n",
    "       column = 'ename, dno, eno', cond = 'eno = 110')"
   ]
  },
  {
   "cell_type": "markdown",
   "id": "3ec50ac0-c411-4c69-89c9-b6a2372699d3",
   "metadata": {},
   "source": [
    "#### **[Q #003]. employee 테이블에서 부서번호가 20번이고 월급이 400이상인 사원의 이름과 직책**"
   ]
  },
  {
   "cell_type": "code",
   "execution_count": 10,
   "id": "491775cd-d600-4a13-8955-0ad5ea6e0641",
   "metadata": {},
   "outputs": [
    {
     "name": "stdout",
     "output_type": "stream",
     "text": [
      "[query] select ename, job from employee WHERE dno = 20 and salary >= 400;\n",
      "\n",
      "[A #003.]\n",
      "('e5', 'chief')\n",
      "('e8', 'chief')\n",
      "\n",
      "\n",
      "[query] select ename, job, dno, salary from employee WHERE dno = 20 and salary >= 400;\n",
      "\n",
      "[A #003 REF]\n",
      "('e5', 'chief', '20', 450)\n",
      "('e8', 'chief', '20', 670)\n",
      "\n",
      "\n"
     ]
    }
   ],
   "source": [
    "select(text = 'A #003.', column = 'ename, job', table_name = 'employee',\n",
    "       cond = 'dno = 20 and salary >= 400')\n",
    "\n",
    "select(text = 'A #003 REF', table_name = 'employee',\n",
    "       column = 'ename, job, dno, salary', cond = 'dno = 20 and salary >= 400')"
   ]
  },
  {
   "cell_type": "markdown",
   "id": "6250af1f-859d-42de-a99c-660f611c40dc",
   "metadata": {},
   "source": [
    "#### **[Q #004]. 입사일이 2020년 1월 10일에서 2020년 1월 12일 사이인 회원의 이름과 직책**"
   ]
  },
  {
   "cell_type": "code",
   "execution_count": 11,
   "id": "98777fa6-38da-4774-9d76-41b9890507ef",
   "metadata": {},
   "outputs": [
    {
     "name": "stdout",
     "output_type": "stream",
     "text": [
      "[query] select * from employee WHERE hiredate between 20200110 and 20200112;\n",
      "\n",
      "[A #004]\n",
      "('110', 'e10', 'section', '103', datetime.datetime(2020, 1, 10, 0, 0), 120, None, '20')\n",
      "('111', 'e11', 'chief', '104', datetime.datetime(2020, 1, 11, 0, 0), 130, 0, '10')\n",
      "('112', 'e12', 'senior', '101', datetime.datetime(2020, 1, 12, 0, 0), 220, None, '30')\n",
      "\n",
      "\n"
     ]
    }
   ],
   "source": [
    "select(text = 'A #004', table_name = 'employee',\n",
    "       cond = 'hiredate between 20200110 and 20200112')"
   ]
  },
  {
   "cell_type": "markdown",
   "id": "e44243f1-7aa6-4bfb-9a7d-629cbfd629eb",
   "metadata": {},
   "source": [
    "#### **[Q #005]. employee 테이블에서 부서번호가 10 이거나 30인 회원의 이름과 직책**"
   ]
  },
  {
   "cell_type": "code",
   "execution_count": 12,
   "id": "51b4f160-9aaa-434b-829a-4b75e18f20be",
   "metadata": {},
   "outputs": [
    {
     "name": "stdout",
     "output_type": "stream",
     "text": [
      "[query] select ename, job from employee WHERE dno in (10, 30);\n",
      "\n",
      "[A #005]\n",
      "('e1', 'section')\n",
      "('e2', 'chief')\n",
      "('e3', 'senior')\n",
      "('e4', 'section')\n",
      "('e6', 'senior')\n",
      "('e7', 'section')\n",
      "('e9', 'senior')\n",
      "('e11', 'chief')\n",
      "('e12', 'senior')\n",
      "('e13', 'section')\n",
      "\n",
      "\n",
      "[query] select ename, job, dno from employee WHERE dno in (10, 30);\n",
      "\n",
      "[A #005 REF]\n",
      "('e1', 'section', '10')\n",
      "('e2', 'chief', '10')\n",
      "('e3', 'senior', '30')\n",
      "('e4', 'section', '30')\n",
      "('e6', 'senior', '10')\n",
      "('e7', 'section', '30')\n",
      "('e9', 'senior', '10')\n",
      "('e11', 'chief', '10')\n",
      "('e12', 'senior', '30')\n",
      "('e13', 'section', '10')\n",
      "\n",
      "\n"
     ]
    }
   ],
   "source": [
    "select(text = 'A #005', table_name = 'employee',\n",
    "       column = 'ename, job', cond = 'dno in (10, 30)')\n",
    "\n",
    "select(text = 'A #005 REF', table_name = 'employee',\n",
    "       column = 'ename, job, dno', cond = 'dno in (10, 30)')"
   ]
  },
  {
   "cell_type": "markdown",
   "id": "74f5b8fa-ad20-4cc5-b891-7bd5e721a471",
   "metadata": {},
   "source": [
    "#### **[Q #006]. employee 테이블에서 보너스가 null값인 직원의 모든 속성**"
   ]
  },
  {
   "cell_type": "code",
   "execution_count": 13,
   "id": "0b117616-5bc3-47da-8a46-3c5856bbb4d9",
   "metadata": {},
   "outputs": [
    {
     "name": "stdout",
     "output_type": "stream",
     "text": [
      "[query] select * from employee WHERE commission is Null;\n",
      "\n",
      "[A #006]\n",
      "('102', 'e2', 'chief', '103', datetime.datetime(2020, 1, 2, 0, 0), 200, None, '10')\n",
      "('104', 'e4', 'section', '107', datetime.datetime(2020, 1, 4, 0, 0), 400, None, '30')\n",
      "('106', 'e6', 'senior', '108', datetime.datetime(2020, 1, 6, 0, 0), 500, None, '10')\n",
      "('108', 'e8', 'chief', '103', datetime.datetime(2020, 1, 8, 0, 0), 670, None, '20')\n",
      "('110', 'e10', 'section', '103', datetime.datetime(2020, 1, 10, 0, 0), 120, None, '20')\n",
      "('112', 'e12', 'senior', '101', datetime.datetime(2020, 1, 12, 0, 0), 220, None, '30')\n",
      "\n",
      "\n"
     ]
    }
   ],
   "source": [
    "select(text = 'A #006', table_name = 'employee',\n",
    "       cond = 'commission is Null')"
   ]
  },
  {
   "cell_type": "markdown",
   "id": "aa6ce1b9-4d72-4808-9096-5ed26fb5ee08",
   "metadata": {},
   "source": [
    "#### **[Q #007]. employee 테이블에서 직책에 ie가 들어가는 직원의 이름, 직책, 부서번호**"
   ]
  },
  {
   "cell_type": "code",
   "execution_count": 14,
   "id": "670279d1-ab05-43b6-97ce-199c2d348fca",
   "metadata": {},
   "outputs": [
    {
     "name": "stdout",
     "output_type": "stream",
     "text": [
      "[query] select ename, job, dno from employee WHERE job like \"%ie%\";\n",
      "\n",
      "[A #007]\n",
      "('e2', 'chief', '10')\n",
      "('e5', 'chief', '20')\n",
      "('e8', 'chief', '20')\n",
      "('e11', 'chief', '10')\n",
      "\n",
      "\n"
     ]
    }
   ],
   "source": [
    "select(text = 'A #007', table_name = 'employee',\n",
    "       column = 'ename, job, dno', cond = 'job like \"%ie%\"')"
   ]
  },
  {
   "cell_type": "markdown",
   "id": "8261830f-8f72-46f0-abf3-5f09a8caa3bf",
   "metadata": {},
   "source": [
    "#### **[Q #008]. 월급 기준 내림차순으로 사원들의 이름, 월급, 부서번호.**\n",
    "- 단, 월급이 같은 경우 부서번호를 오름차 순으로 재정렬"
   ]
  },
  {
   "cell_type": "code",
   "execution_count": 15,
   "id": "8a680183-0d46-4ad1-872e-27d64a5f2b33",
   "metadata": {},
   "outputs": [
    {
     "name": "stdout",
     "output_type": "stream",
     "text": [
      "[query] select ename, salary, dno from employee ORDER BY salary desc, dno;\n",
      "\n",
      "[A #008]\n",
      "('e3', 2500, '30')\n",
      "('e9', 800, '10')\n",
      "('e8', 670, '20')\n",
      "('e13', 520, '10')\n",
      "('e7', 520, '30')\n",
      "('e6', 500, '10')\n",
      "('e5', 450, '20')\n",
      "('e4', 400, '30')\n",
      "('e12', 220, '30')\n",
      "('e2', 200, '10')\n",
      "('e11', 130, '10')\n",
      "('e10', 120, '20')\n",
      "('e1', 100, '10')\n",
      "\n",
      "\n"
     ]
    }
   ],
   "source": [
    "select(text = 'A #008', table_name = 'employee',\n",
    "       column = 'ename, salary, dno', order = 'salary desc, dno')"
   ]
  },
  {
   "cell_type": "markdown",
   "id": "00d2e64e-f7ca-42dd-9edb-20c3e9497a43",
   "metadata": {},
   "source": [
    "#### **[Q #009]. employee 테이블의 모든 데이터.**"
   ]
  },
  {
   "cell_type": "code",
   "execution_count": 16,
   "id": "a7d1dcc1-1309-4493-a49e-bc28aed4caf4",
   "metadata": {},
   "outputs": [
    {
     "name": "stdout",
     "output_type": "stream",
     "text": [
      "[query] select * from employee;\n",
      "\n",
      "[A #009]\n",
      "('101', 'e1', 'section', '102', datetime.datetime(2020, 1, 1, 0, 0), 100, 100, '10')\n",
      "('102', 'e2', 'chief', '103', datetime.datetime(2020, 1, 2, 0, 0), 200, None, '10')\n",
      "('103', 'e3', 'senior', '105', datetime.datetime(2020, 1, 3, 0, 0), 2500, 200, '30')\n",
      "('104', 'e4', 'section', '107', datetime.datetime(2020, 1, 4, 0, 0), 400, None, '30')\n",
      "('105', 'e5', 'chief', '101', datetime.datetime(2020, 1, 5, 0, 0), 450, 100, '20')\n",
      "('106', 'e6', 'senior', '108', datetime.datetime(2020, 1, 6, 0, 0), 500, None, '10')\n",
      "('107', 'e7', 'section', '109', datetime.datetime(2020, 1, 7, 0, 0), 520, 100, '30')\n",
      "('108', 'e8', 'chief', '103', datetime.datetime(2020, 1, 8, 0, 0), 670, None, '20')\n",
      "('109', 'e9', 'senior', '103', datetime.datetime(2020, 1, 9, 0, 0), 800, 100, '10')\n",
      "('110', 'e10', 'section', '103', datetime.datetime(2020, 1, 10, 0, 0), 120, None, '20')\n",
      "('111', 'e11', 'chief', '104', datetime.datetime(2020, 1, 11, 0, 0), 130, 0, '10')\n",
      "('112', 'e12', 'senior', '101', datetime.datetime(2020, 1, 12, 0, 0), 220, None, '30')\n",
      "('113', 'e13', 'section', '102', datetime.datetime(2020, 1, 13, 0, 0), 520, 100, '10')\n",
      "\n",
      "\n"
     ]
    }
   ],
   "source": [
    "select(text = 'A #009', table_name = 'employee')"
   ]
  },
  {
   "cell_type": "markdown",
   "id": "6ca16301-5754-46b4-bab4-a4e0eaf89329",
   "metadata": {},
   "source": [
    "#### **[Q #010]. employee 테이블에서 사원명과 입사일.**"
   ]
  },
  {
   "cell_type": "code",
   "execution_count": 17,
   "id": "1ee627a8-8e5a-47a5-8103-99859a603e61",
   "metadata": {},
   "outputs": [
    {
     "name": "stdout",
     "output_type": "stream",
     "text": [
      "[query] select ename, hiredate from employee;\n",
      "\n",
      "[A #010]\n",
      "('e1', datetime.datetime(2020, 1, 1, 0, 0))\n",
      "('e2', datetime.datetime(2020, 1, 2, 0, 0))\n",
      "('e3', datetime.datetime(2020, 1, 3, 0, 0))\n",
      "('e4', datetime.datetime(2020, 1, 4, 0, 0))\n",
      "('e5', datetime.datetime(2020, 1, 5, 0, 0))\n",
      "('e6', datetime.datetime(2020, 1, 6, 0, 0))\n",
      "('e7', datetime.datetime(2020, 1, 7, 0, 0))\n",
      "('e8', datetime.datetime(2020, 1, 8, 0, 0))\n",
      "('e9', datetime.datetime(2020, 1, 9, 0, 0))\n",
      "('e10', datetime.datetime(2020, 1, 10, 0, 0))\n",
      "('e11', datetime.datetime(2020, 1, 11, 0, 0))\n",
      "('e12', datetime.datetime(2020, 1, 12, 0, 0))\n",
      "('e13', datetime.datetime(2020, 1, 13, 0, 0))\n",
      "\n",
      "\n"
     ]
    }
   ],
   "source": [
    "select(text   = 'A #010', table_name = 'employee',\n",
    "       column = 'ename, hiredate')"
   ]
  },
  {
   "cell_type": "markdown",
   "id": "1e560d3c-0241-4322-8302-549160e42b3d",
   "metadata": {},
   "source": [
    "#### **[Q #011]. employee 테이블에서 직책의 목록.**"
   ]
  },
  {
   "cell_type": "code",
   "execution_count": 18,
   "id": "3395d44c-fdec-4a33-aa92-e8623aecf4a2",
   "metadata": {},
   "outputs": [
    {
     "name": "stdout",
     "output_type": "stream",
     "text": [
      "[query] select distinct job from employee;\n",
      "\n",
      "[A #011]\n",
      "('section',)\n",
      "('chief',)\n",
      "('senior',)\n",
      "\n",
      "\n"
     ]
    }
   ],
   "source": [
    "select(text  = 'A #011', table_name = 'employee',\n",
    "      distinct = True, column = 'job')"
   ]
  },
  {
   "cell_type": "markdown",
   "id": "8008f879-072b-40f7-b5af-a01ce3f66f43",
   "metadata": {},
   "source": [
    "#### **[Q #012]. employee 테이블에서 부서번호가 10인 직원.**"
   ]
  },
  {
   "cell_type": "code",
   "execution_count": 19,
   "id": "2ac2cb30-a5fe-4aba-bd04-9609a3f1efc5",
   "metadata": {},
   "outputs": [
    {
     "name": "stdout",
     "output_type": "stream",
     "text": [
      "[query] select * from employee WHERE dno = 10;\n",
      "\n",
      "[A #012]\n",
      "('101', 'e1', 'section', '102', datetime.datetime(2020, 1, 1, 0, 0), 100, 100, '10')\n",
      "('102', 'e2', 'chief', '103', datetime.datetime(2020, 1, 2, 0, 0), 200, None, '10')\n",
      "('106', 'e6', 'senior', '108', datetime.datetime(2020, 1, 6, 0, 0), 500, None, '10')\n",
      "('109', 'e9', 'senior', '103', datetime.datetime(2020, 1, 9, 0, 0), 800, 100, '10')\n",
      "('111', 'e11', 'chief', '104', datetime.datetime(2020, 1, 11, 0, 0), 130, 0, '10')\n",
      "('113', 'e13', 'section', '102', datetime.datetime(2020, 1, 13, 0, 0), 520, 100, '10')\n",
      "\n",
      "\n"
     ]
    }
   ],
   "source": [
    "select(text = 'A #012', table_name = 'employee',\n",
    "       cond = 'dno = 10')"
   ]
  },
  {
   "cell_type": "markdown",
   "id": "eae01811-9183-4b47-aa03-42a5c081b065",
   "metadata": {},
   "source": [
    "#### **[Q #013]. employee 테이블에서 월급이 2500이상이 되는 직원.**"
   ]
  },
  {
   "cell_type": "code",
   "execution_count": 20,
   "id": "bd0227b6-1f2f-4880-b2e7-0a7a5d77a0fb",
   "metadata": {},
   "outputs": [
    {
     "name": "stdout",
     "output_type": "stream",
     "text": [
      "[query] select * from employee WHERE salary >= 2500;\n",
      "\n",
      "[A #013]\n",
      "('103', 'e3', 'senior', '105', datetime.datetime(2020, 1, 3, 0, 0), 2500, 200, '30')\n",
      "\n",
      "\n"
     ]
    }
   ],
   "source": [
    "select(text = 'A #013', table_name = 'employee',\n",
    "       cond = 'salary >= 2500')"
   ]
  },
  {
   "cell_type": "markdown",
   "id": "7477a8e8-2d57-4147-bba9-23c2d01175ff",
   "metadata": {},
   "source": [
    "#### **[Q #014]. employee 테이블에서 이름이 e10인 직원.**"
   ]
  },
  {
   "cell_type": "code",
   "execution_count": 21,
   "id": "2f2c571f-7166-49ab-9eaf-138b1c12637b",
   "metadata": {},
   "outputs": [
    {
     "name": "stdout",
     "output_type": "stream",
     "text": [
      "[query] select * from employee WHERE ename = \"e10\";\n",
      "\n",
      "[A #014]\n",
      "('110', 'e10', 'section', '103', datetime.datetime(2020, 1, 10, 0, 0), 120, None, '20')\n",
      "\n",
      "\n"
     ]
    }
   ],
   "source": [
    "select(text = 'A #014', table_name = 'employee', cond = 'ename = \"e10\"')"
   ]
  },
  {
   "cell_type": "markdown",
   "id": "a0da11c7-6f79-4197-99e5-b4ea2defe52f",
   "metadata": {},
   "source": [
    "#### **[Q #015]. 직책이 S로 시작하는 사원의 사원 번호와 이름.**"
   ]
  },
  {
   "cell_type": "code",
   "execution_count": 22,
   "id": "b93754ef-f443-47d6-b909-3a7748a8e8d9",
   "metadata": {},
   "outputs": [
    {
     "name": "stdout",
     "output_type": "stream",
     "text": [
      "[query] select eno, ename from employee WHERE job like \"S%\";\n",
      "\n",
      "[A #015]\n",
      "('101', 'e1')\n",
      "('103', 'e3')\n",
      "('104', 'e4')\n",
      "('106', 'e6')\n",
      "('107', 'e7')\n",
      "('109', 'e9')\n",
      "('110', 'e10')\n",
      "('112', 'e12')\n",
      "('113', 'e13')\n",
      "\n",
      "\n",
      "[query] select eno, ename, job from employee WHERE job like \"S%\";\n",
      "\n",
      "[A #015 REF]\n",
      "('101', 'e1', 'section')\n",
      "('103', 'e3', 'senior')\n",
      "('104', 'e4', 'section')\n",
      "('106', 'e6', 'senior')\n",
      "('107', 'e7', 'section')\n",
      "('109', 'e9', 'senior')\n",
      "('110', 'e10', 'section')\n",
      "('112', 'e12', 'senior')\n",
      "('113', 'e13', 'section')\n",
      "\n",
      "\n"
     ]
    }
   ],
   "source": [
    "select(text   = 'A #015', table_name = 'employee',\n",
    "       column = 'eno, ename', cond = 'job like \"S%\"')\n",
    "\n",
    "select(text = 'A #015 REF', table_name = 'employee',\n",
    "      column = 'eno, ename, job', cond = 'job like \"S%\"')"
   ]
  },
  {
   "cell_type": "markdown",
   "id": "0ce389d4-5c03-45d1-a9d9-3486e4e333bf",
   "metadata": {},
   "source": [
    "#### **[Q #016]. 사원 직책에 e가 포함된 사원의 사원번호와 이름.**"
   ]
  },
  {
   "cell_type": "code",
   "execution_count": 23,
   "id": "74b48b12-8a16-4116-8c62-3ebdcac8dbba",
   "metadata": {},
   "outputs": [
    {
     "name": "stdout",
     "output_type": "stream",
     "text": [
      "[query] select eno, ename from employee WHERE job like \"%e%\";\n",
      "\n",
      "[A #016]\n",
      "('101', 'e1')\n",
      "('102', 'e2')\n",
      "('103', 'e3')\n",
      "('104', 'e4')\n",
      "('105', 'e5')\n",
      "('106', 'e6')\n",
      "('107', 'e7')\n",
      "('108', 'e8')\n",
      "('109', 'e9')\n",
      "('110', 'e10')\n",
      "('111', 'e11')\n",
      "('112', 'e12')\n",
      "('113', 'e13')\n",
      "\n",
      "\n",
      "[query] select eno, ename, job from employee WHERE job like \"%e%\";\n",
      "\n",
      "[A #016 REF]\n",
      "('101', 'e1', 'section')\n",
      "('102', 'e2', 'chief')\n",
      "('103', 'e3', 'senior')\n",
      "('104', 'e4', 'section')\n",
      "('105', 'e5', 'chief')\n",
      "('106', 'e6', 'senior')\n",
      "('107', 'e7', 'section')\n",
      "('108', 'e8', 'chief')\n",
      "('109', 'e9', 'senior')\n",
      "('110', 'e10', 'section')\n",
      "('111', 'e11', 'chief')\n",
      "('112', 'e12', 'senior')\n",
      "('113', 'e13', 'section')\n",
      "\n",
      "\n"
     ]
    }
   ],
   "source": [
    "select(text   = 'A #016', table_name = 'employee',\n",
    "       column = 'eno, ename', cond = 'job like \"%e%\"')\n",
    "\n",
    "select(text = 'A #016 REF', table_name = 'employee',\n",
    "      column = 'eno, ename, job', cond = 'job like \"%e%\"')"
   ]
  },
  {
   "cell_type": "markdown",
   "id": "5438b411-fc40-4240-b282-2b4074a5aefe",
   "metadata": {},
   "source": [
    "#### **[Q #017]. 월급이 200, 400, 2500인 직원의 사번, 이름,보너스.**"
   ]
  },
  {
   "cell_type": "code",
   "execution_count": 24,
   "id": "25e7d545-e7e0-455c-abcf-aa28c15c5249",
   "metadata": {},
   "outputs": [
    {
     "name": "stdout",
     "output_type": "stream",
     "text": [
      "[query] select eno, ename, commission from employee WHERE salary in (200, 400, 2500);\n",
      "\n",
      "[A #017]\n",
      "('102', 'e2', None)\n",
      "('103', 'e3', 200)\n",
      "('104', 'e4', None)\n",
      "\n",
      "\n",
      "[query] select eno, ename, commission, salary from employee WHERE salary in (200, 400, 2500);\n",
      "\n",
      "[A #017 REF]\n",
      "('102', 'e2', None, 200)\n",
      "('103', 'e3', 200, 2500)\n",
      "('104', 'e4', None, 400)\n",
      "\n",
      "\n"
     ]
    }
   ],
   "source": [
    "select(text   = 'A #017', table_name = 'employee',\n",
    "       column = 'eno, ename, commission', cond = 'salary in (200, 400, 2500)')\n",
    "\n",
    "select(text = 'A #017 REF', table_name = 'employee',\n",
    "      column = 'eno, ename, commission, salary', cond = 'salary in (200, 400, 2500)')"
   ]
  },
  {
   "cell_type": "markdown",
   "id": "3a998239-8a84-4e83-96d8-03f24fe66373",
   "metadata": {},
   "source": [
    "#### **[Q #018]. 직책이 chief이고 부서번호가 30번인 직원의 이름, 사번, 직급, 부서번호.**"
   ]
  },
  {
   "cell_type": "code",
   "execution_count": 25,
   "id": "fb8535d2-3d7e-4ead-b410-887ec99ff820",
   "metadata": {},
   "outputs": [
    {
     "name": "stdout",
     "output_type": "stream",
     "text": [
      "[query] select ename, eno, job, dno from employee WHERE job = \"chief\" and dno = 30;\n",
      "\n",
      "[A #018]\n",
      "\n",
      "\n",
      "[query] select ename, eno, job, dno from employee WHERE job = \"chief\";\n",
      "\n",
      "[A #018 REF]\n",
      "('e2', '102', 'chief', '10')\n",
      "('e5', '105', 'chief', '20')\n",
      "('e8', '108', 'chief', '20')\n",
      "('e11', '111', 'chief', '10')\n",
      "\n",
      "\n"
     ]
    }
   ],
   "source": [
    "select(text   = 'A #018', table_name = 'employee',\n",
    "       column = 'ename, eno, job, dno', cond = 'job = \"chief\" and dno = 30')\n",
    "\n",
    "select(text = 'A #018 REF', table_name = 'employee',\n",
    "       column = 'ename, eno, job, dno', cond = 'job = \"chief\"')\n"
   ]
  },
  {
   "cell_type": "markdown",
   "id": "a4afb0db-2bd8-45a4-9a28-1f1bd6be252c",
   "metadata": {},
   "source": [
    "#### **[Q #019]. 부서번호가 30이 아닌 직원의 사번, 이름, 부서번호.**"
   ]
  },
  {
   "cell_type": "code",
   "execution_count": 26,
   "id": "2a226e99-fda6-4467-b25b-bf077edcdb02",
   "metadata": {},
   "outputs": [
    {
     "name": "stdout",
     "output_type": "stream",
     "text": [
      "[query] select eno, ename, dno from employee WHERE dno <> 30;\n",
      "\n",
      "[A #019]\n",
      "('101', 'e1', '10')\n",
      "('102', 'e2', '10')\n",
      "('105', 'e5', '20')\n",
      "('106', 'e6', '10')\n",
      "('108', 'e8', '20')\n",
      "('109', 'e9', '10')\n",
      "('110', 'e10', '20')\n",
      "('111', 'e11', '10')\n",
      "('113', 'e13', '10')\n",
      "\n",
      "\n"
     ]
    }
   ],
   "source": [
    "select(text   = 'A #019', table_name = 'employee',\n",
    "       column = 'eno, ename, dno', cond = 'dno <> 30')"
   ]
  },
  {
   "cell_type": "markdown",
   "id": "452e520d-4af8-482c-aa67-8a6414f81a3a",
   "metadata": {},
   "source": [
    "#### **[Q #020]. 월급이 200, 400, 2500이 아닌 사원의 사번, 이름, 보너스**"
   ]
  },
  {
   "cell_type": "code",
   "execution_count": 27,
   "id": "08b70524-9635-4ff9-b082-a2dd5f911a49",
   "metadata": {},
   "outputs": [
    {
     "name": "stdout",
     "output_type": "stream",
     "text": [
      "[query] select eno, ename, commission from employee WHERE not salary in (200, 400, 2500);\n",
      "\n",
      "[A #020]\n",
      "('101', 'e1', 100)\n",
      "('105', 'e5', 100)\n",
      "('106', 'e6', None)\n",
      "('107', 'e7', 100)\n",
      "('108', 'e8', None)\n",
      "('109', 'e9', 100)\n",
      "('110', 'e10', None)\n",
      "('111', 'e11', 0)\n",
      "('112', 'e12', None)\n",
      "('113', 'e13', 100)\n",
      "\n",
      "\n",
      "[query] select eno, ename, salary from employee WHERE not salary in (200, 400, 2500);\n",
      "\n",
      "[A #020 REF]\n",
      "('101', 'e1', 100)\n",
      "('105', 'e5', 450)\n",
      "('106', 'e6', 500)\n",
      "('107', 'e7', 520)\n",
      "('108', 'e8', 670)\n",
      "('109', 'e9', 800)\n",
      "('110', 'e10', 120)\n",
      "('111', 'e11', 130)\n",
      "('112', 'e12', 220)\n",
      "('113', 'e13', 520)\n",
      "\n",
      "\n"
     ]
    }
   ],
   "source": [
    "select(text   = 'A #020', table_name = 'employee',\n",
    "       column = 'eno, ename, commission', cond = 'not salary in (200, 400, 2500)')\n",
    "\n",
    "select(text = 'A #020 REF', table_name = 'employee',\n",
    "      column = 'eno, ename, salary', cond = 'not salary in (200, 400, 2500)')"
   ]
  },
  {
   "cell_type": "markdown",
   "id": "c0dd289f-6b61-4fea-8a88-1e4ed545c03c",
   "metadata": {},
   "source": [
    "#### **[Q #021]. 보너스가 NULL인 직원의 이름과 직급.**"
   ]
  },
  {
   "cell_type": "code",
   "execution_count": 28,
   "id": "842b1886-9c50-49d1-9c08-4a0bff1a0179",
   "metadata": {},
   "outputs": [
    {
     "name": "stdout",
     "output_type": "stream",
     "text": [
      "[query] select ename, job from employee WHERE commission is Null;\n",
      "\n",
      "[A #021]\n",
      "('e2', 'chief')\n",
      "('e4', 'section')\n",
      "('e6', 'senior')\n",
      "('e8', 'chief')\n",
      "('e10', 'section')\n",
      "('e12', 'senior')\n",
      "\n",
      "\n",
      "[query] select ename, job, commission from employee WHERE commission is Null;\n",
      "\n",
      "[A #021 REF]\n",
      "('e2', 'chief', None)\n",
      "('e4', 'section', None)\n",
      "('e6', 'senior', None)\n",
      "('e8', 'chief', None)\n",
      "('e10', 'section', None)\n",
      "('e12', 'senior', None)\n",
      "\n",
      "\n"
     ]
    }
   ],
   "source": [
    "select(text   = 'A #021', table_name = 'employee',\n",
    "       column = 'ename, job', cond = 'commission is Null')\n",
    "\n",
    "select(text   = 'A #021 REF', table_name = 'employee',\n",
    "       column = 'ename, job, commission', cond = 'commission is Null')"
   ]
  },
  {
   "cell_type": "code",
   "execution_count": 29,
   "id": "a121afdf-90e4-4358-8141-ab3eeb5f971a",
   "metadata": {},
   "outputs": [],
   "source": [
    "conn.close()"
   ]
  },
  {
   "cell_type": "markdown",
   "id": "f2b17727-a112-4fc0-b6f0-93d5108536ed",
   "metadata": {},
   "source": [
    "# **99. 참고자료**\n",
    "## **99-1. 도서** \n",
    "\n",
    "## **99-2. 논문, 학술지**\n",
    "\n",
    "## **99-3. 웹 사이트**\n",
    "- 작업실 | [SQL/실습] 데이터 검색 - 연습문제 풀어보기 1 (문제) [[블로그 링크]](https://reeme.tistory.com/37)\n",
    "\n",
    "## **99-4. 데이터셋 출처**\n"
   ]
  },
  {
   "cell_type": "code",
   "execution_count": null,
   "id": "d86fe43f-f317-47d7-bbb7-dc55282aa68f",
   "metadata": {},
   "outputs": [],
   "source": []
  }
 ],
 "metadata": {
  "kernelspec": {
   "display_name": "DS",
   "language": "python",
   "name": "ds"
  },
  "language_info": {
   "codemirror_mode": {
    "name": "ipython",
    "version": 3
   },
   "file_extension": ".py",
   "mimetype": "text/x-python",
   "name": "python",
   "nbconvert_exporter": "python",
   "pygments_lexer": "ipython3",
   "version": "3.10.12"
  }
 },
 "nbformat": 4,
 "nbformat_minor": 5
}
