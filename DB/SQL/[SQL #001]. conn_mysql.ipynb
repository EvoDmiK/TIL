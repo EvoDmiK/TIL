{
 "cells": [
  {
   "cell_type": "code",
   "execution_count": 1,
   "id": "7aad4e80-e51f-4232-b350-f33b3115933d",
   "metadata": {},
   "outputs": [],
   "source": [
    "import json\n",
    "import os\n",
    "\n",
    "from easydict import EasyDict as edict\n",
    "import pymysql as sql\n",
    "import pandas as pd\n",
    "import numpy as np"
   ]
  },
  {
   "cell_type": "code",
   "execution_count": 2,
   "id": "37ff22f5-da5a-4ce6-8678-b73cd80a1a39",
   "metadata": {},
   "outputs": [],
   "source": [
    "ROOT_PATH   = '/'.join(os.getcwd().split('/')[:-4])\n",
    "CONFIG_PATH = f'{ROOT_PATH}/utils/configs/config.json'\n",
    "PORTS_PATH  = f'{ROOT_PATH}/utils/configs/ports.json'\n",
    "\n",
    "config      = json.loads(open(CONFIG_PATH, 'r').read())\n",
    "config      = edict(config)\n",
    "\n",
    "ports       = json.loads(open(PORTS_PATH, 'r').read())\n",
    "ports       = edict(ports)"
   ]
  },
  {
   "cell_type": "code",
   "execution_count": 3,
   "id": "13e4bf56-760d-481c-8c6c-da93db26620f",
   "metadata": {},
   "outputs": [],
   "source": [
    "host   = config.global_host\n",
    "port   = ports.sql_port\n",
    "user   = config.sql_user\n",
    "passwd = config.sql_passwd"
   ]
  },
  {
   "cell_type": "code",
   "execution_count": 4,
   "id": "841f5cfd-4afc-4176-81b3-38ea62191fc8",
   "metadata": {},
   "outputs": [],
   "source": [
    "conn   = sql.connect(host = host, user = user, port = port, \n",
    "                     password = passwd, db = 'DoveNest')\n",
    "\n",
    "cursor = conn.cursor()"
   ]
  },
  {
   "cell_type": "code",
   "execution_count": 5,
   "id": "7e71efe6-7d2a-4620-86fa-40e9e20d868a",
   "metadata": {},
   "outputs": [
    {
     "name": "stderr",
     "output_type": "stream",
     "text": [
      "/tmp/ipykernel_9741/322381125.py:2: UserWarning: pandas only supports SQLAlchemy connectable (engine/connection) or database string URI or sqlite3 DBAPI2 connection. Other DBAPI2 objects are not tested. Please consider using SQLAlchemy.\n",
      "  df     = pd.read_sql(query, conn)\n"
     ]
    }
   ],
   "source": [
    "query  = 'SHOW TABLES'\n",
    "df     = pd.read_sql(query, conn)"
   ]
  },
  {
   "cell_type": "code",
   "execution_count": 6,
   "id": "af610be4-b7d2-44e0-a815-baea4c42e1b9",
   "metadata": {},
   "outputs": [
    {
     "data": {
      "text/html": [
       "<div>\n",
       "<style scoped>\n",
       "    .dataframe tbody tr th:only-of-type {\n",
       "        vertical-align: middle;\n",
       "    }\n",
       "\n",
       "    .dataframe tbody tr th {\n",
       "        vertical-align: top;\n",
       "    }\n",
       "\n",
       "    .dataframe thead th {\n",
       "        text-align: right;\n",
       "    }\n",
       "</style>\n",
       "<table border=\"1\" class=\"dataframe\">\n",
       "  <thead>\n",
       "    <tr style=\"text-align: right;\">\n",
       "      <th></th>\n",
       "      <th>Tables_in_DoveNest</th>\n",
       "    </tr>\n",
       "  </thead>\n",
       "  <tbody>\n",
       "  </tbody>\n",
       "</table>\n",
       "</div>"
      ],
      "text/plain": [
       "Empty DataFrame\n",
       "Columns: [Tables_in_DoveNest]\n",
       "Index: []"
      ]
     },
     "execution_count": 6,
     "metadata": {},
     "output_type": "execute_result"
    }
   ],
   "source": [
    "df"
   ]
  },
  {
   "cell_type": "code",
   "execution_count": null,
   "id": "23841b6a-5f97-449b-ba85-45534c48225d",
   "metadata": {},
   "outputs": [],
   "source": []
  }
 ],
 "metadata": {
  "kernelspec": {
   "display_name": "dove",
   "language": "python",
   "name": "dove"
  },
  "language_info": {
   "codemirror_mode": {
    "name": "ipython",
    "version": 3
   },
   "file_extension": ".py",
   "mimetype": "text/x-python",
   "name": "python",
   "nbconvert_exporter": "python",
   "pygments_lexer": "ipython3",
   "version": "3.8.13"
  }
 },
 "nbformat": 4,
 "nbformat_minor": 5
}
