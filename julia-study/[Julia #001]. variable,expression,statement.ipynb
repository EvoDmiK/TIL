{
 "cells": [
  {
   "cell_type": "markdown",
   "id": "18858fb2-0df4-4e95-baee-bcaafc85486d",
   "metadata": {},
   "source": [
    "# **0. 참고자료**\n",
    "## 0-1. 도서  \n",
    "- 한빛미디어 | 벤 로언스, 앨런 다우니 저 / 송한별 역-줄리아를 생각하다  \n",
    "\n",
    "## 0-2. 논문, 학술지\n",
    "\n",
    "## 0-3. 웹 사이트\n",
    "\n",
    "## 0-4. 데이터셋 출처\n",
    "\n",
    "\n",
    "# **1. 변수, 표현식, 문장**\n",
    "## 1-1. 할당문 (assignment statement)\n",
    "- 새로운 변수를 만들고, 변수에 값을 할당하는 구문  \n",
    "- 변수의 이름을 쓰고 값으로 가는 화살표를 그리는 도식을 **상태 도식(state diagram)** 이라 부른다.\n",
    "\n",
    "## 1-2. 변수명\n",
    "- 변수명으로는 거의 모든 유니코드 문자를 사용할 수 있다. (숫자로 시작하는 것은 불가능 함. | 파이썬과 동일)\n",
    "- 줄리아 REPL에서는 유니코드 문자를 LaTeX과 비슷한 약어를 사용해 탭 완성으로 입력할 수 있다.\n",
    "- 줄리아에서의 예약어를 변수명으로 사용 할 수 없다. (e.g. if, else, do, begin...)"
   ]
  },
  {
   "cell_type": "code",
   "execution_count": 5,
   "id": "64c2a42d-0cb3-4b87-8d0e-21f35ee3297f",
   "metadata": {},
   "outputs": [
    {
     "name": "stdout",
     "output_type": "stream",
     "text": [
      "3.141592"
     ]
    }
   ],
   "source": [
    "## π를 입력하려면 \\pi 후, tab누르기 \n",
    "π_val = 3.141592\n",
    "print(π_val)"
   ]
  },
  {
   "cell_type": "code",
   "execution_count": 6,
   "id": "97b72594-88cb-428a-b49f-57c034ade166",
   "metadata": {},
   "outputs": [
    {
     "ename": "LoadError",
     "evalue": "syntax: character literal contains multiple characters",
     "output_type": "error",
     "traceback": [
      "syntax: character literal contains multiple characters",
      "",
      "Stacktrace:",
      " [1] top-level scope",
      "   @ In[6]:1",
      " [2] eval",
      "   @ ./boot.jl:373 [inlined]",
      " [3] include_string(mapexpr::typeof(REPL.softscope), mod::Module, code::String, filename::String)",
      "   @ Base ./loading.jl:1196"
     ]
    }
   ],
   "source": [
    "1st_name = 'hello'"
   ]
  },
  {
   "cell_type": "markdown",
   "id": "7dd1788f-ef8f-41b2-a9f6-b62ef64e7021",
   "metadata": {},
   "source": [
    "## 1-3. 표현식(expression)과 문장(statement)\n",
    "- 표현식 | 값, 변수, 연산자의 조합  \n",
    "    → 프롬프트에서 표현식을 입력하면 REPL은 표현식의 값을 계산하여 평가함.\n",
    "- 문장   | 변수를 만들거나, 값을 출력하는 등 특정 작용을 하는 코드 단위"
   ]
  },
  {
   "cell_type": "code",
   "execution_count": 8,
   "id": "6e075b3c-d4e1-43cf-a29f-a9896b9f477a",
   "metadata": {},
   "outputs": [
    {
     "data": {
      "text/plain": [
       "32.141592"
      ]
     },
     "execution_count": 8,
     "metadata": {},
     "output_type": "execute_result"
    }
   ],
   "source": [
    "## 표현식\n",
    "π_val + 29"
   ]
  },
  {
   "cell_type": "code",
   "execution_count": 9,
   "id": "d9535962-463b-4f0d-b14b-dc3c009b19d6",
   "metadata": {},
   "outputs": [
    {
     "name": "stdout",
     "output_type": "stream",
     "text": [
      "0.001"
     ]
    }
   ],
   "source": [
    "## 문장\n",
    "δ = 0.001\n",
    "print(δ)"
   ]
  },
  {
   "cell_type": "markdown",
   "id": "9ef276e2-72cf-4a25-964b-209b8d6c4457",
   "metadata": {},
   "source": [
    "## 1-4. 문자열 연산자\n",
    "- 일반적으로 문자열에 수학 연산자를 적용할 수는 없지만, *와 ^연산자는 적용할 수 있음.\n",
    "- '*' | 문자열 두 개를 합해주는 연산자 (파이썬의 + 연산)\n",
    "- ^ | 특정 문자열을 n 번 반복시켜주는 연산자 (파이썬의 * 연산)"
   ]
  },
  {
   "cell_type": "code",
   "execution_count": 19,
   "id": "9c3d52a2-27c1-4596-972c-5bb35f76ade6",
   "metadata": {},
   "outputs": [
    {
     "data": {
      "text/plain": [
       "\"Dove Kim\""
      ]
     },
     "execution_count": 19,
     "metadata": {},
     "output_type": "execute_result"
    }
   ],
   "source": [
    "## * 연산자\n",
    "first  = \"Dove\"\n",
    "second = \" Kim\"\n",
    "\n",
    "first*second"
   ]
  },
  {
   "cell_type": "code",
   "execution_count": 23,
   "id": "c06e7b29-b4d3-432e-8f04-4a8cf9a8b2f5",
   "metadata": {},
   "outputs": [
    {
     "data": {
      "text/plain": [
       "\"Dove Nest Dove Nest Dove Nest \""
      ]
     },
     "execution_count": 23,
     "metadata": {},
     "output_type": "execute_result"
    }
   ],
   "source": [
    "## ^ 연산자\n",
    "## 파이썬과 동일하게 ;을 사용하면 여러 줄의 코드를 한 줄에서 사용할 수 있다.\n",
    "third = \"Dove Nest \"; third^3"
   ]
  },
  {
   "cell_type": "markdown",
   "id": "74577e8f-1769-4333-90b1-7bf96dfcf8ef",
   "metadata": {},
   "source": [
    "# **2. 연습문제**\n",
    "#### Q1. 반지름이 r인 구의 부피는 (4/3)πr^2입니다. 반지름이 5인 구의 부피는 얼마인가요?\n",
    "#### A1."
   ]
  },
  {
   "cell_type": "code",
   "execution_count": 27,
   "id": "0d4ce812-ca9a-4f80-b363-69e0aa5be98b",
   "metadata": {},
   "outputs": [
    {
     "data": {
      "text/plain": [
       "104.71975511965977"
      ]
     },
     "execution_count": 27,
     "metadata": {},
     "output_type": "execute_result"
    }
   ],
   "source": [
    "r = 5\n",
    "π_val = 3.1415926535897932\n",
    "\n",
    "V = (4/3)*π_val*r*r"
   ]
  },
  {
   "cell_type": "markdown",
   "id": "338dd717-cd23-49e4-ae51-89a9161ffc79",
   "metadata": {},
   "source": [
    "#### Q2. 어떤 책의 정가가 24.95달러 인데, 서점에서 40% 할인을 해줍니다.\n",
    "#### &nbsp;&nbsp;&nbsp;&nbsp;&nbsp;&nbsp;배송비는 한 권일 때 3달러이고, 한 권이 늘어날 때마다 75센트가 붙습니다.\n",
    "#### &nbsp;&nbsp;&nbsp;&nbsp;&nbsp;&nbsp;60권을 주문 및 배송한다면 얼마의 비용이 들까요?\n",
    "#### A2."
   ]
  },
  {
   "cell_type": "code",
   "execution_count": 28,
   "id": "97efd918-6f46-4dbb-bdb9-28d77b545e96",
   "metadata": {},
   "outputs": [
    {
     "data": {
      "text/plain": [
       "945.4499999999999"
      ]
     },
     "execution_count": 28,
     "metadata": {},
     "output_type": "execute_result"
    }
   ],
   "source": [
    "books_price   = (24.95 * 0.6) * 60\n",
    "baesong_price = 3 + 0.75*59\n",
    "total_price   = books_price + baesong_price"
   ]
  },
  {
   "cell_type": "markdown",
   "id": "e9e08cab-b9e8-4755-972c-dae00b070028",
   "metadata": {},
   "source": [
    "#### Q3. 제가 아침 6시 52분에 집을 떠나서, 1마일을 느긋하게 달리고 (1마일당 8분 15초),\n",
    "#### &nbsp;&nbsp;&nbsp;&nbsp;&nbsp;&nbsp;3마일을 조금 빠르게 달리고(1마일당 7분 12초),\n",
    "#### &nbsp;&nbsp;&nbsp;&nbsp;&nbsp;&nbsp;다시 1마일을 느긋하게 달린다면, 언제 집에 도착하겠습니까?\n",
    "#### A3. 아침 7시 30분에 도착"
   ]
  },
  {
   "cell_type": "code",
   "execution_count": 29,
   "id": "6cc839c6-c2f0-452f-a4ba-8afdbf171dc9",
   "metadata": {},
   "outputs": [
    {
     "data": {
      "text/plain": [
       "38.1"
      ]
     },
     "execution_count": 29,
     "metadata": {},
     "output_type": "execute_result"
    }
   ],
   "source": [
    "slowly     = (8*60 + 15)*2\n",
    "faster     = (7*60 + 12)*3 \n",
    "time_spent = (slowly + faster) / 60"
   ]
  },
  {
   "cell_type": "code",
   "execution_count": null,
   "id": "a7283ce8-8672-4298-b810-2156533e144e",
   "metadata": {},
   "outputs": [],
   "source": []
  }
 ],
 "metadata": {
  "kernelspec": {
   "display_name": "Julia 1.7.2",
   "language": "julia",
   "name": "julia-1.7"
  },
  "language_info": {
   "file_extension": ".jl",
   "mimetype": "application/julia",
   "name": "julia",
   "version": "1.7.2"
  }
 },
 "nbformat": 4,
 "nbformat_minor": 5
}
