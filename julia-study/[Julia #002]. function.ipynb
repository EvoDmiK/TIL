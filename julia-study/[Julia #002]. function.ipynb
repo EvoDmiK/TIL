{
 "cells": [
  {
   "cell_type": "markdown",
   "id": "191d5699-ce53-4f3c-941d-7ebf5173ff84",
   "metadata": {},
   "source": [
    "# **0. 참고자료**\n",
    "## 0-1. 도서  \n",
    "- 한빛미디어 | 벤 로언스, 앨런 다우니 저 / 송한별 역-줄리아를 생각하다  \n",
    "\n",
    "## 0-2. 논문, 학술지\n",
    "\n",
    "## 0-3. 웹 사이트\n",
    "\n",
    "## 0-4. 데이터셋 출처\n"
   ]
  },
  {
   "cell_type": "markdown",
   "id": "cba1b621-ccd8-449c-9cf1-7ec2a6c77d16",
   "metadata": {},
   "source": [
    "# **1. 함수 (functions)**\n",
    "- 어떤 계산을 수행하는 문자의 나열을 의미.  \n",
    "- 함수를 정의할 떄, 이름을 지정하고, 문장을 나열한다.  \n",
    "- 함수를 사용할 때는 함수 이름을 사용하여 호출하여 사용한다.  \n",
    "\n",
    "## 1-1. 함수 호출\n",
    "- 함수를 호출할 때 사용되는 괄호 안의 표현식은 함수의 **인수(인자값 / argument)** 라고 부른다.\n",
    "- 보통 함수는 인자값을 입력받아 결과를 돌려주고, 그 결과를 **결과값 (반환값)** 이라고한다.  "
   ]
  },
  {
   "cell_type": "code",
   "execution_count": 1,
   "id": "923d4cca-e84d-476c-8a91-10dcbb6845f8",
   "metadata": {},
   "outputs": [
    {
     "name": "stdout",
     "output_type": "stream",
     "text": [
      "String\n",
      "Int64\n"
     ]
    }
   ],
   "source": [
    "## parse 함수는 문자열을 받아 다른 자료형으로 변환해주는 함수이다.\n",
    "simple = \"32\"\n",
    "println(typeof(simple))\n",
    "\n",
    "simple = parse(Int64, simple)\n",
    "println(typeof(simple))"
   ]
  },
  {
   "cell_type": "code",
   "execution_count": 2,
   "id": "9125a5a3-fea3-4e9d-bbe8-4c826f1a64b4",
   "metadata": {},
   "outputs": [
    {
     "name": "stdout",
     "output_type": "stream",
     "text": [
      "3.9999\n",
      "3\n"
     ]
    }
   ],
   "source": [
    "## trunc 함수는 부동소수점 수를 정수로 변환하는데, 반올림하지 않고 소수점 아래를 잘라냄\n",
    "simple2 = 3.9999\n",
    "println(simple2)\n",
    "\n",
    "simple2 = trunc(Int64, simple2)\n",
    "println(simple2)"
   ]
  },
  {
   "cell_type": "code",
   "execution_count": 3,
   "id": "ccc5aadf-a01f-4558-9c28-3d5594f08cab",
   "metadata": {},
   "outputs": [
    {
     "name": "stdout",
     "output_type": "stream",
     "text": [
      "Int64\n",
      "Float64\n"
     ]
    }
   ],
   "source": [
    "## float 함수는 정수를 부동소수점을 가진 실수형으로 변환한다.\n",
    "## 파이썬의 float 역할\n",
    "simple3 = 32\n",
    "println(typeof(simple3))\n",
    "\n",
    "simple3 = float(32)\n",
    "println(typeof(simple3))"
   ]
  },
  {
   "cell_type": "code",
   "execution_count": 4,
   "id": "a21ce537-7c07-43c0-a104-2098ba00f09d",
   "metadata": {},
   "outputs": [
    {
     "name": "stdout",
     "output_type": "stream",
     "text": [
      "Int64\n",
      "String\n"
     ]
    }
   ],
   "source": [
    "## String 함수는 인자값을 문자열로 변환한다.\n",
    "## 파이썬의 str 역할\n",
    "simple4 = 32\n",
    "println(typeof(simple4))\n",
    "\n",
    "simple4 = string(simple4)\n",
    "println(typeof(simple4))"
   ]
  },
  {
   "cell_type": "markdown",
   "id": "b8857079-5f17-4f05-b4a8-742f62596813",
   "metadata": {},
   "source": [
    "## 1-2. 수학 함수\n",
    "- 줄리아에서는 대부분의 수학 함수들을 별도의 모듈없이 바로 사용할 수 있다.\n",
    "- 파이썬에서는 math를 import 시켜서 사용해야한다.\n",
    "\n",
    "(1) log10은 상용로그를 구해주는 함수이다. (log 함수를 사용하면 자연로그를 계산할 수 있다.)  \n",
    "&nbsp;&nbsp;&nbsp;&nbsp;&nbsp;Julia | log10 → Python | math.log10  \n",
    "&nbsp;&nbsp;&nbsp;&nbsp;&nbsp;Julia | log   → Python | math.log  "
   ]
  },
  {
   "cell_type": "code",
   "execution_count": 5,
   "id": "f73941f4-9a12-49d1-8ae0-bef893e26f2f",
   "metadata": {},
   "outputs": [
    {
     "data": {
      "text/plain": [
       "6.989700043360188"
      ]
     },
     "execution_count": 5,
     "metadata": {},
     "output_type": "execute_result"
    }
   ],
   "source": [
    "\n",
    "## 아래 예시는 신호와 노이즈 비율을 데시벨로 계산해주는 코드이다.\n",
    "signal_power = 100\n",
    "noise_power  = 20\n",
    "\n",
    "ratio        = signal_power / noise_power\n",
    "decibels     = 10*log10(ratio)"
   ]
  },
  {
   "cell_type": "markdown",
   "id": "6d2f2858-1016-4379-a3f9-2e101279c6e7",
   "metadata": {},
   "source": [
    "(2) sin, cos, tan 함수는 인자값으로 받은 값을 삼각함수 값으로 변환시켜주는 함수이다.  \n",
    "&nbsp;&nbsp;&nbsp;&nbsp;&nbsp;위의 삼각함수에 인자값으로 입력할때는 degree를 radians로 변환해야한다."
   ]
  },
  {
   "cell_type": "code",
   "execution_count": 6,
   "id": "f7b00f62-c919-4bbc-b7d6-be9091842211",
   "metadata": {},
   "outputs": [
    {
     "name": "stdout",
     "output_type": "stream",
     "text": [
      "0.7071067811865475\n",
      "0.7071067811865476\n"
     ]
    }
   ],
   "source": [
    "## degree를 radians로 변환하는 코드\n",
    "degree = 45\n",
    "radians = degree / 180 * π\n",
    "println(sin(radians))\n",
    "\n",
    "## sin(π/4) 값과 비교\n",
    "println(sqrt(2) / 2)"
   ]
  },
  {
   "cell_type": "markdown",
   "id": "9bd698da-56c9-4a53-9384-4bdefafdd7fe",
   "metadata": {
    "tags": []
   },
   "source": [
    "## 1-3. 새로운 함수 정의하기\n",
    "- 줄리아에서 제공하는 함수뿐만 아니라 새로운 함수를 **정의**하여 사용할 수 있다\n",
    "- 줄리아에서 새로운 함수를 정의할 때 시작은 function <함수 이름>(), 끝은 end로 마친다.\n",
    "\n",
    "- 함수를 정의할 때 첫 번째 줄을 **헤더 (header)** 라 하고, 나머지는 **본문 (body)** 라한다.\n",
    "- 일단 함수를 정의하면 다른 함수 안에서도 사용할 수 있다."
   ]
  },
  {
   "cell_type": "code",
   "execution_count": 7,
   "id": "0ac8cea1-681e-4f45-98d0-0801a4760bf1",
   "metadata": {},
   "outputs": [
    {
     "name": "stdout",
     "output_type": "stream",
     "text": [
      "I'm a lumberjack, and I'm okay.\n",
      "I sleep all night and I work all day.\n"
     ]
    }
   ],
   "source": [
    "function printlyrics()\n",
    "    println(\"I'm a lumberjack, and I'm okay.\")\n",
    "    println(\"I sleep all night and I work all day.\")\n",
    "end\n",
    "\n",
    "printlyrics()"
   ]
  },
  {
   "cell_type": "code",
   "execution_count": 8,
   "id": "69526c38-52b8-4e52-8eec-eb9fe47b5c98",
   "metadata": {},
   "outputs": [
    {
     "name": "stdout",
     "output_type": "stream",
     "text": [
      "I'm a lumberjack, and I'm okay.\n",
      "I sleep all night and I work all day.\n",
      "I'm a lumberjack, and I'm okay.\n",
      "I sleep all night and I work all day.\n"
     ]
    }
   ],
   "source": [
    "function repeatlyrics()\n",
    "    printlyrics()\n",
    "    printlyrics()\n",
    "end\n",
    "\n",
    "repeatlyrics()"
   ]
  },
  {
   "cell_type": "markdown",
   "id": "b562a8f4-3295-4cc9-9a43-f2a656758a55",
   "metadata": {},
   "source": [
    "- 함수 정의는 다른 문장처럼 실행되며, 결과값으로 **함수 객체(function object)** 가 생성된다.\n",
    "- 함수 내부에 있는 문장들은 함수가 호출될 때까지 실행되지 않음.\n",
    "\n",
    "## 1-4. 매개변수와 인수\n",
    "- 함수내부에서 사용되는 인수는 **매개변수(parameter)** 라고 부르는 변수에 할당됨.\n",
    "-          지역성(locality)| 특정 변수를 함수 내부에서 만들면 그 변수는 함수 내부에서만 유효하게 존재하는 성질\n",
    "- 지역 변수(local variable)&nbsp;&nbsp;&nbsp;&nbsp;&nbsp;&nbsp;&nbsp;&nbsp;&nbsp;| 지역성이 있는 변수\n",
    "- 유익 함수(fruitful function)&nbsp;&nbsp;&nbsp;&nbsp;&nbsp;&nbsp;| 결과값을 반환해주는 함수\n",
    "-     void 함수(void function)| 결과값을 반환해주지 않는 함수 (void 함수는 nothing이라는 특별한 값을 반환한다)"
   ]
  },
  {
   "cell_type": "code",
   "execution_count": 10,
   "id": "ae587bda-50a1-49a2-9028-32af9271dd20",
   "metadata": {},
   "outputs": [
    {
     "name": "stdout",
     "output_type": "stream",
     "text": [
      "Spam\n",
      "Spam\n"
     ]
    }
   ],
   "source": [
    "function printtwice(string)\n",
    "    println(string)\n",
    "    println(string)\n",
    "end\n",
    "\n",
    "printtwice(\"Spam\")"
   ]
  },
  {
   "cell_type": "markdown",
   "id": "66491cc1-cbb2-47fd-9d49-546151c99457",
   "metadata": {},
   "source": [
    "# **2.연습 문제**\n",
    "#### Q1. rightjustify라는 함수를 작성하라. rightjustify함수는 문자열을 인자값으로 받고,\n",
    "#### &nbsp;&nbsp;&nbsp;&nbsp;&nbsp;&nbsp;마지막 글자가 화면의 70번째 칼럼에 위치하도록 앞에 빈칸을 붙여 출력한다.\n",
    "#### A1."
   ]
  },
  {
   "cell_type": "code",
   "execution_count": 11,
   "id": "f203c1e0-8e8e-4adc-89f2-03c38de0f057",
   "metadata": {},
   "outputs": [
    {
     "name": "stdout",
     "output_type": "stream",
     "text": [
      "                                                                 monty\n"
     ]
    }
   ],
   "source": [
    "function rightjustify(string)\n",
    "    string_length = 70 - length(string)\n",
    "    blank_string  = \" \"^string_length\n",
    "    println(blank_string*string)\n",
    "end\n",
    "\n",
    "rightjustify(\"monty\")"
   ]
  },
  {
   "cell_type": "markdown",
   "id": "8a046001-a41b-4c12-89d4-7976478998ba",
   "metadata": {},
   "source": [
    "#### Q2. printgrid라는 함수를 만들어 4칸 짜리 격자를 출력하라.\n",
    "#### A2."
   ]
  },
  {
   "cell_type": "code",
   "execution_count": 14,
   "id": "fb5f6deb-52d6-4f28-9a89-397eb7fa0704",
   "metadata": {},
   "outputs": [
    {
     "name": "stdout",
     "output_type": "stream",
     "text": [
      "+----+----+\n",
      "|    |    |\n",
      "|    |    |\n",
      "|    |    |\n",
      "|    |    |\n",
      "+----+----+\n",
      "|    |    |\n",
      "|    |    |\n",
      "|    |    |\n",
      "|    |    |\n",
      "+----+----+\n"
     ]
    }
   ],
   "source": [
    "function printgrid()\n",
    "    println(\"+\",\"----\",\"+\",\"----\",\"+\")\n",
    "    println(\"|\",\"    \",\"|\",\"    \",\"|\")\n",
    "    println(\"|\",\"    \",\"|\",\"    \",\"|\")\n",
    "    println(\"|\",\"    \",\"|\",\"    \",\"|\")\n",
    "    println(\"|\",\"    \",\"|\",\"    \",\"|\")\n",
    "    println(\"+\",\"----\",\"+\",\"----\",\"+\")\n",
    "    println(\"|\",\"    \",\"|\",\"    \",\"|\")\n",
    "    println(\"|\",\"    \",\"|\",\"    \",\"|\")\n",
    "    println(\"|\",\"    \",\"|\",\"    \",\"|\")\n",
    "    println(\"|\",\"    \",\"|\",\"    \",\"|\")\n",
    "    println(\"+\",\"----\",\"+\",\"----\",\"+\")\n",
    "end\n",
    "printgrid()"
   ]
  },
  {
   "cell_type": "code",
   "execution_count": null,
   "id": "61cdcdf1-a045-469c-a393-85a13630a18e",
   "metadata": {},
   "outputs": [],
   "source": []
  }
 ],
 "metadata": {
  "kernelspec": {
   "display_name": "Julia 1.7.2",
   "language": "julia",
   "name": "julia-1.7"
  },
  "language_info": {
   "file_extension": ".jl",
   "mimetype": "application/julia",
   "name": "julia",
   "version": "1.7.2"
  }
 },
 "nbformat": 4,
 "nbformat_minor": 5
}
