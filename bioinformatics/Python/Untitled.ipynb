{
 "cells": [
  {
   "cell_type": "code",
   "execution_count": 1,
   "id": "df5a0488-4424-4a2f-99d9-6728cae6b2b8",
   "metadata": {},
   "outputs": [],
   "source": [
    "from Bio import Entrez, Medline, SeqIO, Seq"
   ]
  },
  {
   "cell_type": "code",
   "execution_count": 2,
   "id": "72c7dbb3-dc24-49ea-bb96-33719de3768f",
   "metadata": {},
   "outputs": [],
   "source": [
    "Entrez.email = 'kimhippowork@gmail.com'"
   ]
  },
  {
   "cell_type": "code",
   "execution_count": 3,
   "id": "368178ea-0b87-453f-b936-45eb32f13538",
   "metadata": {},
   "outputs": [
    {
     "name": "stdout",
     "output_type": "stream",
     "text": [
      "{'DbList': ['pubmed', 'protein', 'nuccore', 'ipg', 'nucleotide', 'structure', 'genome', 'annotinfo', 'assembly', 'bioproject', 'biosample', 'blastdbinfo', 'books', 'cdd', 'clinvar', 'gap', 'gapplus', 'grasp', 'dbvar', 'gene', 'gds', 'geoprofiles', 'homologene', 'medgen', 'mesh', 'nlmcatalog', 'omim', 'orgtrack', 'pmc', 'popset', 'proteinclusters', 'pcassay', 'protfam', 'pccompound', 'pcsubstance', 'seqannot', 'snp', 'sra', 'taxonomy', 'biocollections', 'gtr']}\n"
     ]
    }
   ],
   "source": [
    "handle = Entrez.einfo()\n",
    "rec    = Entrez.read(handle)\n",
    "print(rec)"
   ]
  },
  {
   "cell_type": "code",
   "execution_count": 4,
   "id": "70d6ccc9-93a5-43a0-a7f2-8238a926add8",
   "metadata": {},
   "outputs": [],
   "source": [
    "handle   = Entrez.esearch(db = 'nucleotide', term='CRT[Gene Name] AND \"Plasmodium falciparum\"[Organism]')\n",
    "rec_list = Entrez.read(handle)\n",
    "\n",
    "if rec_list['RetMax'] < rec_list['Count']:\n",
    "    handle = Entrez.esearch(db = 'nucleotide', term='CRT[Gene Name] AND \"Plasmodium falciparum\"[Organism]',\n",
    "                           retmax = rec_list['Count'])\n",
    "    \n",
    "    rec_list = Entrez.read(handle)"
   ]
  },
  {
   "cell_type": "code",
   "execution_count": 5,
   "id": "0417f048-dfc1-410e-a7f2-c227c2e483bb",
   "metadata": {},
   "outputs": [],
   "source": [
    "id_list = rec_list['IdList']\n",
    "handle  = Entrez.efetch(db = 'nucleotide', id = id_list, \n",
    "                        rettype = 'gb', retmax = rec_list['Count'])"
   ]
  },
  {
   "cell_type": "code",
   "execution_count": 6,
   "id": "b31f9f4d-6253-49e6-aceb-58fdf46a9779",
   "metadata": {},
   "outputs": [],
   "source": [
    "recs = list(SeqIO.parse(handle, 'gb'))\n",
    "for rec in recs:\n",
    "    if rec.name == 'KM288867': break"
   ]
  },
  {
   "cell_type": "code",
   "execution_count": 7,
   "id": "3afb0c81-172d-485d-a779-ad050d3d2f3c",
   "metadata": {},
   "outputs": [
    {
     "name": "stdout",
     "output_type": "stream",
     "text": [
      "KM288867\n",
      "Plasmodium falciparum clone PF3D7_0709000 chloroquine resistance transporter (CRT) gene, complete cds\n"
     ]
    }
   ],
   "source": [
    "print(rec.name)\n",
    "print(rec.description)"
   ]
  },
  {
   "cell_type": "code",
   "execution_count": 8,
   "id": "69472057-0a6c-4eb1-84a8-a0f328ded73a",
   "metadata": {},
   "outputs": [
    {
     "name": "stdout",
     "output_type": "stream",
     "text": [
      "not precessed :\n",
      "type: source\n",
      "location: [0:10000](+)\n",
      "qualifiers:\n",
      "    Key: clone, Value: ['PF3D7_0709000']\n",
      "    Key: db_xref, Value: ['taxon:5833']\n",
      "    Key: mol_type, Value: ['genomic DNA']\n",
      "    Key: organism, Value: ['Plasmodium falciparum']\n",
      "\n",
      "['CRT']\n",
      "not precessed :\n",
      "type: mRNA\n",
      "location: join{[2751:3543](+), [3720:3989](+), [4168:4341](+), [4513:4646](+), [4799:4871](+), [4994:5070](+), [5166:5249](+), [5376:5427](+), [5564:5621](+), [5769:5862](+), [6055:6100](+), [6247:6302](+), [6471:7598](+)}\n",
      "qualifiers:\n",
      "    Key: gene, Value: ['CRT']\n",
      "    Key: product, Value: ['chloroquine resistance transporter']\n",
      "\n",
      "not precessed :\n",
      "type: 5'UTR\n",
      "location: [2751:3452](+)\n",
      "qualifiers:\n",
      "    Key: gene, Value: ['CRT']\n",
      "\n",
      "not precessed :\n",
      "type: primer_bind\n",
      "location: [2935:2958](+)\n",
      "qualifiers:\n",
      "\n",
      "not precessed :\n",
      "type: primer_bind\n",
      "location: [3094:3121](+)\n",
      "qualifiers:\n",
      "\n",
      "not precessed :\n",
      "type: CDS\n",
      "location: join{[3452:3543](+), [3720:3989](+), [4168:4341](+), [4513:4646](+), [4799:4871](+), [4994:5070](+), [5166:5249](+), [5376:5427](+), [5564:5621](+), [5769:5862](+), [6055:6100](+), [6247:6302](+), [6471:6548](+)}\n",
      "qualifiers:\n",
      "    Key: codon_start, Value: ['1']\n",
      "    Key: gene, Value: ['CRT']\n",
      "    Key: product, Value: ['chloroquine resistance transporter']\n",
      "    Key: protein_id, Value: ['AIW62921.1']\n",
      "    Key: translation, Value: ['MKFASKKNNQKNSSKNDERYRELDNLVQEGNGSRLGGGSCLGKCAHVFKLIFKEIKDNIFIYILSIIYLSVCVMNKIFAKRTLNKIGNYSFVTSETHNFICMIMFFIVYSLFGNKKGNSKERHRSFNLQFFAISMLDACSVILAFIGLTRTTGNIQSFVLQLSIPINMFFCFLILRYRYHLYNYLGAVIIVVTIALVEMKLSFETQEENSIIFNLVLISALIPVCFSNMTREIVFKKYKIDILRLNAMVSFFQLFTSCLILPVYTLPFLKQLHLPYNEIWTNIKNGFACLFLGRNTVVENCGLGMAKLCDDCDGAWKTFALFSFFNICDNLITSYIIDKFSTMTYTIVSCIQGPAIAIAYYFKFLAGDVVREPRLLDFVTLFGYLFGSIIYRVGNIILERKKMRNEENEDSEGELTNVDSIITQ']\n",
      "\n",
      "Exon : 3452, 3543, 1\n",
      "Exon : 3720, 3989, 1\n",
      "Exon : 4168, 4341, 1\n",
      "not precessed :\n",
      "type: primer_bind\n",
      "location: [4288:4323](-)\n",
      "qualifiers:\n",
      "\n",
      "Exon : 4513, 4646, 1\n",
      "Exon : 4799, 4871, 1\n",
      "Exon : 4994, 5070, 1\n",
      "Exon : 5166, 5249, 1\n",
      "Exon : 5376, 5427, 1\n",
      "Exon : 5564, 5621, 1\n",
      "Exon : 5769, 5862, 1\n",
      "Exon : 6055, 6100, 1\n",
      "Exon : 6247, 6302, 1\n",
      "Exon : 6471, 6548, 1\n",
      "not precessed :\n",
      "type: 3'UTR\n",
      "location: [6548:7598](+)\n",
      "qualifiers:\n",
      "    Key: gene, Value: ['CRT']\n",
      "\n",
      "not precessed :\n",
      "type: primer_bind\n",
      "location: [7833:7856](-)\n",
      "qualifiers:\n",
      "\n"
     ]
    }
   ],
   "source": [
    "for feature in rec.features:\n",
    "    if feature.type   == 'gene': print(feature.qualifiers['gene'])\n",
    "    elif feature.type == 'exon':\n",
    "        loc = feature.location\n",
    "        print(f'Exon : {loc.start}, {loc.end}, {loc.strand}')\n",
    "        \n",
    "    else: print(f'not precessed :\\n{feature}')"
   ]
  },
  {
   "cell_type": "code",
   "execution_count": 9,
   "id": "37a705cc-1093-4338-ae7d-62e656986568",
   "metadata": {},
   "outputs": [
    {
     "name": "stdout",
     "output_type": "stream",
     "text": [
      "       DNA : ATATGTAAAACCAAAATAAATTAAACAGAATTTATTTTTAAAAGATTTAT\n",
      "       RNA : AUAUGUAAAACCAAAAUAAAUUAAACAGAAUUUAUUUUUAAAAGAUUUAU\n",
      "amino acid : ICKTKIN*TEFIFKRF\n"
     ]
    },
    {
     "name": "stderr",
     "output_type": "stream",
     "text": [
      "/opt/conda/envs/bio/lib/python3.10/site-packages/Bio/Seq.py:3482: BiopythonWarning: Partial codon, len(sequence) not a multiple of three. Explicitly trim the sequence or add trailing N before translation. This may become an error in future.\n",
      "  warnings.warn(\n"
     ]
    }
   ],
   "source": [
    "sequence = rec.seq[:50]\n",
    "print(f'       DNA : {sequence}')\n",
    "print(f'       RNA : {sequence.transcribe()}')\n",
    "print(f'amino acid : {sequence.transcribe().translate()}')"
   ]
  },
  {
   "cell_type": "code",
   "execution_count": 11,
   "id": "8dcd2fc0-2e17-47fc-b477-c9933da9ff53",
   "metadata": {},
   "outputs": [],
   "source": [
    "from collections import defaultdict\n",
    "import matplotlib.pyplot as plt\n",
    "import seaborn as sns\n",
    "import numpy as np\n",
    "import functools"
   ]
  },
  {
   "cell_type": "code",
   "execution_count": null,
   "id": "44f57254-d359-457e-bea3-bf92a2d512b6",
   "metadata": {},
   "outputs": [],
   "source": []
  }
 ],
 "metadata": {
  "kernelspec": {
   "display_name": "bio",
   "language": "python",
   "name": "bio"
  },
  "language_info": {
   "codemirror_mode": {
    "name": "ipython",
    "version": 3
   },
   "file_extension": ".py",
   "mimetype": "text/x-python",
   "name": "python",
   "nbconvert_exporter": "python",
   "pygments_lexer": "ipython3",
   "version": "3.10.8"
  }
 },
 "nbformat": 4,
 "nbformat_minor": 5
}
