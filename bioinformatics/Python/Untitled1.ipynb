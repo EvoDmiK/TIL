{
 "cells": [
  {
   "cell_type": "code",
   "execution_count": 1,
   "id": "fb1df862-5ca6-499f-a2f0-19ab33556c88",
   "metadata": {},
   "outputs": [],
   "source": [
    "using Pkg"
   ]
  },
  {
   "cell_type": "code",
   "execution_count": 7,
   "id": "6787dfa1-0aeb-41a5-8b2a-41cd498ea8ee",
   "metadata": {},
   "outputs": [
    {
     "name": "stderr",
     "output_type": "stream",
     "text": [
      "\u001b[32m\u001b[1m     Cloning\u001b[22m\u001b[39m registry from \"https://github.com/JuliaRegistries/General.git\"\n",
      "\u001b[32m\u001b[1m       Added\u001b[22m\u001b[39m registry `General` to `/opt/julia/registries/General`\n"
     ]
    }
   ],
   "source": [
    "pkg\"registry add https://github.com/JuliaRegistries/General.git\""
   ]
  },
  {
   "cell_type": "code",
   "execution_count": 11,
   "id": "ad2d58e4-373e-445c-b554-ccb1a7456474",
   "metadata": {},
   "outputs": [
    {
     "name": "stderr",
     "output_type": "stream",
     "text": [
      "\u001b[32m\u001b[1m   Resolving\u001b[22m\u001b[39m package versions...\n",
      "\u001b[32m\u001b[1m  No Changes\u001b[22m\u001b[39m to `/opt/julia/environments/v1.7/Project.toml`\n",
      "\u001b[32m\u001b[1m  No Changes\u001b[22m\u001b[39m to `/opt/julia/environments/v1.7/Manifest.toml`\n",
      "\u001b[32m\u001b[1m   Resolving\u001b[22m\u001b[39m package versions...\n",
      "\u001b[32m\u001b[1m  No Changes\u001b[22m\u001b[39m to `/opt/julia/environments/v1.7/Project.toml`\n",
      "\u001b[32m\u001b[1m  No Changes\u001b[22m\u001b[39m to `/opt/julia/environments/v1.7/Manifest.toml`\n"
     ]
    },
    {
     "ename": "LoadError",
     "evalue": "The following package names could not be resolved:\n * GenomeGraphics (not found in project, manifest or registry)\n",
     "output_type": "error",
     "traceback": [
      "The following package names could not be resolved:\n * GenomeGraphics (not found in project, manifest or registry)\n",
      "",
      "Stacktrace:",
      "  [1] pkgerror(msg::String)",
      "    @ Pkg.Types /opt/julia-1.7.2/share/julia/stdlib/v1.7/Pkg/src/Types.jl:68",
      "  [2] ensure_resolved(manifest::Pkg.Types.Manifest, pkgs::Vector{Pkg.Types.PackageSpec}; registry::Bool)",
      "    @ Pkg.Types /opt/julia-1.7.2/share/julia/stdlib/v1.7/Pkg/src/Types.jl:915",
      "  [3] add(ctx::Pkg.Types.Context, pkgs::Vector{Pkg.Types.PackageSpec}; preserve::Pkg.Types.PreserveLevel, platform::Base.BinaryPlatforms.Platform, kwargs::Base.Pairs{Symbol, IJulia.IJuliaStdio{Base.PipeEndpoint}, Tuple{Symbol}, NamedTuple{(:io,), Tuple{IJulia.IJuliaStdio{Base.PipeEndpoint}}}})",
      "    @ Pkg.API /opt/julia-1.7.2/share/julia/stdlib/v1.7/Pkg/src/API.jl:257",
      "  [4] add(pkgs::Vector{Pkg.Types.PackageSpec}; io::IJulia.IJuliaStdio{Base.PipeEndpoint}, kwargs::Base.Pairs{Symbol, Union{}, Tuple{}, NamedTuple{(), Tuple{}}})",
      "    @ Pkg.API /opt/julia-1.7.2/share/julia/stdlib/v1.7/Pkg/src/API.jl:149",
      "  [5] add(pkgs::Vector{Pkg.Types.PackageSpec})",
      "    @ Pkg.API /opt/julia-1.7.2/share/julia/stdlib/v1.7/Pkg/src/API.jl:144",
      "  [6] do_cmd!(command::Pkg.REPLMode.Command, repl::Pkg.REPLMode.MiniREPL)",
      "    @ Pkg.REPLMode /opt/julia-1.7.2/share/julia/stdlib/v1.7/Pkg/src/REPLMode/REPLMode.jl:407",
      "  [7] do_cmd(repl::Pkg.REPLMode.MiniREPL, input::String; do_rethrow::Bool)",
      "    @ Pkg.REPLMode /opt/julia-1.7.2/share/julia/stdlib/v1.7/Pkg/src/REPLMode/REPLMode.jl:385",
      "  [8] top-level scope",
      "    @ In[11]:3",
      "  [9] eval",
      "    @ ./boot.jl:373 [inlined]",
      " [10] include_string(mapexpr::typeof(REPL.softscope), mod::Module, code::String, filename::String)",
      "    @ Base ./loading.jl:1196"
     ]
    }
   ],
   "source": [
    "pkg\"add BioCore\"\n",
    "pkg\"add BioSymbols\"\n",
    "pkg\"add GenomeGraphics\"\n",
    "pkg\"add BioGenerics\"\n",
    "pkg\"add BioBed\"\n",
    "pkg\"add BioSequences\"\n",
    "pkg\"add XAM\""
   ]
  },
  {
   "cell_type": "code",
   "execution_count": null,
   "id": "5d74a915-b081-4d2c-b0e2-72c1d14f37a4",
   "metadata": {},
   "outputs": [],
   "source": []
  }
 ],
 "metadata": {
  "kernelspec": {
   "display_name": "Julia 1.7.2",
   "language": "julia",
   "name": "julia-1.7"
  },
  "language_info": {
   "file_extension": ".jl",
   "mimetype": "application/julia",
   "name": "julia",
   "version": "1.7.2"
  }
 },
 "nbformat": 4,
 "nbformat_minor": 5
}
