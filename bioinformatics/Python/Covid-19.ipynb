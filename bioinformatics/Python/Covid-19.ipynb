{
 "cells": [
  {
   "cell_type": "code",
   "execution_count": 10,
   "id": "ec50495d-c8f2-47d8-8e81-c4567fa331ce",
   "metadata": {},
   "outputs": [],
   "source": [
    "from Bio.SeqRecord import SeqRecord\n",
    "import matplotlib.pyplot as plt\n",
    "from Bio import SeqIO\n",
    "import os"
   ]
  },
  {
   "cell_type": "code",
   "execution_count": 11,
   "id": "ba981bd4-c13e-4cd8-a956-4cd9441a4ff2",
   "metadata": {},
   "outputs": [],
   "source": [
    "ROOT_PATH    = '/'.join(os.getcwd().split(os.path.sep)[:-1])\n",
    "DATASET_PATH = f'{ROOT_PATH}/dataset' "
   ]
  },
  {
   "cell_type": "code",
   "execution_count": 12,
   "id": "c3563ebb-c990-4440-a507-c3e09ca95c49",
   "metadata": {},
   "outputs": [],
   "source": [
    "dataset   = SeqIO.read(f'{DATASET_PATH}/fasta/MN908947.fna', 'fasta').seq"
   ]
  },
  {
   "cell_type": "code",
   "execution_count": 13,
   "id": "eac33f10-2825-4414-80c4-5a6b92aaf8bc",
   "metadata": {},
   "outputs": [
    {
     "name": "stdout",
     "output_type": "stream",
     "text": [
      "GC contents in dataset : 37.973 %\n"
     ]
    },
    {
     "data": {
      "image/png": "[encoded data removed]",
      "text/plain": [
       "<Figure size 640x480 with 1 Axes>"
      ]
     },
     "metadata": {},
     "output_type": "display_data"
    }
   ],
   "source": [
    "data_dist = {gene : dataset.count(gene) for gene in ['A', 'G', 'C', 'T']}\n",
    "\n",
    "plt.bar(data_dist.keys(), data_dist.values())\n",
    "plt.ylim(0, max(data_dist.values()) + 1000)\n",
    "\n",
    "for k, v in data_dist.items():\n",
    "    plt.text(k, v, v, ha = 'center', va = 'bottom')\n",
    "    \n",
    "print(f'GC contents in dataset : {(data_dist[\"G\"] + data_dist[\"C\"]) * 100 / len(dataset):.3f} %')"
   ]
  },
  {
   "cell_type": "code",
   "execution_count": 14,
   "id": "9e5d531f-4e79-4ec8-aaf7-30c19109e28f",
   "metadata": {},
   "outputs": [
    {
     "name": "stdout",
     "output_type": "stream",
     "text": [
      "DNA Sequence for dataset        | ATTAAAGGTTTATACCTTCCCAGGTAACAAACCAACCAACTTTCGATCTCTTGTAGATCTGTTCTCTAAACGAACTTTAAAATCTGTGTGGCTGTCACTC\n",
      "mRNA Sequence for dataset       | AUUAAAGGUUUAUACCUUCCCAGGUAACAAACCAACCAACUUUCGAUCUCUUGUAGAUCUGUUCUCUAAACGAACUUUAAAAUCUGUGUGGCUGUCACUC\n",
      "Amino Acid Sequence for dataset | IKGLYLPR*QTNQLSISCRSVL*TNFKICVAVT\n"
     ]
    },
    {
     "name": "stderr",
     "output_type": "stream",
     "text": [
      "/opt/conda/envs/bio/lib/python3.10/site-packages/Bio/Seq.py:3482: BiopythonWarning: Partial codon, len(sequence) not a multiple of three. Explicitly trim the sequence or add trailing N before translation. This may become an error in future.\n",
      "  warnings.warn(\n"
     ]
    }
   ],
   "source": [
    "covid_DNA  = dataset[:100]\n",
    "covid_mRNA = covid_DNA.transcribe()\n",
    "amino_acid = covid_mRNA.translate()\n",
    "\n",
    "print(f'DNA Sequence for dataset        | {covid_DNA}')\n",
    "print(f'mRNA Sequence for dataset       | {covid_mRNA}')\n",
    "print(f'Amino Acid Sequence for dataset | {amino_acid}')"
   ]
  },
  {
   "cell_type": "code",
   "execution_count": 24,
   "id": "631615bd-7991-4316-ab3f-3718f1dbcbc2",
   "metadata": {},
   "outputs": [],
   "source": [
    "covid_mRNA_for_all = dataset.transcribe()\n",
    "covid_amino_for_all = covid_mRNA_for_all.translate().split('*')"
   ]
  },
  {
   "cell_type": "code",
   "execution_count": 26,
   "id": "dcccb162-129e-4db5-8cfa-209ca1e25abf",
   "metadata": {},
   "outputs": [
    {
     "data": {
      "text/plain": [
       "[Seq('CTIVFKRVCGVSAARLTPCGTGTSTDVVYRAFDIYNDKVAGFAKFLKTNCCRFQ...VNN'),\n",
       " Seq('ASAQRSQITLHINELMDLFMRIFTIGTVTLKQGEIKDATPSDFVRATATIPIQA...VPL'),\n",
       " Seq('AQADEYELMYSFVSEETGTLIVNSVLLFLAFVVFLLVTLAILTALRLCAYCCNI...LLV'),\n",
       " Seq('QQMFHLVDFQVTIAEILLIIMRTFKVSIWNLDYIINLIIKNLSKSLTENKYSQL...EID'),\n",
       " Seq('TNMKIILFLALITLATCELYHYQECVRGTTVLLKEPCSSGTYEGNSPFHPLADN...KTE')]"
      ]
     },
     "execution_count": 26,
     "metadata": {},
     "output_type": "execute_result"
    }
   ],
   "source": [
    "covid_amino_for_all = [amino for amino in covid_amino_for_all if len(amino) >= 50]\n",
    "covid_amino_for_all"
   ]
  },
  {
   "cell_type": "code",
   "execution_count": 27,
   "id": "e36dba73-e832-49a9-819d-594b181549af",
   "metadata": {},
   "outputs": [],
   "source": [
    "from Bio.Blast import NCBIWWW\n",
    "from Bio.Blast import NCBIXML"
   ]
  },
  {
   "cell_type": "code",
   "execution_count": 33,
   "id": "7972ec83-79f5-4ec8-bc8c-bd7a840f957b",
   "metadata": {},
   "outputs": [],
   "source": [
    "handle        = NCBIWWW.qblast('blastn', 'nt', dataset)\n",
    "blast_records = NCBIXML.parse(handle)"
   ]
  },
  {
   "cell_type": "code",
   "execution_count": 32,
   "id": "c7540e65-cf8d-45c1-9d55-0a0506acccbc",
   "metadata": {},
   "outputs": [],
   "source": [
    "for blast_record in blast_records:\n",
    "    for idx, alignment in enumerate(blast_record.alignments[:10], 1):\n",
    "        for hsp in alignment.hsps:\n",
    "            if hsp.expect < E_VALUE_THRESHOLD:\n",
    "                print(f'[{idx}]')\n",
    "                print(f'alignment 제목 : {alignment.title}')\n",
    "                print(f'alignment 길이 : {alignment.length}')\n",
    "                print(f'E-Value        : {hsp.expect}')\n",
    "                print(f'쿼리 염기서열   : {hsp.query[0:75]}')\n",
    "                print(f'매칭           : {hsp.match[0:75]}')\n",
    "                print(f'검색 결과      : {hsp.sbjct[0:75]}')\n",
    "                print('\\n')"
   ]
  },
  {
   "cell_type": "code",
   "execution_count": null,
   "id": "e8ec6cb4-81ec-4414-88bc-7866431b7e52",
   "metadata": {},
   "outputs": [],
   "source": []
  }
 ],
 "metadata": {
  "kernelspec": {
   "display_name": "bio",
   "language": "python",
   "name": "bio"
  },
  "language_info": {
   "codemirror_mode": {
    "name": "ipython",
    "version": 3
   },
   "file_extension": ".py",
   "mimetype": "text/x-python",
   "name": "python",
   "nbconvert_exporter": "python",
   "pygments_lexer": "ipython3",
   "version": "3.10.8"
  }
 },
 "nbformat": 4,
 "nbformat_minor": 5
}
