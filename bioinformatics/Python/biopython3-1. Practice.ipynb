{
 "cells": [
  {
   "cell_type": "markdown",
   "id": "ed3f6343-e9c7-4334-8aa3-485ba8f4b88d",
   "metadata": {},
   "source": [
    "# 0. 참고자료\n",
    "## 0-1. 도서\n",
    "## 0-2. 웹사이트\n",
    "- 길이가 다른 sequence를 multiple sequence alignment | stackoverflow [[페이지 링크]](https://stackoverflow.com/questions/31152011/multiple-sequence-alignment-with-unequal-string-length)\n",
    "- 인코덤 | Biopython/PhyIo [[페이지 링크]](http://www.incodom.kr/Biopython/Phylo)\n",
    "- 유럽 생물정보학 연구소 | phylogeny input example [[페이지 링크]](https://www.ebi.ac.uk/seqdb/confluence/display/JDSAT/Phylogeny+Input+Examples)\n",
    "## 0-3. 데이터셋\n",
    "- 인간 DNA 데이터 | Kaggle(by Neel Vasani) human-dna-data [[데이터 셋 링크]](https://www.kaggle.com/datasets/neelvasani/humandnadata)  \n",
    "- 강아지, 침팬지 데이터 | Kaggle(by Neel Vasani) chimpanzee and dog dna [[데이터 셋 링크]](https://www.kaggle.com/datasets/neelvasani/chimpanzee-and-dog-dna)\n"
   ]
  },
  {
   "cell_type": "code",
   "execution_count": 6,
   "id": "de2a2f07-3038-431b-ad18-9a71586074b2",
   "metadata": {},
   "outputs": [],
   "source": [
    "from Bio.Align.Applications import MuscleCommandline\n",
    "from Bio.SeqUtils import MeltingTemp as mt\n",
    "from Bio.SeqRecord import SeqRecord\n",
    "from Bio.SeqUtils import GC\n",
    "from Bio.Seq import Seq\n",
    "from Bio import SeqIO\n",
    "import re, os"
   ]
  },
  {
   "cell_type": "code",
   "execution_count": 14,
   "id": "4c1ae0d6-cec9-4e00-9c4a-b3af67c052a8",
   "metadata": {},
   "outputs": [
    {
     "name": "stdout",
     "output_type": "stream",
     "text": [
      "ATGAACGAAAATCTGTTCGCTTCATTCATTGCCCCCACAATCCTAGGCCTACCCGCCGCAGTACTGATCATTCTATTTCCCCCTCTATTGATCCCCACCTCCAAATATCTCATCAACAACCGACTAATCACCACCCAACAATGACTAATCAAACTAACCTCAAAACAAATGATAACCATACACAACACTAAAGGACGAACCTGATCTCTTATACTAGTATCCTTAATCATTTTTATTGCCACAACTAACCTCCTCGGACTCCTGCCTCACTCATTTACACCAACCACCCAACTATCTATAAACCTAGCCATGGCCATCCCCTTATGAGCGGGCACAGTGATTATAGGCTTTCGCTCTAAGATTAAAAATGCCCTAGCCCACTTCTTACCACAAGGCACACCTACACCCCTTATCCCCATACTAGTTATTATCGAAACCATCAGCCTACTCATTCAACCAATAGCCCTGGCCGTACGCCTAACCGCTAACATTACTGCAGGCCACCTACTCATGCACCTAATTGGAAGCGCCACCCTAGCAATATCAACCATTAACCTTCCCTCTACACTTATCATCTTCACAATTCTAATTCTACTGACTATCCTAGAAATCGCTGTCGCCTTAATCCAAGCCTACGTTTTCACACTTCTAGTAAGCCTCTACCTGCACGACAACACATAA\n"
     ]
    }
   ],
   "source": [
    "## Kaggle에서 제공된 데이터 셋이 txt 파일로 되어 있어\n",
    "## SeqIO가 아닌 파이썬의 파일 입출력으로 염기서열을 가져옴.\n",
    "def text_parsing(spieces):\n",
    "    sequence_txt = open(f'../dataset/txt/{spieces}_data.txt', 'r').readlines()\n",
    "    pattern = re.compile('[AGCT]+')\n",
    "    \n",
    "    sequences = []\n",
    "    seq_append = sequences.append\n",
    "    \n",
    "    ## text 파일 맨 첫번째 줄에 sequence\tclass 이런 데이터가 있어 두번째 줄 부터 가져옴.\n",
    "    for sequence in sequence_txt[1:]:\n",
    "        ## 두번째 줄부터 문자열 끝부분에 숫자가 붙어있어 정규표현식으로 염기서열(A, G, C, T)만 가져옴.\n",
    "        match = re.findall(pattern, sequence)\n",
    "        seq_append(match)\n",
    "        \n",
    "    return sequences\n",
    "\n",
    "## 코드 테스트\n",
    "print(text_parsing('human')[1][0])\n",
    "os.makedirs('../dataset/fasta/HCD/', exist_ok = True)\n",
    "os.makedirs('../dataset/aln/HCD/', exist_ok = True)\n",
    "os.makedirs('../Weblogo/HCD/', exist_ok = True)\n",
    "os.makedirs('../dataset/newick/HCD/', exist_ok = True)"
   ]
  },
  {
   "cell_type": "code",
   "execution_count": 30,
   "id": "9e55283d-32a8-4f3f-a3c4-7c89b2b1b91f",
   "metadata": {},
   "outputs": [],
   "source": [
    "def create_seq_record(idx):\n",
    "\n",
    "    sequences = [\n",
    "        text_parsing('human')[idx][0],\n",
    "        text_parsing('dog')[idx][0],\n",
    "        text_parsing('chimpanzee')[idx][0]\n",
    "    ]\n",
    "    \n",
    "    longest_length = max(len(seq) for seq in sequences)\n",
    "\n",
    "    ## 가장 긴 염기서열 길이만큼 맞춤.\n",
    "    ## 가장 긴 염기서열보다 길이가 짧으면 -으로 채움.\n",
    "    pad_seq = [seq.ljust(longest_length, '-') for seq in sequences]\n",
    "    names   = ['human', 'dog', 'chimpanzee']\n",
    "    \n",
    "    for name, record, ori_record in zip(names, pad_seq, sequences):\n",
    "        print(f'[{idx}]{name} \\n염기 : {record[-15:]} \\nGC 함유량 : {GC(record):.3f}')\n",
    "        print(f'녹는점 : {mt.Tm_Wallace(record):.3f}, \\n원본 길이 : {len(ori_record)} (bp), 길이 : {len(record)} (bp)\\n')\n",
    "    \n",
    "    print('-'*120)\n",
    "    records = (SeqRecord(Seq(seq), id = name, name = name) for seq, name in zip(pad_seq, names))\n",
    "    return records"
   ]
  },
  {
   "cell_type": "code",
   "execution_count": 17,
   "id": "e7840a99-f2cf-4fda-82c0-45484b5a9fb4",
   "metadata": {},
   "outputs": [],
   "source": [
    "## MUSCLE 실행 해주는 함수\n",
    "def do_muscle(idx):\n",
    "    records = create_seq_record(idx)\n",
    "    \n",
    "    ## fasta 파일로 저장\n",
    "    SeqIO.write(records, f'../dataset/fasta/HCD/HCD_{idx}.fasta', format = 'fasta')\n",
    "\n",
    "    ## MUSCLE로 aln파일 저장\n",
    "    muscle_path = '../utils/muscle'\n",
    "    cmd_line = MuscleCommandline(muscle_path, input = f'../dataset/fasta/HCD/HCD_{idx}.fasta', \n",
    "                                                 out = f'../dataset/aln/HCD/HCD_{idx}.aln', clw=\" \")\n",
    "    std_out, std_err = cmd_line()"
   ]
  },
  {
   "cell_type": "markdown",
   "id": "419fdaf0-4488-4b5a-a836-37539c0399c9",
   "metadata": {},
   "source": [
    "### MUSCLE 실행한 결과\n",
    "MUSCLE (3.8) multiple sequence alignment\n",
    "\n",
    "\n",
    "dog             ATGCCACAGCTAGATACATCCACCTGATTTATTATAATCTTTTCAATATTTCTCACCCTC\n",
    "human           ATGCCCCAACTAAATACTACCGTATGGCCCACCATAATTACCCCCATACTCCTTACACTA\n",
    "chimpanzee      ATGCCCCAACTAAATACCGCCGTATGACCCACCATAATTACCCCCATACTCCTGACACTA\n",
    "                ***** ** *** ****  **   **    *  *****     * *** * ** ** ** \n",
    "\n",
    "dog             TTCATCCTATTTCAACTAAAAATTTCAAATCACTACTACCCAGAAAACCCGATAACCAAA\n",
    "human           TTCCTCATCACCCAACTAAAAATATTAAACACAAACTACCACCTACCTCCCTCACCAAAG\n",
    "chimpanzee      TTTCTCGTCACCCAACTAAAAATATTAAATTCAAATTACCATCTACCCCCCTCACCAAAA\n",
    "                **  ** *    *********** * ***     * ****    *   **   * * ** \n",
    "\n",
    "dog             TCTGCTAAAATTGCTGGTCAACATAATCCTTGAGAAAACAAATGAACGAAAATCTATTCG\n",
    "human           CCCATAAAAATAAAAAATTATAACAAACCCTGAGAACCAAAATGAACGAAAATCTGTTCG\n",
    "chimpanzee      CCCATAAAAATAAAAAACTACAATAAACCCTGAGAACCAAAATGAACGAAAATCTATTCG\n",
    "                 *    *****        *  * ** ** ******   **************** ****\n",
    "\n",
    "dog             CTTCTTTCGCTGCCCCCTCAA---TAA\n",
    "human           CTTCATTCATTGCCCCCACAATCCTAG\n",
    "chimpanzee      CTTCATTCGCTGCCCCCACAATCCTAG\n",
    "                **** ***  ******* ***   ** \n"
   ]
  },
  {
   "cell_type": "code",
   "execution_count": 34,
   "id": "d32f1876-8cdd-481d-84b1-0f349f7f9c1d",
   "metadata": {},
   "outputs": [],
   "source": [
    "## WebLogo 그려보기\n",
    "from Bio.motifs import Motif\n",
    "from Bio import AlignIO\n",
    "from Bio import motifs\n",
    "\n",
    "def WebLogo(idx):\n",
    "    sequences = AlignIO.read(f'../dataset/aln/HCD/HCD_{idx}.aln', format = 'clustal')\n",
    "    proteins, alphabets = [], set()\n",
    "    protein_append = proteins.append\n",
    "\n",
    "    for sequence in sequences:\n",
    "        alphabets = alphabets.union(set(sequence.seq))\n",
    "        protein_append(sequence.seq)\n",
    "\n",
    "    alphabets = ''.join(alphabets)\n",
    "    m = motifs.create(proteins, alphabet = alphabets)\n",
    "    Motif.weblogo(m, f'../Weblogo/HCD/human_chimpanzee_and_dog_{idx}.png')"
   ]
  },
  {
   "cell_type": "code",
   "execution_count": 15,
   "id": "b1b305ac-b313-40cf-975d-9c378ed43002",
   "metadata": {},
   "outputs": [],
   "source": [
    "## 계통수 표현해 주는 함수\n",
    "from Bio import Phylo\n",
    "\n",
    "def phylogenetic_tree(idx):\n",
    "    tree = Phylo.read(f'../dataset/newick/HCD/h_c_d_{idx}.newick', 'newick')\n",
    "    print(tree)\n",
    "\n",
    "    Phylo.draw(tree)"
   ]
  },
  {
   "cell_type": "code",
   "execution_count": 36,
   "id": "e41eeea6-1f81-46c7-83d4-500a481efa27",
   "metadata": {},
   "outputs": [
    {
     "name": "stdout",
     "output_type": "stream",
     "text": [
      "[0]human \n",
      "염기 : CCCCCACAATCCTAG \n",
      "GC 함유량 : 39.614\n",
      "녹는점 : 578.000, \n",
      "원본 길이 : 207 (bp), 길이 : 207 (bp)\n",
      "\n",
      "[0]dog \n",
      "염기 : CCCCCTCAATAA--- \n",
      "GC 함유량 : 34.783\n",
      "녹는점 : 552.000, \n",
      "원본 길이 : 204 (bp), 길이 : 207 (bp)\n",
      "\n",
      "[0]chimpanzee \n",
      "염기 : CCCCCACAATCCTAG \n",
      "GC 함유량 : 40.097\n",
      "녹는점 : 580.000, \n",
      "원본 길이 : 207 (bp), 길이 : 207 (bp)\n",
      "\n",
      "------------------------------------------------------------------------------------------------------------------------\n",
      "Tree(rooted=False, weight=1.0)\n",
      "    Clade(branch_length=0.265821)\n",
      "        Clade(branch_length=0.265821)\n",
      "            Clade(branch_length=0.0462122, name='human')\n",
      "            Clade(branch_length=0.0462122, name='chimpanzee')\n",
      "        Clade(branch_length=0.265821, name='dog')\n"
     ]
    },
    {
     "data": {
      "image/png": "[encoded data removed]",
      "text/plain": [
       "<Figure size 432x288 with 1 Axes>"
      ]
     },
     "metadata": {
      "needs_background": "light"
     },
     "output_type": "display_data"
    },
    {
     "name": "stdout",
     "output_type": "stream",
     "text": [
      "[1]human \n",
      "염기 : CACGACAACACATAA \n",
      "GC 함유량 : 44.200\n",
      "녹는점 : 1964.000, \n",
      "원본 길이 : 681 (bp), 길이 : 681 (bp)\n",
      "\n",
      "[1]dog \n",
      "염기 : CATGACAACACCTAA \n",
      "GC 함유량 : 39.794\n",
      "녹는점 : 1904.000, \n",
      "원본 길이 : 681 (bp), 길이 : 681 (bp)\n",
      "\n",
      "[1]chimpanzee \n",
      "염기 : CACGACAACACATAA \n",
      "GC 함유량 : 43.759\n",
      "녹는점 : 1958.000, \n",
      "원본 길이 : 681 (bp), 길이 : 681 (bp)\n",
      "\n",
      "------------------------------------------------------------------------------------------------------------------------\n",
      "Tree(rooted=False, weight=1.0)\n",
      "    Clade(branch_length=0.167155)\n",
      "        Clade(branch_length=0.167155)\n",
      "            Clade(branch_length=0.0476975, name='human')\n",
      "            Clade(branch_length=0.0476975, name='chimpanzee')\n",
      "        Clade(branch_length=0.167155, name='dog')\n"
     ]
    },
    {
     "data": {
      "image/png": "[encoded data removed]",
      "text/plain": [
       "<Figure size 432x288 with 1 Axes>"
      ]
     },
     "metadata": {
      "needs_background": "light"
     },
     "output_type": "display_data"
    },
    {
     "name": "stdout",
     "output_type": "stream",
     "text": [
      "[2]human \n",
      "염기 : GCTGTCAAAGCTTAG \n",
      "GC 함유량 : 43.120\n",
      "녹는점 : 4826.000, \n",
      "원본 길이 : 1686 (bp), 길이 : 1686 (bp)\n",
      "\n",
      "[2]dog \n",
      "염기 : --------------- \n",
      "GC 함유량 : 44.247\n",
      "녹는점 : 3580.000, \n",
      "원본 길이 : 1044 (bp), 길이 : 1686 (bp)\n",
      "\n",
      "[2]chimpanzee \n",
      "염기 : --------------- \n",
      "GC 함유량 : 35.172\n",
      "녹는점 : 3682.000, \n",
      "원본 길이 : 1248 (bp), 길이 : 1686 (bp)\n",
      "\n",
      "------------------------------------------------------------------------------------------------------------------------\n",
      "Tree(rooted=False, weight=1.0)\n",
      "    Clade(branch_length=1.75)\n",
      "        Clade(branch_length=1.75)\n",
      "            Clade(branch_length=1.75, name='human')\n",
      "            Clade(branch_length=1.75, name='dog')\n",
      "        Clade(branch_length=1.75, name='chimpanzee')\n"
     ]
    },
    {
     "data": {
      "image/png": "[encoded data removed]",
      "text/plain": [
       "<Figure size 432x288 with 1 Axes>"
      ]
     },
     "metadata": {
      "needs_background": "light"
     },
     "output_type": "display_data"
    },
    {
     "name": "stdout",
     "output_type": "stream",
     "text": [
      "[3]human \n",
      "염기 : --------------- \n",
      "GC 함유량 : 40.678\n",
      "녹는점 : 3420.000, \n",
      "원본 길이 : 1206 (bp), 길이 : 1239 (bp)\n",
      "\n",
      "[3]dog \n",
      "염기 : --------------- \n",
      "GC 함유량 : 57.143\n",
      "녹는점 : 3504.000, \n",
      "원본 길이 : 1044 (bp), 길이 : 1239 (bp)\n",
      "\n",
      "[3]chimpanzee \n",
      "염기 : ACAAGAGATAAATGA \n",
      "GC 함유량 : 47.942\n",
      "녹는점 : 3666.000, \n",
      "원본 길이 : 1239 (bp), 길이 : 1239 (bp)\n",
      "\n",
      "------------------------------------------------------------------------------------------------------------------------\n",
      "Tree(rooted=False, weight=1.0)\n",
      "    Clade(branch_length=1.75)\n",
      "        Clade(branch_length=1.75)\n",
      "            Clade(branch_length=1.75, name='human')\n",
      "            Clade(branch_length=1.75, name='dog')\n",
      "        Clade(branch_length=1.75, name='chimpanzee')\n"
     ]
    },
    {
     "data": {
      "image/png": "[encoded data removed]",
      "text/plain": [
       "<Figure size 432x288 with 1 Axes>"
      ]
     },
     "metadata": {
      "needs_background": "light"
     },
     "output_type": "display_data"
    },
    {
     "name": "stdout",
     "output_type": "stream",
     "text": [
      "[4]human \n",
      "염기 : GCTGTCAAAGCTTAG \n",
      "GC 함유량 : 42.728\n",
      "녹는점 : 4102.000, \n",
      "원본 길이 : 1437 (bp), 길이 : 1437 (bp)\n",
      "\n",
      "[4]dog \n",
      "염기 : --------------- \n",
      "GC 함유량 : 37.509\n",
      "녹는점 : 3010.000, \n",
      "원본 길이 : 966 (bp), 길이 : 1437 (bp)\n",
      "\n",
      "[4]chimpanzee \n",
      "염기 : --------------- \n",
      "GC 함유량 : 44.746\n",
      "녹는점 : 3302.000, \n",
      "원본 길이 : 1008 (bp), 길이 : 1437 (bp)\n",
      "\n",
      "------------------------------------------------------------------------------------------------------------------------\n",
      "Tree(rooted=False, weight=1.0)\n",
      "    Clade(branch_length=1.75)\n",
      "        Clade(branch_length=1.75)\n",
      "            Clade(branch_length=1.75, name='human')\n",
      "            Clade(branch_length=1.75, name='dog')\n",
      "        Clade(branch_length=1.75, name='chimpanzee')\n"
     ]
    },
    {
     "data": {
      "image/png": "[encoded data removed]",
      "text/plain": [
       "<Figure size 432x288 with 1 Axes>"
      ]
     },
     "metadata": {
      "needs_background": "light"
     },
     "output_type": "display_data"
    },
    {
     "name": "stdout",
     "output_type": "stream",
     "text": [
      "[5]human \n",
      "염기 : GCTGTCAAAGCTTAG \n",
      "GC 함유량 : 43.120\n",
      "녹는점 : 4826.000, \n",
      "원본 길이 : 1686 (bp), 길이 : 1686 (bp)\n",
      "\n",
      "[5]dog \n",
      "염기 : --------------- \n",
      "GC 함유량 : 19.039\n",
      "녹는점 : 1608.000, \n",
      "원본 길이 : 483 (bp), 길이 : 1686 (bp)\n",
      "\n",
      "[5]chimpanzee \n",
      "염기 : --------------- \n",
      "GC 함유량 : 36.477\n",
      "녹는점 : 3150.000, \n",
      "원본 길이 : 960 (bp), 길이 : 1686 (bp)\n",
      "\n",
      "------------------------------------------------------------------------------------------------------------------------\n",
      "Tree(rooted=False, weight=1.0)\n",
      "    Clade(branch_length=1.75)\n",
      "        Clade(branch_length=1.75)\n",
      "            Clade(branch_length=1.75, name='human')\n",
      "            Clade(branch_length=1.75, name='dog')\n",
      "        Clade(branch_length=1.75, name='chimpanzee')\n"
     ]
    },
    {
     "data": {
      "image/png": "[encoded data removed]",
      "text/plain": [
       "<Figure size 432x288 with 1 Axes>"
      ]
     },
     "metadata": {
      "needs_background": "light"
     },
     "output_type": "display_data"
    },
    {
     "name": "stdout",
     "output_type": "stream",
     "text": [
      "[6]human \n",
      "염기 : GCTGTCAAAGCTTAG \n",
      "GC 함유량 : 42.884\n",
      "녹는점 : 4638.000, \n",
      "원본 길이 : 1623 (bp), 길이 : 1623 (bp)\n",
      "\n",
      "[6]dog \n",
      "염기 : --------------- \n",
      "GC 함유량 : 53.296\n",
      "녹는점 : 4760.000, \n",
      "원본 길이 : 1515 (bp), 길이 : 1623 (bp)\n",
      "\n",
      "[6]chimpanzee \n",
      "염기 : --------------- \n",
      "GC 함유량 : 27.603\n",
      "녹는점 : 3068.000, \n",
      "원본 길이 : 1086 (bp), 길이 : 1623 (bp)\n",
      "\n",
      "------------------------------------------------------------------------------------------------------------------------\n",
      "Tree(rooted=False, weight=1.0)\n",
      "    Clade(branch_length=1.75)\n",
      "        Clade(branch_length=1.75)\n",
      "            Clade(branch_length=1.75, name='human')\n",
      "            Clade(branch_length=1.75, name='dog')\n",
      "        Clade(branch_length=1.75, name='chimpanzee')\n"
     ]
    },
    {
     "data": {
      "image/png": "[encoded data removed]",
      "text/plain": [
       "<Figure size 432x288 with 1 Axes>"
      ]
     },
     "metadata": {
      "needs_background": "light"
     },
     "output_type": "display_data"
    },
    {
     "name": "stdout",
     "output_type": "stream",
     "text": [
      "[7]human \n",
      "염기 : --------------- \n",
      "GC 함유량 : 34.807\n",
      "녹는점 : 4102.000, \n",
      "원본 길이 : 1437 (bp), 길이 : 1764 (bp)\n",
      "\n",
      "[7]dog \n",
      "염기 : --------------- \n",
      "GC 함유량 : 47.052\n",
      "녹는점 : 3850.000, \n",
      "원본 길이 : 1095 (bp), 길이 : 1764 (bp)\n",
      "\n",
      "[7]chimpanzee \n",
      "염기 : AAGTCTGCCCACTAA \n",
      "GC 함유량 : 63.946\n",
      "녹는점 : 5784.000, \n",
      "원본 길이 : 1764 (bp), 길이 : 1764 (bp)\n",
      "\n",
      "------------------------------------------------------------------------------------------------------------------------\n",
      "Tree(rooted=False, weight=1.0)\n",
      "    Clade(branch_length=1.75)\n",
      "        Clade(branch_length=1.75)\n",
      "            Clade(branch_length=1.75, name='human')\n",
      "            Clade(branch_length=1.75, name='dog')\n",
      "        Clade(branch_length=1.75, name='chimpanzee')\n"
     ]
    },
    {
     "data": {
      "image/png": "[encoded data removed]",
      "text/plain": [
       "<Figure size 432x288 with 1 Axes>"
      ]
     },
     "metadata": {
      "needs_background": "light"
     },
     "output_type": "display_data"
    },
    {
     "name": "stdout",
     "output_type": "stream",
     "text": [
      "[8]human \n",
      "염기 : GCTGTCAAAGCTTAG \n",
      "GC 함유량 : 42.884\n",
      "녹는점 : 4638.000, \n",
      "원본 길이 : 1623 (bp), 길이 : 1623 (bp)\n",
      "\n",
      "[8]dog \n",
      "염기 : --------------- \n",
      "GC 함유량 : 32.594\n",
      "녹는점 : 3284.000, \n",
      "원본 길이 : 1113 (bp), 길이 : 1623 (bp)\n",
      "\n",
      "[8]chimpanzee \n",
      "염기 : --------------- \n",
      "GC 함유량 : 48.860\n",
      "녹는점 : 4292.000, \n",
      "원본 길이 : 1353 (bp), 길이 : 1623 (bp)\n",
      "\n",
      "------------------------------------------------------------------------------------------------------------------------\n",
      "Tree(rooted=False, weight=1.0)\n",
      "    Clade(branch_length=1.75)\n",
      "        Clade(branch_length=1.75)\n",
      "            Clade(branch_length=1.75, name='human')\n",
      "            Clade(branch_length=1.75, name='dog')\n",
      "        Clade(branch_length=1.75, name='chimpanzee')\n"
     ]
    },
    {
     "data": {
      "image/png": "[encoded data removed]",
      "text/plain": [
       "<Figure size 432x288 with 1 Axes>"
      ]
     },
     "metadata": {
      "needs_background": "light"
     },
     "output_type": "display_data"
    },
    {
     "name": "stdout",
     "output_type": "stream",
     "text": [
      "[9]human \n",
      "염기 : --------------- \n",
      "GC 함유량 : 6.006\n",
      "녹는점 : 1830.000, \n",
      "원본 길이 : 644 (bp), 길이 : 4512 (bp)\n",
      "\n",
      "[9]dog \n",
      "염기 : --------------- \n",
      "GC 함유량 : 9.353\n",
      "녹는점 : 2836.000, \n",
      "원본 길이 : 996 (bp), 길이 : 4512 (bp)\n",
      "\n",
      "[9]chimpanzee \n",
      "염기 : GGAGAAAAGGACTAG \n",
      "GC 함유량 : 52.992\n",
      "녹는점 : 13806.000, \n",
      "원본 길이 : 4512 (bp), 길이 : 4512 (bp)\n",
      "\n",
      "------------------------------------------------------------------------------------------------------------------------\n",
      "Tree(rooted=False, weight=1.0)\n",
      "    Clade(branch_length=1.75)\n",
      "        Clade(branch_length=1.75)\n",
      "            Clade(branch_length=1.75, name='human')\n",
      "            Clade(branch_length=1.75, name='dog')\n",
      "        Clade(branch_length=1.75, name='chimpanzee')\n"
     ]
    },
    {
     "data": {
      "image/png": "[encoded data removed]",
      "text/plain": [
       "<Figure size 432x288 with 1 Axes>"
      ]
     },
     "metadata": {
      "needs_background": "light"
     },
     "output_type": "display_data"
    },
    {
     "name": "stdout",
     "output_type": "stream",
     "text": [
      "[10]human \n",
      "염기 : --------------- \n",
      "GC 함유량 : 4.482\n",
      "녹는점 : 1376.000, \n",
      "원본 길이 : 487 (bp), 길이 : 4485 (bp)\n",
      "\n",
      "[10]dog \n",
      "염기 : --------------- \n",
      "GC 함유량 : 9.610\n",
      "녹는점 : 3028.000, \n",
      "원본 길이 : 1083 (bp), 길이 : 4485 (bp)\n",
      "\n",
      "[10]chimpanzee \n",
      "염기 : GGAGAAAAGGACTAG \n",
      "GC 함유량 : 52.508\n",
      "녹는점 : 13680.000, \n",
      "원본 길이 : 4485 (bp), 길이 : 4485 (bp)\n",
      "\n",
      "------------------------------------------------------------------------------------------------------------------------\n",
      "Tree(rooted=False, weight=1.0)\n",
      "    Clade(branch_length=1.75)\n",
      "        Clade(branch_length=1.75)\n",
      "            Clade(branch_length=1.75, name='human')\n",
      "            Clade(branch_length=1.75, name='dog')\n",
      "        Clade(branch_length=1.75, name='chimpanzee')\n"
     ]
    },
    {
     "data": {
      "image/png": "[encoded data removed]",
      "text/plain": [
       "<Figure size 432x288 with 1 Axes>"
      ]
     },
     "metadata": {
      "needs_background": "light"
     },
     "output_type": "display_data"
    }
   ],
   "source": [
    "## 주피터 내에서 생성한 Weblogo 파일 보이기\n",
    "from IPython.display import Image\n",
    "    \n",
    "for idx in range(0, 11):\n",
    "    records = do_muscle(idx)\n",
    "    phylogenetic_tree(idx)"
   ]
  },
  {
   "cell_type": "code",
   "execution_count": null,
   "id": "540747f3-b729-4343-9c96-715e68a205ce",
   "metadata": {},
   "outputs": [],
   "source": []
  }
 ],
 "metadata": {
  "kernelspec": {
   "display_name": "bio",
   "language": "python",
   "name": "bio"
  },
  "language_info": {
   "codemirror_mode": {
    "name": "ipython",
    "version": 3
   },
   "file_extension": ".py",
   "mimetype": "text/x-python",
   "name": "python",
   "nbconvert_exporter": "python",
   "pygments_lexer": "ipython3",
   "version": "3.9.12"
  }
 },
 "nbformat": 4,
 "nbformat_minor": 5
}
