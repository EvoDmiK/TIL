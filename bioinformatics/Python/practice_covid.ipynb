{
 "cells": [
  {
   "cell_type": "code",
   "execution_count": 2,
   "id": "56e5dd3b-51c0-4873-ba99-c52d8ddfde34",
   "metadata": {},
   "outputs": [],
   "source": [
    "from Bio.Align.Applications import MuscleCommandline\n",
    "from Bio.SeqUtils import GC, MeltingTemp\n",
    "from Bio import SeqIO\n",
    "import numpy as np"
   ]
  },
  {
   "cell_type": "code",
   "execution_count": 3,
   "id": "6c93bb0d-8491-4648-a62e-808e83ce03d9",
   "metadata": {},
   "outputs": [
    {
     "name": "stdout",
     "output_type": "stream",
     "text": [
      "fasta 파일에 있는 염기서열 갯수 : 4351\n"
     ]
    }
   ],
   "source": [
    "sequences = SeqIO.parse('../dataset/fasta/COVID/group_1.fasta', 'fasta')\n",
    "\n",
    "sequences = (sequence.seq for sequence in sequences)\n",
    "print(f'fasta 파일에 있는 염기서열 갯수 : {len([_ for _ in sequences])}')"
   ]
  },
  {
   "cell_type": "code",
   "execution_count": null,
   "id": "c76b103e-640a-4253-bc13-80f7d1fe57ca",
   "metadata": {},
   "outputs": [],
   "source": []
  }
 ],
 "metadata": {
  "kernelspec": {
   "display_name": "bio",
   "language": "python",
   "name": "bio"
  },
  "language_info": {
   "codemirror_mode": {
    "name": "ipython",
    "version": 3
   },
   "file_extension": ".py",
   "mimetype": "text/x-python",
   "name": "python",
   "nbconvert_exporter": "python",
   "pygments_lexer": "ipython3",
   "version": "3.9.12"
  }
 },
 "nbformat": 4,
 "nbformat_minor": 5
}
