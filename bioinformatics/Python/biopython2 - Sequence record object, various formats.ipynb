{
 "cells": [
  {
   "cell_type": "markdown",
   "id": "92b6b681-6d4a-47ca-a35e-68c8066cee8b",
   "metadata": {},
   "source": [
    "# 0. 참고자료\n",
    "## 0-1. 도서\n",
    "- 비제이퍼블릭 | 한주현 저 - 바이오파이썬으로 만나는 생물정보학\n",
    "\n",
    "## 0-2. 웹사이트\n",
    "- biopython SeqIO | [biopython wiki SeqIO](https://biopython.org/wiki/SeqIO)\n",
    "\n",
    "## 0-999. 데이터셋 출처\n",
    "- 도서 깃헙 | [바이오 파이썬으로 만나는 생물정보학 깃헙](https://github.com/bjpublic/biopython)"
   ]
  },
  {
   "cell_type": "code",
   "execution_count": 4,
   "id": "44c8c21e-b035-4572-bc53-6e526fd81d4b",
   "metadata": {},
   "outputs": [
    {
     "name": "stdout",
     "output_type": "stream",
     "text": [
      "--------------------------------------------------------------------------------\n",
      "아아 함수 테스트\n",
      "--------------------------------------------------------------------------------\n",
      "잘 나옵니까 \n",
      "--------------------------------------------------------------------------------\n"
     ]
    }
   ],
   "source": [
    "## 아래 반복문을 통해 나온 결과들을 예쁘게 나오도록하는 씨잘데기 없는 함수\n",
    "def string_decoration(string, num = 80, idx=1):\n",
    "    decorated_string = f'{\"-\"*num}\\n{string}\\n{\"-\"*num}' if idx == 1 else f'{string} \\n{\"-\"*num}'\n",
    "    print(decorated_string)\n",
    "\n",
    "string_decoration('아아 함수 테스트')\n",
    "string_decoration('잘 나옵니까', idx=2)"
   ]
  },
  {
   "cell_type": "markdown",
   "id": "94ce4222-5277-497a-88ac-0693a9e1f28d",
   "metadata": {},
   "source": [
    "# 1.SeqRecord 객체\n",
    "- biopython의 Seq 객체에 서열 뿐만 아니라, 서열의 이름, NCBI의 ID 등 정보들이 들어있는 객체\n",
    "- 서열 정보를 제외한 다른 정보는 기본값으로 unknown이 들어간다. (서열 정보는 반드시 들어가야 한다.)\n",
    "\n",
    "|  속성이름   |     설명   |\n",
    "|:----------:|:----------|\n",
    "|seq              |서열 정보를 의미                                                   |\n",
    "|id               |Locus와 같은 id 정보를 의미                                        |\n",
    "|name             |서열의 의미를 의미하며 유전자 이름과 같은 정보가 들어감                |\n",
    "|description      |추가적인 설명이 들어있음                                            |\n",
    "|letter_annotation|파이썬 딕셔너리 형으로 사용자가 추가 설명을 키, 값 쌍으로 입력할 수 있음|\n",
    "|annotations      |추가 설명이 파이썬 딕셔너리 형으로 들어감                             |\n",
    "|features         |서열 구간에 대한 특징이 들어감                                       |\n",
    "|dbxrefs          |추가 db가 있다면 내용이 들어감                                       |"
   ]
  },
  {
   "cell_type": "markdown",
   "id": "e4ed9df3-3640-40b8-bd61-fe4d326761f0",
   "metadata": {},
   "source": [
    "## 1-1. SeqReocrd 객체 생성"
   ]
  },
  {
   "cell_type": "code",
   "execution_count": 1,
   "id": "e77a67c6-4f5c-4f82-b3b3-596f52b11f3a",
   "metadata": {},
   "outputs": [
    {
     "name": "stdout",
     "output_type": "stream",
     "text": [
      "원본 Seq  객체 : AGTAAGGGTTAGGAATA\n",
      "\n",
      "SeqRecord 객체 \n",
      "ID: <unknown id>\n",
      "Name: <unknown name>\n",
      "Description: <unknown description>\n",
      "Number of features: 0\n",
      "Seq('AGTAAGGGTTAGGAATA')\n",
      "\n",
      "SeqRecord 함수에 Seq를 입력하지 않은 경우 : __init__() missing 1 required positional argument: 'seq'\n"
     ]
    }
   ],
   "source": [
    "from Bio.SeqRecord import SeqRecord\n",
    "from Bio.Seq import Seq\n",
    "\n",
    "dummy_seq = Seq('AGTAAGGGTTAGGAATA')\n",
    "dummy_seq_record = SeqRecord(dummy_seq)\n",
    "\n",
    "print(f'원본 Seq  객체 : {dummy_seq}\\n')\n",
    "print(f'SeqRecord 객체 \\n{dummy_seq_record}\\n')\n",
    "\n",
    "try:\n",
    "    error_test = SeqRecord()\n",
    "except Exception as e:\n",
    "    print(f'SeqRecord 함수에 Seq를 입력하지 않은 경우 : {e}')"
   ]
  },
  {
   "cell_type": "markdown",
   "id": "d6b983aa-1002-48fd-a467-50f987e4a372",
   "metadata": {},
   "source": [
    "### (!) SeqRecord 객체에 정보를 넣는 방법은 두 가지 있다.\n",
    "- SeqRecord 객체를 생성할 때 입력하기\n",
    "- SeqRecord의 속성에 접근하여 입력하기\n",
    "   - 이와 같은 방법으로 속성 값을 변경할 수도 있다"
   ]
  },
  {
   "cell_type": "code",
   "execution_count": 90,
   "id": "93299c99-a6bf-4716-a604-926b4151781f",
   "metadata": {},
   "outputs": [
    {
     "name": "stdout",
     "output_type": "stream",
     "text": [
      "SeqRecord 객체 생성시 정보 입력하여 테스트 \n",
      "ID: dummy_9999\n",
      "Name: dummy\n",
      "Description: <unknown description>\n",
      "Number of features: 0\n",
      "Seq('AGTAAGGGTTAGGAATA')\n",
      "\n",
      "SeqRecord 객체의 속성에 접근하여 테스트 \n",
      "ID: dummy_9999\n",
      "Name: new name\n",
      "Description: sequence name change\n",
      "Number of features: 0\n",
      "/dummy1=dummy1\n",
      "Seq('AGTAAGGGTTAGGAATA')\n",
      "\n"
     ]
    }
   ],
   "source": [
    "## SeqRecord 객체에 설명 입력하기\n",
    "dummy_seq_record = SeqRecord(dummy_seq, id = 'dummy_9999', name = 'dummy')\n",
    "print(f'SeqRecord 객체 생성시 정보 입력하여 테스트 \\n{dummy_seq_record}\\n')\n",
    "\n",
    "dummy_seq_record.name = 'new name'\n",
    "dummy_seq_record.description = 'sequence name change'\n",
    "dummy_seq_record.annotations['dummy1'] = 'dummy1'\n",
    "dummy_seq_record.letter_annotion = {'dummy2' : 'dummy2'}\n",
    "print(f'SeqRecord 객체의 속성에 접근하여 테스트 \\n{dummy_seq_record}\\n')"
   ]
  },
  {
   "cell_type": "markdown",
   "id": "6ee86c22-0536-4e98-a2ac-df4a355ea5b9",
   "metadata": {},
   "source": [
    "## 1-2.SeqRecord 객체 간 비교하기\n",
    "- SeqRecord 객체는 두 객체간 직접적인 비교는 불가능하고, 객체 안 속성 값을 비교해야한다."
   ]
  },
  {
   "cell_type": "code",
   "execution_count": 222,
   "id": "2448ad79-0a5f-4e8a-bb43-73da9b22f025",
   "metadata": {},
   "outputs": [
    {
     "name": "stdout",
     "output_type": "stream",
     "text": [
      "SeqRecord 객체 두 개 비교할 수 있니?\n",
      "아니 : SeqRecord comparison is deliberately not implemented. Explicitly compare the attributes of interest.\n",
      "\n",
      "그럼 SeqRecord 객체 안 속성 값들은 비교할 수 있니? : True\n"
     ]
    }
   ],
   "source": [
    "dummy_seq = SeqRecord(Seq('AGTAAGGGTTAGGAATA'))\n",
    "dummy_seq2 = SeqRecord(Seq('AGTAAGGGTTAGGAATA'))\n",
    "\n",
    "try:\n",
    "    print('SeqRecord 객체 두 개 비교할 수 있니?')\n",
    "    print(dummy_seq == dummy_seq2)\n",
    "except Exception as e:\n",
    "    print(f'아니 : {e}\\n')\n",
    "    \n",
    "print(f'그럼 SeqRecord 객체 안 속성 값들은 비교할 수 있니? : {dummy_seq.seq == dummy_seq2.seq}')"
   ]
  },
  {
   "cell_type": "markdown",
   "id": "a2945a3f-964d-4d16-92c7-bc66041fb530",
   "metadata": {},
   "source": [
    "# 2. FASTA 파일\n",
    "- SeqIO 모듈로 FASTA 파일을 읽는 방법은 두 가지가 있다.  \n",
    "(1) SeqIO.parse()  \n",
    "(2) SeqIO.read()"
   ]
  },
  {
   "cell_type": "markdown",
   "id": "fad544a3-ca91-4442-b80c-c85f55cf502b",
   "metadata": {},
   "source": [
    "## 2-1. SeqIO.parse() 메소드로 FASTA 파일 읽기\n",
    "- SeqIO.parse() 메소드 안에는 2개의 인자를 입력으로 받는다.  \n",
    "(1) 파일 이름  \n",
    "(2) 유전체 데이터가 저장되어 있는 파일 종류  \n",
    "\n",
    "&nbsp;(*) biopython 1.79 버전 기준 33개의 포맷을 지원하고 있다.  \n",
    "\n",
    "- 자주 사용하는 데이터 포맷은 다음과 같다.\n",
    "| 포맷 |  설명 |\n",
    "|:----------:|:----------|\n",
    "|clustal|Multiple alignment 툴에서 나온 결과로, 범용적으로 사용되는 alignment 포맷이다.|\n",
    "|fasta|염기서열을 표기한 파일로 >로 시작하는 헤더와 서열이 있다. 헤더와 서열을 레코드라 하며, 1개 이상의 레코드가 저장되어 있다|\n",
    "|fastq|FASTA 파일에 quality 정보가 추가된 파일 포맷이다.|\n",
    "|genbank|염기서열 및 아미노산 서열, 종 정보, 관련 논문 저자, 제목, pubmed ID 등의 메타 데이터가 저장되어 있다.|\n",
    "\n"
   ]
  },
  {
   "cell_type": "code",
   "execution_count": 5,
   "id": "a33c30ec-984d-4257-84d2-2ea609a179e0",
   "metadata": {
    "tags": []
   },
   "outputs": [
    {
     "name": "stdout",
     "output_type": "stream",
     "text": [
      "읽어들인 fasta 파일의 타입 : <class 'Bio.SeqIO.FastaIO.FastaIterator'>\n",
      "\n",
      "------------------------------------------------------------------------------------------------------------------------\n",
      "fasta 파일 안의 sequence record의 타입 : <class 'Bio.SeqRecord.SeqRecord'>\n",
      "------------------------------------------------------------------------------------------------------------------------\n",
      "fasta 파일 안의 sequence record\n",
      "ID: AF501235.1\n",
      "Name: AF501235.1\n",
      "Description: AF501235.1 Influenzavirus A (A/duck/Shanghai/1/2000) hemagglutinin gene, complete cds\n",
      "Number of features: 0\n",
      "Seq('ATGGAGAAAATAGTGCTTCTTCTTGCAATAGTCAGTCTTGTTAAAAGTGATCAG...AGA') \n",
      "------------------------------------------------------------------------------------------------------------------------\n"
     ]
    }
   ],
   "source": [
    "from Bio import SeqIO\n",
    "\n",
    "sequences = SeqIO.parse('../dataset/fasta/sample_1.fasta', 'fasta')\n",
    "print(f'읽어들인 fasta 파일의 타입 : {type(sequences)}\\n')\n",
    "\n",
    "for sequence in sequences:\n",
    "    string_decoration(f'fasta 파일 안의 sequence record의 타입 : {type(sequence)}', num = 120)\n",
    "    string_decoration(f'fasta 파일 안의 sequence record\\n{sequence}', num = 120, idx = 2)"
   ]
  },
  {
   "cell_type": "code",
   "execution_count": 132,
   "id": "66054bf9-a22a-4689-bc0f-6957cd237689",
   "metadata": {},
   "outputs": [
    {
     "name": "stdout",
     "output_type": "stream",
     "text": [
      "읽어들인 fasta 파일의 타입 : <class 'Bio.SeqIO.FastaIO.FastaIterator'>\n",
      "\n",
      "----------------------------------------------------------------------------------------------------\n",
      "fasta 파일 안의 sequence record1의 타입 : <class 'Bio.SeqRecord.SeqRecord'>\n",
      "----------------------------------------------------------------------------------------------------\n",
      "fasta 파일 안의 sequence record1\n",
      "ID: MH464856.1\n",
      "Name: MH464856.1\n",
      "Description: MH464856.1 Hepatitis B virus isolate MA134, complete genome\n",
      "Number of features: 0\n",
      "Seq('TTCCACAACATTCCACCAAGCTCTGCAGGATCCCAGAGTAAGAGGCCTGTATTT...GGG') \n",
      "----------------------------------------------------------------------------------------------------\n",
      "\n",
      "\n",
      "----------------------------------------------------------------------------------------------------\n",
      "fasta 파일 안의 sequence record2의 타입 : <class 'Bio.SeqRecord.SeqRecord'>\n",
      "----------------------------------------------------------------------------------------------------\n",
      "fasta 파일 안의 sequence record2\n",
      "ID: CP002925.1\n",
      "Name: CP002925.1\n",
      "Description: CP002925.1 Streptococcus pseudopneumoniae IS7493, complete genome\n",
      "Number of features: 0\n",
      "Seq('TTGAAAGAAAAACAATTTTGGAATCGTATATTAGAATTTGCTCAAGAAAGACTG...ATC') \n",
      "----------------------------------------------------------------------------------------------------\n",
      "\n"
     ]
    }
   ],
   "source": [
    "sequences = SeqIO.parse('../dataset/fasta/sample_2.fasta', 'fasta')\n",
    "print(f'읽어들인 fasta 파일의 타입 : {type(sequences)}\\n')\n",
    "\n",
    "for idx, sequence in enumerate(sequences, 1):\n",
    "    string_decoration(f'fasta 파일 안의 sequence record{idx}의 타입 : {type(sequence)}', num=100)\n",
    "    string_decoration(f'fasta 파일 안의 sequence record{idx}\\n{sequence}', idx=2, num=100)\n",
    "    print('\\n' if idx == 1 else '')"
   ]
  },
  {
   "cell_type": "markdown",
   "id": "e7fe5a16-8a11-4010-82bc-84c656366cb3",
   "metadata": {},
   "source": [
    "## 2-2. SeqIO.read() 메소드로 FASTA 파일 읽기\n",
    "- SeqIO.read() 메소드도 SeqIO.parse() 메소드와 동일하게 두 개의 입력인자를 받는다.  \n",
    "(1) 파일 이름  \n",
    "(2) 유전체 데이터가 저장되어 있는 파일 종류  \n",
    "- SeqIO.parse() 메소드로 파일을 읽으면 레코드 수 만큳 SeqRecord 객체가 iterable한 generator가 객체로 생성  \n",
    "  SeqIO.read() 메소드로 파일을 읽으면 1개의 SeqRecord 객체가 만들어짐. (여러개의 레코드가 있는 경우에 에러 발생)"
   ]
  },
  {
   "cell_type": "code",
   "execution_count": 131,
   "id": "46149735-2443-4498-b226-3e7f283544af",
   "metadata": {},
   "outputs": [
    {
     "name": "stdout",
     "output_type": "stream",
     "text": [
      "----------------------------------------------------------------------------------------------------\n",
      "읽어들인 fasta 파일의 타입 : <class 'Bio.SeqIO.FastaIO.FastaIterator'>\n",
      "----------------------------------------------------------------------------------------------------\n",
      "fasta 파일 안의 sequence record\n",
      "ID: AF501235.1\n",
      "Name: AF501235.1\n",
      "Description: AF501235.1 Influenzavirus A (A/duck/Shanghai/1/2000) hemagglutinin gene, complete cds\n",
      "Number of features: 0\n",
      "Seq('ATGGAGAAAATAGTGCTTCTTCTTGCAATAGTCAGTCTTGTTAAAAGTGATCAG...AGA') \n",
      "----------------------------------------------------------------------------------------------------\n",
      "\n",
      "레코드가 여러개인 파일 읽을 수 있니?\n",
      "아니 : More than one record found in handle\n"
     ]
    }
   ],
   "source": [
    "sequence = SeqIO.read('../dataset/fasta/sample_1.fasta', 'fasta')\n",
    "string_decoration(f'읽어들인 fasta 파일의 타입 : {type(sequences)}', num=100)\n",
    "string_decoration(f'fasta 파일 안의 sequence record\\n{sequence}',num=100, idx=2)\n",
    "\n",
    "try:\n",
    "    print('\\n레코드가 여러개인 파일 읽을 수 있니?')\n",
    "    sequence = SeqIO.read('../dataset/fasta/sample_2.fasta', 'fasta')\n",
    "except Exception as e:\n",
    "    print(f'아니 : {e}') "
   ]
  },
  {
   "cell_type": "markdown",
   "id": "4368f773-9c7e-48e5-b586-a6f570256182",
   "metadata": {},
   "source": [
    "### (!) FASTA파일로 SeqRecord 객체 만들기\n",
    "- SeqIO.parse() 메소드를 사용하면 FASTA 파일 안의 정보들을 SeqRecord 객체로 사용할 수 있다.  \n",
    "(1) FASTA 파일의 헤더 부분이 파싱되어 SeqRecord 객체의 ID, Name, Description 속성으로 들어간다.  \n",
    "(2) FASTA 파일에 저장되어 있는 염기 서열 정보는 SeqRecord 객체의 Seq 속성으로 들어간다.\n"
   ]
  },
  {
   "cell_type": "code",
   "execution_count": 130,
   "id": "cf0c2406-d7ac-4ff2-930d-ab8daa32dde4",
   "metadata": {},
   "outputs": [
    {
     "name": "stdout",
     "output_type": "stream",
     "text": [
      "읽어들인 fasta 파일의 타입 : <class 'Bio.SeqIO.FastaIO.FastaIterator'>\n",
      "\n",
      "------------------------------------------------------------------------------------------------------------------------\n",
      "fasta 파일 안의 sequence record의 타입 : <class 'Bio.SeqRecord.SeqRecord'>\n",
      "------------------------------------------------------------------------------------------------------------------------\n",
      "fasta 파일 안의 sequence record\n",
      "ID: J01636.1\n",
      "Name: J01636.1\n",
      "Description: J01636.1 E.coli lactose operon with lacI, lacZ, lacY and lacA genes\n",
      "Number of features: 0\n",
      "Seq('GACACCATCGAATGGCGCAAAACCTTTCGCGGTATGGCATGATAGCGCCCGGAA...GAC') \n",
      "------------------------------------------------------------------------------------------------------------------------\n",
      "\n",
      "\n",
      "------------------------------------------------------------------------------------------------------------------------\n",
      "임의로 바꾼 이름을 적용한 sequence record의 타입 : <class 'Bio.SeqRecord.SeqRecord'>\n",
      "------------------------------------------------------------------------------------------------------------------------\n",
      "임의로 바꾼 이름을 적용한 sequence record\n",
      "ID: J01636.1\n",
      "Name: 가나다라\n",
      "Description: J01636.1 E.coli lactose operon with lacI, lacZ, lacY and lacA genes\n",
      "Number of features: 0\n",
      "Seq('GACACCATCGAATGGCGCAAAACCTTTCGCGGTATGGCATGATAGCGCCCGGAA...GAC') \n",
      "------------------------------------------------------------------------------------------------------------------------\n"
     ]
    }
   ],
   "source": [
    "lac_operon = SeqIO.parse('../dataset/fasta/J01631.1.fasta', 'fasta')\n",
    "print(f'읽어들인 fasta 파일의 타입 : {type(lac_operon)}\\n')\n",
    "\n",
    "for lac in lac_operon:\n",
    "    string_decoration(f'fasta 파일 안의 sequence record의 타입 : {type(lac)}', num = 120)\n",
    "    string_decoration(f'fasta 파일 안의 sequence record\\n{lac}', num = 120, idx = 2)\n",
    "    print('\\n')\n",
    "    \n",
    "    lac.name = '가나다라'\n",
    "    string_decoration(f'임의로 바꾼 이름을 적용한 sequence record의 타입 : {type(lac)}', num = 120)\n",
    "    string_decoration(f'임의로 바꾼 이름을 적용한 sequence record\\n{lac}',num=120, idx=2)"
   ]
  },
  {
   "cell_type": "markdown",
   "id": "c9424acf-9126-4183-9580-21b4504d5c21",
   "metadata": {},
   "source": [
    "# 3. FASTQ 파일\n",
    "- 일반적으로 FASTAQ 파일에는 여러개의 리드들로 구성되어 있어 SeqIO.read() 메소드로 읽으면 에러가 난다."
   ]
  },
  {
   "cell_type": "markdown",
   "id": "b93affb6-17e7-4d90-b74b-2e59ccab59b6",
   "metadata": {},
   "source": [
    "## 3-1. SeqIO.parse() 메소드로 FASTQ 파일 읽기"
   ]
  },
  {
   "cell_type": "code",
   "execution_count": 139,
   "id": "1137bd28-3bac-4623-b069-e796b297173e",
   "metadata": {},
   "outputs": [
    {
     "name": "stdout",
     "output_type": "stream",
     "text": [
      "fastq 파일 읽을 수 있니?\n",
      "아니 : More than one record found in handle\n",
      "\n",
      "읽어들인 fastq 파일의 타입 : <class 'Bio.SeqIO.QualityIO.FastqPhredIterator'>\n",
      "------------------------------------------------------------------------------------------------------------------------\n",
      "fastq 파일 안의 sequence 타입 : <class 'Bio.SeqRecord.SeqRecord'>\n",
      "------------------------------------------------------------------------------------------------------------------------\n",
      "fastq 파일 안의 sequence record\n",
      "ID: SRR000982.5E745RJU01DDHJ6length=113\n",
      "Name: SRR000982.5E745RJU01DDHJ6length=113\n",
      "Description: SRR000982.5E745RJU01DDHJ6length=113\n",
      "Number of features: 0\n",
      "Per letter annotation for: phred_quality\n",
      "Seq('AAGGCACCATGCAGAGATGCAAGGCCCCTTTCTAAGCCCTAGACTTCTGGATGA...CAG') \n",
      "------------------------------------------------------------------------------------------------------------------------\n",
      "fastq 파일 안의 sequence \n",
      "AAGGCACCATGCAGAGATGCAAGGCCCCTTTCTAAGCCCTAGACTTCTGGATGACACTTCTAGAAACACCCTGGGCCAGAAGTGAACCTGCTGCCTTGAAGGGAATAACTCAG \n",
      "------------------------------------------------------------------------------------------------------------------------\n",
      "\n",
      "\n",
      "------------------------------------------------------------------------------------------------------------------------\n",
      "fastq 파일 안의 sequence 타입 : <class 'Bio.SeqRecord.SeqRecord'>\n",
      "------------------------------------------------------------------------------------------------------------------------\n",
      "fastq 파일 안의 sequence record\n",
      "ID: SRR000982.35E745RJU01DLQBClength=53\n",
      "Name: SRR000982.35E745RJU01DLQBClength=53\n",
      "Description: SRR000982.35E745RJU01DLQBClength=53\n",
      "Number of features: 0\n",
      "Per letter annotation for: phred_quality\n",
      "Seq('ATCTCTACCCAAAGATTAATGGGGATTGGTGTGATATACGGCTGAATTGTACC') \n",
      "------------------------------------------------------------------------------------------------------------------------\n",
      "fastq 파일 안의 sequence \n",
      "ATCTCTACCCAAAGATTAATGGGGATTGGTGTGATATACGGCTGAATTGTACC \n",
      "------------------------------------------------------------------------------------------------------------------------\n",
      "\n",
      "\n"
     ]
    }
   ],
   "source": [
    "try:\n",
    "    print('fastq 파일 읽을 수 있니?')\n",
    "    sample_fastq = SeqIO.read('../dataset/fastq/sample_1.fastq', 'fastq')\n",
    "except Exception as e:\n",
    "    print(f'아니 : {e}\\n')\n",
    "\n",
    "sample_fastq = SeqIO.parse('../dataset/fastq/sample_1.fastq', 'fastq')\n",
    "print(f'읽어들인 fastq 파일의 타입 : {type(sample_fastq)}')\n",
    "for sample in sample_fastq:\n",
    "    string_decoration(f'fastq 파일 안의 sequence 타입 : {type(sample)}', num = 120)\n",
    "    string_decoration(f'fastq 파일 안의 sequence record\\n{sample}',idx = 2, num=120)\n",
    "    string_decoration(f'fastq 파일 안의 sequence \\n{sample.seq}',idx = 2, num=120)\n",
    "    print('\\n')"
   ]
  },
  {
   "cell_type": "markdown",
   "id": "86fca41f-7111-46d4-938b-f00badeddde2",
   "metadata": {},
   "source": [
    "## 3-2. SeqIO.parse() 메소드로 압축된 FASTQ 파일 읽기\n",
    "- 연구에서 다루게 되는 FASTQ 파일은 대부분 GNU Zip(.gz) 파일 형태로 압축되어 있다.\n",
    "- .gz 파일은 파이썬의 gzip 모듈을 사용하면 읽을 수 있다."
   ]
  },
  {
   "cell_type": "code",
   "execution_count": 136,
   "id": "294f721d-dec3-460a-9931-7cc993c8f57a",
   "metadata": {},
   "outputs": [
    {
     "name": "stdout",
     "output_type": "stream",
     "text": [
      "------------------------------------------------------------------------------------------------------------------------\n",
      "fastq 파일 안의 sequence 타입 : <class 'Bio.SeqRecord.SeqRecord'>\n",
      "------------------------------------------------------------------------------------------------------------------------\n",
      "fastq 파일 안의 sequence record\n",
      "ID: SRR000982.5E745RJU01DDHJ6length=113\n",
      "Name: SRR000982.5E745RJU01DDHJ6length=113\n",
      "Description: SRR000982.5E745RJU01DDHJ6length=113\n",
      "Number of features: 0\n",
      "Per letter annotation for: phred_quality\n",
      "Seq('AAGGCACCATGCAGAGATGCAAGGCCCCTTTCTAAGCCCTAGACTTCTGGATGA...CAG') \n",
      "------------------------------------------------------------------------------------------------------------------------\n",
      "fastq 파일 안의 sequence \n",
      "AAGGCACCATGCAGAGATGCAAGGCCCCTTTCTAAGCCCTAGACTTCTGGATGACACTTCTAGAAACACCCTGGGCCAGAAGTGAACCTGCTGCCTTGAAGGGAATAACTCAG \n",
      "------------------------------------------------------------------------------------------------------------------------\n",
      "\n",
      "\n",
      "------------------------------------------------------------------------------------------------------------------------\n",
      "fastq 파일 안의 sequence 타입 : <class 'Bio.SeqRecord.SeqRecord'>\n",
      "------------------------------------------------------------------------------------------------------------------------\n",
      "fastq 파일 안의 sequence record\n",
      "ID: SRR000982.35E745RJU01DLQBClength=53\n",
      "Name: SRR000982.35E745RJU01DLQBClength=53\n",
      "Description: SRR000982.35E745RJU01DLQBClength=53\n",
      "Number of features: 0\n",
      "Per letter annotation for: phred_quality\n",
      "Seq('ATCTCTACCCAAAGATTAATGGGGATTGGTGTGATATACGGCTGAATTGTACC') \n",
      "------------------------------------------------------------------------------------------------------------------------\n",
      "fastq 파일 안의 sequence \n",
      "ATCTCTACCCAAAGATTAATGGGGATTGGTGTGATATACGGCTGAATTGTACC \n",
      "------------------------------------------------------------------------------------------------------------------------\n",
      "\n",
      "\n"
     ]
    }
   ],
   "source": [
    "import gzip\n",
    "sample_fastq = SeqIO.parse(gzip.open('../dataset/fastq/sample_1.fastq.gz', 'rt'), 'fastq')\n",
    "\n",
    "for sample in sample_fastq:\n",
    "    string_decoration(f'fastq 파일 안의 sequence 타입 : {type(sample)}', num = 120)\n",
    "    string_decoration(f'fastq 파일 안의 sequence record\\n{sample}',idx = 2, num=120)\n",
    "    string_decoration(f'fastq 파일 안의 sequence \\n{sample.seq}',idx = 2, num=120)\n",
    "    print('\\n')"
   ]
  },
  {
   "cell_type": "markdown",
   "id": "bd777429-581e-4680-84c9-7d1bc0313847",
   "metadata": {},
   "source": [
    "# 4. Genbank 파일\n",
    "- Genbank 파일은 FASTA 파일과 동일하게 SeqIO.parse(), SeqIO.read() 메소드로 읽을 수 있다.\n",
    "- SeqIO.read()와 SeqIO.parse()를 이용하여 Genbank에서 필요한 정보를 가져올 수 있다.\n",
    "\n",
    "|속성 이름|설명|특이 사항|\n",
    "|:-----------:|:-----------|:-----------|\n",
    "|id|GenBank 파일의 ID 정보를 말한다.|버전 정보를 포함한다.|\n",
    "|seq|GenBank 파일의 서열 정보를 말한다.|-|\n",
    "|name|GenBank 파일의 LOCUS 정보를 말한다.|-|\n",
    "|description|GenBank 파일을 설명하는 내용이 들어간다.|-|\n",
    "|dbxrefs|추가 db의 내용이 들어간다.|-|\n",
    "|features|GenBank 파일의 각 REFERENCE 항목들이 들어간다.|-|\n",
    "|annotations|GenBank 파일의 각 정보들이 들어간다.|파이썬 딕셔너리 형으로 들어옴.|\n",
    "|letter_annotations|Genbank 파일에 추가 정보를 더 넣기 위해 만든 속성이다.|파이썬 딕셔너리 형으로 들어옴.|"
   ]
  },
  {
   "cell_type": "code",
   "execution_count": 179,
   "id": "a3049fcd-b86c-4d27-bf98-fd96b9054acc",
   "metadata": {},
   "outputs": [
    {
     "name": "stdout",
     "output_type": "stream",
     "text": [
      "------------------------------------------------------------------------------------------------------------------------\n",
      "SeqIO.read()로 읽어들인 genbank 파일의 타입 : <class 'Bio.SeqRecord.SeqRecord'>\n",
      "------------------------------------------------------------------------------------------------------------------------\n",
      "genbank 파일 안의 sequence record\n",
      "ID: KT225476.2\n",
      "Name: KT225476\n",
      "Description: Middle East respiratory syndrome coronavirus isolate MERS-CoV/THA/CU/17_06_2015, complete genome\n",
      "Number of features: 12\n",
      "/molecule_type=RNA\n",
      "/topology=linear\n",
      "/data_file_division=VRL\n",
      "/date=22-AUG-2017\n",
      "/accessions=['KT225476']\n",
      "/sequence_version=2\n",
      "/keywords=['']\n",
      "/source=Middle East respiratory syndrome-related coronavirus (MERS-CoV)\n",
      "/organism=Middle East respiratory syndrome-related coronavirus\n",
      "/taxonomy=['Viruses', 'ssRNA viruses', 'ssRNA positive-strand viruses, no DNA stage', 'Nidovirales', 'Coronaviridae', 'Coronavirinae', 'Betacoronavirus']\n",
      "/references=[Reference(title='Imported case of Middle East respiratory syndrome coronavirus (MERS-CoV) infection from Oman to Thailand, June 2015', ...), Reference(title='Direct Submission', ...), Reference(title='Direct Submission', ...)]\n",
      "/comment=On Sep 10, 2015 this sequence version replaced KT225476.1.\n",
      "/structured_comment=OrderedDict([('Assembly-Data', OrderedDict([('Sequencing Technology', 'Sanger dideoxy sequencing')]))])\n",
      "Seq('AGTGAATAGCTTGGCTATCTCACTTCCCCTCGTTCTCTTGCAGAACTTTGATTT...CTC') \n",
      "------------------------------------------------------------------------------------------------------------------------\n",
      "genbank 파일 안의 name \n",
      "KT225476 \n",
      "------------------------------------------------------------------------------------------------------------------------\n",
      "genbank 파일 안의 description \n",
      "Middle East respiratory syndrome coronavirus isolate MERS-CoV/THA/CU/17_06_2015, complete genome \n",
      "------------------------------------------------------------------------------------------------------------------------\n",
      "읽어들인 genbank 안의 sequence \n",
      "AGTGAATAGCTTGGCTATCTCACTTCCCCTCGTTCTCTTGCAGAACTTTGATTTTAACGAACTTAAATAAAAGCCCTGTTGTTTAGCGTATTGTTGCACTTGTCTGGTGGGATTG \n",
      "------------------------------------------------------------------------------------------------------------------------\n",
      "\n",
      "\n",
      "------------------------------------------------------------------------------------------------------------------------\n",
      "SeqIO.parse()로 읽어들인 genbank 파일의 타입 : <class 'Bio.SeqIO.InsdcIO.GenBankIterator'>\n",
      "------------------------------------------------------------------------------------------------------------------------\n",
      "genbank 파일 안의 sequence record\n",
      "ID: KT225476.2\n",
      "Name: KT225476\n",
      "Description: Middle East respiratory syndrome coronavirus isolate MERS-CoV/THA/CU/17_06_2015, complete genome\n",
      "Number of features: 12\n",
      "/molecule_type=RNA\n",
      "/topology=linear\n",
      "/data_file_division=VRL\n",
      "/date=22-AUG-2017\n",
      "/accessions=['KT225476']\n",
      "/sequence_version=2\n",
      "/keywords=['']\n",
      "/source=Middle East respiratory syndrome-related coronavirus (MERS-CoV)\n",
      "/organism=Middle East respiratory syndrome-related coronavirus\n",
      "/taxonomy=['Viruses', 'ssRNA viruses', 'ssRNA positive-strand viruses, no DNA stage', 'Nidovirales', 'Coronaviridae', 'Coronavirinae', 'Betacoronavirus']\n",
      "/references=[Reference(title='Imported case of Middle East respiratory syndrome coronavirus (MERS-CoV) infection from Oman to Thailand, June 2015', ...), Reference(title='Direct Submission', ...), Reference(title='Direct Submission', ...)]\n",
      "/comment=On Sep 10, 2015 this sequence version replaced KT225476.1.\n",
      "/structured_comment=OrderedDict([('Assembly-Data', OrderedDict([('Sequencing Technology', 'Sanger dideoxy sequencing')]))])\n",
      "Seq('AGTGAATAGCTTGGCTATCTCACTTCCCCTCGTTCTCTTGCAGAACTTTGATTT...CTC') \n",
      "------------------------------------------------------------------------------------------------------------------------\n",
      "읽어들인 genbank 안의 name \n",
      "KT225476 \n",
      "------------------------------------------------------------------------------------------------------------------------\n",
      "읽어들인 genbank 안의 description \n",
      "Middle East respiratory syndrome coronavirus isolate MERS-CoV/THA/CU/17_06_2015, complete genome \n",
      "------------------------------------------------------------------------------------------------------------------------\n",
      "읽어들인 genbank 안의 molecule type \n",
      "RNA \n",
      "------------------------------------------------------------------------------------------------------------------------\n",
      "읽어들인 genbank 안의 organism \n",
      "Middle East respiratory syndrome-related coronavirus \n",
      "------------------------------------------------------------------------------------------------------------------------\n",
      "읽어들인 genbank 안의 sequence \n",
      "AGTGAATAGCTTGGCTATCTCACTTCCCCTCGTTCTCTTGCAGAACTTTGATTTTAACGAACTTAAATAAAAGCCCTGTTGTTTAGCGTATTGTTGCACTTGTCTGGTGGGATTG \n",
      "------------------------------------------------------------------------------------------------------------------------\n"
     ]
    }
   ],
   "source": [
    "sample_gbk = SeqIO.read('../dataset/genbank/KT225476.2.gbk', 'genbank')\n",
    "string_decoration(f'SeqIO.read()로 읽어들인 genbank 파일의 타입 : {type(sample_gbk)}', num = 120)\n",
    "string_decoration(f'genbank 파일 안의 sequence record\\n{sample_gbk}',num=120, idx=2)\n",
    "string_decoration(f'genbank 파일 안의 name \\n{sample_gbk.name}',num=120, idx=2)\n",
    "string_decoration(f'genbank 파일 안의 description \\n{sample_gbk.description}',num=120, idx=2)\n",
    "string_decoration(f'읽어들인 genbank 안의 sequence \\n{sample_gbk.seq[:115]}', num = 120, idx = 2)\n",
    "print('\\n')\n",
    "\n",
    "sample_gbk = SeqIO.parse('../dataset/genbank/KT225476.2.gbk', 'genbank')\n",
    "string_decoration(f'SeqIO.parse()로 읽어들인 genbank 파일의 타입 : {type(sample_gbk)}', num = 120)\n",
    "for sample in sample_gbk:\n",
    "    string_decoration(f'genbank 파일 안의 sequence record\\n{sample}',num=120, idx=2)\n",
    "    string_decoration(f'읽어들인 genbank 안의 name \\n{sample.name}', num = 120, idx = 2)\n",
    "    string_decoration(f'읽어들인 genbank 안의 description \\n{sample.description}', num = 120, idx = 2)\n",
    "    string_decoration(f'읽어들인 genbank 안의 molecule type \\n{sample.annotations[\"molecule_type\"]}', num = 120, idx = 2)\n",
    "    string_decoration(f'읽어들인 genbank 안의 organism \\n{sample.annotations[\"organism\"]}', num = 120, idx = 2)\n",
    "    string_decoration(f'읽어들인 genbank 안의 sequence \\n{sample.seq[:115]}', num = 120, idx = 2)"
   ]
  },
  {
   "cell_type": "markdown",
   "id": "2bf4fac2-a744-4633-bd40-d051fbb1f909",
   "metadata": {},
   "source": [
    "# 5. Entrez 모듈\n",
    "- NCBI(National Center for Biotechnology Information) 정보를 웹을 통해 접근하여 정보를 가져오는 모듈  \n",
    "(!) 웹을 통해 접근하는 모듈이므로, 반드시 인터넷에 연결 되어있어야 한다.\n",
    "- Entrez에는 사용자의 이메일이 의무적으로 들어간다.\n",
    "- Entrez 모듈에서 가장 많이 사용하는 efetch 메소드를 이용한다.    \n",
    "- Entrez.efetch()에는 키워드 인자로 아래와 같이 입력된다.  \n",
    "(1) db : 데이터를 검색할 데이터 베이스 이름  \n",
    "(2) id : 검색할 데이터의 id  \n",
    "(3) rettype : 데이터 형식  \n",
    "(4) retmode : 반환 형식  "
   ]
  },
  {
   "cell_type": "code",
   "execution_count": 207,
   "id": "d79333a8-98b0-4181-89e5-93f88f8709a4",
   "metadata": {},
   "outputs": [
    {
     "name": "stdout",
     "output_type": "stream",
     "text": [
      "genbank 파일 안의 sequece record\n",
      "LOCUS       AY463215                1059 bp    DNA     linear   PRI 14-DEC-2004\n",
      "DEFINITION  Homo sapiens CCR5 chemokine receptor (CCR5) gene, complete cds.\n",
      "ACCESSION   AY463215\n",
      "VERSION     AY463215.1\n",
      "KEYWORDS    .\n",
      "SOURCE      Homo sapiens (human)\n",
      "ORGANISM  Homo sapiens\n",
      "Eukaryota; Metazoa; Chordata; Craniata; Vertebrata; Euteleostomi;\n",
      "Mammalia; Eutheria; Euarchontoglires; Primates; Haplorrhini;\n",
      "Catarrhini; Hominidae; Homo.\n",
      "REFERENCE   1  (bases 1 to 1059)\n",
      "AUTHORS   Capoulade-Metay,C., Ma,L., Truong,L.X., Dudoit,Y., Versmisse,P.,\n",
      "Nguyen,N.V., Nguyen,M., Scott-Algara,D., Barre-Sinoussi,F.,\n",
      "Debre,P., Bismuth,G., Pancino,G. and Theodorou,I.\n",
      "TITLE     New CCR5 variants associated with reduced HIV coreceptor function\n",
      "in southeast Asia\n",
      "JOURNAL   AIDS 18 (17), 2243-2252 (2004)\n",
      "PUBMED   15577536\n",
      "REFERENCE   2  (bases 1 to 1059)\n",
      "AUTHORS   Capoulade-Metay,C., Ma,L., Truong,L.X., Dudoit,Y., Versmisse,P.,\n",
      "Nguyen,N.V., Nguyen,M., Scott-Algara,D., Barre-Sinoussi,F.,\n",
      "Debre,P., Pancino,G. and Theodorou,I.\n",
      "TITLE     Direct Submission\n",
      "JOURNAL   Submitted (07-NOV-2003) INSERM U543, 83 Boulevard de l'Hopital,\n",
      "Paris 75013, France\n",
      "FEATURES             Location/Qualifiers\n",
      "source          1..1059\n",
      "/organism=\"Homo sapiens\"\n",
      "/mol_type=\"genomic DNA\"\n",
      "/db_xref=\"taxon:9606\"\n",
      "/country=\"Viet Nam\"\n",
      "gene            <1..>1059\n",
      "/gene=\"CCR5\"\n",
      "mRNA            <1..>1059\n",
      "/gene=\"CCR5\"\n",
      "/product=\"CCR5 chemokine receptor\"\n",
      "CDS             1..1059\n",
      "/gene=\"CCR5\"\n",
      "/note=\"contains I254T variation\"\n",
      "/codon_start=1\n",
      "/product=\"CCR5 chemokine receptor\"\n",
      "/protein_id=\"AAS19314.1\"\n",
      "/translation=\"MDYQVSSPIYDINYYTSEPCQKINVKQIAARLLPPLYSLVFIFG\n",
      "FVGNMLVILILINCKRLKSMTDIYLLNLAISDLFFLLTVPFWAHYAAAQWDFGNTMCQ\n",
      "LLTGLYFIGFFSGIFFIILLTIDRYLAVVHAVFALKARTVTFGVVTSVITWVVAVFAS\n",
      "LPGIIFTRSQKEGLHYTCSSHFPYSQYQFWKNFQTLKIVILGLVLPLLVMVICYSGIL\n",
      "KTLLRCRNEKKRHRAVRLIFTIMIVYFLFWAPYNTVLLLNTFQEFFGLNNCSSSNRLD\n",
      "QAMQVTETLGMTHCCINPIIYAFVGEKFRNYLLVFFQKHIAKRFCKCCSIFQQEAPER\n",
      "ASSVYTRSTGEQEISVGL\"\n",
      "variation       758\n",
      "/gene=\"CCR5\"\n",
      "/replace=\"t\"\n",
      "ORIGIN\n",
      "1 atggattatc aagtgtcaag tccaatctat gacatcaatt attatacatc ggagccctgc\n",
      "61 caaaaaatca atgtgaagca aatcgcagcc cgcctcctgc ctccgctcta ctcactggtg\n",
      "121 ttcatctttg gttttgtggg caacatgctg gtcatcctca tcctgataaa ctgcaaaagg\n",
      "181 ctgaagagca tgactgacat ctacctgctc aacctggcca tctctgacct gtttttcctt\n",
      "241 cttactgtcc ccttctgggc tcactatgct gccgcccagt gggactttgg aaatacaatg\n",
      "301 tgtcaactct tgacagggct ctattttata ggcttcttct ctggaatctt cttcatcatc\n",
      "361 ctcctgacaa tcgataggta cctggctgtc gtccatgctg tgtttgcttt aaaagccagg\n",
      "421 acggtcacct ttggggtggt gacaagtgtg atcacttggg tggtggctgt gtttgcgtct\n",
      "481 ctcccaggaa tcatctttac cagatctcaa aaagaaggtc ttcattacac ctgcagctct\n",
      "541 cattttccat acagtcagta tcaattctgg aagaatttcc agacattaaa gatagtcatc\n",
      "601 ttggggctgg tcctgccgct gcttgtcatg gtcatctgct actcgggaat cctaaaaact\n",
      "661 ctgcttcggt gtcgaaatga gaagaagagg cacagggctg tgaggcttat cttcaccatc\n",
      "721 atgattgttt attttctctt ctgggctccc tacaacactg tccttctcct gaacaccttc\n",
      "781 caggaattct ttggcctgaa taattgcagt agctctaaca ggttggacca agctatgcag\n",
      "841 gtgacagaga ctcttgggat gacgcactgc tgcatcaacc ccatcatcta tgcctttgtc\n",
      "901 ggggagaagt tcagaaacta cctcttagtc ttcttccaaa agcacattgc caaacgcttc\n",
      "961 tgcaaatgct gttctatttt ccagcaagag gctcccgagc gagcaagctc agtttacacc\n",
      "1021 cgatccactg gggagcagga aatatctgtg ggcttgtga\n",
      "//\n",
      "\n"
     ]
    }
   ],
   "source": [
    "from Bio import Entrez\n",
    "Entrez.email = 'kimhippowork@gmail.com'\n",
    "\n",
    "## 변이없는 CCR5 유전자 데이터를 GenBank 형식으로 받아오기\n",
    "handle = Entrez.efetch(db='nucleotide', rettype='gb', id='AY463215', retmode='text')\n",
    "\n",
    "print('genbank 파일 안의 sequece record')\n",
    "for sample in handle:\n",
    "    print(sample.strip())"
   ]
  },
  {
   "cell_type": "markdown",
   "id": "933b85a2-2e81-48d1-80f5-f47af09621d2",
   "metadata": {},
   "source": [
    "## 5-1. SeqIO를 이용한 Entrez 모듈로 받아온 정보 파싱"
   ]
  },
  {
   "cell_type": "code",
   "execution_count": 218,
   "id": "4e83105c-c117-4915-b22a-f75035577628",
   "metadata": {},
   "outputs": [
    {
     "name": "stdout",
     "output_type": "stream",
     "text": [
      "------------------------------------------------------------------------------------------------------------------------\n",
      "SeqIO.read()로 파싱한 Entrez의 CCR5 파일의 타입 : <class 'Bio.SeqRecord.SeqRecord'>\n",
      "------------------------------------------------------------------------------------------------------------------------\n",
      "SeqIO.read()로 파싱한 Entrez의 CCR5 파일의 ID \n",
      "AY463215.1 \n",
      "------------------------------------------------------------------------------------------------------------------------\n",
      "SeqIO.read()로 파싱한 Entrez의 CCR5 파일의 description \n",
      "AY463215.1 Homo sapiens CCR5 chemokine receptor (CCR5) gene, complete cds \n",
      "------------------------------------------------------------------------------------------------------------------------\n",
      "SeqIO.read()로 파싱한 Entrez의 CCR5 파일의 sequence \n",
      "ATGGATTATCAAGTGTCAAGTCCAATCTATGACATCAATTATTATACATCGGAGCCCTGCCAAAAAATCAATGTGAAGCAAATCGCAGCC, bp : 1059 \n",
      "------------------------------------------------------------------------------------------------------------------------\n"
     ]
    }
   ],
   "source": [
    "## 변이없는 CCR5 유전자 데이터를 FASTA 형식으로 받아오기\n",
    "ccr5 = SeqIO.read(Entrez.efetch(db='nucleotide', rettype='fasta', id='AY463215', retmode='text'), 'fasta')\n",
    "string_decoration(f'SeqIO.read()로 파싱한 Entrez의 CCR5 파일의 타입 : {type(ccr5)}', num = 120)\n",
    "string_decoration(f'SeqIO.read()로 파싱한 Entrez의 CCR5 파일의 ID \\n{ccr5.id}', idx=2, num = 120)\n",
    "string_decoration(f'SeqIO.read()로 파싱한 Entrez의 CCR5 파일의 description \\n{ccr5.description}', idx=2, num = 120)\n",
    "string_decoration(f'SeqIO.read()로 파싱한 Entrez의 CCR5 파일의 sequence \\n{ccr5.seq[:90]}, bp : {len(ccr5.seq)}', idx=2, num = 120)"
   ]
  },
  {
   "cell_type": "code",
   "execution_count": 219,
   "id": "9fbd14b8-d426-4429-971f-d0ec7b515784",
   "metadata": {},
   "outputs": [
    {
     "name": "stdout",
     "output_type": "stream",
     "text": [
      "------------------------------------------------------------------------------------------------------------------------\n",
      "SeqIO.parse()로 파싱한 Entrez의 CCR5 파일의 타입 : <class 'Bio.SeqIO.FastaIO.FastaIterator'>\n",
      "------------------------------------------------------------------------------------------------------------------------\n",
      "SeqIO.parse()로 파싱한 Entrez의 변이 CCR5 파일의 ID \n",
      "U66285.1 \n",
      "------------------------------------------------------------------------------------------------------------------------\n",
      "SeqIO.read()로 파싱한 Entrez의 변이 CCR5 파일의 description \n",
      "U66285.1 Human CC chemokine receptor CCR5 gene, mutant allele, complete cds \n",
      "------------------------------------------------------------------------------------------------------------------------\n",
      "SeqIO.read()로 파싱한 Entrez의 변이 CCR5 파일의 sequence \n",
      "ATGGATTATCAAGTGTCAAGTCCAATCTATGACATCAATTATTATACATCGGAGCCCTGCCAAAAAATCAATGTGAAGCAAATCGCAGCC, bp : 1027 \n",
      "------------------------------------------------------------------------------------------------------------------------\n"
     ]
    }
   ],
   "source": [
    "## 변이있는 CCR5 유전자 데이터를 fasta 형식으로 받아오기\n",
    "ccr5_mutation = SeqIO.parse(Entrez.efetch(db='nucleotide', rettype='fasta', id='1575550', retmode='text'), 'fasta')\n",
    "string_decoration(f'SeqIO.parse()로 파싱한 Entrez의 CCR5 파일의 타입 : {type(ccr5_mutation)}', num = 120)\n",
    "for mutation in ccr5_mutation:\n",
    "    string_decoration(f'SeqIO.parse()로 파싱한 Entrez의 변이 CCR5 파일의 ID \\n{mutation.id}', idx=2, num = 120)\n",
    "    string_decoration(f'SeqIO.read()로 파싱한 Entrez의 변이 CCR5 파일의 description \\n{mutation.description}', idx=2, num = 120)\n",
    "    string_decoration(f'SeqIO.read()로 파싱한 Entrez의 변이 CCR5 파일의 sequence \\n{mutation.seq[:90]}, bp : {len(mutation.seq)}', idx=2, num = 120)"
   ]
  },
  {
   "cell_type": "markdown",
   "id": "e6216493-3a28-4b13-aa42-2e772cad4004",
   "metadata": {},
   "source": [
    "# 교재 연습문제를 풀어보자  \n",
    "1. 제공한 GenBank 파일을 읽어 다음 질문에 답해보자  \n",
    "    - 제공한 GenBank 파일의 바이러스는 어떤 종(organism) 인가?\n",
    "    - 제공한 GenBank 파일의 annotation 속성에서 taxonomy를 출력해보자.\n",
    "    - 바이러스 서열의 길이를 출력해보자."
   ]
  },
  {
   "cell_type": "code",
   "execution_count": 32,
   "id": "e55d50f8-fb41-4d9b-83a5-98c568868a76",
   "metadata": {},
   "outputs": [
    {
     "name": "stdout",
     "output_type": "stream",
     "text": [
      "--------------------------------------------------------------------------------\n",
      "genbank내의 SeqRecord\n",
      "--------------------------------------------------------------------------------\n",
      "ID: HM624086.1\n",
      "Name: HM624086\n",
      "Description: Influenza A virus (A/Perth/260/2009(H1N1)) segment 4 hemagglutinin (HA) gene, complete cds\n",
      "Database cross-references: BioProject:PRJNA37813\n",
      "Number of features: 3\n",
      "/molecule_type=cRNA\n",
      "/topology=linear\n",
      "/data_file_division=VRL\n",
      "/date=18-OCT-2011\n",
      "/accessions=['HM624086']\n",
      "/sequence_version=1\n",
      "/keywords=['']\n",
      "/source=Influenza A virus (A/Perth/260/2009(H1N1))\n",
      "/organism=Influenza A virus (A/Perth/260/2009(H1N1))\n",
      "/taxonomy=['Viruses', 'ssRNA viruses', 'ssRNA negative-strand viruses', 'Orthomyxoviridae', 'Influenzavirus A']\n",
      "/references=[Reference(title='A comparison of pyrosequencing and neuraminidase inhibition assays for the detection of oseltamivir-resistant pandemic influenza A(H1N1) 2009 viruses', ...), Reference(title='Direct Submission', ...)]\n",
      "/comment=Swine influenza A (H1N1) virus isolated during human swine flu\n",
      "outbreak of 2009.\n",
      "/structured_comment=OrderedDict([('GISAID_EpiFlu(TM)Data', OrderedDict([('Isolate', 'A/Perth/260/2009'), ('Subtype', 'H1N1'), ('Segment_name', 'HA'), ('Host_gender', 'M'), ('Host_age', '38'), ('Passage_history', 'MDCKX'), ('Antigen_character', 'A/California/07/2009-like'), ('Adamantane_resistance', 'RESISTANT'), ('Oseltamivir_resistance', 'RESISTANT'), ('Country', 'Australia'), ('State/Province', 'Western Australia'), ('Localization_detail', 'Ocean Reef'), ('Collection_day', '13'), ('Collection_month', '08'), ('Collection_year', '2009'), ('Isolate_note', 'comment: H275Y change, patient treated with oseltamivir Originating Laboratory: Pathwest QE II Medical Centre, Hospital Avenue, J Block, 6009, Nedlands, Western Australia, Australia'), ('EPI_accession', 'EPI270024'), ('Lineage', 'swl')]))])\n",
      "Seq('ATGAAGGCAATACTAGTAGTTCTGCTATATACATTTGCAACCGCAAATGCAGAC...TAA') \n",
      "--------------------------------------------------------------------------------\n",
      "\n",
      "\n",
      "----------------------------------------------------------------------------------------------------------------------------------\n",
      "답안\n",
      "----------------------------------------------------------------------------------------------------------------------------------\n",
      "genbank 내의 Organism : Influenza A virus (A/Perth/260/2009(H1N1)), 길이 : 1701 (bp) \n",
      "----------------------------------------------------------------------------------------------------------------------------------\n",
      "genbank 내의 taxonomy : ['Viruses', 'ssRNA viruses', 'ssRNA negative-strand viruses', 'Orthomyxoviridae', 'Influenzavirus A'] \n",
      "----------------------------------------------------------------------------------------------------------------------------------\n"
     ]
    }
   ],
   "source": [
    "genbank_seq = SeqIO.read('../dataset/genbank/HM624086.1.gbk', 'genbank')\n",
    "\n",
    "string_decoration('genbank내의 SeqRecord')\n",
    "string_decoration(genbank_seq, idx = 2)\n",
    "print('\\n')\n",
    "\n",
    "string_decoration('답안', num=130)\n",
    "string_decoration(f'genbank 내의 Organism : {genbank_seq.annotations[\"organism\"]}, 길이 : {len(genbank_seq.seq)} (bp)', idx=2, num=130)\n",
    "string_decoration(f'genbank 내의 taxonomy : {genbank_seq.annotations[\"taxonomy\"]}', idx=3, num=130)"
   ]
  },
  {
   "cell_type": "markdown",
   "id": "072eeb52-cd90-4469-a2f9-f002878f5541",
   "metadata": {},
   "source": [
    "2. 관심 있는 종의 GenBank 파일을 바이오파이썬 Entrez 모듈을 사용하여 파싱하고 그 결과를 출력해보자"
   ]
  },
  {
   "cell_type": "code",
   "execution_count": 33,
   "id": "85419d79-9961-4993-afd5-21364b56fa7a",
   "metadata": {},
   "outputs": [],
   "source": [
    "from Bio import Entrez\n",
    "Entrez.email = 'kimhippowork@gmail.com'"
   ]
  },
  {
   "cell_type": "code",
   "execution_count": 38,
   "id": "77127e49-7e0d-447d-9b24-2c5ddb95882c",
   "metadata": {},
   "outputs": [
    {
     "name": "stdout",
     "output_type": "stream",
     "text": [
      "--------------------------------------------------------------------------------\n",
      "genbank내의 SeqRecord\n",
      "--------------------------------------------------------------------------------\n",
      "ID: AF303221.1\n",
      "Name: AF303221\n",
      "Description: Dictyostelium discoideum tortoise (torA) mRNA, complete cds; nuclear gene for mitochondrial product\n",
      "Number of features: 3\n",
      "/molecule_type=mRNA\n",
      "/topology=linear\n",
      "/data_file_division=INV\n",
      "/date=23-FEB-2001\n",
      "/accessions=['AF303221']\n",
      "/sequence_version=1\n",
      "/keywords=['']\n",
      "/source=Dictyostelium discoideum\n",
      "/organism=Dictyostelium discoideum\n",
      "/taxonomy=['Eukaryota', 'Amoebozoa', 'Evosea', 'Eumycetozoa', 'Dictyostelia', 'Dictyosteliales', 'Dictyosteliaceae', 'Dictyostelium']\n",
      "/references=[Reference(title='Tortoise, a novel mitochondrial protein, is required for directional responses of Dictyostelium in chemotactic gradients', ...), Reference(title='Direct Submission', ...)]\n",
      "Seq('ATGAATAAAACAATAATAATAAATAATGTTTCAAAATATATAAAATTTAAAAAT...TAA') \n",
      "--------------------------------------------------------------------------------\n",
      "\n",
      "\n",
      "----------------------------------------------------------------------------------------------------------------------------------\n",
      "답안\n",
      "----------------------------------------------------------------------------------------------------------------------------------\n",
      "genbank 내의 Organism : Dictyostelium discoideum, 길이 : 2427 (bp) \n",
      "----------------------------------------------------------------------------------------------------------------------------------\n",
      "genbank 내의 taxonomy : ['Eukaryota', 'Amoebozoa', 'Evosea', 'Eumycetozoa', 'Dictyostelia', 'Dictyosteliales', 'Dictyosteliaceae', 'Dictyostelium'] \n",
      "----------------------------------------------------------------------------------------------------------------------------------\n"
     ]
    }
   ],
   "source": [
    "## 거북이 torA\n",
    "tortoise = SeqIO.read(Entrez.efetch(db='nucleotide', id='AF303221', rettype='gb', retmode='text'), 'genbank')\n",
    "\n",
    "string_decoration('genbank내의 SeqRecord')\n",
    "string_decoration(tortoise, idx = 2)\n",
    "print('\\n')\n",
    "\n",
    "string_decoration('답안', num=130)\n",
    "string_decoration(f'genbank 내의 Organism : {tortoise.annotations[\"organism\"]}, 길이 : {len(tortoise.seq)} (bp)', idx=2, num=130)\n",
    "string_decoration(f'genbank 내의 taxonomy : {tortoise.annotations[\"taxonomy\"]}', idx=3, num=130)"
   ]
  },
  {
   "cell_type": "code",
   "execution_count": null,
   "id": "9c6f5b5c-99a5-41b7-8e7c-2a8724f33184",
   "metadata": {},
   "outputs": [],
   "source": []
  }
 ],
 "metadata": {
  "kernelspec": {
   "display_name": "bio",
   "language": "python",
   "name": "bio"
  },
  "language_info": {
   "codemirror_mode": {
    "name": "ipython",
    "version": 3
   },
   "file_extension": ".py",
   "mimetype": "text/x-python",
   "name": "python",
   "nbconvert_exporter": "python",
   "pygments_lexer": "ipython3",
   "version": "3.9.12"
  }
 },
 "nbformat": 4,
 "nbformat_minor": 5
}
