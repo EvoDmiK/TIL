{
 "cells": [
  {
   "cell_type": "markdown",
   "id": "a188e44e-7f90-49ee-9f60-7dc71d3b34e7",
   "metadata": {
    "tags": []
   },
   "source": [
    "# 0. 참고자료  \n",
    "## 0-1. 도서  \n",
    "- 비제이퍼블릭 | 한주현 저-바이오파이썬으로 만나는 생물정보학  \n",
    "\n",
    "## 0-2. 웹 사이트\n",
    "- 인코덤    | [인코덤 링크](www.incodom.kr/)  \n",
    "- wikipedia | [위키피디아 링크](https://ko.wikipedia.org/wiki/)  \n",
    "\n",
    "## 0-3. 데이터셋 출처\n",
    "- 바이오 파이썬으로 만나는 생물정보학 깃헙 | [깃헙 링크](https://github.com/bjpublic/biopython) "
   ]
  },
  {
   "cell_type": "markdown",
   "id": "afd0f2e1-9be1-49ee-9b7d-46b575f0e389",
   "metadata": {},
   "source": [
    "\n",
    "    \n"
   ]
  },
  {
   "cell_type": "markdown",
   "id": "b7447e62-7e09-4aa1-8730-1f89db5f5aa4",
   "metadata": {
    "tags": []
   },
   "source": [
    "### (!) sequence alignment (서열 정렬)  \n",
    "    (1) 유전자나 단백질의 서열을 다이내믹 프로그래밍 기반의 컴퓨터 스트링 정렬 알고리즘을 이용하여 배열  \n",
    "    (2) 쌍서열정렬(pairwise sequence alignment)와 다중서열정렬(multiple sequence alignment)로 나뉜다.\n",
    "\n",
    "# 1. Multiple Sequence Alignment (MSA / 다중 서열 정렬)\n",
    "- 3개 이상의 DNA, RNA, Protein과 같은 서열들을 sequence alignment를 진행하는 것을 말한다.  \n",
    "- 단백질 서열간 유사성을 통해 단백질의 기능을 이해, 구조 예측, 진화 관계 규명하는데 사용된다.  \n",
    "- Multiple Sequence Alignment를 하기 위해서는 3가지 단계가 필요하다.\n",
    "    1. 한 서열과 비교할 여러 서열이  필요하다\n",
    "    2. MUSCLE 툴을 통해 Multiple Sequence Alignment를 수행한다.\n",
    "    3. Multiple Sequence Aligment를 시각화 한다.\n",
    "\n",
    "## 1-1. biopython에서의 Multiple Sequence Alignment\n",
    "- biopython에서 Multiple Sequence Alignment 파일을 읽기 위해 AlignIO 모듈의 read메소드를 사용한다.\n",
    "- Align.read() 메소드는 두 입력 인자를 받는다.  \n",
    "    1. 파일이나 파일을 연 객체  \n",
    "    2. multiple sequence가 담긴 파일 종류   \n",
    "\n",
    "### a. Alignment 다루기  \n",
    "- AlignIO 파일을 읽어들여 생성된 MultipleSeqAlignment 객체에 SeqRecord 객체가 들어있다. \n",
    "- SeqRecord 객체의 seq, id 속성은 파이썬의 문자열과 같이 슬라이싱이 가능하다"
   ]
  },
  {
   "cell_type": "code",
   "execution_count": 1,
   "id": "97f3904e-058a-4dbe-84b5-742917a4722c",
   "metadata": {},
   "outputs": [
    {
     "name": "stdout",
     "output_type": "stream",
     "text": [
      "alignment : <class 'Bio.Align.MultipleSeqAlignment'>, 3\n",
      "Alignment with 3 rows and 142 columns\n",
      "MVLSPADKTNVKAAWGKVGAHAGEYGAEALERMFLSFPTTKTYF...KYR sp|P69905|HBA_HUMAN\n",
      "MVLSPADKTNVKAAWGKVGAHAGEYGAEALERMFLSFPTTKTYF...KYR sp|P69907|HBA_PANTR\n",
      "MVLSGEDKSNIKAAWGKIGGHGAEYGAEALERMFASFPTTKTYF...KYR sp|P01942|HBA_MOUSE\n",
      "\n",
      "[1] Alignment 레코드 정보 (<class 'Bio.SeqRecord.SeqRecord'>)\n",
      "id : sp|P69905|HBA_HUMAN \n",
      "Sequence : MVLSPADKTNVKAAWGKVGAHAGEYGAEALERMFLSFPTTKTYFPHFDLSHGSAQVKGHGKKVADALTNA \n",
      "\n",
      "[2] Alignment 레코드 정보 (<class 'Bio.SeqRecord.SeqRecord'>)\n",
      "id : sp|P69907|HBA_PANTR \n",
      "Sequence : MVLSPADKTNVKAAWGKVGAHAGEYGAEALERMFLSFPTTKTYFPHFDLSHGSAQVKGHGKKVADALTNA \n",
      "\n",
      "[3] Alignment 레코드 정보 (<class 'Bio.SeqRecord.SeqRecord'>)\n",
      "id : sp|P01942|HBA_MOUSE \n",
      "Sequence : MVLSGEDKSNIKAAWGKIGGHGAEYGAEALERMFASFPTTKTYFPHFDVSHGSAQVKGHGKKVADALASA \n",
      "\n"
     ]
    }
   ],
   "source": [
    "from Bio import AlignIO\n",
    "\n",
    "\n",
    "## multi alignment 파일 읽기\n",
    "alignment = AlignIO.read('../../../Dataset/biopython/aln/example.aln', \"clustal\")\n",
    "print(f'alignment : {type(alignment)}, {len(alignment)}\\n{alignment}\\n')\n",
    "\n",
    "for idx, record in enumerate(alignment, 1):\n",
    "    print(f'[{idx}] Alignment 레코드 정보 ({type(record)})\\nid : {record.id} \\nSequence : {record.seq[:70]} \\n')"
   ]
  },
  {
   "cell_type": "markdown",
   "id": "4d6d2d5f-22da-408f-b538-06d6d06d6236",
   "metadata": {
    "tags": []
   },
   "source": [
    "### b. MUSCLE (Multiple Sequence Comparison by Log-Expectation)\n",
    "- 대표적인 alignment tool로 1초에 수백기의 서열을 alignment할 수 있음.  \n",
    "- Phylogenetic tree 구성을 위한 대량의 데이터를 활용하기에 매우 유용함.  \n",
    "- 기존 Alignment 정보에 새로운 서열을 추가하여 update하거나 각 구성되어 있는 alignment profile간 비교도 가능 \n",
    "\n",
    "\n",
    "- 설치 및 사용법  \n",
    "→ 설치 링크에서 파일을 다운로드 받고 압축을 해제한 후에 터미널에 다음 커맨드를 입력한다.\n",
    "|운영체제|설치 링크|실행 방법|\n",
    "|:-:|:---:|:---:|\n",
    "|Linux|[설치 링크](http://www.drive5.com/muscle/downloads3.8.31/muscle3.8.31_i86linux64.tar.gz )|muscle3.8.31_i86linux64 -in in.fasta -out out.aln|\n",
    "|Mac OSX|[설치 링크](http://www.drive5.com/muscle/downloads3.8.31/muscle3.8.31_i86darwin64.tar.gz)|muscle3.8.31_i86darwin64 -in in.fasta -out out.aln|\n",
    "|Windows|[설치 링크](http://www.drive5.com/muscle/downloads3.8.31/muscle3.8.31_i86win32.exe)|muscle3.8.31_i86win32 -in in.fasta -out out.aln|\n",
    "\n",
    "#### b-(1). 바이오파이썬을 통한 MUSCLE 실행\n",
    "- 바이오파이썬에서 MUSCLE을 실행하기 위해서는 MUSCLE이 다운로드되어 있어야 한다.  \n",
    "- MuscleCommandline함수에서 MUSCLE의 실행 파일 경로를 인자값으로 받는다.\n"
   ]
  },
  {
   "cell_type": "code",
   "execution_count": 2,
   "id": "12b28183-4623-412f-bbc7-2fe765e0cf28",
   "metadata": {},
   "outputs": [
    {
     "name": "stdout",
     "output_type": "stream",
     "text": [
      "command line : ../../utils/muscle -in ../../../Dataset/biopython/fasta/HBA.all.fasta -out ../../../Dataset/biopython/aln/HBA.all.aln -clw\n"
     ]
    }
   ],
   "source": [
    "from Bio.Align.Applications import MuscleCommandline\n",
    "import os\n",
    "\n",
    "muscle_path = '../../utils/muscle'\n",
    "\n",
    "cmd_line = MuscleCommandline(muscle_path, input = '../../../Dataset/biopython/fasta/HBA.all.fasta', \n",
    "                             out=\"../../../Dataset/biopython/aln/HBA.all.aln\", clw=\" \")\n",
    "\n",
    "## cmd_line에 저장되어 있는 명령어가 터미널에서 입력되는것과 같은 역할을 함.\n",
    "## 이 코드와 비슷한 역할\n",
    "# os.system('../../utils/muscle -in ../../../Dataset/biopython/fasta/HBA.all.fasta \n",
    "#           -out ../../../Dataset/biopython/aln/HBA-2.all.aln -clw')\n",
    "\n",
    "print(f'command line : {cmd_line}')\n",
    "std_out, std_err = cmd_line()"
   ]
  },
  {
   "cell_type": "markdown",
   "id": "24529c5b-c714-42df-a348-cc05a23f1abe",
   "metadata": {
    "tags": []
   },
   "source": [
    "#### (!) biopython에서 MUSCLE을 수행한 결과 \n",
    "- 파일 경로 : ../../../Dataset/biopython/aln/HBA.all.aln\n",
    "\n",
    "~~~  \n",
    "MUSCLE (3.8) multiple sequence alignment\n",
    "\n",
    "\n",
    "sp|P01994|HBA_CHICK      MVLSAADKNNVKGIFTKIAGHAEEYGAETLERMFTTYPPTKTYFPHFDLSHGSAQIKGHG\n",
    "sp|P18971|HBA_BALAC      MVLSPTDKSNVKATWAKIGNHGAEYGAEALERMFMNFPSTKTYFPHFDLGHDSAQVKGHG\n",
    "sp|P01948|HBA_RABIT      MVLSPADKTNIKTAWEKIGSHGGEYGAEAVERMFLGFPTTKTYFPHFDFTHGSEQIKAHG\n",
    "sp|P01942|HBA_MOUSE      MVLSGEDKSNIKAAWGKIGGHGAEYGAEALERMFASFPTTKTYFPHFDVSHGSAQVKGHG\n",
    "sp|P69907|HBA_PANTR      MVLSPADKTNVKAAWGKVGAHAGEYGAEALERMFLSFPTTKTYFPHFDLSHGSAQVKGHG\n",
    "sp|P69905|HBA_HUMAN      MVLSPADKTNVKAAWGKVGAHAGEYGAEALERMFLSFPTTKTYFPHFDLSHGSAQVKGHG\n",
    "sp|P01958|HBA_HORSE      MVLSAADKTNVKAAWSKVGGHAGEYGAEALERMFLGFPTTKTYFPHFDLSHGSAQVKAHG\n",
    "                         ****  **.*:*  : *:. *. *****::****  :*.*********. *.* *:*.**\n",
    "\n",
    "sp|P01994|HBA_CHICK      KKVVAALIEAANHIDDIAGTLSKLSDLHAHKLRVDPVNFKLLGQCFLVVVAIHHPAALTP\n",
    "sp|P18971|HBA_BALAC      KKVADALTKAVGHMDNLLDALSDLSDLHAHKLRVDPANFKLLSHCLLVTLALHLPAEFTP\n",
    "sp|P01948|HBA_RABIT      KKVSEALTKAVGHLDDLPGALSTLSDLHAHKLRVDPVNFKLLSHCLLVTLANHHPSEFTP\n",
    "sp|P01942|HBA_MOUSE      KKVADALASAAGHLDDLPGALSALSDLHAHKLRVDPVNFKLLSHCLLVTLASHHPADFTP\n",
    "sp|P69907|HBA_PANTR      KKVADALTNAVAHVDDMPNALSALSDLHAHKLRVDPVNFKLLSHCLLVTLAAHLPAEFTP\n",
    "sp|P69905|HBA_HUMAN      KKVADALTNAVAHVDDMPNALSALSDLHAHKLRVDPVNFKLLSHCLLVTLAAHLPAEFTP\n",
    "sp|P01958|HBA_HORSE      KKVGDALTLAVGHLDDLPGALSNLSDLHAHKLRVDPVNFKLLSHCLLSTLAVHLPNDFTP\n",
    "                         ***  **  *. *:*:: .:** *************.*****.:*:* .:* * *  :**\n",
    "\n",
    "sp|P01994|HBA_CHICK      EVHASLDKFLCAVGTVLTAKYR\n",
    "sp|P18971|HBA_BALAC      SVHASLDKFLASVSTVLTSKYR\n",
    "sp|P01948|HBA_RABIT      AVHASLDKFLANVSTVLTSKYR\n",
    "sp|P01942|HBA_MOUSE      AVHASLDKFLASVSTVLTSKYR\n",
    "sp|P69907|HBA_PANTR      AVHASLDKFLASVSTVLTSKYR\n",
    "sp|P69905|HBA_HUMAN      AVHASLDKFLASVSTVLTSKYR\n",
    "sp|P01958|HBA_HORSE      AVHASLDKFLSSVSTVLTSKYR\n",
    "                          *********. *.****:***  \n",
    "~~~"
   ]
  },
  {
   "cell_type": "markdown",
   "id": "6a7857bc-720b-4885-a21a-70428761f5ac",
   "metadata": {},
   "source": [
    "# 2. WebLogo\n",
    "- Multi Sequence Alignment에서 각 행 서열의 공통부분 비율만큼 시각해 그려줌.  \n",
    "- WebLogo 그려주는 홈페이지 | [링크](http://weblogo.threeplusone.com/)"
   ]
  },
  {
   "cell_type": "code",
   "execution_count": 3,
   "id": "b30065c0-02fe-4cc4-83a5-140d03f68f4e",
   "metadata": {},
   "outputs": [
    {
     "ename": "NameError",
     "evalue": "name 'sequence_dict' is not defined",
     "output_type": "error",
     "traceback": [
      "\u001b[0;31m---------------------------------------------------------------------------\u001b[0m",
      "\u001b[0;31mNameError\u001b[0m                                 Traceback (most recent call last)",
      "File \u001b[0;32m<timed exec>:24\u001b[0m\n",
      "\u001b[0;31mNameError\u001b[0m: name 'sequence_dict' is not defined"
     ]
    }
   ],
   "source": [
    "%%time\n",
    "from collections import Counter\n",
    "from Bio import SeqIO\n",
    "import pandas as pd\n",
    "import numpy as np\n",
    "\n",
    "sequences = SeqIO.parse('../../../Dataset/biopython/fasta/example.fasta', 'fasta')\n",
    "\n",
    "## 문자열 자릿수에 엄기 갯수를 구해주는 부분\n",
    "def count_table(seq_list):\n",
    "    counter_table = {}\n",
    "    for idx, seq in enumerate(seq_list):\n",
    "        count_acid = Counter(seq)\n",
    "        default_dict = {}\n",
    "        \n",
    "        for acid in ('A', 'G', 'C', 'T'):\n",
    "            default_dict[acid] = count_acid[acid] if acid in count_acid.keys() else 0\n",
    "                \n",
    "        counter_table[idx] = default_dict\n",
    "        \n",
    "    return counter_table\n",
    "\n",
    "seq_list = []\n",
    "for sequence in sequences: seq_list.append(sequence.seq)\n",
    "print(f'염기서열 행렬 : \\n{np.array(sequence_dict)}\\n')\n",
    "\n",
    "t_seq_list = np.transpose(seq_list)\n",
    "print(f'염기서열 전치 행렬 : \\n{t_seq_list}\\n')\n",
    "\n",
    "acid_dataframe = pd.DataFrame(count_table(t_seq_list))\n",
    "print(f'각 자리별 염기서열 갯수 : \\n{acid_dataframe}')"
   ]
  },
  {
   "cell_type": "markdown",
   "id": "33df765c-9ed8-4aa3-814f-d995dbb5fe52",
   "metadata": {},
   "source": [
    "## 2-1. biopython으로 WebLogo 그리기  \n",
    "- biopython에서 WebLogo를 그리기 위한 방법으로는 두 가지 과정을 거친다.  \n",
    "  (1) biopython motifs 모듈의 create() 메소드를 이용해 Motif 객체를 만듦.  \n",
    "  (2) biopython Motif 모듈의 weblogo() 메소드로 weblogo를 그린다.  "
   ]
  },
  {
   "cell_type": "code",
   "execution_count": 4,
   "id": "5789e6c2-cf70-4152-ab09-1bc97142187b",
   "metadata": {},
   "outputs": [
    {
     "name": "stdout",
     "output_type": "stream",
     "text": [
      "CPU times: user 0 ns, sys: 0 ns, total: 0 ns\n",
      "Wall time: 17.2 µs\n",
      "각 자리별 염기서열 갯수 2 : \n",
      "        0      1      2      3      4\n",
      "A:   3.00   7.00   0.00   2.00   1.00\n",
      "C:   0.00   0.00   5.00   2.00   6.00\n",
      "G:   0.00   0.00   0.00   3.00   0.00\n",
      "T:   4.00   0.00   2.00   0.00   0.00\n",
      "\n"
     ]
    },
    {
     "ename": "URLError",
     "evalue": "<urlopen error [SSL: CERTIFICATE_VERIFY_FAILED] certificate verify failed: certificate has expired (_ssl.c:997)>",
     "output_type": "error",
     "traceback": [
      "\u001b[0;31m---------------------------------------------------------------------------\u001b[0m",
      "\u001b[0;31mSSLCertVerificationError\u001b[0m                  Traceback (most recent call last)",
      "File \u001b[0;32m/opt/conda/envs/bio/lib/python3.10/urllib/request.py:1348\u001b[0m, in \u001b[0;36mAbstractHTTPHandler.do_open\u001b[0;34m(self, http_class, req, **http_conn_args)\u001b[0m\n\u001b[1;32m   1347\u001b[0m \u001b[38;5;28;01mtry\u001b[39;00m:\n\u001b[0;32m-> 1348\u001b[0m     \u001b[43mh\u001b[49m\u001b[38;5;241;43m.\u001b[39;49m\u001b[43mrequest\u001b[49m\u001b[43m(\u001b[49m\u001b[43mreq\u001b[49m\u001b[38;5;241;43m.\u001b[39;49m\u001b[43mget_method\u001b[49m\u001b[43m(\u001b[49m\u001b[43m)\u001b[49m\u001b[43m,\u001b[49m\u001b[43m \u001b[49m\u001b[43mreq\u001b[49m\u001b[38;5;241;43m.\u001b[39;49m\u001b[43mselector\u001b[49m\u001b[43m,\u001b[49m\u001b[43m \u001b[49m\u001b[43mreq\u001b[49m\u001b[38;5;241;43m.\u001b[39;49m\u001b[43mdata\u001b[49m\u001b[43m,\u001b[49m\u001b[43m \u001b[49m\u001b[43mheaders\u001b[49m\u001b[43m,\u001b[49m\n\u001b[1;32m   1349\u001b[0m \u001b[43m              \u001b[49m\u001b[43mencode_chunked\u001b[49m\u001b[38;5;241;43m=\u001b[39;49m\u001b[43mreq\u001b[49m\u001b[38;5;241;43m.\u001b[39;49m\u001b[43mhas_header\u001b[49m\u001b[43m(\u001b[49m\u001b[38;5;124;43m'\u001b[39;49m\u001b[38;5;124;43mTransfer-encoding\u001b[39;49m\u001b[38;5;124;43m'\u001b[39;49m\u001b[43m)\u001b[49m\u001b[43m)\u001b[49m\n\u001b[1;32m   1350\u001b[0m \u001b[38;5;28;01mexcept\u001b[39;00m \u001b[38;5;167;01mOSError\u001b[39;00m \u001b[38;5;28;01mas\u001b[39;00m err: \u001b[38;5;66;03m# timeout error\u001b[39;00m\n",
      "File \u001b[0;32m/opt/conda/envs/bio/lib/python3.10/http/client.py:1282\u001b[0m, in \u001b[0;36mHTTPConnection.request\u001b[0;34m(self, method, url, body, headers, encode_chunked)\u001b[0m\n\u001b[1;32m   1281\u001b[0m \u001b[38;5;250m\u001b[39m\u001b[38;5;124;03m\"\"\"Send a complete request to the server.\"\"\"\u001b[39;00m\n\u001b[0;32m-> 1282\u001b[0m \u001b[38;5;28;43mself\u001b[39;49m\u001b[38;5;241;43m.\u001b[39;49m\u001b[43m_send_request\u001b[49m\u001b[43m(\u001b[49m\u001b[43mmethod\u001b[49m\u001b[43m,\u001b[49m\u001b[43m \u001b[49m\u001b[43murl\u001b[49m\u001b[43m,\u001b[49m\u001b[43m \u001b[49m\u001b[43mbody\u001b[49m\u001b[43m,\u001b[49m\u001b[43m \u001b[49m\u001b[43mheaders\u001b[49m\u001b[43m,\u001b[49m\u001b[43m \u001b[49m\u001b[43mencode_chunked\u001b[49m\u001b[43m)\u001b[49m\n",
      "File \u001b[0;32m/opt/conda/envs/bio/lib/python3.10/http/client.py:1328\u001b[0m, in \u001b[0;36mHTTPConnection._send_request\u001b[0;34m(self, method, url, body, headers, encode_chunked)\u001b[0m\n\u001b[1;32m   1327\u001b[0m     body \u001b[38;5;241m=\u001b[39m _encode(body, \u001b[38;5;124m'\u001b[39m\u001b[38;5;124mbody\u001b[39m\u001b[38;5;124m'\u001b[39m)\n\u001b[0;32m-> 1328\u001b[0m \u001b[38;5;28;43mself\u001b[39;49m\u001b[38;5;241;43m.\u001b[39;49m\u001b[43mendheaders\u001b[49m\u001b[43m(\u001b[49m\u001b[43mbody\u001b[49m\u001b[43m,\u001b[49m\u001b[43m \u001b[49m\u001b[43mencode_chunked\u001b[49m\u001b[38;5;241;43m=\u001b[39;49m\u001b[43mencode_chunked\u001b[49m\u001b[43m)\u001b[49m\n",
      "File \u001b[0;32m/opt/conda/envs/bio/lib/python3.10/http/client.py:1277\u001b[0m, in \u001b[0;36mHTTPConnection.endheaders\u001b[0;34m(self, message_body, encode_chunked)\u001b[0m\n\u001b[1;32m   1276\u001b[0m     \u001b[38;5;28;01mraise\u001b[39;00m CannotSendHeader()\n\u001b[0;32m-> 1277\u001b[0m \u001b[38;5;28;43mself\u001b[39;49m\u001b[38;5;241;43m.\u001b[39;49m\u001b[43m_send_output\u001b[49m\u001b[43m(\u001b[49m\u001b[43mmessage_body\u001b[49m\u001b[43m,\u001b[49m\u001b[43m \u001b[49m\u001b[43mencode_chunked\u001b[49m\u001b[38;5;241;43m=\u001b[39;49m\u001b[43mencode_chunked\u001b[49m\u001b[43m)\u001b[49m\n",
      "File \u001b[0;32m/opt/conda/envs/bio/lib/python3.10/http/client.py:1037\u001b[0m, in \u001b[0;36mHTTPConnection._send_output\u001b[0;34m(self, message_body, encode_chunked)\u001b[0m\n\u001b[1;32m   1036\u001b[0m \u001b[38;5;28;01mdel\u001b[39;00m \u001b[38;5;28mself\u001b[39m\u001b[38;5;241m.\u001b[39m_buffer[:]\n\u001b[0;32m-> 1037\u001b[0m \u001b[38;5;28;43mself\u001b[39;49m\u001b[38;5;241;43m.\u001b[39;49m\u001b[43msend\u001b[49m\u001b[43m(\u001b[49m\u001b[43mmsg\u001b[49m\u001b[43m)\u001b[49m\n\u001b[1;32m   1039\u001b[0m \u001b[38;5;28;01mif\u001b[39;00m message_body \u001b[38;5;129;01mis\u001b[39;00m \u001b[38;5;129;01mnot\u001b[39;00m \u001b[38;5;28;01mNone\u001b[39;00m:\n\u001b[1;32m   1040\u001b[0m \n\u001b[1;32m   1041\u001b[0m     \u001b[38;5;66;03m# create a consistent interface to message_body\u001b[39;00m\n",
      "File \u001b[0;32m/opt/conda/envs/bio/lib/python3.10/http/client.py:975\u001b[0m, in \u001b[0;36mHTTPConnection.send\u001b[0;34m(self, data)\u001b[0m\n\u001b[1;32m    974\u001b[0m \u001b[38;5;28;01mif\u001b[39;00m \u001b[38;5;28mself\u001b[39m\u001b[38;5;241m.\u001b[39mauto_open:\n\u001b[0;32m--> 975\u001b[0m     \u001b[38;5;28;43mself\u001b[39;49m\u001b[38;5;241;43m.\u001b[39;49m\u001b[43mconnect\u001b[49m\u001b[43m(\u001b[49m\u001b[43m)\u001b[49m\n\u001b[1;32m    976\u001b[0m \u001b[38;5;28;01melse\u001b[39;00m:\n",
      "File \u001b[0;32m/opt/conda/envs/bio/lib/python3.10/http/client.py:1454\u001b[0m, in \u001b[0;36mHTTPSConnection.connect\u001b[0;34m(self)\u001b[0m\n\u001b[1;32m   1452\u001b[0m     server_hostname \u001b[38;5;241m=\u001b[39m \u001b[38;5;28mself\u001b[39m\u001b[38;5;241m.\u001b[39mhost\n\u001b[0;32m-> 1454\u001b[0m \u001b[38;5;28mself\u001b[39m\u001b[38;5;241m.\u001b[39msock \u001b[38;5;241m=\u001b[39m \u001b[38;5;28;43mself\u001b[39;49m\u001b[38;5;241;43m.\u001b[39;49m\u001b[43m_context\u001b[49m\u001b[38;5;241;43m.\u001b[39;49m\u001b[43mwrap_socket\u001b[49m\u001b[43m(\u001b[49m\u001b[38;5;28;43mself\u001b[39;49m\u001b[38;5;241;43m.\u001b[39;49m\u001b[43msock\u001b[49m\u001b[43m,\u001b[49m\n\u001b[1;32m   1455\u001b[0m \u001b[43m                                      \u001b[49m\u001b[43mserver_hostname\u001b[49m\u001b[38;5;241;43m=\u001b[39;49m\u001b[43mserver_hostname\u001b[49m\u001b[43m)\u001b[49m\n",
      "File \u001b[0;32m/opt/conda/envs/bio/lib/python3.10/ssl.py:513\u001b[0m, in \u001b[0;36mSSLContext.wrap_socket\u001b[0;34m(self, sock, server_side, do_handshake_on_connect, suppress_ragged_eofs, server_hostname, session)\u001b[0m\n\u001b[1;32m    507\u001b[0m \u001b[38;5;28;01mdef\u001b[39;00m \u001b[38;5;21mwrap_socket\u001b[39m(\u001b[38;5;28mself\u001b[39m, sock, server_side\u001b[38;5;241m=\u001b[39m\u001b[38;5;28;01mFalse\u001b[39;00m,\n\u001b[1;32m    508\u001b[0m                 do_handshake_on_connect\u001b[38;5;241m=\u001b[39m\u001b[38;5;28;01mTrue\u001b[39;00m,\n\u001b[1;32m    509\u001b[0m                 suppress_ragged_eofs\u001b[38;5;241m=\u001b[39m\u001b[38;5;28;01mTrue\u001b[39;00m,\n\u001b[1;32m    510\u001b[0m                 server_hostname\u001b[38;5;241m=\u001b[39m\u001b[38;5;28;01mNone\u001b[39;00m, session\u001b[38;5;241m=\u001b[39m\u001b[38;5;28;01mNone\u001b[39;00m):\n\u001b[1;32m    511\u001b[0m     \u001b[38;5;66;03m# SSLSocket class handles server_hostname encoding before it calls\u001b[39;00m\n\u001b[1;32m    512\u001b[0m     \u001b[38;5;66;03m# ctx._wrap_socket()\u001b[39;00m\n\u001b[0;32m--> 513\u001b[0m     \u001b[38;5;28;01mreturn\u001b[39;00m \u001b[38;5;28;43mself\u001b[39;49m\u001b[38;5;241;43m.\u001b[39;49m\u001b[43msslsocket_class\u001b[49m\u001b[38;5;241;43m.\u001b[39;49m\u001b[43m_create\u001b[49m\u001b[43m(\u001b[49m\n\u001b[1;32m    514\u001b[0m \u001b[43m        \u001b[49m\u001b[43msock\u001b[49m\u001b[38;5;241;43m=\u001b[39;49m\u001b[43msock\u001b[49m\u001b[43m,\u001b[49m\n\u001b[1;32m    515\u001b[0m \u001b[43m        \u001b[49m\u001b[43mserver_side\u001b[49m\u001b[38;5;241;43m=\u001b[39;49m\u001b[43mserver_side\u001b[49m\u001b[43m,\u001b[49m\n\u001b[1;32m    516\u001b[0m \u001b[43m        \u001b[49m\u001b[43mdo_handshake_on_connect\u001b[49m\u001b[38;5;241;43m=\u001b[39;49m\u001b[43mdo_handshake_on_connect\u001b[49m\u001b[43m,\u001b[49m\n\u001b[1;32m    517\u001b[0m \u001b[43m        \u001b[49m\u001b[43msuppress_ragged_eofs\u001b[49m\u001b[38;5;241;43m=\u001b[39;49m\u001b[43msuppress_ragged_eofs\u001b[49m\u001b[43m,\u001b[49m\n\u001b[1;32m    518\u001b[0m \u001b[43m        \u001b[49m\u001b[43mserver_hostname\u001b[49m\u001b[38;5;241;43m=\u001b[39;49m\u001b[43mserver_hostname\u001b[49m\u001b[43m,\u001b[49m\n\u001b[1;32m    519\u001b[0m \u001b[43m        \u001b[49m\u001b[43mcontext\u001b[49m\u001b[38;5;241;43m=\u001b[39;49m\u001b[38;5;28;43mself\u001b[39;49m\u001b[43m,\u001b[49m\n\u001b[1;32m    520\u001b[0m \u001b[43m        \u001b[49m\u001b[43msession\u001b[49m\u001b[38;5;241;43m=\u001b[39;49m\u001b[43msession\u001b[49m\n\u001b[1;32m    521\u001b[0m \u001b[43m    \u001b[49m\u001b[43m)\u001b[49m\n",
      "File \u001b[0;32m/opt/conda/envs/bio/lib/python3.10/ssl.py:1071\u001b[0m, in \u001b[0;36mSSLSocket._create\u001b[0;34m(cls, sock, server_side, do_handshake_on_connect, suppress_ragged_eofs, server_hostname, context, session)\u001b[0m\n\u001b[1;32m   1070\u001b[0m             \u001b[38;5;28;01mraise\u001b[39;00m \u001b[38;5;167;01mValueError\u001b[39;00m(\u001b[38;5;124m\"\u001b[39m\u001b[38;5;124mdo_handshake_on_connect should not be specified for non-blocking sockets\u001b[39m\u001b[38;5;124m\"\u001b[39m)\n\u001b[0;32m-> 1071\u001b[0m         \u001b[38;5;28;43mself\u001b[39;49m\u001b[38;5;241;43m.\u001b[39;49m\u001b[43mdo_handshake\u001b[49m\u001b[43m(\u001b[49m\u001b[43m)\u001b[49m\n\u001b[1;32m   1072\u001b[0m \u001b[38;5;28;01mexcept\u001b[39;00m (\u001b[38;5;167;01mOSError\u001b[39;00m, \u001b[38;5;167;01mValueError\u001b[39;00m):\n",
      "File \u001b[0;32m/opt/conda/envs/bio/lib/python3.10/ssl.py:1342\u001b[0m, in \u001b[0;36mSSLSocket.do_handshake\u001b[0;34m(self, block)\u001b[0m\n\u001b[1;32m   1341\u001b[0m         \u001b[38;5;28mself\u001b[39m\u001b[38;5;241m.\u001b[39msettimeout(\u001b[38;5;28;01mNone\u001b[39;00m)\n\u001b[0;32m-> 1342\u001b[0m     \u001b[38;5;28;43mself\u001b[39;49m\u001b[38;5;241;43m.\u001b[39;49m\u001b[43m_sslobj\u001b[49m\u001b[38;5;241;43m.\u001b[39;49m\u001b[43mdo_handshake\u001b[49m\u001b[43m(\u001b[49m\u001b[43m)\u001b[49m\n\u001b[1;32m   1343\u001b[0m \u001b[38;5;28;01mfinally\u001b[39;00m:\n",
      "\u001b[0;31mSSLCertVerificationError\u001b[0m: [SSL: CERTIFICATE_VERIFY_FAILED] certificate verify failed: certificate has expired (_ssl.c:997)",
      "\nDuring handling of the above exception, another exception occurred:\n",
      "\u001b[0;31mURLError\u001b[0m                                  Traceback (most recent call last)",
      "Cell \u001b[0;32mIn[4], line 13\u001b[0m\n\u001b[1;32m     11\u001b[0m m \u001b[38;5;241m=\u001b[39m motifs\u001b[38;5;241m.\u001b[39mcreate(instances)\n\u001b[1;32m     12\u001b[0m \u001b[38;5;28mprint\u001b[39m(\u001b[38;5;124mf\u001b[39m\u001b[38;5;124m'\u001b[39m\u001b[38;5;124m각 자리별 염기서열 갯수 2 : \u001b[39m\u001b[38;5;130;01m\\n\u001b[39;00m\u001b[38;5;132;01m{\u001b[39;00mm\u001b[38;5;241m.\u001b[39mcounts\u001b[38;5;132;01m}\u001b[39;00m\u001b[38;5;124m'\u001b[39m)\n\u001b[0;32m---> 13\u001b[0m \u001b[43mMotif\u001b[49m\u001b[38;5;241;43m.\u001b[39;49m\u001b[43mweblogo\u001b[49m\u001b[43m(\u001b[49m\u001b[43mm\u001b[49m\u001b[43m,\u001b[49m\u001b[43m \u001b[49m\u001b[38;5;124;43m'\u001b[39;49m\u001b[38;5;124;43m../Weblogo/dummy.png\u001b[39;49m\u001b[38;5;124;43m'\u001b[39;49m\u001b[43m)\u001b[49m\n\u001b[1;32m     15\u001b[0m \u001b[38;5;66;03m## 주피터 내에서 생성한 Weblogo 파일 보이기\u001b[39;00m\n\u001b[1;32m     16\u001b[0m \u001b[38;5;28;01mfrom\u001b[39;00m \u001b[38;5;21;01mIPython\u001b[39;00m\u001b[38;5;21;01m.\u001b[39;00m\u001b[38;5;21;01mdisplay\u001b[39;00m \u001b[38;5;28;01mimport\u001b[39;00m Image\n",
      "File \u001b[0;32m/opt/conda/envs/bio/lib/python3.10/site-packages/Bio/motifs/__init__.py:548\u001b[0m, in \u001b[0;36mMotif.weblogo\u001b[0;34m(self, fname, fmt, version, **kwds)\u001b[0m\n\u001b[1;32m    546\u001b[0m data \u001b[38;5;241m=\u001b[39m urlencode(values)\u001b[38;5;241m.\u001b[39mencode(\u001b[38;5;124m\"\u001b[39m\u001b[38;5;124mutf-8\u001b[39m\u001b[38;5;124m\"\u001b[39m)\n\u001b[1;32m    547\u001b[0m req \u001b[38;5;241m=\u001b[39m Request(url, data)\n\u001b[0;32m--> 548\u001b[0m response \u001b[38;5;241m=\u001b[39m \u001b[43murlopen\u001b[49m\u001b[43m(\u001b[49m\u001b[43mreq\u001b[49m\u001b[43m)\u001b[49m\n\u001b[1;32m    549\u001b[0m \u001b[38;5;28;01mwith\u001b[39;00m \u001b[38;5;28mopen\u001b[39m(fname, \u001b[38;5;124m\"\u001b[39m\u001b[38;5;124mwb\u001b[39m\u001b[38;5;124m\"\u001b[39m) \u001b[38;5;28;01mas\u001b[39;00m f:\n\u001b[1;32m    550\u001b[0m     im \u001b[38;5;241m=\u001b[39m response\u001b[38;5;241m.\u001b[39mread()\n",
      "File \u001b[0;32m/opt/conda/envs/bio/lib/python3.10/urllib/request.py:216\u001b[0m, in \u001b[0;36murlopen\u001b[0;34m(url, data, timeout, cafile, capath, cadefault, context)\u001b[0m\n\u001b[1;32m    214\u001b[0m \u001b[38;5;28;01melse\u001b[39;00m:\n\u001b[1;32m    215\u001b[0m     opener \u001b[38;5;241m=\u001b[39m _opener\n\u001b[0;32m--> 216\u001b[0m \u001b[38;5;28;01mreturn\u001b[39;00m \u001b[43mopener\u001b[49m\u001b[38;5;241;43m.\u001b[39;49m\u001b[43mopen\u001b[49m\u001b[43m(\u001b[49m\u001b[43murl\u001b[49m\u001b[43m,\u001b[49m\u001b[43m \u001b[49m\u001b[43mdata\u001b[49m\u001b[43m,\u001b[49m\u001b[43m \u001b[49m\u001b[43mtimeout\u001b[49m\u001b[43m)\u001b[49m\n",
      "File \u001b[0;32m/opt/conda/envs/bio/lib/python3.10/urllib/request.py:519\u001b[0m, in \u001b[0;36mOpenerDirector.open\u001b[0;34m(self, fullurl, data, timeout)\u001b[0m\n\u001b[1;32m    516\u001b[0m     req \u001b[38;5;241m=\u001b[39m meth(req)\n\u001b[1;32m    518\u001b[0m sys\u001b[38;5;241m.\u001b[39maudit(\u001b[38;5;124m'\u001b[39m\u001b[38;5;124murllib.Request\u001b[39m\u001b[38;5;124m'\u001b[39m, req\u001b[38;5;241m.\u001b[39mfull_url, req\u001b[38;5;241m.\u001b[39mdata, req\u001b[38;5;241m.\u001b[39mheaders, req\u001b[38;5;241m.\u001b[39mget_method())\n\u001b[0;32m--> 519\u001b[0m response \u001b[38;5;241m=\u001b[39m \u001b[38;5;28;43mself\u001b[39;49m\u001b[38;5;241;43m.\u001b[39;49m\u001b[43m_open\u001b[49m\u001b[43m(\u001b[49m\u001b[43mreq\u001b[49m\u001b[43m,\u001b[49m\u001b[43m \u001b[49m\u001b[43mdata\u001b[49m\u001b[43m)\u001b[49m\n\u001b[1;32m    521\u001b[0m \u001b[38;5;66;03m# post-process response\u001b[39;00m\n\u001b[1;32m    522\u001b[0m meth_name \u001b[38;5;241m=\u001b[39m protocol\u001b[38;5;241m+\u001b[39m\u001b[38;5;124m\"\u001b[39m\u001b[38;5;124m_response\u001b[39m\u001b[38;5;124m\"\u001b[39m\n",
      "File \u001b[0;32m/opt/conda/envs/bio/lib/python3.10/urllib/request.py:536\u001b[0m, in \u001b[0;36mOpenerDirector._open\u001b[0;34m(self, req, data)\u001b[0m\n\u001b[1;32m    533\u001b[0m     \u001b[38;5;28;01mreturn\u001b[39;00m result\n\u001b[1;32m    535\u001b[0m protocol \u001b[38;5;241m=\u001b[39m req\u001b[38;5;241m.\u001b[39mtype\n\u001b[0;32m--> 536\u001b[0m result \u001b[38;5;241m=\u001b[39m \u001b[38;5;28;43mself\u001b[39;49m\u001b[38;5;241;43m.\u001b[39;49m\u001b[43m_call_chain\u001b[49m\u001b[43m(\u001b[49m\u001b[38;5;28;43mself\u001b[39;49m\u001b[38;5;241;43m.\u001b[39;49m\u001b[43mhandle_open\u001b[49m\u001b[43m,\u001b[49m\u001b[43m \u001b[49m\u001b[43mprotocol\u001b[49m\u001b[43m,\u001b[49m\u001b[43m \u001b[49m\u001b[43mprotocol\u001b[49m\u001b[43m \u001b[49m\u001b[38;5;241;43m+\u001b[39;49m\n\u001b[1;32m    537\u001b[0m \u001b[43m                          \u001b[49m\u001b[38;5;124;43m'\u001b[39;49m\u001b[38;5;124;43m_open\u001b[39;49m\u001b[38;5;124;43m'\u001b[39;49m\u001b[43m,\u001b[49m\u001b[43m \u001b[49m\u001b[43mreq\u001b[49m\u001b[43m)\u001b[49m\n\u001b[1;32m    538\u001b[0m \u001b[38;5;28;01mif\u001b[39;00m result:\n\u001b[1;32m    539\u001b[0m     \u001b[38;5;28;01mreturn\u001b[39;00m result\n",
      "File \u001b[0;32m/opt/conda/envs/bio/lib/python3.10/urllib/request.py:496\u001b[0m, in \u001b[0;36mOpenerDirector._call_chain\u001b[0;34m(self, chain, kind, meth_name, *args)\u001b[0m\n\u001b[1;32m    494\u001b[0m \u001b[38;5;28;01mfor\u001b[39;00m handler \u001b[38;5;129;01min\u001b[39;00m handlers:\n\u001b[1;32m    495\u001b[0m     func \u001b[38;5;241m=\u001b[39m \u001b[38;5;28mgetattr\u001b[39m(handler, meth_name)\n\u001b[0;32m--> 496\u001b[0m     result \u001b[38;5;241m=\u001b[39m \u001b[43mfunc\u001b[49m\u001b[43m(\u001b[49m\u001b[38;5;241;43m*\u001b[39;49m\u001b[43margs\u001b[49m\u001b[43m)\u001b[49m\n\u001b[1;32m    497\u001b[0m     \u001b[38;5;28;01mif\u001b[39;00m result \u001b[38;5;129;01mis\u001b[39;00m \u001b[38;5;129;01mnot\u001b[39;00m \u001b[38;5;28;01mNone\u001b[39;00m:\n\u001b[1;32m    498\u001b[0m         \u001b[38;5;28;01mreturn\u001b[39;00m result\n",
      "File \u001b[0;32m/opt/conda/envs/bio/lib/python3.10/urllib/request.py:1391\u001b[0m, in \u001b[0;36mHTTPSHandler.https_open\u001b[0;34m(self, req)\u001b[0m\n\u001b[1;32m   1390\u001b[0m \u001b[38;5;28;01mdef\u001b[39;00m \u001b[38;5;21mhttps_open\u001b[39m(\u001b[38;5;28mself\u001b[39m, req):\n\u001b[0;32m-> 1391\u001b[0m     \u001b[38;5;28;01mreturn\u001b[39;00m \u001b[38;5;28;43mself\u001b[39;49m\u001b[38;5;241;43m.\u001b[39;49m\u001b[43mdo_open\u001b[49m\u001b[43m(\u001b[49m\u001b[43mhttp\u001b[49m\u001b[38;5;241;43m.\u001b[39;49m\u001b[43mclient\u001b[49m\u001b[38;5;241;43m.\u001b[39;49m\u001b[43mHTTPSConnection\u001b[49m\u001b[43m,\u001b[49m\u001b[43m \u001b[49m\u001b[43mreq\u001b[49m\u001b[43m,\u001b[49m\n\u001b[1;32m   1392\u001b[0m \u001b[43m        \u001b[49m\u001b[43mcontext\u001b[49m\u001b[38;5;241;43m=\u001b[39;49m\u001b[38;5;28;43mself\u001b[39;49m\u001b[38;5;241;43m.\u001b[39;49m\u001b[43m_context\u001b[49m\u001b[43m,\u001b[49m\u001b[43m \u001b[49m\u001b[43mcheck_hostname\u001b[49m\u001b[38;5;241;43m=\u001b[39;49m\u001b[38;5;28;43mself\u001b[39;49m\u001b[38;5;241;43m.\u001b[39;49m\u001b[43m_check_hostname\u001b[49m\u001b[43m)\u001b[49m\n",
      "File \u001b[0;32m/opt/conda/envs/bio/lib/python3.10/urllib/request.py:1351\u001b[0m, in \u001b[0;36mAbstractHTTPHandler.do_open\u001b[0;34m(self, http_class, req, **http_conn_args)\u001b[0m\n\u001b[1;32m   1348\u001b[0m         h\u001b[38;5;241m.\u001b[39mrequest(req\u001b[38;5;241m.\u001b[39mget_method(), req\u001b[38;5;241m.\u001b[39mselector, req\u001b[38;5;241m.\u001b[39mdata, headers,\n\u001b[1;32m   1349\u001b[0m                   encode_chunked\u001b[38;5;241m=\u001b[39mreq\u001b[38;5;241m.\u001b[39mhas_header(\u001b[38;5;124m'\u001b[39m\u001b[38;5;124mTransfer-encoding\u001b[39m\u001b[38;5;124m'\u001b[39m))\n\u001b[1;32m   1350\u001b[0m     \u001b[38;5;28;01mexcept\u001b[39;00m \u001b[38;5;167;01mOSError\u001b[39;00m \u001b[38;5;28;01mas\u001b[39;00m err: \u001b[38;5;66;03m# timeout error\u001b[39;00m\n\u001b[0;32m-> 1351\u001b[0m         \u001b[38;5;28;01mraise\u001b[39;00m URLError(err)\n\u001b[1;32m   1352\u001b[0m     r \u001b[38;5;241m=\u001b[39m h\u001b[38;5;241m.\u001b[39mgetresponse()\n\u001b[1;32m   1353\u001b[0m \u001b[38;5;28;01mexcept\u001b[39;00m:\n",
      "\u001b[0;31mURLError\u001b[0m: <urlopen error [SSL: CERTIFICATE_VERIFY_FAILED] certificate verify failed: certificate has expired (_ssl.c:997)>"
     ]
    }
   ],
   "source": [
    "%time\n",
    "from Bio.motifs import Motif\n",
    "from Bio.Seq import Seq\n",
    "from Bio import motifs\n",
    "\n",
    "sequences = SeqIO.parse('../../../Dataset/biopython/fasta/example.fasta', 'fasta')\n",
    "instances = []\n",
    "\n",
    "for sequence in sequences: instances.append(Seq(sequence.seq))\n",
    "\n",
    "m = motifs.create(instances)\n",
    "print(f'각 자리별 염기서열 갯수 2 : \\n{m.counts}')\n",
    "Motif.weblogo(m, '../Weblogo/dummy.png')\n",
    "\n",
    "## 주피터 내에서 생성한 Weblogo 파일 보이기\n",
    "from IPython.display import Image\n",
    "Image('../Weblogo/dummy.png')\n"
   ]
  },
  {
   "cell_type": "markdown",
   "id": "4c16ee07-6f18-42d4-8ac3-65174b6ebc7f",
   "metadata": {},
   "source": [
    "## 2-2. Multi Sequence Alignment WebLogo 그리기   \n",
    "- biopython 1.78 이후로 Bio.alphabet 기능이 사라져 motifs.create 함수에서 alphabet을 인자값으로 직접 넣어주었다"
   ]
  },
  {
   "cell_type": "code",
   "execution_count": null,
   "id": "b4dd2bcb-517b-4a98-a99b-58114affae10",
   "metadata": {},
   "outputs": [],
   "source": [
    "hba_MSA = AlignIO.read('../../../Dataset/biopython/aln/HBA.aln', 'clustal')\n",
    "\n",
    "proteins = []\n",
    "alphabet_set = set()\n",
    "for hba in hba_MSA:\n",
    "    alphabet_set = alphabet_set.union(set(hba.seq))\n",
    "    proteins.append(hba.seq)\n",
    "    \n",
    "alphabet_set = ''.join(alphabet_set)\n",
    "print(alphabet_set)\n",
    "\n",
    "m = motifs.create(proteins, alphabet=alphabet_set)\n",
    "Motif.weblogo(m, '../Weblogo/hba_multiple.png')\n",
    "Image('../Weblogo/hba_multiple.png')"
   ]
  },
  {
   "cell_type": "markdown",
   "id": "531406d1-c549-4d48-897b-3e1b04ad59b0",
   "metadata": {},
   "source": [
    "# 3. 계통수 그리기\n",
    "- 계통수한 생물 종 간 유전적 유사도를 가지고 멀고 가까움을 그림으로 표현한 것이다.\n",
    "- 계통수를 표현하는 파일 종류는 다양하며 newick 포맷을 가지고 계통수를 그린다.\n",
    "- Sequence Alignment 파일에서 newick 파일로 만드는 홈페이지 | [링크](http://www.ebi.ac.uk/Tools/services/web_clustalw2_phylogeny/toolform.ebi)\n",
    "\n",
    "## 3-1. biopython으로 계통수 그리기\n",
    "- Phylo.read() 메소드로 newick 파일을 읽는다.   \n",
    "- Phylo.draw() 메소드로 계통수 그림을 그린다."
   ]
  },
  {
   "cell_type": "code",
   "execution_count": null,
   "id": "440a7746-5569-481b-bbab-bab13aab6fc7",
   "metadata": {},
   "outputs": [],
   "source": [
    "from Bio import Phylo\n",
    "\n",
    "tree = Phylo.read('../../../Dataset/biopython/newick/HBA.newick', 'newick')\n",
    "print(tree)\n",
    "\n",
    "Phylo.draw(tree)"
   ]
  },
  {
   "cell_type": "code",
   "execution_count": null,
   "id": "18ee8d30-97ee-4109-9fa4-5e7fb3bd5c72",
   "metadata": {},
   "outputs": [],
   "source": []
  }
 ],
 "metadata": {
  "kernelspec": {
   "display_name": "bio",
   "language": "python",
   "name": "bio"
  },
  "language_info": {
   "codemirror_mode": {
    "name": "ipython",
    "version": 3
   },
   "file_extension": ".py",
   "mimetype": "text/x-python",
   "name": "python",
   "nbconvert_exporter": "python",
   "pygments_lexer": "ipython3",
   "version": "3.10.8"
  }
 },
 "nbformat": 4,
 "nbformat_minor": 5
}
