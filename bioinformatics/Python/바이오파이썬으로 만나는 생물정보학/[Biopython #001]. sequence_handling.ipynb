{
 "cells": [
  {
   "cell_type": "markdown",
   "id": "66aa3cb7-c741-4051-b36d-f0ea420d7db1",
   "metadata": {},
   "source": [
    "## **0\\. 참고 자료**\n",
    "- 비제이퍼블릭 | 한주현 저 - 바이오파이썬으로 만나는 생물정보학  \n",
    "- wikipedia | GC 함량, 상보성(분자생물학), 전사(생물학), 번역(생물학)"
   ]
  },
  {
   "cell_type": "markdown",
   "id": "3e5343c5-56d1-4486-b0ef-15aa0708dfe9",
   "metadata": {},
   "source": [
    "### **1\\. Seq함수로 Sequence 객체 만들기**"
   ]
  },
  {
   "cell_type": "code",
   "execution_count": 1,
   "id": "15ca3c2a-61c5-4c5c-84c1-acaf69cea919",
   "metadata": {},
   "outputs": [],
   "source": [
    "## 필요 패키지 import\n",
    "from Bio.Seq import Seq"
   ]
  },
  {
   "cell_type": "code",
   "execution_count": 2,
   "id": "89e15054-afef-476b-91d9-cef4775a09cd",
   "metadata": {},
   "outputs": [
    {
     "name": "stdout",
     "output_type": "stream",
     "text": [
      "<class 'Bio.Seq.Seq'>\n"
     ]
    }
   ],
   "source": [
    "## Biopython은 DNA 염기 서열을 Seq 자료형으로 사용한다.\n",
    "test_seq = Seq('AGTACATGGT')\n",
    "print(type(test_seq))"
   ]
  },
  {
   "cell_type": "code",
   "execution_count": 3,
   "id": "7a98d98a-b980-41d2-9a12-bc78aea2ef37",
   "metadata": {},
   "outputs": [
    {
     "data": {
      "text/plain": [
       "'1.80'"
      ]
     },
     "execution_count": 3,
     "metadata": {},
     "output_type": "execute_result"
    }
   ],
   "source": [
    "## Sequence의 서열 정보를 추가하도록 해줌.\n",
    "## Biopython 1.78 이후로 Alphabet이 사라졌다.. 코쓱머쓱\n",
    "# from Bio import Alphabet\n",
    "import Bio\n",
    "Bio.__version__"
   ]
  },
  {
   "cell_type": "code",
   "execution_count": 4,
   "id": "3b49e4d7-e5c7-4b4e-889e-139ae2e295ee",
   "metadata": {},
   "outputs": [
    {
     "name": "stdout",
     "output_type": "stream",
     "text": [
      "원래 염기 서열 : AGTACATGGT \n",
      "상보 염기 서열 : TCATGTACCA \n",
      "역상보 염기 서열 : ACCATGTACT\n",
      "역상보 염기서열(다른 방법) : ACCATGTACT\n"
     ]
    }
   ],
   "source": [
    "## DNA 염기 서열의 상보서열 구하기\n",
    "print(f'원래 염기 서열 : {test_seq} \\n상보 염기 서열 : {test_seq.complement()} \\n역상보 염기 서열 : {test_seq.reverse_complement()}')\n",
    "print(f'역상보 염기서열(다른 방법) : {test_seq.complement()[::-1]}')"
   ]
  },
  {
   "cell_type": "markdown",
   "id": "d62fc640-0e44-429a-951c-bfa5ef722666",
   "metadata": {},
   "source": [
    "### **2\\. SeqIO 여러 파일 파싱하기**\n",
    "\n",
    "#### **2-1. FASTA 파일 파싱하기**\n",
    "* FASTA 파일은 텍스트 파일로 염기서열이나 단백질 서열 정보를 담고 있다.\n",
    "* 첫 번쨰 줄은 > 문자로 시작하는 헤더가 있다.\n",
    "* 두 번째 줄 부터는 120 글자 이하의 서열이 한 줄씩 표현되어 있다.\n",
    "    - Biopython은 단 한 줄로 서열을 읽어 헤더정보와 서열 정보를 구분할 수 있다."
   ]
  },
  {
   "cell_type": "code",
   "execution_count": 5,
   "id": "5f64370e-0992-4fcb-8462-6b8d3499d4c6",
   "metadata": {},
   "outputs": [
    {
     "name": "stdout",
     "output_type": "stream",
     "text": [
      "gi|2765658|emb|Z78533.1|CIZ78533\n",
      "Seq('CGTAACAAGGTTTCCGTAGGTGAACCTGCGGAAGGATCATTGATGAGACCGTGG...CGC') \n",
      "\n",
      "gi|2765657|emb|Z78532.1|CCZ78532\n",
      "Seq('CGTAACAAGGTTTCCGTAGGTGAACCTGCGGAAGGATCATTGTTGAGACAACAG...GGC') \n",
      "\n",
      "gi|2765656|emb|Z78531.1|CFZ78531\n",
      "Seq('CGTAACAAGGTTTCCGTAGGTGAACCTGCGGAAGGATCATTGTTGAGACAGCAG...TAA') \n",
      "\n",
      "gi|2765655|emb|Z78530.1|CMZ78530\n",
      "Seq('CGTAACAAGGTTTCCGTAGGTGAACCTGCGGAAGGATCATTGTTGAAACAACAT...CAT') \n",
      "\n",
      "gi|2765654|emb|Z78529.1|CLZ78529\n",
      "Seq('ACGGCGAGCTGCCGAAGGACATTGTTGAGACAGCAGAATATACGATTGAGTGAA...AAA') \n",
      "\n",
      "gi|2765652|emb|Z78527.1|CYZ78527\n",
      "Seq('CGTAACAAGGTTTCCGTAGGTGAACCTGCGGAAGGATCATTGTTGAGACAGTAG...CCC') \n",
      "\n",
      "gi|2765651|emb|Z78526.1|CGZ78526\n",
      "Seq('CGTAACAAGGTTTCCGTAGGTGAACCTGCGGAAGGATCATTGTTGAGACAGTAG...TGT') \n",
      "\n",
      "gi|2765650|emb|Z78525.1|CAZ78525\n",
      "Seq('TGTTGAGATAGCAGAATATACATCGAGTGAATCCGGAGGACCTGTGGTTATTCG...GCA') \n",
      "\n",
      "gi|2765649|emb|Z78524.1|CFZ78524\n",
      "Seq('CGTAACAAGGTTTCCGTAGGTGAACCTGCGGAAGGATCATTGTTGAGATAGTAG...AGC') \n",
      "\n",
      "gi|2765648|emb|Z78523.1|CHZ78523\n",
      "Seq('CGTAACCAGGTTTCCGTAGGTGAACCTGCGGCAGGATCATTGTTGAGACAGCAG...AAG') \n",
      "\n",
      "gi|2765647|emb|Z78522.1|CMZ78522\n",
      "Seq('CGTAACAAGGTTTCCGTAGGTGAACCTGCGGAAGGATCATTGTTGAGACAGCAG...GAG') \n",
      "\n",
      "gi|2765646|emb|Z78521.1|CCZ78521\n",
      "Seq('GTAGGTGAACCTGCGGAAGGATCATTGTTGAGACAGTAGAATATATGATCGAGT...ACC') \n",
      "\n",
      "gi|2765645|emb|Z78520.1|CSZ78520\n",
      "Seq('CGTAACAAGGTTTCCGTAGGTGAACCTGCGGAAGGATCATTGTTGAGACAGCAG...TTT') \n",
      "\n",
      "gi|2765644|emb|Z78519.1|CPZ78519\n",
      "Seq('ATATGATCGAGTGAATCTGGTGGACTTGTGGTTACTCAGCTCGCCATAGGCTTT...TTA') \n",
      "\n",
      "gi|2765643|emb|Z78518.1|CRZ78518\n",
      "Seq('CGTAACAAGGTTTCCGTAGGTGAACCTGCGGGAGGATCATTGTTGAGATAGTAG...TCC') \n",
      "\n",
      "gi|2765642|emb|Z78517.1|CFZ78517\n",
      "Seq('CGTAACAAGGTTTCCGTAGGTGAACCTGCGGAAGGATCATTGTTGAGACAGTAG...AGC') \n",
      "\n",
      "gi|2765641|emb|Z78516.1|CPZ78516\n",
      "Seq('CGTAACAAGGTTTCCGTAGGTGAACCTGCGGAAGGATCATTGTTGAGACAGTAT...TAA') \n",
      "\n",
      "gi|2765640|emb|Z78515.1|MXZ78515\n",
      "Seq('CGTAACAAGGTTTCCGTAGGTGAACCTGCGGAAGGATCATTGCTGAGACCGTAG...AGC') \n",
      "\n",
      "gi|2765639|emb|Z78514.1|PSZ78514\n",
      "Seq('CGTAACAAGGTTTCCGTAGGTGGACCTTCGGGAGGATCATTTTTGAAGCCCCCA...CTA') \n",
      "\n",
      "gi|2765638|emb|Z78513.1|PBZ78513\n",
      "Seq('CGTAACAAGGTTTCCGTAGGTGAACCTGCGGAAGGATCATTGTTGAGACCGCCA...GAG') \n",
      "\n",
      "gi|2765637|emb|Z78512.1|PWZ78512\n",
      "Seq('CGTAACAAGGTTTCCGTAGGTGGACCTTCGGGAGGATCATTTTTGAAGCCCCCA...AGC') \n",
      "\n",
      "gi|2765636|emb|Z78511.1|PEZ78511\n",
      "Seq('CGTAACAAGGTTTCCGTAGGTGAACCTTCGGAAGGATCATTGTTGAGACCCCCA...GGA') \n",
      "\n",
      "gi|2765635|emb|Z78510.1|PCZ78510\n",
      "Seq('CTAACCAGGGTTCCGAGGTGACCTTCGGGAGGATTCCTTTTTAAGCCCCCGAAA...TTA') \n",
      "\n",
      "gi|2765634|emb|Z78509.1|PPZ78509\n",
      "Seq('CGTAACAAGGTTTCCGTAGGTGAACCTGCGGAAGGATCATTGTTGAGACCGCCA...GGA') \n",
      "\n",
      "gi|2765633|emb|Z78508.1|PLZ78508\n",
      "Seq('CGTAACAAGGTTTCCGTAGGTGAACCTGCGGAAGGATCATTGTTGAGACCGCCA...TGA') \n",
      "\n",
      "gi|2765632|emb|Z78507.1|PLZ78507\n",
      "Seq('CGTAACAAGGTTTCCGTAGGTGAACCTGCGGAAGGATCATTGTTGAGACCCCCA...TGA') \n",
      "\n",
      "gi|2765631|emb|Z78506.1|PLZ78506\n",
      "Seq('CGTAACAAGGTTTCCGTAGGTGAACCTGCGGAAGGATCATTGTTGAGACCGCAA...TGA') \n",
      "\n",
      "gi|2765630|emb|Z78505.1|PSZ78505\n",
      "Seq('CGTAACAAGGTTTCCGTAGGTGAACCTGCGGAAGGATCATTGTTGAGACCGCCA...TTT') \n",
      "\n",
      "gi|2765629|emb|Z78504.1|PKZ78504\n",
      "Seq('CGTAACAAGGTTTCCGTAGGTGAACCTTCGGAAGGATCATTGTTGAGACCGCAA...TAA') \n",
      "\n",
      "gi|2765628|emb|Z78503.1|PCZ78503\n",
      "Seq('CGTAACCAGGTTTCCGTAGGTGAACCTCCGGAAGGATCCTTGTTGAGACCGCCA...TAA') \n",
      "\n",
      "gi|2765627|emb|Z78502.1|PBZ78502\n",
      "Seq('CGTAACCAGGTTTCCGTAGGTGAACCTCCGGAAGGATCATTGTTGAGACCGCCA...CGC') \n",
      "\n",
      "gi|2765626|emb|Z78501.1|PCZ78501\n",
      "Seq('CGTAACAAGGTTTCCGTAGGTGAACCTGCGGAAGGATCATTGTTGAGACCGCAA...AGA') \n",
      "\n",
      "gi|2765625|emb|Z78500.1|PWZ78500\n",
      "Seq('CGTAACAAGGTTTCCGTAGGTGAACCTGCGGAAGGCTCATTGTTGAGACCGCAA...AAG') \n",
      "\n",
      "gi|2765624|emb|Z78499.1|PMZ78499\n",
      "Seq('CGTAACAAGGTTTCCGTAGGTGAACCTGCGGAGGGATCATTGTTGAGATCGCAT...ACC') \n",
      "\n",
      "gi|2765623|emb|Z78498.1|PMZ78498\n",
      "Seq('CGTAACAAGGTTTCCGTAGGTGAACCTGCGGAAAGGTCATTGTTGAGATCACAT...AGC') \n",
      "\n",
      "gi|2765622|emb|Z78497.1|PDZ78497\n",
      "Seq('CGTAACAAGGTTTCCGTAGGTGAACCTGCGGAAGGATCATTGTTGAGATCACAT...AGC') \n",
      "\n",
      "gi|2765621|emb|Z78496.1|PAZ78496\n",
      "Seq('CGTAACAAGGTTTCCGTAGGTGAACCTGCGGAAGGATCATTGTTGAGATCGCAT...AGC') \n",
      "\n",
      "gi|2765620|emb|Z78495.1|PEZ78495\n",
      "Seq('CGTAACAAGGTTTCCGTAGGTGAACCTCCGGAAGGATCATTGTTGAGATCACAT...GTG') \n",
      "\n",
      "gi|2765619|emb|Z78494.1|PNZ78494\n",
      "Seq('CGTAACAAGGTTTCCGTAGGTGAACCTGCGGAAGGATCATTGTTGAGGTCGCAT...AAG') \n",
      "\n",
      "gi|2765618|emb|Z78493.1|PGZ78493\n",
      "Seq('CGTAACAAGGATTCCGTAGGTGAACCTGCGGAAGGATCATTGTTGAGATCGCAT...CCC') \n",
      "\n",
      "gi|2765617|emb|Z78492.1|PBZ78492\n",
      "Seq('CGTAACAAGGTTTCCGTAGGTGAACCTGCGGAAGGATCATTGTTGAGATCGCAT...ATA') \n",
      "\n",
      "gi|2765616|emb|Z78491.1|PCZ78491\n",
      "Seq('CGTAACAAGGTTTCCGTAGGTGAACCTGCGGAAGGATCATTGTTGAGATCGCAT...AGC') \n",
      "\n",
      "gi|2765615|emb|Z78490.1|PFZ78490\n",
      "Seq('CGTAACAAGGTTTCCGTAGGTGAACCTGCGGAAGGATCATTGTTGAGATCACAT...TGA') \n",
      "\n",
      "gi|2765614|emb|Z78489.1|PDZ78489\n",
      "Seq('CGTAACAAGGTTTCCGTAGGTGAACCTGCGGAAGGATCATTGTTGAGATCACAT...GGC') \n",
      "\n",
      "gi|2765613|emb|Z78488.1|PTZ78488\n",
      "Seq('CTGTAGGTGAACCTGCGGAAGGATCATTGTTGAGATCACGCAATAATTGATCGA...GCT') \n",
      "\n",
      "gi|2765612|emb|Z78487.1|PHZ78487\n",
      "Seq('CGTAACAAGGTTTCCGTAGGTGAACCTGCGGAAGGATCATTGTTGAGATCACAT...TAA') \n",
      "\n",
      "gi|2765611|emb|Z78486.1|PBZ78486\n",
      "Seq('CGTCACGAGGTTTCCGTAGGTGAATCTGCGGGAGGATCATTGTTGAGATCACAT...TGA') \n",
      "\n",
      "gi|2765610|emb|Z78485.1|PHZ78485\n",
      "Seq('CTGAACCTGGTGTCCGAAGGTGAATCTGCGGATGGATCATTGTTGAGATATCAT...GTA') \n",
      "\n",
      "gi|2765609|emb|Z78484.1|PCZ78484\n",
      "Seq('CGTAACAAGGTTTCCGTAGGTGAACCTGGGGAAGGATCATTGTTGAGATCACAT...TTT') \n",
      "\n",
      "gi|2765608|emb|Z78483.1|PVZ78483\n",
      "Seq('CGTAACAAGGTTTCCGTAGGTGAACCTGCGGAAGGATCATTGTTGAGATCACAT...GCA') \n",
      "\n",
      "gi|2765607|emb|Z78482.1|PEZ78482\n",
      "Seq('TCTACTGCAGTGACCGAGATTTGCCATCGAGCCTCCTGGGAGCTTTCTTGCTGG...GCA') \n",
      "\n",
      "gi|2765606|emb|Z78481.1|PIZ78481\n",
      "Seq('CGTAACAAGGTTTCCGTAGGTGAACCTGCGGAAGGATCATTGTTGAGATCACAT...TGA') \n",
      "\n",
      "gi|2765605|emb|Z78480.1|PGZ78480\n",
      "Seq('CGTAACAAGGTTTCCGTAGGTGAACCTGCGGAAGGATCATTGTTGAGATCACAT...TGA') \n",
      "\n",
      "gi|2765604|emb|Z78479.1|PPZ78479\n",
      "Seq('CGTAACAAGGTTTCCGTAGGTGAACCTGCGGAAGGATCATTGTTGAGATCACAT...AGT') \n",
      "\n",
      "gi|2765603|emb|Z78478.1|PVZ78478\n",
      "Seq('CGTAACAAGGTTTCCGTAGGTGAACCTCCGGAAGGATCAGTGTTGAGATCACAT...GGC') \n",
      "\n",
      "gi|2765602|emb|Z78477.1|PVZ78477\n",
      "Seq('CGTAACAAGGTTTCCGTAGGTGAACCTGCGGAAGGATCATTGTTGAGATCACAT...TGC') \n",
      "\n",
      "gi|2765601|emb|Z78476.1|PGZ78476\n",
      "Seq('CGTAACAAGGTTTCCGTAGGTGAACCTGCGGAAGGATCATTGTTGAGATCACAT...CCC') \n",
      "\n",
      "gi|2765600|emb|Z78475.1|PSZ78475\n",
      "Seq('CGTAACAAGGTTTCCGTAGGTGAACCTGCGGAAGGATCATTGTTGAGATCACAT...GGT') \n",
      "\n",
      "gi|2765599|emb|Z78474.1|PKZ78474\n",
      "Seq('CGTAACAAGGTTTCCGTAGGTGAACCTGCGGAAGGATCATTGTTGAGATCACGT...CTT') \n",
      "\n",
      "gi|2765598|emb|Z78473.1|PSZ78473\n",
      "Seq('CGTAACAAGGTTTCCGTAGGTGAACCTGCGGAAGGATCATTGTTGAGATCACAT...AGG') \n",
      "\n",
      "gi|2765597|emb|Z78472.1|PLZ78472\n",
      "Seq('CGTAACAAGGTTTCCGTAGGTGAACCTGCGGAAGGATCATTGTTGAGATCACAT...AGC') \n",
      "\n",
      "gi|2765596|emb|Z78471.1|PDZ78471\n",
      "Seq('CGTAACAAGGTTTCCGTAGGTGAACCTGCGGAAGGATCATTGTTGAGATCACAT...AGC') \n",
      "\n",
      "gi|2765595|emb|Z78470.1|PPZ78470\n",
      "Seq('CGTAACAAGGTTTCCGTAGGTGAACCTGCGGAAGGATCATTGTTGAGATCACAT...GTT') \n",
      "\n",
      "gi|2765594|emb|Z78469.1|PHZ78469\n",
      "Seq('CGTAACAAGGTTTCCGTAGGTGAACCTGCGGAAGGATCATTGTTGAGATCACAT...GTT') \n",
      "\n",
      "gi|2765593|emb|Z78468.1|PAZ78468\n",
      "Seq('CGTAACAAGGTTTCCGTAGGTGAACCTGCGGAAGGATCATTGTTGAGATCGCAT...GTT') \n",
      "\n",
      "gi|2765592|emb|Z78467.1|PSZ78467\n",
      "Seq('CGTAACAAGGTTTCCGTAGGTGAACCTGCGGAAGGATCATTGTTGAGATCACAT...TGA') \n",
      "\n",
      "gi|2765591|emb|Z78466.1|PPZ78466\n",
      "Seq('CGTAACAAGGTTTCCGTAGGTGAACCTGCGGAAGGATCATTGTTGAGATCACAT...CCC') \n",
      "\n",
      "gi|2765590|emb|Z78465.1|PRZ78465\n",
      "Seq('CGTAACAAGGTTTCCGTAGGTGAACCTGCGGAAGGATCATTGTTGAGATCACAT...TGC') \n",
      "\n",
      "gi|2765589|emb|Z78464.1|PGZ78464\n",
      "Seq('CGTAACAAGGTTTCCGTAGGTGAGCGGAAGGGTCATTGTTGAGATCACATAATA...AGC') \n",
      "\n",
      "gi|2765588|emb|Z78463.1|PGZ78463\n",
      "Seq('CGTAACAAGGTTTCCGTAGGTGAACCTGCGGAAGGTTCATTGTTGAGATCACAT...AGC') \n",
      "\n",
      "gi|2765587|emb|Z78462.1|PSZ78462\n",
      "Seq('CGTCACGAGGTCTCCGGATGTGACCCTGCGGAAGGATCATTGTTGAGATCACAT...CAT') \n",
      "\n",
      "gi|2765586|emb|Z78461.1|PWZ78461\n",
      "Seq('CGTAACAAGGTTTCCGTAGGTGAACCTCCGGAAGGATCATTGTTGAGATCACAT...TAA') \n",
      "\n",
      "gi|2765585|emb|Z78460.1|PCZ78460\n",
      "Seq('CGTAACAAGGTTTCCGTAGGTGAACCTCCGGAAGGATCATTGTTGAGATCACAT...TTA') \n",
      "\n",
      "gi|2765584|emb|Z78459.1|PDZ78459\n",
      "Seq('CGTAACAAGGTTTCCGTAGGTGAACCTGCGGAAGGATCATTGTTGAGATCACAT...TTT') \n",
      "\n",
      "gi|2765583|emb|Z78458.1|PHZ78458\n",
      "Seq('CGTAACAAGGTTTCCGTAGGTGAACCTGCGGAAGGATCATTGTTGAGATCACAT...TTG') \n",
      "\n",
      "gi|2765582|emb|Z78457.1|PCZ78457\n",
      "Seq('CGTAACAAGGTTTCCGTAGGTGAACCTCCGGAAGGATCATTGTTGAGATCACAT...GAG') \n",
      "\n",
      "gi|2765581|emb|Z78456.1|PTZ78456\n",
      "Seq('CGTAACAAGGTTTCCGTAGGTGAACCTGCGGAAGGATCATTGTTGAGATCACAT...AGC') \n",
      "\n",
      "gi|2765580|emb|Z78455.1|PJZ78455\n",
      "Seq('CGTAACCAGGTTTCCGTAGGTGGACCTTCGGGAGGATCATTTTTGAGATCACAT...GCA') \n",
      "\n",
      "gi|2765579|emb|Z78454.1|PFZ78454\n",
      "Seq('CGTAACAAGGTTTCCGTAGGTGAACCTGCGGAAGGATCATTGTTGAGATCACAT...AAC') \n",
      "\n",
      "gi|2765578|emb|Z78453.1|PSZ78453\n",
      "Seq('CGTAACAAGGTTTCCGTAGGTGAACCTGCGGAAGGATCATTGTTGAGATCACAT...GCA') \n",
      "\n",
      "gi|2765577|emb|Z78452.1|PBZ78452\n",
      "Seq('CGTAACAAGGTTTCCGTAGGTGAACCTGCGGAAGGATCATTGTTGAGATCACAT...GCA') \n",
      "\n",
      "gi|2765576|emb|Z78451.1|PHZ78451\n",
      "Seq('CGTAACAAGGTTTCCGTAGGTGTACCTCCGGAAGGATCATTGTTGAGATCACAT...AGC') \n",
      "\n",
      "gi|2765575|emb|Z78450.1|PPZ78450\n",
      "Seq('GGAAGGATCATTGCTGATATCACATAATAATTGATCGAGTTAAGCTGGAGGATC...GAG') \n",
      "\n",
      "gi|2765574|emb|Z78449.1|PMZ78449\n",
      "Seq('CGTAACAAGGTTTCCGTAGGTGAACCTGCGGAAGGATCATTGTTGAGATCACAT...TGC') \n",
      "\n",
      "gi|2765573|emb|Z78448.1|PAZ78448\n",
      "Seq('CGTAACAAGGTTTCCGTAGGTGAACCTGCGGAAGGATCATTGTTGAGATCACAT...AGG') \n",
      "\n",
      "gi|2765572|emb|Z78447.1|PVZ78447\n",
      "Seq('CGTAACAAGGATTCCGTAGGTGAACCTGCGGGAGGATCATTGTTGAGATCACAT...AGC') \n",
      "\n",
      "gi|2765571|emb|Z78446.1|PAZ78446\n",
      "Seq('CGTAACAAGGTTTCCGTAGGTGAACCTCCGGAAGGATCATTGTTGAGATCACAT...CCC') \n",
      "\n",
      "gi|2765570|emb|Z78445.1|PUZ78445\n",
      "Seq('CGTAACAAGGTTTCCGTAGGTGAACCTGCGGAAGGATCATTGTTGAGATCACAT...TGT') \n",
      "\n",
      "gi|2765569|emb|Z78444.1|PAZ78444\n",
      "Seq('CGTAACAAGGTTTCCGTAGGGTGAACTGCGGAAGGATCATTGTTGAGATCACAT...ATT') \n",
      "\n",
      "gi|2765568|emb|Z78443.1|PLZ78443\n",
      "Seq('CGTAACAAGGTTTCCGTAGGTGAACCTGCGGAAGGATCATTGTTGAGATCACAT...AGG') \n",
      "\n",
      "gi|2765567|emb|Z78442.1|PBZ78442\n",
      "Seq('GTAGGTGAACCTGCGGAAGGATCATTGTTGAGATCACATAATAATTGATCGAGT...AGT') \n",
      "\n",
      "gi|2765566|emb|Z78441.1|PSZ78441\n",
      "Seq('GGAAGGTCATTGCCGATATCACATAATAATTGATCGAGTTAATCTGGAGGATCT...GAG') \n",
      "\n",
      "gi|2765565|emb|Z78440.1|PPZ78440\n",
      "Seq('CGTAACAAGGTTTCCGTAGGTGGACCTCCGGGAGGATCATTGTTGAGATCACAT...GCA') \n",
      "\n",
      "gi|2765564|emb|Z78439.1|PBZ78439\n",
      "Seq('CATTGTTGAGATCACATAATAATTGATCGAGTTAATCTGGAGGATCTGTTTACT...GCC') \n",
      "\n"
     ]
    }
   ],
   "source": [
    "## FASTA 파일 파싱하기\n",
    "from Bio import SeqIO\n",
    "\n",
    "for seq_record in SeqIO.parse(\"../../../Dataset/biopython/fasta/ls_orchid.fasta\", \"fasta\"):\n",
    "    print(seq_record.id)\n",
    "    print(repr(seq_record.seq), '\\n')"
   ]
  },
  {
   "cell_type": "markdown",
   "id": "d59f2cf7-818f-44f3-bd04-8c1f7f7f0010",
   "metadata": {},
   "source": [
    "#### **2-2. GenBank 파일 파싱하기**\n",
    "- NCBI 데이터에서 대중에게 제공하는 포맷으로 염기서열과 CDS(Coding Sequence) 별로   \n",
    "  번역된 아미노산 서열, 종의 정보, 관련 논문 저자, 제목 pubmed ID 등의 메타 데이터를 담고 있다.\n",
    "- 1개 이상의 GenBank 정보가 있을 수 있으며, 끝맺음 구분은 //로 한다.    "
   ]
  },
  {
   "cell_type": "markdown",
   "id": "ef10704c-47bb-4915-a0ed-946c8680bea8",
   "metadata": {},
   "source": [
    "- 메타 데이터가 담고 있는 정보  \n",
    "| 항목 | 설명 |  \n",
    "| --- | --- |  \n",
    "| LOCUS | Accession ID, 길이, 분자 종류, GenBank Division 정보, 최종 수정 날짜 |  \n",
    "| DEFINITION | 서열에 대한 간략한 설명 |  \n",
    "| ACCESSION | 서열의 독자적인 ID |  \n",
    "| VERSION | 서열에 변화가 생기면 버전이 올라간다.   e. g.) KT225467.1 => KT225467.2 |  \n",
    "| KEYWORDS | 1. 서열을 설명하는 키워드&nbsp;&nbsp;&nbsp;&nbsp;&nbsp;&nbsp;&nbsp;&nbsp;&nbsp;&nbsp;&nbsp;2. NCBI에 검색할때 Keyword 항목으로 참조하는 부분&nbsp;&nbsp;&nbsp;&nbsp;&nbsp;&nbsp;&nbsp;&nbsp;&nbsp;&nbsp;&nbsp;3. 만약 존재하지 않는 경우에는 .으로 표기한다. |  \n",
    "| SOURCE | 서열의 근원에 대한 정보 |  \n",
    "| REFERENCE | 1. 서열에 관한 논문 정보가 담긴 부분&nbsp;&nbsp;&nbsp;&nbsp;&nbsp;&nbsp;&nbsp;&nbsp;&nbsp;&nbsp;&nbsp;2. 논문 저자, 제목, 저널명, pubmed id가 포함됨 |  \n",
    "| COMMENT | 기타 설명이 필요한 경우에 입력한다 |  \n",
    "| FEATURES | 1. 서열 특징이 포함되어 있는 부분&nbsp;&nbsp;&nbsp;&nbsp;&nbsp;&nbsp;&nbsp;&nbsp;&nbsp;&nbsp;&nbsp;&nbsp;&nbsp;2. 전체 서열 구간 정보(source)와 각 CDS 정보가 나열되어 있다. |  \n",
    "| ORIGIN | 1. 염기 서열이 표시되어 있는 부분&nbsp;&nbsp;&nbsp;&nbsp;&nbsp;&nbsp;&nbsp;&nbsp;&nbsp;&nbsp;&nbsp;&nbsp;&nbsp;2. 60개 염기서열을 한 줄로 하며 10개 단위로 끊어 소문자로 표기 |  \n"
   ]
  },
  {
   "cell_type": "code",
   "execution_count": 6,
   "id": "d8ab0ad7-5ac5-43b9-a004-24cf6cd6ae14",
   "metadata": {},
   "outputs": [
    {
     "name": "stdout",
     "output_type": "stream",
     "text": [
      "Z78533.1\n",
      "Seq('CGTAACAAGGTTTCCGTAGGTGAACCTGCGGAAGGATCATTGATGAGACCGTGG...CGC') \n",
      "\n",
      "Z78532.1\n",
      "Seq('CGTAACAAGGTTTCCGTAGGTGAACCTGCGGAAGGATCATTGTTGAGACAACAG...GGC') \n",
      "\n",
      "Z78531.1\n",
      "Seq('CGTAACAAGGTTTCCGTAGGTGAACCTGCGGAAGGATCATTGTTGAGACAGCAG...TAA') \n",
      "\n",
      "Z78530.1\n",
      "Seq('CGTAACAAGGTTTCCGTAGGTGAACCTGCGGAAGGATCATTGTTGAAACAACAT...CAT') \n",
      "\n",
      "Z78529.1\n",
      "Seq('ACGGCGAGCTGCCGAAGGACATTGTTGAGACAGCAGAATATACGATTGAGTGAA...AAA') \n",
      "\n",
      "Z78527.1\n",
      "Seq('CGTAACAAGGTTTCCGTAGGTGAACCTGCGGAAGGATCATTGTTGAGACAGTAG...CCC') \n",
      "\n",
      "Z78526.1\n",
      "Seq('CGTAACAAGGTTTCCGTAGGTGAACCTGCGGAAGGATCATTGTTGAGACAGTAG...TGT') \n",
      "\n",
      "Z78525.1\n",
      "Seq('TGTTGAGATAGCAGAATATACATCGAGTGAATCCGGAGGACCTGTGGTTATTCG...GCA') \n",
      "\n",
      "Z78524.1\n",
      "Seq('CGTAACAAGGTTTCCGTAGGTGAACCTGCGGAAGGATCATTGTTGAGATAGTAG...AGC') \n",
      "\n",
      "Z78523.1\n",
      "Seq('CGTAACCAGGTTTCCGTAGGTGAACCTGCGGCAGGATCATTGTTGAGACAGCAG...AAG') \n",
      "\n",
      "Z78522.1\n",
      "Seq('CGTAACAAGGTTTCCGTAGGTGAACCTGCGGAAGGATCATTGTTGAGACAGCAG...GAG') \n",
      "\n",
      "Z78521.1\n",
      "Seq('GTAGGTGAACCTGCGGAAGGATCATTGTTGAGACAGTAGAATATATGATCGAGT...ACC') \n",
      "\n",
      "Z78520.1\n",
      "Seq('CGTAACAAGGTTTCCGTAGGTGAACCTGCGGAAGGATCATTGTTGAGACAGCAG...TTT') \n",
      "\n",
      "Z78519.1\n",
      "Seq('ATATGATCGAGTGAATCTGGTGGACTTGTGGTTACTCAGCTCGCCATAGGCTTT...TTA') \n",
      "\n",
      "Z78518.1\n",
      "Seq('CGTAACAAGGTTTCCGTAGGTGAACCTGCGGGAGGATCATTGTTGAGATAGTAG...TCC') \n",
      "\n",
      "Z78517.1\n",
      "Seq('CGTAACAAGGTTTCCGTAGGTGAACCTGCGGAAGGATCATTGTTGAGACAGTAG...AGC') \n",
      "\n",
      "Z78516.1\n",
      "Seq('CGTAACAAGGTTTCCGTAGGTGAACCTGCGGAAGGATCATTGTTGAGACAGTAT...TAA') \n",
      "\n",
      "Z78515.1\n",
      "Seq('CGTAACAAGGTTTCCGTAGGTGAACCTGCGGAAGGATCATTGCTGAGACCGTAG...AGC') \n",
      "\n",
      "Z78514.1\n",
      "Seq('CGTAACAAGGTTTCCGTAGGTGGACCTTCGGGAGGATCATTTTTGAAGCCCCCA...CTA') \n",
      "\n",
      "Z78513.1\n",
      "Seq('CGTAACAAGGTTTCCGTAGGTGAACCTGCGGAAGGATCATTGTTGAGACCGCCA...GAG') \n",
      "\n",
      "Z78512.1\n",
      "Seq('CGTAACAAGGTTTCCGTAGGTGGACCTTCGGGAGGATCATTTTTGAAGCCCCCA...AGC') \n",
      "\n",
      "Z78511.1\n",
      "Seq('CGTAACAAGGTTTCCGTAGGTGAACCTTCGGAAGGATCATTGTTGAGACCCCCA...GGA') \n",
      "\n",
      "Z78510.1\n",
      "Seq('CTAACCAGGGTTCCGAGGTGACCTTCGGGAGGATTCCTTTTTAAGCCCCCGAAA...TTA') \n",
      "\n",
      "Z78509.1\n",
      "Seq('CGTAACAAGGTTTCCGTAGGTGAACCTGCGGAAGGATCATTGTTGAGACCGCCA...GGA') \n",
      "\n",
      "Z78508.1\n",
      "Seq('CGTAACAAGGTTTCCGTAGGTGAACCTGCGGAAGGATCATTGTTGAGACCGCCA...TGA') \n",
      "\n",
      "Z78507.1\n",
      "Seq('CGTAACAAGGTTTCCGTAGGTGAACCTGCGGAAGGATCATTGTTGAGACCCCCA...TGA') \n",
      "\n",
      "Z78506.1\n",
      "Seq('CGTAACAAGGTTTCCGTAGGTGAACCTGCGGAAGGATCATTGTTGAGACCGCAA...TGA') \n",
      "\n",
      "Z78505.1\n",
      "Seq('CGTAACAAGGTTTCCGTAGGTGAACCTGCGGAAGGATCATTGTTGAGACCGCCA...TTT') \n",
      "\n",
      "Z78504.1\n",
      "Seq('CGTAACAAGGTTTCCGTAGGTGAACCTTCGGAAGGATCATTGTTGAGACCGCAA...TAA') \n",
      "\n",
      "Z78503.1\n",
      "Seq('CGTAACCAGGTTTCCGTAGGTGAACCTCCGGAAGGATCCTTGTTGAGACCGCCA...TAA') \n",
      "\n",
      "Z78502.1\n",
      "Seq('CGTAACCAGGTTTCCGTAGGTGAACCTCCGGAAGGATCATTGTTGAGACCGCCA...CGC') \n",
      "\n",
      "Z78501.1\n",
      "Seq('CGTAACAAGGTTTCCGTAGGTGAACCTGCGGAAGGATCATTGTTGAGACCGCAA...AGA') \n",
      "\n",
      "Z78500.1\n",
      "Seq('CGTAACAAGGTTTCCGTAGGTGAACCTGCGGAAGGCTCATTGTTGAGACCGCAA...AAG') \n",
      "\n",
      "Z78499.1\n",
      "Seq('CGTAACAAGGTTTCCGTAGGTGAACCTGCGGAGGGATCATTGTTGAGATCGCAT...ACC') \n",
      "\n",
      "Z78498.1\n",
      "Seq('CGTAACAAGGTTTCCGTAGGTGAACCTGCGGAAAGGTCATTGTTGAGATCACAT...AGC') \n",
      "\n",
      "Z78497.1\n",
      "Seq('CGTAACAAGGTTTCCGTAGGTGAACCTGCGGAAGGATCATTGTTGAGATCACAT...AGC') \n",
      "\n",
      "Z78496.1\n",
      "Seq('CGTAACAAGGTTTCCGTAGGTGAACCTGCGGAAGGATCATTGTTGAGATCGCAT...AGC') \n",
      "\n",
      "Z78495.1\n",
      "Seq('CGTAACAAGGTTTCCGTAGGTGAACCTCCGGAAGGATCATTGTTGAGATCACAT...GTG') \n",
      "\n",
      "Z78494.1\n",
      "Seq('CGTAACAAGGTTTCCGTAGGTGAACCTGCGGAAGGATCATTGTTGAGGTCGCAT...AAG') \n",
      "\n",
      "Z78493.1\n",
      "Seq('CGTAACAAGGATTCCGTAGGTGAACCTGCGGAAGGATCATTGTTGAGATCGCAT...CCC') \n",
      "\n",
      "Z78492.1\n",
      "Seq('CGTAACAAGGTTTCCGTAGGTGAACCTGCGGAAGGATCATTGTTGAGATCGCAT...ATA') \n",
      "\n",
      "Z78491.1\n",
      "Seq('CGTAACAAGGTTTCCGTAGGTGAACCTGCGGAAGGATCATTGTTGAGATCGCAT...AGC') \n",
      "\n",
      "Z78490.1\n",
      "Seq('CGTAACAAGGTTTCCGTAGGTGAACCTGCGGAAGGATCATTGTTGAGATCACAT...TGA') \n",
      "\n",
      "Z78489.1\n",
      "Seq('CGTAACAAGGTTTCCGTAGGTGAACCTGCGGAAGGATCATTGTTGAGATCACAT...GGC') \n",
      "\n",
      "Z78488.1\n",
      "Seq('CTGTAGGTGAACCTGCGGAAGGATCATTGTTGAGATCACGCAATAATTGATCGA...GCT') \n",
      "\n",
      "Z78487.1\n",
      "Seq('CGTAACAAGGTTTCCGTAGGTGAACCTGCGGAAGGATCATTGTTGAGATCACAT...TAA') \n",
      "\n",
      "Z78486.1\n",
      "Seq('CGTCACGAGGTTTCCGTAGGTGAATCTGCGGGAGGATCATTGTTGAGATCACAT...TGA') \n",
      "\n",
      "Z78485.1\n",
      "Seq('CTGAACCTGGTGTCCGAAGGTGAATCTGCGGATGGATCATTGTTGAGATATCAT...GTA') \n",
      "\n",
      "Z78484.1\n",
      "Seq('CGTAACAAGGTTTCCGTAGGTGAACCTGGGGAAGGATCATTGTTGAGATCACAT...TTT') \n",
      "\n",
      "Z78483.1\n",
      "Seq('CGTAACAAGGTTTCCGTAGGTGAACCTGCGGAAGGATCATTGTTGAGATCACAT...GCA') \n",
      "\n",
      "Z78482.1\n",
      "Seq('TCTACTGCAGTGACCGAGATTTGCCATCGAGCCTCCTGGGAGCTTTCTTGCTGG...GCA') \n",
      "\n",
      "Z78481.1\n",
      "Seq('CGTAACAAGGTTTCCGTAGGTGAACCTGCGGAAGGATCATTGTTGAGATCACAT...TGA') \n",
      "\n",
      "Z78480.1\n",
      "Seq('CGTAACAAGGTTTCCGTAGGTGAACCTGCGGAAGGATCATTGTTGAGATCACAT...TGA') \n",
      "\n",
      "Z78479.1\n",
      "Seq('CGTAACAAGGTTTCCGTAGGTGAACCTGCGGAAGGATCATTGTTGAGATCACAT...AGT') \n",
      "\n",
      "Z78478.1\n",
      "Seq('CGTAACAAGGTTTCCGTAGGTGAACCTCCGGAAGGATCAGTGTTGAGATCACAT...GGC') \n",
      "\n",
      "Z78477.1\n",
      "Seq('CGTAACAAGGTTTCCGTAGGTGAACCTGCGGAAGGATCATTGTTGAGATCACAT...TGC') \n",
      "\n",
      "Z78476.1\n",
      "Seq('CGTAACAAGGTTTCCGTAGGTGAACCTGCGGAAGGATCATTGTTGAGATCACAT...CCC') \n",
      "\n",
      "Z78475.1\n",
      "Seq('CGTAACAAGGTTTCCGTAGGTGAACCTGCGGAAGGATCATTGTTGAGATCACAT...GGT') \n",
      "\n",
      "Z78474.1\n",
      "Seq('CGTAACAAGGTTTCCGTAGGTGAACCTGCGGAAGGATCATTGTTGAGATCACGT...CTT') \n",
      "\n",
      "Z78473.1\n",
      "Seq('CGTAACAAGGTTTCCGTAGGTGAACCTGCGGAAGGATCATTGTTGAGATCACAT...AGG') \n",
      "\n",
      "Z78472.1\n",
      "Seq('CGTAACAAGGTTTCCGTAGGTGAACCTGCGGAAGGATCATTGTTGAGATCACAT...AGC') \n",
      "\n",
      "Z78471.1\n",
      "Seq('CGTAACAAGGTTTCCGTAGGTGAACCTGCGGAAGGATCATTGTTGAGATCACAT...AGC') \n",
      "\n",
      "Z78470.1\n",
      "Seq('CGTAACAAGGTTTCCGTAGGTGAACCTGCGGAAGGATCATTGTTGAGATCACAT...GTT') \n",
      "\n",
      "Z78469.1\n",
      "Seq('CGTAACAAGGTTTCCGTAGGTGAACCTGCGGAAGGATCATTGTTGAGATCACAT...GTT') \n",
      "\n",
      "Z78468.1\n",
      "Seq('CGTAACAAGGTTTCCGTAGGTGAACCTGCGGAAGGATCATTGTTGAGATCGCAT...GTT') \n",
      "\n",
      "Z78467.1\n",
      "Seq('CGTAACAAGGTTTCCGTAGGTGAACCTGCGGAAGGATCATTGTTGAGATCACAT...TGA') \n",
      "\n",
      "Z78466.1\n",
      "Seq('CGTAACAAGGTTTCCGTAGGTGAACCTGCGGAAGGATCATTGTTGAGATCACAT...CCC') \n",
      "\n",
      "Z78465.1\n",
      "Seq('CGTAACAAGGTTTCCGTAGGTGAACCTGCGGAAGGATCATTGTTGAGATCACAT...TGC') \n",
      "\n",
      "Z78464.1\n",
      "Seq('CGTAACAAGGTTTCCGTAGGTGAGCGGAAGGGTCATTGTTGAGATCACATAATA...AGC') \n",
      "\n",
      "Z78463.1\n",
      "Seq('CGTAACAAGGTTTCCGTAGGTGAACCTGCGGAAGGTTCATTGTTGAGATCACAT...AGC') \n",
      "\n",
      "Z78462.1\n",
      "Seq('CGTCACGAGGTCTCCGGATGTGACCCTGCGGAAGGATCATTGTTGAGATCACAT...CAT') \n",
      "\n",
      "Z78461.1\n",
      "Seq('CGTAACAAGGTTTCCGTAGGTGAACCTCCGGAAGGATCATTGTTGAGATCACAT...TAA') \n",
      "\n",
      "Z78460.1\n",
      "Seq('CGTAACAAGGTTTCCGTAGGTGAACCTCCGGAAGGATCATTGTTGAGATCACAT...TTA') \n",
      "\n",
      "Z78459.1\n",
      "Seq('CGTAACAAGGTTTCCGTAGGTGAACCTGCGGAAGGATCATTGTTGAGATCACAT...TTT') \n",
      "\n",
      "Z78458.1\n",
      "Seq('CGTAACAAGGTTTCCGTAGGTGAACCTGCGGAAGGATCATTGTTGAGATCACAT...TTG') \n",
      "\n",
      "Z78457.1\n",
      "Seq('CGTAACAAGGTTTCCGTAGGTGAACCTCCGGAAGGATCATTGTTGAGATCACAT...GAG') \n",
      "\n",
      "Z78456.1\n",
      "Seq('CGTAACAAGGTTTCCGTAGGTGAACCTGCGGAAGGATCATTGTTGAGATCACAT...AGC') \n",
      "\n",
      "Z78455.1\n",
      "Seq('CGTAACCAGGTTTCCGTAGGTGGACCTTCGGGAGGATCATTTTTGAGATCACAT...GCA') \n",
      "\n",
      "Z78454.1\n",
      "Seq('CGTAACAAGGTTTCCGTAGGTGAACCTGCGGAAGGATCATTGTTGAGATCACAT...AAC') \n",
      "\n",
      "Z78453.1\n",
      "Seq('CGTAACAAGGTTTCCGTAGGTGAACCTGCGGAAGGATCATTGTTGAGATCACAT...GCA') \n",
      "\n",
      "Z78452.1\n",
      "Seq('CGTAACAAGGTTTCCGTAGGTGAACCTGCGGAAGGATCATTGTTGAGATCACAT...GCA') \n",
      "\n",
      "Z78451.1\n",
      "Seq('CGTAACAAGGTTTCCGTAGGTGTACCTCCGGAAGGATCATTGTTGAGATCACAT...AGC') \n",
      "\n",
      "Z78450.1\n",
      "Seq('GGAAGGATCATTGCTGATATCACATAATAATTGATCGAGTTAAGCTGGAGGATC...GAG') \n",
      "\n",
      "Z78449.1\n",
      "Seq('CGTAACAAGGTTTCCGTAGGTGAACCTGCGGAAGGATCATTGTTGAGATCACAT...TGC') \n",
      "\n",
      "Z78448.1\n",
      "Seq('CGTAACAAGGTTTCCGTAGGTGAACCTGCGGAAGGATCATTGTTGAGATCACAT...AGG') \n",
      "\n",
      "Z78447.1\n",
      "Seq('CGTAACAAGGATTCCGTAGGTGAACCTGCGGGAGGATCATTGTTGAGATCACAT...AGC') \n",
      "\n",
      "Z78446.1\n",
      "Seq('CGTAACAAGGTTTCCGTAGGTGAACCTCCGGAAGGATCATTGTTGAGATCACAT...CCC') \n",
      "\n",
      "Z78445.1\n",
      "Seq('CGTAACAAGGTTTCCGTAGGTGAACCTGCGGAAGGATCATTGTTGAGATCACAT...TGT') \n",
      "\n",
      "Z78444.1\n",
      "Seq('CGTAACAAGGTTTCCGTAGGGTGAACTGCGGAAGGATCATTGTTGAGATCACAT...ATT') \n",
      "\n",
      "Z78443.1\n",
      "Seq('CGTAACAAGGTTTCCGTAGGTGAACCTGCGGAAGGATCATTGTTGAGATCACAT...AGG') \n",
      "\n",
      "Z78442.1\n",
      "Seq('GTAGGTGAACCTGCGGAAGGATCATTGTTGAGATCACATAATAATTGATCGAGT...AGT') \n",
      "\n",
      "Z78441.1\n",
      "Seq('GGAAGGTCATTGCCGATATCACATAATAATTGATCGAGTTAATCTGGAGGATCT...GAG') \n",
      "\n",
      "Z78440.1\n",
      "Seq('CGTAACAAGGTTTCCGTAGGTGGACCTCCGGGAGGATCATTGTTGAGATCACAT...GCA') \n",
      "\n",
      "Z78439.1\n",
      "Seq('CATTGTTGAGATCACATAATAATTGATCGAGTTAATCTGGAGGATCTGTTTACT...GCC') \n",
      "\n"
     ]
    }
   ],
   "source": [
    "## GenBank 파일 파싱하기\n",
    "for gen_record in SeqIO.parse('../../../Dataset/biopython/genbank/ls_orchid.gbk', 'genbank'):\n",
    "    print(gen_record.id)\n",
    "    print(repr(gen_record.seq), '\\n')"
   ]
  },
  {
   "cell_type": "code",
   "execution_count": 7,
   "id": "01cb90aa-92f8-41ed-bddb-abd6f55eb3c2",
   "metadata": {},
   "outputs": [
    {
     "name": "stdout",
     "output_type": "stream",
     "text": [
      "<class 'Bio.Seq.Seq'>\n"
     ]
    }
   ],
   "source": [
    "genbank_seq = gen_record.seq\n",
    "print(type(genbank_seq))"
   ]
  },
  {
   "cell_type": "markdown",
   "id": "92b42449-799e-44ed-9e1f-c10ced00ccca",
   "metadata": {},
   "source": [
    "### **3\\. Sequence 파일 조작하기**\n",
    "- biopython의 Sequence 객체는 Python의 String객체와 비슷한 특징을 가진다.\n",
    "| 메소드 | 사용법 | 설명 |\n",
    "| --- | --- | --- |\n",
    "| count() | sequence.count(str) | sequence에 str이 들어가 있는 갯수를 반환 |\n",
    "| lower() | sequence.lower() | sequence의 문자열을 소문자로 변환 |\n",
    "| upper() | sequence.upper() | sequence의 문자열을 대문자로 변환 |\n",
    "| split() | sequence.split(str) | sequence을 str을 기준으로 하여 분할 |\n",
    "| strip() | sequence.strip() | sequence 양끝의 공백, 엔터와 같은 문자를 제거 |\n",
    "| startswith() | sequence.startswith(str) | sequence가 str로 시작하는지 판별 |\n",
    "| transcribe() | sequence.transcribe() | DNA서열을 RNA로 전사한 서열을 반환 |\n",
    "| translate() | sequence.translate() | DNA 또는 RNA서열을 단백질 서열로 반환 |\n",
    "| complement() | sequence.complement() | sequence가 가진 서열의 상보적 서열을 반환 |\n",
    "| reverse\\_complement() | sequence.reverse\\_complement() | sequence가 가진 서열의 역상보적 서열을 반환 |"
   ]
  },
  {
   "cell_type": "code",
   "execution_count": 8,
   "id": "5b3c6a5a-e804-41bc-ba6f-b03c1b801470",
   "metadata": {},
   "outputs": [
    {
     "name": "stdout",
     "output_type": "stream",
     "text": [
      "첫 글자 인덱싱 : C\n",
      "마지막 글자 인덱싱 : C\n",
      "슬라이싱 : GTTGAGATCAC \n",
      "\n",
      "sequence 2개 더하기 : ACGTAACC\n",
      "\n"
     ]
    }
   ],
   "source": [
    "## Sequence 객체는 파이썬의 string처럼 indexing과 slicing, count가 가능하다.\n",
    "\n",
    "print(f'첫 글자 인덱싱 : {genbank_seq[0]}')\n",
    "print(f'마지막 글자 인덱싱 : {genbank_seq[-1]}')\n",
    "print(f'슬라이싱 : {genbank_seq[4: 15]} \\n')\n",
    "\n",
    "## Sequence 객체 더하기\n",
    "sequence1 = Seq(\"ACGT\")\n",
    "sequence2 = Seq(\"AACC\")\n",
    "\n",
    "print(f'sequence 2개 더하기 : {sequence1 + sequence2}\\n')"
   ]
  },
  {
   "cell_type": "code",
   "execution_count": 9,
   "id": "0c340adb-da21-42de-9ea7-6a0e0385ab38",
   "metadata": {},
   "outputs": [
    {
     "name": "stdout",
     "output_type": "stream",
     "text": [
      "원본 sequence \n",
      " CATTGTTGAGATCACATAATAATTGATCGAGTTAATCTGGAGGATCTGTTTACTTTGGTCACCCATGGGCATTTGCTGTTGAAGTGACCTAGATTTGCCATCGAGCCTCCTTGGGAGCTTTCTTGTTGGCGAGATCTAAACCCCTGCCCGGCGGAGTTGGGCGCCAAGTCATATGACACATAATTGGTGAAGGGGGTGGTAATCCTGCCCTGACCCTCCCCAAATTATTTTTTTAACAACTCTCAGCAACGGATATCTCGGCTCTTGCATCGATGAAGAACGCAGCGAAATGCGATAATGGTGTGAATTGCAGAATCCCGTGAACATCGAGTCTTTGAACGCAAGTTGCGCCCGAGGCCATCAGGCCAAGGGCACGCCTGCCTGGGCATTGCGAGTCATATCTCTCCCTTAATGAGGCTGTCCATACATACTGTTCAGCCGGTGCGGATGTGAGTTTGGCCCCTTGTTCTTTGGTACGGGGGGTCTAAGAGCTGCATGGGCTTTGGATGGTCCTAAATACGGAAAGAGGTGGACGAACTATGCTACAACAAAATTGTTGTGCAAATGCCCCGGTTGGCCGTTTAGTTGGGCC\n",
      "\n",
      "소문자 sequence \n",
      " cattgttgagatcacataataattgatcgagttaatctggaggatctgtttactttggtcacccatgggcatttgctgttgaagtgacctagatttgccatcgagcctccttgggagctttcttgttggcgagatctaaacccctgcccggcggagttgggcgccaagtcatatgacacataattggtgaagggggtggtaatcctgccctgaccctccccaaattatttttttaacaactctcagcaacggatatctcggctcttgcatcgatgaagaacgcagcgaaatgcgataatggtgtgaattgcagaatcccgtgaacatcgagtctttgaacgcaagttgcgcccgaggccatcaggccaagggcacgcctgcctgggcattgcgagtcatatctctcccttaatgaggctgtccatacatactgttcagccggtgcggatgtgagtttggccccttgttctttggtacggggggtctaagagctgcatgggctttggatggtcctaaatacggaaagaggtggacgaactatgctacaacaaaattgttgtgcaaatgccccggttggccgtttagttgggcc\n",
      "\n",
      "대문자 sequence \n",
      " CATTGTTGAGATCACATAATAATTGATCGAGTTAATCTGGAGGATCTGTTTACTTTGGTCACCCATGGGCATTTGCTGTTGAAGTGACCTAGATTTGCCATCGAGCCTCCTTGGGAGCTTTCTTGTTGGCGAGATCTAAACCCCTGCCCGGCGGAGTTGGGCGCCAAGTCATATGACACATAATTGGTGAAGGGGGTGGTAATCCTGCCCTGACCCTCCCCAAATTATTTTTTTAACAACTCTCAGCAACGGATATCTCGGCTCTTGCATCGATGAAGAACGCAGCGAAATGCGATAATGGTGTGAATTGCAGAATCCCGTGAACATCGAGTCTTTGAACGCAAGTTGCGCCCGAGGCCATCAGGCCAAGGGCACGCCTGCCTGGGCATTGCGAGTCATATCTCTCCCTTAATGAGGCTGTCCATACATACTGTTCAGCCGGTGCGGATGTGAGTTTGGCCCCTTGTTCTTTGGTACGGGGGGTCTAAGAGCTGCATGGGCTTTGGATGGTCCTAAATACGGAAAGAGGTGGACGAACTATGCTACAACAAAATTGTTGTGCAAATGCCCCGGTTGGCCGTTTAGTTGGGCC\n"
     ]
    }
   ],
   "source": [
    "## Sequence 객체 대소문자 변환\n",
    "lower_seq = genbank_seq.lower()\n",
    "upper_seq = lower_seq.upper()\n",
    "\n",
    "print(f'원본 sequence \\n {genbank_seq}\\n')\n",
    "print(f'소문자 sequence \\n {lower_seq}\\n')\n",
    "print(f'대문자 sequence \\n {upper_seq}')"
   ]
  },
  {
   "cell_type": "markdown",
   "id": "12125c3d-3c27-4657-8a5e-d5edbdef072d",
   "metadata": {},
   "source": [
    "#### **(!) 염기서열의 분리 온도와 무게 계산**\n",
    "\n",
    "-   DNA 이중나선에 온도를 가하면 단일 사슬로 분리된다\n",
    "    -   Tm은 이중 나선의 절반이 단일 나선이 될 때의 온도를 나타낸다\n",
    "    -   GC간 결합이 AT간 결합보다 결합 힘이 강하므로, GC content가 높을수록 Tm이 높아진다\n"
   ]
  },
  {
   "cell_type": "code",
   "execution_count": 10,
   "id": "2644d76d-9a56-412f-a14b-ec167abdd7d6",
   "metadata": {},
   "outputs": [
    {
     "name": "stdout",
     "output_type": "stream",
     "text": [
      "테스트 genbank sequence의 GC-content : 50.0, Tm : 1776.0\n",
      "테스트 genbank sequence의 무게 : 183277.6667999999\n"
     ]
    },
    {
     "name": "stderr",
     "output_type": "stream",
     "text": [
      "/opt/conda/envs/bio/lib/python3.10/site-packages/Bio/SeqUtils/__init__.py:144: BiopythonDeprecationWarning: GC is deprecated; please use gc_fraction instead.\n",
      "  warnings.warn(\n"
     ]
    }
   ],
   "source": [
    "from Bio.SeqUtils import MeltingTemp as mt\n",
    "from Bio.SeqUtils import GC\n",
    "\n",
    "## DNA 이중나선 분리 온도계산\n",
    "print(f'테스트 genbank sequence의 GC-content : {GC(genbank_seq)}, Tm : {mt.Tm_Wallace(genbank_seq)}')\n",
    "\n",
    "## 염기서열의 무게 계산\n",
    "from Bio.SeqUtils import molecular_weight\n",
    "print(f'테스트 genbank sequence의 무게 : {molecular_weight(genbank_seq)}')"
   ]
  },
  {
   "cell_type": "code",
   "execution_count": 11,
   "id": "2a06f563-943a-4319-8528-9e0a099072e7",
   "metadata": {},
   "outputs": [
    {
     "name": "stdout",
     "output_type": "stream",
     "text": [
      "TypeError : 'Seq' object does not support item assignment\n",
      "원본 dna :   ATGGCCATTGTAATGGGCCGCTGAAAGGGTGCCCGATAG \n",
      "변경된 dna : ATGGCGATTGTAATGGGCCGCTGAAAGGGTGCCCGATAG\n",
      "Error : 'Seq' object does not support item assignment\n"
     ]
    },
    {
     "name": "stderr",
     "output_type": "stream",
     "text": [
      "/opt/conda/envs/bio/lib/python3.10/site-packages/Bio/Seq.py:2096: BiopythonDeprecationWarning: myseq.tomutable() is deprecated; please use MutableSeq(myseq) instead.\n",
      "  warnings.warn(\n",
      "/opt/conda/envs/bio/lib/python3.10/site-packages/Bio/Seq.py:2954: BiopythonDeprecationWarning: myseq.toseq() is deprecated; please use Seq(myseq) instead.\n",
      "  warnings.warn(\n"
     ]
    }
   ],
   "source": [
    "coding_dna = Seq('ATGGCCATTGTAATGGGCCGCTGAAAGGGTGCCCGATAG')\n",
    "\n",
    "## 원래의 Sequence 객체는 불변이지만, tomutable()을 통해 변하게 할 수 있다.\n",
    "try:\n",
    "    coding_dna[5] = 'C'\n",
    "except Exception as e:\n",
    "    print(f'TypeError : {e}')\n",
    "\n",
    "mutable_coding_dna = coding_dna.tomutable()\n",
    "mutable_coding_dna[5] = 'G'\n",
    "\n",
    "print(f'원본 dna :   {coding_dna} \\n변경된 dna : {mutable_coding_dna}')\n",
    "\n",
    "## mutable이 된 Sequence는 toseq()로 다시 immutable로 변경할 수 있다.\n",
    "immutable_coding_dna = mutable_coding_dna.toseq()\n",
    "try:\n",
    "    coding_dna[5] = 'C'\n",
    "except TypeError as te:\n",
    "    print(f'Error : {te}')    "
   ]
  },
  {
   "cell_type": "markdown",
   "id": "5525e2fb-8df6-4204-989a-989cd766e56f",
   "metadata": {},
   "source": [
    "#### **3-1. GC-content 구하기**\n",
    "\n",
    "-   GC-content(GC 함량)은 DNA 혹은 RNA에서의 구아닌과 사이토신의 백분율이다.\n",
    "    -   DNA에 GC 함량이 높을수록 안정적이다.\n",
    "-   응용  \n",
    "    -   분자 생물학  \n",
    "        중합효소 연쇄 반응(PCR)에서 프라이머로 알려진 짧은 올리고 뉴클레오티드의  \n",
    "        GC 함량은 종종 주형 DNA에 대한 융용 온도를 예측하는데 사용한다.\n",
    "    -   계통 분류학  \n",
    "        비진핵 생물 분류법에서 상위 계층적 분류에서 GC 비율의 사용을 권장함.\n",
    "-   sequence의 GC-content는 두 가지 방법으로 구할 수 있다.\n",
    "    -   ((sequence 안의 G의 갯수) + (sequence 안의 C의 갯수))\\*100 / (염기 서열의 길이)\n",
    "    -   biopython SeqUtils의 GC 함수 사용하기"
   ]
  },
  {
   "cell_type": "code",
   "execution_count": 12,
   "id": "a05bd1cc-da34-4d58-8ff4-93f6fa3549f4",
   "metadata": {},
   "outputs": [
    {
     "name": "stdout",
     "output_type": "stream",
     "text": [
      "G 갯수 : 160, C 갯수 : 136 \n",
      "전체 길이 : 592\n",
      "genbank sequence GC content : 50.0%\n",
      "genbank sequence GC content : 50.0%\n"
     ]
    }
   ],
   "source": [
    "## GC contents 계산 - count 메소드 이용\n",
    "content_G = genbank_seq.count(\"G\")\n",
    "content_C = genbank_seq.count(\"C\")\n",
    "\n",
    "print(f'G 갯수 : {content_G}, C 갯수 : {content_C} \\n전체 길이 : {len(genbank_seq)}')\n",
    "print(f'genbank sequence GC content : {(content_G + content_C) *100/ len(genbank_seq)}%')\n",
    "\n",
    "## GC contents 계산 - Bio.SeqUtils.GC 함수 사용\n",
    "from Bio.SeqUtils import GC\n",
    "print(f'genbank sequence GC content : {GC(genbank_seq)}%')"
   ]
  },
  {
   "cell_type": "markdown",
   "id": "3bb05a8e-3fcd-486e-812a-775925496e14",
   "metadata": {},
   "source": [
    "### **3-2. 염기서열의 상보, 역상보, 전사, 번역 과정 구현**\n",
    "\n",
    "-   **상보성( 相補性 / complementarity)**\n",
    "    -   DNA 복제 및 전사의 기본 원리로, 자물쇠와 열쇠 원리를 따르는 두 구조 사이의 관계를 설명\n",
    "    -   두 DNA 가닥 또는 RNA 가닥 서열 사이에 공유되는 특성\n",
    "    -   상보적인 염기쌍을 통해 세포는 한 세대에서 다른 세대로 유전정보를 복사\n",
    "    -   염기 서열에 저장된 정보의 손상을 찾아내 복구\n",
    "    -   아데닌 (A)와 티민 (T) 사이에는 2중 수소결합, 구아닌 (G)와 사이토신 (C)은 3중 수소 결합한다.  \n",
    "        (!) 전사과정에서 DNA의 아데닌은 RNA의 우라실 (U)과 결합한다.\n",
    "-   **전사( 傳寫 /transcription )**  \n",
    "    -   DNA에 적혀 있는 유전정보를 mRNA(messenger RNA)로 옮기는 과정\n",
    "    -   DNA의 한 쪽 가닥만을 정보로 삼아 옮겨적고 RNA가 합성된 이후 DNA는 복구된다.\n",
    "    -   원핵세포 : 전사된 mRNA 그대로 번역과정으로 넘어감  \n",
    "        진핵세포 : 중간에 끼어있는 인트론을 제거하고 엑손만을 남겨야 하므로 mRNA를 가공하는 과정을 거침.\n",
    "-   **번역( translation)**  \n",
    "    -   DNA로부터 복제된 mRNA의 염기서열을 단백질의 아미노산 배열로 고쳐 쓰는 작업\n",
    "    -   세포질 내의 리보솜에서 일어나며, mRNA의 정보(코돈)을 근거로 상보적으로 결합할 수 있는  \n",
    "        tRNA(transfer RNA)가 날아오는 아미노산들을 차례차례 연결시켜 단백질을 합성."
   ]
  },
  {
   "cell_type": "code",
   "execution_count": 13,
   "id": "80f968fb-44a1-459a-afd7-79e9c1702f00",
   "metadata": {},
   "outputs": [
    {
     "name": "stdout",
     "output_type": "stream",
     "text": [
      "원본 염기서열 : ATGGCCATTGTAATGGGCCGCTGAAAGGGTGCCCGATAG \n",
      "역상보 염기서열 : CTATCGGGCACCCTTTCAGCGGCCCATTACAATGGCCAT \n",
      "\n",
      "상보 염기서열 : TACCGGTAACATTACCCGGCGACTTTCCCACGGGCTATC \n",
      "mRNA : AUGGCCAUUGUAAUGGGCCGCUGAAAGGGUGCCCGAUAG\n",
      "번역된 단백질 : MAIVMGR*KGAR*\n"
     ]
    }
   ],
   "source": [
    "## DNA의 전사과정 보기\n",
    "coding_dna = Seq('ATGGCCATTGTAATGGGCCGCTGAAAGGGTGCCCGATAG')\n",
    "\n",
    "## 역상보 염기서열\n",
    "reverse_complement = coding_dna.reverse_complement()\n",
    "\n",
    "## conding_dna를 전사한 messenger RNA\n",
    "mRNA = coding_dna.transcribe()\n",
    "\n",
    "print(f'원본 염기서열 : {coding_dna} \\n역상보 염기서열 : {reverse_complement} \\n')\n",
    "print(f'상보 염기서열 : {coding_dna.complement()} \\nmRNA : {mRNA}')\n",
    "\n",
    "## mRNA 번역\n",
    "#! 번역된 문자열에서 *는 단백질 번역 과정이 끝나는 종결 코돈이다.\n",
    "tRNA = mRNA.translate()\n",
    "print(f'번역된 단백질 : {tRNA}')\n"
   ]
  },
  {
   "cell_type": "markdown",
   "id": "a758e2c6-aeb0-48b8-9422-6d6af4fc0d07",
   "metadata": {},
   "source": [
    "### **(!) Python String형 객체의 전사, 번역**\n",
    "\n",
    "-   python String형 객체를 이용한 전사, 번역 과정을 구현하기 위해서는  \n",
    "    biopython 패키지의 함수들을 이용해야한다."
   ]
  },
  {
   "cell_type": "code",
   "execution_count": 14,
   "id": "adf84c41-4732-4b4f-b86c-593077292819",
   "metadata": {},
   "outputs": [
    {
     "name": "stdout",
     "output_type": "stream",
     "text": [
      "무슨 dna지? : ???????????????????? \n",
      "\n",
      "원본 sequence 타입 : <class 'Bio.Seq.Seq'> \n",
      "string sequence 타입 : <class 'str'>\n",
      "\n",
      "DNA string : GCTGTTATGGGTCGTTGGAAGGGTGGTCGTGCTGCTGGTTAG \n",
      "역상보 string : CTAACCAGCAGCACGACCACCCTTCCAACGACCCATAACAGC \n",
      "\n",
      "mRNA string : GCUGUUAUGGGUCGUUGGAAGGGUGGUCGUGCUGCUGGUUAG \n",
      "번역된 mRNA : AVMGRWKGGRAAG*\n"
     ]
    },
    {
     "name": "stderr",
     "output_type": "stream",
     "text": [
      "/opt/conda/envs/bio/lib/python3.10/site-packages/Bio/Seq.py:2220: BiopythonDeprecationWarning: UnknownSeq(length) is deprecated; please use Seq(None, length) instead.\n",
      "  warnings.warn(\n"
     ]
    }
   ],
   "source": [
    "## 정확히 어떤 염기인지 모를떄 UnkownSeq를 이용해 ?로 채움.\n",
    "from Bio.Seq import UnknownSeq\n",
    "unk_dna = UnknownSeq(20)\n",
    "print(f'무슨 dna지? : {unk_dna} \\n')\n",
    "\n",
    "## Sequence 객체 파이썬 String으로 변환\n",
    "string_seq = str(genbank_seq)\n",
    "print(f'원본 sequence 타입 : {type(genbank_seq)} \\nstring sequence 타입 : {type(string_seq)}\\n')\n",
    "\n",
    "## python string 형으로 전사, 번역 과정 시행\n",
    "from Bio.Seq import reverse_complement, transcribe, translate\n",
    "test_string = \"GCTGTTATGGGTCGTTGGAAGGGTGGTCGTGCTGCTGGTTAG\"\n",
    "recv_comp = reverse_complement(test_string)\n",
    "mRNA = transcribe(test_string)\n",
    "translate_mRNA = translate(mRNA)\n",
    "\n",
    "print(f'DNA string : {test_string} \\n역상보 string : {recv_comp} \\n')\n",
    "print(f'mRNA string : {mRNA} \\n번역된 mRNA : {translate_mRNA}')\n",
    "                          "
   ]
  },
  {
   "cell_type": "markdown",
   "id": "ea1a6113-fa14-418a-9297-f7c0b64ebd2b",
   "metadata": {},
   "source": [
    "### **3-3. 코돈 테이블** \n",
    "\n",
    "-   **코돈 (Codon)**\n",
    "    -   번역 과정에서 mRNA의 염기서열 3개가 하나로 묶여 한 개의 아미노산을 구성한다.\n",
    "    -   이 3개 염기의 조합을 트리플렛 코드라 부르며, 코돈 이라는 단위로 나타낸다.\n",
    "    -   단백질 합성 (번역 개시) 신호를 의미하는 개시 코돈 (Start Codon) : AUG  \n",
    "        번역 종료 신호를 의미하는 종료 코돈 (Stop Codon) : UAA, UGA, UAG  \n",
    "        (!) 유기체에 따라 시작 코돈으로 GUG 또는 UUG가 포함된다.\n",
    "-   코돈 테이블 \n",
    "    -   3개 염기로 생성될 수 있는 조합들을 모아둔 표.\n",
    "    -   유전자 코드를 아미노산 서열로 번역하는데 사용"
   ]
  },
  {
   "cell_type": "code",
   "execution_count": 15,
   "id": "6114d948-4964-4a57-8a8b-abd8741e0488",
   "metadata": {},
   "outputs": [
    {
     "name": "stdout",
     "output_type": "stream",
     "text": [
      "Table 1 Standard, SGC0\n",
      "\n",
      "  |  T      |  C      |  A      |  G      |\n",
      "--+---------+---------+---------+---------+--\n",
      "T | TTT F   | TCT S   | TAT Y   | TGT C   | T\n",
      "T | TTC F   | TCC S   | TAC Y   | TGC C   | C\n",
      "T | TTA L   | TCA S   | TAA Stop| TGA Stop| A\n",
      "T | TTG L(s)| TCG S   | TAG Stop| TGG W   | G\n",
      "--+---------+---------+---------+---------+--\n",
      "C | CTT L   | CCT P   | CAT H   | CGT R   | T\n",
      "C | CTC L   | CCC P   | CAC H   | CGC R   | C\n",
      "C | CTA L   | CCA P   | CAA Q   | CGA R   | A\n",
      "C | CTG L(s)| CCG P   | CAG Q   | CGG R   | G\n",
      "--+---------+---------+---------+---------+--\n",
      "A | ATT I   | ACT T   | AAT N   | AGT S   | T\n",
      "A | ATC I   | ACC T   | AAC N   | AGC S   | C\n",
      "A | ATA I   | ACA T   | AAA K   | AGA R   | A\n",
      "A | ATG M(s)| ACG T   | AAG K   | AGG R   | G\n",
      "--+---------+---------+---------+---------+--\n",
      "G | GTT V   | GCT A   | GAT D   | GGT G   | T\n",
      "G | GTC V   | GCC A   | GAC D   | GGC G   | C\n",
      "G | GTA V   | GCA A   | GAA E   | GGA G   | A\n",
      "G | GTG V   | GCG A   | GAG E   | GGG G   | G\n",
      "--+---------+---------+---------+---------+-- \n",
      "\n",
      "Table 2 Vertebrate Mitochondrial, SGC1\n",
      "\n",
      "  |  T      |  C      |  A      |  G      |\n",
      "--+---------+---------+---------+---------+--\n",
      "T | TTT F   | TCT S   | TAT Y   | TGT C   | T\n",
      "T | TTC F   | TCC S   | TAC Y   | TGC C   | C\n",
      "T | TTA L   | TCA S   | TAA Stop| TGA W   | A\n",
      "T | TTG L   | TCG S   | TAG Stop| TGG W   | G\n",
      "--+---------+---------+---------+---------+--\n",
      "C | CTT L   | CCT P   | CAT H   | CGT R   | T\n",
      "C | CTC L   | CCC P   | CAC H   | CGC R   | C\n",
      "C | CTA L   | CCA P   | CAA Q   | CGA R   | A\n",
      "C | CTG L   | CCG P   | CAG Q   | CGG R   | G\n",
      "--+---------+---------+---------+---------+--\n",
      "A | ATT I(s)| ACT T   | AAT N   | AGT S   | T\n",
      "A | ATC I(s)| ACC T   | AAC N   | AGC S   | C\n",
      "A | ATA M(s)| ACA T   | AAA K   | AGA Stop| A\n",
      "A | ATG M(s)| ACG T   | AAG K   | AGG Stop| G\n",
      "--+---------+---------+---------+---------+--\n",
      "G | GTT V   | GCT A   | GAT D   | GGT G   | T\n",
      "G | GTC V   | GCC A   | GAC D   | GGC G   | C\n",
      "G | GTA V   | GCA A   | GAA E   | GGA G   | A\n",
      "G | GTG V(s)| GCG A   | GAG E   | GGG G   | G\n",
      "--+---------+---------+---------+---------+--\n"
     ]
    }
   ],
   "source": [
    "## 코돈 테이블\n",
    "## mRNA는 번역 과정에서 코돈테이블에 맞는 아미노산으로 번역된다.\n",
    "from Bio.Data import CodonTable\n",
    "\n",
    "## 표준 코돈 테이블 \n",
    "standard_table = CodonTable.unambiguous_dna_by_name['Standard']\n",
    "print(standard_table, '\\n')\n",
    "\n",
    "## Vertebrate Mitochondrial 코돈 테이블\n",
    "mito_table = CodonTable.unambiguous_dna_by_name['Vertebrate Mitochondrial']\n",
    "print(mito_table)"
   ]
  },
  {
   "cell_type": "code",
   "execution_count": 16,
   "id": "d900f3dd-57df-40bf-a632-ca89f24244eb",
   "metadata": {},
   "outputs": [
    {
     "name": "stdout",
     "output_type": "stream",
     "text": [
      "개시 코돈 : ['ATT', 'ATC', 'ATA', 'ATG', 'GTG'] \n",
      "종결 코돈 : ['TAA', 'TAG', 'AGA', 'AGG']\n"
     ]
    }
   ],
   "source": [
    "## Vertebrate Mitochondrial의 개시 코돈\n",
    "init_codon = mito_table.start_codons\n",
    "\n",
    "## Vertebrate Mitochondrial의 종결 코돈\n",
    "stop_codon = mito_table.stop_codons\n",
    "\n",
    "print(f'개시 코돈 : {init_codon} \\n종결 코돈 : {stop_codon}')"
   ]
  },
  {
   "cell_type": "markdown",
   "id": "026e8fd3-1176-4750-be82-67d624d46225",
   "metadata": {},
   "source": [
    "### **3-3. ORF ( Open Record Frame )**\n",
    "\n",
    "-   개시 코돈에서부터 종결코돈까지 3배수로 구성된 염기서열\n",
    "-   ORF 들에서 실제로 단백질로 번역되는 ORF를 CDS (Coding Sequence)라고 한다."
   ]
  },
  {
   "cell_type": "code",
   "execution_count": 17,
   "id": "d439827b-7835-439d-b1aa-f49849dc3a91",
   "metadata": {},
   "outputs": [
    {
     "name": "stdout",
     "output_type": "stream",
     "text": [
      "테스트 amino acid sequence의 ORF : ATGCAGTAG\n",
      "ORF의 무게 : 2842.8206999999993\n"
     ]
    }
   ],
   "source": [
    "tata_seq = Seq(\"TATAAAGGCAATATGCAGTAGGCAAAGGCAACGGAAGGCCGGAAAAAGGCCATGCCCGGTGGGTTTTCCCCAGCGTGACCCGGAAAACCTGAGGAACCC\")\n",
    "\n",
    "## 시작 코돈의 위치\n",
    "start_idx = tata_seq.find('ATG')\n",
    "\n",
    "## 시작 코돈 이후 종결 코돈의 위치\n",
    "end_idx = tata_seq.find('TAG', start_idx)\n",
    " \n",
    "## open record frame\n",
    "## 종결 코돈이 시작하는 인덱스 ~ 3칸 뒤의 염기 서열까지\n",
    "orf = tata_seq[start_idx: end_idx + 3]\n",
    "print(f'테스트 amino acid sequence의 ORF : {orf}')\n",
    "print(f'ORF의 무게 : {molecular_weight(orf)}')"
   ]
  },
  {
   "cell_type": "markdown",
   "id": "bf5ba9e0-2d6a-4b2a-b313-071557900bf4",
   "metadata": {
    "tags": []
   },
   "source": [
    "#### **(!) Six-frame translations**\n",
    "\n",
    "-   DNA 이중나선은 두 가닥의 서열이 서로 상보적으로 연결되어 있고, 염기서열 3개씩 읽어 전사\n",
    "    -   두 가닥의 서열은 서로 구분되는 6개의 ORF를 가진다."
   ]
  },
  {
   "cell_type": "code",
   "execution_count": 18,
   "id": "07b716ac-1ad9-41f5-acf8-6bad732b63b6",
   "metadata": {},
   "outputs": [
    {
     "name": "stdout",
     "output_type": "stream",
     "text": [
      "dummy sequence six frame translation\n",
      "----------------------------------------------------------\n",
      "GC_Frame: a:6 t:6 g:4 c:2\n",
      "Sequence: atgccttgaaatgtatag, 18 nt, 33.33 %GC\n",
      "\n",
      "\n",
      "1/1\n",
      "  A  L  K  C  I\n",
      " C  L  E  M  Y\n",
      "M  P  *  N  V  *\n",
      "atgccttgaaatgtatag   33 %\n",
      "tacggaactttacatatc\n",
      "G  Q  F  T  Y\n",
      " H  R  S  I  Y  L\n",
      "  A  K  F  H  I\n",
      "\n",
      "\n",
      "\n",
      "\n",
      "tata sequence six frame translation\n",
      "----------------------------------------------------------\n",
      "GC_Frame: a:31 t:13 g:30 c:25\n",
      "Sequence: tataaaggca ... tgaggaaccc, 99 nt, 55.56 %GC\n",
      "\n",
      "\n",
      "1/1\n",
      "  *  R  Q  Y  A  V  G  K  G  N  G  R  P  E  K  G  H  A  R  W\n",
      " I  K  A  I  C  S  R  Q  R  Q  R  K  A  G  K  R  P  C  P  V\n",
      "Y  K  G  N  M  Q  *  A  K  A  T  E  G  R  K  K  A  M  P  G\n",
      "tataaaggcaatatgcagtaggcaaaggcaacggaaggccggaaaaaggccatgcccggt   51 %\n",
      "atatttccgttatacgtcatccgtttccgttgccttccggcctttttccggtacgggcca\n",
      "L  P  L  I  C  Y  A  F  A  V  S  P  R  F  F  A  M  G  P  P\n",
      " I  F  A  I  H  L  L  C  L  C  R  F  A  P  F  L  G  H  G  T\n",
      "  Y  L  C  Y  A  T  P  L  P  L  P  L  G  S  F  P  W  A  R  H\n",
      "\n",
      "61/21\n",
      "  V  F  P  S  V  T  R  K  T  *  G  T\n",
      " G  F  P  Q  R  D  P  E  N  L  R  N\n",
      "G  F  S  P  A  *  P  G  K  P  E  E  P\n",
      "gggttttccccagcgtgacccggaaaacctgaggaaccc   61 %\n",
      "cccaaaaggggtcgcactgggccttttggactccttggg\n",
      "N  E  G  A  H  G  P  F  G  S  S  G\n",
      " P  K  G  W  R  S  G  S  F  R  L  F  G\n",
      "  T  K  G  L  T  V  R  F  V  Q  P  V\n",
      "\n",
      "\n",
      "\n",
      "\n"
     ]
    }
   ],
   "source": [
    "## DNA 서열에서 가능한 모든 6개의 번역된 서열 구하기\n",
    "from Bio.SeqUtils import six_frame_translations, GC\n",
    "\n",
    "dummy_seq = Seq('ATGCCTTGAAATGTATAG')\n",
    "print(f'dummy sequence six frame translation\\n{\"-\"*58}\\n{six_frame_translations(dummy_seq)}\\n\\n')\n",
    "print(f'tata sequence six frame translation\\n{\"-\"*58}\\n{six_frame_translations(tata_seq)}\\n\\n')"
   ]
  },
  {
   "cell_type": "markdown",
   "id": "4ebc5481-0f21-4ebf-b2f3-1a7bce846005",
   "metadata": {},
   "source": [
    "### **3-4. 아미노산 서열의 약자와 기호간 변환**\n",
    "\n",
    "-   아미노산 서열을 표현하는 방법은 다음과 같다.\n",
    "\n",
    "| 아미노산 | 영어 이름 | 기호 | 약자 |\n",
    "| --- | --- | --- | --- |\n",
    "| 알라닌 | Alanine | Ala | A |\n",
    "| 시스테인 | Cysteine | Cys | C |\n",
    "| 아스파르트산 | Aspartic acid | Asp | D |\n",
    "| 글루탐산 | Glutamic acid | Glu | E |\n",
    "| 페닐알라닌 | Phenylalanine | Phe | F |\n",
    "| 글라이신 | Glycine | Gly | G |\n",
    "| 히스티딘 | Histidine | His | H |\n",
    "| 아이소류신 | Isoleucine | Ile | I |\n",
    "| 라이신 | Lysine | Lys | K |\n",
    "| 류신 | Leucine | Leu | L |\n",
    "| 메티오닌 | Methionine | Met | M |\n",
    "| 아스파라긴 | Asparagine | Asn | N |\n",
    "| 피롤라이신 | Pyrrolysine | Ply | O |\n",
    "| 프롤린 | Proline | Pro | P |\n",
    "| 글루타민 | Glutamine | Gln | Q |\n",
    "| 아르기닌 | Arginine | Arg | R |\n",
    "| 세린 | Serine | Ser | S |\n",
    "| 트레오닌 | Threonine | Thr | T |\n",
    "| 셀레노시스테인 | Selenocysteine | Sec | U |\n",
    "| 발린 | Valin | Val | V |\n",
    "| 트립토판 | Tryptophan | Trp | W |\n",
    "| 타이로신 | Tyrosine | Tyr | Y |"
   ]
  },
  {
   "cell_type": "code",
   "execution_count": 19,
   "id": "cbc7e96a-8b59-48d7-9c81-49fab04ecf82",
   "metadata": {},
   "outputs": [
    {
     "name": "stdout",
     "output_type": "stream",
     "text": [
      "원본 아미노산 고리 : IFPLYVIRFRCLPAFFRYGPPKRGRTGPFGLLG\n",
      "기호 아미노산 고리 : IlePheProLeuTyrValIleArgPheArgCysLeuProAlaPhePheArgTyrGlyProProLysArgGlyArgThrGlyProPheGlyLeuLeuGly, 99, 33\n",
      "약자 아미노산 고리 : IFPLYVIRFRCLPAFFRYGPPKRGRTGPFGLLG, 33\n"
     ]
    }
   ],
   "source": [
    "## 아미노산 서열을 약자와 기호간 변환하기\n",
    "from Bio.SeqUtils import seq1, seq3\n",
    "\n",
    "## DNA의 번역, 전사 과정\n",
    "comp_tata_seq = tata_seq.complement()\n",
    "mRNA = comp_tata_seq.transcribe()\n",
    "tRNA = mRNA.translate(to_stop = True)\n",
    "\n",
    "## 약자 => 기호\n",
    "protein_3 = seq3(tRNA)\n",
    "\n",
    "## 기호 => 약자\n",
    "protein_1 = seq1(protein_3)\n",
    "print(f'원본 아미노산 고리 : {tRNA}')\n",
    "print(f'기호 아미노산 고리 : {protein_3}, {len(protein_3)}, {len(protein_3) // 3}')\n",
    "print(f'약자 아미노산 고리 : {protein_1}, {len(protein_1)}')"
   ]
  },
  {
   "cell_type": "markdown",
   "id": "f03c5d45-fe60-4397-8c6a-801c4dbb3f2a",
   "metadata": {},
   "source": [
    "## 교재에 나온 연습 문제 풀어보기\n",
    "1. aagtGACAGggatTG를 Sequence 객체로 만들어 대문자로 변환하라"
   ]
  },
  {
   "cell_type": "code",
   "execution_count": 20,
   "id": "51cd88fd-4124-4a25-8c4c-46120a500416",
   "metadata": {},
   "outputs": [
    {
     "name": "stdout",
     "output_type": "stream",
     "text": [
      "정답 : AAGTGACAGGGATTG\n"
     ]
    }
   ],
   "source": [
    "seq = Seq('aagtGACAGggatTG').upper()\n",
    "print(f'정답 : {seq}')"
   ]
  },
  {
   "cell_type": "markdown",
   "id": "fdfd2c97-e0b1-41df-ba91-3363a88c4a30",
   "metadata": {},
   "source": [
    "2. 다음 서열을 첫 번째 종결 코돈까지 번역하라  \n",
    "   서열 : AAGTGACAGGGATTG"
   ]
  },
  {
   "cell_type": "code",
   "execution_count": 21,
   "id": "95eaca6a-1afe-4c3d-bb02-31dd8cd29c58",
   "metadata": {},
   "outputs": [
    {
     "name": "stdout",
     "output_type": "stream",
     "text": [
      "정답 : K\n"
     ]
    }
   ],
   "source": [
    "comp_seq = Seq('AAGTGACAGGGATTG')\n",
    "tRNA = comp_seq.translate(to_stop = True)\n",
    "\n",
    "print(f'정답 : {tRNA}')"
   ]
  },
  {
   "cell_type": "markdown",
   "id": "f052752f-0e0e-42ed-936a-4e3fbbf7ca87",
   "metadata": {},
   "source": [
    "3. 다음 서열의 역상보 서열의 GC-content와 녹는점을 계산하시오.  \n",
    "   서열 : AAGTGACAGGGATTG"
   ]
  },
  {
   "cell_type": "code",
   "execution_count": 22,
   "id": "ce3945e4-a113-40da-85d8-0754b210fce9",
   "metadata": {},
   "outputs": [
    {
     "name": "stdout",
     "output_type": "stream",
     "text": [
      "정답 \n",
      "역상보 서열 : CAATCCCTGTCACTT \n",
      "GC-content : 46.666666666666664 \n",
      "녹는점      : 44.0\n"
     ]
    }
   ],
   "source": [
    "from Bio.SeqUtils import GC, MeltingTemp\n",
    "rev_comp_seq = Seq('AAGTGACAGGGATTG').reverse_complement()\n",
    "\n",
    "print(f'정답 \\n역상보 서열 : {rev_comp_seq} \\nGC-content : {GC(rev_comp_seq)} \\n녹는점      : {MeltingTemp.Tm_Wallace(rev_comp_seq)}')"
   ]
  },
  {
   "cell_type": "markdown",
   "id": "efb3c6cb-ab96-4642-b858-266c237cd212",
   "metadata": {},
   "source": [
    "4. Biopython의 코돈 테이블을 참고하여 인간과 미토콘드리아의 종결 코돈을 알아보시오."
   ]
  },
  {
   "cell_type": "code",
   "execution_count": 23,
   "id": "3167a84f-5f41-443e-a8e2-fe2040df230a",
   "metadata": {},
   "outputs": [
    {
     "name": "stdout",
     "output_type": "stream",
     "text": [
      "정답 \n",
      "사람의 종결 코돈 : ['TAA', 'TAG', 'TGA', 'TAR', 'TRA']\n"
     ]
    }
   ],
   "source": [
    "from Bio.Data import CodonTable\n",
    "\n",
    "mankind_condon_table = CodonTable.ambiguous_dna_by_name['Standard']\n",
    "print(f'정답 \\n사람의 종결 코돈 : {mankind_condon_table.stop_codons}')"
   ]
  },
  {
   "cell_type": "code",
   "execution_count": null,
   "id": "8ebeb86d-0c13-4c11-ba0d-5995636421d4",
   "metadata": {},
   "outputs": [],
   "source": []
  }
 ],
 "metadata": {
  "kernelspec": {
   "display_name": "bio",
   "language": "python",
   "name": "bio"
  },
  "language_info": {
   "codemirror_mode": {
    "name": "ipython",
    "version": 3
   },
   "file_extension": ".py",
   "mimetype": "text/x-python",
   "name": "python",
   "nbconvert_exporter": "python",
   "pygments_lexer": "ipython3",
   "version": "3.10.8"
  }
 },
 "nbformat": 4,
 "nbformat_minor": 5
}
