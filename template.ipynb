{
 "cells": [
  {
   "cell_type": "markdown",
   "id": "647dfb5f-30fa-4433-b475-063c0a8d879e",
   "metadata": {},
   "source": [
    "# **0. 참고자료**\n",
    "## **0-1. 도서**\n",
    "## **0-2. 논문, 학술지**\n",
    "## **0-3. 웹 사이트**\n",
    "- yg's blog : [ML] 은닉 마르코프 모델 (Hidden Markov Model, HMM) | [[블로그 링크]](https://yganalyst.github.io/ml/hmm/)\n",
    "- ratsgo's blog : 은닉마르코프모델 (Hidden Markov Models) | [[블로그 링크]](https://ratsgo.github.io/machine%20learning/2017/03/18/HMMs/)\n",
    "- Untitled : [머신 러닝] - 은닉 마르코프 모델 (Hidden Markov Model, HMM) | [[블로그 링크]](https://untitledtblog.tistory.com/97)\n",
    "\n",
    "## **0-4. 데이터셋 출처**\n",
    "\n",
    "***\n",
    "# **1. 은닉 마르코프 모델 (Hidden Markov Model / HMM)**\n",
    "## **1-1. 마르코프 모델 (Markov Model, MM)이란**\n",
    "\n",
    "- 마르코프 체인 (Markov Chain, MC)이라고도 하며 마르코프 성질(Markov Property)을 가진 이산확률과정(discrete-time stochastic process)를 의미한다.\n",
    "\n",
    "    > 1. 이산 확률 과정 (discrete-time stochastic process)  \n",
    "        $$→ 시간이\\;연속적으로\\;변하지\\;않고\\;이산적으로\\;변하며,\\;이에\\;따라\\;특정\\;상태가\\;발생할\\;확률이\\;변화하는\\;과정$$\n",
    "    > 2. 마르코프 성질 (Markov Property)   \n",
    "        $$\n",
    "        → 미래의\\;상태({o}_{t})는\\;오직\\;현재의\\; 상태({o}_{t-1})\\;혹은\\;더\\;이전의\\;일정기간\\;({o}_{t - 2}, {o}_{t - 3})에만 영향을 받는다고 가정 \\\\즉,\\;미래의\\;어떤\\;상태를\\;예측하기\\;위해\\;과거의\\;긴\\;이력을\\;필요로\\;하지\\;않는\\;성질(memoryless)\n",
    "        $$"
   ]
  },
  {
   "cell_type": "code",
   "execution_count": null,
   "id": "2971da9b-bd86-419e-b8e7-9d58bc2501c4",
   "metadata": {},
   "outputs": [],
   "source": []
  },
  {
   "cell_type": "code",
   "execution_count": null,
   "id": "7e55f913-6b3b-4733-9d41-d7ba95490b5a",
   "metadata": {},
   "outputs": [],
   "source": []
  }
 ],
 "metadata": {
  "kernelspec": {
   "display_name": "dove",
   "language": "python",
   "name": "dove"
  },
  "language_info": {
   "codemirror_mode": {
    "name": "ipython",
    "version": 3
   },
   "file_extension": ".py",
   "mimetype": "text/x-python",
   "name": "python",
   "nbconvert_exporter": "python",
   "pygments_lexer": "ipython3",
   "version": "3.8.13"
  }
 },
 "nbformat": 4,
 "nbformat_minor": 5
}
