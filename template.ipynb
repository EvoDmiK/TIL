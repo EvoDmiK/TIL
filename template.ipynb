{
 "cells": [
  {
   "cell_type": "markdown",
   "id": "647dfb5f-30fa-4433-b475-063c0a8d879e",
   "metadata": {
    "tags": []
   },
   "source": [
    "# **0. Table of Content**\n",
    "\n",
    "***\n",
    "# **1.**\n",
    "  "
   ]
  },
  {
   "cell_type": "code",
   "execution_count": null,
   "id": "4972ec3c-fd80-4318-8eb6-fe798e9d83ee",
   "metadata": {},
   "outputs": [],
   "source": []
  },
  {
   "cell_type": "code",
   "execution_count": null,
   "id": "8148755d-1d8c-46f7-a5ed-a8dfd02b252a",
   "metadata": {},
   "outputs": [],
   "source": []
  },
  {
   "cell_type": "code",
   "execution_count": null,
   "id": "4fe5e4ad-7cf9-48ea-9ac9-3e20667ffb03",
   "metadata": {},
   "outputs": [],
   "source": []
  },
  {
   "cell_type": "code",
   "execution_count": null,
   "id": "2ca7ae08-91d3-4294-b443-b408637d16a0",
   "metadata": {},
   "outputs": [],
   "source": []
  },
  {
   "cell_type": "code",
   "execution_count": null,
   "id": "20d29b59-9b00-4861-82fc-874133ea989f",
   "metadata": {},
   "outputs": [],
   "source": []
  },
  {
   "cell_type": "markdown",
   "id": "a5294dd2-caf3-48a9-a564-842278ccf367",
   "metadata": {},
   "source": [
    "# **99. 참고자료**\n",
    "## **99-1. 도서**\n",
    "## **99-2. 논문, 학술지**\n",
    "## **99-3. 웹 사이트**\n",
    "## **99-4. 데이터셋 출처**\n",
    "## **99-5. 더 알아보기**"
   ]
  },
  {
   "cell_type": "markdown",
   "id": "4a24a7c4-b0ce-4c10-9fc0-3ee106e379b5",
   "metadata": {},
   "source": []
  },
  {
   "cell_type": "code",
   "execution_count": null,
   "id": "40a58f12-fae8-4fb3-be55-d68e37090f90",
   "metadata": {},
   "outputs": [],
   "source": []
  }
 ],
 "metadata": {
  "kernelspec": {
   "display_name": "dove",
   "language": "python",
   "name": "dove"
  },
  "language_info": {
   "codemirror_mode": {
    "name": "ipython",
    "version": 3
   },
   "file_extension": ".py",
   "mimetype": "text/x-python",
   "name": "python",
   "nbconvert_exporter": "python",
   "pygments_lexer": "ipython3",
   "version": "3.8.13"
  }
 },
 "nbformat": 4,
 "nbformat_minor": 5
}
