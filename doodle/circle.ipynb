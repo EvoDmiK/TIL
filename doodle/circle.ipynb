{
 "cells": [
  {
   "cell_type": "code",
   "execution_count": 1,
   "id": "3e47bb76-c36b-443e-af62-7ad2e0b375ed",
   "metadata": {},
   "outputs": [],
   "source": [
    "import matplotlib.pyplot as plt\n",
    "import numpy as np"
   ]
  },
  {
   "cell_type": "code",
   "execution_count": 9,
   "id": "1acef94f-3652-40ae-b9b4-ecc82c721a3e",
   "metadata": {},
   "outputs": [],
   "source": [
    "make_circle = lambda r, theta: r*(np.sin(theta) + np.cos(theta))"
   ]
  },
  {
   "cell_type": "code",
   "execution_count": 11,
   "id": "241b9ca0-755c-4574-a031-d72488251e35",
   "metadata": {},
   "outputs": [],
   "source": [
    "theta  = np.arange(-2*np.pi, 2*np.pi, np.pi / 6)\n",
    "circle = make_circle(1, theta)"
   ]
  },
  {
   "cell_type": "code",
   "execution_count": 13,
   "id": "d6686303-4008-401c-af04-faa84cad07eb",
   "metadata": {},
   "outputs": [
    {
     "ename": "TypeError",
     "evalue": "scatter() missing 1 required positional argument: 'y'",
     "output_type": "error",
     "traceback": [
      "\u001b[0;31m---------------------------------------------------------------------------\u001b[0m",
      "\u001b[0;31mTypeError\u001b[0m                                 Traceback (most recent call last)",
      "Cell \u001b[0;32mIn [13], line 1\u001b[0m\n\u001b[0;32m----> 1\u001b[0m \u001b[43mplt\u001b[49m\u001b[38;5;241;43m.\u001b[39;49m\u001b[43mscatter\u001b[49m\u001b[43m(\u001b[49m\u001b[43mcircle\u001b[49m\u001b[43m)\u001b[49m\n",
      "\u001b[0;31mTypeError\u001b[0m: scatter() missing 1 required positional argument: 'y'"
     ]
    }
   ],
   "source": [
    "plt.scatter(circle)"
   ]
  },
  {
   "cell_type": "code",
   "execution_count": null,
   "id": "76cd681b-e47a-4ea0-af07-d10635493f64",
   "metadata": {},
   "outputs": [],
   "source": []
  }
 ],
 "metadata": {
  "kernelspec": {
   "display_name": "dove",
   "language": "python",
   "name": "dove"
  },
  "language_info": {
   "codemirror_mode": {
    "name": "ipython",
    "version": 3
   },
   "file_extension": ".py",
   "mimetype": "text/x-python",
   "name": "python",
   "nbconvert_exporter": "python",
   "pygments_lexer": "ipython3",
   "version": "3.8.13"
  }
 },
 "nbformat": 4,
 "nbformat_minor": 5
}
