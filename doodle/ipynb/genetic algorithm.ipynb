{
 "cells": [
  {
   "cell_type": "code",
   "execution_count": 1,
   "id": "f7504097-3f6c-4cb5-99e1-b1a3571bd35a",
   "metadata": {},
   "outputs": [],
   "source": [
    "import random"
   ]
  },
  {
   "cell_type": "code",
   "execution_count": 4,
   "id": "cff8e2bc-0446-42a3-9c45-df1609dee38e",
   "metadata": {},
   "outputs": [],
   "source": [
    "# 문제 정의\n",
    "string_length = 100\n",
    "\n",
    "# 초기 해집단 생성\n",
    "def generate_initial_population(population_size):\n",
    "    population = []\n",
    "    for i in range(population_size):\n",
    "        individual = ''.join(random.choice(['0', '1']) for _ in range(string_length))\n",
    "        population.append(individual)\n",
    "    return population\n",
    "\n",
    "# 적합도 함수 정의\n",
    "def fitness_function(individual):\n",
    "    return individual.count('1')\n",
    "\n",
    "# 선택 연산자 (룰렛 휠 선택)\n",
    "def roulette_wheel_selection(population, fitnesses, num_parents):\n",
    "    parents = []\n",
    "    total_fitness = sum(fitnesses)\n",
    "    fitness_probs = [fitness / total_fitness for fitness in fitnesses]\n",
    "    while len(parents) < num_parents:\n",
    "        r = random.random()\n",
    "        for i, individual in enumerate(population):\n",
    "            r -= fitness_probs[i]\n",
    "            if r <= 0:\n",
    "                parents.append(individual)\n",
    "                break\n",
    "    return parents\n",
    "\n",
    "# 교차 연산자 (한 지점 교차)\n",
    "def single_point_crossover(parents):\n",
    "    crossover_point = random.randint(1, string_length - 1)\n",
    "    child1 = parents[0][:crossover_point] + parents[1][crossover_point:]\n",
    "    child2 = parents[1][:crossover_point] + parents[0][crossover_point:]\n",
    "    return [child1, child2]\n",
    "\n",
    "# 변이 연산자\n",
    "def mutation(individual, mutation_prob):\n",
    "    mutated_individual = \"\"\n",
    "    for i in range(string_length):\n",
    "        if random.random() < mutation_prob:\n",
    "            mutated_individual += '0' if individual[i] == '1' else '1'\n",
    "        else:\n",
    "            mutated_individual += individual[i]\n",
    "    return mutated_individual\n",
    "\n",
    "# 알고리즘 수행\n",
    "def genetic_algorithm(population_size, num_parents, num_generations, mutation_prob):\n",
    "    population = generate_initial_population(population_size)\n",
    "    for generation in range(num_generations):\n",
    "        fitnesses = [fitness_function(individual) for individual in population]\n",
    "        parents = roulette_wheel_selection(population, fitnesses, num_parents)\n",
    "        new_population = []\n",
    "        for i in range(population_size // 2):\n",
    "            children = single_point_crossover(parents)\n",
    "            child1 = mutation(children[0], mutation_prob)\n",
    "            child2 = mutation(children[1], mutation_prob)\n",
    "            new_population.append(child1)\n",
    "            new_population.append(child2)\n",
    "        population = new_population\n",
    "    best_individual = max(population, key=fitness_function)\n",
    "    return best_individual\n"
   ]
  },
  {
   "cell_type": "code",
   "execution_count": 5,
   "id": "a9580e4e-d7ba-4581-b65a-9a09c2a1eb73",
   "metadata": {},
   "outputs": [
    {
     "name": "stdout",
     "output_type": "stream",
     "text": [
      "Best individual: 1111011101101001100101010111110110111000110110001011111101111100011010100001000001100110111100001010111111011100011111110100000100010000110111000100100110100101100110101000000110001101000110000111111000011010011100111011001101000000011011110101000010111001101111001010101001100110010011111111000000000111011100111001111111101001110011110000010101111101110000011111110000100000111001111111101010100011001111001010111001011111111111111110111101011011110100011111111010110010101000111000111011110011111111111001000111110010011101000011011011011001100000001011011011100011111111100101000110101011100011111010001010010011010110000100100011001100001001011111111000100111110101110110101100001100000111110100010010010010111110101001101000111011100100110001100011100011100010100011001111001101110111111001100100101010110010000111111011010011000000010001011100001011101010011001001010001011111111111010110010110010100000101011010001101111010001110000101101010100101011001001000101011010000110111010111010000111\n",
      "Fitness value: 537\n"
     ]
    }
   ],
   "source": [
    "# 실행 예시\n",
    "best_individual = genetic_algorithm(population_size=100, \n",
    "                                    num_parents=10, num_generations=100, \n",
    "                                    mutation_prob=0.05)\n",
    "print(f\"Best individual: {best_individual}\")\n",
    "print(f\"Fitness value: {fitness_function(best_individual)}\")"
   ]
  },
  {
   "cell_type": "code",
   "execution_count": null,
   "id": "f5c8501d-4d73-4f50-9f33-67d51e037806",
   "metadata": {},
   "outputs": [],
   "source": []
  }
 ],
 "metadata": {
  "kernelspec": {
   "display_name": "bio",
   "language": "python",
   "name": "bio"
  },
  "language_info": {
   "codemirror_mode": {
    "name": "ipython",
    "version": 3
   },
   "file_extension": ".py",
   "mimetype": "text/x-python",
   "name": "python",
   "nbconvert_exporter": "python",
   "pygments_lexer": "ipython3",
   "version": "3.10.8"
  }
 },
 "nbformat": 4,
 "nbformat_minor": 5
}
