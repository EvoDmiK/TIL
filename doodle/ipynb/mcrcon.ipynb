{
 "cells": [
  {
   "cell_type": "code",
   "execution_count": 1,
   "id": "0503c7d1-f82a-4147-9e63-421392dad311",
   "metadata": {},
   "outputs": [],
   "source": [
    "import re\n",
    "import os\n",
    "import json\n",
    "\n",
    "from easydict import EasyDict as edict\n",
    "from mcrcon import MCRcon as r\n",
    "import pandas as pd"
   ]
  },
  {
   "cell_type": "code",
   "execution_count": 2,
   "id": "773d620f-cf4c-4896-b067-92e5ea6ca00d",
   "metadata": {},
   "outputs": [],
   "source": [
    "ROOT_PATH   = '/home/jovyan'\n",
    "CONFIG_PATH = f'{ROOT_PATH}/utils/configs.json'\n",
    "\n",
    "CONFIG      = json.loads(open(CONFIG_PATH, 'r').read())\n",
    "CONFIG      = edict(CONFIG)\n",
    "PASSWD      = CONFIG.passwd\n",
    "HOST        = CONFIG.host\n",
    "PORT        = CONFIG.port"
   ]
  },
  {
   "cell_type": "code",
   "execution_count": 3,
   "id": "0537212d-68fd-40bc-b4d6-4334d150d9ca",
   "metadata": {},
   "outputs": [],
   "source": [
    "clear_recv  = lambda x: re.sub('§[a-zA-Z0-9]', '', x).split('\\n')"
   ]
  },
  {
   "cell_type": "code",
   "execution_count": 4,
   "id": "27dbff95-5e53-42cf-aa32-5695ed4bf5a4",
   "metadata": {},
   "outputs": [
    {
     "data": {
      "text/plain": [
       "['There are 0 out of maximum 20 players online.', '']"
      ]
     },
     "execution_count": 4,
     "metadata": {},
     "output_type": "execute_result"
    }
   ],
   "source": [
    "con = r(host = HOST, port = PORT, password = PASSWD)\n",
    "con.connect()\n",
    "response = con.command('list')\n",
    "clear_recv(response)"
   ]
  },
  {
   "cell_type": "code",
   "execution_count": 5,
   "id": "05e59bf2-798c-4749-9fd2-140b81c7c10d",
   "metadata": {},
   "outputs": [
    {
     "data": {
      "text/plain": [
       "['Error: Player not found.', '']"
      ]
     },
     "execution_count": 5,
     "metadata": {},
     "output_type": "execute_result"
    }
   ],
   "source": [
    "clear_recv(con.command('whois DoveKim'))"
   ]
  },
  {
   "cell_type": "code",
   "execution_count": 6,
   "id": "901bd481-92fe-49cf-a44f-2b357b0723d2",
   "metadata": {},
   "outputs": [],
   "source": [
    "infos = [' ====== WhoIs: DoveKim ======',\n",
    "         ' - Nick: DoveKim',\n",
    "         ' - UUID: 0fe8095c-8d09-440e-8c5f-7ec75be107af',\n",
    "         ' - Health: 20/20',\n",
    "         ' - Hunger: 20/20 (+5 saturation)',\n",
    "         ' - Exp: 126 (Level 8)',\n",
    "         ' - Location: (world, 1,350, 105, -2,032)',\n",
    "         ' - Playtime: 3 days 3 hours 55 minutes',\n",
    "         ' - Money: $871.17',\n",
    "         ' - IP Address: /172.17.0.1',\n",
    "         ' - Gamemode: creative',\n",
    "         ' - God mode: false',\n",
    "         ' - OP: true',\n",
    "         ' - Fly mode: true (flying)',\n",
    "         ' - Speed: 0.1',\n",
    "         ' - AFK: false',\n",
    "         ' - Jail: false',\n",
    "         ' - Muted: false',\n",
    "         '']"
   ]
  },
  {
   "cell_type": "code",
   "execution_count": 21,
   "id": "99a988e1-24f7-478c-a6e1-c531c6d61a83",
   "metadata": {},
   "outputs": [
    {
     "data": {
      "text/plain": [
       "[[' ====== WhoIs', ' DoveKim ======'],\n",
       " [' - Nick', ' DoveKim'],\n",
       " [' - UUID', ' 0fe8095c-8d09-440e-8c5f-7ec75be107af'],\n",
       " [' - Health', ' 20/20'],\n",
       " [' - Hunger', ' 20/20 (+5 saturation)'],\n",
       " [' - Exp', ' 126 (Level 8)'],\n",
       " [' - Location', ' (world, 1,350, 105, -2,032)'],\n",
       " [' - Playtime', ' 3 days 3 hours 55 minutes'],\n",
       " [' - Money', ' $871.17'],\n",
       " [' - IP Address', ' /172.17.0.1'],\n",
       " [' - Gamemode', ' creative'],\n",
       " [' - God mode', ' false'],\n",
       " [' - OP', ' true'],\n",
       " [' - Fly mode', ' true (flying)'],\n",
       " [' - Speed', ' 0.1'],\n",
       " [' - AFK', ' false'],\n",
       " [' - Jail', ' false'],\n",
       " [' - Muted', ' false']]"
      ]
     },
     "execution_count": 21,
     "metadata": {},
     "output_type": "execute_result"
    }
   ],
   "source": []
  },
  {
   "cell_type": "code",
   "execution_count": 14,
   "id": "37ef45d4-6061-4a9b-917d-d079d499d262",
   "metadata": {},
   "outputs": [
    {
     "data": {
      "text/plain": [
       "'====== WhoIs: DoveKim ======'"
      ]
     },
     "execution_count": 14,
     "metadata": {},
     "output_type": "execute_result"
    }
   ],
   "source": [
    "infos[0].strip().replace('-', '')"
   ]
  },
  {
   "cell_type": "code",
   "execution_count": null,
   "id": "5d10cea6-f31d-4845-b9cc-3e395ec2359e",
   "metadata": {},
   "outputs": [],
   "source": []
  }
 ],
 "metadata": {
  "kernelspec": {
   "display_name": "mc",
   "language": "python",
   "name": "mc"
  },
  "language_info": {
   "codemirror_mode": {
    "name": "ipython",
    "version": 3
   },
   "file_extension": ".py",
   "mimetype": "text/x-python",
   "name": "python",
   "nbconvert_exporter": "python",
   "pygments_lexer": "ipython3",
   "version": "3.10.10"
  }
 },
 "nbformat": 4,
 "nbformat_minor": 5
}
