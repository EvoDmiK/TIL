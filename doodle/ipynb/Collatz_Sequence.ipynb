{
 "cells": [
  {
   "cell_type": "code",
   "execution_count": 1,
   "id": "bed498a4-4434-4740-82d7-f88689f1f9be",
   "metadata": {},
   "outputs": [],
   "source": [
    "from collections import Counter\n",
    "import math as mt"
   ]
  },
  {
   "cell_type": "code",
   "execution_count": 2,
   "id": "c80ebe6f-4462-4e69-9e1f-113a477923a0",
   "metadata": {},
   "outputs": [],
   "source": [
    "def collatz(num):\n",
    "    \n",
    "    seq      = [num]\n",
    "    even_odd = {'even' : 0, 'odd' : 0}\n",
    "    while num > 1:\n",
    "        \n",
    "        if num % 2 != 0:\n",
    "            num = 3*num + 1\n",
    "            even_odd['odd'] += 1\n",
    "            \n",
    "        else:\n",
    "            num = num // 2\n",
    "            even_odd['even'] += 1\n",
    "        \n",
    "        seq.append(num)\n",
    "        \n",
    "    return seq, even_odd"
   ]
  },
  {
   "cell_type": "code",
   "execution_count": null,
   "id": "04b40e58-3f78-4ee8-9bf8-42af9e0618b7",
   "metadata": {},
   "outputs": [
    {
     "name": "stdout",
     "output_type": "stream",
     "text": [
      "[10]\n",
      "percentage of even number : 73.33333333333333 %\n",
      "percentage of seq has 4, 2, 1 loop : 100.0 %\n",
      "\n",
      "\n",
      "[100]\n",
      "percentage of even number : 67.97175866495508 %\n",
      "percentage of seq has 4, 2, 1 loop : 100.0 %\n",
      "\n",
      "\n",
      "[1,000]\n",
      "percentage of even number : 66.9964664310954 %\n",
      "percentage of seq has 4, 2, 1 loop : 100.0 %\n",
      "\n",
      "\n",
      "[10,000]\n",
      "percentage of even number : 66.80743283005899 %\n",
      "percentage of seq has 4, 2, 1 loop : 100.0 %\n",
      "\n",
      "\n",
      "[100,000]\n",
      "percentage of even number : 66.85005762196883 %\n",
      "percentage of seq has 4, 2, 1 loop : 100.0 %\n",
      "\n",
      "\n",
      "[1,000,000]\n",
      "percentage of even number : 66.82151871942136 %\n",
      "percentage of seq has 4, 2, 1 loop : 100.0 %\n",
      "\n",
      "\n",
      "[10,000,000]\n",
      "percentage of even number : 66.80375639162328 %\n",
      "percentage of seq has 4, 2, 1 loop : 100.0 %\n",
      "\n",
      "\n",
      "[100,000,000]\n",
      "percentage of even number : 66.78689056738143 %\n",
      "percentage of seq has 4, 2, 1 loop : 100.0 %\n",
      "\n",
      "\n",
      "[1,000,000,000]\n"
     ]
    }
   ],
   "source": [
    "start_num = 3\n",
    "\n",
    "end_nums = [10, 10 ** 2, 10 ** 3, 10 ** 4, 10 ** 5, 10 ** 6,\n",
    "            10 ** 7, 10 ** 8, 10 ** 9]\n",
    "\n",
    "even_percent = []\n",
    "\n",
    "for end_num in end_nums:\n",
    "    even_odd = {'even' : 0, 'odd' : 0}\n",
    "    num_loops = 0\n",
    "    \n",
    "    print(f'[{end_num:,}]')\n",
    "    for idx in range(start_num, end_num):\n",
    "\n",
    "        seq, eo  = collatz(idx)\n",
    "        even_odd['even'] += eo['even']\n",
    "        even_odd['odd']  += eo['odd']\n",
    "\n",
    "        if seq[-3:] == [4, 2, 1]: num_loops += 1\n",
    "    \n",
    "    print(f'percentage of even number : {even_odd[\"even\"] / sum(even_odd.values()) * 100} %')\n",
    "    print(f'percentage of seq has 4, 2, 1 loop : {num_loops / (end_num - start_num)  * 100} %')\n",
    "    \n",
    "    even_percent.append(even_odd[\"even\"] / sum(even_odd.values()) * 100)\n",
    "    print('\\n')"
   ]
  },
  {
   "cell_type": "code",
   "execution_count": null,
   "id": "29c9fdce-ffa7-4aef-8623-5e5c0c987e9c",
   "metadata": {},
   "outputs": [],
   "source": []
  },
  {
   "cell_type": "code",
   "execution_count": null,
   "id": "8018b611-47c6-4552-950a-bec329343317",
   "metadata": {},
   "outputs": [],
   "source": []
  },
  {
   "cell_type": "code",
   "execution_count": null,
   "id": "19c7097d-3c0c-4f7a-89b2-a857c7449b23",
   "metadata": {},
   "outputs": [],
   "source": []
  }
 ],
 "metadata": {
  "kernelspec": {
   "display_name": "dove",
   "language": "python",
   "name": "dove"
  },
  "language_info": {
   "codemirror_mode": {
    "name": "ipython",
    "version": 3
   },
   "file_extension": ".py",
   "mimetype": "text/x-python",
   "name": "python",
   "nbconvert_exporter": "python",
   "pygments_lexer": "ipython3",
   "version": "3.8.13"
  }
 },
 "nbformat": 4,
 "nbformat_minor": 5
}
