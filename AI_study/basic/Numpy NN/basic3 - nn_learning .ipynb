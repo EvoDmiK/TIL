{
 "cells": [
  {
   "cell_type": "markdown",
   "id": "b8b1abe4-7e27-4924-81ce-be01df29cc60",
   "metadata": {
    "jp-MarkdownHeadingCollapsed": true,
    "tags": []
   },
   "source": [
    "# 0. 참고자료\n",
    "## 0-1. 도서\n",
    "   - 한빛 미디어 | 밑바닥부터 시작하는 딥러닝  \n",
    "\n",
    "## 0-2. 웹사이트\n"
   ]
  },
  {
   "cell_type": "markdown",
   "id": "75d793e7-6ec7-43cf-8c2f-e8faba247349",
   "metadata": {},
   "source": [
    "# 1. 신경망 학습\n",
    "- 데이터의 "
   ]
  },
  {
   "cell_type": "code",
   "execution_count": null,
   "id": "f20ab8f2-e6c6-4f23-94c3-bcabb0781829",
   "metadata": {},
   "outputs": [],
   "source": [
    "import numpy as np"
   ]
  },
  {
   "cell_type": "code",
   "execution_count": null,
   "id": "dd372d4a-5d13-4d64-bc17-c3e15211190e",
   "metadata": {},
   "outputs": [],
   "source": []
  }
 ],
 "metadata": {
  "kernelspec": {
   "display_name": "bio",
   "language": "python",
   "name": "bio"
  },
  "language_info": {
   "codemirror_mode": {
    "name": "ipython",
    "version": 3
   },
   "file_extension": ".py",
   "mimetype": "text/x-python",
   "name": "python",
   "nbconvert_exporter": "python",
   "pygments_lexer": "ipython3",
   "version": "3.9.12"
  }
 },
 "nbformat": 4,
 "nbformat_minor": 5
}
