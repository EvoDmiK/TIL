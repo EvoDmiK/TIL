{
 "cells": [
  {
   "cell_type": "markdown",
   "id": "3c08a796-3323-4cdf-93bc-800162c0d341",
   "metadata": {},
   "source": [
    "# 0. 참고자료\n",
    "## 0-1. 도서\n",
    "   - 한빛 미디어 | 밑바닥부터 시작하는 딥러닝  \n",
    "\n",
    "## 0-2. 웹사이트\n",
    " - 하얀종이 개발자 | 딥러닝에서 가중치(W), 편향(Bias)의 역할 [블로그 링크](https://jh2021.tistory.com/3)"
   ]
  },
  {
   "cell_type": "markdown",
   "id": "7dce6d71-8d1f-44a7-a60d-a851f0b59192",
   "metadata": {},
   "source": [
    "## 0-3. 데이터 셋\n",
    "# 1. 퍼셉트론\n",
    "- 다수의 신호를 입력받아 하나의 신호를 출력\n",
    "- 신경망의 기본 단위 정도로 생각하면 될 것 같다.  \n",
    "- 이미지에서 Xn은 입력신호, Wn은 가중치, Y는 출력신호이다.  \n",
    "![perceptron image](../../assets/NumpyNN/1.perceptron/perceptron.png)\n",
    "\n",
    "- 입력신호(Xn)가 뉴런에 보내질 때 각각 고유한 가중치(Wn)가 곱해짐.  \n",
    "- 뉴런에서 보내온 신호의 총합이 임계값을 넘길 때 뉴런이 활성화 된다.\n",
    "$$ y = \\begin{cases}0,\\; (w_1x_1 + w_2x_2 \\leq \\theta) \\\\ \n",
    "        1, \\; (w_1x_1 + w_2x_2 > \\theta) \\end{cases} $$  \n",
    "\n",
    "\n",
    "- 퍼셉트론은 복수의 입력 신호 각각에 고유한 신호를 부여한다.\n",
    "- 이 가중치가 클 수록 해당 신호가 그만큼 더 중요하다는 의미임."
   ]
  },
  {
   "cell_type": "markdown",
   "id": "2f568384-f206-4d8e-a2b1-2f1022505d59",
   "metadata": {},
   "source": [
    "### 예제) 퍼셉트론 예제 - 논리 회로 구현하기\n",
    "#### a. AND 게이트\n",
    "- 두 개의 입력이 1일 때만 1을 출력하는 논리 회로\n",
    "|x1|x2|y|\n",
    "|:--:|:--:|:--:|\n",
    "|0|0|0|\n",
    "|1|0|0|\n",
    "|0|1|0|\n",
    "|1|1|1|\n",
    "\n",
    "#### b. NAND (Not AND) 게이트\n",
    "- AND게이트의 출력결과를 뒤집어 두 개의 입력이 1일 때만 0을 출력하는 논리 회로\n",
    "|x1|x2|y|\n",
    "|:--:|:--:|:--:|\n",
    "|0|0|1|\n",
    "|1|0|1|\n",
    "|0|1|1|\n",
    "|1|1|0|\n",
    "\n",
    "#### c. OR 게이트\n",
    "- 두 개의 입력이 0일 때만 0을 출력하는 논리 회로\n",
    "|x1|x2|y|\n",
    "|:--:|:--:|:--:|\n",
    "|0|0|0|\n",
    "|1|0|1|\n",
    "|0|1|1|\n",
    "|1|1|1|"
   ]
  },
  {
   "cell_type": "markdown",
   "id": "6ee5e8c0-d760-4dc3-819e-1530e466a428",
   "metadata": {},
   "source": [
    "#### d. 논리회로 퍼셉트론 구현"
   ]
  },
  {
   "cell_type": "code",
   "execution_count": 3,
   "id": "1b5a1e7f-3f4d-4d62-8dcd-454e0ab2bb9d",
   "metadata": {},
   "outputs": [
    {
     "name": "stdout",
     "output_type": "stream",
     "text": [
      "x1 : 0, x2: 0, output : 0\n",
      "x1 : 1, x2: 0, output : 0\n",
      "x1 : 0, x2: 1, output : 0\n",
      "x1 : 1, x2: 1, output : 1\n"
     ]
    }
   ],
   "source": [
    "## AND 게이트 구현 코드\n",
    "def AND(x1, x2):\n",
    "    \n",
    "    ## 가중치와 임계값\n",
    "    w1, w2, theta = 0.5, 0.5, 0.7\n",
    "    temp = x1*w1 + x2*w2\n",
    "    \n",
    "    output = lambda x: 1 if x > theta else 0\n",
    "    return output(temp)\n",
    "\n",
    "print(f'x1 : {0}, x2: {0}, output : {AND(0, 0)}')\n",
    "print(f'x1 : {1}, x2: {0}, output : {AND(1, 0)}')\n",
    "print(f'x1 : {0}, x2: {1}, output : {AND(0, 1)}')\n",
    "print(f'x1 : {1}, x2: {1}, output : {AND(1, 1)}')"
   ]
  },
  {
   "cell_type": "markdown",
   "id": "0b1f216c-b466-4500-a548-cce075928b13",
   "metadata": {},
   "source": [
    "#### (!) 편향의 도입\n",
    "$$ y = \\begin{cases}0,\\; (w_1x_1 + w_2x_2 \\leq \\theta) \\\\ \n",
    "        1, \\; (w_1x_1 + w_2x_2 > \\theta) \\end{cases} \n",
    "        \\newline\\newline\\theta = -b로\\; 치환하면,\\; 위 식은 다음과 같이 된다.\\newline\\newline\n",
    "   y = \\begin{cases}0,\\; (w_1x_1 + w_2x_2 +b \\leq 0) \\\\ \n",
    "        1, \\; (w_1x_1 + w_2x_2 + b > 0) \\end{cases} \n",
    "$$\n",
    "\n",
    "- 가중치 w는 각 입력신호가 결과에 주는 영향력을 조절하는 매개변수\n",
    "- 편향 b는 뉴런(노드)이 얼마나 쉽게 활성화 되는지 조절하는 매개변수\n",
    "\n",
    "e.g)    \n",
    "(1) b = -0.7인 경우  \n",
    "→ 가중합(w1*x1 + w2*x2 + ... + wn*xn)이 0.8 이상이어야 활성화 됨.  \n",
    "\n",
    "(2) b = 20인 경우  \n",
    "→ 가중합(w1*x1 + w2*x2 + ... + wn*xn)이 21 이상이어야 활성화 됨.\n",
    "        "
   ]
  },
  {
   "cell_type": "code",
   "execution_count": 23,
   "id": "73b246bc-1148-4547-a93c-e3f6fe77a2a9",
   "metadata": {},
   "outputs": [
    {
     "name": "stdout",
     "output_type": "stream",
     "text": [
      "x1 : 0, x2: 0, output : 0\n",
      "x1 : 1, x2: 0, output : 0\n",
      "x1 : 0, x2: 1, output : 0\n",
      "x1 : 1, x2: 1, output : 1\n"
     ]
    }
   ],
   "source": [
    "import numpy as np\n",
    "\n",
    "## 편향을 추가한 AND 게이트\n",
    "def AND_w_bias(x1, x2):\n",
    "    x = np.array([x1, x2])\n",
    "    w = np.array([0.5, 0.5])\n",
    "    \n",
    "    b = -0.7\n",
    "    ## temp = x[0]*w[0] + x[1]*w[1] + b와 동일\n",
    "    temp = np.sum(w*x) + b\n",
    "    output = lambda x: 1 if x > 0 else 0\n",
    "    \n",
    "    return output(temp)\n",
    "    \n",
    "print(f'x1 : {0}, x2: {0}, output : {AND_w_bias(0, 0)}')\n",
    "print(f'x1 : {1}, x2: {0}, output : {AND_w_bias(1, 0)}')\n",
    "print(f'x1 : {0}, x2: {1}, output : {AND_w_bias(0, 1)}')\n",
    "print(f'x1 : {1}, x2: {1}, output : {AND_w_bias(1, 1)}')"
   ]
  },
  {
   "cell_type": "code",
   "execution_count": 24,
   "id": "ca36d6a4-a278-4125-b0e9-456b575f1c31",
   "metadata": {},
   "outputs": [
    {
     "name": "stdout",
     "output_type": "stream",
     "text": [
      "x1 : 0, x2: 0, output : 1\n",
      "x1 : 1, x2: 0, output : 1\n",
      "x1 : 0, x2: 1, output : 1\n",
      "x1 : 1, x2: 1, output : 0\n"
     ]
    }
   ],
   "source": [
    "## 편향을 추가한 NAND 게이트\n",
    "def NAND_w_bias(x1, x2):\n",
    "    x = np.array([x1, x2])\n",
    "    w = np.array([0.5, 0.5])\n",
    "    \n",
    "    b = -0.7\n",
    "    ## temp = x[0]*w[0] + x[1]*w[1] + b와 동일\n",
    "    temp = np.sum(w*x) + b\n",
    "    output = lambda x: 1 if x < 0 else 0\n",
    "    \n",
    "    return output(temp)\n",
    "\n",
    "print(f'x1 : {0}, x2: {0}, output : {NAND_w_bias(0, 0)}')\n",
    "print(f'x1 : {1}, x2: {0}, output : {NAND_w_bias(1, 0)}')\n",
    "print(f'x1 : {0}, x2: {1}, output : {NAND_w_bias(0, 1)}')\n",
    "print(f'x1 : {1}, x2: {1}, output : {NAND_w_bias(1, 1)}')"
   ]
  },
  {
   "cell_type": "code",
   "execution_count": 39,
   "id": "ce5be78b-72bd-4919-8961-4dea3238a6b4",
   "metadata": {},
   "outputs": [
    {
     "name": "stdout",
     "output_type": "stream",
     "text": [
      "x1 : 0, x2: 0, output : 0\n",
      "x1 : 1, x2: 0, output : 1\n",
      "x1 : 0, x2: 1, output : 1\n",
      "x1 : 1, x2: 1, output : 1\n"
     ]
    }
   ],
   "source": [
    "def OR_w_bias(x1, x2):\n",
    "    x = np.array([x1, x2])\n",
    "    w = np.array([0.5, 0.5])\n",
    "    \n",
    "    b = -0.2\n",
    "    ## temp = x[0]*w[0] + x[1]*w[1] + b와 동일\n",
    "    temp = np.sum(w*x) + b\n",
    "    \n",
    "    output = lambda x: 1 if x > 0 else 0\n",
    "    return output(temp)\n",
    "\n",
    "print(f'x1 : {0}, x2: {0}, output : {OR_w_bias(0, 0)}')\n",
    "print(f'x1 : {1}, x2: {0}, output : {OR_w_bias(1, 0)}')\n",
    "print(f'x1 : {0}, x2: {1}, output : {OR_w_bias(0, 1)}')\n",
    "print(f'x1 : {1}, x2: {1}, output : {OR_w_bias(1, 1)}')"
   ]
  },
  {
   "cell_type": "markdown",
   "id": "1404a404-49db-4fae-a006-3d07508d9df3",
   "metadata": {},
   "source": [
    "## 1-1. 퍼셉트론의 한계\n",
    "- AND, NAND, OR 게이트는 단층 퍼셉트론만으로 구현이 가능하였으나,  \n",
    "  XOR 게이트는 단층 퍼셉트론으로는 구현할 수 없다.\n",
    "  \n",
    "#### a. XOR 게이트\n",
    "- 입력 x1, x2 둘 중에 하나만이라도 1인 경우에 1을 출력하는 논리 회로\n",
    "|x1|x2|y|\n",
    "|:--:|:--:|:--:|\n",
    "|0|0|0|\n",
    "|1|0|1|\n",
    "|0|1|1|\n",
    "|1|1|0|\n",
    "\n",
    "- AND, NAND, OR 게이트의 경우 선형(직선 1개)으로 0과 1의 경계를 구분할 수 없지만,\n",
    "  XOR 게이트의 경우 선형으로 0과 1의 경계를 구분 할 수 없다.\n",
    "  \n",
    "- 이런 경우에 단층 퍼셉트론을 조합하여 다층 퍼셉트론으로 만들어 구현할 수 있다.\n",
    "- XOR은 (x1 OR x2) AND (x1 NAND x2)로 표시할 수 있다.\n",
    "\n",
    "(1) x1 OR x2\n",
    "\n",
    "|x1|x2|y|\n",
    "|:--:|:--:|:--:|\n",
    "|0|0|0|\n",
    "|1|0|1|\n",
    "|0|1|1|\n",
    "|1|1|1|\n",
    "\n",
    "(2) x1 NAND x2\n",
    "\n",
    "|x1|x2|y|\n",
    "|:--:|:--:|:--:|\n",
    "|0|0|1|\n",
    "|1|0|1|\n",
    "|0|1|1|\n",
    "|1|1|0|\n",
    "\n",
    "(3) (x1 OR x2) AND (x1 NAND x2)\n",
    "\n",
    "|x1|x2|y|\n",
    "|:--:|:--:|:--:|\n",
    "|0|1|0|\n",
    "|1|1|1|\n",
    "|1|1|1|\n",
    "|1|0|0|"
   ]
  },
  {
   "cell_type": "code",
   "execution_count": 41,
   "id": "871465ac-a2d4-4503-9882-68b9e6a4d43a",
   "metadata": {},
   "outputs": [
    {
     "name": "stdout",
     "output_type": "stream",
     "text": [
      "x1 : 0, x2: 0, output : 0\n",
      "x1 : 1, x2: 0, output : 1\n",
      "x1 : 0, x2: 1, output : 1\n",
      "x1 : 1, x2: 1, output : 0\n"
     ]
    }
   ],
   "source": [
    "#### a. XOR 게이트 구현\n",
    "\n",
    "def XOR_w_bias(x1, x2):\n",
    "    s1 = OR_w_bias(x1, x2)\n",
    "    s2 = NAND_w_bias(x1, x2)\n",
    "    return AND_w_bias(s1, s2)\n",
    "\n",
    "print(f'x1 : {0}, x2: {0}, output : {XOR_w_bias(0, 0)}')\n",
    "print(f'x1 : {1}, x2: {0}, output : {XOR_w_bias(1, 0)}')\n",
    "print(f'x1 : {0}, x2: {1}, output : {XOR_w_bias(0, 1)}')\n",
    "print(f'x1 : {1}, x2: {1}, output : {XOR_w_bias(1, 1)}')"
   ]
  },
  {
   "cell_type": "code",
   "execution_count": null,
   "id": "cb4f07ee-6b00-444b-a43c-3b01d7c2833c",
   "metadata": {},
   "outputs": [],
   "source": []
  }
 ],
 "metadata": {
  "kernelspec": {
   "display_name": "bio",
   "language": "python",
   "name": "bio"
  },
  "language_info": {
   "codemirror_mode": {
    "name": "ipython",
    "version": 3
   },
   "file_extension": ".py",
   "mimetype": "text/x-python",
   "name": "python",
   "nbconvert_exporter": "python",
   "pygments_lexer": "ipython3",
   "version": "3.10.8"
  }
 },
 "nbformat": 4,
 "nbformat_minor": 5
}
