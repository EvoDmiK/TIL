{
 "cells": [
  {
   "cell_type": "markdown",
   "id": "a8941e78-69fb-4d09-821f-d240e0cb4732",
   "metadata": {
    "tags": []
   },
   "source": [
    "# **1. 머신러닝**\n",
    "## **1-1. 머신러닝 이란**\n",
    "- 컴퓨터 라는 도구로 경험을 활용하여 시스템 자체를 개선해 나가는 방법을 연구하는 학문\n",
    "    - 컴퓨터를 활용해 데이터에서 하나의 모델을 만들어내는 알고리즘을 주로 연구한다\n",
    "    - 학습 알고리즘이 있으면 데이터에 기반을 둔 새로운 모델을 생성할 수 있다.\n",
    "    \n",
    "## **1-2. 머신러닝 기본 용어**\n",
    "- 데이터들을 모아둔 집합을 데이터 셋, 데이터들이 가지고 있는 특징들을 특성이라고 한다.\n",
    "- 데이터들이 가지고 있는 특성을 3D 좌표 공간에 나타내면 이를 특성 벡터라고 부른다.\n",
    "- 일반적으로 아래와 같은 m개의 샘플을 가진 데이터 셋을 나타낸다. $$D\\;=\\;{x_1,x_2,...,x_m}$$  \n",
    "    - 각 샘플은 d차원의 샘플 공간 X 위 하나의 벡터로 표현된다.\n",
    "        - 이 때 d를 샘플 x_i의 차원수 라고 한다.\n",
    "        \n",
    "- 데이터를 통해 모델을 만들어가는 과정을 학습이라고 한다.\n",
    "    - 학습 과정에서 사용되는 데이터를 학습 데이터, 각 샘플을 학습 샘플이라고 한다.\n",
    "    - 학습 모델이 데이터 특성을 이용해 데이터의 잠재된 규칙과 비슷하게 맞추는 것을 가설이라고 한다.\n",
    "    - 데이터의 특성이 결과를 나타내는 정보를 레이블이라고 하고, 레이블 공간 Y 위에 표현된다.\n",
    "    \n",
    "- 예측하고자하는 값이 이산형(discrete)일 경우 분류 문제, 연속형(continous)일 경우 회귀 문제로 정의한다.\n",
    "    - 분류하고자 하는 클래스가 2개인 이진분류는 양성 클래스와 음성 클래스로 나뉜다.\n",
    "    - 분류하고자 하는 클래스가 2개 이상인 분류문제는 다항 분류 문제라고 한다.\n",
    "    \n",
    "- 예측이란 훈련 세트 {(x1, y1), ... {xn, yn}}에 대해 학습하여  \n",
    "  입력 공간 X에서 출력 공간 Y를 투영하는 식 f: X -> Y를 찾는것이다.\n",
    "  \n",
    "- 학습된 모델을 통해 예측하는 과정을 검증이라한다.  \n",
    "    - 이 때 사용되는 샘플을 테스트 샘플이라고 한다.\n",
    "    - 모델 f로 샘플 x에 대해 예측한다면, 추론값은 y = f(x)로 표현할 수 있다.\n",
    "    \n",
    "- 훈련 데이터에 레이블 유무에 따라 분류가 달라진다.\n",
    "    - 레이블이 있는 경우 지도 학습(Supervised Learning)이라 한다.\n",
    "    - 레이블이 없는 경우 비지도 학습(Unsupervised Learning)이라 한다.\n",
    "---"
   ]
  },
  {
   "cell_type": "code",
   "execution_count": null,
   "id": "6160ab99-edd2-4cd5-b215-2fe187dab984",
   "metadata": {},
   "outputs": [],
   "source": []
  },
  {
   "cell_type": "code",
   "execution_count": null,
   "id": "1b48334e-b5ee-4d62-a75e-79aef3540040",
   "metadata": {},
   "outputs": [],
   "source": []
  },
  {
   "cell_type": "code",
   "execution_count": null,
   "id": "fc00f8d8-c6b0-4591-8beb-9c9a4f54bb60",
   "metadata": {},
   "outputs": [],
   "source": []
  },
  {
   "cell_type": "markdown",
   "id": "93ece422-f8b2-4ce8-a906-427d510293b8",
   "metadata": {},
   "source": [
    "# **99. 참고자료**\n",
    "## **99-1. 도서**  \n",
    "- 단단한 머신러닝 | 제이펍 출판, 조우쯔화 저, 김태헌 역  \n",
    "\n",
    "## **99-2. 논문, 학술지**\n",
    "\n",
    "## **99-3. 웹 사이트**\n",
    "\n",
    "## **99-4. 데이터셋 출처**"
   ]
  },
  {
   "cell_type": "code",
   "execution_count": null,
   "id": "422416be-397c-4b72-9c5c-87b61a76de44",
   "metadata": {},
   "outputs": [],
   "source": []
  }
 ],
 "metadata": {
  "kernelspec": {
   "display_name": "ML",
   "language": "python",
   "name": "ml"
  },
  "language_info": {
   "codemirror_mode": {
    "name": "ipython",
    "version": 3
   },
   "file_extension": ".py",
   "mimetype": "text/x-python",
   "name": "python",
   "nbconvert_exporter": "python",
   "pygments_lexer": "ipython3",
   "version": "3.10.12"
  }
 },
 "nbformat": 4,
 "nbformat_minor": 5
}
