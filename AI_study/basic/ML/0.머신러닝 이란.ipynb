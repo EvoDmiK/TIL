{
 "cells": [
  {
   "cell_type": "markdown",
   "id": "546cbab0-d4f2-41f4-8686-78935992dee9",
   "metadata": {},
   "source": [
    "# **0. 참고자료**\n",
    "## **0-1. 도서**\n",
    "   - 한빛 미디어 | 오를레앙 제롱 저, 박해선 역 - 핸즈온 머신러닝\n",
    "\n",
    "## **0-2. 논문, 학술지**\n",
    "\n",
    "## **0-3. 웹사이트**\n",
    "- char :: 머신러닝 - 군집 | [[블로그 링크]](https://charstring.tistory.com/425) \n",
    "- 지미뉴트론 개발일기 - [Pandas] 파이썬 데이터프레임 값 변경 / 대체 방법 정리 | [[블로그 링크]](https://jimmy-ai.tistory.com/245)  \n",
    "- 아무튼 워라밸 - 다중선형회귀(Multiple Linear Regression) - 파이썬 코드 예제 | [[블로그 링크]](https://hleecaster.com/ml-multiple-linear-regression-example/)\n",
    "- @_@.... - Scikit-learn(사이킷런)으로 선형회귀 | [[블로그 링크]](https://dprdmr.tistory.com/30)\n",
    "\n",
    "## **0-4. 데이터셋 출처**\n",
    "\n",
    "\n",
    "\n",
    "# **1. 머신러닝이란**\n",
    "- 명시적인 프로그래밍 없이 컴퓨터가 학습하는 능력을 갖추게 하는 연구 분야다. - 아서 새뮤얼  \n",
    "\n",
    "## **1-1. 왜 머신러닝을 사용하는가**\n",
    "- 메일의 제목을 보고 스팸 필터를 만든다고 가정하였을 때\n",
    "- 전통적인 프로그래밍 기법을 사용  \n",
    "→ 작성해야하는 규칙이 점점 길과 복잡해져 비효율적으로 동작하고, 유지보수하기 힘들어진다.  \n",
    "\n",
    "- 머신러닝 기법을 사용  \n",
    "→ 스팸 메일에서 자주 나타나는 <span style=\"color: orange\"><b>패턴을 감지</b></span>하여 어떤 단어와 구절이 스팸 메일을 판단하는 데 좋은 기준인지 자동으로 학습  \n",
    "\n",
    "<span style=\"color:orange\"><b>< ! > 머신러닝 기술을 적용하여 대용량의 데이터를 분석하여 패턴을 발견하는 것을 <span style=\"color:red\">데이터 마이닝(data mining)</span>이라 한다.</b></span>  \n",
    "    \n",
    "## **1-2. 머신러닝 시스템의 종류**  \n",
    "### 1-2.1. 지도학습과 비지도 학습\n",
    "#### **(1) 지도 학습 (Supervised Learning)**  \n",
    "- 학습하고자 하는 알고리즘에 주입하는 훈련 데이터에 <span style=\"color:orange\"><b>레이블 (label)</b></span>이라는 원하는 답을 포함한다.  \n",
    "- <span style=\"color:orange\"><b>분류 (classification)</b></span>와 <span style=\"color:orange\"><b>회귀 (regression)</b></span>가 전형적인 지도학습이다.  \n",
    "    \n",
    "<span style=\"color: orange\"><b>< ! > 머신러닝에서 <span style=\"color: red\">속성 (attribute)</span>은 데이터 타입을 의미한다.</b></span>\n",
    "<span style=\"color: orange\"><b></b></span>  \n",
    "<span style=\"color: orange\"><b>< ! > 머신러닝에서 <span style=\"color: red\">특성 (feature)</span>는 일반적으로 속성과 값이 합쳐진 것을 의미한다.</b></span>\n",
    "<span style=\"color: orange\"><b></b></span>  \n",
    "    \n",
    "- **분류 (Classification)**  \n",
    "→ 주어진 데이터를 클래스 별로 구별해가는 과정   \n",
    "\n",
    "- **회귀 (Regression)**  \n",
    "    → 특성을 사용하여 <span style=\"color:orange\"><b>타깃 (Target)</b></span> 수치를 예측하는 과정  \n",
    "    \n",
    "- 일부 회귀 알고리즘은 분류에 사용할 수 있고, 반대로 일부 분류 알고리즘을 회귀에 사용할 수 있다.  \n",
    "\n",
    "#### **(1)-1. 지도학습 알고리즘  예시**  \n",
    "    1) k-최근접 이웃 (k-Nearest Neighbors | kNN)  \n",
    "    2) 선형 회귀 (linear regression)  \n",
    "    3) 로지스틱 회귀 (logistic regression)  \n",
    "    4) 서포트 벡터 머신 (Support Vector Machine | SVM)  \n",
    "    5) 결정 트리 (Decision tree)  \n",
    "    6) 랜덤 포레스트 (random forest)  \n",
    "    7) 신경망 (Neural Network | NN)  "
   ]
  },
  {
   "cell_type": "markdown",
   "id": "a4d95492-4d2e-4f88-b146-529eef0c1e19",
   "metadata": {},
   "source": [
    "#### **(2) 비지도 학습 (Unsupervised Learning)**  \n",
    "- 지도 학습과 달리 훈련 데이터에 레이블이 없이 학습해야 함.\n",
    "\n",
    "#### **(2)-1. 비지도학습 알고리즘  예시**  \n",
    "    1)  군집 (clustering)  \n",
    "        1)-1. k-평균 (k-means)   \n",
    "        1)-2. DBSCAN  \n",
    "        1)-3. 계층 군집 분석(Hierarchical Cluseter Analysis | HCA)  \n",
    "        1)-4. 이상치 탐지(outlier detection)와 특이치 탐지(novelty detection)    \n",
    "        1)-5. 원-클래스 SVM (one-class SVM)  \n",
    "        1)-6. 아이솔레이션 포레스트 (isolation forest)  \n",
    "        \n",
    "    2) 시각화 (visualization)와 차원 축소 (dimensionality reduction)\n",
    "        2)-1. 주성분 분석 (Principal Component Analysis | PCA)  \n",
    "        2)-2. 커널 PCA (kernel PCA)  \n",
    "        2)-3. 지역적 선형 임베딩 (Locally Linear Embedding)  \n",
    "        2)-4. t-SNE (t-distributed Stochastic Neighbor Embedding)  \n",
    "        \n",
    "    3) 연관 규칙 학습 (association rule learning)  \n",
    "        3)-1. 어프라이어리 (Apriori)  \n",
    "        3)-2. 이클렛 (Eclat)  \n",
    "\n",
    "- **군집 (Clustering)**  \n",
    "→ 대상을 군집 (Clustering)이라 불리는 상대적으로 동질적인 집단으로 분류하는 기법  \n",
    "→ <span style=\"color:orange\"><b>계층 군집 (Hierarchical Clustering)</b></span>알고리즘을 사용하면 각 그룹을 더 작은 그룹으로 세분화 할 수 있다.\n",
    "\n",
    "- **시각화 (Visualization)**  \n",
    "→ 레이블이 없는 대규모의 고차원 데이터를 넣으면 도식화가 가능한 2D나 3D 표현을 만들어줌.  \n",
    "→ 알고리즘은 가능한 한 구조를 그대로 유지하려 하므로 데이터가 어떻게 조작되어 있는지 이해할 수 있다.  \n",
    "→ 비슷한 작업으로는 많은 정보를 잃지 않으며 데이터를 간소화하는 <span style=\"color: orange\"><b>차원 축소</b></span>가 있다.  \n",
    "\n",
    "<span style=\"color: orange\"><b>< ! > 차원축소 기법 중 하나는 상관관계가 있는 여러 특성을 하나로 합치는 것이 있는데, 이를 <span style=\"color: red\">특성 추출 (Feature Extraction)</span>이라 한다.</b></span>  \n",
    "<span style=\"color: orange\"><b>< ! >지도 학습 같은 머신러닝 알고리즘에 데이터를 주입하기 전에 차원 축소 알고리즘을 사용하여 데이터의 차원을 줄이는 것이 유용할 때가 많다.  \n",
    "&nbsp;&nbsp;&nbsp;&nbsp;&nbsp;&nbsp;&nbsp;&nbsp;→ 실행 속도가 빨라지고, 디스크와 메모리를 차지아는 공간도 줄고 성능이 향상될 수도 있다.\n",
    "</b></span>  \n",
    "    \n",
    "- **이상치 탐지(Outlier Detection | Anomaly Detection)**  \n",
    "→ 훈련하는 동안 대부분 정상 샘플을 만나 이상치를 인식하도록 훈련됨.  \n",
    "→ 새로운 샘플을 보고 정상 데이터인지 이상치인지 판단함.  \n",
    "→ 비슷한 작업으로 <span style=\"color: orange\"><b>특이치 탐지</b></span>가 있다.  \n",
    "→ 특이치 탐지는 훈련 세트에 있는 모든 샘플과 달라 보이는 새로운 샘플을 탐지하는 것이 목적이다.   \n",
    "\n",
    "- **연관 규칙 학습 (Association rule learning)**  \n",
    "→ 대량의 데이터에서 특성 간 관계를 찾는 작업  "
   ]
  },
  {
   "cell_type": "markdown",
   "id": "2a54098f-f9f5-41c0-ba3b-b54468230efa",
   "metadata": {},
   "source": [
    "#### **(3) 준지도 학습 (Semi-supervised Learning)**  \n",
    "- 데이터에 레이블을 달기에 많은 시간과 비용이 소모되어 일반적으로 레이블이 없는 샘플이 많고 레이블된 샘플이 적다.  \n",
    "- 준지도 학습에서는 일부만 레이블이 있는 데이터를 학습시키는데 사용된다.  \n",
    "- 대부분의 준지도 학습 알고리즘은 지도 학습과 비지도 학습의 조합으로 이루어져 있다.  \n",
    "- 준지도 학습의 일종인 <span style=\"color:orange\"><b>심층 신뢰 신경망 (Deep Belief Network | DBN)</b></span>은 여러 겺으로 쌓은 <span style=\"color:orange\"><b>제한된 볼츠만 머신(Restricted Boltzmann Machine)</b></span>이라 불리는 비지도 학습에 기초한다.  \n",
    "\n",
    "#### **(4) 강화 학습 (Reinforcement Learning)**  \n",
    "- 알고리즘이 학습 하는 시스템을 <span style=\"color:orange\"><b>에이전트 (Agent)</b></span>라 부른다.\n",
    "- <span style=\"color:orange\"><b>환경 (Environment)</b></span>을 관찰하여 <span style=\"color:orange\"><b>행동 (Action)</b></span>을 실행하고 그 결과로 <span style=\"color:orange\"><b>보상 (Reward)</b></span> 혹은 <span style=\"color:orange\"><b>벌점 (Panalty)</b></span>를 받는다.  \n",
    "- 시간이 지나면서 가장 큰 보상을 얻기 위해 <span style=\"color:orange\"><b>정책 (Policy)</b></span>라 부르는 최상의 전략을 스스로 학습"
   ]
  },
  {
   "cell_type": "markdown",
   "id": "cf8bde6e-39dd-4f51-8304-076ed60e0be5",
   "metadata": {},
   "source": [
    "## **1-3. 배치 학습과 온라인 학습**\n",
    "### 1-3.1. 배치 학습 (Batch Learning)  \n",
    "→ 가용한 데이터를 모두 사용해 훈련시켜야 한다.  \n",
    "→ 일반적으로 이 방식은 시간과 자원을 많이 소모하여 보통 오프라인에서 수행된다.  \n",
    "\n",
    "### 1-3.2. 온라인 학습 (Online Learning)  \n",
    "→ 데이터를 순차적으로 한 개씩 또는 <span style=\"color: orange\"><b>미니 배치(mini batch)</b></span>라 부르는 작은 묶음 단위로 주입하여 시스템을 훈련시킴.  \n",
    "→ 매 학습 단계가 빠르고 비용이 적게 들어 시스템은 데이터가 도착하는 대로 즉시 학습할 수 있다.  \n",
    "→ 컴퓨터 한 대의 메모리에 들어갈 수 없는 아주 큰 데이터셋을 학습하는 시스템에도 온라인 학습 알고리즘을 사용할 수 있다. (외부 메모리 학습)  \n",
    "<span style=\"color: orange\"><b>< ! > 외부 메모리 학습은 보통 오프라인으로 실행되어 온라인 학습보다는 <span style=\"color: red\"><b>점진적 학습 (incremental learning)</b></span>이라 한다.</b></span>  \n",
    "    \n",
    "→ 변화하는 데이터에 얼마나 빠르게 적응하는지를 나타내는 파라미터를 <span style=\"color:orange\"><b>학습률 (learning rate)</b></span>라고 한다.  \n",
    "(1) 학습률을 높게하면 시스템이 데이터에 <span style=\"color:orange\"><b>빠르게 적응</b></span>하지만 예전 데이터를 <span style=\"color:orange\"><b>금방 잊는다.</b></span>  \n",
    "(2) 학습률이 낮으면 <span style=\"color:orange\"><b>더 느리게 학습되지만</b></span>, 새로운 데이터에 있는 잡음이나 대표성 없는 <span style=\"color:orange\"><b>데이터 포인트에 덜 민감해진다.</b></span>"
   ]
  },
  {
   "cell_type": "markdown",
   "id": "eabd5cae-aeb3-4af3-84b2-99a868d3e5ab",
   "metadata": {},
   "source": [
    "## **1-4. 사례 기반 학습과 모델 기반 학습**\n",
    "→ 주어진 훈련 데이터로 학습하고 훈련 데이터에서 본 적 없는 새로운 데이터에서 좋은 예측을 만들어야<span style=\"color:orange\"><b>(일반화 / generalize)</b></span>한다.  \n",
    "→ 일반화를 위한 두 가지 접근법은 <span style=\"color:orange\"><b>사례 기반 학습</b></span>과 <span style=\"color:orange\"><b>모델 기반 학습</b></span>이 있다.  \n",
    "### 1-4.1. 사례기반 학습(instance-based learning)  \n",
    "- 시스템이 훈련 샘픙을 기억함으로써 학습 시킴.  \n",
    "- 유사도 특정을 사용하여 새로운 데이터와 학습한 샘플을 비교하는 식으로 일반화 함.  \n",
    "\n",
    "### 1-4.2. 모델기반 학습(model-based learning)  \n",
    "- 샘플들의 모델을 만들어 <span style=\"color:orange\"><b>예측(prediction)</b></span>에 사용하는 것  "
   ]
  },
  {
   "cell_type": "markdown",
   "id": "c26e4474-ea65-4378-81b3-f7e040c5f8ce",
   "metadata": {},
   "source": [
    "## **1-5. 간단한 선형 모델 만들기**  \n",
    "- 선형 회귀 모델은 연속값을 취하는 종속변수와 독립변수의 선형관계를 모델화 한것.  \n",
    "<span style=\"color:red\"><b>! 선형관계는 독립변수가 증가(감소)함에 따라, 종속변수도 단조 증가(감소)하는 관계를 말함</b></span>\n",
    "- 독립변수가 하나인 경우에 선형모델은 아래의 식으로 정의된다.  \n",
    "$ y = w_{0} + w_{1}x $  \n",
    "- 독립변수가 여러개인 경우에는 아래의 식으로 정의된다.  \n",
    "$y = w_{0} + w_{1}x_{1} + ... +w_{n}x_{n} = w_{0} + \\displaystyle\\sum^n_{i=1}w_{i}x_{i}$  \n",
    "- $ w_{0} $은 절편(편향), $ w_{i} (1 \\leq i \\leq n) $은 가중치를 나타낸다.  \n",
    "- 선형 회귀 모델은 종속변수와 여러개의 독립변수의 관계를 나타내는 모델의 중첩을 학습하는 것이 목적이다.  \n",
    "<span style=\"color:red\"><b>! 신경망을 구성하는 퍼셉트론의 식과 동일 하다.</b></span>"
   ]
  },
  {
   "cell_type": "code",
   "execution_count": 1,
   "id": "b4205cfa-35a6-4665-84db-46aadd4c9c7c",
   "metadata": {},
   "outputs": [],
   "source": [
    "from sklearn.model_selection import train_test_split\n",
    "from sklearn.datasets import load_boston\n",
    "import matplotlib.pyplot as plt\n",
    "import pandas as pd\n",
    "import numpy as np\n",
    "import os"
   ]
  },
  {
   "cell_type": "code",
   "execution_count": 3,
   "id": "eabe289c-80a1-4dd4-9f6d-df2bd448027a",
   "metadata": {},
   "outputs": [
    {
     "name": "stderr",
     "output_type": "stream",
     "text": [
      "/opt/conda/envs/bio/lib/python3.9/site-packages/sklearn/utils/deprecation.py:87: FutureWarning: Function load_boston is deprecated; `load_boston` is deprecated in 1.0 and will be removed in 1.2.\n",
      "\n",
      "    The Boston housing prices dataset has an ethical problem. You can refer to\n",
      "    the documentation of this function for further details.\n",
      "\n",
      "    The scikit-learn maintainers therefore strongly discourage the use of this\n",
      "    dataset unless the purpose of the code is to study and educate about\n",
      "    ethical issues in data science and machine learning.\n",
      "\n",
      "    In this special case, you can fetch the dataset from the original\n",
      "    source::\n",
      "\n",
      "        import pandas as pd\n",
      "        import numpy as np\n",
      "\n",
      "\n",
      "        data_url = \"http://lib.stat.cmu.edu/datasets/boston\"\n",
      "        raw_df = pd.read_csv(data_url, sep=\"\\s+\", skiprows=22, header=None)\n",
      "        data = np.hstack([raw_df.values[::2, :], raw_df.values[1::2, :2]])\n",
      "        target = raw_df.values[1::2, 2]\n",
      "\n",
      "    Alternative datasets include the California housing dataset (i.e.\n",
      "    :func:`~sklearn.datasets.fetch_california_housing`) and the Ames housing\n",
      "    dataset. You can load the datasets as follows::\n",
      "\n",
      "        from sklearn.datasets import fetch_california_housing\n",
      "        housing = fetch_california_housing()\n",
      "\n",
      "    for the California housing dataset and::\n",
      "\n",
      "        from sklearn.datasets import fetch_openml\n",
      "        housing = fetch_openml(name=\"house_prices\", as_frame=True)\n",
      "\n",
      "    for the Ames housing dataset.\n",
      "    \n",
      "  warnings.warn(msg, category=FutureWarning)\n"
     ]
    }
   ],
   "source": [
    "## 데이터 셋 불러오기\n",
    "boston = load_boston()\n",
    "\n",
    "data_frame         = pd.DataFrame(boston.data, columns = boston.feature_names)\n",
    "data_frame['MEDV'] = boston.target "
   ]
  },
  {
   "cell_type": "code",
   "execution_count": 4,
   "id": "4b268431-53b5-43a6-a189-f446e54e558c",
   "metadata": {},
   "outputs": [
    {
     "data": {
      "text/html": [
       "<div>\n",
       "<style scoped>\n",
       "    .dataframe tbody tr th:only-of-type {\n",
       "        vertical-align: middle;\n",
       "    }\n",
       "\n",
       "    .dataframe tbody tr th {\n",
       "        vertical-align: top;\n",
       "    }\n",
       "\n",
       "    .dataframe thead th {\n",
       "        text-align: right;\n",
       "    }\n",
       "</style>\n",
       "<table border=\"1\" class=\"dataframe\">\n",
       "  <thead>\n",
       "    <tr style=\"text-align: right;\">\n",
       "      <th></th>\n",
       "      <th>CRIM</th>\n",
       "      <th>ZN</th>\n",
       "      <th>INDUS</th>\n",
       "      <th>CHAS</th>\n",
       "      <th>NOX</th>\n",
       "      <th>RM</th>\n",
       "      <th>AGE</th>\n",
       "      <th>DIS</th>\n",
       "      <th>RAD</th>\n",
       "      <th>TAX</th>\n",
       "      <th>PTRATIO</th>\n",
       "      <th>B</th>\n",
       "      <th>LSTAT</th>\n",
       "      <th>MEDV</th>\n",
       "    </tr>\n",
       "  </thead>\n",
       "  <tbody>\n",
       "    <tr>\n",
       "      <th>0</th>\n",
       "      <td>0.00632</td>\n",
       "      <td>18.0</td>\n",
       "      <td>2.31</td>\n",
       "      <td>0.0</td>\n",
       "      <td>0.538</td>\n",
       "      <td>6.575</td>\n",
       "      <td>65.2</td>\n",
       "      <td>4.0900</td>\n",
       "      <td>1.0</td>\n",
       "      <td>296.0</td>\n",
       "      <td>15.3</td>\n",
       "      <td>396.90</td>\n",
       "      <td>4.98</td>\n",
       "      <td>24.0</td>\n",
       "    </tr>\n",
       "    <tr>\n",
       "      <th>1</th>\n",
       "      <td>0.02731</td>\n",
       "      <td>0.0</td>\n",
       "      <td>7.07</td>\n",
       "      <td>0.0</td>\n",
       "      <td>0.469</td>\n",
       "      <td>6.421</td>\n",
       "      <td>78.9</td>\n",
       "      <td>4.9671</td>\n",
       "      <td>2.0</td>\n",
       "      <td>242.0</td>\n",
       "      <td>17.8</td>\n",
       "      <td>396.90</td>\n",
       "      <td>9.14</td>\n",
       "      <td>21.6</td>\n",
       "    </tr>\n",
       "    <tr>\n",
       "      <th>2</th>\n",
       "      <td>0.02729</td>\n",
       "      <td>0.0</td>\n",
       "      <td>7.07</td>\n",
       "      <td>0.0</td>\n",
       "      <td>0.469</td>\n",
       "      <td>7.185</td>\n",
       "      <td>61.1</td>\n",
       "      <td>4.9671</td>\n",
       "      <td>2.0</td>\n",
       "      <td>242.0</td>\n",
       "      <td>17.8</td>\n",
       "      <td>392.83</td>\n",
       "      <td>4.03</td>\n",
       "      <td>34.7</td>\n",
       "    </tr>\n",
       "    <tr>\n",
       "      <th>3</th>\n",
       "      <td>0.03237</td>\n",
       "      <td>0.0</td>\n",
       "      <td>2.18</td>\n",
       "      <td>0.0</td>\n",
       "      <td>0.458</td>\n",
       "      <td>6.998</td>\n",
       "      <td>45.8</td>\n",
       "      <td>6.0622</td>\n",
       "      <td>3.0</td>\n",
       "      <td>222.0</td>\n",
       "      <td>18.7</td>\n",
       "      <td>394.63</td>\n",
       "      <td>2.94</td>\n",
       "      <td>33.4</td>\n",
       "    </tr>\n",
       "    <tr>\n",
       "      <th>4</th>\n",
       "      <td>0.06905</td>\n",
       "      <td>0.0</td>\n",
       "      <td>2.18</td>\n",
       "      <td>0.0</td>\n",
       "      <td>0.458</td>\n",
       "      <td>7.147</td>\n",
       "      <td>54.2</td>\n",
       "      <td>6.0622</td>\n",
       "      <td>3.0</td>\n",
       "      <td>222.0</td>\n",
       "      <td>18.7</td>\n",
       "      <td>396.90</td>\n",
       "      <td>5.33</td>\n",
       "      <td>36.2</td>\n",
       "    </tr>\n",
       "  </tbody>\n",
       "</table>\n",
       "</div>"
      ],
      "text/plain": [
       "      CRIM    ZN  INDUS  CHAS    NOX     RM   AGE     DIS  RAD    TAX  \\\n",
       "0  0.00632  18.0   2.31   0.0  0.538  6.575  65.2  4.0900  1.0  296.0   \n",
       "1  0.02731   0.0   7.07   0.0  0.469  6.421  78.9  4.9671  2.0  242.0   \n",
       "2  0.02729   0.0   7.07   0.0  0.469  7.185  61.1  4.9671  2.0  242.0   \n",
       "3  0.03237   0.0   2.18   0.0  0.458  6.998  45.8  6.0622  3.0  222.0   \n",
       "4  0.06905   0.0   2.18   0.0  0.458  7.147  54.2  6.0622  3.0  222.0   \n",
       "\n",
       "   PTRATIO       B  LSTAT  MEDV  \n",
       "0     15.3  396.90   4.98  24.0  \n",
       "1     17.8  396.90   9.14  21.6  \n",
       "2     17.8  392.83   4.03  34.7  \n",
       "3     18.7  394.63   2.94  33.4  \n",
       "4     18.7  396.90   5.33  36.2  "
      ]
     },
     "execution_count": 4,
     "metadata": {},
     "output_type": "execute_result"
    }
   ],
   "source": [
    "data_frame.head()"
   ]
  },
  {
   "cell_type": "markdown",
   "id": "d52f3cf6-9556-4470-9976-d115e381dff4",
   "metadata": {},
   "source": [
    "- 각 데이터별 특징은 다음과 같다. \n",
    "|변수|설명|\n",
    "|:--:|:--:|\n",
    "|CRIM|범죄 발생률|\n",
    "|ZN|25,000 평방 피트 이상의 주택 구역 비율|\n",
    "|INDUS|비소매업종의 토지면적 비율|\n",
    "|CHAS|찰스 강변인가를 나타내는 더미 변수|\n",
    "|NOX|질소 산화물 농도|\n",
    "|RM|평균 방(room) 개수|\n",
    "|AGE|1940년 이전에 지어진 건물 비율|\n",
    "|DIS|다섯개의 보스턴 고용시설으로의 거리|\n",
    "|RAD|고속도로 접근 용이성|\n",
    "|TAX|10,000 달러당 부동산 세율|\n",
    "|PTRATIO|학생과 교사 비율|\n",
    "|B|흑인 비율|\n",
    "|LSTAT|저소득자 비율|\n",
    "|MEDV|주택 가격의 중앙값 (단위 1,000)|"
   ]
  },
  {
   "cell_type": "markdown",
   "id": "c36748f6-4458-4e15-9d47-4e8cbf28972c",
   "metadata": {},
   "source": [
    "- RM과 MEDV의 상관관계를 구하여 평균 방 개수와 주택 가격이 어느정도 연관성을 가지는지 파악한다."
   ]
  },
  {
   "cell_type": "code",
   "execution_count": 8,
   "id": "0d315918-426d-4a15-86d6-525bee87a05a",
   "metadata": {},
   "outputs": [
    {
     "data": {
      "image/png": "[encoded data removed]",
      "text/plain": [
       "<Figure size 432x288 with 1 Axes>"
      ]
     },
     "metadata": {
      "needs_background": "light"
     },
     "output_type": "display_data"
    }
   ],
   "source": [
    "## 평균 방 개수와 주택가격의 산포도\n",
    "plt.scatter(data_frame['RM'], data_frame['MEDV'])\n",
    "plt.title('Scatter plot of RM vs MEDV')\n",
    "plt.xlabel('Average number of rooms (RM)')\n",
    "plt.ylabel('Prices in $1000\\'s (MEDV)')\n",
    "plt.grid()"
   ]
  },
  {
   "cell_type": "code",
   "execution_count": 15,
   "id": "a05525e3-bbfb-40ec-a29c-d21e4d66bd0f",
   "metadata": {},
   "outputs": [
    {
     "data": {
      "text/html": [
       "<div>\n",
       "<style scoped>\n",
       "    .dataframe tbody tr th:only-of-type {\n",
       "        vertical-align: middle;\n",
       "    }\n",
       "\n",
       "    .dataframe tbody tr th {\n",
       "        vertical-align: top;\n",
       "    }\n",
       "\n",
       "    .dataframe thead th {\n",
       "        text-align: right;\n",
       "    }\n",
       "</style>\n",
       "<table border=\"1\" class=\"dataframe\">\n",
       "  <thead>\n",
       "    <tr style=\"text-align: right;\">\n",
       "      <th></th>\n",
       "      <th>RM</th>\n",
       "      <th>MEDV</th>\n",
       "    </tr>\n",
       "  </thead>\n",
       "  <tbody>\n",
       "    <tr>\n",
       "      <th>RM</th>\n",
       "      <td>1.00000</td>\n",
       "      <td>0.69536</td>\n",
       "    </tr>\n",
       "    <tr>\n",
       "      <th>MEDV</th>\n",
       "      <td>0.69536</td>\n",
       "      <td>1.00000</td>\n",
       "    </tr>\n",
       "  </tbody>\n",
       "</table>\n",
       "</div>"
      ],
      "text/plain": [
       "           RM     MEDV\n",
       "RM    1.00000  0.69536\n",
       "MEDV  0.69536  1.00000"
      ]
     },
     "execution_count": 15,
     "metadata": {},
     "output_type": "execute_result"
    }
   ],
   "source": [
    "## RM과 MEDV의 상관관계 계산\n",
    "## 약 0.7정도로 양의 상관관계를 지니고 있다.\n",
    "\n",
    "corr_df = data_frame[['RM', 'MEDV']]\n",
    "corr_df.corr()"
   ]
  },
  {
   "cell_type": "code",
   "execution_count": 26,
   "id": "2ab044fb-0c12-4012-9b17-54c08ba0e417",
   "metadata": {},
   "outputs": [
    {
     "name": "stdout",
     "output_type": "stream",
     "text": [
      "독립변수의 계수 |  9.10210898118031\n",
      "편향           |  -34.67062077643857\n"
     ]
    }
   ],
   "source": [
    "from sklearn.linear_model import LinearRegression\n",
    "\n",
    "x = data_frame[['RM']].values\n",
    "y = data_frame['MEDV'].values\n",
    "model.fit(x, y)\n",
    "\n",
    "## 독립변수 (방의 갯수)의 계수는 약 9.1, 편향은 약 -34.7로 도출\n",
    "print('독립변수의 계수 | ', model.coef_[0])\n",
    "print('편향           | ', model.intercept_)"
   ]
  },
  {
   "cell_type": "code",
   "execution_count": 27,
   "id": "58a4e4bb-3286-4df4-9822-c83b99aefafa",
   "metadata": {},
   "outputs": [
    {
     "data": {
      "image/png": "[encoded data removed]",
      "text/plain": [
       "<Figure size 432x288 with 1 Axes>"
      ]
     },
     "metadata": {
      "needs_background": "light"
     },
     "output_type": "display_data"
    }
   ],
   "source": [
    "plt.scatter(x, y, color = 'blue')\n",
    "\n",
    "## 회귀직선 그리기\n",
    "plt.plot(x, model.predict(x), color = 'red')\n",
    "plt.xlabel('Average number of rooms (RM)')\n",
    "plt.ylabel('Prices in $1000\\'s (MEDV)')\n",
    "plt.grid()"
   ]
  },
  {
   "cell_type": "markdown",
   "id": "8f37fdb6-3607-4971-bb78-8a2eeeb37d57",
   "metadata": {},
   "source": [
    "## **1-6. 선형회귀 모델 성능 평가**\n",
    "- 학습으로 얻어낸 선형 모델의 성능을 평가하기 위해 학습 : 시험 데이터셋 비율을 7 : 3으로 분할  \n",
    "- 선형모델이 종속변수를 완벽하게 예측가능한 상황은 잔차가 0이 되는 것으로, 예측 정밀도가 좋은 선형 모델의 잔차 그래프는 0을 중심으로 랜덤하게 흩어진다.  \n",
    "- 잔차 그래프에서 무언가 패턴을 보이는 경우는 선형 모델에서 설명할 수 없는 정보가 있다는 것을 시사 "
   ]
  },
  {
   "cell_type": "code",
   "execution_count": 35,
   "id": "fe91daaa-0ce4-41fb-8a4e-3c46a13794ff",
   "metadata": {},
   "outputs": [
    {
     "data": {
      "image/png": "[encoded data removed]",
      "text/plain": [
       "<Figure size 432x288 with 1 Axes>"
      ]
     },
     "metadata": {
      "needs_background": "light"
     },
     "output_type": "display_data"
    }
   ],
   "source": [
    "from sklearn.model_selection import train_test_split\n",
    "train_x, test_x, train_y, test_y = train_test_split(x, y, test_size = 0.3, random_state = 42)\n",
    "\n",
    "model.fit(train_x, train_y)\n",
    "\n",
    "pred_y = model.predict(test_x)\n",
    "\n",
    "## 잔차 구하기\n",
    "residual = pred_y - test_y\n",
    "plt.scatter(pred_y, residual, color = 'blue')\n",
    "plt.hlines(y = 0, xmin = -10, xmax = 50, color = 'red')\n",
    "\n",
    "plt.title('residual graph')\n",
    "plt.xlabel('predicted values')\n",
    "plt.ylabel('residuals')\n",
    "plt.grid()\n"
   ]
  },
  {
   "cell_type": "markdown",
   "id": "724bf46a-f308-44bb-9481-9cdd785fe208",
   "metadata": {},
   "source": [
    "- 잔차 그래프를 그려본 결과 0을 중심으로 대체로 분포하고 있지만, 이상치도 있음을 보임."
   ]
  },
  {
   "cell_type": "code",
   "execution_count": null,
   "id": "ecf15385-8638-413b-a3f3-abbb3f69fc96",
   "metadata": {},
   "outputs": [],
   "source": []
  }
 ],
 "metadata": {
  "kernelspec": {
   "display_name": "bio",
   "language": "python",
   "name": "bio"
  },
  "language_info": {
   "codemirror_mode": {
    "name": "ipython",
    "version": 3
   },
   "file_extension": ".py",
   "mimetype": "text/x-python",
   "name": "python",
   "nbconvert_exporter": "python",
   "pygments_lexer": "ipython3",
   "version": "3.9.12"
  }
 },
 "nbformat": 4,
 "nbformat_minor": 5
}
