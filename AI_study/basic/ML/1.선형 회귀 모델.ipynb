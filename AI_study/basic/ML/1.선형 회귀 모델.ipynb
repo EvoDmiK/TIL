{
 "cells": [
  {
   "cell_type": "markdown",
   "id": "0c4cc316-8eb2-4a3d-beab-4c850537df64",
   "metadata": {},
   "source": [
    "# **0. 참고자료**\n",
    "## **0-1. 도서**\n",
    "   - 한빛 미디어 | 오를레앙 제롱 저, 박해선 역 - 핸즈온 머신러닝\n",
    "\n",
    "## **0-2. 논문, 학술지**\n",
    "\n",
    "## **0-3. 웹사이트**\n",
    "- 지미뉴트론 개발일기 - [Pandas] 파이썬 데이터프레임 값 변경 / 대체 방법 정리 | [[블로그 링크]](https://jimmy-ai.tistory.com/245)  \n",
    "- 아무튼 워라밸 - 다중선형회귀(Multiple Linear Regression) - 파이썬 코드 예제 | [[블로그 링크]](https://hleecaster.com/ml-multiple-linear-regression-example/)\n",
    "- @_@.... - Scikit-learn(사이킷런)으로 선형회귀 | [[블로그 링크]](https://dprdmr.tistory.com/30)\n",
    "\n",
    "## **0-4. 데이터셋 출처**\n",
    "\n"
   ]
  },
  {
   "cell_type": "markdown",
   "id": "403bf1b1-89fa-4f6e-8e3b-a91816854aaf",
   "metadata": {},
   "source": [
    "# **1. 선형 회귀 (Linear Regression)**\n",
    "- 선형 회귀 모델은 연속값을 취하는 종속변수와 독립변수의 선형관계를 모델화 한것.  \n",
    "<span style=\"color:red\"><b>! 선형관계는 독립변수가 증가(감소)함에 따라, 종속변수도 단조 증가(감소)하는 관계를 말함</b></span>\n",
    "- 독립변수가 하나인 경우에 선형모델은 아래의 식으로 정의된다.  \n",
    "$ y = w_{0} + w_{1}x $  \n",
    "- 독립변수가 여러개인 경우에는 아래의 식으로 정의된다.  \n",
    "$y = w_{0} + w_{1}x_{1} + ... +w_{n}x_{n} = w_{0} + \\displaystyle\\sum^n_{i=1}w_{i}x_{i}$  \n",
    "- $ w_{0} $은 절편(편향), $ w_{i} (1 \\leq i \\leq n) $은 가중치를 나타낸다.  \n",
    "- 선형 회귀 모델은 종속변수와 여러개의 독립변수의 관계를 나타내는 모델의 중첩을 학습하는 것이 목적이다.  \n",
    "<span style=\"color:red\"><b>! 신경망을 구성하는 퍼셉트론의 식과 동일 하다.</b></span>  \n",
    "\n",
    "## **1-1. 간단한 선형 모델 만들기**"
   ]
  },
  {
   "cell_type": "code",
   "execution_count": 1,
   "id": "cb06e75f-a302-499a-8e84-b2ab8f148cc4",
   "metadata": {},
   "outputs": [],
   "source": [
    "from sklearn.model_selection import train_test_split\n",
    "from sklearn.datasets import load_boston\n",
    "import matplotlib.pyplot as plt\n",
    "import pandas as pd\n",
    "import numpy as np\n",
    "import os"
   ]
  },
  {
   "cell_type": "code",
   "execution_count": 3,
   "id": "a72e587e-dd16-4107-a443-c1438b656671",
   "metadata": {},
   "outputs": [
    {
     "name": "stderr",
     "output_type": "stream",
     "text": [
      "/opt/conda/envs/bio/lib/python3.9/site-packages/sklearn/utils/deprecation.py:87: FutureWarning: Function load_boston is deprecated; `load_boston` is deprecated in 1.0 and will be removed in 1.2.\n",
      "\n",
      "    The Boston housing prices dataset has an ethical problem. You can refer to\n",
      "    the documentation of this function for further details.\n",
      "\n",
      "    The scikit-learn maintainers therefore strongly discourage the use of this\n",
      "    dataset unless the purpose of the code is to study and educate about\n",
      "    ethical issues in data science and machine learning.\n",
      "\n",
      "    In this special case, you can fetch the dataset from the original\n",
      "    source::\n",
      "\n",
      "        import pandas as pd\n",
      "        import numpy as np\n",
      "\n",
      "\n",
      "        data_url = \"http://lib.stat.cmu.edu/datasets/boston\"\n",
      "        raw_df = pd.read_csv(data_url, sep=\"\\s+\", skiprows=22, header=None)\n",
      "        data = np.hstack([raw_df.values[::2, :], raw_df.values[1::2, :2]])\n",
      "        target = raw_df.values[1::2, 2]\n",
      "\n",
      "    Alternative datasets include the California housing dataset (i.e.\n",
      "    :func:`~sklearn.datasets.fetch_california_housing`) and the Ames housing\n",
      "    dataset. You can load the datasets as follows::\n",
      "\n",
      "        from sklearn.datasets import fetch_california_housing\n",
      "        housing = fetch_california_housing()\n",
      "\n",
      "    for the California housing dataset and::\n",
      "\n",
      "        from sklearn.datasets import fetch_openml\n",
      "        housing = fetch_openml(name=\"house_prices\", as_frame=True)\n",
      "\n",
      "    for the Ames housing dataset.\n",
      "    \n",
      "  warnings.warn(msg, category=FutureWarning)\n"
     ]
    },
    {
     "data": {
      "text/html": [
       "<div>\n",
       "<style scoped>\n",
       "    .dataframe tbody tr th:only-of-type {\n",
       "        vertical-align: middle;\n",
       "    }\n",
       "\n",
       "    .dataframe tbody tr th {\n",
       "        vertical-align: top;\n",
       "    }\n",
       "\n",
       "    .dataframe thead th {\n",
       "        text-align: right;\n",
       "    }\n",
       "</style>\n",
       "<table border=\"1\" class=\"dataframe\">\n",
       "  <thead>\n",
       "    <tr style=\"text-align: right;\">\n",
       "      <th></th>\n",
       "      <th>CRIM</th>\n",
       "      <th>ZN</th>\n",
       "      <th>INDUS</th>\n",
       "      <th>CHAS</th>\n",
       "      <th>NOX</th>\n",
       "      <th>RM</th>\n",
       "      <th>AGE</th>\n",
       "      <th>DIS</th>\n",
       "      <th>RAD</th>\n",
       "      <th>TAX</th>\n",
       "      <th>PTRATIO</th>\n",
       "      <th>B</th>\n",
       "      <th>LSTAT</th>\n",
       "      <th>MEDV</th>\n",
       "    </tr>\n",
       "  </thead>\n",
       "  <tbody>\n",
       "    <tr>\n",
       "      <th>0</th>\n",
       "      <td>0.00632</td>\n",
       "      <td>18.0</td>\n",
       "      <td>2.31</td>\n",
       "      <td>0.0</td>\n",
       "      <td>0.538</td>\n",
       "      <td>6.575</td>\n",
       "      <td>65.2</td>\n",
       "      <td>4.0900</td>\n",
       "      <td>1.0</td>\n",
       "      <td>296.0</td>\n",
       "      <td>15.3</td>\n",
       "      <td>396.90</td>\n",
       "      <td>4.98</td>\n",
       "      <td>24.0</td>\n",
       "    </tr>\n",
       "    <tr>\n",
       "      <th>1</th>\n",
       "      <td>0.02731</td>\n",
       "      <td>0.0</td>\n",
       "      <td>7.07</td>\n",
       "      <td>0.0</td>\n",
       "      <td>0.469</td>\n",
       "      <td>6.421</td>\n",
       "      <td>78.9</td>\n",
       "      <td>4.9671</td>\n",
       "      <td>2.0</td>\n",
       "      <td>242.0</td>\n",
       "      <td>17.8</td>\n",
       "      <td>396.90</td>\n",
       "      <td>9.14</td>\n",
       "      <td>21.6</td>\n",
       "    </tr>\n",
       "    <tr>\n",
       "      <th>2</th>\n",
       "      <td>0.02729</td>\n",
       "      <td>0.0</td>\n",
       "      <td>7.07</td>\n",
       "      <td>0.0</td>\n",
       "      <td>0.469</td>\n",
       "      <td>7.185</td>\n",
       "      <td>61.1</td>\n",
       "      <td>4.9671</td>\n",
       "      <td>2.0</td>\n",
       "      <td>242.0</td>\n",
       "      <td>17.8</td>\n",
       "      <td>392.83</td>\n",
       "      <td>4.03</td>\n",
       "      <td>34.7</td>\n",
       "    </tr>\n",
       "    <tr>\n",
       "      <th>3</th>\n",
       "      <td>0.03237</td>\n",
       "      <td>0.0</td>\n",
       "      <td>2.18</td>\n",
       "      <td>0.0</td>\n",
       "      <td>0.458</td>\n",
       "      <td>6.998</td>\n",
       "      <td>45.8</td>\n",
       "      <td>6.0622</td>\n",
       "      <td>3.0</td>\n",
       "      <td>222.0</td>\n",
       "      <td>18.7</td>\n",
       "      <td>394.63</td>\n",
       "      <td>2.94</td>\n",
       "      <td>33.4</td>\n",
       "    </tr>\n",
       "    <tr>\n",
       "      <th>4</th>\n",
       "      <td>0.06905</td>\n",
       "      <td>0.0</td>\n",
       "      <td>2.18</td>\n",
       "      <td>0.0</td>\n",
       "      <td>0.458</td>\n",
       "      <td>7.147</td>\n",
       "      <td>54.2</td>\n",
       "      <td>6.0622</td>\n",
       "      <td>3.0</td>\n",
       "      <td>222.0</td>\n",
       "      <td>18.7</td>\n",
       "      <td>396.90</td>\n",
       "      <td>5.33</td>\n",
       "      <td>36.2</td>\n",
       "    </tr>\n",
       "  </tbody>\n",
       "</table>\n",
       "</div>"
      ],
      "text/plain": [
       "      CRIM    ZN  INDUS  CHAS    NOX     RM   AGE     DIS  RAD    TAX  \\\n",
       "0  0.00632  18.0   2.31   0.0  0.538  6.575  65.2  4.0900  1.0  296.0   \n",
       "1  0.02731   0.0   7.07   0.0  0.469  6.421  78.9  4.9671  2.0  242.0   \n",
       "2  0.02729   0.0   7.07   0.0  0.469  7.185  61.1  4.9671  2.0  242.0   \n",
       "3  0.03237   0.0   2.18   0.0  0.458  6.998  45.8  6.0622  3.0  222.0   \n",
       "4  0.06905   0.0   2.18   0.0  0.458  7.147  54.2  6.0622  3.0  222.0   \n",
       "\n",
       "   PTRATIO       B  LSTAT  MEDV  \n",
       "0     15.3  396.90   4.98  24.0  \n",
       "1     17.8  396.90   9.14  21.6  \n",
       "2     17.8  392.83   4.03  34.7  \n",
       "3     18.7  394.63   2.94  33.4  \n",
       "4     18.7  396.90   5.33  36.2  "
      ]
     },
     "execution_count": 3,
     "metadata": {},
     "output_type": "execute_result"
    }
   ],
   "source": [
    "## 데이터 셋 불러오기\n",
    "boston = load_boston()\n",
    "\n",
    "data_frame         = pd.DataFrame(boston.data, columns = boston.feature_names)\n",
    "data_frame['MEDV'] = boston.target \n",
    "\n",
    "data_frame.head()"
   ]
  },
  {
   "cell_type": "markdown",
   "id": "9fa9a8e6-aeda-4c23-8137-c5967b2b0971",
   "metadata": {},
   "source": [
    "- 각 데이터별 특징은 다음과 같다. \n",
    "|변수|설명|\n",
    "|:--:|:--:|\n",
    "|CRIM|범죄 발생률|\n",
    "|ZN|25,000 평방 피트 이상의 주택 구역 비율|\n",
    "|INDUS|비소매업종의 토지면적 비율|\n",
    "|CHAS|찰스 강변인가를 나타내는 더미 변수|\n",
    "|NOX|질소 산화물 농도|\n",
    "|RM|평균 방(room) 개수|\n",
    "|AGE|1940년 이전에 지어진 건물 비율|\n",
    "|DIS|다섯개의 보스턴 고용시설으로의 거리|\n",
    "|RAD|고속도로 접근 용이성|\n",
    "|TAX|10,000 달러당 부동산 세율|\n",
    "|PTRATIO|학생과 교사 비율|\n",
    "|B|흑인 비율|\n",
    "|LSTAT|저소득자 비율|\n",
    "|MEDV|주택 가격의 중앙값 (단위 1,000)|\n",
    "\n",
    "- RM과 MEDV의 상관관계를 구하여 평균 방 개수와 주택 가격이 어느정도 연관성을 가지는지 파악한다."
   ]
  },
  {
   "cell_type": "code",
   "execution_count": 4,
   "id": "f06630e6-ea0c-4164-947b-2e92ef805a9a",
   "metadata": {},
   "outputs": [
    {
     "data": {
      "image/png": "[encoded data removed]",
      "text/plain": [
       "<Figure size 432x288 with 1 Axes>"
      ]
     },
     "metadata": {
      "needs_background": "light"
     },
     "output_type": "display_data"
    }
   ],
   "source": [
    "## 평균 방 개수와 주택가격의 산포도\n",
    "plt.scatter(data_frame['RM'], data_frame['MEDV'])\n",
    "plt.title('Scatter plot of RM vs MEDV')\n",
    "plt.xlabel('Average number of rooms (RM)')\n",
    "plt.ylabel('Prices in $1000\\'s (MEDV)')\n",
    "plt.grid()"
   ]
  },
  {
   "cell_type": "code",
   "execution_count": 5,
   "id": "1398bff3-cf5d-4ee0-b796-a768c5e26645",
   "metadata": {},
   "outputs": [
    {
     "data": {
      "text/html": [
       "<div>\n",
       "<style scoped>\n",
       "    .dataframe tbody tr th:only-of-type {\n",
       "        vertical-align: middle;\n",
       "    }\n",
       "\n",
       "    .dataframe tbody tr th {\n",
       "        vertical-align: top;\n",
       "    }\n",
       "\n",
       "    .dataframe thead th {\n",
       "        text-align: right;\n",
       "    }\n",
       "</style>\n",
       "<table border=\"1\" class=\"dataframe\">\n",
       "  <thead>\n",
       "    <tr style=\"text-align: right;\">\n",
       "      <th></th>\n",
       "      <th>RM</th>\n",
       "      <th>MEDV</th>\n",
       "    </tr>\n",
       "  </thead>\n",
       "  <tbody>\n",
       "    <tr>\n",
       "      <th>RM</th>\n",
       "      <td>1.00000</td>\n",
       "      <td>0.69536</td>\n",
       "    </tr>\n",
       "    <tr>\n",
       "      <th>MEDV</th>\n",
       "      <td>0.69536</td>\n",
       "      <td>1.00000</td>\n",
       "    </tr>\n",
       "  </tbody>\n",
       "</table>\n",
       "</div>"
      ],
      "text/plain": [
       "           RM     MEDV\n",
       "RM    1.00000  0.69536\n",
       "MEDV  0.69536  1.00000"
      ]
     },
     "execution_count": 5,
     "metadata": {},
     "output_type": "execute_result"
    }
   ],
   "source": [
    "## RM과 MEDV의 상관관계 계산\n",
    "## 약 0.7정도로 양의 상관관계를 지니고 있다.\n",
    "\n",
    "corr_df = data_frame[['RM', 'MEDV']]\n",
    "corr_df.corr()"
   ]
  },
  {
   "cell_type": "code",
   "execution_count": 6,
   "id": "fc56a11b-7304-4443-9c72-f318abfa974e",
   "metadata": {},
   "outputs": [
    {
     "name": "stdout",
     "output_type": "stream",
     "text": [
      "독립변수의 계수 |  9.10210898118031\n",
      "편향           |  -34.67062077643857\n"
     ]
    }
   ],
   "source": [
    "from sklearn.linear_model import LinearRegression\n",
    "\n",
    "model = LinearRegression()\n",
    "x = data_frame[['RM']].values\n",
    "y = data_frame['MEDV'].values\n",
    "model.fit(x, y)\n",
    "\n",
    "## 독립변수 (방의 갯수)의 계수는 약 9.1, 편향은 약 -34.7로 도출\n",
    "print('독립변수의 계수 | ', model.coef_[0])\n",
    "print('편향           | ', model.intercept_)"
   ]
  },
  {
   "cell_type": "code",
   "execution_count": 7,
   "id": "f0dc0720-fe24-4162-96d4-ce6d3de8d369",
   "metadata": {},
   "outputs": [
    {
     "data": {
      "image/png": "[encoded data removed]",
      "text/plain": [
       "<Figure size 432x288 with 1 Axes>"
      ]
     },
     "metadata": {
      "needs_background": "light"
     },
     "output_type": "display_data"
    }
   ],
   "source": [
    "plt.scatter(x, y)\n",
    "\n",
    "## 회귀직선 그리기\n",
    "plt.plot(x, model.predict(x), color = 'red')\n",
    "plt.xlabel('Average number of rooms (RM)')\n",
    "plt.ylabel('Prices in $1000\\'s (MEDV)')\n",
    "plt.grid()"
   ]
  },
  {
   "cell_type": "markdown",
   "id": "bfc3a71a-b47c-4954-98d8-13214d972b29",
   "metadata": {},
   "source": [
    "## **1-6. 선형회귀 모델 성능 평가**\n",
    "- 학습으로 얻어낸 선형 모델의 성능을 평가하기 위해 학습 : 시험 데이터셋 비율을 7 : 3으로 분할  \n",
    "- 선형모델이 종속변수를 완벽하게 예측가능한 상황은 잔차가 0이 되는 것으로, 예측 정밀도가 좋은 선형 모델의 잔차 그래프는 0을 중심으로 랜덤하게 흩어진다.  \n",
    "- 잔차 그래프에서 무언가 패턴을 보이는 경우는 선형 모델에서 설명할 수 없는 정보가 있다는 것을 시사 "
   ]
  },
  {
   "cell_type": "code",
   "execution_count": 9,
   "id": "847c41e9-1cf5-4c94-8359-112700336c67",
   "metadata": {},
   "outputs": [
    {
     "data": {
      "image/png": "[encoded data removed]",
      "text/plain": [
       "<Figure size 432x288 with 1 Axes>"
      ]
     },
     "metadata": {
      "needs_background": "light"
     },
     "output_type": "display_data"
    }
   ],
   "source": [
    "from sklearn.model_selection import train_test_split\n",
    "train_x, test_x, train_y, test_y = train_test_split(x, y, test_size = 0.3, random_state = 42)\n",
    "\n",
    "model.fit(train_x, train_y)\n",
    "\n",
    "pred_y = model.predict(test_x)\n",
    "\n",
    "## 잔차 구하기\n",
    "residual = pred_y - test_y\n",
    "plt.scatter(pred_y, residual)\n",
    "plt.hlines(y = 0, xmin = -10, xmax = 50, color = 'red')\n",
    "\n",
    "## 잔차 그래프를 그려본 결과 0을 중심으로 대체로 분포하고 있지만, 이상치도 있음을 보임. \n",
    "plt.title('residual graph')\n",
    "plt.xlabel('predicted values')\n",
    "plt.ylabel('residuals')\n",
    "plt.grid()"
   ]
  },
  {
   "cell_type": "markdown",
   "id": "82ccedf1-f5e0-427d-8f45-a8d1fbeb9415",
   "metadata": {},
   "source": [
    " - 모델이 얼마나 좋은지 측정하는 <span style=\"color: orange\"><b>효용 함수(Utility function / 적합도 함수 fitness function)</b></span>을 정의하거나  \n",
    "  얼마나 나쁜지 측정하는 <span style=\"color: orange\"><b>비용 함수(Cost function)</b></span>을 정의할 수 있다.\n",
    "- <span style=\"color: orange\"><b>MSE(Mean Squared Error)</b></span>는 모델의 성능을 수치화하는 비용함수의 일종이다.   \n",
    "- 오차가 작으면, 모델 성능이 좋음을 보인다.  \n",
    "$ Mean Squared Error = \\frac{1}{N}\\displaystyle\\sum_{i=0}^N(y_{i} - \\hat y_{i})^2 $"
   ]
  },
  {
   "cell_type": "code",
   "execution_count": 10,
   "id": "2a1153e5-6e37-4726-bf56-c3bae13308e8",
   "metadata": {},
   "outputs": [
    {
     "name": "stdout",
     "output_type": "stream",
     "text": [
      "학습 데이터 MSE : 45.013\n",
      "시험 데이터 MSE : 40.351\n"
     ]
    }
   ],
   "source": [
    "from sklearn.metrics import mean_squared_error, r2_score\n",
    "\n",
    "train_pred, test_pred = model.predict(train_x), model.predict(test_x)\n",
    "print(f'학습 데이터 MSE : {mean_squared_error(train_y, train_pred):.3f}')\n",
    "print(f'시험 데이터 MSE : {mean_squared_error(test_y, test_pred):.3f}')"
   ]
  },
  {
   "cell_type": "markdown",
   "id": "aec84e68-4561-4609-af8f-00126d3bc5fe",
   "metadata": {},
   "source": [
    "- <span style=\"color: orange\"><b>결정 계수(Coefficient of Determination)</b></span>은 선형 모델의 예측오차를 반영한 지표이다.  \n",
    "- 0 ~ 1 사이의 값을 가지며 값이 클수록 선형 모델이 데이터에 적합하다고 할 수 있다.  \n",
    "$\n",
    "    R^2 = 1 - \\frac{SSE}{SST} \\\\\n",
    "    \\quad = 1 - \\frac{\\frac{1}{N}\\displaystyle\\sum_{i=1}^N(y_{i} - \\hat y_{i})^2}{\\frac{1}{N}\\displaystyle\\sum_{i=1}^N(y_{i} - \\mu_{i})^2} \\\\\n",
    "    \\quad = 1 - \\frac{MSE}{Var(y)}\n",
    "$"
   ]
  },
  {
   "cell_type": "code",
   "execution_count": 11,
   "id": "1ebafe30-f304-4e04-aa7d-4965421e96f5",
   "metadata": {},
   "outputs": [
    {
     "name": "stdout",
     "output_type": "stream",
     "text": [
      "학습 데이터 결정 계수 : 0.488\n",
      "시험 데이터 결정 계수 : 0.458\n"
     ]
    }
   ],
   "source": [
    "print(f'학습 데이터 결정 계수 : {r2_score(train_y, train_pred):.3f}')\n",
    "print(f'시험 데이터 결정 계수 : {r2_score(test_y, test_pred):.3f}')"
   ]
  },
  {
   "cell_type": "code",
   "execution_count": null,
   "id": "61256f14-2ad0-4a2f-a703-df634f0e5fc9",
   "metadata": {},
   "outputs": [],
   "source": []
  }
 ],
 "metadata": {
  "kernelspec": {
   "display_name": "bio",
   "language": "python",
   "name": "bio"
  },
  "language_info": {
   "codemirror_mode": {
    "name": "ipython",
    "version": 3
   },
   "file_extension": ".py",
   "mimetype": "text/x-python",
   "name": "python",
   "nbconvert_exporter": "python",
   "pygments_lexer": "ipython3",
   "version": "3.9.12"
  }
 },
 "nbformat": 4,
 "nbformat_minor": 5
}
