{
 "cells": [
  {
   "cell_type": "markdown",
   "id": "9fa93c72-789c-47ad-81e0-05008ecbd3db",
   "metadata": {},
   "source": [
    "# **0. 참고자료**  \n",
    "## **0-1. 도서**\n",
    "\n",
    "## **0-2. 논문, 학술지**\n",
    "## **0-3. 웹 사이트**\n",
    "- 꿈 많은 사람의 이야기 : 파이썬과 함께 추천 시스템 이해하기 기본편 - content based filtering | [[블로그 링크]](https://lsjsj92.tistory.com/565?category=1066953) \n",
    "- Today I Learned. : 추천 시스템 - 컨텐츠 기반 필터링이란? (CBF) | [[블로그 링크]](https://western-sky.tistory.com/43)\n",
    "- 비둘기 둥지 : [ML / 추천 시스템] 1. 추천 시스템에 대해 알아봅시다. | [[블로그 링크]](https://dove-nest.tistory.com/29)\n",
    "\n",
    "## **0-4. 데이터셋 출처**\n",
    "- Kaggle : Games of All Time from Metacritic | [[데이터 셋 링크]](https://www.kaggle.com/datasets/xcherry/games-of-all-time-from-metacritic)\n",
    "\n",
    "## **0-5. 이미지 출처**\n",
    "\n",
    "# **1. 컨텐츠 기반 필터링 (Contents Based Filtering)**\n",
    "## **1-1. 컨텐츠 기반 필터링 이란**   \n",
    "- 컨텐츠 기반 필터링(이하, CBF)는 사용자가 과거에 좋아했던 컨텐츠를 파악하고 비슷한 아이템을 추천해 주는 방식이다.  \n",
    "    e.g.) 음식을 예로 들면 어떤 유저가 배달 어플을 통해 'KFC'와 '맥도날드'에 좋은 평점을 주었다면,  \n",
    "          같은 햄버거 프랜차이즈인 '롯데리아'를 추천해 줄 수 있다.  \n",
    "- 유저가 좋아한 아이템을 뽑아낸 목록을 Item Profile이라 하고,  \n",
    "  Item Profile로부터 공통된 특징을 뽑아낸 결과를 User Profile이라고 한다.  \n",
    "  e.g.) Item Profile | 'KFC', '맥도날드', '버거킹', ...  \n",
    "          User Profile | '햄버거', '프랜차이즈', '패스트푸드', ...\n",
    "          \n",
    "## **1-2. CBF의 장점**\n",
    "\n",
    "1. 다른 유저의 데이터를 필요로 하지 않는다.\n",
    "2. 개인의 취향을 고려한 추천이 가능하다.\n",
    "3. 새로운 아이템이나 대중적이지 않은 아이템도 추천할 수 있다.\n",
    "4. 사용자에게 추천하는 이유에 대해 설명할 수 있다.\n",
    "   → User Profile을 뽑아낼 때 구성한 Feature들로 설명가능하다.\n",
    "\n",
    "⚠️ 1,2,3번으로 인해 얻을 수 있는 장점은 다음과 같다.  \n",
    "  - 새로운 아이템이 추가되었을 때, 평가한 사함이 없어 추천이 어려운 Cold Start Problem에서 자유로워진다.  \n",
    "  - 개인의 평가에 기반하기 때문에 모든 유저들이 모든 아이템에 대해 평가하지 않는 Sparsity Problem에서  \n",
    "    자유로워 진다.\n",
    "  - 아무도 평가하지 않은 새로운 아이템과 인기 없는 아이템도 해당 아이템들의 Feature들만 뽑아낼 수 있다면,  \n",
    "    협업 필터링 구현시 발생하는 No first-rater Problem에서 자유로워진다.\n",
    "    \n",
    "## **1-3. CBF의 단점**\n",
    "\n",
    "1. Feature를 뽑아내기 어려운 데이터들이 존재한다.  \n",
    "   → 음악 같은 경우 장르가 너무 다양하기 때문에 공통된 Feature를 찾기 어렵다.\n",
    "2. 처음 유입된 유저에 대해 추천할 수 없다.  \n",
    "   → 주변 유저 평가는 영향을 받지 않지만, 아예 처음 유입된 유저는 그에 대한 데이터가 존재하지 않아 추천할 수 없다.\n",
    "   \n",
    "# **2. 실제 데이터 셋을 이용해 구현해보자**\n",
    "- 평소에 게임을 좋아해서 캐글에 있는 Metacritic 리뷰 데이터 셋을 가져왔다.  \n",
    "⚠️ Kaggle API를 이용해 데이터를 다운로드 받는 방법은 다음과 같다.\n",
    "1. kaggle에서 API를 발급 받는다.\n",
    "2. pip install kaggle을 통해 kaggle api 패키지를 설치한다.\n",
    "3. 홈 디렉토리에 숨김폴더로 kaggle폴더를 만들고 kaggle API키를 복사한다.\n",
    "4. kaggle API의 권한을 변경한다."
   ]
  },
  {
   "cell_type": "code",
   "execution_count": 2,
   "id": "b9360285-af2b-4a7e-8a08-0dacdd19e702",
   "metadata": {},
   "outputs": [
    {
     "name": "stdout",
     "output_type": "stream",
     "text": [
      "Requirement already satisfied: kaggle in /opt/conda/lib/python3.9/site-packages (1.5.12)\n",
      "Requirement already satisfied: certifi in /opt/conda/lib/python3.9/site-packages (from kaggle) (2021.10.8)\n",
      "Requirement already satisfied: tqdm in /opt/conda/lib/python3.9/site-packages (from kaggle) (4.64.0)\n",
      "Requirement already satisfied: python-dateutil in /opt/conda/lib/python3.9/site-packages (from kaggle) (2.8.2)\n",
      "Requirement already satisfied: requests in /opt/conda/lib/python3.9/site-packages (from kaggle) (2.27.1)\n",
      "Requirement already satisfied: python-slugify in /opt/conda/lib/python3.9/site-packages (from kaggle) (6.1.2)\n",
      "Requirement already satisfied: urllib3 in /opt/conda/lib/python3.9/site-packages (from kaggle) (1.26.9)\n",
      "Requirement already satisfied: six>=1.10 in /opt/conda/lib/python3.9/site-packages (from kaggle) (1.16.0)\n",
      "Requirement already satisfied: text-unidecode>=1.3 in /opt/conda/lib/python3.9/site-packages (from python-slugify->kaggle) (1.3)\n",
      "Requirement already satisfied: idna<4,>=2.5 in /opt/conda/lib/python3.9/site-packages (from requests->kaggle) (3.3)\n",
      "Requirement already satisfied: charset-normalizer~=2.0.0 in /opt/conda/lib/python3.9/site-packages (from requests->kaggle) (2.0.12)\n",
      "/home/jovyan/project/TIL/api/kaggle.json\n"
     ]
    }
   ],
   "source": [
    "## kaggle API 사용을 위한 패키지 설치\n",
    "!pip install kaggle\n",
    "\n",
    "## json 파일 업로드 확인\n",
    "!ls -1ha ~/project/TIL/api/kaggle.json\n",
    "\n",
    "## 캐글 숨김 폴더 생성\n",
    "!mkdir -p ~/.kaggle\n",
    "\n",
    "## 토큰 파일 옮기고, 권한 부여\n",
    "!cp  ~/project/TIL/api/kaggle.json ~/.kaggle/\n",
    "!chmod 600 ~/.kaggle/kaggle.json"
   ]
  },
  {
   "cell_type": "code",
   "execution_count": 3,
   "id": "5f79c954-07f1-4fea-b0e2-cbf0f363c414",
   "metadata": {},
   "outputs": [
    {
     "name": "stdout",
     "output_type": "stream",
     "text": [
      "Downloading games-of-all-time-from-metacritic.zip to /home/jovyan/project/TIL/AI_study/basic/ML/recommender_system\n",
      " 83%|███████████████████████████████▍      | 2.00M/2.42M [00:00<00:00, 4.58MB/s]\n",
      "100%|██████████████████████████████████████| 2.42M/2.42M [00:00<00:00, 4.60MB/s]\n",
      "Archive:  /home/jovyan/project/TIL/AI_study/dataset/zips/games-of-all-time-from-metacritic.zip\n",
      "replace /home/jovyan/project/TIL/AI_study/dataset/metacritic/games_of_all_time.csv? [y]es, [n]o, [A]ll, [N]one, [r]ename: ^C\n"
     ]
    }
   ],
   "source": [
    "## 데이터 셋 다운로드 받기\n",
    "!kaggle datasets download -d xcherry/games-of-all-time-from-metacritic\n",
    "\n",
    "## 파일 옮기고 압축풀기\n",
    "!mkdir -p ~/project/TIL/AI_study/dataset/metacritic\n",
    "!mv games-of-all-time-from-metacritic.zip ~/project/TIL/AI_study/dataset/zips/games-of-all-time-from-metacritic.zip\n",
    "!unzip ~/project/TIL/AI_study/dataset/zips/games-of-all-time-from-metacritic.zip -d ~/project/TIL/AI_study/dataset/metacritic"
   ]
  },
  {
   "cell_type": "code",
   "execution_count": 1,
   "id": "00ac9912-8f9f-4079-b9fc-c44d858dc517",
   "metadata": {},
   "outputs": [],
   "source": [
    "import pandas as pd\n",
    "import numpy as np\n",
    "import swifter\n",
    "import ast"
   ]
  },
  {
   "cell_type": "markdown",
   "id": "3d59f6d8-d8dd-4d69-b5a6-e8263628aa74",
   "metadata": {},
   "source": [
    "## **2-1. 데이터를 확인해보고, EDA 비스무리 하게 해보자**\n",
    "- csv 포맷으로 되어있는 데이터 셋을 불러온다.\n",
    "- 데이터 셋의 칼럼은 총 9개로 구성되어 있었으며, 아래처럼 구성되어 있었다.\n",
    "|column|설명|\n",
    "|:--|:--|\n",
    "|game_name|게임 이름|\n",
    "|meta_score|메타 크리틱 점수|\n",
    "|user_score|유저 점수|\n",
    "|platform|게임 플랫폼|\n",
    "|description|게임에 관한 내용|\n",
    "|url|메타크리틱 페이지 내 게임 링크|\n",
    "|developer|개발사|\n",
    "|genre|게임 장르|\n",
    "|type|싱글 게임인지 멀티 게임인지|\n",
    "|rating|게임 등급|\n",
    "- 이 중에서 게임 장르를 User profile로 사용하여 게임을 추천하도록 하였다.  \n",
    "⚠️ 추천할 게임의 등급은 굳이 필요없을 것 같아 게임 추천 데이터에서 제거하였다."
   ]
  },
  {
   "cell_type": "code",
   "execution_count": 2,
   "id": "b1736b93-ff16-47f9-b381-9ffd9fceb4f0",
   "metadata": {},
   "outputs": [
    {
     "data": {
      "text/html": [
       "<div>\n",
       "<style scoped>\n",
       "    .dataframe tbody tr th:only-of-type {\n",
       "        vertical-align: middle;\n",
       "    }\n",
       "\n",
       "    .dataframe tbody tr th {\n",
       "        vertical-align: top;\n",
       "    }\n",
       "\n",
       "    .dataframe thead th {\n",
       "        text-align: right;\n",
       "    }\n",
       "</style>\n",
       "<table border=\"1\" class=\"dataframe\">\n",
       "  <thead>\n",
       "    <tr style=\"text-align: right;\">\n",
       "      <th></th>\n",
       "      <th>game_name</th>\n",
       "      <th>meta_score</th>\n",
       "      <th>user_score</th>\n",
       "      <th>platform</th>\n",
       "      <th>description</th>\n",
       "      <th>url</th>\n",
       "      <th>developer</th>\n",
       "      <th>genre</th>\n",
       "      <th>type</th>\n",
       "    </tr>\n",
       "  </thead>\n",
       "  <tbody>\n",
       "    <tr>\n",
       "      <th>0</th>\n",
       "      <td>The Legend of Zelda: Ocarina of Time</td>\n",
       "      <td>99.0</td>\n",
       "      <td>91.0</td>\n",
       "      <td>['nintendo-64']</td>\n",
       "      <td>As a young boy, Link is tricked by Ganondorf, ...</td>\n",
       "      <td>https://www.metacritic.com/game/nintendo-64/th...</td>\n",
       "      <td>Nintendo</td>\n",
       "      <td>['Action Adventure', 'Fantasy']</td>\n",
       "      <td>singleplayer</td>\n",
       "    </tr>\n",
       "    <tr>\n",
       "      <th>1</th>\n",
       "      <td>Super Mario Galaxy</td>\n",
       "      <td>97.0</td>\n",
       "      <td>91.0</td>\n",
       "      <td>['wii']</td>\n",
       "      <td>[Metacritic's 2007 Wii Game of the Year] The u...</td>\n",
       "      <td>https://www.metacritic.com/game/wii/super-mari...</td>\n",
       "      <td>Nintendo</td>\n",
       "      <td>['Action', 'Platformer', '3D']</td>\n",
       "      <td>singleplayer</td>\n",
       "    </tr>\n",
       "    <tr>\n",
       "      <th>2</th>\n",
       "      <td>Super Mario Galaxy 2</td>\n",
       "      <td>97.0</td>\n",
       "      <td>91.0</td>\n",
       "      <td>['wii']</td>\n",
       "      <td>Super Mario Galaxy 2, the sequel to the galaxy...</td>\n",
       "      <td>https://www.metacritic.com/game/wii/super-mari...</td>\n",
       "      <td>Nintendo EAD Tokyo</td>\n",
       "      <td>['Action', 'Platformer', '3D']</td>\n",
       "      <td>singleplayer</td>\n",
       "    </tr>\n",
       "  </tbody>\n",
       "</table>\n",
       "</div>"
      ],
      "text/plain": [
       "                              game_name  meta_score  user_score  \\\n",
       "0  The Legend of Zelda: Ocarina of Time        99.0        91.0   \n",
       "1                    Super Mario Galaxy        97.0        91.0   \n",
       "2                  Super Mario Galaxy 2        97.0        91.0   \n",
       "\n",
       "          platform                                        description  \\\n",
       "0  ['nintendo-64']  As a young boy, Link is tricked by Ganondorf, ...   \n",
       "1          ['wii']  [Metacritic's 2007 Wii Game of the Year] The u...   \n",
       "2          ['wii']  Super Mario Galaxy 2, the sequel to the galaxy...   \n",
       "\n",
       "                                                 url            developer  \\\n",
       "0  https://www.metacritic.com/game/nintendo-64/th...             Nintendo   \n",
       "1  https://www.metacritic.com/game/wii/super-mari...             Nintendo   \n",
       "2  https://www.metacritic.com/game/wii/super-mari...  Nintendo EAD Tokyo    \n",
       "\n",
       "                             genre          type  \n",
       "0  ['Action Adventure', 'Fantasy']  singleplayer  \n",
       "1   ['Action', 'Platformer', '3D']  singleplayer  \n",
       "2   ['Action', 'Platformer', '3D']  singleplayer  "
      ]
     },
     "execution_count": 2,
     "metadata": {},
     "output_type": "execute_result"
    }
   ],
   "source": [
    "DATASET_PATH = '~/project/TIL/AI_study/dataset/metacritic'\n",
    "\n",
    "csv = pd.read_csv(f'{DATASET_PATH}/games_of_all_time.csv')\n",
    "csv = csv.iloc[:, :-1]\n",
    "csv.head(3)"
   ]
  },
  {
   "cell_type": "code",
   "execution_count": 3,
   "id": "d144a835-d507-406a-a78a-639b68dd8c56",
   "metadata": {},
   "outputs": [
    {
     "name": "stdout",
     "output_type": "stream",
     "text": [
      "<class 'pandas.core.frame.DataFrame'>\n",
      "RangeIndex: 8831 entries, 0 to 8830\n",
      "Data columns (total 9 columns):\n",
      " #   Column       Non-Null Count  Dtype  \n",
      "---  ------       --------------  -----  \n",
      " 0   game_name    8831 non-null   object \n",
      " 1   meta_score   8831 non-null   float64\n",
      " 2   user_score   8831 non-null   float64\n",
      " 3   platform     8831 non-null   object \n",
      " 4   description  8831 non-null   object \n",
      " 5   url          8831 non-null   object \n",
      " 6   developer    8821 non-null   object \n",
      " 7   genre        8827 non-null   object \n",
      " 8   type         6727 non-null   object \n",
      "dtypes: float64(2), object(7)\n",
      "memory usage: 621.1+ KB\n"
     ]
    }
   ],
   "source": [
    "csv.info()"
   ]
  },
  {
   "cell_type": "markdown",
   "id": "9edf33e5-fac2-4f01-ae54-0655b1590e91",
   "metadata": {},
   "source": [
    "- 총 8831개의 row에서 genre, developer, type column에는 더 적은 개수의 row가 있는것으로 보아 결측치를 처리해 주었다.\n",
    "    - genre column을 이용해서 CBF를 구현해 볼 것이기 때문에, genre column에서 결측치는 제거해 주었다.\n",
    "    - developer, type column은 개발사와 싱글, 멀티 플레이어인지 나타내는 데이터이기 때문에 그냥 결측치를 'unknown'으로 채워젔다."
   ]
  },
  {
   "cell_type": "code",
   "execution_count": 4,
   "id": "06413a06-204e-454b-a20b-7592a2c17d82",
   "metadata": {},
   "outputs": [
    {
     "name": "stdout",
     "output_type": "stream",
     "text": [
      "<class 'pandas.core.frame.DataFrame'>\n",
      "Int64Index: 8827 entries, 0 to 8830\n",
      "Data columns (total 9 columns):\n",
      " #   Column       Non-Null Count  Dtype  \n",
      "---  ------       --------------  -----  \n",
      " 0   game_name    8827 non-null   object \n",
      " 1   meta_score   8827 non-null   float64\n",
      " 2   user_score   8827 non-null   float64\n",
      " 3   platform     8827 non-null   object \n",
      " 4   description  8827 non-null   object \n",
      " 5   url          8827 non-null   object \n",
      " 6   developer    8827 non-null   object \n",
      " 7   genre        8827 non-null   object \n",
      " 8   type         8827 non-null   object \n",
      "dtypes: float64(2), object(7)\n",
      "memory usage: 689.6+ KB\n"
     ]
    }
   ],
   "source": [
    "csv = csv[csv['genre'].notna()]\n",
    "csv['developer'] = csv['developer'].fillna('unknown')\n",
    "csv['type']      = csv['type'].fillna('unknown')\n",
    "csv.info()"
   ]
  },
  {
   "cell_type": "markdown",
   "id": "a83a8152-7c54-44e9-a869-de4cc852c523",
   "metadata": {},
   "source": [
    "- 이번 주제를 공부하며 아주 신기한 패키지 두 가지를 알게 되었다.\n",
    "    1. swifter          | pandas에서의 DataFrame 처리 속도 향상을 위한 병렬 처리 패키지\n",
    "    2. ast.literal_eval | 엄밀히 말하면 패키지가 아니라 함수이지만, 문자열 안의 리스트, 딕셔너리를 진짜 리스트, 딕셔너리로 바꿔주는 함수\n",
    "\n",
    "- swifter는 좀 더 자세히 실험할 내용과 설명이 필요하여 다음에 따로 적어두겠다."
   ]
  },
  {
   "cell_type": "code",
   "execution_count": 32,
   "id": "3e7ad528-1469-45aa-85e5-e1a0256837dd",
   "metadata": {},
   "outputs": [
    {
     "name": "stdout",
     "output_type": "stream",
     "text": [
      "before | <class 'str'>  ,  이거 리스트니? | False\n",
      "after  | <class 'list'> ,  이거 리스트니? | True\n",
      "\n",
      "인덱싱을 해보자 | 6, 4 \n",
      "슬라이싱도 가능 | [3, 4, 5]\n"
     ]
    }
   ],
   "source": [
    "## ast.literal_eval() 함수 예시\n",
    "expr = '[1, 2, 3, 4, 5, 6, 7]'\n",
    "print(f'before | {type(expr)}  ,  이거 리스트니? | {type(expr) == list}')\n",
    "\n",
    "eval_list = ast.literal_eval(expr)\n",
    "print(f'after  | {type(eval_list)} ,  이거 리스트니? | {type(eval_list) == list}\\n')\n",
    "\n",
    "## 정말 리스트로 변한 녀석이라 리스트에서 하는 모든 것들을 할 수 있다.\n",
    "print(f'인덱싱을 해보자 | {eval_list[5]}, {eval_list[3]} \\n슬라이싱도 가능 | {eval_list[2:5]}')"
   ]
  },
  {
   "cell_type": "code",
   "execution_count": 41,
   "id": "8656a03c-9179-4330-8621-b28dfedfd244",
   "metadata": {},
   "outputs": [
    {
     "name": "stdout",
     "output_type": "stream",
     "text": [
      "before | <class 'str'>  ,  이거 딕셔너리니? | False\n",
      "after  | <class 'dict'> ,  이거 딕셔너리니? | True\n",
      "\n",
      "key로 value를 가져와보자 | hippo, pigeon \n",
      "items()도 가능         | dict_items([(1, 'dove'), (2, 'pigeon'), (3, 'hippo'), (4, 'turtle')])\n"
     ]
    }
   ],
   "source": [
    "## 리스트와 동일하게 문자열 안에 딕셔너리 형태로 있으면, 딕셔너리로 변한다.\n",
    "expr = '{1 : \"dove\", 2 : \"pigeon\", 3 : \"hippo\", 4 : \"turtle\"}'\n",
    "print(f'before | {type(expr)}  ,  이거 딕셔너리니? | {type(expr) == dict}')\n",
    "\n",
    "eval_dict = ast.literal_eval(expr)\n",
    "print(f'after  | {type(eval_dict)} ,  이거 딕셔너리니? | {type(eval_dict) == dict}\\n')\n",
    "\n",
    "## 마찬가지로 딕셔너리에서 하는 모든 것들을 할 수 있다.\n",
    "print(f'key로 value를 가져와보자 | {eval_dict[3]}, {eval_dict[2]} \\nitems()도 가능         | {eval_dict.items()}')"
   ]
  },
  {
   "cell_type": "markdown",
   "id": "10b94d52-4721-47d4-90d2-7a108373f548",
   "metadata": {},
   "source": [
    "- swifter와 ast.literal_eval을 이용하여 genre와 platform에 있는 칼럼을 전처리 해주었다."
   ]
  },
  {
   "cell_type": "code",
   "execution_count": 5,
   "id": "ac0d3d94-e491-41cb-9e9d-94f6455c470a",
   "metadata": {},
   "outputs": [
    {
     "data": {
      "application/vnd.jupyter.widget-view+json": {
       "model_id": "2468e1bd0114499298a0d4275d0e90b1",
       "version_major": 2,
       "version_minor": 0
      },
      "text/plain": [
       "Pandas Apply:   0%|          | 0/8827 [00:00<?, ?it/s]"
      ]
     },
     "metadata": {},
     "output_type": "display_data"
    },
    {
     "data": {
      "application/vnd.jupyter.widget-view+json": {
       "model_id": "42d55faed0314d2190e44aeec51591ba",
       "version_major": 2,
       "version_minor": 0
      },
      "text/plain": [
       "Pandas Apply:   0%|          | 0/8827 [00:00<?, ?it/s]"
      ]
     },
     "metadata": {},
     "output_type": "display_data"
    }
   ],
   "source": [
    "csv['genre'] = csv['genre'].swifter.apply(lambda x: ' '.join(ast.literal_eval(x)))\n",
    "csv['platform'] = csv['platform'].swifter.apply(lambda x: set(ast.literal_eval(x)))"
   ]
  },
  {
   "cell_type": "markdown",
   "id": "0582a44d-4640-4702-bb14-b4b490090660",
   "metadata": {},
   "source": []
  },
  {
   "cell_type": "code",
   "execution_count": 6,
   "id": "61ba7da9-7722-4d68-a50c-ebefbf0b38ab",
   "metadata": {},
   "outputs": [],
   "source": [
    "from sklearn.feature_extraction.text import TfidfVectorizer\n",
    "from sklearn.feature_extraction.text import CountVectorizer\n",
    "from sklearn.metrics.pairwise import cosine_similarity"
   ]
  },
  {
   "cell_type": "code",
   "execution_count": 7,
   "id": "1a6bfc32-8923-4059-a9e7-121ed0ac10fd",
   "metadata": {},
   "outputs": [
    {
     "data": {
      "text/plain": [
       "((8827, 3013), (8827,))"
      ]
     },
     "execution_count": 7,
     "metadata": {},
     "output_type": "execute_result"
    }
   ],
   "source": [
    "vectorizer = CountVectorizer(ngram_range = (1, 3))\n",
    "genre_vecs = vectorizer.fit_transform(csv['genre'])\n",
    "genre_sims = cosine_similarity(genre_vecs, genre_vecs).argsort()[:, ::-1]\n",
    "genre_vecs.shape, csv['genre'].shape"
   ]
  },
  {
   "cell_type": "code",
   "execution_count": 8,
   "id": "a85b6d47-8c01-4249-8f57-9354660eebf9",
   "metadata": {},
   "outputs": [
    {
     "data": {
      "text/plain": [
       "((8827, 32326), (8827,))"
      ]
     },
     "execution_count": 8,
     "metadata": {},
     "output_type": "execute_result"
    }
   ],
   "source": [
    "tf_idf     = TfidfVectorizer(stop_words = 'english')\n",
    "tf_idf_mat = tf_idf.fit_transform(csv['description'])\n",
    "des_sim = cosine_similarity(tf_idf_mat, tf_idf_mat).argsort()[:, ::-1]\n",
    "\n",
    "tf_idf_mat.shape, csv['description'].shape"
   ]
  },
  {
   "cell_type": "code",
   "execution_count": 9,
   "id": "b644f858-b466-4bf7-84bb-95e685d73a7d",
   "metadata": {},
   "outputs": [],
   "source": [
    "def filtering(name, sims, top = 15):\n",
    "    \n",
    "    game_idx = csv[csv['game_name'] == name].index.values\n",
    "    sim_idx  = sims[game_idx, :top].reshape(-1)\n",
    "    \n",
    "    sim_idx  = sim_idx[sim_idx != game_idx]\n",
    "    result   = csv.iloc[sim_idx].sort_values(['meta_score', 'user_score'], ascending = [False, False])\n",
    "    \n",
    "    return result"
   ]
  },
  {
   "cell_type": "markdown",
   "id": "d553fc07-80a8-48cb-8ed0-3c84290471ea",
   "metadata": {},
   "source": [
    "- 실제 서비스처럼 쿼리를 입력받아 동작할 수 있도록 함수를 만들어 보았다."
   ]
  },
  {
   "cell_type": "code",
   "execution_count": 10,
   "id": "0a234464-9e30-4a22-b96c-e663a1662672",
   "metadata": {},
   "outputs": [],
   "source": [
    "def advanced_filtering(sims, top=15, **query):\n",
    "    \n",
    "    ## 입력받은 게임이름과 유사도 행렬을 이용해 한 번 필터링한다.\n",
    "    df = filtering(query['name'], sims)\n",
    "    \n",
    "    \n",
    "    platform, p_include  = query['platform']\n",
    "    developer, d_include = query['developer']\n",
    "    \n",
    "    ## 인자값으로 딕셔너리에 저장되어 있는 값들을 이용해 데이터를 필터링 해준다.\n",
    "    df = df[df['type'] == query['type']]\n",
    "    \n",
    "    ## 좀 더 깔끔하게 짜고 싶다..\n",
    "    if (p_include == True) and (d_include == True): \n",
    "        df = df[df['platform'].apply(lambda x: platform in x)]\n",
    "        df = df[df['developer'].apply(lambda x: developer in x)] \n",
    "        \n",
    "    elif (p_include == False) and (d_include == True): \n",
    "        df = df[df['platform'].apply(lambda x: platform not in x)]\n",
    "        df = df[df['developer'].apply(lambda x: developer in x)] \n",
    "        \n",
    "    elif (p_include == True) and (d_include == False):\n",
    "        df = df[df['platform'].apply(lambda x: platform in x)]\n",
    "        df = df[df['developer'].apply(lambda x: developer not in x)]\n",
    "        \n",
    "    else:\n",
    "        df = df[df['platform'].apply(lambda x: platform not in x)]\n",
    "        df = df[df['developer'].apply(lambda x: developer not in x)]\n",
    "    \n",
    "    return df\n",
    "    "
   ]
  },
  {
   "cell_type": "markdown",
   "id": "68068177-2891-4b4d-8d0e-596c775123e1",
   "metadata": {},
   "source": [
    "## **2-3. 비교**"
   ]
  },
  {
   "cell_type": "code",
   "execution_count": 11,
   "id": "7fda9174-4939-45a6-be5a-d849435f16ba",
   "metadata": {},
   "outputs": [
    {
     "data": {
      "text/html": [
       "<div>\n",
       "<style scoped>\n",
       "    .dataframe tbody tr th:only-of-type {\n",
       "        vertical-align: middle;\n",
       "    }\n",
       "\n",
       "    .dataframe tbody tr th {\n",
       "        vertical-align: top;\n",
       "    }\n",
       "\n",
       "    .dataframe thead th {\n",
       "        text-align: right;\n",
       "    }\n",
       "</style>\n",
       "<table border=\"1\" class=\"dataframe\">\n",
       "  <thead>\n",
       "    <tr style=\"text-align: right;\">\n",
       "      <th></th>\n",
       "      <th>game_name</th>\n",
       "      <th>meta_score</th>\n",
       "      <th>user_score</th>\n",
       "      <th>platform</th>\n",
       "      <th>description</th>\n",
       "      <th>url</th>\n",
       "      <th>developer</th>\n",
       "      <th>genre</th>\n",
       "      <th>type</th>\n",
       "    </tr>\n",
       "  </thead>\n",
       "  <tbody>\n",
       "    <tr>\n",
       "      <th>4</th>\n",
       "      <td>Super Mario Odyssey</td>\n",
       "      <td>97.0</td>\n",
       "      <td>89.0</td>\n",
       "      <td>{switch}</td>\n",
       "      <td>New Evolution of Mario Sandbox-Style Gameplay....</td>\n",
       "      <td>https://www.metacritic.com/game/switch/super-m...</td>\n",
       "      <td>Nintendo</td>\n",
       "      <td>Action Platformer 3D</td>\n",
       "      <td>singleplayer</td>\n",
       "    </tr>\n",
       "  </tbody>\n",
       "</table>\n",
       "</div>"
      ],
      "text/plain": [
       "             game_name  meta_score  user_score  platform  \\\n",
       "4  Super Mario Odyssey        97.0        89.0  {switch}   \n",
       "\n",
       "                                         description  \\\n",
       "4  New Evolution of Mario Sandbox-Style Gameplay....   \n",
       "\n",
       "                                                 url developer  \\\n",
       "4  https://www.metacritic.com/game/switch/super-m...  Nintendo   \n",
       "\n",
       "                  genre          type  \n",
       "4  Action Platformer 3D  singleplayer  "
      ]
     },
     "execution_count": 11,
     "metadata": {},
     "output_type": "execute_result"
    }
   ],
   "source": [
    "csv[csv['game_name'] == 'Super Mario Odyssey']"
   ]
  },
  {
   "cell_type": "code",
   "execution_count": 12,
   "id": "84a1c6c7-9514-4de4-8d7b-4d0e7351ad30",
   "metadata": {},
   "outputs": [
    {
     "data": {
      "text/html": [
       "<div>\n",
       "<style scoped>\n",
       "    .dataframe tbody tr th:only-of-type {\n",
       "        vertical-align: middle;\n",
       "    }\n",
       "\n",
       "    .dataframe tbody tr th {\n",
       "        vertical-align: top;\n",
       "    }\n",
       "\n",
       "    .dataframe thead th {\n",
       "        text-align: right;\n",
       "    }\n",
       "</style>\n",
       "<table border=\"1\" class=\"dataframe\">\n",
       "  <thead>\n",
       "    <tr style=\"text-align: right;\">\n",
       "      <th></th>\n",
       "      <th>game_name</th>\n",
       "      <th>meta_score</th>\n",
       "      <th>user_score</th>\n",
       "      <th>platform</th>\n",
       "      <th>description</th>\n",
       "      <th>url</th>\n",
       "      <th>developer</th>\n",
       "      <th>genre</th>\n",
       "      <th>type</th>\n",
       "    </tr>\n",
       "  </thead>\n",
       "  <tbody>\n",
       "    <tr>\n",
       "      <th>7613</th>\n",
       "      <td>Skylanders Swap Force</td>\n",
       "      <td>83.5</td>\n",
       "      <td>58.0</td>\n",
       "      <td>{wii-u, playstation-4, playstation-3, xbox-360}</td>\n",
       "      <td>Embark on an exciting new adventure with the S...</td>\n",
       "      <td>https://www.metacritic.com/game/wii-u/skylande...</td>\n",
       "      <td>Vicarious Visions</td>\n",
       "      <td>Action Platformer 3D</td>\n",
       "      <td>unknown</td>\n",
       "    </tr>\n",
       "    <tr>\n",
       "      <th>7618</th>\n",
       "      <td>Sly 3: Honor Among Thieves</td>\n",
       "      <td>83.0</td>\n",
       "      <td>89.0</td>\n",
       "      <td>{playstation-2}</td>\n",
       "      <td>Sly 3: Honor Among Thieves entices a broad ran...</td>\n",
       "      <td>https://www.metacritic.com/game/playstation-2/...</td>\n",
       "      <td>Sucker Punch</td>\n",
       "      <td>Action Platformer 3D</td>\n",
       "      <td>multiplayer</td>\n",
       "    </tr>\n",
       "    <tr>\n",
       "      <th>7614</th>\n",
       "      <td>Skylanders: Spyro's Adventure</td>\n",
       "      <td>79.5</td>\n",
       "      <td>52.5</td>\n",
       "      <td>{playstation-3, 3ds}</td>\n",
       "      <td>The small purple dragon returns, bringing with...</td>\n",
       "      <td>https://www.metacritic.com/game/3ds/skylanders...</td>\n",
       "      <td>Vicarious Visions</td>\n",
       "      <td>Action Platformer 3D</td>\n",
       "      <td>unknown</td>\n",
       "    </tr>\n",
       "  </tbody>\n",
       "</table>\n",
       "</div>"
      ],
      "text/plain": [
       "                          game_name  meta_score  user_score  \\\n",
       "7613          Skylanders Swap Force        83.5        58.0   \n",
       "7618     Sly 3: Honor Among Thieves        83.0        89.0   \n",
       "7614  Skylanders: Spyro's Adventure        79.5        52.5   \n",
       "\n",
       "                                             platform  \\\n",
       "7613  {wii-u, playstation-4, playstation-3, xbox-360}   \n",
       "7618                                  {playstation-2}   \n",
       "7614                             {playstation-3, 3ds}   \n",
       "\n",
       "                                            description  \\\n",
       "7613  Embark on an exciting new adventure with the S...   \n",
       "7618  Sly 3: Honor Among Thieves entices a broad ran...   \n",
       "7614  The small purple dragon returns, bringing with...   \n",
       "\n",
       "                                                    url          developer  \\\n",
       "7613  https://www.metacritic.com/game/wii-u/skylande...  Vicarious Visions   \n",
       "7618  https://www.metacritic.com/game/playstation-2/...       Sucker Punch   \n",
       "7614  https://www.metacritic.com/game/3ds/skylanders...  Vicarious Visions   \n",
       "\n",
       "                     genre         type  \n",
       "7613  Action Platformer 3D      unknown  \n",
       "7618  Action Platformer 3D  multiplayer  \n",
       "7614  Action Platformer 3D      unknown  "
      ]
     },
     "execution_count": 12,
     "metadata": {},
     "output_type": "execute_result"
    }
   ],
   "source": [
    "filtering('Super Mario Odyssey', genre_sims).head(3)"
   ]
  },
  {
   "cell_type": "code",
   "execution_count": 13,
   "id": "ad526a4e-d5c2-4361-8ce3-a1657302f02d",
   "metadata": {},
   "outputs": [
    {
     "data": {
      "text/html": [
       "<div>\n",
       "<style scoped>\n",
       "    .dataframe tbody tr th:only-of-type {\n",
       "        vertical-align: middle;\n",
       "    }\n",
       "\n",
       "    .dataframe tbody tr th {\n",
       "        vertical-align: top;\n",
       "    }\n",
       "\n",
       "    .dataframe thead th {\n",
       "        text-align: right;\n",
       "    }\n",
       "</style>\n",
       "<table border=\"1\" class=\"dataframe\">\n",
       "  <thead>\n",
       "    <tr style=\"text-align: right;\">\n",
       "      <th></th>\n",
       "      <th>game_name</th>\n",
       "      <th>meta_score</th>\n",
       "      <th>user_score</th>\n",
       "      <th>platform</th>\n",
       "      <th>description</th>\n",
       "      <th>url</th>\n",
       "      <th>developer</th>\n",
       "      <th>genre</th>\n",
       "      <th>type</th>\n",
       "    </tr>\n",
       "  </thead>\n",
       "  <tbody>\n",
       "    <tr>\n",
       "      <th>29</th>\n",
       "      <td>Super Mario Advance 4: Super Mario Bros. 3</td>\n",
       "      <td>94.0</td>\n",
       "      <td>89.0</td>\n",
       "      <td>{game-boy-advance}</td>\n",
       "      <td>A combination of exciting platforming action, ...</td>\n",
       "      <td>https://www.metacritic.com/game/game-boy-advan...</td>\n",
       "      <td>Nintendo</td>\n",
       "      <td>Action Platformer 2D</td>\n",
       "      <td>multiplayer</td>\n",
       "    </tr>\n",
       "    <tr>\n",
       "      <th>64</th>\n",
       "      <td>Paper Mario</td>\n",
       "      <td>93.0</td>\n",
       "      <td>90.0</td>\n",
       "      <td>{nintendo-64}</td>\n",
       "      <td>Mario pals around in an all-new action adventu...</td>\n",
       "      <td>https://www.metacritic.com/game/nintendo-64/pa...</td>\n",
       "      <td>Intelligent Systems</td>\n",
       "      <td>Role-Playing Console-style RPG</td>\n",
       "      <td>unknown</td>\n",
       "    </tr>\n",
       "    <tr>\n",
       "      <th>47</th>\n",
       "      <td>Super Mario 3D World</td>\n",
       "      <td>93.0</td>\n",
       "      <td>89.0</td>\n",
       "      <td>{wii-u}</td>\n",
       "      <td>Work together with  your friends or compete fo...</td>\n",
       "      <td>https://www.metacritic.com/game/wii-u/super-ma...</td>\n",
       "      <td>Nintendo</td>\n",
       "      <td>Platformer 3D Action</td>\n",
       "      <td>singleplayer</td>\n",
       "    </tr>\n",
       "  </tbody>\n",
       "</table>\n",
       "</div>"
      ],
      "text/plain": [
       "                                     game_name  meta_score  user_score  \\\n",
       "29  Super Mario Advance 4: Super Mario Bros. 3        94.0        89.0   \n",
       "64                                 Paper Mario        93.0        90.0   \n",
       "47                        Super Mario 3D World        93.0        89.0   \n",
       "\n",
       "              platform                                        description  \\\n",
       "29  {game-boy-advance}  A combination of exciting platforming action, ...   \n",
       "64       {nintendo-64}  Mario pals around in an all-new action adventu...   \n",
       "47             {wii-u}  Work together with  your friends or compete fo...   \n",
       "\n",
       "                                                  url            developer  \\\n",
       "29  https://www.metacritic.com/game/game-boy-advan...             Nintendo   \n",
       "64  https://www.metacritic.com/game/nintendo-64/pa...  Intelligent Systems   \n",
       "47  https://www.metacritic.com/game/wii-u/super-ma...             Nintendo   \n",
       "\n",
       "                             genre          type  \n",
       "29            Action Platformer 2D   multiplayer  \n",
       "64  Role-Playing Console-style RPG       unknown  \n",
       "47            Platformer 3D Action  singleplayer  "
      ]
     },
     "execution_count": 13,
     "metadata": {},
     "output_type": "execute_result"
    }
   ],
   "source": [
    "filtering('Super Mario Odyssey', des_sim).head(3)"
   ]
  },
  {
   "cell_type": "code",
   "execution_count": 14,
   "id": "65f833ca-e20e-4f30-b65e-5a3df9d29ca5",
   "metadata": {},
   "outputs": [
    {
     "data": {
      "text/html": [
       "<div>\n",
       "<style scoped>\n",
       "    .dataframe tbody tr th:only-of-type {\n",
       "        vertical-align: middle;\n",
       "    }\n",
       "\n",
       "    .dataframe tbody tr th {\n",
       "        vertical-align: top;\n",
       "    }\n",
       "\n",
       "    .dataframe thead th {\n",
       "        text-align: right;\n",
       "    }\n",
       "</style>\n",
       "<table border=\"1\" class=\"dataframe\">\n",
       "  <thead>\n",
       "    <tr style=\"text-align: right;\">\n",
       "      <th></th>\n",
       "      <th>game_name</th>\n",
       "      <th>meta_score</th>\n",
       "      <th>user_score</th>\n",
       "      <th>platform</th>\n",
       "      <th>description</th>\n",
       "      <th>url</th>\n",
       "      <th>developer</th>\n",
       "      <th>genre</th>\n",
       "      <th>type</th>\n",
       "    </tr>\n",
       "  </thead>\n",
       "  <tbody>\n",
       "  </tbody>\n",
       "</table>\n",
       "</div>"
      ],
      "text/plain": [
       "Empty DataFrame\n",
       "Columns: [game_name, meta_score, user_score, platform, description, url, developer, genre, type]\n",
       "Index: []"
      ]
     },
     "execution_count": 14,
     "metadata": {},
     "output_type": "execute_result"
    }
   ],
   "source": [
    "query = {\n",
    "            'name' : 'Super Mario Odyssey',\n",
    "            'type' : 'singleplayer',\n",
    "             'platform' : ['pc', False], \n",
    "            'developer' : ['Nintendo', True]\n",
    "        }\n",
    "\n",
    "\n",
    "advanced_filtering(sims = genre_sims, top = 15, **query)"
   ]
  },
  {
   "cell_type": "code",
   "execution_count": 15,
   "id": "e599cfdf-90a4-492a-96ab-55d6a2b8905b",
   "metadata": {},
   "outputs": [
    {
     "data": {
      "text/html": [
       "<div>\n",
       "<style scoped>\n",
       "    .dataframe tbody tr th:only-of-type {\n",
       "        vertical-align: middle;\n",
       "    }\n",
       "\n",
       "    .dataframe tbody tr th {\n",
       "        vertical-align: top;\n",
       "    }\n",
       "\n",
       "    .dataframe thead th {\n",
       "        text-align: right;\n",
       "    }\n",
       "</style>\n",
       "<table border=\"1\" class=\"dataframe\">\n",
       "  <thead>\n",
       "    <tr style=\"text-align: right;\">\n",
       "      <th></th>\n",
       "      <th>game_name</th>\n",
       "      <th>meta_score</th>\n",
       "      <th>user_score</th>\n",
       "      <th>platform</th>\n",
       "      <th>description</th>\n",
       "      <th>url</th>\n",
       "      <th>developer</th>\n",
       "      <th>genre</th>\n",
       "      <th>type</th>\n",
       "    </tr>\n",
       "  </thead>\n",
       "  <tbody>\n",
       "  </tbody>\n",
       "</table>\n",
       "</div>"
      ],
      "text/plain": [
       "Empty DataFrame\n",
       "Columns: [game_name, meta_score, user_score, platform, description, url, developer, genre, type]\n",
       "Index: []"
      ]
     },
     "execution_count": 15,
     "metadata": {},
     "output_type": "execute_result"
    }
   ],
   "source": [
    "advanced_filtering(sims = genre_sims, top = 15, **query)"
   ]
  },
  {
   "cell_type": "code",
   "execution_count": 16,
   "id": "9109ea36-74ab-4442-af1c-ef20822e79f5",
   "metadata": {},
   "outputs": [
    {
     "data": {
      "text/html": [
       "<div>\n",
       "<style scoped>\n",
       "    .dataframe tbody tr th:only-of-type {\n",
       "        vertical-align: middle;\n",
       "    }\n",
       "\n",
       "    .dataframe tbody tr th {\n",
       "        vertical-align: top;\n",
       "    }\n",
       "\n",
       "    .dataframe thead th {\n",
       "        text-align: right;\n",
       "    }\n",
       "</style>\n",
       "<table border=\"1\" class=\"dataframe\">\n",
       "  <thead>\n",
       "    <tr style=\"text-align: right;\">\n",
       "      <th></th>\n",
       "      <th>game_name</th>\n",
       "      <th>meta_score</th>\n",
       "      <th>user_score</th>\n",
       "      <th>platform</th>\n",
       "      <th>description</th>\n",
       "      <th>url</th>\n",
       "      <th>developer</th>\n",
       "      <th>genre</th>\n",
       "      <th>type</th>\n",
       "    </tr>\n",
       "  </thead>\n",
       "  <tbody>\n",
       "    <tr>\n",
       "      <th>47</th>\n",
       "      <td>Super Mario 3D World</td>\n",
       "      <td>93.0</td>\n",
       "      <td>89.0</td>\n",
       "      <td>{wii-u}</td>\n",
       "      <td>Work together with  your friends or compete fo...</td>\n",
       "      <td>https://www.metacritic.com/game/wii-u/super-ma...</td>\n",
       "      <td>Nintendo</td>\n",
       "      <td>Platformer 3D Action</td>\n",
       "      <td>singleplayer</td>\n",
       "    </tr>\n",
       "    <tr>\n",
       "      <th>85</th>\n",
       "      <td>Super Mario Sunshine</td>\n",
       "      <td>92.0</td>\n",
       "      <td>84.0</td>\n",
       "      <td>{gamecube}</td>\n",
       "      <td>When Mario, Peach, and an entourage of Peach's...</td>\n",
       "      <td>https://www.metacritic.com/game/gamecube/super...</td>\n",
       "      <td>Nintendo</td>\n",
       "      <td>Action Platformer 3D</td>\n",
       "      <td>singleplayer</td>\n",
       "    </tr>\n",
       "    <tr>\n",
       "      <th>162</th>\n",
       "      <td>Mario Kart DS</td>\n",
       "      <td>91.0</td>\n",
       "      <td>87.0</td>\n",
       "      <td>{ds}</td>\n",
       "      <td>Race and battle with up to eight karts at once...</td>\n",
       "      <td>https://www.metacritic.com/game/ds/mario-kart-ds</td>\n",
       "      <td>Nintendo</td>\n",
       "      <td>Driving Racing Arcade Kart Automobile</td>\n",
       "      <td>singleplayer</td>\n",
       "    </tr>\n",
       "    <tr>\n",
       "      <th>210</th>\n",
       "      <td>Super Mario 3D Land</td>\n",
       "      <td>90.0</td>\n",
       "      <td>84.0</td>\n",
       "      <td>{3ds}</td>\n",
       "      <td>Get Ready for a New Spin on a Familiar Tail. S...</td>\n",
       "      <td>https://www.metacritic.com/game/3ds/super-mari...</td>\n",
       "      <td>Nintendo</td>\n",
       "      <td>Action Platformer 3D</td>\n",
       "      <td>singleplayer</td>\n",
       "    </tr>\n",
       "    <tr>\n",
       "      <th>673</th>\n",
       "      <td>Super Mario 3D All-Stars</td>\n",
       "      <td>82.0</td>\n",
       "      <td>64.0</td>\n",
       "      <td>{switch}</td>\n",
       "      <td>Play three of Mario’s greatest 3D platform adv...</td>\n",
       "      <td>https://www.metacritic.com/game/switch/super-m...</td>\n",
       "      <td>Nintendo</td>\n",
       "      <td>Miscellaneous Compilation</td>\n",
       "      <td>singleplayer</td>\n",
       "    </tr>\n",
       "    <tr>\n",
       "      <th>1624</th>\n",
       "      <td>Mario &amp; Luigi: Paper Jam</td>\n",
       "      <td>76.0</td>\n",
       "      <td>74.0</td>\n",
       "      <td>{3ds}</td>\n",
       "      <td>Paper Mario jumps out of a book and into the b...</td>\n",
       "      <td>https://www.metacritic.com/game/3ds/mario-luig...</td>\n",
       "      <td>Nintendo</td>\n",
       "      <td>Role-Playing Japanese-Style</td>\n",
       "      <td>singleplayer</td>\n",
       "    </tr>\n",
       "  </tbody>\n",
       "</table>\n",
       "</div>"
      ],
      "text/plain": [
       "                     game_name  meta_score  user_score    platform  \\\n",
       "47        Super Mario 3D World        93.0        89.0     {wii-u}   \n",
       "85        Super Mario Sunshine        92.0        84.0  {gamecube}   \n",
       "162              Mario Kart DS        91.0        87.0        {ds}   \n",
       "210        Super Mario 3D Land        90.0        84.0       {3ds}   \n",
       "673   Super Mario 3D All-Stars        82.0        64.0    {switch}   \n",
       "1624  Mario & Luigi: Paper Jam        76.0        74.0       {3ds}   \n",
       "\n",
       "                                            description  \\\n",
       "47    Work together with  your friends or compete fo...   \n",
       "85    When Mario, Peach, and an entourage of Peach's...   \n",
       "162   Race and battle with up to eight karts at once...   \n",
       "210   Get Ready for a New Spin on a Familiar Tail. S...   \n",
       "673   Play three of Mario’s greatest 3D platform adv...   \n",
       "1624  Paper Mario jumps out of a book and into the b...   \n",
       "\n",
       "                                                    url developer  \\\n",
       "47    https://www.metacritic.com/game/wii-u/super-ma...  Nintendo   \n",
       "85    https://www.metacritic.com/game/gamecube/super...  Nintendo   \n",
       "162    https://www.metacritic.com/game/ds/mario-kart-ds  Nintendo   \n",
       "210   https://www.metacritic.com/game/3ds/super-mari...  Nintendo   \n",
       "673   https://www.metacritic.com/game/switch/super-m...  Nintendo   \n",
       "1624  https://www.metacritic.com/game/3ds/mario-luig...  Nintendo   \n",
       "\n",
       "                                      genre          type  \n",
       "47                     Platformer 3D Action  singleplayer  \n",
       "85                     Action Platformer 3D  singleplayer  \n",
       "162   Driving Racing Arcade Kart Automobile  singleplayer  \n",
       "210                    Action Platformer 3D  singleplayer  \n",
       "673               Miscellaneous Compilation  singleplayer  \n",
       "1624            Role-Playing Japanese-Style  singleplayer  "
      ]
     },
     "execution_count": 16,
     "metadata": {},
     "output_type": "execute_result"
    }
   ],
   "source": [
    "advanced_filtering(sims = des_sim, top = 15, **query)"
   ]
  },
  {
   "cell_type": "code",
   "execution_count": null,
   "id": "ab0c23cf-6e61-425c-95a5-c05b29cc1d9d",
   "metadata": {},
   "outputs": [],
   "source": []
  }
 ],
 "metadata": {
  "kernelspec": {
   "display_name": "dove",
   "language": "python",
   "name": "dove"
  },
  "language_info": {
   "codemirror_mode": {
    "name": "ipython",
    "version": 3
   },
   "file_extension": ".py",
   "mimetype": "text/x-python",
   "name": "python",
   "nbconvert_exporter": "python",
   "pygments_lexer": "ipython3",
   "version": "3.8.13"
  }
 },
 "nbformat": 4,
 "nbformat_minor": 5
}
