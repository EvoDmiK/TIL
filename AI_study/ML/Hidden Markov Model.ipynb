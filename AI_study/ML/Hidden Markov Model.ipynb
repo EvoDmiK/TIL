{
 "cells": [
  {
   "cell_type": "markdown",
   "id": "647dfb5f-30fa-4433-b475-063c0a8d879e",
   "metadata": {},
   "source": [
    "# **0. 참고자료**\n",
    "## **0-1. 도서**\n",
    "## **0-2. 논문, 학술지**\n",
    "## **0-3. 웹 사이트**\n",
    "## **0-4. 데이터셋 출처**\n",
    "\n",
    "\n",
    "# **1.**\n"
   ]
  },
  {
   "cell_type": "code",
   "execution_count": null,
   "id": "2971da9b-bd86-419e-b8e7-9d58bc2501c4",
   "metadata": {},
   "outputs": [],
   "source": []
  },
  {
   "cell_type": "code",
   "execution_count": null,
   "id": "cbafe11f-436c-48e2-8a3a-14cda0d2717b",
   "metadata": {},
   "outputs": [],
   "source": []
  }
 ],
 "metadata": {
  "kernelspec": {
   "display_name": "dove",
   "language": "python",
   "name": "dove"
  },
  "language_info": {
   "codemirror_mode": {
    "name": "ipython",
    "version": 3
   },
   "file_extension": ".py",
   "mimetype": "text/x-python",
   "name": "python",
   "nbconvert_exporter": "python",
   "pygments_lexer": "ipython3",
   "version": "3.8.13"
  }
 },
 "nbformat": 4,
 "nbformat_minor": 5
}
