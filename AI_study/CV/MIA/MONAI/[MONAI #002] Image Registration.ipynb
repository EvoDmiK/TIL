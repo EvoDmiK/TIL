{
 "cells": [
  {
   "cell_type": "code",
   "execution_count": 1,
   "id": "e1c35d75-b863-4cde-812b-e53235d243b6",
   "metadata": {},
   "outputs": [
    {
     "name": "stderr",
     "output_type": "stream",
     "text": [
      "/opt/conda/envs/ml/lib/python3.10/site-packages/tqdm/auto.py:21: TqdmWarning: IProgress not found. Please update jupyter and ipywidgets. See https://ipywidgets.readthedocs.io/en/stable/user_install.html\n",
      "  from .autonotebook import tqdm as notebook_tqdm\n",
      "/opt/conda/envs/ml/lib/python3.10/site-packages/torchvision/io/image.py:13: UserWarning: Failed to load image Python extension: libtorch_cuda_cu.so: cannot open shared object file: No such file or directory\n",
      "  warn(f\"Failed to load image Python extension: {e}\")\n"
     ]
    },
    {
     "name": "stdout",
     "output_type": "stream",
     "text": [
      "MONAI version: 1.2.0\n",
      "Numpy version: 1.25.2\n",
      "Pytorch version: 1.13.1.post200\n",
      "MONAI flags: HAS_EXT = False, USE_COMPILED = False, USE_META_DICT = False\n",
      "MONAI rev id: c33f1ba588ee00229a309000e888f9817b4f1934\n",
      "MONAI __file__: /opt/conda/envs/ml/lib/python3.10/site-packages/monai/__init__.py\n",
      "\n",
      "Optional dependencies:\n",
      "Pytorch Ignite version: 0.4.12\n",
      "ITK version: NOT INSTALLED or UNKNOWN VERSION.\n",
      "Nibabel version: NOT INSTALLED or UNKNOWN VERSION.\n",
      "scikit-image version: 0.21.0\n",
      "Pillow version: 9.4.0\n",
      "Tensorboard version: NOT INSTALLED or UNKNOWN VERSION.\n",
      "gdown version: NOT INSTALLED or UNKNOWN VERSION.\n",
      "TorchVision version: 0.14.1\n",
      "tqdm version: 4.66.1\n",
      "lmdb version: NOT INSTALLED or UNKNOWN VERSION.\n",
      "psutil version: 5.9.5\n",
      "pandas version: 2.0.3\n",
      "einops version: NOT INSTALLED or UNKNOWN VERSION.\n",
      "transformers version: 4.32.0\n",
      "mlflow version: NOT INSTALLED or UNKNOWN VERSION.\n",
      "pynrrd version: NOT INSTALLED or UNKNOWN VERSION.\n",
      "\n",
      "For details about installing the optional dependencies, please visit:\n",
      "    https://docs.monai.io/en/latest/installation.html#installing-the-recommended-dependencies\n",
      "\n"
     ]
    }
   ],
   "source": [
    "import os\n",
    "\n",
    "from monai.data   import DataLoader, Dataset, CacheDataset\n",
    "from sklearn.model_selection import train_test_split\n",
    "from monai.config import print_config, USE_COMPILED\n",
    "from monai.utils import set_determinism, first\n",
    "from monai.networks.nets import GlobalNet\n",
    "from monai.networks.blocks import Warp\n",
    "from monai.apps import MedNISTDataset\n",
    "import matplotlib.pyplot as plt\n",
    "from torch.nn import MSELoss\n",
    "from monai import transforms\n",
    "import numpy as np\n",
    "import torch\n",
    "\n",
    "print_config()\n",
    "set_determinism(99)"
   ]
  },
  {
   "cell_type": "code",
   "execution_count": 2,
   "id": "9fe035a4-f1cc-453b-af82-b4b1b52d0a3d",
   "metadata": {},
   "outputs": [],
   "source": [
    "SEP       = os.path.sep\n",
    "ROOT_PATH = SEP.join(os.getcwd().split(SEP)[:-4])\n",
    "DATA_PATH = f'{ROOT_PATH}/Datasets/MedNIST'\n",
    "\n",
    "os.makedirs(DATA_PATH, exist_ok = True)"
   ]
  },
  {
   "cell_type": "code",
   "execution_count": 3,
   "id": "d17356a1-23ef-4e85-a704-0d135d34bf8a",
   "metadata": {},
   "outputs": [
    {
     "name": "stdout",
     "output_type": "stream",
     "text": [
      "2023-08-28 08:16:07,510 - INFO - Verified 'MedNIST.tar.gz', md5: 0bc7306e7427e00ad1c5526a6677552d.\n",
      "2023-08-28 08:16:07,511 - INFO - File exists: /home/jovyan/dove/projects/BACKUP/TIL/Datasets/MedNIST/MedNIST.tar.gz, skipped downloading.\n",
      "2023-08-28 08:16:07,511 - INFO - Non-empty folder exists in /home/jovyan/dove/projects/BACKUP/TIL/Datasets/MedNIST/MedNIST, skipped extracting.\n"
     ]
    },
    {
     "name": "stderr",
     "output_type": "stream",
     "text": [
      "Loading dataset: 100%|██████████| 47164/47164 [00:00<00:00, 126941.00it/s]"
     ]
    },
    {
     "name": "stdout",
     "output_type": "stream",
     "text": [
      "sample datas \n",
      "[{'fixed_hand': '/home/jovyan/dove/projects/BACKUP/TIL/Datasets/MedNIST/MedNIST/Hand/005758.jpeg', 'moving_hand': '/home/jovyan/dove/projects/BACKUP/TIL/Datasets/MedNIST/MedNIST/Hand/005758.jpeg'}, {'fixed_hand': '/home/jovyan/dove/projects/BACKUP/TIL/Datasets/MedNIST/MedNIST/Hand/007758.jpeg', 'moving_hand': '/home/jovyan/dove/projects/BACKUP/TIL/Datasets/MedNIST/MedNIST/Hand/007758.jpeg'}, {'fixed_hand': '/home/jovyan/dove/projects/BACKUP/TIL/Datasets/MedNIST/MedNIST/Hand/001798.jpeg', 'moving_hand': '/home/jovyan/dove/projects/BACKUP/TIL/Datasets/MedNIST/MedNIST/Hand/001798.jpeg'}]\n"
     ]
    },
    {
     "name": "stderr",
     "output_type": "stream",
     "text": [
      "\n"
     ]
    }
   ],
   "source": [
    "train_data     = MedNISTDataset(DATA_PATH, section = 'training', \n",
    "                                download = True, transform=None)\n",
    "\n",
    "## 손 x-ray 데이터 셋을 이용한 image registration\n",
    "train_datadict = [{'fixed_hand' : item['image'], 'moving_hand' : item['image']}\n",
    "                  for item in train_data.data if item['label'] == 4]\n",
    "\n",
    "print(f'sample datas \\n{train_datadict[:3]}')"
   ]
  },
  {
   "cell_type": "code",
   "execution_count": 4,
   "id": "96708c44-a83d-42ba-8417-519e8def5aa6",
   "metadata": {},
   "outputs": [
    {
     "name": "stderr",
     "output_type": "stream",
     "text": [
      "/opt/conda/envs/ml/lib/python3.10/site-packages/monai/utils/deprecate_utils.py:321: FutureWarning: monai.transforms.io.dictionary LoadImaged.__init__:image_only: Current default value of argument `image_only=False` has been deprecated since version 1.1. It will be changed to `image_only=True` in version 1.3.\n",
      "  warn_deprecated(argname, msg, warning_category)\n"
     ]
    }
   ],
   "source": [
    "train_transforms = transforms.Compose(\n",
    "    [\n",
    "        transforms.LoadImageD(keys=[\"fixed_hand\", \"moving_hand\"]),\n",
    "        transforms.EnsureChannelFirstD(keys=[\"fixed_hand\", \"moving_hand\"]),\n",
    "        transforms.ScaleIntensityRanged(\n",
    "            keys=[\"fixed_hand\", \"moving_hand\"],\n",
    "            a_min=0.0,\n",
    "            a_max=255.0,\n",
    "            b_min=0.0,\n",
    "            b_max=1.0,\n",
    "            clip=True,\n",
    "        ),\n",
    "        transforms.RandRotateD(keys=[\"moving_hand\"], range_x=np.pi / 4, prob=1.0, keep_size=True, mode=\"bicubic\"),\n",
    "        transforms.RandZoomD(keys=[\"moving_hand\"], min_zoom=0.9, max_zoom=1.1, prob=1.0, mode=\"bicubic\", align_corners=False),\n",
    "    ])"
   ]
  },
  {
   "cell_type": "code",
   "execution_count": 5,
   "id": "1b35e59e-59e0-42e2-a118-9b551548af06",
   "metadata": {},
   "outputs": [
    {
     "name": "stdout",
     "output_type": "stream",
     "text": [
      "moving image shape : torch.Size([64, 64])\n",
      "fixed  image shape : torch.Size([64, 64])\n"
     ]
    }
   ],
   "source": [
    "check_ds     = Dataset(data = train_datadict, transform = train_transforms)\n",
    "check_loader = DataLoader(check_ds, batch_size = 1, shuffle = True)\n",
    "check_data   = first(check_loader)\n",
    "fixed_image  = check_data['fixed_hand'][0][0]\n",
    "moving_image = check_data['moving_hand'][0][0]\n",
    "\n",
    "print(f'moving image shape : {moving_image.shape}')\n",
    "print(f'fixed  image shape : {fixed_image.shape}')"
   ]
  },
  {
   "cell_type": "code",
   "execution_count": 6,
   "id": "1d5d392b-b065-4ee1-8ebe-3e7429f2da5e",
   "metadata": {},
   "outputs": [
    {
     "data": {
      "text/plain": [
       "(6399, 1600)"
      ]
     },
     "execution_count": 6,
     "metadata": {},
     "output_type": "execute_result"
    }
   ],
   "source": [
    "train, valid = train_test_split(train_datadict, test_size = 0.2, shuffle = True,\n",
    "                                random_state = 99)\n",
    "\n",
    "len(train), len(valid)"
   ]
  },
  {
   "cell_type": "code",
   "execution_count": 7,
   "id": "702cc8b4-59ba-4a06-93ec-e9c5443a6f44",
   "metadata": {},
   "outputs": [
    {
     "name": "stderr",
     "output_type": "stream",
     "text": [
      "Loading dataset: 100%|██████████| 6399/6399 [00:07<00:00, 861.11it/s]\n",
      "Loading dataset: 100%|██████████| 1600/1600 [00:01<00:00, 915.41it/s]\n"
     ]
    }
   ],
   "source": [
    "train_ds     = CacheDataset(data = train, transform = train_transforms)\n",
    "valid_ds     = CacheDataset(data = valid, transform = train_transforms)\n",
    "\n",
    "train_loader = DataLoader(train_ds, batch_size = 16, shuffle =  True, num_workers = 2) \n",
    "valid_loader = DataLoader(valid_ds, batch_size = 16, shuffle = False, num_workers = 2) "
   ]
  },
  {
   "cell_type": "code",
   "execution_count": 8,
   "id": "38c96ae1-bc51-40a7-b648-33821152696c",
   "metadata": {},
   "outputs": [
    {
     "name": "stderr",
     "output_type": "stream",
     "text": [
      "/opt/conda/envs/ml/lib/python3.10/site-packages/torch/cuda/__init__.py:497: UserWarning: Can't initialize NVML\n",
      "  warnings.warn(\"Can't initialize NVML\")\n",
      "/opt/conda/envs/ml/lib/python3.10/site-packages/monai/networks/blocks/warp.py:67: UserWarning: monai.networks.blocks.Warp: Using PyTorch native grid_sample.\n",
      "  warnings.warn(\"monai.networks.blocks.Warp: Using PyTorch native grid_sample.\")\n"
     ]
    }
   ],
   "source": [
    "device = torch.device('cuda:0' if torch.cuda.is_available() else 'cpu')\n",
    "model  = GlobalNet(image_size = (64, 64), spatial_dims = 2, in_channels = 2,\n",
    "                   num_channel_initial = 16, depth=3).to(device)\n",
    "\n",
    "image_loss = MSELoss()\n",
    "if USE_COMPILED: warp_layer = Warp(3, 'border').to(device)\n",
    "else: warp_layer = Warp('bilinear', 'border').to(device)\n",
    "\n",
    "optimizer = torch.optim.Adam(model.parameters(), 1e-5)"
   ]
  },
  {
   "cell_type": "code",
   "execution_count": 9,
   "id": "185d77d3-a6f3-4181-9703-5b07e5e98ab9",
   "metadata": {},
   "outputs": [],
   "source": [
    "def train(model, loader, optimizer, loss_func):\n",
    "    model.train()\n",
    "    \n",
    "    loss = 0\n",
    "    for batch in loader:\n",
    "\n",
    "        optimizer.zero_grad()\n",
    "        \n",
    "        moving     = batch['moving_hand'].to(device)\n",
    "        fixed      = batch['fixed_hand'].to(device)\n",
    "        ddf        = model(torch.cat((moving, fixed), dim = 1))\n",
    "        pred_image = warp_layer(moving, ddf)\n",
    "        \n",
    "        loss_      = loss_func(pred_image, fixed)\n",
    "        loss_.backward()\n",
    "        \n",
    "        optimizer.step()\n",
    "        loss += loss_.item()\n",
    "        \n",
    "    loss /= len(loader.dataset)\n",
    "    return loss\n",
    "\n",
    "\n",
    "def validation(model, loader, loss_function):\n",
    "    \n",
    "    model.eval()\n",
    "    loss = 0\n",
    "    \n",
    "    with torch.no_grad():\n",
    "        for batch in loader:\n",
    "            \n",
    "            moving      = batch['moving_hand'].to(device)\n",
    "            fixed       = batch['fixed_hand'].to(device)\n",
    "            \n",
    "            ddf         = model(torch.cat((moving, fixed), dim = 1))\n",
    "            pred_image  = warp_layer(moving, ddf)\n",
    "            \n",
    "            loss_       = loss_function(pred_image, fixed)\n",
    "            loss       += loss_.item()\n",
    "    \n",
    "    loss /= len(loader.dataset)\n",
    "    return loss        "
   ]
  },
  {
   "cell_type": "code",
   "execution_count": 10,
   "id": "88c0862c-8b76-47d6-8ac3-782ee71828a6",
   "metadata": {},
   "outputs": [
    {
     "name": "stdout",
     "output_type": "stream",
     "text": [
      "[1 / 100]\n",
      "epoch 1 train avg loss : 0.003, valid avg loss : 0.003\n",
      "[2 / 100]\n",
      "epoch 2 train avg loss : 0.002, valid avg loss : 0.002\n",
      "[3 / 100]\n",
      "epoch 3 train avg loss : 0.002, valid avg loss : 0.002\n",
      "[4 / 100]\n",
      "epoch 4 train avg loss : 0.002, valid avg loss : 0.002\n",
      "[5 / 100]\n",
      "epoch 5 train avg loss : 0.001, valid avg loss : 0.001\n",
      "[6 / 100]\n",
      "epoch 6 train avg loss : 0.001, valid avg loss : 0.001\n",
      "[7 / 100]\n",
      "epoch 7 train avg loss : 0.001, valid avg loss : 0.001\n",
      "[8 / 100]\n",
      "epoch 8 train avg loss : 0.001, valid avg loss : 0.001\n",
      "[9 / 100]\n",
      "epoch 9 train avg loss : 0.001, valid avg loss : 0.001\n",
      "[10 / 100]\n",
      "epoch 10 train avg loss : 0.001, valid avg loss : 0.001\n",
      "[11 / 100]\n",
      "epoch 11 train avg loss : 0.001, valid avg loss : 0.001\n",
      "[12 / 100]\n",
      "epoch 12 train avg loss : 0.001, valid avg loss : 0.001\n",
      "[13 / 100]\n",
      "epoch 13 train avg loss : 0.001, valid avg loss : 0.001\n",
      "[14 / 100]\n",
      "epoch 14 train avg loss : 0.001, valid avg loss : 0.001\n",
      "[15 / 100]\n",
      "epoch 15 train avg loss : 0.001, valid avg loss : 0.001\n",
      "[16 / 100]\n",
      "epoch 16 train avg loss : 0.001, valid avg loss : 0.001\n",
      "[17 / 100]\n",
      "epoch 17 train avg loss : 0.001, valid avg loss : 0.001\n",
      "[18 / 100]\n",
      "epoch 18 train avg loss : 0.001, valid avg loss : 0.001\n",
      "[19 / 100]\n",
      "epoch 19 train avg loss : 0.001, valid avg loss : 0.001\n",
      "[20 / 100]\n",
      "epoch 20 train avg loss : 0.001, valid avg loss : 0.001\n",
      "[21 / 100]\n",
      "epoch 21 train avg loss : 0.001, valid avg loss : 0.001\n",
      "[22 / 100]\n",
      "epoch 22 train avg loss : 0.001, valid avg loss : 0.001\n",
      "[23 / 100]\n",
      "epoch 23 train avg loss : 0.001, valid avg loss : 0.001\n",
      "[24 / 100]\n",
      "epoch 24 train avg loss : 0.001, valid avg loss : 0.001\n",
      "[25 / 100]\n",
      "epoch 25 train avg loss : 0.001, valid avg loss : 0.001\n",
      "[26 / 100]\n",
      "epoch 26 train avg loss : 0.001, valid avg loss : 0.001\n",
      "[27 / 100]\n",
      "epoch 27 train avg loss : 0.001, valid avg loss : 0.001\n",
      "[28 / 100]\n",
      "epoch 28 train avg loss : 0.001, valid avg loss : 0.001\n",
      "[29 / 100]\n",
      "epoch 29 train avg loss : 0.001, valid avg loss : 0.001\n",
      "[30 / 100]\n",
      "epoch 30 train avg loss : 0.001, valid avg loss : 0.001\n",
      "[31 / 100]\n",
      "epoch 31 train avg loss : 0.001, valid avg loss : 0.001\n",
      "[32 / 100]\n",
      "epoch 32 train avg loss : 0.001, valid avg loss : 0.001\n",
      "[33 / 100]\n",
      "epoch 33 train avg loss : 0.001, valid avg loss : 0.001\n",
      "[34 / 100]\n",
      "epoch 34 train avg loss : 0.001, valid avg loss : 0.001\n",
      "[35 / 100]\n",
      "epoch 35 train avg loss : 0.001, valid avg loss : 0.001\n",
      "[36 / 100]\n",
      "epoch 36 train avg loss : 0.001, valid avg loss : 0.001\n",
      "[37 / 100]\n",
      "epoch 37 train avg loss : 0.001, valid avg loss : 0.001\n",
      "[38 / 100]\n",
      "epoch 38 train avg loss : 0.001, valid avg loss : 0.001\n",
      "[39 / 100]\n",
      "epoch 39 train avg loss : 0.001, valid avg loss : 0.001\n",
      "[40 / 100]\n",
      "epoch 40 train avg loss : 0.001, valid avg loss : 0.001\n",
      "[41 / 100]\n",
      "epoch 41 train avg loss : 0.001, valid avg loss : 0.001\n",
      "[42 / 100]\n",
      "epoch 42 train avg loss : 0.001, valid avg loss : 0.001\n",
      "[43 / 100]\n",
      "epoch 43 train avg loss : 0.001, valid avg loss : 0.000\n",
      "[44 / 100]\n",
      "epoch 44 train avg loss : 0.001, valid avg loss : 0.001\n",
      "[45 / 100]\n",
      "epoch 45 train avg loss : 0.001, valid avg loss : 0.001\n",
      "[46 / 100]\n",
      "epoch 46 train avg loss : 0.001, valid avg loss : 0.001\n",
      "[47 / 100]\n",
      "epoch 47 train avg loss : 0.001, valid avg loss : 0.001\n",
      "[48 / 100]\n",
      "epoch 48 train avg loss : 0.001, valid avg loss : 0.001\n",
      "[49 / 100]\n",
      "epoch 49 train avg loss : 0.001, valid avg loss : 0.000\n",
      "[50 / 100]\n",
      "epoch 50 train avg loss : 0.001, valid avg loss : 0.001\n",
      "[51 / 100]\n",
      "epoch 51 train avg loss : 0.001, valid avg loss : 0.001\n",
      "[52 / 100]\n",
      "epoch 52 train avg loss : 0.001, valid avg loss : 0.001\n",
      "[53 / 100]\n",
      "epoch 53 train avg loss : 0.001, valid avg loss : 0.001\n",
      "[54 / 100]\n",
      "epoch 54 train avg loss : 0.001, valid avg loss : 0.000\n",
      "[55 / 100]\n",
      "epoch 55 train avg loss : 0.001, valid avg loss : 0.000\n",
      "[56 / 100]\n",
      "epoch 56 train avg loss : 0.001, valid avg loss : 0.000\n",
      "[57 / 100]\n",
      "epoch 57 train avg loss : 0.001, valid avg loss : 0.000\n",
      "[58 / 100]\n",
      "epoch 58 train avg loss : 0.001, valid avg loss : 0.000\n",
      "[59 / 100]\n",
      "epoch 59 train avg loss : 0.001, valid avg loss : 0.001\n",
      "[60 / 100]\n",
      "epoch 60 train avg loss : 0.000, valid avg loss : 0.000\n",
      "[61 / 100]\n",
      "epoch 61 train avg loss : 0.001, valid avg loss : 0.001\n",
      "[62 / 100]\n",
      "epoch 62 train avg loss : 0.001, valid avg loss : 0.000\n",
      "[63 / 100]\n",
      "epoch 63 train avg loss : 0.001, valid avg loss : 0.000\n",
      "[64 / 100]\n",
      "epoch 64 train avg loss : 0.001, valid avg loss : 0.001\n",
      "[65 / 100]\n",
      "epoch 65 train avg loss : 0.001, valid avg loss : 0.001\n",
      "[66 / 100]\n",
      "epoch 66 train avg loss : 0.001, valid avg loss : 0.000\n",
      "[67 / 100]\n",
      "epoch 67 train avg loss : 0.001, valid avg loss : 0.000\n",
      "[68 / 100]\n",
      "epoch 68 train avg loss : 0.000, valid avg loss : 0.000\n",
      "[69 / 100]\n",
      "epoch 69 train avg loss : 0.001, valid avg loss : 0.000\n",
      "[70 / 100]\n",
      "epoch 70 train avg loss : 0.000, valid avg loss : 0.000\n",
      "[71 / 100]\n",
      "epoch 71 train avg loss : 0.000, valid avg loss : 0.000\n",
      "[72 / 100]\n",
      "epoch 72 train avg loss : 0.000, valid avg loss : 0.000\n",
      "[73 / 100]\n",
      "epoch 73 train avg loss : 0.000, valid avg loss : 0.000\n",
      "[74 / 100]\n",
      "epoch 74 train avg loss : 0.001, valid avg loss : 0.000\n",
      "[75 / 100]\n",
      "epoch 75 train avg loss : 0.000, valid avg loss : 0.000\n",
      "[76 / 100]\n",
      "epoch 76 train avg loss : 0.000, valid avg loss : 0.000\n",
      "[77 / 100]\n",
      "epoch 77 train avg loss : 0.000, valid avg loss : 0.000\n",
      "[78 / 100]\n",
      "epoch 78 train avg loss : 0.001, valid avg loss : 0.000\n",
      "[79 / 100]\n",
      "epoch 79 train avg loss : 0.000, valid avg loss : 0.000\n",
      "[80 / 100]\n",
      "epoch 80 train avg loss : 0.000, valid avg loss : 0.000\n",
      "[81 / 100]\n",
      "epoch 81 train avg loss : 0.000, valid avg loss : 0.000\n",
      "[82 / 100]\n",
      "epoch 82 train avg loss : 0.000, valid avg loss : 0.000\n",
      "[83 / 100]\n",
      "epoch 83 train avg loss : 0.000, valid avg loss : 0.000\n",
      "[84 / 100]\n",
      "epoch 84 train avg loss : 0.000, valid avg loss : 0.000\n",
      "[85 / 100]\n",
      "epoch 85 train avg loss : 0.000, valid avg loss : 0.000\n",
      "[86 / 100]\n",
      "epoch 86 train avg loss : 0.000, valid avg loss : 0.000\n",
      "[87 / 100]\n",
      "epoch 87 train avg loss : 0.000, valid avg loss : 0.000\n",
      "[88 / 100]\n",
      "epoch 88 train avg loss : 0.001, valid avg loss : 0.000\n",
      "[89 / 100]\n",
      "epoch 89 train avg loss : 0.000, valid avg loss : 0.000\n",
      "[90 / 100]\n",
      "epoch 90 train avg loss : 0.000, valid avg loss : 0.000\n",
      "[91 / 100]\n",
      "epoch 91 train avg loss : 0.000, valid avg loss : 0.000\n",
      "[92 / 100]\n",
      "epoch 92 train avg loss : 0.000, valid avg loss : 0.000\n",
      "[93 / 100]\n",
      "epoch 93 train avg loss : 0.000, valid avg loss : 0.000\n",
      "[94 / 100]\n",
      "epoch 94 train avg loss : 0.000, valid avg loss : 0.001\n",
      "[95 / 100]\n",
      "epoch 95 train avg loss : 0.000, valid avg loss : 0.000\n",
      "[96 / 100]\n",
      "epoch 96 train avg loss : 0.000, valid avg loss : 0.000\n",
      "[97 / 100]\n",
      "epoch 97 train avg loss : 0.000, valid avg loss : 0.000\n",
      "[98 / 100]\n",
      "epoch 98 train avg loss : 0.000, valid avg loss : 0.000\n",
      "[99 / 100]\n",
      "epoch 99 train avg loss : 0.000, valid avg loss : 0.000\n",
      "[100 / 100]\n",
      "epoch 100 train avg loss : 0.000, valid avg loss : 0.000\n"
     ]
    }
   ],
   "source": [
    "epochs       = 100\n",
    "train_losses = []\n",
    "valid_losses = []\n",
    "\n",
    "for epoch in range(1, epochs + 1):\n",
    "    \n",
    "    print(f'[{epoch} / {epochs}]')\n",
    "    train_loss = train(model, train_loader, optimizer, image_loss)\n",
    "    valid_loss = validation(model, valid_loader, image_loss)\n",
    "    \n",
    "    train_losses.append(train_loss)\n",
    "    valid_losses.append(valid_loss)\n",
    "    \n",
    "    print(f'epoch {epoch} train avg loss : {train_loss:.3f}, valid avg loss : {valid_loss:.3f}')"
   ]
  },
  {
   "cell_type": "code",
   "execution_count": 11,
   "id": "3854b911-1f3e-4acc-be1a-18d68addd42d",
   "metadata": {},
   "outputs": [
    {
     "data": {
      "text/plain": [
       "[<matplotlib.lines.Line2D at 0x7f99ae4f5cc0>]"
      ]
     },
     "execution_count": 11,
     "metadata": {},
     "output_type": "execute_result"
    },
    {
     "data": {
      "image/png": "[encoded data removed]",
      "text/plain": [
       "<Figure size 640x480 with 1 Axes>"
      ]
     },
     "metadata": {},
     "output_type": "display_data"
    }
   ],
   "source": [
    "plt.plot(range(epochs), train_losses, label = 'train')\n",
    "plt.plot(range(epochs), valid_losses, label = 'valid')"
   ]
  },
  {
   "cell_type": "code",
   "execution_count": null,
   "id": "4f1372e0-05e0-4bfb-b7e0-1ab4f3caecc7",
   "metadata": {},
   "outputs": [],
   "source": []
  }
 ],
 "metadata": {
  "kernelspec": {
   "display_name": "ML",
   "language": "python",
   "name": "ml"
  },
  "language_info": {
   "codemirror_mode": {
    "name": "ipython",
    "version": 3
   },
   "file_extension": ".py",
   "mimetype": "text/x-python",
   "name": "python",
   "nbconvert_exporter": "python",
   "pygments_lexer": "ipython3",
   "version": "3.10.12"
  }
 },
 "nbformat": 4,
 "nbformat_minor": 5
}
