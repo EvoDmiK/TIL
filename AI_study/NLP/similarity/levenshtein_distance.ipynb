{
 "cells": [
  {
   "cell_type": "markdown",
   "id": "90ffb3e0-715b-46a9-b91d-5b4de9e1ebff",
   "metadata": {},
   "source": [
    "# 1. Levenshtein distance\n",
    "![레벤슈타인](./images/levenshtein.png)"
   ]
  },
  {
   "cell_type": "code",
   "execution_count": 2,
   "id": "c4c4b9de-9e67-4445-b2df-aeaaaf0fc144",
   "metadata": {},
   "outputs": [],
   "source": [
    "## 필요한 패키지 불러오는 부분\n",
    "import matplotlib.pyplot as plt\n",
    "import seaborn as sns\n",
    "import pandas as pd\n",
    "import numpy as np\n",
    "import re"
   ]
  },
  {
   "cell_type": "code",
   "execution_count": 4,
   "id": "8e9b6079-d748-44e8-a1a5-871e24a4323b",
   "metadata": {},
   "outputs": [],
   "source": [
    "## 단어에서 알파벳, 한국어, 숫자, 띄어쓰기만 남기도록 해주는 함수\n",
    "preprocessing = lambda word: re.sub('[^a-z0-9가-힣 ]', '', word.lower())\n",
    "\n",
    "def levenshtein(word1, word2):\n",
    "    word1, word2 = preprocessing(word1), preprocessing(word2)\n",
    "    \n",
    "    ## Levenshtien 거리의 테이블 생성 \n",
    "    ## 왼쪽 위는 빈칸으로 비워두므로 단어들의 길이 + 1로 생성\n",
    "    distance_table = np.zeros((len(word1) + 1, len(word2) + 1))\n",
    "    \n",
    "    ## 데이터 프레임으로 생성하기 위해\n",
    "    indexes = [''] + [alpha for alpha in word1]\n",
    "    columns = [''] + [alpha for alpha in word2]\n",
    "    \n",
    "    ## 왼쪽 위의 빈칸의 편집거리를 계산하는 부분\n",
    "    for idx in range(distance_table.shape[0]): distance_table[idx][0] = idx\n",
    "    for idx in range(distance_table.shape[1]): distance_table[0][idx] = idx\n",
    "    \n",
    "    for odx in range(1, distance_table.shape[0]):\n",
    "        word1_alpha = word1[odx - 1]\n",
    "        \n",
    "        for idx in range(1, distance_table.shape[1]):\n",
    "            cost = 1 if word1[odx - 1] != word2[idx - 1] else 0\n",
    "            \n",
    "            add = distance_table[odx - 1][idx] + 1\n",
    "            sub = distance_table[odx][idx-1] + 1\n",
    "            mod = distance_table[odx-1][idx-1] + cost\n",
    "            \n",
    "            distance_table[odx][idx] = np.min([add, sub, mod])\n",
    "        \n",
    "    distance_table = pd.DataFrame(distance_table, index = indexes, columns = columns)\n",
    "    return distance_table"
   ]
  },
  {
   "cell_type": "code",
   "execution_count": 13,
   "id": "ecbe84c6-9ecf-4eaa-81ec-552d340f1825",
   "metadata": {},
   "outputs": [
    {
     "data": {
      "text/plain": [
       "17.0"
      ]
     },
     "execution_count": 13,
     "metadata": {},
     "output_type": "execute_result"
    }
   ],
   "source": [
    "dist_table = levenshtein('dove nest', 'micro calcification')\n",
    "dist_table.iloc[-1, -1]"
   ]
  },
  {
   "cell_type": "code",
   "execution_count": 14,
   "id": "7bf564cd-b4dd-495e-87a7-311db949b0d6",
   "metadata": {},
   "outputs": [
    {
     "data": {
      "image/png": "[encoded data removed]",
      "text/plain": [
       "<Figure size 432x288 with 2 Axes>"
      ]
     },
     "metadata": {
      "needs_background": "light"
     },
     "output_type": "display_data"
    }
   ],
   "source": [
    "sns.heatmap(dist_table, annot = True)\n",
    "plt.show()"
   ]
  },
  {
   "cell_type": "code",
   "execution_count": null,
   "id": "d9ae3d6b-8c3b-42bc-8d9a-7f0a4358f7a7",
   "metadata": {},
   "outputs": [],
   "source": []
  }
 ],
 "metadata": {
  "kernelspec": {
   "display_name": "bio",
   "language": "python",
   "name": "bio"
  },
  "language_info": {
   "codemirror_mode": {
    "name": "ipython",
    "version": 3
   },
   "file_extension": ".py",
   "mimetype": "text/x-python",
   "name": "python",
   "nbconvert_exporter": "python",
   "pygments_lexer": "ipython3",
   "version": "3.9.12"
  }
 },
 "nbformat": 4,
 "nbformat_minor": 5
}
