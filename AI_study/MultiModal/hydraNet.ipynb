{
 "cells": [
  {
   "cell_type": "code",
   "execution_count": 1,
   "id": "880fd86d-583a-4d7a-a74f-c717ef110e0f",
   "metadata": {},
   "outputs": [
    {
     "name": "stderr",
     "output_type": "stream",
     "text": [
      "/opt/conda/envs/tensor/lib/python3.8/site-packages/tqdm/auto.py:21: TqdmWarning: IProgress not found. Please update jupyter and ipywidgets. See https://ipywidgets.readthedocs.io/en/stable/user_install.html\n",
      "  from .autonotebook import tqdm as notebook_tqdm\n"
     ]
    }
   ],
   "source": [
    "from torch.utils.data import DataLoader, Dataset\n",
    "from imutils.paths import list_images\n",
    "from collections import OrderedDict\n",
    "from torchvision import transforms\n",
    "import torch.nn.functional as F\n",
    "import matplotlib.pyplot as plt\n",
    "from torchvision import models\n",
    "import torch.optim as optim\n",
    "from tqdm import tqdm\n",
    "import torch.nn as nn\n",
    "from PIL import Image\n",
    "import numpy as np\n",
    "import torch\n",
    "import os"
   ]
  },
  {
   "cell_type": "code",
   "execution_count": 2,
   "id": "1388f81b-9e9a-44cc-9d9f-a1a510ead627",
   "metadata": {},
   "outputs": [
    {
     "data": {
      "text/plain": [
       "device(type='cuda')"
      ]
     },
     "execution_count": 2,
     "metadata": {},
     "output_type": "execute_result"
    }
   ],
   "source": [
    "ROOT_PATH    = '/'.join(os.getcwd().split('/')[:-2])\n",
    "DATASET_PATH = f'{ROOT_PATH}/dataset/UTKface'\n",
    "IS_CUDA      = 'cuda' if torch.cuda.is_available() else 'cpu'\n",
    "\n",
    "EPOCHS = 10\n",
    "LR     = 1e-3\n",
    "BS     = 64\n",
    "\n",
    "device       = torch.device(IS_CUDA)\n",
    "device"
   ]
  },
  {
   "cell_type": "code",
   "execution_count": 3,
   "id": "c32874d2-b7df-4ca8-90cc-1d4f72f3ade5",
   "metadata": {},
   "outputs": [],
   "source": [
    "digit2lb = {'gender' : {0 : 'male',  1 : 'female'},\n",
    "            'race'   : {0 : 'White', 1 : 'Black', 2 : 'Asian', 3 : 'Indian', 4 : 'Others'}}"
   ]
  },
  {
   "cell_type": "code",
   "execution_count": 4,
   "id": "4bd0659b-29a5-4233-bd3d-e3658bfdaf86",
   "metadata": {},
   "outputs": [],
   "source": [
    "class UTKFace(Dataset):\n",
    "    \n",
    "    def __init__(self, image_paths):\n",
    "        \n",
    "        self.transform = transforms.Compose([\n",
    "                            transforms.Resize((32, 32)),\n",
    "                            transforms.ToTensor(),\n",
    "                            transforms.Normalize([0.486, 0.456, 0.406],\n",
    "                                                [0.229, 0.224, 0.225])\n",
    "                        ])\n",
    "        \n",
    "        self.image_paths = image_paths\n",
    "        self.images      = []\n",
    "        self.genders     = []\n",
    "        self.races       = []\n",
    "        self.ages        = []\n",
    "        \n",
    "        for idx, path in enumerate(image_paths, 1):\n",
    "            filename = path.split('/')[-1].split(\"_\")\n",
    "            \n",
    "            if len(filename) == 4:\n",
    "                age, gender, race, _ = filename\n",
    "                \n",
    "                try:\n",
    "                    self.genders.append(int(gender))\n",
    "                    self.races.append(int(race))\n",
    "                    self.ages.append(int(age))\n",
    "                    self.images.append(path)\n",
    "                    \n",
    "                except:\n",
    "                    print(f'[{idx}]. {path}')\n",
    "                \n",
    "                \n",
    "    def __len__(self): return len(self.images)\n",
    "\n",
    "    def __getitem__(self, idx):\n",
    "        \n",
    "        image = Image.open(self.images[idx]).convert('RGB')\n",
    "        image = self.transform(image)\n",
    "        \n",
    "        gender = self.genders[idx]\n",
    "        race   = self.races[idx]\n",
    "        age    = self.ages[idx]\n",
    "        \n",
    "        sample = {'image' : image, 'gender' : gender,\n",
    "                 'race'   : race,  'age'    : age}\n",
    "        \n",
    "        return sample\n",
    "        \n",
    "        "
   ]
  },
  {
   "cell_type": "code",
   "execution_count": 5,
   "id": "8aa1cc6a-6eff-4a07-bd67-3ed479ba79e3",
   "metadata": {},
   "outputs": [],
   "source": [
    "train_image_paths = sorted(list_images(f'{DATASET_PATH}/train'))\n",
    "valid_image_paths = sorted(list_images(f'{DATASET_PATH}/valid'))\n",
    "test_image_paths  = sorted(list_images(f'{DATASET_PATH}/test'))"
   ]
  },
  {
   "cell_type": "code",
   "execution_count": 6,
   "id": "4bfb25ab-0107-49ee-a026-09f05909a949",
   "metadata": {},
   "outputs": [
    {
     "name": "stdout",
     "output_type": "stream",
     "text": [
      "[9391]. /home/jovyan/TIL/dataset/UTKface/valid/53__0_20170116184028385.jpg\n"
     ]
    }
   ],
   "source": [
    "train_dataloader = DataLoader(UTKFace(train_image_paths), shuffle = True,  batch_size = BS)\n",
    "valid_dataloader = DataLoader(UTKFace(valid_image_paths), shuffle = True,  batch_size = BS)\n",
    "test_dataloader  = DataLoader(UTKFace(test_image_paths),  shuffle = False, batch_size = BS)"
   ]
  },
  {
   "cell_type": "code",
   "execution_count": 7,
   "id": "c7ccd9c7-7fe9-4e52-af9a-55b023d89412",
   "metadata": {},
   "outputs": [
    {
     "name": "stderr",
     "output_type": "stream",
     "text": [
      "Clipping input data to the valid range for imshow with RGB data ([0..1] for floats or [0..255] for integers).\n"
     ]
    },
    {
     "data": {
      "text/plain": [
       "(-0.5, 31.5, 31.5, -0.5)"
      ]
     },
     "execution_count": 7,
     "metadata": {},
     "output_type": "execute_result"
    },
    {
     "data": {
      "image/png": "[encoded data removed]",
      "text/plain": [
       "<Figure size 640x480 with 1 Axes>"
      ]
     },
     "metadata": {},
     "output_type": "display_data"
    }
   ],
   "source": [
    "sample_data = next(iter(train_dataloader))\n",
    "\n",
    "gender = int(sample_data['gender'][0].data)\n",
    "image  = sample_data['image'][0]\n",
    "race   = int(sample_data['race'][0].data)\n",
    "age    = sample_data['age'][0]\n",
    "\n",
    "plt.imshow(np.transpose(image, (1, 2, 0)))\n",
    "plt.title(f'[{digit2lb[\"race\"][race]}] {digit2lb[\"gender\"][gender]} ({age} yrs old)')\n",
    "plt.axis(False)"
   ]
  },
  {
   "cell_type": "code",
   "execution_count": 8,
   "id": "fdd9f1df-03cd-454a-87c1-3f6066245cc6",
   "metadata": {},
   "outputs": [],
   "source": [
    "class HydraNet(nn.Module):\n",
    "    \n",
    "    def __init__(self, net):\n",
    "        \n",
    "        super(HydraNet, self).__init__()\n",
    "        self.net        = net\n",
    "        self.n_features = self.net.fc.in_features\n",
    "        self.net.fc     = nn.Identity()\n",
    "        self.net.fc1    = nn.Sequential(\n",
    "                            OrderedDict([\n",
    "                                ('linear', nn.Linear(self.n_features, self.n_features)),\n",
    "                                ('relu1' , nn.ReLU()),\n",
    "                                ('final' , nn.Linear(self.n_features, 1))\n",
    "                            ]))\n",
    "        self.net.fc2    = nn.Sequential(\n",
    "                            OrderedDict([\n",
    "                                ('linear', nn.Linear(self.n_features, self.n_features)),\n",
    "                                ('relu1' , nn.ReLU()),\n",
    "                                ('final' , nn.Linear(self.n_features, 5))\n",
    "                            ]))\n",
    "        \n",
    "        self.net.fc3   = nn.Sequential(\n",
    "                            OrderedDict([\n",
    "                                ('linear', nn.Linear(self.n_features, self.n_features)),\n",
    "                                ('relu1' , nn.ReLU()),\n",
    "                                ('final' , nn.Linear(self.n_features, 1))\n",
    "                            ]))\n",
    "        \n",
    "        \n",
    "    def forward(self, x):\n",
    "        \n",
    "        age_head    = self.net.fc1(self.net(x))\n",
    "        race_head   = self.net.fc2(self.net(x))\n",
    "        gender_head = self.net.fc3(self.net(x))\n",
    "        \n",
    "        return age_head, race_head, gender_head"
   ]
  },
  {
   "cell_type": "code",
   "execution_count": 9,
   "id": "4c489ea4-98dd-456e-8b0e-e9b00d9b20f8",
   "metadata": {},
   "outputs": [
    {
     "name": "stderr",
     "output_type": "stream",
     "text": [
      "/opt/conda/envs/tensor/lib/python3.8/site-packages/torchvision/models/_utils.py:208: UserWarning: The parameter 'pretrained' is deprecated since 0.13 and will be removed in 0.15, please use 'weights' instead.\n",
      "  warnings.warn(\n",
      "/opt/conda/envs/tensor/lib/python3.8/site-packages/torchvision/models/_utils.py:223: UserWarning: Arguments other than a weight enum or `None` for 'weights' are deprecated since 0.13 and will be removed in 0.15. The current behavior is equivalent to passing `weights=ResNet34_Weights.IMAGENET1K_V1`. You can also use `weights=ResNet34_Weights.DEFAULT` to get the most up-to-date weights.\n",
      "  warnings.warn(msg)\n"
     ]
    }
   ],
   "source": [
    "net   = models.resnet34(pretrained = True)\n",
    "model = HydraNet(net).to(device = device)"
   ]
  },
  {
   "cell_type": "code",
   "execution_count": 10,
   "id": "17674e3c-4afb-4351-b2bc-4cf9cdb5870b",
   "metadata": {},
   "outputs": [],
   "source": [
    "age_loss    = nn.L1Loss()\n",
    "race_loss   = nn.CrossEntropyLoss()\n",
    "gender_loss = nn.BCELoss()\n",
    "\n",
    "\n",
    "optimizer   = torch.optim.SGD(model.parameters(), LR, momentum = 0.09)\n",
    "sigmoid     = nn.Sigmoid()     "
   ]
  },
  {
   "cell_type": "code",
   "execution_count": 11,
   "id": "714ba35e-637b-4d14-a3f6-53a091c1bfe6",
   "metadata": {},
   "outputs": [
    {
     "name": "stdout",
     "output_type": "stream",
     "text": [
      "[1 / 10] training start\n"
     ]
    },
    {
     "name": "stderr",
     "output_type": "stream",
     "text": [
      "  0%|          | 0/159 [00:00<?, ?it/s]/opt/conda/envs/tensor/lib/python3.8/site-packages/torch/nn/modules/loss.py:96: UserWarning: Using a target size (torch.Size([64])) that is different to the input size (torch.Size([64, 1])). This will likely lead to incorrect results due to broadcasting. Please ensure they have the same size.\n",
      "  return F.l1_loss(input, target, reduction=self.reduction)\n",
      " 99%|█████████▉| 158/159 [01:26<00:00,  2.24it/s]/opt/conda/envs/tensor/lib/python3.8/site-packages/torch/nn/modules/loss.py:96: UserWarning: Using a target size (torch.Size([23])) that is different to the input size (torch.Size([23, 1])). This will likely lead to incorrect results due to broadcasting. Please ensure they have the same size.\n",
      "  return F.l1_loss(input, target, reduction=self.reduction)\n",
      "100%|██████████| 159/159 [01:26<00:00,  1.84it/s]\n"
     ]
    },
    {
     "name": "stdout",
     "output_type": "stream",
     "text": [
      "[1 / 10] train_loss : 0.477714866399765 gender acc : 44.79 race acc : 1662.03\n",
      "[2 / 10] training start\n"
     ]
    },
    {
     "name": "stderr",
     "output_type": "stream",
     "text": [
      "100%|██████████| 159/159 [01:25<00:00,  1.87it/s]\n"
     ]
    },
    {
     "name": "stdout",
     "output_type": "stream",
     "text": [
      "[2 / 10] train_loss : 0.45231932401657104 gender acc : 44.79 race acc : 3259.11\n",
      "[3 / 10] training start\n"
     ]
    },
    {
     "name": "stderr",
     "output_type": "stream",
     "text": [
      "100%|██████████| 159/159 [01:24<00:00,  1.87it/s]\n"
     ]
    },
    {
     "name": "stdout",
     "output_type": "stream",
     "text": [
      "[3 / 10] train_loss : 0.43253374099731445 gender acc : 44.79 race acc : 3388.76\n",
      "[4 / 10] training start\n"
     ]
    },
    {
     "name": "stderr",
     "output_type": "stream",
     "text": [
      "100%|██████████| 159/159 [01:25<00:00,  1.87it/s]\n"
     ]
    },
    {
     "name": "stdout",
     "output_type": "stream",
     "text": [
      "[4 / 10] train_loss : 0.41475045680999756 gender acc : 44.79 race acc : 3393.96\n",
      "[5 / 10] training start\n"
     ]
    },
    {
     "name": "stderr",
     "output_type": "stream",
     "text": [
      "100%|██████████| 159/159 [01:24<00:00,  1.87it/s]\n"
     ]
    },
    {
     "name": "stdout",
     "output_type": "stream",
     "text": [
      "[5 / 10] train_loss : 0.3975462317466736 gender acc : 44.79 race acc : 3396.34\n",
      "[6 / 10] training start\n"
     ]
    },
    {
     "name": "stderr",
     "output_type": "stream",
     "text": [
      "100%|██████████| 159/159 [01:24<00:00,  1.87it/s]\n"
     ]
    },
    {
     "name": "stdout",
     "output_type": "stream",
     "text": [
      "[6 / 10] train_loss : 0.3834778666496277 gender acc : 44.79 race acc : 3399.10\n",
      "[7 / 10] training start\n"
     ]
    },
    {
     "name": "stderr",
     "output_type": "stream",
     "text": [
      "100%|██████████| 159/159 [01:24<00:00,  1.88it/s]\n"
     ]
    },
    {
     "name": "stdout",
     "output_type": "stream",
     "text": [
      "[7 / 10] train_loss : 0.37242963910102844 gender acc : 44.79 race acc : 3398.70\n",
      "[8 / 10] training start\n"
     ]
    },
    {
     "name": "stderr",
     "output_type": "stream",
     "text": [
      "100%|██████████| 159/159 [01:24<00:00,  1.87it/s]\n"
     ]
    },
    {
     "name": "stdout",
     "output_type": "stream",
     "text": [
      "[8 / 10] train_loss : 0.3648986220359802 gender acc : 44.79 race acc : 3398.28\n",
      "[9 / 10] training start\n"
     ]
    },
    {
     "name": "stderr",
     "output_type": "stream",
     "text": [
      "100%|██████████| 159/159 [01:24<00:00,  1.87it/s]\n"
     ]
    },
    {
     "name": "stdout",
     "output_type": "stream",
     "text": [
      "[9 / 10] train_loss : 0.36033183336257935 gender acc : 44.79 race acc : 3395.98\n",
      "[10 / 10] training start\n"
     ]
    },
    {
     "name": "stderr",
     "output_type": "stream",
     "text": [
      "100%|██████████| 159/159 [01:25<00:00,  1.87it/s]"
     ]
    },
    {
     "name": "stdout",
     "output_type": "stream",
     "text": [
      "[10 / 10] train_loss : 0.3577789068222046 gender acc : 44.79 race acc : 3395.98\n"
     ]
    },
    {
     "name": "stderr",
     "output_type": "stream",
     "text": [
      "\n"
     ]
    }
   ],
   "source": [
    "for epoch in range(1, EPOCHS + 1):\n",
    "    \n",
    "    model.train()\n",
    "    train_loss = 0\n",
    "    gender_acc = 0\n",
    "    race_acc   = 0 \n",
    "\n",
    "    print(f'[{epoch} / {EPOCHS}] training start')\n",
    "    for idx, data in enumerate(tqdm(train_dataloader)):\n",
    "        \n",
    "        inputs    = data['image'].to(device = device)\n",
    "        age_lb    = data['age'].to(device = device)\n",
    "        race_lb   = data['race'].to(device = device)\n",
    "        gender_lb = data['gender'].to(device = device)\n",
    "        \n",
    "        optimizer.zero_grad()\n",
    "        \n",
    "        age_output, race_output, gender_output = model(inputs)\n",
    "        \n",
    "        gender_pred = gender_output.max(1, keepdim = True)[1]\n",
    "        race_pred   = race_output.max(1, keepdim = True)[1]\n",
    "        \n",
    "        gender_acc += gender_pred.eq(gender_lb.view_as(gender_pred)).sum().item()\n",
    "        race_acc   += race_pred.eq(race_lb.view_as(race_lb)).sum().item()\n",
    "        \n",
    "        loss1 = age_loss(age_output, age_lb)\n",
    "        loss2 = race_loss(race_output, race_lb)\n",
    "        loss3 = gender_loss(sigmoid(gender_output), gender_lb.unsqueeze(1).float())\n",
    "        loss  = loss1 + loss2 + loss3\n",
    "        \n",
    "        loss.backward()\n",
    "        optimizer.step()\n",
    "        \n",
    "        train_loss += loss\n",
    "    \n",
    "    train_loss /= len(train_dataloader.dataset)\n",
    "    gender_acc /= len(train_dataloader.dataset)\n",
    "    race_acc   /= len(train_dataloader.dataset)\n",
    "    \n",
    "    print(f'[{epoch} / {EPOCHS}] train_loss : {train_loss} gender acc : {gender_acc * 100:.2f} race acc : {race_acc * 100:.2f}')\n",
    "    print('\\n')\n",
    "    "
   ]
  },
  {
   "cell_type": "code",
   "execution_count": null,
   "id": "a882ce7a-d33a-45a2-8cc8-cf7265cb4ec4",
   "metadata": {},
   "outputs": [],
   "source": []
  }
 ],
 "metadata": {
  "kernelspec": {
   "display_name": "tensor",
   "language": "python",
   "name": "tensor"
  },
  "language_info": {
   "codemirror_mode": {
    "name": "ipython",
    "version": 3
   },
   "file_extension": ".py",
   "mimetype": "text/x-python",
   "name": "python",
   "nbconvert_exporter": "python",
   "pygments_lexer": "ipython3",
   "version": "3.8.15"
  }
 },
 "nbformat": 4,
 "nbformat_minor": 5
}
