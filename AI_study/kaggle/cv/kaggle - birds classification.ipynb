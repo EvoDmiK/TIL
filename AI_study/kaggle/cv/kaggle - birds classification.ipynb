{
 "cells": [
  {
   "cell_type": "markdown",
   "id": "96e32d5c-340a-4dd4-883b-b71d4a4b87b6",
   "metadata": {},
   "source": [
    "# **0. 참고자료**\n",
    "## **0-1. 도서**   \n",
    "\n",
    "## **0-2. 논문, 학술지**\n",
    "\n",
    "## **0-3. 웹 사이트**\n",
    "\n",
    "## **0-4. 데이터셋 출처**\n",
    "- Kaggle - BIRDS 400 - SPECIES IMAGE CLASSIFICATION | [[데이터 셋 링크]](https://www.kaggle.com/datasets/gpiosenka/100-bird-species)\n"
   ]
  },
  {
   "cell_type": "code",
   "execution_count": 9,
   "id": "c10fe7a8-44e0-42c3-8d18-8b4eaeab2096",
   "metadata": {},
   "outputs": [
    {
     "name": "stdout",
     "output_type": "stream",
     "text": [
      "/home/jovyan/dove/TIL/api/kaggle.json\n"
     ]
    }
   ],
   "source": [
    "## json 파일 업로드 확인\n",
    "!ls -1ha ~/dove/TIL/api/kaggle.json\n",
    "\n",
    "## 캐글 숨김 폴더 생성\n",
    "!mkdir -p ~/.kaggle\n",
    "\n",
    "## 토큰 파일 옮기고, 권한 부여\n",
    "!cp  ~/dove/TIL/api/kaggle.json ~/.kaggle/\n",
    "!chmod 600 ~/.kaggle/kaggle.json\n",
    "\n",
    "## 데이터 셋 다운로드\n",
    "!kaggle datasets download -d gpiosenka/100-bird-species\n",
    "\n",
    "## 파일 옮기기\n",
    "!mkdir -p ~/dove/TIL/AI_study/datasets/zip\n",
    "!mv 100-bird-species.zip ~/dove/TIL/AI_study/datasets/zip/birds.zip"
   ]
  },
  {
   "cell_type": "code",
   "execution_count": null,
   "id": "f0bc340d-fbb1-4e5f-96bf-c748edeeef4a",
   "metadata": {},
   "outputs": [],
   "source": [
    "!unzip ~/dove/TIL/AI_study/datasets/zip/birds.zip -d ~/dove/TIL/AI_study/datasets/birds"
   ]
  },
  {
   "cell_type": "code",
   "execution_count": 17,
   "id": "4eb42543-1e05-478c-8f01-f47fe0ec2c0f",
   "metadata": {},
   "outputs": [],
   "source": [
    "from imutils.paths import list_images\n",
    "import matplotlib.pyplot as plt\n",
    "import numpy as np\n",
    "import cv2, os"
   ]
  },
  {
   "cell_type": "code",
   "execution_count": null,
   "id": "5719b482-975d-4447-b818-8e0725c27507",
   "metadata": {},
   "outputs": [],
   "source": []
  }
 ],
 "metadata": {
  "kernelspec": {
   "display_name": "bio",
   "language": "python",
   "name": "bio"
  },
  "language_info": {
   "codemirror_mode": {
    "name": "ipython",
    "version": 3
   },
   "file_extension": ".py",
   "mimetype": "text/x-python",
   "name": "python",
   "nbconvert_exporter": "python",
   "pygments_lexer": "ipython3",
   "version": "3.9.12"
  }
 },
 "nbformat": 4,
 "nbformat_minor": 5
}
