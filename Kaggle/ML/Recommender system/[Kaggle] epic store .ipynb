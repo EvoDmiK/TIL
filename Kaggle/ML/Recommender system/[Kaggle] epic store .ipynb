{
 "cells": [
  {
   "cell_type": "code",
   "execution_count": 1,
   "id": "3116bb9d-856c-4c58-87e1-304f332918a5",
   "metadata": {},
   "outputs": [],
   "source": [
    "import os\n",
    "\n",
    "from matplotlib import pyplot as plt\n",
    "from datetime import datetime\n",
    "import seaborn as sns\n",
    "import pandas as pd\n",
    "import numpy as np"
   ]
  },
  {
   "cell_type": "code",
   "execution_count": 2,
   "id": "71ec3360-769d-467f-952d-01bf7ecd097d",
   "metadata": {},
   "outputs": [],
   "source": [
    "SEP       = os.path.sep \n",
    "ROOT_PATH = SEP.join(os.getcwd().split(SEP)[:-3])\n",
    "DATA_PATH = f'{ROOT_PATH}/Dataset/EpicStore'"
   ]
  },
  {
   "cell_type": "code",
   "execution_count": 3,
   "id": "6e8365fe-2b9f-4f19-9ffc-fdc49c17f5bf",
   "metadata": {},
   "outputs": [
    {
     "name": "stdout",
     "output_type": "stream",
     "text": [
      "<class 'pandas.core.frame.DataFrame'>\n",
      "RangeIndex: 17584 entries, 0 to 17583\n",
      "Data columns (total 8 columns):\n",
      " #   Column      Non-Null Count  Dtype  \n",
      "---  ------      --------------  -----  \n",
      " 0   id          17584 non-null  object \n",
      " 1   company     17584 non-null  object \n",
      " 2   author      15769 non-null  object \n",
      " 3   rating      17053 non-null  float64\n",
      " 4   comment     17428 non-null  object \n",
      " 5   date        17584 non-null  object \n",
      " 6   top_critic  17584 non-null  bool   \n",
      " 7   game_id     17584 non-null  object \n",
      "dtypes: bool(1), float64(1), object(6)\n",
      "memory usage: 978.9+ KB\n"
     ]
    }
   ],
   "source": [
    "critic_df = pd.read_csv(f'{DATA_PATH}/open_critic.csv')\n",
    "critic_df.info()"
   ]
  },
  {
   "cell_type": "code",
   "execution_count": 4,
   "id": "14ab29a6-a1cc-451c-92ba-d327bc642cb1",
   "metadata": {},
   "outputs": [
    {
     "name": "stdout",
     "output_type": "stream",
     "text": [
      "<class 'pandas.core.frame.DataFrame'>\n",
      "RangeIndex: 915 entries, 0 to 914\n",
      "Data columns (total 10 columns):\n",
      " #   Column        Non-Null Count  Dtype \n",
      "---  ------        --------------  ----- \n",
      " 0   id            915 non-null    object\n",
      " 1   name          915 non-null    object\n",
      " 2   game_slug     915 non-null    object\n",
      " 3   price         915 non-null    int64 \n",
      " 4   release_date  915 non-null    object\n",
      " 5   platform      783 non-null    object\n",
      " 6   description   915 non-null    object\n",
      " 7   developer     712 non-null    object\n",
      " 8   publisher     707 non-null    object\n",
      " 9   genres        757 non-null    object\n",
      "dtypes: int64(1), object(9)\n",
      "memory usage: 71.6+ KB\n"
     ]
    }
   ],
   "source": [
    "games_df  = pd.read_csv(f'{DATA_PATH}/games.csv')\n",
    "games_df.info()"
   ]
  },
  {
   "cell_type": "code",
   "execution_count": 5,
   "id": "2157bdd6-fb83-4db9-b06a-4f70318ed222",
   "metadata": {},
   "outputs": [],
   "source": [
    "games_df.rename(columns = {'id' : 'game_id'}, inplace = True)\n",
    "df        = pd.merge(left = games_df, right = critic_df, how = 'right', on = 'game_id')"
   ]
  },
  {
   "cell_type": "code",
   "execution_count": 17,
   "id": "7fa20714-c33a-4f81-80b9-fae3e7c32c7d",
   "metadata": {},
   "outputs": [
    {
     "data": {
      "text/plain": [
       "3809"
      ]
     },
     "execution_count": 17,
     "metadata": {},
     "output_type": "execute_result"
    }
   ],
   "source": [
    "critic_df['purchase_games'] = [len(critic_df[critic_df.author == author]) for author in critic_df.author.unique()]\n",
    "critic_df.purchase_games"
   ]
  },
  {
   "cell_type": "code",
   "execution_count": 6,
   "id": "179d7d4c-0e40-4d96-a10b-64de76048429",
   "metadata": {},
   "outputs": [
    {
     "name": "stdout",
     "output_type": "stream",
     "text": [
      "<class 'pandas.core.frame.DataFrame'>\n",
      "Int64Index: 11351 entries, 0 to 17581\n",
      "Data columns (total 17 columns):\n",
      " #   Column        Non-Null Count  Dtype  \n",
      "---  ------        --------------  -----  \n",
      " 0   game_id       11351 non-null  object \n",
      " 1   name          11351 non-null  object \n",
      " 2   game_slug     11351 non-null  object \n",
      " 3   price         11351 non-null  int64  \n",
      " 4   release_date  11351 non-null  object \n",
      " 5   platform      11351 non-null  object \n",
      " 6   description   11351 non-null  object \n",
      " 7   developer     11351 non-null  object \n",
      " 8   publisher     11351 non-null  object \n",
      " 9   genres        11351 non-null  object \n",
      " 10  id            11351 non-null  object \n",
      " 11  company       11351 non-null  object \n",
      " 12  author        11351 non-null  object \n",
      " 13  rating        11351 non-null  float64\n",
      " 14  comment       11351 non-null  object \n",
      " 15  date          11351 non-null  object \n",
      " 16  top_critic    11351 non-null  bool   \n",
      "dtypes: bool(1), float64(1), int64(1), object(14)\n",
      "memory usage: 1.5+ MB\n"
     ]
    }
   ],
   "source": [
    "df = df.dropna()\n",
    "df.info()"
   ]
  },
  {
   "cell_type": "code",
   "execution_count": 7,
   "id": "8f6064e8-a811-4227-b5ba-3a48b8d8a826",
   "metadata": {},
   "outputs": [],
   "source": [
    "df.price          = df.price.apply(lambda        x: int(x) / 100)\n",
    "df.genres         = df.genres.apply(lambda       x: x.split(','))\n",
    "df.platform       = df.platform.apply(lambda     x: x.split(','))\n",
    "df.publisher      = df.publisher.apply(lambda    x: x.split(','))\n",
    "df.release_date   = df.release_date.apply(lambda x: '-'.join(x.split('-')[:2]))\n",
    "df = df.drop(['game_slug', 'date', 'id'], axis = 1)"
   ]
  },
  {
   "cell_type": "code",
   "execution_count": 8,
   "id": "7260ba8b-dea2-4c59-94d0-efb1342a958b",
   "metadata": {},
   "outputs": [
    {
     "data": {
      "text/html": [
       "<div>\n",
       "<style scoped>\n",
       "    .dataframe tbody tr th:only-of-type {\n",
       "        vertical-align: middle;\n",
       "    }\n",
       "\n",
       "    .dataframe tbody tr th {\n",
       "        vertical-align: top;\n",
       "    }\n",
       "\n",
       "    .dataframe thead th {\n",
       "        text-align: right;\n",
       "    }\n",
       "</style>\n",
       "<table border=\"1\" class=\"dataframe\">\n",
       "  <thead>\n",
       "    <tr style=\"text-align: right;\">\n",
       "      <th></th>\n",
       "      <th>15393</th>\n",
       "      <th>15755</th>\n",
       "      <th>2677</th>\n",
       "    </tr>\n",
       "  </thead>\n",
       "  <tbody>\n",
       "    <tr>\n",
       "      <th>game_id</th>\n",
       "      <td>c4920a39dfb74fb2b091fc5eaddcabb1</td>\n",
       "      <td>dfae164155c84664b9040dd802bb2669</td>\n",
       "      <td>bf83aee67dd1475fb6bf2c8563f14b70</td>\n",
       "    </tr>\n",
       "    <tr>\n",
       "      <th>name</th>\n",
       "      <td>Neon City Riders: Super-powered Edition</td>\n",
       "      <td>Sherlock Holmes: The Devil's Daughter</td>\n",
       "      <td>Cities: Skylines</td>\n",
       "    </tr>\n",
       "    <tr>\n",
       "      <th>price</th>\n",
       "      <td>14.99</td>\n",
       "      <td>29.99</td>\n",
       "      <td>29.99</td>\n",
       "    </tr>\n",
       "    <tr>\n",
       "      <th>release_date</th>\n",
       "      <td>2021-08</td>\n",
       "      <td>2021-06</td>\n",
       "      <td>2020-12</td>\n",
       "    </tr>\n",
       "    <tr>\n",
       "      <th>platform</th>\n",
       "      <td>[Windows]</td>\n",
       "      <td>[Windows]</td>\n",
       "      <td>[Windows]</td>\n",
       "    </tr>\n",
       "    <tr>\n",
       "      <th>description</th>\n",
       "      <td>Explore a post-cyberpunk decaying city searchi...</td>\n",
       "      <td>Sherlock Holmes: The Devil’s Daughter is a fan...</td>\n",
       "      <td>Cities: Skylines is a modern take on the class...</td>\n",
       "    </tr>\n",
       "    <tr>\n",
       "      <th>developer</th>\n",
       "      <td>Mecha Studios</td>\n",
       "      <td>Frogwares</td>\n",
       "      <td>Colossal Order</td>\n",
       "    </tr>\n",
       "    <tr>\n",
       "      <th>publisher</th>\n",
       "      <td>[Mecha Studios]</td>\n",
       "      <td>[Frogwares]</td>\n",
       "      <td>[Paradox Interactive]</td>\n",
       "    </tr>\n",
       "    <tr>\n",
       "      <th>genres</th>\n",
       "      <td>[ACTION, ADVENTURE, OPEN_WORLD]</td>\n",
       "      <td>[ACTION, ADVENTURE, INVESTIGATION]</td>\n",
       "      <td>[STRATEGY, SIMULATION, CITY_BUILDER]</td>\n",
       "    </tr>\n",
       "    <tr>\n",
       "      <th>company</th>\n",
       "      <td>Atomix</td>\n",
       "      <td>Next Gen Base</td>\n",
       "      <td>Press Start</td>\n",
       "    </tr>\n",
       "    <tr>\n",
       "      <th>author</th>\n",
       "      <td>Sebastian Quiroz</td>\n",
       "      <td>Robin Parker</td>\n",
       "      <td>Mehdi Zadnane</td>\n",
       "    </tr>\n",
       "    <tr>\n",
       "      <th>rating</th>\n",
       "      <td>60.0</td>\n",
       "      <td>50.0</td>\n",
       "      <td>80.0</td>\n",
       "    </tr>\n",
       "    <tr>\n",
       "      <th>comment</th>\n",
       "      <td>Neon City Riders is an independent game that t...</td>\n",
       "      <td>Sherlock Holmes: The Devil's Daughter feels li...</td>\n",
       "      <td>Cities: Skylines – Xbox One Edition does make ...</td>\n",
       "    </tr>\n",
       "    <tr>\n",
       "      <th>top_critic</th>\n",
       "      <td>True</td>\n",
       "      <td>False</td>\n",
       "      <td>True</td>\n",
       "    </tr>\n",
       "  </tbody>\n",
       "</table>\n",
       "</div>"
      ],
      "text/plain": [
       "                                                          15393  \\\n",
       "game_id                        c4920a39dfb74fb2b091fc5eaddcabb1   \n",
       "name                    Neon City Riders: Super-powered Edition   \n",
       "price                                                     14.99   \n",
       "release_date                                            2021-08   \n",
       "platform                                              [Windows]   \n",
       "description   Explore a post-cyberpunk decaying city searchi...   \n",
       "developer                                         Mecha Studios   \n",
       "publisher                                       [Mecha Studios]   \n",
       "genres                          [ACTION, ADVENTURE, OPEN_WORLD]   \n",
       "company                                                  Atomix   \n",
       "author                                         Sebastian Quiroz   \n",
       "rating                                                     60.0   \n",
       "comment       Neon City Riders is an independent game that t...   \n",
       "top_critic                                                 True   \n",
       "\n",
       "                                                          15755  \\\n",
       "game_id                        dfae164155c84664b9040dd802bb2669   \n",
       "name                      Sherlock Holmes: The Devil's Daughter   \n",
       "price                                                     29.99   \n",
       "release_date                                            2021-06   \n",
       "platform                                              [Windows]   \n",
       "description   Sherlock Holmes: The Devil’s Daughter is a fan...   \n",
       "developer                                             Frogwares   \n",
       "publisher                                           [Frogwares]   \n",
       "genres                       [ACTION, ADVENTURE, INVESTIGATION]   \n",
       "company                                           Next Gen Base   \n",
       "author                                             Robin Parker   \n",
       "rating                                                     50.0   \n",
       "comment       Sherlock Holmes: The Devil's Daughter feels li...   \n",
       "top_critic                                                False   \n",
       "\n",
       "                                                          2677   \n",
       "game_id                        bf83aee67dd1475fb6bf2c8563f14b70  \n",
       "name                                           Cities: Skylines  \n",
       "price                                                     29.99  \n",
       "release_date                                            2020-12  \n",
       "platform                                              [Windows]  \n",
       "description   Cities: Skylines is a modern take on the class...  \n",
       "developer                                        Colossal Order  \n",
       "publisher                                 [Paradox Interactive]  \n",
       "genres                     [STRATEGY, SIMULATION, CITY_BUILDER]  \n",
       "company                                             Press Start  \n",
       "author                                            Mehdi Zadnane  \n",
       "rating                                                     80.0  \n",
       "comment       Cities: Skylines – Xbox One Edition does make ...  \n",
       "top_critic                                                 True  "
      ]
     },
     "execution_count": 8,
     "metadata": {},
     "output_type": "execute_result"
    }
   ],
   "source": [
    "df.sample(3).T"
   ]
  },
  {
   "cell_type": "code",
   "execution_count": 11,
   "id": "807e48ad-7820-45a2-8b4f-eaa27e1603ae",
   "metadata": {},
   "outputs": [
    {
     "name": "stdout",
     "output_type": "stream",
     "text": [
      "<class 'pandas.core.frame.DataFrame'>\n",
      "Int64Index: 11351 entries, 0 to 17581\n",
      "Data columns (total 14 columns):\n",
      " #   Column        Non-Null Count  Dtype  \n",
      "---  ------        --------------  -----  \n",
      " 0   game_id       11351 non-null  object \n",
      " 1   name          11351 non-null  object \n",
      " 2   price         11351 non-null  float64\n",
      " 3   release_date  11351 non-null  object \n",
      " 4   platform      11351 non-null  object \n",
      " 5   description   11351 non-null  object \n",
      " 6   developer     11351 non-null  object \n",
      " 7   publisher     11351 non-null  object \n",
      " 8   genres        11351 non-null  object \n",
      " 9   company       11351 non-null  object \n",
      " 10  author        11351 non-null  object \n",
      " 11  rating        11351 non-null  float64\n",
      " 12  comment       11351 non-null  object \n",
      " 13  top_critic    11351 non-null  bool   \n",
      "dtypes: bool(1), float64(2), object(11)\n",
      "memory usage: 1.2+ MB\n"
     ]
    }
   ],
   "source": [
    "df.info()"
   ]
  },
  {
   "cell_type": "code",
   "execution_count": 9,
   "id": "cbbe70a3-f24e-441f-a4d8-25f5eb311465",
   "metadata": {},
   "outputs": [],
   "source": [
    "user2idx = {user : idx  for idx , user in enumerate(df.author.unique())}\n",
    "idx2user = {idx  : user for user, idx  in user2idx.items()}\n",
    "\n",
    "game2idx = {game : idx  for idx , game in enumerate(df.name.unique())}\n",
    "idx2game = {idx  : game for game, idx  in game2idx.items()}\n",
    "\n",
    "user_idx = df.author.apply(lambda x: user2idx[x]).values\n",
    "game_idx = df.name.apply(lambda   x: game2idx[x]).values"
   ]
  },
  {
   "cell_type": "code",
   "execution_count": 10,
   "id": "9159fb63-e428-4669-b19d-a0ca307a5742",
   "metadata": {},
   "outputs": [],
   "source": [
    "n_users  = len(df.author.unique())\n",
    "n_games  = len(df.name.unique())\n",
    "\n",
    "zero_mat       = np.zeros(shape = (n_users, n_games))\n",
    "user_game_pref = zero_mat.copy()\n",
    "user_game_pref[user_idx, game_idx] = 1"
   ]
  },
  {
   "cell_type": "code",
   "execution_count": 12,
   "id": "c3dcc41d-bcb7-493d-a402-341d83192f63",
   "metadata": {},
   "outputs": [
    {
     "data": {
      "text/plain": [
       "array([[1., 0., 0., ..., 0., 0., 0.],\n",
       "       [1., 0., 0., ..., 0., 0., 0.],\n",
       "       [1., 0., 0., ..., 0., 0., 0.],\n",
       "       ...,\n",
       "       [0., 0., 0., ..., 0., 1., 0.],\n",
       "       [0., 0., 0., ..., 0., 0., 1.],\n",
       "       [0., 0., 0., ..., 0., 0., 1.]])"
      ]
     },
     "execution_count": 12,
     "metadata": {},
     "output_type": "execute_result"
    }
   ],
   "source": [
    "user_game_pref"
   ]
  },
  {
   "cell_type": "code",
   "execution_count": null,
   "id": "e5282c4e-2100-4d0d-9098-c3c1006e681c",
   "metadata": {},
   "outputs": [],
   "source": []
  }
 ],
 "metadata": {
  "kernelspec": {
   "display_name": "ML",
   "language": "python",
   "name": "ml"
  },
  "language_info": {
   "codemirror_mode": {
    "name": "ipython",
    "version": 3
   },
   "file_extension": ".py",
   "mimetype": "text/x-python",
   "name": "python",
   "nbconvert_exporter": "python",
   "pygments_lexer": "ipython3",
   "version": "3.10.12"
  }
 },
 "nbformat": 4,
 "nbformat_minor": 5
}
