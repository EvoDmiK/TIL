{
 "cells": [
  {
   "cell_type": "code",
   "execution_count": 1,
   "id": "cd9081fc-a35c-4edf-8424-6668711f5b7c",
   "metadata": {},
   "outputs": [],
   "source": [
    "from collections import Counter\n",
    "import os\n",
    "\n",
    "from imutils.object_detection import non_max_suppression\n",
    "from sklearn.model_selection import train_test_split\n",
    "from torch.utils.data import Dataset, DataLoader\n",
    "from torchvision.transforms import transforms\n",
    "import matplotlib.pyplot as plt\n",
    "import torch.nn as nn\n",
    "import pandas as pd\n",
    "import numpy as np\n",
    "import cv2"
   ]
  },
  {
   "cell_type": "code",
   "execution_count": 2,
   "id": "9c3a1545-1c9e-4089-8739-300a1916efe1",
   "metadata": {},
   "outputs": [],
   "source": [
    "ROOT_PATH = '/'.join(os.getcwd().split('/')[:-3])\n",
    "DATA_PATH = f'{ROOT_PATH}/Dataset/equation'\n",
    "\n",
    "LR         = 1e-3\n",
    "BATCH_SIZE = 32\n"
   ]
  },
  {
   "cell_type": "code",
   "execution_count": 3,
   "id": "053dfb76-3b4a-4b26-a2f0-e3793fd9f58c",
   "metadata": {},
   "outputs": [
    {
     "data": {
      "text/html": [
       "<div>\n",
       "<style scoped>\n",
       "    .dataframe tbody tr th:only-of-type {\n",
       "        vertical-align: middle;\n",
       "    }\n",
       "\n",
       "    .dataframe tbody tr th {\n",
       "        vertical-align: top;\n",
       "    }\n",
       "\n",
       "    .dataframe thead th {\n",
       "        text-align: right;\n",
       "    }\n",
       "</style>\n",
       "<table border=\"1\" class=\"dataframe\">\n",
       "  <thead>\n",
       "    <tr style=\"text-align: right;\">\n",
       "      <th></th>\n",
       "      <th>File Name</th>\n",
       "      <th>Equation 1</th>\n",
       "      <th>Equation 2</th>\n",
       "      <th>Value of X</th>\n",
       "      <th>Value of Y</th>\n",
       "    </tr>\n",
       "  </thead>\n",
       "  <tbody>\n",
       "    <tr>\n",
       "      <th>0</th>\n",
       "      <td>IMG_00587</td>\n",
       "      <td>7x + 2y = 56</td>\n",
       "      <td>18x + 14y = 206</td>\n",
       "      <td>6</td>\n",
       "      <td>7</td>\n",
       "    </tr>\n",
       "    <tr>\n",
       "      <th>1</th>\n",
       "      <td>IMG_09895</td>\n",
       "      <td>7x - 7y = 70</td>\n",
       "      <td>8x + 5y = 145</td>\n",
       "      <td>15</td>\n",
       "      <td>5</td>\n",
       "    </tr>\n",
       "    <tr>\n",
       "      <th>2</th>\n",
       "      <td>IMG_02064</td>\n",
       "      <td>12x + 19y = 88</td>\n",
       "      <td>2x + 9y = 38</td>\n",
       "      <td>1</td>\n",
       "      <td>4</td>\n",
       "    </tr>\n",
       "    <tr>\n",
       "      <th>3</th>\n",
       "      <td>IMG_11200</td>\n",
       "      <td>15x - 2y = 4</td>\n",
       "      <td>3x + 3y = 45</td>\n",
       "      <td>2</td>\n",
       "      <td>13</td>\n",
       "    </tr>\n",
       "    <tr>\n",
       "      <th>4</th>\n",
       "      <td>IMG_07880</td>\n",
       "      <td>6x + 5y = -11</td>\n",
       "      <td>8x + 10y = -38</td>\n",
       "      <td>4</td>\n",
       "      <td>-7</td>\n",
       "    </tr>\n",
       "  </tbody>\n",
       "</table>\n",
       "</div>"
      ],
      "text/plain": [
       "   File Name      Equation 1       Equation 2  Value of X  Value of Y\n",
       "0  IMG_00587    7x + 2y = 56  18x + 14y = 206           6           7\n",
       "1  IMG_09895    7x - 7y = 70    8x + 5y = 145          15           5\n",
       "2  IMG_02064  12x + 19y = 88     2x + 9y = 38           1           4\n",
       "3  IMG_11200    15x - 2y = 4     3x + 3y = 45           2          13\n",
       "4  IMG_07880   6x + 5y = -11   8x + 10y = -38           4          -7"
      ]
     },
     "execution_count": 3,
     "metadata": {},
     "output_type": "execute_result"
    }
   ],
   "source": [
    "df        = pd.read_csv(f'{DATA_PATH}/Equation_db.csv')\n",
    "df.head()"
   ]
  },
  {
   "cell_type": "code",
   "execution_count": 4,
   "id": "32325079-d6ea-4441-afae-11d9b4e20686",
   "metadata": {},
   "outputs": [],
   "source": [
    "def imshow(image, label):\n",
    "    \n",
    "    plt.imshow(image, cmap = 'gray')\n",
    "    plt.title(label)\n",
    "    plt.axis(False)\n",
    "\n",
    "def get_image_label(row, idx = 1):\n",
    "    \n",
    "    image    = cv2.imread(f'{DATA_PATH}/equation1/{row[1][\"File Name\"]}.png', 0)\n",
    "    image_cp = cv2.cvtColor(image, cv2.COLOR_GRAY2RGB)\n",
    "\n",
    "    kernel   = np.ones((3, 3), np.uint8)\n",
    "    dilated  = cv2.morphologyEx(image, cv2.MORPH_OPEN, kernel, iterations = 7)\n",
    "    conts, _ = cv2.findContours(dilated, cv2.RETR_TREE, cv2.CHAIN_APPROX_NONE)\n",
    "    \n",
    "    for cont in conts[1:]:\n",
    "        cv2.drawContours(image_cp, [cont], -1, (0, 255, 0), 1)\n",
    "        x, y, w, h = cv2.boundingRect(cont)\n",
    "        cv2.rectangle(image_cp, (x-5, y-5), (x + w + 5, y + h + 5), (255, 0, 0) ,1)\n",
    "    \n",
    "    image = image[y - 5 : y + h + 5, x - 5 : x + w + 5]\n",
    "    return image, row[1][f'Equation {idx}']"
   ]
  },
  {
   "cell_type": "code",
   "execution_count": 5,
   "id": "7858733d-b57d-4447-861d-cb3f2436c740",
   "metadata": {},
   "outputs": [
    {
     "data": {
      "image/png": "[encoded data removed]",
      "text/plain": [
       "<Figure size 640x480 with 1 Axes>"
      ]
     },
     "metadata": {},
     "output_type": "display_data"
    }
   ],
   "source": [
    "rows         = list(df.iterrows())\n",
    "image, label = get_image_label(rows[-999])\n",
    "imshow(image, label)"
   ]
  },
  {
   "cell_type": "code",
   "execution_count": 6,
   "id": "ce630006-6434-496a-b9f7-c32fba3619b4",
   "metadata": {},
   "outputs": [
    {
     "data": {
      "image/png": "[encoded data removed]",
      "text/plain": [
       "<Figure size 640x480 with 1 Axes>"
      ]
     },
     "metadata": {},
     "output_type": "display_data"
    }
   ],
   "source": [
    "images, labels = [], []\n",
    "for row in list(df.iterrows()):\n",
    "    image, label = get_image_label(row)\n",
    "    \n",
    "    images.append(image)\n",
    "    labels.append(label)\n",
    "    \n",
    "imshow(images[99], labels[99])"
   ]
  },
  {
   "cell_type": "code",
   "execution_count": null,
   "id": "465f86cc-28ca-433b-9eec-65401cdf321a",
   "metadata": {},
   "outputs": [],
   "source": []
  }
 ],
 "metadata": {
  "kernelspec": {
   "display_name": "tensor",
   "language": "python",
   "name": "tensor"
  },
  "language_info": {
   "codemirror_mode": {
    "name": "ipython",
    "version": 3
   },
   "file_extension": ".py",
   "mimetype": "text/x-python",
   "name": "python",
   "nbconvert_exporter": "python",
   "pygments_lexer": "ipython3",
   "version": "3.8.15"
  }
 },
 "nbformat": 4,
 "nbformat_minor": 5
}
