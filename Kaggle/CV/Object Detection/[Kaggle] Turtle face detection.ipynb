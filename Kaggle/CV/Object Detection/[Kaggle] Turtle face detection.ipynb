{
 "cells": [
  {
   "cell_type": "code",
   "execution_count": 1,
   "id": "ad1239a3-2365-4de4-9a48-53fbfad611a0",
   "metadata": {},
   "outputs": [],
   "source": [
    "import os\n",
    "\n",
    "from sklearn.model_selection import train_test_split\n",
    "from torch.utils.data import Dataset, DataLoader\n",
    "from easydict import EasyDict as edict\n",
    "from matplotlib import pyplot as plt\n",
    "from torch.nn import functional as F\n",
    "from torchvision import transforms\n",
    "from imutils import paths\n",
    "from torch import optim\n",
    "from torch import nn\n",
    "import pandas as pd\n",
    "import numpy as np\n",
    "import torch\n",
    "import cv2"
   ]
  },
  {
   "cell_type": "code",
   "execution_count": 2,
   "id": "dcbf6ba9-f827-4731-97a9-abcee3018791",
   "metadata": {},
   "outputs": [],
   "source": [
    "SEP         = os.path.sep\n",
    "ROOT_PATH   = SEP.join(os.getcwd().split(SEP)[:-4])\n",
    "DATA_PATH   = f'{ROOT_PATH}/Datasets/TurtleFace'\n",
    "\n",
    "args               = {}\n",
    "args['seed']       = 999\n",
    "args['n_samples']  = 3\n",
    "args['device']     = torch.device('cuda' if torch.cuda.is_available() else 'cpu')\n",
    "args['epochs']     = 15\n",
    "args['batch_size'] = 16\n",
    "args['lr']         = 1e-3\n",
    "args               = edict(args)"
   ]
  },
  {
   "cell_type": "code",
   "execution_count": 3,
   "id": "c0d2756e-9b6c-4e03-b59f-49fbdfadd2ae",
   "metadata": {},
   "outputs": [],
   "source": [
    "image_paths = sorted(paths.list_images(f'{DATA_PATH}/images'))\n",
    "label_paths = sorted(paths.list_files(f'{DATA_PATH}/labels', validExts = '.txt'))"
   ]
  },
  {
   "cell_type": "code",
   "execution_count": 4,
   "id": "8a26761e-7220-4c62-923d-8f0ec2184a0f",
   "metadata": {},
   "outputs": [
    {
     "data": {
      "text/plain": [
       "(1426.6531874405327, 951.4386298763083)"
      ]
     },
     "execution_count": 4,
     "metadata": {},
     "output_type": "execute_result"
    }
   ],
   "source": [
    "names = ['name', 'x', 'y', 'w', 'h', 'path', 'img_w', 'img_h']\n",
    "df = pd.read_csv(f'{DATA_PATH}/labels.csv', names = names, header = 0)\n",
    "df['img_w'].mean(), df['img_h'].mean()"
   ]
  },
  {
   "cell_type": "code",
   "execution_count": 5,
   "id": "8c251fa4-0374-4fea-921f-d88adace4f82",
   "metadata": {},
   "outputs": [],
   "source": [
    "class TurtleDataset(Dataset):\n",
    "\n",
    "    def __init__(self, image_paths, label_paths):\n",
    "\n",
    "        self.image_paths = image_paths\n",
    "        self.label_paths = label_paths\n",
    "\n",
    "        self.transform   = transforms.Compose([\n",
    "                            transforms.ToPILImage(),\n",
    "                            transforms.Resize((1430, 950)),\n",
    "                            transforms.ToTensor()\n",
    "                        ])\n",
    "\n",
    "    def yolo_to_coord(self, yolo, orig):\n",
    "\n",
    "        x, y, w, h     = yolo\n",
    "        orig_w, orig_h = orig\n",
    "\n",
    "        fix_x1, fix_x2 = (2*x + w) * orig_w / 2, (2*x - w) * orig_w / 2\n",
    "        fix_y1, fix_y2 = (2*y + h) * orig_h / 2, (2*y - h) * orig_h / 2\n",
    "\n",
    "        return (int(fix_x1), int(fix_x2), int(fix_y1), int(fix_y2))\n",
    "\n",
    "    \n",
    "    def draw_boxes(self, idx):\n",
    "        \n",
    "        image  = cv2.imread(self.image_paths[idx])\n",
    "        image  = cv2.cvtColor(image, cv2.COLOR_BGR2RGB)\n",
    "\n",
    "        orig_h, orig_w   = image.shape[:2]\n",
    "        image            = cv2.resize(image, (1430, 950), cv2.INTER_LINEAR)\n",
    "        fixed_h, fixed_w = image.shape[:2]\n",
    "        \n",
    "        coords            = open(self.label_paths[idx], 'r').readline()\n",
    "        boxes             = [list(map(float, coord.split())) for coord in coords]\n",
    "\n",
    "        for box in boxes:\n",
    "\n",
    "            lb, x, y, w, h = box.tolist()\n",
    "        x1, x2, y1, y2    = self.yolo_to_coord((x, y, w, h), (fixed_w, fixed_h))\n",
    "        ratio_w, ratio_h  = orig_w / fixed_w, orig_h / fixed_h\n",
    "        \n",
    "        rec               = cv2.rectangle(image, (int(x1), int(y1)),\n",
    "                                          (int(x2), int(y2)), (255, 255, 0), 3)\n",
    "        \n",
    "        return rec, image, (x * ratio_w, y * ratio_h, w * ratio_w, h * ratio_h)\n",
    "        \n",
    "\n",
    "    def __len__(self):\n",
    "\n",
    "        return len(self.image_paths)\n",
    "\n",
    "\n",
    "\n",
    "    def __getitem__(self, idx):\n",
    "\n",
    "        rec, image, coords = self.draw_boxes(idx)\n",
    "        image = self.transform(image)\n",
    "\n",
    "        return rec, image, coords        "
   ]
  },
  {
   "cell_type": "code",
   "execution_count": 6,
   "id": "070dac8f-7ed9-4b43-87d4-846adc9be358",
   "metadata": {},
   "outputs": [],
   "source": [
    "train_x, valid_x, train_y, valid_y = train_test_split(image_paths, label_paths, test_size = 0.2,\n",
    "                                                      shuffle = True, random_state = args.seed)\n",
    "train_x, test_x , train_y, test_y  = train_test_split(train_x, train_y, test_size = 0.25,\n",
    "                                                      shuffle = True, random_state = args.seed) "
   ]
  },
  {
   "cell_type": "code",
   "execution_count": 7,
   "id": "04dea5d6-1215-4996-96fc-edeea9610c04",
   "metadata": {},
   "outputs": [],
   "source": [
    "train_dataset = TurtleDataset(train_x, train_y)\n",
    "test_dataset  = TurtleDataset(test_x ,  test_y)\n",
    "valid_dataset = TurtleDataset(valid_x, valid_y)\n",
    "\n",
    "train_loader  = DataLoader(train_dataset, batch_size = args.batch_size, shuffle =  True)\n",
    "test_loader   = DataLoader(test_dataset , batch_size = args.batch_size, shuffle = False)\n",
    "valid_loader  = DataLoader(valid_dataset, batch_size =               1, shuffle = False)"
   ]
  },
  {
   "cell_type": "code",
   "execution_count": 8,
   "id": "6b8b95e9-2889-4d35-838a-e1fae26c57b7",
   "metadata": {},
   "outputs": [
    {
     "name": "stdout",
     "output_type": "stream",
     "text": [
      "['0', '0.269174', '0.336129', '0.302360', '0.283452']\n",
      "['0', '0.497642', '0.472583', '0.551887', '0.838443']\n",
      "['0', '0.356936', '0.481696', '0.176301', '0.258189']\n",
      "['0', '0.395280', '0.495577', '0.129794', '0.199016']\n",
      "['0', '0.492335', '0.481132', '0.576651', '0.903564']\n",
      "['0', '0.488032', '0.475532', '0.540957', '0.551064']\n",
      "['0', '0.761905', '0.223104', '0.329806', '0.252205']\n",
      "['0', '0.498073', '0.466281', '0.548491', '0.836224']\n",
      "['0', '0.594340', '0.671871', '0.174528', '0.238660']\n",
      "['0', '0.734104', '0.377649', '0.251445', '0.273603']\n",
      "['0', '0.659592', '0.252128', '0.147316', '0.261702']\n",
      "['0', '0.524301', '0.356863', '0.224621', '0.309804']\n",
      "['0', '0.515487', '0.374507', '0.237463', '0.334649']\n",
      "['0', '0.412736', '0.359000', '0.221698', '0.258943']\n",
      "['0', '0.824785', '0.470135', '0.158557', '0.188825']\n",
      "['0', '0.689269', '0.414253', '0.123821', '0.155583']\n"
     ]
    },
    {
     "data": {
      "image/png": "[encoded data removed]",
      "text/plain": [
       "<Figure size 2300x700 with 3 Axes>"
      ]
     },
     "metadata": {},
     "output_type": "display_data"
    }
   ],
   "source": [
    "sample        = next(iter(train_loader))\n",
    "random_idx    = np.random.randint(0, len(sample), args.n_samples)\n",
    "_, axes       = plt.subplots(1, args.n_samples, figsize = (23, 7))\n",
    "\n",
    "for idx, ax in zip(random_idx, axes):\n",
    "\n",
    "    rec, _, _ = sample\n",
    "    rec       = rec[idx]\n",
    "    "
   ]
  },
  {
   "cell_type": "code",
   "execution_count": null,
   "id": "68478de5-e347-42c2-8dd1-bef1e97c3c06",
   "metadata": {},
   "outputs": [],
   "source": []
  },
  {
   "cell_type": "code",
   "execution_count": null,
   "id": "279d10ba-f34d-4b11-9ca7-925db78963b5",
   "metadata": {},
   "outputs": [],
   "source": []
  }
 ],
 "metadata": {
  "kernelspec": {
   "display_name": "torch_1.x",
   "language": "python",
   "name": "torch_1.x"
  },
  "language_info": {
   "codemirror_mode": {
    "name": "ipython",
    "version": 3
   },
   "file_extension": ".py",
   "mimetype": "text/x-python",
   "name": "python",
   "nbconvert_exporter": "python",
   "pygments_lexer": "ipython3",
   "version": "3.10.12"
  }
 },
 "nbformat": 4,
 "nbformat_minor": 5
}
