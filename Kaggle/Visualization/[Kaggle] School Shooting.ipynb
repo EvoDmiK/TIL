{
 "cells": [
  {
   "cell_type": "code",
   "execution_count": 1,
   "id": "4f2d6ede-4b64-41b0-bed1-402ec55b7a99",
   "metadata": {},
   "outputs": [],
   "source": [
    "import os\n",
    "\n",
    "from matplotlib import pyplot as plt\n",
    "from plotly import express as px\n",
    "import plotly.offline as pyo\n",
    "import seaborn as sns\n",
    "import pandas as pd\n",
    "import numpy as np\n",
    "import plotly"
   ]
  },
  {
   "cell_type": "code",
   "execution_count": 2,
   "id": "324dce5e-1633-4ad6-a932-1360963f7be5",
   "metadata": {},
   "outputs": [
    {
     "data": {
      "text/html": [
       "        <script type=\"text/javascript\">\n",
       "        window.PlotlyConfig = {MathJaxConfig: 'local'};\n",
       "        if (window.MathJax && window.MathJax.Hub && window.MathJax.Hub.Config) {window.MathJax.Hub.Config({SVG: {font: \"STIX-Web\"}});}\n",
       "        if (typeof require !== 'undefined') {\n",
       "        require.undef(\"plotly\");\n",
       "        requirejs.config({\n",
       "            paths: {\n",
       "                'plotly': ['https://cdn.plot.ly/plotly-2.24.1.min']\n",
       "            }\n",
       "        });\n",
       "        require(['plotly'], function(Plotly) {\n",
       "            window._Plotly = Plotly;\n",
       "        });\n",
       "        }\n",
       "        </script>\n",
       "        "
      ]
     },
     "metadata": {},
     "output_type": "display_data"
    }
   ],
   "source": [
    "pyo.init_notebook_mode(connected = True)"
   ]
  },
  {
   "cell_type": "code",
   "execution_count": 3,
   "id": "0db16aac-330b-4eb9-a8a4-2d594f49ee17",
   "metadata": {},
   "outputs": [],
   "source": [
    "SEP       = os.path.sep\n",
    "ROOT_PATH = SEP.join(os.getcwd().split(SEP)[:-2])\n",
    "DATA_PATH = f'{ROOT_PATH}/Dataset/School Shooting/school-shootings-data.csv'"
   ]
  },
  {
   "cell_type": "code",
   "execution_count": 4,
   "id": "192743ca-0bd8-428e-9d80-405b2e93b720",
   "metadata": {},
   "outputs": [
    {
     "data": {
      "text/html": [
       "<div>\n",
       "<style scoped>\n",
       "    .dataframe tbody tr th:only-of-type {\n",
       "        vertical-align: middle;\n",
       "    }\n",
       "\n",
       "    .dataframe tbody tr th {\n",
       "        vertical-align: top;\n",
       "    }\n",
       "\n",
       "    .dataframe thead th {\n",
       "        text-align: right;\n",
       "    }\n",
       "</style>\n",
       "<table border=\"1\" class=\"dataframe\">\n",
       "  <thead>\n",
       "    <tr style=\"text-align: right;\">\n",
       "      <th></th>\n",
       "      <th>18</th>\n",
       "      <th>195</th>\n",
       "      <th>227</th>\n",
       "    </tr>\n",
       "  </thead>\n",
       "  <tbody>\n",
       "    <tr>\n",
       "      <th>uid</th>\n",
       "      <td>19</td>\n",
       "      <td>194</td>\n",
       "      <td>223</td>\n",
       "    </tr>\n",
       "    <tr>\n",
       "      <th>nces_school_id</th>\n",
       "      <td>220117000980</td>\n",
       "      <td>010171002162</td>\n",
       "      <td>320006000567</td>\n",
       "    </tr>\n",
       "    <tr>\n",
       "      <th>school_name</th>\n",
       "      <td>Carter G. Woodson Middle School</td>\n",
       "      <td>Greensboro High School</td>\n",
       "      <td>Canyon Springs High School</td>\n",
       "    </tr>\n",
       "    <tr>\n",
       "      <th>nces_district_id</th>\n",
       "      <td>2201170.0</td>\n",
       "      <td>101710.0</td>\n",
       "      <td>3200060.0</td>\n",
       "    </tr>\n",
       "    <tr>\n",
       "      <th>district_name</th>\n",
       "      <td>Orleans Parish School Board</td>\n",
       "      <td>Hale County</td>\n",
       "      <td>Clark County School District</td>\n",
       "    </tr>\n",
       "    <tr>\n",
       "      <th>date</th>\n",
       "      <td>9/26/2000</td>\n",
       "      <td>5/24/2017</td>\n",
       "      <td>9/11/2018</td>\n",
       "    </tr>\n",
       "    <tr>\n",
       "      <th>school_year</th>\n",
       "      <td>2000-2001</td>\n",
       "      <td>2016-2017</td>\n",
       "      <td>2018-2019</td>\n",
       "    </tr>\n",
       "    <tr>\n",
       "      <th>year</th>\n",
       "      <td>2000</td>\n",
       "      <td>2017</td>\n",
       "      <td>2018</td>\n",
       "    </tr>\n",
       "    <tr>\n",
       "      <th>time</th>\n",
       "      <td>12:00 PM</td>\n",
       "      <td>11:30 AM</td>\n",
       "      <td>2:35 PM</td>\n",
       "    </tr>\n",
       "    <tr>\n",
       "      <th>day_of_week</th>\n",
       "      <td>Tuesday</td>\n",
       "      <td>Wednesday</td>\n",
       "      <td>Tuesday</td>\n",
       "    </tr>\n",
       "    <tr>\n",
       "      <th>city</th>\n",
       "      <td>New Orleans</td>\n",
       "      <td>Greensboro</td>\n",
       "      <td>North Las Vegas</td>\n",
       "    </tr>\n",
       "    <tr>\n",
       "      <th>state</th>\n",
       "      <td>Louisiana</td>\n",
       "      <td>Alabama</td>\n",
       "      <td>Nevada</td>\n",
       "    </tr>\n",
       "    <tr>\n",
       "      <th>school_type</th>\n",
       "      <td>public</td>\n",
       "      <td>public</td>\n",
       "      <td>public</td>\n",
       "    </tr>\n",
       "    <tr>\n",
       "      <th>enrollment</th>\n",
       "      <td>686</td>\n",
       "      <td>464</td>\n",
       "      <td>2887</td>\n",
       "    </tr>\n",
       "    <tr>\n",
       "      <th>killed</th>\n",
       "      <td>0</td>\n",
       "      <td>0</td>\n",
       "      <td>1</td>\n",
       "    </tr>\n",
       "    <tr>\n",
       "      <th>injured</th>\n",
       "      <td>1</td>\n",
       "      <td>0</td>\n",
       "      <td>0</td>\n",
       "    </tr>\n",
       "    <tr>\n",
       "      <th>casualties</th>\n",
       "      <td>1</td>\n",
       "      <td>0</td>\n",
       "      <td>1</td>\n",
       "    </tr>\n",
       "    <tr>\n",
       "      <th>shooting_type</th>\n",
       "      <td>targeted</td>\n",
       "      <td>targeted</td>\n",
       "      <td>targeted</td>\n",
       "    </tr>\n",
       "    <tr>\n",
       "      <th>age_shooter1</th>\n",
       "      <td>13.0</td>\n",
       "      <td>NaN</td>\n",
       "      <td>16.0</td>\n",
       "    </tr>\n",
       "    <tr>\n",
       "      <th>gender_shooter1</th>\n",
       "      <td>m</td>\n",
       "      <td>m</td>\n",
       "      <td>m</td>\n",
       "    </tr>\n",
       "    <tr>\n",
       "      <th>race_ethnicity_shooter1</th>\n",
       "      <td>NaN</td>\n",
       "      <td>NaN</td>\n",
       "      <td>b</td>\n",
       "    </tr>\n",
       "    <tr>\n",
       "      <th>shooter_relationship1</th>\n",
       "      <td>student</td>\n",
       "      <td>student</td>\n",
       "      <td>student</td>\n",
       "    </tr>\n",
       "    <tr>\n",
       "      <th>shooter_deceased1</th>\n",
       "      <td>0.0</td>\n",
       "      <td>0.0</td>\n",
       "      <td>0.0</td>\n",
       "    </tr>\n",
       "    <tr>\n",
       "      <th>deceased_notes1</th>\n",
       "      <td>NaN</td>\n",
       "      <td>NaN</td>\n",
       "      <td>NaN</td>\n",
       "    </tr>\n",
       "    <tr>\n",
       "      <th>age_shooter2</th>\n",
       "      <td>NaN</td>\n",
       "      <td>NaN</td>\n",
       "      <td>NaN</td>\n",
       "    </tr>\n",
       "    <tr>\n",
       "      <th>gender_shooter2</th>\n",
       "      <td>NaN</td>\n",
       "      <td>NaN</td>\n",
       "      <td>NaN</td>\n",
       "    </tr>\n",
       "    <tr>\n",
       "      <th>race_ethnicity_shooter2</th>\n",
       "      <td>NaN</td>\n",
       "      <td>NaN</td>\n",
       "      <td>NaN</td>\n",
       "    </tr>\n",
       "    <tr>\n",
       "      <th>shooter_relationship2</th>\n",
       "      <td>NaN</td>\n",
       "      <td>NaN</td>\n",
       "      <td>NaN</td>\n",
       "    </tr>\n",
       "    <tr>\n",
       "      <th>shooter_deceased2</th>\n",
       "      <td>NaN</td>\n",
       "      <td>NaN</td>\n",
       "      <td>NaN</td>\n",
       "    </tr>\n",
       "    <tr>\n",
       "      <th>deceased_notes2</th>\n",
       "      <td>NaN</td>\n",
       "      <td>NaN</td>\n",
       "      <td>NaN</td>\n",
       "    </tr>\n",
       "    <tr>\n",
       "      <th>white</th>\n",
       "      <td>0.0</td>\n",
       "      <td>3.0</td>\n",
       "      <td>154.0</td>\n",
       "    </tr>\n",
       "    <tr>\n",
       "      <th>black</th>\n",
       "      <td>685.0</td>\n",
       "      <td>457.0</td>\n",
       "      <td>793.0</td>\n",
       "    </tr>\n",
       "    <tr>\n",
       "      <th>hispanic</th>\n",
       "      <td>1</td>\n",
       "      <td>1</td>\n",
       "      <td>1757</td>\n",
       "    </tr>\n",
       "    <tr>\n",
       "      <th>asian</th>\n",
       "      <td>0.0</td>\n",
       "      <td>0.0</td>\n",
       "      <td>56.0</td>\n",
       "    </tr>\n",
       "    <tr>\n",
       "      <th>american_indian_alaska_native</th>\n",
       "      <td>0.0</td>\n",
       "      <td>0.0</td>\n",
       "      <td>4.0</td>\n",
       "    </tr>\n",
       "    <tr>\n",
       "      <th>hawaiian_native_pacific_islander</th>\n",
       "      <td>NaN</td>\n",
       "      <td>0.0</td>\n",
       "      <td>18.0</td>\n",
       "    </tr>\n",
       "    <tr>\n",
       "      <th>two_or_more</th>\n",
       "      <td>NaN</td>\n",
       "      <td>3.0</td>\n",
       "      <td>105.0</td>\n",
       "    </tr>\n",
       "    <tr>\n",
       "      <th>resource_officer</th>\n",
       "      <td>0</td>\n",
       "      <td>0</td>\n",
       "      <td>1</td>\n",
       "    </tr>\n",
       "    <tr>\n",
       "      <th>weapon</th>\n",
       "      <td>.38-caliber revolver</td>\n",
       "      <td>.22 caliber revolver</td>\n",
       "      <td>NaN</td>\n",
       "    </tr>\n",
       "    <tr>\n",
       "      <th>weapon_source</th>\n",
       "      <td>NaN</td>\n",
       "      <td>NaN</td>\n",
       "      <td>NaN</td>\n",
       "    </tr>\n",
       "    <tr>\n",
       "      <th>lat</th>\n",
       "      <td>29.939676</td>\n",
       "      <td>32.70713</td>\n",
       "      <td>36.233566</td>\n",
       "    </tr>\n",
       "    <tr>\n",
       "      <th>long</th>\n",
       "      <td>-90.090046</td>\n",
       "      <td>-87.589</td>\n",
       "      <td>-115.135695</td>\n",
       "    </tr>\n",
       "    <tr>\n",
       "      <th>staffing</th>\n",
       "      <td>45.0</td>\n",
       "      <td>26.5</td>\n",
       "      <td>115.0</td>\n",
       "    </tr>\n",
       "    <tr>\n",
       "      <th>low_grade</th>\n",
       "      <td>6</td>\n",
       "      <td>9</td>\n",
       "      <td>9</td>\n",
       "    </tr>\n",
       "    <tr>\n",
       "      <th>high_grade</th>\n",
       "      <td>8</td>\n",
       "      <td>12</td>\n",
       "      <td>12</td>\n",
       "    </tr>\n",
       "    <tr>\n",
       "      <th>lunch</th>\n",
       "      <td>551</td>\n",
       "      <td>373</td>\n",
       "      <td>2321</td>\n",
       "    </tr>\n",
       "    <tr>\n",
       "      <th>county</th>\n",
       "      <td>Orleans Parish</td>\n",
       "      <td>Hale County</td>\n",
       "      <td>Clark County</td>\n",
       "    </tr>\n",
       "    <tr>\n",
       "      <th>state_fips</th>\n",
       "      <td>22</td>\n",
       "      <td>1</td>\n",
       "      <td>32</td>\n",
       "    </tr>\n",
       "    <tr>\n",
       "      <th>county_fips</th>\n",
       "      <td>22071</td>\n",
       "      <td>1065</td>\n",
       "      <td>32003</td>\n",
       "    </tr>\n",
       "    <tr>\n",
       "      <th>ulocale</th>\n",
       "      <td>11.0</td>\n",
       "      <td>42.0</td>\n",
       "      <td>21.0</td>\n",
       "    </tr>\n",
       "  </tbody>\n",
       "</table>\n",
       "</div>"
      ],
      "text/plain": [
       "                                                              18   \\\n",
       "uid                                                            19   \n",
       "nces_school_id                                       220117000980   \n",
       "school_name                       Carter G. Woodson Middle School   \n",
       "nces_district_id                                        2201170.0   \n",
       "district_name                         Orleans Parish School Board   \n",
       "date                                                    9/26/2000   \n",
       "school_year                                             2000-2001   \n",
       "year                                                         2000   \n",
       "time                                                     12:00 PM   \n",
       "day_of_week                                               Tuesday   \n",
       "city                                                  New Orleans   \n",
       "state                                                   Louisiana   \n",
       "school_type                                                public   \n",
       "enrollment                                                    686   \n",
       "killed                                                          0   \n",
       "injured                                                         1   \n",
       "casualties                                                      1   \n",
       "shooting_type                                            targeted   \n",
       "age_shooter1                                                 13.0   \n",
       "gender_shooter1                                                 m   \n",
       "race_ethnicity_shooter1                                       NaN   \n",
       "shooter_relationship1                                     student   \n",
       "shooter_deceased1                                             0.0   \n",
       "deceased_notes1                                               NaN   \n",
       "age_shooter2                                                  NaN   \n",
       "gender_shooter2                                               NaN   \n",
       "race_ethnicity_shooter2                                       NaN   \n",
       "shooter_relationship2                                         NaN   \n",
       "shooter_deceased2                                             NaN   \n",
       "deceased_notes2                                               NaN   \n",
       "white                                                         0.0   \n",
       "black                                                       685.0   \n",
       "hispanic                                                        1   \n",
       "asian                                                         0.0   \n",
       "american_indian_alaska_native                                 0.0   \n",
       "hawaiian_native_pacific_islander                              NaN   \n",
       "two_or_more                                                   NaN   \n",
       "resource_officer                                                0   \n",
       "weapon                                       .38-caliber revolver   \n",
       "weapon_source                                                 NaN   \n",
       "lat                                                     29.939676   \n",
       "long                                                   -90.090046   \n",
       "staffing                                                     45.0   \n",
       "low_grade                                                       6   \n",
       "high_grade                                                      8   \n",
       "lunch                                                         551   \n",
       "county                                             Orleans Parish   \n",
       "state_fips                                                     22   \n",
       "county_fips                                                 22071   \n",
       "ulocale                                                      11.0   \n",
       "\n",
       "                                                     195  \\\n",
       "uid                                                  194   \n",
       "nces_school_id                              010171002162   \n",
       "school_name                       Greensboro High School   \n",
       "nces_district_id                                101710.0   \n",
       "district_name                                Hale County   \n",
       "date                                           5/24/2017   \n",
       "school_year                                    2016-2017   \n",
       "year                                                2017   \n",
       "time                                            11:30 AM   \n",
       "day_of_week                                    Wednesday   \n",
       "city                                          Greensboro   \n",
       "state                                            Alabama   \n",
       "school_type                                       public   \n",
       "enrollment                                           464   \n",
       "killed                                                 0   \n",
       "injured                                                0   \n",
       "casualties                                             0   \n",
       "shooting_type                                   targeted   \n",
       "age_shooter1                                         NaN   \n",
       "gender_shooter1                                        m   \n",
       "race_ethnicity_shooter1                              NaN   \n",
       "shooter_relationship1                            student   \n",
       "shooter_deceased1                                    0.0   \n",
       "deceased_notes1                                      NaN   \n",
       "age_shooter2                                         NaN   \n",
       "gender_shooter2                                      NaN   \n",
       "race_ethnicity_shooter2                              NaN   \n",
       "shooter_relationship2                                NaN   \n",
       "shooter_deceased2                                    NaN   \n",
       "deceased_notes2                                      NaN   \n",
       "white                                                3.0   \n",
       "black                                              457.0   \n",
       "hispanic                                               1   \n",
       "asian                                                0.0   \n",
       "american_indian_alaska_native                        0.0   \n",
       "hawaiian_native_pacific_islander                     0.0   \n",
       "two_or_more                                          3.0   \n",
       "resource_officer                                       0   \n",
       "weapon                              .22 caliber revolver   \n",
       "weapon_source                                        NaN   \n",
       "lat                                             32.70713   \n",
       "long                                             -87.589   \n",
       "staffing                                            26.5   \n",
       "low_grade                                              9   \n",
       "high_grade                                            12   \n",
       "lunch                                                373   \n",
       "county                                       Hale County   \n",
       "state_fips                                             1   \n",
       "county_fips                                         1065   \n",
       "ulocale                                             42.0   \n",
       "\n",
       "                                                           227  \n",
       "uid                                                        223  \n",
       "nces_school_id                                    320006000567  \n",
       "school_name                         Canyon Springs High School  \n",
       "nces_district_id                                     3200060.0  \n",
       "district_name                     Clark County School District  \n",
       "date                                                 9/11/2018  \n",
       "school_year                                          2018-2019  \n",
       "year                                                      2018  \n",
       "time                                                   2:35 PM  \n",
       "day_of_week                                            Tuesday  \n",
       "city                                           North Las Vegas  \n",
       "state                                                   Nevada  \n",
       "school_type                                             public  \n",
       "enrollment                                                2887  \n",
       "killed                                                       1  \n",
       "injured                                                      0  \n",
       "casualties                                                   1  \n",
       "shooting_type                                         targeted  \n",
       "age_shooter1                                              16.0  \n",
       "gender_shooter1                                              m  \n",
       "race_ethnicity_shooter1                                      b  \n",
       "shooter_relationship1                                  student  \n",
       "shooter_deceased1                                          0.0  \n",
       "deceased_notes1                                            NaN  \n",
       "age_shooter2                                               NaN  \n",
       "gender_shooter2                                            NaN  \n",
       "race_ethnicity_shooter2                                    NaN  \n",
       "shooter_relationship2                                      NaN  \n",
       "shooter_deceased2                                          NaN  \n",
       "deceased_notes2                                            NaN  \n",
       "white                                                    154.0  \n",
       "black                                                    793.0  \n",
       "hispanic                                                  1757  \n",
       "asian                                                     56.0  \n",
       "american_indian_alaska_native                              4.0  \n",
       "hawaiian_native_pacific_islander                          18.0  \n",
       "two_or_more                                              105.0  \n",
       "resource_officer                                             1  \n",
       "weapon                                                     NaN  \n",
       "weapon_source                                              NaN  \n",
       "lat                                                  36.233566  \n",
       "long                                               -115.135695  \n",
       "staffing                                                 115.0  \n",
       "low_grade                                                    9  \n",
       "high_grade                                                  12  \n",
       "lunch                                                     2321  \n",
       "county                                            Clark County  \n",
       "state_fips                                                  32  \n",
       "county_fips                                              32003  \n",
       "ulocale                                                   21.0  "
      ]
     },
     "execution_count": 4,
     "metadata": {},
     "output_type": "execute_result"
    }
   ],
   "source": [
    "df        = pd.read_csv(DATA_PATH)\n",
    "df.sample(3).T"
   ]
  },
  {
   "cell_type": "code",
   "execution_count": 5,
   "id": "4d140a5b-1a07-4530-8a8c-912f7b6b9564",
   "metadata": {},
   "outputs": [
    {
     "name": "stdout",
     "output_type": "stream",
     "text": [
      "<class 'pandas.core.frame.DataFrame'>\n",
      "RangeIndex: 387 entries, 0 to 386\n",
      "Data columns (total 50 columns):\n",
      " #   Column                            Non-Null Count  Dtype  \n",
      "---  ------                            --------------  -----  \n",
      " 0   uid                               387 non-null    int64  \n",
      " 1   nces_school_id                    381 non-null    object \n",
      " 2   school_name                       387 non-null    object \n",
      " 3   nces_district_id                  363 non-null    float64\n",
      " 4   district_name                     362 non-null    object \n",
      " 5   date                              387 non-null    object \n",
      " 6   school_year                       387 non-null    object \n",
      " 7   year                              387 non-null    int64  \n",
      " 8   time                              363 non-null    object \n",
      " 9   day_of_week                       387 non-null    object \n",
      " 10  city                              387 non-null    object \n",
      " 11  state                             387 non-null    object \n",
      " 12  school_type                       387 non-null    object \n",
      " 13  enrollment                        387 non-null    object \n",
      " 14  killed                            387 non-null    int64  \n",
      " 15  injured                           387 non-null    int64  \n",
      " 16  casualties                        387 non-null    int64  \n",
      " 17  shooting_type                     387 non-null    object \n",
      " 18  age_shooter1                      274 non-null    float64\n",
      " 19  gender_shooter1                   309 non-null    object \n",
      " 20  race_ethnicity_shooter1           148 non-null    object \n",
      " 21  shooter_relationship1             266 non-null    object \n",
      " 22  shooter_deceased1                 262 non-null    float64\n",
      " 23  deceased_notes1                   38 non-null     object \n",
      " 24  age_shooter2                      12 non-null     float64\n",
      " 25  gender_shooter2                   12 non-null     object \n",
      " 26  race_ethnicity_shooter2           7 non-null      object \n",
      " 27  shooter_relationship2             6 non-null      object \n",
      " 28  shooter_deceased2                 6 non-null      float64\n",
      " 29  deceased_notes2                   1 non-null      object \n",
      " 30  white                             377 non-null    float64\n",
      " 31  black                             377 non-null    float64\n",
      " 32  hispanic                          377 non-null    object \n",
      " 33  asian                             377 non-null    float64\n",
      " 34  american_indian_alaska_native     376 non-null    float64\n",
      " 35  hawaiian_native_pacific_islander  262 non-null    float64\n",
      " 36  two_or_more                       262 non-null    float64\n",
      " 37  resource_officer                  387 non-null    int64  \n",
      " 38  weapon                            249 non-null    object \n",
      " 39  weapon_source                     105 non-null    object \n",
      " 40  lat                               386 non-null    float64\n",
      " 41  long                              386 non-null    float64\n",
      " 42  staffing                          363 non-null    float64\n",
      " 43  low_grade                         382 non-null    object \n",
      " 44  high_grade                        382 non-null    object \n",
      " 45  lunch                             337 non-null    object \n",
      " 46  county                            385 non-null    object \n",
      " 47  state_fips                        387 non-null    int64  \n",
      " 48  county_fips                       387 non-null    int64  \n",
      " 49  ulocale                           384 non-null    float64\n",
      "dtypes: float64(15), int64(8), object(27)\n",
      "memory usage: 151.3+ KB\n"
     ]
    }
   ],
   "source": [
    "df.info()"
   ]
  },
  {
   "cell_type": "code",
   "execution_count": 6,
   "id": "29e57d04-d6a5-4b96-9e9e-71ce0f9a4c99",
   "metadata": {},
   "outputs": [
    {
     "data": {
      "image/png": "[encoded data removed]",
      "text/plain": [
       "<Figure size 640x480 with 1 Axes>"
      ]
     },
     "metadata": {},
     "output_type": "display_data"
    }
   ],
   "source": [
    "dow = dict(df.day_of_week.value_counts())\n",
    "plt.bar(dow.keys(), dow.values(), alpha = 0.4)\n",
    "\n",
    "for k, v in dow.items():\n",
    "\n",
    "    plt.text(k, v, v,\n",
    "             ha = 'center', va = 'bottom')"
   ]
  },
  {
   "cell_type": "code",
   "execution_count": 7,
   "id": "c0913185-8331-42a1-8430-bc4f8017ac1f",
   "metadata": {},
   "outputs": [
    {
     "data": {
      "application/vnd.plotly.v1+json": {
       "config": {
        "plotlyServerURL": "https://plot.ly"
       },
       "data": [
        {
         "geo": "geo",
         "hovertemplate": "day_of_week=Tuesday<br>casualties=%{marker.size}<br>lat=%{lat}<br>long=%{lon}<extra></extra>",
         "lat": [
          39.60391,
          34.948919,
          43.079604,
          29.939676,
          32.759323,
          32.305062,
          40.774262,
          40.716783,
          38.922338,
          37.426801,
          32.288835,
          41.73354,
          40.21999,
          41.7184,
          37.78108,
          36.35086,
          42.38469,
          40.4607,
          39.47981,
          45.48655,
          26.1106,
          34.16568,
          null,
          42.3837,
          30.3895,
          41.059329,
          39.5869,
          33.954604,
          33.6788,
          33.866372,
          29.800326,
          29.868788,
          30.308617,
          33.7273,
          30.3606,
          33.4736,
          21.3104,
          33.593,
          45.5285,
          25.84814,
          38.156605,
          35.371268,
          33.459564,
          28.824494,
          33.61291,
          30.743233,
          37.719558,
          40.60715,
          40.015716,
          36.912835,
          36.62444,
          38.24743,
          36.233566,
          36.82682,
          32.378702,
          39.5559,
          34.036765,
          33.521766,
          38.4497,
          44.0225,
          34.593282,
          40.706963,
          29.692163,
          35.3219,
          39.94497,
          39.302595,
          35.9887,
          34.736827,
          41.8244,
          31.562163,
          40.8425,
          42.838243,
          42.286784,
          44.868045,
          40.9258,
          38.3173,
          46.591635,
          36.176163,
          42.101896,
          46.4805,
          41.9568,
          29.199304,
          44.159231,
          42.306942,
          47.7257,
          39.6716,
          29.94991,
          39.0554877,
          35.629468,
          40.4609,
          42.9966
         ],
         "legendgroup": "Tuesday",
         "lon": [
          -105.075,
          -90.035423,
          -83.706037,
          -90.090046,
          -96.744389,
          -96.629758,
          -73.985021,
          -74.070502,
          -77.029756,
          -120.792392,
          -90.196049,
          -87.557742,
          -76.95256,
          -87.62085,
          -90.43619,
          -84.14832,
          -83.11269,
          -79.90059,
          -119.78186,
          -122.40894,
          -97.5108,
          -119.1814,
          null,
          -83.1115,
          -81.707,
          -73.536464,
          -105.102,
          -118.209757,
          -79.004328,
          -118.29633,
          -95.341835,
          -95.26259,
          -81.617917,
          -84.3068,
          -97.708,
          -104.5115,
          -157.8372,
          -84.5176,
          -122.4026,
          -80.243461,
          -85.592357,
          -80.193152,
          -81.937992,
          -82.499153,
          -86.682,
          -88.080692,
          -122.425241,
          -111.873061,
          -122.398455,
          -88.332917,
          -121.838,
          -76.4875,
          -115.135695,
          -76.36628,
          -86.271649,
          -104.9979,
          -118.212583,
          -81.71303,
          -122.7226,
          -88.5736,
          -86.97216,
          -74.083408,
          -95.469159,
          -82.473,
          -82.910821,
          -75.623778,
          -86.5597,
          -92.298954,
          -87.6199,
          -91.394805,
          -73.891,
          -83.260782,
          -89.137895,
          -93.310844,
          -73.8151,
          -104.7291,
          -120.565796,
          -115.202879,
          -80.082293,
          -87.7289,
          -87.6469,
          -99.78812,
          -94.017529,
          -71.081648,
          -122.3369,
          -89.629,
          -90.08925,
          -94.59127529,
          -98.324487,
          -79.9012,
          -83.6785
         ],
         "marker": {
          "color": "#636efa",
          "size": [
           34,
           0,
           1,
           1,
           1,
           0,
           2,
           1,
           1,
           1,
           1,
           1,
           1,
           1,
           0,
           3,
           1,
           1,
           2,
           10,
           0,
           1,
           2,
           2,
           0,
           0,
           2,
           1,
           1,
           2,
           2,
           1,
           1,
           0,
           0,
           3,
           1,
           0,
           2,
           1,
           1,
           1,
           1,
           0,
           1,
           1,
           4,
           1,
           2,
           16,
           3,
           2,
           1,
           1,
           1,
           9,
           1,
           0,
           1,
           1,
           0,
           0,
           1,
           1,
           0,
           1,
           0,
           0,
           2,
           0,
           0,
           11,
           2,
           2,
           0,
           1,
           1,
           0,
           1,
           0,
           1,
           33,
           0,
           1,
           1,
           2,
           1,
           1,
           0,
           4,
           1
          ],
          "sizemode": "area",
          "sizeref": 0.085,
          "symbol": "circle"
         },
         "mode": "markers",
         "name": "Tuesday",
         "showlegend": true,
         "type": "scattergeo"
        },
        {
         "geo": "geo",
         "hovertemplate": "day_of_week=Thursday<br>casualties=%{marker.size}<br>lat=%{lat}<br>long=%{lon}<extra></extra>",
         "lat": [
          30.529958,
          33.626922,
          35.255494,
          34.010732,
          32.800101,
          39.240746,
          39.893809,
          35.425762,
          35.175976,
          39.31911,
          32.54958,
          36.0213,
          43.40713,
          43.208,
          39.95793,
          38.735563,
          36.0392,
          40.996241,
          30.714209,
          35.146256,
          33.708772,
          25.5369,
          35.675,
          39.094,
          29.45738,
          31.175943,
          30.371983,
          40.00952,
          40.872489,
          32.378702,
          33.59297,
          36.820644,
          30.6828,
          34.06169,
          42.2499,
          35.236843,
          39.832,
          35.312773,
          32.3106,
          34.441924,
          34.1876,
          40.774742,
          26.13796,
          41.32981839,
          32.428416,
          40.622473,
          43.668498,
          33.725,
          32.446371,
          35.1189,
          40.719909,
          35.563,
          34.048231,
          38.6226,
          32.780532,
          34.824083,
          41.044822,
          29.795384,
          34.0107,
          39.689,
          38.853645,
          35.585093,
          43.188169,
          40.0942,
          40.655508,
          40.5638,
          37.510274
         ],
         "legendgroup": "Thursday",
         "lon": [
          -91.169966,
          -84.04796,
          -96.943184,
          -95.511435,
          -116.916889,
          -94.45515,
          -76.609728,
          -81.539104,
          -80.756579,
          -76.54552,
          -95.86617,
          -83.4041,
          -83.92541,
          -123.34712,
          -75.2374,
          -82.986607,
          -83.9216,
          -72.529205,
          -88.086526,
          -119.460383,
          -84.387442,
          -80.453001,
          -88.7593,
          -94.5688,
          -98.3578,
          -83.804368,
          -103.665798,
          -82.974011,
          -111.861172,
          -86.271649,
          -84.5176,
          -107.990379,
          -88.0867,
          -118.265,
          -84.4185,
          -80.812768,
          -84.9114,
          -106.641929,
          -86.1324,
          -118.518128,
          -119.2135,
          -111.900444,
          -80.424081,
          -72.9357119,
          -87.022637,
          -73.954975,
          -111.941927,
          -84.1294,
          -89.105538,
          -90.0283,
          -73.991729,
          -80.5457,
          -81.040984,
          -77.2671,
          -89.105653,
          -82.46882,
          -80.552325,
          -95.3935,
          -86.0562,
          -87.4138,
          -76.917277,
          -78.793497,
          -77.597958,
          -82.9647,
          -111.936978,
          -88.6136,
          -77.483075
         ],
         "marker": {
          "color": "#EF553B",
          "size": [
           1,
           6,
           0,
           1,
           5,
           2,
           1,
           0,
           1,
           2,
           1,
           1,
           1,
           1,
           1,
           1,
           1,
           1,
           0,
           2,
           1,
           1,
           1,
           1,
           0,
           0,
           1,
           2,
           0,
           1,
           2,
           2,
           0,
           5,
           0,
           0,
           0,
           0,
           0,
           5,
           1,
           0,
           1,
           0,
           0,
           1,
           3,
           1,
           1,
           1,
           0,
           0,
           0,
           0,
           0,
           1,
           0,
           1,
           2,
           1,
           1,
           0,
           0,
           0,
           0,
           0,
           2
          ],
          "sizemode": "area",
          "sizeref": 0.085,
          "symbol": "circle"
         },
         "mode": "markers",
         "name": "Thursday",
         "showlegend": true,
         "type": "scattergeo"
        },
        {
         "geo": "geo",
         "hovertemplate": "day_of_week=Monday<br>casualties=%{marker.size}<br>lat=%{lat}<br>long=%{lon}<extra></extra>",
         "lat": [
          39.921509,
          35.795556,
          41.885272,
          47.493015,
          39.251506,
          32.85756,
          34.061499,
          43.458011,
          38.957407,
          29.974421,
          47.652394,
          38.839005,
          42.62068,
          41.88062,
          47.8509,
          38.34635,
          33.99881,
          39.960081,
          37.08277,
          39.10911,
          41.7372,
          32.10841,
          35.10069,
          35.05595,
          29.5004,
          36.531336,
          45.084351,
          35.034044,
          41.591297,
          39.39186,
          26.64062,
          39.189162,
          39.5517,
          37.727439,
          35.6648,
          45.004709,
          47.051956,
          39.53385,
          30.53365,
          34.179206,
          30.29966,
          35.95795,
          29.93996,
          32.181129,
          36.81828,
          33.7339,
          35.225991,
          41.177547,
          35.1203,
          33.791237,
          42.35333175,
          39.366066,
          42.993,
          41.325823,
          34.189927,
          43.2197,
          34.737634,
          35.9901,
          45.020964,
          34.2374,
          37.0063,
          41.6948,
          33.3757,
          35.2654,
          33.5427,
          41.5969,
          34.219096,
          31.696012,
          37.727297,
          27.120513,
          43.1261,
          38.604372,
          35.032022,
          45.4985,
          39.668622,
          32.6857,
          40.6223,
          36.047164,
          35.228498,
          32.763804,
          36.09286762,
          36.20418,
          40.0028,
          42.5826821,
          42.522585
         ],
         "legendgroup": "Monday",
         "lon": [
          -75.234108,
          -95.241921,
          -87.766042,
          -122.233115,
          -84.555558,
          -116.971045,
          -118.263286,
          -83.438553,
          -76.746341,
          -90.075733,
          -117.419841,
          -77.001667,
          -73.690848,
          -87.83382,
          -95.0629,
          -121.97421,
          -118.44282,
          -76.084367,
          -94.51586,
          -84.52183,
          -87.57236,
          -81.15661,
          -90.0174,
          -90.08589,
          -90.3295,
          -82.387049,
          -87.629512,
          -78.762384,
          -81.199958,
          -76.466091,
          -81.834212,
          -84.586704,
          -119.7694,
          -89.227812,
          -80.4849,
          -93.177024,
          -122.83241,
          -84.4433,
          -91.177851,
          -117.301804,
          -93.2032,
          -80.0231,
          -90.079691,
          -96.878968,
          -76.3393,
          -84.5038,
          -80.743914,
          -73.164585,
          -80.6916,
          -93.377376,
          -87.83950925,
          -76.571382,
          -88.2237,
          -72.963177,
          -92.065921,
          -77.3036,
          -80.11771,
          -83.887,
          -93.406233,
          -77.9324,
          -76.4272,
          -73.9138,
          -112.1463,
          -80.8585,
          -84.3428,
          -93.600681,
          -92.010781,
          -96.473307,
          -122.178837,
          -80.234928,
          -88.0128,
          -90.270897,
          -90.036586,
          -122.6391,
          -75.584879,
          -114.5107,
          -74.0787,
          -102.499399,
          -101.824434,
          -97.125993,
          -86.82526612,
          -115.097412,
          -75.1781,
          -70.95260296,
          -83.066681
         ],
         "marker": {
          "color": "#00cc96",
          "size": [
           1,
           5,
           1,
           0,
           0,
           15,
           1,
           0,
           1,
           4,
           0,
           2,
           1,
           1,
           14,
           1,
           1,
           10,
           0,
           0,
           1,
           0,
           1,
           1,
           0,
           1,
           0,
           1,
           6,
           1,
           1,
           0,
           3,
           1,
           1,
           0,
           0,
           4,
           0,
           3,
           1,
           0,
           0,
           1,
           1,
           0,
           0,
           0,
           1,
           1,
           0,
           1,
           1,
           0,
           1,
           1,
           1,
           1,
           0,
           1,
           2,
           0,
           1,
           0,
           0,
           3,
           0,
           0,
           1,
           0,
           1,
           9,
           1,
           1,
           0,
           2,
           0,
           1,
           1,
           2,
           6,
           1,
           0,
           0,
           0
          ],
          "sizemode": "area",
          "sizeref": 0.085,
          "symbol": "circle"
         },
         "mode": "markers",
         "name": "Monday",
         "showlegend": true,
         "type": "scattergeo"
        },
        {
         "geo": "geo",
         "hovertemplate": "day_of_week=Wednesday<br>casualties=%{marker.size}<br>lat=%{lat}<br>long=%{lon}<extra></extra>",
         "lat": [
          42.285268,
          28.273253,
          37.286387,
          31.56269,
          34.160149,
          39.316116,
          41.249266,
          39.044149,
          33.866342,
          41.837981,
          39.841774,
          32.323263,
          45.466258,
          38.469639,
          39.998621,
          37.75982,
          41.60997,
          40.70725,
          36.22912,
          43.05063,
          36.79721,
          36.09233,
          39.45566,
          47.24114,
          43.64091,
          27.99133,
          41.50762,
          35.26039,
          36.74302,
          26.1383,
          37.661586,
          36.815009,
          41.203481,
          38.735106,
          28.673157,
          25.913899,
          47.593761,
          34.0271,
          28.5428,
          40.0344,
          35.5306,
          43.43212,
          33.6514,
          34.56311,
          32.70713,
          47.519667,
          39.474405,
          26.304483,
          34.77972,
          33.61291,
          33.543141,
          35.074841,
          41.847128,
          61.213281,
          44.994017,
          38.5333,
          30.371086,
          43.059497,
          38.828872,
          38.896669,
          34.041846,
          38.0063,
          34.393145,
          29.867029,
          33.524095,
          36.1268,
          42.450386,
          32.622073,
          41.7344,
          41.61606,
          29.678303,
          28.7793,
          40.464327,
          25.938839,
          46.372185,
          34.177798,
          38.111902,
          37.76573,
          33.6612,
          39.7416,
          38.942971,
          40.464327
         ],
         "legendgroup": "Wednesday",
         "lon": [
          -71.075901,
          -82.687231,
          -120.494808,
          -110.29924,
          -119.1822,
          -76.590038,
          -76.996564,
          -84.49833,
          -118.296704,
          -71.45125,
          -105.015495,
          -90.885251,
          -94.426618,
          -121.435306,
          -75.168248,
          -122.16302,
          -87.26145,
          -89.57513,
          -86.74568,
          -87.95774,
          -76.24185,
          -79.09337,
          -105.64543,
          -122.49364,
          -84.27414,
          -82.43267,
          -81.6869,
          -80.77591,
          -119.7537,
          -80.176,
          -77.483135,
          -76.381349,
          -96.146049,
          -120.779419,
          -81.494124,
          -97.493734,
          -122.63622,
          -117.7144,
          -81.5673,
          -76.2998,
          -77.3248,
          -96.6998,
          -92.7796,
          -82.903471,
          -87.589,
          -117.19638,
          -88.386955,
          -80.269365,
          -84.99053,
          -86.682,
          -89.274143,
          -106.592413,
          -89.488508,
          -149.881113,
          -93.300234,
          -121.4182,
          -81.695138,
          -83.73516,
          -76.999555,
          -76.933728,
          -118.175531,
          -121.8163,
          -82.238603,
          -95.259744,
          -80.836538,
          -80.3132,
          -83.159362,
          -97.076321,
          -87.6188,
          -87.643734,
          -95.182324,
          -81.283,
          -80.024121,
          -80.276769,
          -102.318612,
          -118.415327,
          -122.243859,
          -122.153923,
          -85.82,
          -104.9557,
          -77.029177,
          -80.024121
         ],
         "marker": {
          "color": "#ab63fa",
          "size": [
           1,
           1,
           0,
           1,
           0,
           1,
           1,
           1,
           2,
           0,
           0,
           1,
           2,
           2,
           2,
           2,
           0,
           0,
           1,
           1,
           0,
           2,
           1,
           1,
           1,
           0,
           4,
           1,
           1,
           1,
           0,
           0,
           3,
           1,
           1,
           1,
           1,
           3,
           1,
           0,
           0,
           1,
           1,
           3,
           0,
           4,
           1,
           34,
           0,
           1,
           0,
           1,
           0,
           1,
           0,
           0,
           0,
           0,
           0,
           0,
           1,
           0,
           0,
           1,
           3,
           1,
           0,
           4,
           0,
           0,
           0,
           1,
           1,
           3,
           1,
           2,
           0,
           6,
           1,
           2,
           1,
           1
          ],
          "sizemode": "area",
          "sizeref": 0.085,
          "symbol": "circle"
         },
         "mode": "markers",
         "name": "Wednesday",
         "showlegend": true,
         "type": "scattergeo"
        },
        {
         "geo": "geo",
         "hovertemplate": "day_of_week=Friday<br>casualties=%{marker.size}<br>lat=%{lat}<br>long=%{lon}<extra></extra>",
         "lat": [
          32.261547,
          26.451351,
          41.536645,
          32.524187,
          33.844274,
          29.94966,
          30.27037,
          28.68172,
          32.85566,
          32.65726,
          43.48211,
          37.6566,
          33.780761,
          32.503605,
          34.740322,
          36.686184,
          33.14836,
          39.420621,
          43.078915,
          35.879122,
          40.533285,
          41.41978,
          36.1343,
          28.57586,
          39.5817,
          40.0331,
          44.0523,
          48.09582,
          39.96367,
          33.53216,
          43.60478,
          40.21594,
          41.726922,
          39.90163,
          42.73889,
          46.850867,
          29.14362,
          34.591755,
          29.393257,
          40.07825,
          42.33419,
          44.0788,
          39.3148,
          39.0168,
          34.0847,
          35.059669,
          30.3906,
          34.2618,
          39.9081,
          29.60752,
          35.086144,
          29.605766,
          39.7349,
          39.1313,
          38.8959,
          37.969409,
          38.94304098,
          26.709238,
          39.3322,
          37.1564,
          41.672866,
          35.9485
         ],
         "legendgroup": "Friday",
         "lon": [
          -107.762986,
          -80.085968,
          -87.34132,
          -92.070624,
          -118.384456,
          -90.08893,
          -81.61618,
          -81.34669,
          -96.57589,
          -97.36,
          -90.19016,
          -122.083,
          -78.97152,
          -93.77398,
          -86.741148,
          -121.595961,
          -117.311227,
          -86.427053,
          -72.426439,
          -79.068506,
          -88.914486,
          -73.277751,
          -80.2066,
          -81.475051,
          -104.9628,
          -75.1446,
          -121.2959,
          -122.154021,
          -75.162,
          -112.221,
          -84.0783,
          -83.756761,
          -87.575184,
          -82.9958,
          -84.5243,
          -114.057737,
          -82.066682,
          -118.175561,
          -95.143149,
          -86.029001,
          -85.207497,
          -123.1667,
          -76.6549,
          -94.6409,
          -86.586,
          -106.583882,
          -81.7073,
          -78.0429,
          -86.018,
          -90.734161,
          -106.661691,
          -95.44306,
          -104.8086,
          -77.1183,
          -94.7539,
          -122.288035,
          -77.06209293,
          -80.059481,
          -76.5911,
          -76.5237,
          -85.726857,
          -83.973
         ],
         "marker": {
          "color": "#FFA15A",
          "size": [
           1,
           1,
           1,
           0,
           1,
           1,
           1,
           1,
           2,
           1,
           1,
           0,
           1,
           1,
           1,
           1,
           2,
           1,
           0,
           1,
           0,
           28,
           1,
           2,
           1,
           2,
           0,
           5,
           0,
           1,
           1,
           2,
           2,
           0,
           1,
           0,
           1,
           1,
           23,
           2,
           0,
           0,
           1,
           0,
           1,
           0,
           1,
           1,
           1,
           1,
           1,
           1,
           3,
           1,
           2,
           1,
           4,
           0,
           1,
           1,
           0,
           1
          ],
          "sizemode": "area",
          "sizeref": 0.085,
          "symbol": "circle"
         },
         "mode": "markers",
         "name": "Friday",
         "showlegend": true,
         "type": "scattergeo"
        }
       ],
       "layout": {
        "autosize": true,
        "geo": {
         "center": {},
         "domain": {
          "x": [
           0,
           1
          ],
          "y": [
           0,
           1
          ]
         },
         "projection": {
          "type": "albers usa"
         }
        },
        "legend": {
         "itemsizing": "constant",
         "title": {
          "text": "day_of_week"
         },
         "tracegroupgap": 0
        },
        "margin": {
         "t": 60
        },
        "template": {
         "data": {
          "bar": [
           {
            "error_x": {
             "color": "#2a3f5f"
            },
            "error_y": {
             "color": "#2a3f5f"
            },
            "marker": {
             "line": {
              "color": "#E5ECF6",
              "width": 0.5
             },
             "pattern": {
              "fillmode": "overlay",
              "size": 10,
              "solidity": 0.2
             }
            },
            "type": "bar"
           }
          ],
          "barpolar": [
           {
            "marker": {
             "line": {
              "color": "#E5ECF6",
              "width": 0.5
             },
             "pattern": {
              "fillmode": "overlay",
              "size": 10,
              "solidity": 0.2
             }
            },
            "type": "barpolar"
           }
          ],
          "carpet": [
           {
            "aaxis": {
             "endlinecolor": "#2a3f5f",
             "gridcolor": "white",
             "linecolor": "white",
             "minorgridcolor": "white",
             "startlinecolor": "#2a3f5f"
            },
            "baxis": {
             "endlinecolor": "#2a3f5f",
             "gridcolor": "white",
             "linecolor": "white",
             "minorgridcolor": "white",
             "startlinecolor": "#2a3f5f"
            },
            "type": "carpet"
           }
          ],
          "choropleth": [
           {
            "colorbar": {
             "outlinewidth": 0,
             "ticks": ""
            },
            "type": "choropleth"
           }
          ],
          "contour": [
           {
            "colorbar": {
             "outlinewidth": 0,
             "ticks": ""
            },
            "colorscale": [
             [
              0,
              "#0d0887"
             ],
             [
              0.1111111111111111,
              "#46039f"
             ],
             [
              0.2222222222222222,
              "#7201a8"
             ],
             [
              0.3333333333333333,
              "#9c179e"
             ],
             [
              0.4444444444444444,
              "#bd3786"
             ],
             [
              0.5555555555555556,
              "#d8576b"
             ],
             [
              0.6666666666666666,
              "#ed7953"
             ],
             [
              0.7777777777777778,
              "#fb9f3a"
             ],
             [
              0.8888888888888888,
              "#fdca26"
             ],
             [
              1,
              "#f0f921"
             ]
            ],
            "type": "contour"
           }
          ],
          "contourcarpet": [
           {
            "colorbar": {
             "outlinewidth": 0,
             "ticks": ""
            },
            "type": "contourcarpet"
           }
          ],
          "heatmap": [
           {
            "colorbar": {
             "outlinewidth": 0,
             "ticks": ""
            },
            "colorscale": [
             [
              0,
              "#0d0887"
             ],
             [
              0.1111111111111111,
              "#46039f"
             ],
             [
              0.2222222222222222,
              "#7201a8"
             ],
             [
              0.3333333333333333,
              "#9c179e"
             ],
             [
              0.4444444444444444,
              "#bd3786"
             ],
             [
              0.5555555555555556,
              "#d8576b"
             ],
             [
              0.6666666666666666,
              "#ed7953"
             ],
             [
              0.7777777777777778,
              "#fb9f3a"
             ],
             [
              0.8888888888888888,
              "#fdca26"
             ],
             [
              1,
              "#f0f921"
             ]
            ],
            "type": "heatmap"
           }
          ],
          "heatmapgl": [
           {
            "colorbar": {
             "outlinewidth": 0,
             "ticks": ""
            },
            "colorscale": [
             [
              0,
              "#0d0887"
             ],
             [
              0.1111111111111111,
              "#46039f"
             ],
             [
              0.2222222222222222,
              "#7201a8"
             ],
             [
              0.3333333333333333,
              "#9c179e"
             ],
             [
              0.4444444444444444,
              "#bd3786"
             ],
             [
              0.5555555555555556,
              "#d8576b"
             ],
             [
              0.6666666666666666,
              "#ed7953"
             ],
             [
              0.7777777777777778,
              "#fb9f3a"
             ],
             [
              0.8888888888888888,
              "#fdca26"
             ],
             [
              1,
              "#f0f921"
             ]
            ],
            "type": "heatmapgl"
           }
          ],
          "histogram": [
           {
            "marker": {
             "pattern": {
              "fillmode": "overlay",
              "size": 10,
              "solidity": 0.2
             }
            },
            "type": "histogram"
           }
          ],
          "histogram2d": [
           {
            "colorbar": {
             "outlinewidth": 0,
             "ticks": ""
            },
            "colorscale": [
             [
              0,
              "#0d0887"
             ],
             [
              0.1111111111111111,
              "#46039f"
             ],
             [
              0.2222222222222222,
              "#7201a8"
             ],
             [
              0.3333333333333333,
              "#9c179e"
             ],
             [
              0.4444444444444444,
              "#bd3786"
             ],
             [
              0.5555555555555556,
              "#d8576b"
             ],
             [
              0.6666666666666666,
              "#ed7953"
             ],
             [
              0.7777777777777778,
              "#fb9f3a"
             ],
             [
              0.8888888888888888,
              "#fdca26"
             ],
             [
              1,
              "#f0f921"
             ]
            ],
            "type": "histogram2d"
           }
          ],
          "histogram2dcontour": [
           {
            "colorbar": {
             "outlinewidth": 0,
             "ticks": ""
            },
            "colorscale": [
             [
              0,
              "#0d0887"
             ],
             [
              0.1111111111111111,
              "#46039f"
             ],
             [
              0.2222222222222222,
              "#7201a8"
             ],
             [
              0.3333333333333333,
              "#9c179e"
             ],
             [
              0.4444444444444444,
              "#bd3786"
             ],
             [
              0.5555555555555556,
              "#d8576b"
             ],
             [
              0.6666666666666666,
              "#ed7953"
             ],
             [
              0.7777777777777778,
              "#fb9f3a"
             ],
             [
              0.8888888888888888,
              "#fdca26"
             ],
             [
              1,
              "#f0f921"
             ]
            ],
            "type": "histogram2dcontour"
           }
          ],
          "mesh3d": [
           {
            "colorbar": {
             "outlinewidth": 0,
             "ticks": ""
            },
            "type": "mesh3d"
           }
          ],
          "parcoords": [
           {
            "line": {
             "colorbar": {
              "outlinewidth": 0,
              "ticks": ""
             }
            },
            "type": "parcoords"
           }
          ],
          "pie": [
           {
            "automargin": true,
            "type": "pie"
           }
          ],
          "scatter": [
           {
            "fillpattern": {
             "fillmode": "overlay",
             "size": 10,
             "solidity": 0.2
            },
            "type": "scatter"
           }
          ],
          "scatter3d": [
           {
            "line": {
             "colorbar": {
              "outlinewidth": 0,
              "ticks": ""
             }
            },
            "marker": {
             "colorbar": {
              "outlinewidth": 0,
              "ticks": ""
             }
            },
            "type": "scatter3d"
           }
          ],
          "scattercarpet": [
           {
            "marker": {
             "colorbar": {
              "outlinewidth": 0,
              "ticks": ""
             }
            },
            "type": "scattercarpet"
           }
          ],
          "scattergeo": [
           {
            "marker": {
             "colorbar": {
              "outlinewidth": 0,
              "ticks": ""
             }
            },
            "type": "scattergeo"
           }
          ],
          "scattergl": [
           {
            "marker": {
             "colorbar": {
              "outlinewidth": 0,
              "ticks": ""
             }
            },
            "type": "scattergl"
           }
          ],
          "scattermapbox": [
           {
            "marker": {
             "colorbar": {
              "outlinewidth": 0,
              "ticks": ""
             }
            },
            "type": "scattermapbox"
           }
          ],
          "scatterpolar": [
           {
            "marker": {
             "colorbar": {
              "outlinewidth": 0,
              "ticks": ""
             }
            },
            "type": "scatterpolar"
           }
          ],
          "scatterpolargl": [
           {
            "marker": {
             "colorbar": {
              "outlinewidth": 0,
              "ticks": ""
             }
            },
            "type": "scatterpolargl"
           }
          ],
          "scatterternary": [
           {
            "marker": {
             "colorbar": {
              "outlinewidth": 0,
              "ticks": ""
             }
            },
            "type": "scatterternary"
           }
          ],
          "surface": [
           {
            "colorbar": {
             "outlinewidth": 0,
             "ticks": ""
            },
            "colorscale": [
             [
              0,
              "#0d0887"
             ],
             [
              0.1111111111111111,
              "#46039f"
             ],
             [
              0.2222222222222222,
              "#7201a8"
             ],
             [
              0.3333333333333333,
              "#9c179e"
             ],
             [
              0.4444444444444444,
              "#bd3786"
             ],
             [
              0.5555555555555556,
              "#d8576b"
             ],
             [
              0.6666666666666666,
              "#ed7953"
             ],
             [
              0.7777777777777778,
              "#fb9f3a"
             ],
             [
              0.8888888888888888,
              "#fdca26"
             ],
             [
              1,
              "#f0f921"
             ]
            ],
            "type": "surface"
           }
          ],
          "table": [
           {
            "cells": {
             "fill": {
              "color": "#EBF0F8"
             },
             "line": {
              "color": "white"
             }
            },
            "header": {
             "fill": {
              "color": "#C8D4E3"
             },
             "line": {
              "color": "white"
             }
            },
            "type": "table"
           }
          ]
         },
         "layout": {
          "annotationdefaults": {
           "arrowcolor": "#2a3f5f",
           "arrowhead": 0,
           "arrowwidth": 1
          },
          "autotypenumbers": "strict",
          "coloraxis": {
           "colorbar": {
            "outlinewidth": 0,
            "ticks": ""
           }
          },
          "colorscale": {
           "diverging": [
            [
             0,
             "#8e0152"
            ],
            [
             0.1,
             "#c51b7d"
            ],
            [
             0.2,
             "#de77ae"
            ],
            [
             0.3,
             "#f1b6da"
            ],
            [
             0.4,
             "#fde0ef"
            ],
            [
             0.5,
             "#f7f7f7"
            ],
            [
             0.6,
             "#e6f5d0"
            ],
            [
             0.7,
             "#b8e186"
            ],
            [
             0.8,
             "#7fbc41"
            ],
            [
             0.9,
             "#4d9221"
            ],
            [
             1,
             "#276419"
            ]
           ],
           "sequential": [
            [
             0,
             "#0d0887"
            ],
            [
             0.1111111111111111,
             "#46039f"
            ],
            [
             0.2222222222222222,
             "#7201a8"
            ],
            [
             0.3333333333333333,
             "#9c179e"
            ],
            [
             0.4444444444444444,
             "#bd3786"
            ],
            [
             0.5555555555555556,
             "#d8576b"
            ],
            [
             0.6666666666666666,
             "#ed7953"
            ],
            [
             0.7777777777777778,
             "#fb9f3a"
            ],
            [
             0.8888888888888888,
             "#fdca26"
            ],
            [
             1,
             "#f0f921"
            ]
           ],
           "sequentialminus": [
            [
             0,
             "#0d0887"
            ],
            [
             0.1111111111111111,
             "#46039f"
            ],
            [
             0.2222222222222222,
             "#7201a8"
            ],
            [
             0.3333333333333333,
             "#9c179e"
            ],
            [
             0.4444444444444444,
             "#bd3786"
            ],
            [
             0.5555555555555556,
             "#d8576b"
            ],
            [
             0.6666666666666666,
             "#ed7953"
            ],
            [
             0.7777777777777778,
             "#fb9f3a"
            ],
            [
             0.8888888888888888,
             "#fdca26"
            ],
            [
             1,
             "#f0f921"
            ]
           ]
          },
          "colorway": [
           "#636efa",
           "#EF553B",
           "#00cc96",
           "#ab63fa",
           "#FFA15A",
           "#19d3f3",
           "#FF6692",
           "#B6E880",
           "#FF97FF",
           "#FECB52"
          ],
          "font": {
           "color": "#2a3f5f"
          },
          "geo": {
           "bgcolor": "white",
           "lakecolor": "white",
           "landcolor": "#E5ECF6",
           "showlakes": true,
           "showland": true,
           "subunitcolor": "white"
          },
          "hoverlabel": {
           "align": "left"
          },
          "hovermode": "closest",
          "mapbox": {
           "style": "light"
          },
          "paper_bgcolor": "white",
          "plot_bgcolor": "#E5ECF6",
          "polar": {
           "angularaxis": {
            "gridcolor": "white",
            "linecolor": "white",
            "ticks": ""
           },
           "bgcolor": "#E5ECF6",
           "radialaxis": {
            "gridcolor": "white",
            "linecolor": "white",
            "ticks": ""
           }
          },
          "scene": {
           "xaxis": {
            "backgroundcolor": "#E5ECF6",
            "gridcolor": "white",
            "gridwidth": 2,
            "linecolor": "white",
            "showbackground": true,
            "ticks": "",
            "zerolinecolor": "white"
           },
           "yaxis": {
            "backgroundcolor": "#E5ECF6",
            "gridcolor": "white",
            "gridwidth": 2,
            "linecolor": "white",
            "showbackground": true,
            "ticks": "",
            "zerolinecolor": "white"
           },
           "zaxis": {
            "backgroundcolor": "#E5ECF6",
            "gridcolor": "white",
            "gridwidth": 2,
            "linecolor": "white",
            "showbackground": true,
            "ticks": "",
            "zerolinecolor": "white"
           }
          },
          "shapedefaults": {
           "line": {
            "color": "#2a3f5f"
           }
          },
          "ternary": {
           "aaxis": {
            "gridcolor": "white",
            "linecolor": "white",
            "ticks": ""
           },
           "baxis": {
            "gridcolor": "white",
            "linecolor": "white",
            "ticks": ""
           },
           "bgcolor": "#E5ECF6",
           "caxis": {
            "gridcolor": "white",
            "linecolor": "white",
            "ticks": ""
           }
          },
          "title": {
           "x": 0.05
          },
          "xaxis": {
           "automargin": true,
           "gridcolor": "white",
           "linecolor": "white",
           "ticks": "",
           "title": {
            "standoff": 15
           },
           "zerolinecolor": "white",
           "zerolinewidth": 2
          },
          "yaxis": {
           "automargin": true,
           "gridcolor": "white",
           "linecolor": "white",
           "ticks": "",
           "title": {
            "standoff": 15
           },
           "zerolinecolor": "white",
           "zerolinewidth": 2
          }
         }
        }
       }
      },
      "image/png": "[encoded data removed]",
      "text/html": [
       "<div>                            <div id=\"39f1a9c8-c604-4d9c-b839-39c07c85b9cf\" class=\"plotly-graph-div\" style=\"height:500px; width:100%;\"></div>            <script type=\"text/javascript\">                require([\"plotly\"], function(Plotly) {                    window.PLOTLYENV=window.PLOTLYENV || {};                                    if (document.getElementById(\"39f1a9c8-c604-4d9c-b839-39c07c85b9cf\")) {                    Plotly.newPlot(                        \"39f1a9c8-c604-4d9c-b839-39c07c85b9cf\",                        [{\"geo\":\"geo\",\"hovertemplate\":\"day_of_week=Tuesday\\u003cbr\\u003ecasualties=%{marker.size}\\u003cbr\\u003elat=%{lat}\\u003cbr\\u003elong=%{lon}\\u003cextra\\u003e\\u003c\\u002fextra\\u003e\",\"lat\":[39.60391,34.948919,43.079604,29.939676,32.759323,32.305062,40.774262,40.716783,38.922338,37.426801,32.288835,41.73354,40.21999,41.7184,37.78108,36.35086,42.38469,40.4607,39.47981,45.48655,26.1106,34.16568,null,42.3837,30.3895,41.059329,39.5869,33.954604,33.6788,33.866372,29.800326,29.868788,30.308617,33.7273,30.3606,33.4736,21.3104,33.593,45.5285,25.84814,38.156605,35.371268,33.459564,28.824494,33.61291,30.743233,37.719558,40.60715,40.015716,36.912835,36.62444,38.24743,36.233566,36.82682,32.378702,39.5559,34.036765,33.521766,38.4497,44.0225,34.593282,40.706963,29.692163,35.3219,39.94497,39.302595,35.9887,34.736827,41.8244,31.562163,40.8425,42.838243,42.286784,44.868045,40.9258,38.3173,46.591635,36.176163,42.101896,46.4805,41.9568,29.199304,44.159231,42.306942,47.7257,39.6716,29.94991,39.0554877,35.629468,40.4609,42.9966],\"legendgroup\":\"Tuesday\",\"lon\":[-105.075,-90.035423,-83.706037,-90.090046,-96.744389,-96.629758,-73.985021,-74.070502,-77.029756,-120.792392,-90.196049,-87.557742,-76.95256,-87.62085,-90.43619,-84.14832,-83.11269,-79.90059,-119.78186,-122.40894,-97.5108,-119.1814,null,-83.1115,-81.707,-73.536464,-105.102,-118.209757,-79.004328,-118.29633,-95.341835,-95.26259,-81.617917,-84.3068,-97.708,-104.5115,-157.8372,-84.5176,-122.4026,-80.243461,-85.592357,-80.193152,-81.937992,-82.499153,-86.682,-88.080692,-122.425241,-111.873061,-122.398455,-88.332917,-121.838,-76.4875,-115.135695,-76.36628,-86.271649,-104.9979,-118.212583,-81.71303,-122.7226,-88.5736,-86.97216,-74.083408,-95.469159,-82.473,-82.910821,-75.623778,-86.5597,-92.298954,-87.6199,-91.394805,-73.891,-83.260782,-89.137895,-93.310844,-73.8151,-104.7291,-120.565796,-115.202879,-80.082293,-87.7289,-87.6469,-99.78812,-94.017529,-71.081648,-122.3369,-89.629,-90.08925,-94.59127529,-98.324487,-79.9012,-83.6785],\"marker\":{\"color\":\"#636efa\",\"size\":[34,0,1,1,1,0,2,1,1,1,1,1,1,1,0,3,1,1,2,10,0,1,2,2,0,0,2,1,1,2,2,1,1,0,0,3,1,0,2,1,1,1,1,0,1,1,4,1,2,16,3,2,1,1,1,9,1,0,1,1,0,0,1,1,0,1,0,0,2,0,0,11,2,2,0,1,1,0,1,0,1,33,0,1,1,2,1,1,0,4,1],\"sizemode\":\"area\",\"sizeref\":0.085,\"symbol\":\"circle\"},\"mode\":\"markers\",\"name\":\"Tuesday\",\"showlegend\":true,\"type\":\"scattergeo\"},{\"geo\":\"geo\",\"hovertemplate\":\"day_of_week=Thursday\\u003cbr\\u003ecasualties=%{marker.size}\\u003cbr\\u003elat=%{lat}\\u003cbr\\u003elong=%{lon}\\u003cextra\\u003e\\u003c\\u002fextra\\u003e\",\"lat\":[30.529958,33.626922,35.255494,34.010732,32.800101,39.240746,39.893809,35.425762,35.175976,39.31911,32.54958,36.0213,43.40713,43.208,39.95793,38.735563,36.0392,40.996241,30.714209,35.146256,33.708772,25.5369,35.675,39.094,29.45738,31.175943,30.371983,40.00952,40.872489,32.378702,33.59297,36.820644,30.6828,34.06169,42.2499,35.236843,39.832,35.312773,32.3106,34.441924,34.1876,40.774742,26.13796,41.32981839,32.428416,40.622473,43.668498,33.725,32.446371,35.1189,40.719909,35.563,34.048231,38.6226,32.780532,34.824083,41.044822,29.795384,34.0107,39.689,38.853645,35.585093,43.188169,40.0942,40.655508,40.5638,37.510274],\"legendgroup\":\"Thursday\",\"lon\":[-91.169966,-84.04796,-96.943184,-95.511435,-116.916889,-94.45515,-76.609728,-81.539104,-80.756579,-76.54552,-95.86617,-83.4041,-83.92541,-123.34712,-75.2374,-82.986607,-83.9216,-72.529205,-88.086526,-119.460383,-84.387442,-80.453001,-88.7593,-94.5688,-98.3578,-83.804368,-103.665798,-82.974011,-111.861172,-86.271649,-84.5176,-107.990379,-88.0867,-118.265,-84.4185,-80.812768,-84.9114,-106.641929,-86.1324,-118.518128,-119.2135,-111.900444,-80.424081,-72.9357119,-87.022637,-73.954975,-111.941927,-84.1294,-89.105538,-90.0283,-73.991729,-80.5457,-81.040984,-77.2671,-89.105653,-82.46882,-80.552325,-95.3935,-86.0562,-87.4138,-76.917277,-78.793497,-77.597958,-82.9647,-111.936978,-88.6136,-77.483075],\"marker\":{\"color\":\"#EF553B\",\"size\":[1,6,0,1,5,2,1,0,1,2,1,1,1,1,1,1,1,1,0,2,1,1,1,1,0,0,1,2,0,1,2,2,0,5,0,0,0,0,0,5,1,0,1,0,0,1,3,1,1,1,0,0,0,0,0,1,0,1,2,1,1,0,0,0,0,0,2],\"sizemode\":\"area\",\"sizeref\":0.085,\"symbol\":\"circle\"},\"mode\":\"markers\",\"name\":\"Thursday\",\"showlegend\":true,\"type\":\"scattergeo\"},{\"geo\":\"geo\",\"hovertemplate\":\"day_of_week=Monday\\u003cbr\\u003ecasualties=%{marker.size}\\u003cbr\\u003elat=%{lat}\\u003cbr\\u003elong=%{lon}\\u003cextra\\u003e\\u003c\\u002fextra\\u003e\",\"lat\":[39.921509,35.795556,41.885272,47.493015,39.251506,32.85756,34.061499,43.458011,38.957407,29.974421,47.652394,38.839005,42.62068,41.88062,47.8509,38.34635,33.99881,39.960081,37.08277,39.10911,41.7372,32.10841,35.10069,35.05595,29.5004,36.531336,45.084351,35.034044,41.591297,39.39186,26.64062,39.189162,39.5517,37.727439,35.6648,45.004709,47.051956,39.53385,30.53365,34.179206,30.29966,35.95795,29.93996,32.181129,36.81828,33.7339,35.225991,41.177547,35.1203,33.791237,42.35333175,39.366066,42.993,41.325823,34.189927,43.2197,34.737634,35.9901,45.020964,34.2374,37.0063,41.6948,33.3757,35.2654,33.5427,41.5969,34.219096,31.696012,37.727297,27.120513,43.1261,38.604372,35.032022,45.4985,39.668622,32.6857,40.6223,36.047164,35.228498,32.763804,36.09286762,36.20418,40.0028,42.5826821,42.522585],\"legendgroup\":\"Monday\",\"lon\":[-75.234108,-95.241921,-87.766042,-122.233115,-84.555558,-116.971045,-118.263286,-83.438553,-76.746341,-90.075733,-117.419841,-77.001667,-73.690848,-87.83382,-95.0629,-121.97421,-118.44282,-76.084367,-94.51586,-84.52183,-87.57236,-81.15661,-90.0174,-90.08589,-90.3295,-82.387049,-87.629512,-78.762384,-81.199958,-76.466091,-81.834212,-84.586704,-119.7694,-89.227812,-80.4849,-93.177024,-122.83241,-84.4433,-91.177851,-117.301804,-93.2032,-80.0231,-90.079691,-96.878968,-76.3393,-84.5038,-80.743914,-73.164585,-80.6916,-93.377376,-87.83950925,-76.571382,-88.2237,-72.963177,-92.065921,-77.3036,-80.11771,-83.887,-93.406233,-77.9324,-76.4272,-73.9138,-112.1463,-80.8585,-84.3428,-93.600681,-92.010781,-96.473307,-122.178837,-80.234928,-88.0128,-90.270897,-90.036586,-122.6391,-75.584879,-114.5107,-74.0787,-102.499399,-101.824434,-97.125993,-86.82526612,-115.097412,-75.1781,-70.95260296,-83.066681],\"marker\":{\"color\":\"#00cc96\",\"size\":[1,5,1,0,0,15,1,0,1,4,0,2,1,1,14,1,1,10,0,0,1,0,1,1,0,1,0,1,6,1,1,0,3,1,1,0,0,4,0,3,1,0,0,1,1,0,0,0,1,1,0,1,1,0,1,1,1,1,0,1,2,0,1,0,0,3,0,0,1,0,1,9,1,1,0,2,0,1,1,2,6,1,0,0,0],\"sizemode\":\"area\",\"sizeref\":0.085,\"symbol\":\"circle\"},\"mode\":\"markers\",\"name\":\"Monday\",\"showlegend\":true,\"type\":\"scattergeo\"},{\"geo\":\"geo\",\"hovertemplate\":\"day_of_week=Wednesday\\u003cbr\\u003ecasualties=%{marker.size}\\u003cbr\\u003elat=%{lat}\\u003cbr\\u003elong=%{lon}\\u003cextra\\u003e\\u003c\\u002fextra\\u003e\",\"lat\":[42.285268,28.273253,37.286387,31.56269,34.160149,39.316116,41.249266,39.044149,33.866342,41.837981,39.841774,32.323263,45.466258,38.469639,39.998621,37.75982,41.60997,40.70725,36.22912,43.05063,36.79721,36.09233,39.45566,47.24114,43.64091,27.99133,41.50762,35.26039,36.74302,26.1383,37.661586,36.815009,41.203481,38.735106,28.673157,25.913899,47.593761,34.0271,28.5428,40.0344,35.5306,43.43212,33.6514,34.56311,32.70713,47.519667,39.474405,26.304483,34.77972,33.61291,33.543141,35.074841,41.847128,61.213281,44.994017,38.5333,30.371086,43.059497,38.828872,38.896669,34.041846,38.0063,34.393145,29.867029,33.524095,36.1268,42.450386,32.622073,41.7344,41.61606,29.678303,28.7793,40.464327,25.938839,46.372185,34.177798,38.111902,37.76573,33.6612,39.7416,38.942971,40.464327],\"legendgroup\":\"Wednesday\",\"lon\":[-71.075901,-82.687231,-120.494808,-110.29924,-119.1822,-76.590038,-76.996564,-84.49833,-118.296704,-71.45125,-105.015495,-90.885251,-94.426618,-121.435306,-75.168248,-122.16302,-87.26145,-89.57513,-86.74568,-87.95774,-76.24185,-79.09337,-105.64543,-122.49364,-84.27414,-82.43267,-81.6869,-80.77591,-119.7537,-80.176,-77.483135,-76.381349,-96.146049,-120.779419,-81.494124,-97.493734,-122.63622,-117.7144,-81.5673,-76.2998,-77.3248,-96.6998,-92.7796,-82.903471,-87.589,-117.19638,-88.386955,-80.269365,-84.99053,-86.682,-89.274143,-106.592413,-89.488508,-149.881113,-93.300234,-121.4182,-81.695138,-83.73516,-76.999555,-76.933728,-118.175531,-121.8163,-82.238603,-95.259744,-80.836538,-80.3132,-83.159362,-97.076321,-87.6188,-87.643734,-95.182324,-81.283,-80.024121,-80.276769,-102.318612,-118.415327,-122.243859,-122.153923,-85.82,-104.9557,-77.029177,-80.024121],\"marker\":{\"color\":\"#ab63fa\",\"size\":[1,1,0,1,0,1,1,1,2,0,0,1,2,2,2,2,0,0,1,1,0,2,1,1,1,0,4,1,1,1,0,0,3,1,1,1,1,3,1,0,0,1,1,3,0,4,1,34,0,1,0,1,0,1,0,0,0,0,0,0,1,0,0,1,3,1,0,4,0,0,0,1,1,3,1,2,0,6,1,2,1,1],\"sizemode\":\"area\",\"sizeref\":0.085,\"symbol\":\"circle\"},\"mode\":\"markers\",\"name\":\"Wednesday\",\"showlegend\":true,\"type\":\"scattergeo\"},{\"geo\":\"geo\",\"hovertemplate\":\"day_of_week=Friday\\u003cbr\\u003ecasualties=%{marker.size}\\u003cbr\\u003elat=%{lat}\\u003cbr\\u003elong=%{lon}\\u003cextra\\u003e\\u003c\\u002fextra\\u003e\",\"lat\":[32.261547,26.451351,41.536645,32.524187,33.844274,29.94966,30.27037,28.68172,32.85566,32.65726,43.48211,37.6566,33.780761,32.503605,34.740322,36.686184,33.14836,39.420621,43.078915,35.879122,40.533285,41.41978,36.1343,28.57586,39.5817,40.0331,44.0523,48.09582,39.96367,33.53216,43.60478,40.21594,41.726922,39.90163,42.73889,46.850867,29.14362,34.591755,29.393257,40.07825,42.33419,44.0788,39.3148,39.0168,34.0847,35.059669,30.3906,34.2618,39.9081,29.60752,35.086144,29.605766,39.7349,39.1313,38.8959,37.969409,38.94304098,26.709238,39.3322,37.1564,41.672866,35.9485],\"legendgroup\":\"Friday\",\"lon\":[-107.762986,-80.085968,-87.34132,-92.070624,-118.384456,-90.08893,-81.61618,-81.34669,-96.57589,-97.36,-90.19016,-122.083,-78.97152,-93.77398,-86.741148,-121.595961,-117.311227,-86.427053,-72.426439,-79.068506,-88.914486,-73.277751,-80.2066,-81.475051,-104.9628,-75.1446,-121.2959,-122.154021,-75.162,-112.221,-84.0783,-83.756761,-87.575184,-82.9958,-84.5243,-114.057737,-82.066682,-118.175561,-95.143149,-86.029001,-85.207497,-123.1667,-76.6549,-94.6409,-86.586,-106.583882,-81.7073,-78.0429,-86.018,-90.734161,-106.661691,-95.44306,-104.8086,-77.1183,-94.7539,-122.288035,-77.06209293,-80.059481,-76.5911,-76.5237,-85.726857,-83.973],\"marker\":{\"color\":\"#FFA15A\",\"size\":[1,1,1,0,1,1,1,1,2,1,1,0,1,1,1,1,2,1,0,1,0,28,1,2,1,2,0,5,0,1,1,2,2,0,1,0,1,1,23,2,0,0,1,0,1,0,1,1,1,1,1,1,3,1,2,1,4,0,1,1,0,1],\"sizemode\":\"area\",\"sizeref\":0.085,\"symbol\":\"circle\"},\"mode\":\"markers\",\"name\":\"Friday\",\"showlegend\":true,\"type\":\"scattergeo\"}],                        {\"template\":{\"data\":{\"histogram2dcontour\":[{\"type\":\"histogram2dcontour\",\"colorbar\":{\"outlinewidth\":0,\"ticks\":\"\"},\"colorscale\":[[0.0,\"#0d0887\"],[0.1111111111111111,\"#46039f\"],[0.2222222222222222,\"#7201a8\"],[0.3333333333333333,\"#9c179e\"],[0.4444444444444444,\"#bd3786\"],[0.5555555555555556,\"#d8576b\"],[0.6666666666666666,\"#ed7953\"],[0.7777777777777778,\"#fb9f3a\"],[0.8888888888888888,\"#fdca26\"],[1.0,\"#f0f921\"]]}],\"choropleth\":[{\"type\":\"choropleth\",\"colorbar\":{\"outlinewidth\":0,\"ticks\":\"\"}}],\"histogram2d\":[{\"type\":\"histogram2d\",\"colorbar\":{\"outlinewidth\":0,\"ticks\":\"\"},\"colorscale\":[[0.0,\"#0d0887\"],[0.1111111111111111,\"#46039f\"],[0.2222222222222222,\"#7201a8\"],[0.3333333333333333,\"#9c179e\"],[0.4444444444444444,\"#bd3786\"],[0.5555555555555556,\"#d8576b\"],[0.6666666666666666,\"#ed7953\"],[0.7777777777777778,\"#fb9f3a\"],[0.8888888888888888,\"#fdca26\"],[1.0,\"#f0f921\"]]}],\"heatmap\":[{\"type\":\"heatmap\",\"colorbar\":{\"outlinewidth\":0,\"ticks\":\"\"},\"colorscale\":[[0.0,\"#0d0887\"],[0.1111111111111111,\"#46039f\"],[0.2222222222222222,\"#7201a8\"],[0.3333333333333333,\"#9c179e\"],[0.4444444444444444,\"#bd3786\"],[0.5555555555555556,\"#d8576b\"],[0.6666666666666666,\"#ed7953\"],[0.7777777777777778,\"#fb9f3a\"],[0.8888888888888888,\"#fdca26\"],[1.0,\"#f0f921\"]]}],\"heatmapgl\":[{\"type\":\"heatmapgl\",\"colorbar\":{\"outlinewidth\":0,\"ticks\":\"\"},\"colorscale\":[[0.0,\"#0d0887\"],[0.1111111111111111,\"#46039f\"],[0.2222222222222222,\"#7201a8\"],[0.3333333333333333,\"#9c179e\"],[0.4444444444444444,\"#bd3786\"],[0.5555555555555556,\"#d8576b\"],[0.6666666666666666,\"#ed7953\"],[0.7777777777777778,\"#fb9f3a\"],[0.8888888888888888,\"#fdca26\"],[1.0,\"#f0f921\"]]}],\"contourcarpet\":[{\"type\":\"contourcarpet\",\"colorbar\":{\"outlinewidth\":0,\"ticks\":\"\"}}],\"contour\":[{\"type\":\"contour\",\"colorbar\":{\"outlinewidth\":0,\"ticks\":\"\"},\"colorscale\":[[0.0,\"#0d0887\"],[0.1111111111111111,\"#46039f\"],[0.2222222222222222,\"#7201a8\"],[0.3333333333333333,\"#9c179e\"],[0.4444444444444444,\"#bd3786\"],[0.5555555555555556,\"#d8576b\"],[0.6666666666666666,\"#ed7953\"],[0.7777777777777778,\"#fb9f3a\"],[0.8888888888888888,\"#fdca26\"],[1.0,\"#f0f921\"]]}],\"surface\":[{\"type\":\"surface\",\"colorbar\":{\"outlinewidth\":0,\"ticks\":\"\"},\"colorscale\":[[0.0,\"#0d0887\"],[0.1111111111111111,\"#46039f\"],[0.2222222222222222,\"#7201a8\"],[0.3333333333333333,\"#9c179e\"],[0.4444444444444444,\"#bd3786\"],[0.5555555555555556,\"#d8576b\"],[0.6666666666666666,\"#ed7953\"],[0.7777777777777778,\"#fb9f3a\"],[0.8888888888888888,\"#fdca26\"],[1.0,\"#f0f921\"]]}],\"mesh3d\":[{\"type\":\"mesh3d\",\"colorbar\":{\"outlinewidth\":0,\"ticks\":\"\"}}],\"scatter\":[{\"fillpattern\":{\"fillmode\":\"overlay\",\"size\":10,\"solidity\":0.2},\"type\":\"scatter\"}],\"parcoords\":[{\"type\":\"parcoords\",\"line\":{\"colorbar\":{\"outlinewidth\":0,\"ticks\":\"\"}}}],\"scatterpolargl\":[{\"type\":\"scatterpolargl\",\"marker\":{\"colorbar\":{\"outlinewidth\":0,\"ticks\":\"\"}}}],\"bar\":[{\"error_x\":{\"color\":\"#2a3f5f\"},\"error_y\":{\"color\":\"#2a3f5f\"},\"marker\":{\"line\":{\"color\":\"#E5ECF6\",\"width\":0.5},\"pattern\":{\"fillmode\":\"overlay\",\"size\":10,\"solidity\":0.2}},\"type\":\"bar\"}],\"scattergeo\":[{\"type\":\"scattergeo\",\"marker\":{\"colorbar\":{\"outlinewidth\":0,\"ticks\":\"\"}}}],\"scatterpolar\":[{\"type\":\"scatterpolar\",\"marker\":{\"colorbar\":{\"outlinewidth\":0,\"ticks\":\"\"}}}],\"histogram\":[{\"marker\":{\"pattern\":{\"fillmode\":\"overlay\",\"size\":10,\"solidity\":0.2}},\"type\":\"histogram\"}],\"scattergl\":[{\"type\":\"scattergl\",\"marker\":{\"colorbar\":{\"outlinewidth\":0,\"ticks\":\"\"}}}],\"scatter3d\":[{\"type\":\"scatter3d\",\"line\":{\"colorbar\":{\"outlinewidth\":0,\"ticks\":\"\"}},\"marker\":{\"colorbar\":{\"outlinewidth\":0,\"ticks\":\"\"}}}],\"scattermapbox\":[{\"type\":\"scattermapbox\",\"marker\":{\"colorbar\":{\"outlinewidth\":0,\"ticks\":\"\"}}}],\"scatterternary\":[{\"type\":\"scatterternary\",\"marker\":{\"colorbar\":{\"outlinewidth\":0,\"ticks\":\"\"}}}],\"scattercarpet\":[{\"type\":\"scattercarpet\",\"marker\":{\"colorbar\":{\"outlinewidth\":0,\"ticks\":\"\"}}}],\"carpet\":[{\"aaxis\":{\"endlinecolor\":\"#2a3f5f\",\"gridcolor\":\"white\",\"linecolor\":\"white\",\"minorgridcolor\":\"white\",\"startlinecolor\":\"#2a3f5f\"},\"baxis\":{\"endlinecolor\":\"#2a3f5f\",\"gridcolor\":\"white\",\"linecolor\":\"white\",\"minorgridcolor\":\"white\",\"startlinecolor\":\"#2a3f5f\"},\"type\":\"carpet\"}],\"table\":[{\"cells\":{\"fill\":{\"color\":\"#EBF0F8\"},\"line\":{\"color\":\"white\"}},\"header\":{\"fill\":{\"color\":\"#C8D4E3\"},\"line\":{\"color\":\"white\"}},\"type\":\"table\"}],\"barpolar\":[{\"marker\":{\"line\":{\"color\":\"#E5ECF6\",\"width\":0.5},\"pattern\":{\"fillmode\":\"overlay\",\"size\":10,\"solidity\":0.2}},\"type\":\"barpolar\"}],\"pie\":[{\"automargin\":true,\"type\":\"pie\"}]},\"layout\":{\"autotypenumbers\":\"strict\",\"colorway\":[\"#636efa\",\"#EF553B\",\"#00cc96\",\"#ab63fa\",\"#FFA15A\",\"#19d3f3\",\"#FF6692\",\"#B6E880\",\"#FF97FF\",\"#FECB52\"],\"font\":{\"color\":\"#2a3f5f\"},\"hovermode\":\"closest\",\"hoverlabel\":{\"align\":\"left\"},\"paper_bgcolor\":\"white\",\"plot_bgcolor\":\"#E5ECF6\",\"polar\":{\"bgcolor\":\"#E5ECF6\",\"angularaxis\":{\"gridcolor\":\"white\",\"linecolor\":\"white\",\"ticks\":\"\"},\"radialaxis\":{\"gridcolor\":\"white\",\"linecolor\":\"white\",\"ticks\":\"\"}},\"ternary\":{\"bgcolor\":\"#E5ECF6\",\"aaxis\":{\"gridcolor\":\"white\",\"linecolor\":\"white\",\"ticks\":\"\"},\"baxis\":{\"gridcolor\":\"white\",\"linecolor\":\"white\",\"ticks\":\"\"},\"caxis\":{\"gridcolor\":\"white\",\"linecolor\":\"white\",\"ticks\":\"\"}},\"coloraxis\":{\"colorbar\":{\"outlinewidth\":0,\"ticks\":\"\"}},\"colorscale\":{\"sequential\":[[0.0,\"#0d0887\"],[0.1111111111111111,\"#46039f\"],[0.2222222222222222,\"#7201a8\"],[0.3333333333333333,\"#9c179e\"],[0.4444444444444444,\"#bd3786\"],[0.5555555555555556,\"#d8576b\"],[0.6666666666666666,\"#ed7953\"],[0.7777777777777778,\"#fb9f3a\"],[0.8888888888888888,\"#fdca26\"],[1.0,\"#f0f921\"]],\"sequentialminus\":[[0.0,\"#0d0887\"],[0.1111111111111111,\"#46039f\"],[0.2222222222222222,\"#7201a8\"],[0.3333333333333333,\"#9c179e\"],[0.4444444444444444,\"#bd3786\"],[0.5555555555555556,\"#d8576b\"],[0.6666666666666666,\"#ed7953\"],[0.7777777777777778,\"#fb9f3a\"],[0.8888888888888888,\"#fdca26\"],[1.0,\"#f0f921\"]],\"diverging\":[[0,\"#8e0152\"],[0.1,\"#c51b7d\"],[0.2,\"#de77ae\"],[0.3,\"#f1b6da\"],[0.4,\"#fde0ef\"],[0.5,\"#f7f7f7\"],[0.6,\"#e6f5d0\"],[0.7,\"#b8e186\"],[0.8,\"#7fbc41\"],[0.9,\"#4d9221\"],[1,\"#276419\"]]},\"xaxis\":{\"gridcolor\":\"white\",\"linecolor\":\"white\",\"ticks\":\"\",\"title\":{\"standoff\":15},\"zerolinecolor\":\"white\",\"automargin\":true,\"zerolinewidth\":2},\"yaxis\":{\"gridcolor\":\"white\",\"linecolor\":\"white\",\"ticks\":\"\",\"title\":{\"standoff\":15},\"zerolinecolor\":\"white\",\"automargin\":true,\"zerolinewidth\":2},\"scene\":{\"xaxis\":{\"backgroundcolor\":\"#E5ECF6\",\"gridcolor\":\"white\",\"linecolor\":\"white\",\"showbackground\":true,\"ticks\":\"\",\"zerolinecolor\":\"white\",\"gridwidth\":2},\"yaxis\":{\"backgroundcolor\":\"#E5ECF6\",\"gridcolor\":\"white\",\"linecolor\":\"white\",\"showbackground\":true,\"ticks\":\"\",\"zerolinecolor\":\"white\",\"gridwidth\":2},\"zaxis\":{\"backgroundcolor\":\"#E5ECF6\",\"gridcolor\":\"white\",\"linecolor\":\"white\",\"showbackground\":true,\"ticks\":\"\",\"zerolinecolor\":\"white\",\"gridwidth\":2}},\"shapedefaults\":{\"line\":{\"color\":\"#2a3f5f\"}},\"annotationdefaults\":{\"arrowcolor\":\"#2a3f5f\",\"arrowhead\":0,\"arrowwidth\":1},\"geo\":{\"bgcolor\":\"white\",\"landcolor\":\"#E5ECF6\",\"subunitcolor\":\"white\",\"showland\":true,\"showlakes\":true,\"lakecolor\":\"white\"},\"title\":{\"x\":0.05},\"mapbox\":{\"style\":\"light\"}}},\"geo\":{\"domain\":{\"x\":[0.0,1.0],\"y\":[0.0,1.0]},\"projection\":{\"type\":\"albers usa\"},\"center\":{}},\"legend\":{\"title\":{\"text\":\"day_of_week\"},\"tracegroupgap\":0,\"itemsizing\":\"constant\"},\"margin\":{\"t\":60},\"height\":500},                        {\"responsive\": true}                    ).then(function(){\n",
       "                            \n",
       "var gd = document.getElementById('39f1a9c8-c604-4d9c-b839-39c07c85b9cf');\n",
       "var x = new MutationObserver(function (mutations, observer) {{\n",
       "        var display = window.getComputedStyle(gd).display;\n",
       "        if (!display || display === 'none') {{\n",
       "            console.log([gd, 'removed!']);\n",
       "            Plotly.purge(gd);\n",
       "            observer.disconnect();\n",
       "        }}\n",
       "}});\n",
       "\n",
       "// Listen for the removal of the full notebook cells\n",
       "var notebookContainer = gd.closest('#notebook-container');\n",
       "if (notebookContainer) {{\n",
       "    x.observe(notebookContainer, {childList: true});\n",
       "}}\n",
       "\n",
       "// Listen for the clearing of the current output cell\n",
       "var outputEl = gd.closest('.output');\n",
       "if (outputEl) {{\n",
       "    x.observe(outputEl, {childList: true});\n",
       "}}\n",
       "\n",
       "                        })                };                });            </script>        </div>"
      ]
     },
     "metadata": {},
     "output_type": "display_data"
    }
   ],
   "source": [
    "fig = px.scatter_geo(df, lat = 'lat', lon = 'long', projection = 'albers usa',\n",
    "                     size = 'casualties', color = 'day_of_week')\n",
    "fig.update_layout({'height' : 500})\n",
    "fig.show()"
   ]
  },
  {
   "cell_type": "code",
   "execution_count": null,
   "id": "632fda5e-2a32-4c31-a834-e70b43f2511c",
   "metadata": {},
   "outputs": [],
   "source": []
  }
 ],
 "metadata": {
  "kernelspec": {
   "display_name": "DS",
   "language": "python",
   "name": "ds"
  },
  "language_info": {
   "codemirror_mode": {
    "name": "ipython",
    "version": 3
   },
   "file_extension": ".py",
   "mimetype": "text/x-python",
   "name": "python",
   "nbconvert_exporter": "python",
   "pygments_lexer": "ipython3",
   "version": "3.10.12"
  }
 },
 "nbformat": 4,
 "nbformat_minor": 5
}
