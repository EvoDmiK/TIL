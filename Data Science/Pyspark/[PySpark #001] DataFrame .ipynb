{
 "cells": [
  {
   "cell_type": "code",
   "execution_count": 1,
   "id": "016e5308-3bf6-4b40-a059-fb4683de34ca",
   "metadata": {},
   "outputs": [],
   "source": [
    "from datetime import datetime, date\n",
    "\n",
    "from pyspark.sql.functions import date_format, upper\n",
    "from pyspark.sql import SparkSession\n",
    "from pyspark.sql import Row, Column\n",
    "import pandas as pd"
   ]
  },
  {
   "cell_type": "markdown",
   "id": "41255c43-a3dd-419b-9a63-76a89576717d",
   "metadata": {},
   "source": [
    "#### **- pyspark Session 생성**"
   ]
  },
  {
   "cell_type": "code",
   "execution_count": 2,
   "id": "94fee1ed-08c7-43b7-910d-76e652e9ed00",
   "metadata": {},
   "outputs": [
    {
     "name": "stderr",
     "output_type": "stream",
     "text": [
      "Setting default log level to \"WARN\".\n",
      "To adjust logging level use sc.setLogLevel(newLevel). For SparkR, use setLogLevel(newLevel).\n",
      "23/09/20 07:06:08 WARN NativeCodeLoader: Unable to load native-hadoop library for your platform... using builtin-java classes where applicable\n"
     ]
    }
   ],
   "source": [
    "spark = SparkSession.builder.getOrCreate()"
   ]
  },
  {
   "cell_type": "markdown",
   "id": "9a509e43-fc1e-4a53-8f0c-89707d769855",
   "metadata": {},
   "source": [
    "#### **- pyspark DataFrame 생성**\n",
    "- Session에서 createDataFrame을 이용해 데이터 프레임을 생성할 수 있다."
   ]
  },
  {
   "cell_type": "code",
   "execution_count": 3,
   "id": "76f81fc7-62c2-4089-a3e7-d206cec3fa8f",
   "metadata": {},
   "outputs": [
    {
     "data": {
      "text/plain": [
       "DataFrame[a: bigint, b: bigint, c: string, d: date, e: timestamp]"
      ]
     },
     "execution_count": 3,
     "metadata": {},
     "output_type": "execute_result"
    }
   ],
   "source": [
    "df = spark.createDataFrame([\n",
    "    Row(a = 1, b = 2, c = 'str1', d = date(2000, 1, 1), e = datetime(2000, 1, 1, 12, 0)),\n",
    "    Row(a = 2, b = 3, c = 'str2', d = date(2000, 2, 1), e = datetime(2000, 1, 2, 12, 0)),\n",
    "    Row(a = 4, b = 5, c = 'str3', d = date(2000, 3, 1), e = datetime(2000, 1, 3, 12, 0)),\n",
    "])\n",
    "df"
   ]
  },
  {
   "cell_type": "code",
   "execution_count": 4,
   "id": "e5873e55-3554-4c8b-b8bf-288d828a60f4",
   "metadata": {},
   "outputs": [
    {
     "name": "stderr",
     "output_type": "stream",
     "text": [
      "/home/utils/anaconda3/envs/ds/lib/python3.11/site-packages/pyspark/sql/pandas/conversion.py:479: FutureWarning: is_datetime64tz_dtype is deprecated and will be removed in a future version. Check `isinstance(dtype, pd.DatetimeTZDtype)` instead.\n",
      "  if should_localize and is_datetime64tz_dtype(s.dtype) and s.dt.tz is not None:\n"
     ]
    },
    {
     "data": {
      "text/plain": [
       "DataFrame[a: bigint, b: double, c: string, d: date, e: timestamp]"
      ]
     },
     "execution_count": 4,
     "metadata": {},
     "output_type": "execute_result"
    }
   ],
   "source": [
    "## pandas Data Frame을 통해서 spark Data Frame으로 생성할 수 있다.\n",
    "pandas_df = pd.DataFrame({\n",
    "            'a' : [ 1,  2,  3],\n",
    "            'b' : [2., 3., 4.],\n",
    "            'c' : ['str1', 'str2', 'str3'],\n",
    "            'd' : [date(2000, 1, 1), date(2000, 2, 1), date(2000, 3, 1)],\n",
    "            'e' : [datetime(2000, 1, 1, 12, 0), datetime(2000, 1, 2, 12, 0), datetime(2000, 1, 3, 12, 0)],\n",
    "        })\n",
    "\n",
    "df = spark.createDataFrame(pandas_df)\n",
    "df"
   ]
  },
  {
   "cell_type": "code",
   "execution_count": 5,
   "id": "75b27ac5-165f-4c08-aa2e-bd835fea08e9",
   "metadata": {},
   "outputs": [
    {
     "name": "stderr",
     "output_type": "stream",
     "text": [
      "                                                                                \r"
     ]
    },
    {
     "name": "stdout",
     "output_type": "stream",
     "text": [
      "+---+---+----+----------+-------------------+\n",
      "|  a|  b|   c|         d|                  e|\n",
      "+---+---+----+----------+-------------------+\n",
      "|  1|2.0|str1|2000-01-01|2000-01-01 12:00:00|\n",
      "|  2|3.0|str2|2000-02-01|2000-01-02 12:00:00|\n",
      "|  3|4.0|str3|2000-03-01|2000-01-03 12:00:00|\n",
      "+---+---+----+----------+-------------------+\n",
      "\n",
      "root\n",
      " |-- a: long (nullable = true)\n",
      " |-- b: double (nullable = true)\n",
      " |-- c: string (nullable = true)\n",
      " |-- d: date (nullable = true)\n",
      " |-- e: timestamp (nullable = true)\n",
      "\n"
     ]
    }
   ],
   "source": [
    "df.show()\n",
    "df.printSchema()"
   ]
  },
  {
   "cell_type": "code",
   "execution_count": 6,
   "id": "c3a9f23b-7bb1-41fb-b8bb-3d6c3bc8f05a",
   "metadata": {},
   "outputs": [
    {
     "name": "stdout",
     "output_type": "stream",
     "text": [
      "+---+---+----+----------+-------------------+\n",
      "|  a|  b|   c|         d|                  e|\n",
      "+---+---+----+----------+-------------------+\n",
      "|  1|2.0|str1|2000-01-01|2000-01-01 12:00:00|\n",
      "+---+---+----+----------+-------------------+\n",
      "only showing top 1 row\n",
      "\n"
     ]
    }
   ],
   "source": [
    "df.show(1)"
   ]
  },
  {
   "cell_type": "code",
   "execution_count": 7,
   "id": "59484fea-25eb-4e7a-93bd-4a20629b4174",
   "metadata": {},
   "outputs": [
    {
     "data": {
      "text/html": [
       "<table border='1'>\n",
       "<tr><th>a</th><th>b</th><th>c</th><th>d</th><th>e</th></tr>\n",
       "<tr><td>1</td><td>2.0</td><td>str1</td><td>2000-01-01</td><td>2000-01-01 12:00:00</td></tr>\n",
       "<tr><td>2</td><td>3.0</td><td>str2</td><td>2000-02-01</td><td>2000-01-02 12:00:00</td></tr>\n",
       "<tr><td>3</td><td>4.0</td><td>str3</td><td>2000-03-01</td><td>2000-01-03 12:00:00</td></tr>\n",
       "</table>\n"
      ],
      "text/plain": [
       "DataFrame[a: bigint, b: double, c: string, d: date, e: timestamp]"
      ]
     },
     "execution_count": 7,
     "metadata": {},
     "output_type": "execute_result"
    }
   ],
   "source": [
    "## spark.sql.repl.eagerEval.enabled를 통해\n",
    "## pandas DataFrame처럼 표시할 수도 있따.\n",
    "spark.conf.set('spark.sql.repl.eagerEval.enabled', True)\n",
    "df"
   ]
  },
  {
   "cell_type": "code",
   "execution_count": 8,
   "id": "b63ae30a-c51f-4ba4-a9fd-c603ca558579",
   "metadata": {},
   "outputs": [
    {
     "name": "stdout",
     "output_type": "stream",
     "text": [
      "-RECORD 0------------------\n",
      " a   | 1                   \n",
      " b   | 2.0                 \n",
      " c   | str1                \n",
      " d   | 2000-01-01          \n",
      " e   | 2000-01-01 12:00:00 \n",
      "-RECORD 1------------------\n",
      " a   | 2                   \n",
      " b   | 3.0                 \n",
      " c   | str2                \n",
      " d   | 2000-02-01          \n",
      " e   | 2000-01-02 12:00:00 \n",
      "only showing top 2 rows\n",
      "\n"
     ]
    },
    {
     "data": {
      "text/html": [
       "<div>\n",
       "<style scoped>\n",
       "    .dataframe tbody tr th:only-of-type {\n",
       "        vertical-align: middle;\n",
       "    }\n",
       "\n",
       "    .dataframe tbody tr th {\n",
       "        vertical-align: top;\n",
       "    }\n",
       "\n",
       "    .dataframe thead th {\n",
       "        text-align: right;\n",
       "    }\n",
       "</style>\n",
       "<table border=\"1\" class=\"dataframe\">\n",
       "  <thead>\n",
       "    <tr style=\"text-align: right;\">\n",
       "      <th></th>\n",
       "      <th>2</th>\n",
       "      <th>0</th>\n",
       "    </tr>\n",
       "  </thead>\n",
       "  <tbody>\n",
       "    <tr>\n",
       "      <th>a</th>\n",
       "      <td>3</td>\n",
       "      <td>1</td>\n",
       "    </tr>\n",
       "    <tr>\n",
       "      <th>b</th>\n",
       "      <td>4.0</td>\n",
       "      <td>2.0</td>\n",
       "    </tr>\n",
       "    <tr>\n",
       "      <th>c</th>\n",
       "      <td>str3</td>\n",
       "      <td>str1</td>\n",
       "    </tr>\n",
       "    <tr>\n",
       "      <th>d</th>\n",
       "      <td>2000-03-01</td>\n",
       "      <td>2000-01-01</td>\n",
       "    </tr>\n",
       "    <tr>\n",
       "      <th>e</th>\n",
       "      <td>2000-01-03 12:00:00</td>\n",
       "      <td>2000-01-01 12:00:00</td>\n",
       "    </tr>\n",
       "  </tbody>\n",
       "</table>\n",
       "</div>"
      ],
      "text/plain": [
       "                     2                    0\n",
       "a                    3                    1\n",
       "b                  4.0                  2.0\n",
       "c                 str3                 str1\n",
       "d           2000-03-01           2000-01-01\n",
       "e  2000-01-03 12:00:00  2000-01-01 12:00:00"
      ]
     },
     "execution_count": 8,
     "metadata": {},
     "output_type": "execute_result"
    }
   ],
   "source": [
    "## df.show에서 vertical = True 옵션을 주어\n",
    "## column이 row가 되도록 표시할 수 있다.\n",
    "#! df.sample(n).T와 비슷\n",
    "\n",
    "df.show(2, vertical = True)\n",
    "pandas_df.sample(2).T"
   ]
  },
  {
   "cell_type": "code",
   "execution_count": 9,
   "id": "37be5792-54d0-4fa6-a73f-1c599d832bf5",
   "metadata": {},
   "outputs": [
    {
     "name": "stdout",
     "output_type": "stream",
     "text": [
      "['a', 'b', 'c', 'd', 'e']\n",
      "Index(['a', 'b', 'c', 'd', 'e'], dtype='object')\n"
     ]
    }
   ],
   "source": [
    "## df.columns로 pyspark DataFrame의 Column도 확인할 수 있따.\n",
    "## pandas의 df.columns와 동일\n",
    "print(df.columns)\n",
    "print(pandas_df.columns)"
   ]
  },
  {
   "cell_type": "code",
   "execution_count": 10,
   "id": "b4270457-fe44-4685-a25f-ce7ad5233d08",
   "metadata": {},
   "outputs": [
    {
     "name": "stderr",
     "output_type": "stream",
     "text": [
      "[Stage 6:>                                                          (0 + 1) / 1]\r"
     ]
    },
    {
     "name": "stdout",
     "output_type": "stream",
     "text": [
      "+-------+---+---+----+\n",
      "|summary|  a|  b|   c|\n",
      "+-------+---+---+----+\n",
      "|  count|  3|  3|   3|\n",
      "|   mean|2.0|3.0|null|\n",
      "| stddev|1.0|1.0|null|\n",
      "|    min|  1|2.0|str1|\n",
      "|    max|  3|4.0|str3|\n",
      "+-------+---+---+----+\n",
      "\n"
     ]
    },
    {
     "name": "stderr",
     "output_type": "stream",
     "text": [
      "                                                                                \r"
     ]
    }
   ],
   "source": [
    "## df.describe를 통해 통계값을 확인할 수 있다.\n",
    "df.select('a', 'b', 'c').describe().show()"
   ]
  },
  {
   "cell_type": "code",
   "execution_count": 11,
   "id": "d60fb21f-91cc-435b-98b5-bc3079a2ca0b",
   "metadata": {},
   "outputs": [
    {
     "data": {
      "text/plain": [
       "[Row(a=1, b=2.0, c='str1', d=datetime.date(2000, 1, 1), e=datetime.datetime(2000, 1, 1, 12, 0)),\n",
       " Row(a=2, b=3.0, c='str2', d=datetime.date(2000, 2, 1), e=datetime.datetime(2000, 1, 2, 12, 0)),\n",
       " Row(a=3, b=4.0, c='str3', d=datetime.date(2000, 3, 1), e=datetime.datetime(2000, 1, 3, 12, 0))]"
      ]
     },
     "execution_count": 11,
     "metadata": {},
     "output_type": "execute_result"
    }
   ],
   "source": [
    "## df.collect()를 통해 데이터 프레임의 row 데이터를 분산 처리할 수 있다.\n",
    "## 분산 처리를 통해 데이터 프레임이 거대할 경우 메모리 문제를 해결할 수 있다.\n",
    "df.collect()"
   ]
  },
  {
   "cell_type": "code",
   "execution_count": 12,
   "id": "d7815f7b-4d60-47a6-943b-a0f177dbf364",
   "metadata": {},
   "outputs": [
    {
     "data": {
      "text/html": [
       "<div>\n",
       "<style scoped>\n",
       "    .dataframe tbody tr th:only-of-type {\n",
       "        vertical-align: middle;\n",
       "    }\n",
       "\n",
       "    .dataframe tbody tr th {\n",
       "        vertical-align: top;\n",
       "    }\n",
       "\n",
       "    .dataframe thead th {\n",
       "        text-align: right;\n",
       "    }\n",
       "</style>\n",
       "<table border=\"1\" class=\"dataframe\">\n",
       "  <thead>\n",
       "    <tr style=\"text-align: right;\">\n",
       "      <th></th>\n",
       "      <th>a</th>\n",
       "      <th>b</th>\n",
       "      <th>c</th>\n",
       "      <th>d</th>\n",
       "      <th>e</th>\n",
       "    </tr>\n",
       "  </thead>\n",
       "  <tbody>\n",
       "    <tr>\n",
       "      <th>0</th>\n",
       "      <td>1</td>\n",
       "      <td>2.0</td>\n",
       "      <td>str1</td>\n",
       "      <td>2000-01-01</td>\n",
       "      <td>2000-01-01 12:00:00</td>\n",
       "    </tr>\n",
       "    <tr>\n",
       "      <th>1</th>\n",
       "      <td>2</td>\n",
       "      <td>3.0</td>\n",
       "      <td>str2</td>\n",
       "      <td>2000-02-01</td>\n",
       "      <td>2000-01-02 12:00:00</td>\n",
       "    </tr>\n",
       "    <tr>\n",
       "      <th>2</th>\n",
       "      <td>3</td>\n",
       "      <td>4.0</td>\n",
       "      <td>str3</td>\n",
       "      <td>2000-03-01</td>\n",
       "      <td>2000-01-03 12:00:00</td>\n",
       "    </tr>\n",
       "  </tbody>\n",
       "</table>\n",
       "</div>"
      ],
      "text/plain": [
       "   a    b     c           d                    e\n",
       "0  1  2.0  str1  2000-01-01  2000-01-01 12:00:00\n",
       "1  2  3.0  str2  2000-02-01  2000-01-02 12:00:00\n",
       "2  3  4.0  str3  2000-03-01  2000-01-03 12:00:00"
      ]
     },
     "execution_count": 12,
     "metadata": {},
     "output_type": "execute_result"
    }
   ],
   "source": [
    "## df.toPandas()를 통해 pyspark DataFrame을 pandas DataFrame으로 변환할 수도 있다.\n",
    "#! 데이터 프레임에 datetime 형이 있는 경우 포맷을 변경해줘야 한다.\n",
    "df.withColumn('e', date_format('e', 'yyyy-MM-dd HH:mm:ss')).toPandas()"
   ]
  },
  {
   "cell_type": "code",
   "execution_count": 13,
   "id": "a47b264b-67cb-49cf-b51b-b956be8d776e",
   "metadata": {},
   "outputs": [
    {
     "name": "stdout",
     "output_type": "stream",
     "text": [
      "+----+\n",
      "|   c|\n",
      "+----+\n",
      "|str1|\n",
      "|str2|\n",
      "|str3|\n",
      "+----+\n",
      "\n"
     ]
    }
   ],
   "source": [
    "## pandas 처럼 DataFrame의 column을 instance처럼 이용해 값에 접근할 수 있다.\n",
    "df.select(df.c).show()"
   ]
  },
  {
   "cell_type": "code",
   "execution_count": 14,
   "id": "6900c44d-98c8-4708-aca2-6abe84559653",
   "metadata": {},
   "outputs": [
    {
     "name": "stdout",
     "output_type": "stream",
     "text": [
      "+---+---+----+----------+-------------------+-------+\n",
      "|  a|  b|   c|         d|                  e|upper_c|\n",
      "+---+---+----+----------+-------------------+-------+\n",
      "|  1|2.0|str1|2000-01-01|2000-01-01 12:00:00|   STR1|\n",
      "|  2|3.0|str2|2000-02-01|2000-01-02 12:00:00|   STR2|\n",
      "|  3|4.0|str3|2000-03-01|2000-01-03 12:00:00|   STR3|\n",
      "+---+---+----+----------+-------------------+-------+\n",
      "\n"
     ]
    }
   ],
   "source": [
    "## df.withColumn 메소드를 이용해 새로운 columns을 생성할 수 있다.\n",
    "df.withColumn('upper_c', upper(df.c)).show()"
   ]
  },
  {
   "cell_type": "code",
   "execution_count": null,
   "id": "f6e669c6-a1ae-4dbf-9f01-dca2dd4d3b03",
   "metadata": {},
   "outputs": [],
   "source": []
  }
 ],
 "metadata": {
  "kernelspec": {
   "display_name": "DS",
   "language": "python",
   "name": "ds"
  },
  "language_info": {
   "codemirror_mode": {
    "name": "ipython",
    "version": 3
   },
   "file_extension": ".py",
   "mimetype": "text/x-python",
   "name": "python",
   "nbconvert_exporter": "python",
   "pygments_lexer": "ipython3",
   "version": "3.11.5"
  }
 },
 "nbformat": 4,
 "nbformat_minor": 5
}
