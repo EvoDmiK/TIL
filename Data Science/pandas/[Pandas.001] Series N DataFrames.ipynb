{
 "cells": [
  {
   "cell_type": "code",
   "execution_count": 1,
   "id": "715f5551-d996-4d3c-a3db-ef8fa417dea9",
   "metadata": {},
   "outputs": [],
   "source": [
    "import pandas as pd"
   ]
  },
  {
   "cell_type": "code",
   "execution_count": 2,
   "id": "010be12b-0ac8-406b-87ee-1ab138142f8a",
   "metadata": {},
   "outputs": [
    {
     "name": "stdout",
     "output_type": "stream",
     "text": [
      "Dimension of Groceries :   1\n",
      "    Shape of Groceries :  (4,)\n",
      "    Index of Groceries :  Index(['eggs', 'apples', 'milk', 'bread'], dtype='object')\n",
      "     Data of Groceries : [30 6 'Yes' 'No']\n",
      "     Size of Groceries :   4\n"
     ]
    }
   ],
   "source": [
    "## series는 1차원 배열 데이터이며, 파이썬의 리스트나 넘파이의 ndarray와 다른 점은\n",
    "## series 각각의 원소에 인덱스 레이블을 값을 지정해 줄 수 있다.\n",
    "groceries = pd.Series(data  = [    30,        6,  'Yes',    'No'],\n",
    "                      index = ['eggs', 'apples', 'milk', 'bread'])\n",
    "\n",
    "## pd.series의 성질들\n",
    "print(f'Dimension of Groceries :   {groceries.ndim}')\n",
    "print(f'    Shape of Groceries :  {groceries.shape}')\n",
    "print(f'    Index of Groceries :  {groceries.index}')\n",
    "print(f'     Data of Groceries : {groceries.values}')\n",
    "print(f'     Size of Groceries :   {groceries.size}')"
   ]
  },
  {
   "cell_type": "code",
   "execution_count": 6,
   "id": "21d6facf-c12d-4020-9a94-213cc43f5adf",
   "metadata": {},
   "outputs": [
    {
     "name": "stdout",
     "output_type": "stream",
     "text": [
      "is 'bananas' in groceries? : False\n",
      "Yes \n",
      "\n",
      "eggs     30\n",
      "milk    Yes\n",
      "dtype: object\n"
     ]
    }
   ],
   "source": [
    "## 특정 값이 series의 레이블 인덱스 값 안에 있는지 확인하고 싶으면, 아래와 같이 사용한다.\n",
    "print(f\"is 'bananas' in groceries? : {'bananas' in groceries}\")\n",
    "\n",
    "## series에서 특정 레이블의 값을 가져 오려면, 파이썬의 딕셔너리에서 키값으로 얻는 방법으로 사용한다.\n",
    "## 한 개의 레이블을 이용해 값을 가져 오려면 배열을 이용한 인덱싱을 한다.\n",
    "print(groceries['milk'], '\\n')\n",
    "\n",
    "## 여러개의 레이블을 이용해 값을 가져오려면 이중 배열을 이용한 인덱싱을 한다.\n",
    "print(groceries[['eggs', 'milk']])"
   ]
  },
  {
   "cell_type": "code",
   "execution_count": null,
   "id": "2f97c664-16e1-4eb2-9f96-326803d39189",
   "metadata": {},
   "outputs": [],
   "source": []
  }
 ],
 "metadata": {
  "kernelspec": {
   "display_name": "dove",
   "language": "python",
   "name": "dove"
  },
  "language_info": {
   "codemirror_mode": {
    "name": "ipython",
    "version": 3
   },
   "file_extension": ".py",
   "mimetype": "text/x-python",
   "name": "python",
   "nbconvert_exporter": "python",
   "pygments_lexer": "ipython3",
   "version": "3.8.13"
  }
 },
 "nbformat": 4,
 "nbformat_minor": 5
}
