{
 "cells": [
  {
   "cell_type": "markdown",
   "metadata": {},
   "source": [
    "### **1. 수식을 표현해보기**\n",
    "#### 1-1. 그리스 문자\n",
    "- 주피터에서 수식을 사용하려면 LaTeX라는 포맷을 써야한다.\n",
    "    - 문장 안에서 일부 단어를 수식으로 사용하는 인라인 수식은 달러기호 ($) 사이에 수식을 작성한다.  \n",
    "    - 수식과 독립된 문단이 되는 디스플레이 수식은 달러 두개 기호 ($$)사이에 수식을 입력하면 된다.\n",
    "    - 그리스어 알파벳은 영어 표기 법 앞에 백슬래시 기호를 붙인다.\n",
    "\n",
    "|대문자|소문자|한글 표기법|LaTex 표기|\n",
    "|---|---|---|---|\n",
    "|A|$$\\alpha$$|알파|\\alpha|\n",
    "|B|$$\\beta$$|베타|\\beta|\n",
    "|$$\\Gamma$$|$$\\gamma$$|감마|\\Gamma, \\gamma|\n",
    "|$$\\Delta$$|$$\\delta$$|델타|\\Deta, \\dela|\n",
    "|E|$$\\epsilon$$|엡실론|\\epsilon|\n",
    "|Z|$$\\zeta$$|제타|\\zeta|\n",
    "|H|$$\\eta$$|에타|\\eta|\n",
    "|$$\\Theta$$|$$\\theta$$|쎄타|\\Theta, \\theta|\n",
    "|K|$$\\kappa$$|카파|\\kappa|\n",
    "|$$\\Lambda$$|$$\\lambda$$|람다|\\Lambda, \\lambda|\n",
    "|M|$$\\mu$$|뮤|\\mu|\n",
    "|N|$$\\nu$$|누|\\nu|\n",
    "|$$\\Xi$$|$$\\xi$$|크사이|\\Xi, \\xi|\n",
    "|$$\\Pi$$|$$\\pi$$|파이|\\Pi, \\pi|\n",
    "|T|$$\\tau$$|타우|\\tau|\n",
    "|$$\\Phi$$|$$\\phi$$|파이|\\Phi, \\phi|\n",
    "|X|$$\\chi$$|카이|\\chi|\n",
    "|$$\\Psi$$|$$\\psi$$|프사이|\\Psi, \\psi|\n",
    "|$$\\Omega$$|$$\\omega$$|오메가|\\Omega, \\omega|"
   ]
  },
  {
   "cell_type": "markdown",
   "metadata": {},
   "source": [
    "#### 1-2. 수열과 집합의 합과 곱\n",
    "##### **수열 (sequence)**\n",
    "- N개의 숫자 또는 변수가 순서대로 나열된 것.\n",
    "    - 문자에 붙은 아래첨자느 순서를 나타내는 숫자로 인덱스(index)라고 한다.\n",
    "    - 수열이 긴 경우에는 $...$ (dots)기호를 이용해 생략할 수 있다.\n",
    "    - e.g.) $1, 2, 3, 4, ...$, $a_1, a_2, a_3, ..., a_N$\n",
    " \n",
    "##### **집합 (set)**\n",
    "- 순서가 중요하지 않은 원소들의 모임.\n",
    "    - 집합에서도 원소가 많은 경우 $...$ 기호로 생략\n",
    "    - 1부터 N까지의 수열은 $x_{1:N}$, 집합은 $\\{x_i\\}_N$으로 표기할 수 있다.\n",
    "    - e.g.) $\\{1, 2, 3, 4\\}$, $\\{a_1, a_2,...,a_n\\}$\n",
    " \n",
    "##### **수열의 합과 곱**\n",
    "- 수열의 합을 나타낼 때는 $\\Sigma$, 수열의 곱을 나타낼 때는 $\\Pi$로 나타낸다.\n",
    "    - 합과 곱 기호 아래에는 인덱스의 시작값, 위에는 인덱스의 끝 값을 표시한다.\n",
    "    - 곱은 $\\times$가 아닌, $\\cdot$으로 표기하거나 기호를 생략한다.\n",
    "      $$1)\\;\\;\\; \\sum^{N}_{i=1}x_i\\;=\\;x_1+x_2+...+x_N$$\n",
    "      $$2)\\;\\;\\; \\prod^{N}_{i=1}x_i\\;=\\;x_1\\cdot x_2\\cdot ... \\cdot x_N$$\n",
    "- 합이나 곱을 중첩해서 사용할 수도 있는데, 괄호를 써도 되고 생략해도 된다.\n",
    "  $$1)\\;\\;\\; \\sum^{N}_{i=1}(\\sum^{M}_{j=1} x_{ij})\\;=\\; \\sum^{N}_{i=1} \\sum^{M}_{j=1} x_{ij}\\;=\\;x_{11}+x_{12}+...+x_{NM}$$\n",
    "  $$2)\\;\\;\\; \\prod^{N}_{i=1}(\\prod^{M}_{j=1} x_{ij})\\;=\\; \\prod^{N}_{i=1} \\prod^{M}_{j=1} x_{ij}\\;=\\;x_{11}\\cdot x_{12}\\cdot ...\\cdot x_{NM}$$\n",
    "\n",
    "##### **연습문제 #001.**\n",
    "> 다음 수식을 풀어 써라. 이 수식들은 이후에 머신러닝 모형에 등장할 수식이다.  \n",
    "> Q1. 이 식은 분류 모형 중의 하나인 SVM 모형에 나온다.  \n",
    "> &nbsp;&nbsp;&nbsp;&nbsp;&nbsp;&nbsp;$\\sum^{3}_{i=1}\\sum^{3}_{j=1} a_ia_jy_iy_jx_ix_j$  \n",
    "> Q2.이 식은 특잇값 분해 (singular value decomposition)에 나온다.  \n",
    "> &nbsp;&nbsp;&nbsp;&nbsp;&nbsp;&nbsp;$\\sum^{3}_{k=1}\\sum^{3}_{i=1} \\sigma_i^2(v_iw_k)^2$  \n",
    "> Q3. 이 식은 카테고리분포(categorical distribution)의 추정에 사용된다.    \n",
    "> &nbsp;&nbsp;&nbsp;&nbsp;&nbsp;&nbsp; $\\prod^{4}_{i=1}\\prod^{4}_{k=1}\\theta^{X_{i,k}}_{k}$  \n",
    "> Q4. 가우시안 혼합 모형 (Gaussian mixture model)에 다음과 비슷한 수식이 나온다.  \n",
    "> &nbsp;&nbsp;&nbsp;&nbsp;&nbsp;&nbsp; $\\prod^{4}_{i=1}\\sum^{2}_{k=1}\\pi_kx_i\\mu_k$\n",
    "\n",
    "##### **답**\n",
    "> A1. $\\sum^{3}_{i=1}\\sum^{3}_{j=1} a_ia_jy_iy_jx_ix_j$  \n",
    "> &nbsp;&nbsp;&nbsp;&nbsp;&nbsp;&nbsp;$\\;=\\; a_1a_1y_1y_1x_1x_1\\;+\\;a_1a_2y_1y_2x_1x_2\\;+...+\\;a_3a_3y_3y_3x_3x_3$  \n",
    "> A2. $\\sum^{3}_{k=1}\\sum^{3}_{j=1} \\sigma_i^2(v_iw_k)^2$  \n",
    "> &nbsp;&nbsp;&nbsp;&nbsp;&nbsp;&nbsp;$\\;=\\;\\sigma_1^2(v_1w_1)^2\\;+\\;\\sigma_2^2(v_2w_1)^2\\;+...+\\;\\sigma_3^2(v_3w_3)^2$"
   ]
  },
  {
   "cell_type": "code",
   "execution_count": null,
   "metadata": {},
   "outputs": [],
   "source": []
  },
  {
   "cell_type": "code",
   "execution_count": null,
   "metadata": {},
   "outputs": [],
   "source": []
  },
  {
   "cell_type": "code",
   "execution_count": null,
   "metadata": {},
   "outputs": [],
   "source": []
  },
  {
   "cell_type": "code",
   "execution_count": null,
   "metadata": {},
   "outputs": [],
   "source": []
  },
  {
   "cell_type": "code",
   "execution_count": null,
   "metadata": {},
   "outputs": [],
   "source": []
  },
  {
   "cell_type": "code",
   "execution_count": null,
   "metadata": {},
   "outputs": [],
   "source": []
  },
  {
   "cell_type": "code",
   "execution_count": null,
   "metadata": {},
   "outputs": [],
   "source": []
  },
  {
   "cell_type": "code",
   "execution_count": null,
   "metadata": {},
   "outputs": [],
   "source": []
  },
  {
   "cell_type": "markdown",
   "metadata": {},
   "source": [
    "# **99. 참고자료**\n",
    "## **99-1. 도서**  \n",
    "## **99-2. 논문, 학술지**\n",
    "\n",
    "## **99-3. 웹 사이트**\n",
    "\n",
    "## **99-4. 데이터셋 출처**"
   ]
  },
  {
   "cell_type": "code",
   "execution_count": null,
   "metadata": {},
   "outputs": [],
   "source": []
  }
 ],
 "metadata": {
  "accelerator": "GPU",
  "colab": {
   "authorship_tag": "ABX9TyPz9VtDNpThZgOFDvRU/rPu",
   "collapsed_sections": [],
   "include_colab_link": true,
   "provenance": []
  },
  "kernelspec": {
   "display_name": "DS",
   "language": "python",
   "name": "ds"
  },
  "language_info": {
   "codemirror_mode": {
    "name": "ipython",
    "version": 3
   },
   "file_extension": ".py",
   "mimetype": "text/x-python",
   "name": "python",
   "nbconvert_exporter": "python",
   "pygments_lexer": "ipython3",
   "version": "3.10.12"
  }
 },
 "nbformat": 4,
 "nbformat_minor": 4
}
