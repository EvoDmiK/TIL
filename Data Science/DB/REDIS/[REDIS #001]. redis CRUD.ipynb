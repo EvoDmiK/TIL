{
 "cells": [
  {
   "cell_type": "code",
   "execution_count": 1,
   "id": "2d616fc6-7d77-497a-a878-cd21ab4e73d2",
   "metadata": {},
   "outputs": [],
   "source": [
    "import json\n",
    "import os\n",
    "\n",
    "from easydict import EasyDict as edict\n",
    "import redis"
   ]
  },
  {
   "cell_type": "code",
   "execution_count": 2,
   "id": "d86baad4-c752-4579-a936-8b0718c2d94a",
   "metadata": {},
   "outputs": [],
   "source": [
    "ROOT_PATH   = '/'.join(os.getcwd().split(os.path.sep)[:-4])\n",
    "CONFIG_PATH = f'{ROOT_PATH}/utils/configs/config.json'\n",
    "PORTS_PATH  = f'{ROOT_PATH}/utils/configs/ports.json'\n",
    "\n",
    "CONFIG      = edict(json.loads(open(CONFIG_PATH, 'r').read()))\n",
    "PORTS       = edict(json.loads(open(PORTS_PATH, 'r').read()))"
   ]
  },
  {
   "cell_type": "code",
   "execution_count": 3,
   "id": "7fafddb5-eb5d-49f3-a45d-86640d2834ce",
   "metadata": {},
   "outputs": [
    {
     "data": {
      "text/plain": [
       "True"
      ]
     },
     "execution_count": 3,
     "metadata": {},
     "output_type": "execute_result"
    }
   ],
   "source": [
    "host        = CONFIG.global_host\n",
    "port        = PORTS.redis_port\n",
    "\n",
    "conn        = redis.Redis(host = host, port = port, decode_responses = True)\n",
    "conn.ping()"
   ]
  },
  {
   "cell_type": "code",
   "execution_count": 4,
   "id": "82fe2bd5-417c-42cb-8404-435a50b844e7",
   "metadata": {},
   "outputs": [
    {
     "name": "stdout",
     "output_type": "stream",
     "text": [
      "(0, ['animals', 'birds', 'Dove'])\n",
      "(0, ['animals', 'birds', 'Dove'])\n"
     ]
    },
    {
     "data": {
      "text/plain": [
       "'Kim'"
      ]
     },
     "execution_count": 4,
     "metadata": {},
     "output_type": "execute_result"
    }
   ],
   "source": [
    "## DB 안에 저장되어 있는 key 값들을 조회하기 위해서 keys를 이용\n",
    "\n",
    "#! DB 안에 저장되어 있는 key 값들이 많은 경우 오랜 시간이 걸리고, 다른 명령을 처리하지 못하기 때문에\n",
    "#! redis server를 운영 중에는 전체 키를 조회하는 keys *를 사용해서는 안된다.\n",
    "\n",
    "#! 대신 scan 명령어로 일정 수의 키를 반복 수행 (한 번에 약 10개씩 조회)\n",
    "print(conn.scan())\n",
    "## 값을 하나씩 저장하기 위해서는 set을 이용\n",
    "conn.set('Dove', 'Kim')\n",
    "print(conn.scan())\n",
    "\n",
    "## 값을 하나씩 가져오기 위해서는 get을 이용\n",
    "conn.get('Dove')"
   ]
  },
  {
   "cell_type": "code",
   "execution_count": 5,
   "id": "84180f39-8843-4882-9e73-80fb4f897d2e",
   "metadata": {},
   "outputs": [
    {
     "name": "stdout",
     "output_type": "stream",
     "text": [
      "(0, ['animals', 'birds', 'Lion', 'Dove', 'Pigeon'])\n"
     ]
    },
    {
     "data": {
      "text/plain": [
       "['Kim', 'Park']"
      ]
     },
     "execution_count": 5,
     "metadata": {},
     "output_type": "execute_result"
    }
   ],
   "source": [
    "## 한 번에 여러개의 키, 값을 넣기 위해서는 데이터를 \n",
    "## 딕셔너리에 넣고mset을 이용\n",
    "data = {\n",
    "            'Pigeon' : 'Lee',\n",
    "            'Lion'   : 'Park'\n",
    "        } \n",
    "\n",
    "conn.mset(data)\n",
    "print(conn.scan())\n",
    "\n",
    "## 한 번에 여러개의 키를 이용하여 값을 얻기 위해서는\n",
    "## mget을 이용\n",
    "conn.mget('Dove', 'Lion')"
   ]
  },
  {
   "cell_type": "code",
   "execution_count": 6,
   "id": "6c13ca5a-ce73-4dec-8a85-c9a47ec4fd14",
   "metadata": {},
   "outputs": [
    {
     "data": {
      "text/plain": [
       "(0, ['animals', 'birds', 'Dove'])"
      ]
     },
     "execution_count": 6,
     "metadata": {},
     "output_type": "execute_result"
    }
   ],
   "source": [
    "## 데이터를 삭제하기 위해서는 delete을 이용\n",
    "#* 한 번에 여러개도 삭제 가능\n",
    "conn.delete('Pigeon', 'Lion')\n",
    "conn.scan()"
   ]
  },
  {
   "cell_type": "code",
   "execution_count": 7,
   "id": "4f9e26ba-1165-42a3-b3ee-c25610440a8b",
   "metadata": {},
   "outputs": [
    {
     "name": "stdout",
     "output_type": "stream",
     "text": [
      "(0, ['animals', 'birds', 'Dove'])\n",
      "['pigeon', 'crow', 'raven', 'sparrow', 'pigeon', 'crow', 'raven', 'sparrow']\n",
      "['crow', 'raven']\n",
      "\n",
      "(0, ['animals', 'birds', 'Dove'])\n",
      "{'lion', 'hippo', 'tiger'}\n"
     ]
    }
   ],
   "source": [
    "## list를 이용하여 하나의 키에 여러개의 값을 넣기 위해선 lpush를 이용한다.\n",
    "birds = ['sparrow', 'raven', 'crow', 'pigeon']\n",
    "conn.lpush('birds', *birds)\n",
    "print(conn.scan())\n",
    "\n",
    "## list 형을 값으로 가지고 있는 데이터를 조회하기 위해서는 lrange를 이용한다.\n",
    "#! lrange('조회하려는 키', 시작 인덱스, 끝 인덱스)\n",
    "print(conn.lrange('birds', 0, -1))\n",
    "print(conn.lrange('birds', 1, 2))\n",
    "print()\n",
    "## set 데이터를 입력하기 위해서는 sadd를 이용한다.\n",
    "#! 이 때는 중복된 데이터는 하나로 합쳐진다.\n",
    "animals = ['tiger', 'hippo', 'lion', 'lion']\n",
    "conn.sadd('animals', *animals)\n",
    "print(conn.scan())\n",
    "\n",
    "## set 데이터를 값으로 가지고 있는 데이터를 조회하기 위해서는 smember를 이용한다.\n",
    "print(conn.smembers('animals'))"
   ]
  },
  {
   "cell_type": "code",
   "execution_count": null,
   "id": "d74ef348-5470-4006-a12a-8b4f9fd266af",
   "metadata": {},
   "outputs": [],
   "source": []
  }
 ],
 "metadata": {
  "kernelspec": {
   "display_name": "dove",
   "language": "python",
   "name": "dove"
  },
  "language_info": {
   "codemirror_mode": {
    "name": "ipython",
    "version": 3
   },
   "file_extension": ".py",
   "mimetype": "text/x-python",
   "name": "python",
   "nbconvert_exporter": "python",
   "pygments_lexer": "ipython3",
   "version": "3.8.13"
  }
 },
 "nbformat": 4,
 "nbformat_minor": 5
}
