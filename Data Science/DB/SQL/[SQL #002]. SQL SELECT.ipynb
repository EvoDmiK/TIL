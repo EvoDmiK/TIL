{
 "cells": [
  {
   "cell_type": "markdown",
   "id": "54ed91f4-f362-45c9-a0e6-a388fa4f66b7",
   "metadata": {},
   "source": [
    "# **0. 참고자료**\n",
    "## **0-1. 도서** \n",
    "- 소문난 명강의 - 김상형의 SQL 정복\n",
    "\n",
    "## **0-2. 논문, 학술지**\n",
    "\n",
    "## **0-3. 웹 사이트**\n",
    "\n",
    "## **0-4. 데이터셋 출처**\n"
   ]
  },
  {
   "cell_type": "code",
   "execution_count": 1,
   "id": "4165d586-96c7-4d78-982e-c804fd2fd191",
   "metadata": {},
   "outputs": [
    {
     "name": "stdout",
     "output_type": "stream",
     "text": [
      "[INFO] config.json 파일을 로딩합니다.\n",
      "[INFO] ports.json 파일을 로딩합니다.\n"
     ]
    }
   ],
   "source": [
    "import json\n",
    "import sys\n",
    "import os\n",
    "\n",
    "from easydict import EasyDict as edict\n",
    "import pymysql as sql\n",
    "\n",
    "## 하위 폴더에 있는 패키지 로딩을 위한 밑작업\n",
    "SEP       = os.path.sep\n",
    "MISC_PATH = SEP.join(os.getcwd().split(SEP)[:-1])\n",
    "ROOT_PATH = SEP.join(os.getcwd().split(SEP)[:-3])\n",
    "sys.path.append(MISC_PATH)\n",
    "\n",
    "from misc.config import *"
   ]
  },
  {
   "cell_type": "code",
   "execution_count": 2,
   "id": "8f7b5857-e5a1-4738-9560-5cc164f7c4d1",
   "metadata": {},
   "outputs": [],
   "source": [
    "host   = CONFIGS.global_host\n",
    "port   = PORTS.sql_port\n",
    "user   = CONFIGS.sql_user\n",
    "passwd = CONFIGS.sql_passwd\n",
    "\n",
    "## 노트북 재시작할때마다 DB삭제용 플래그\n",
    "not_first = True"
   ]
  },
  {
   "cell_type": "code",
   "execution_count": 3,
   "id": "a9331c21-b400-44a5-baf2-d66c2b5c2a79",
   "metadata": {},
   "outputs": [],
   "source": [
    "## DB 서버에 연결\n",
    "conn   = sql.connect(host     = host, user = user, port = port,\n",
    "                     password = passwd)\n",
    "\n",
    "cursor = conn.cursor()"
   ]
  },
  {
   "cell_type": "code",
   "execution_count": 4,
   "id": "d53f4bf3-43cc-4b03-a7ef-a5ee73440c79",
   "metadata": {},
   "outputs": [],
   "source": [
    "def print_results(text: str, results: tuple):\n",
    "    \n",
    "    print(f'{text}')\n",
    "    for result in results: print(result)\n",
    "    print('\\n')"
   ]
  },
  {
   "cell_type": "code",
   "execution_count": 5,
   "id": "8272ff11-dfad-4700-bf40-36f4b48c8360",
   "metadata": {},
   "outputs": [
    {
     "name": "stdout",
     "output_type": "stream",
     "text": [
      "[before]\n",
      "('DoveNest',)\n",
      "('information_schema',)\n",
      "('mysql',)\n",
      "('performance_schema',)\n",
      "('sys',)\n",
      "\n",
      "\n",
      "[middle]\n",
      "('DoveNest',)\n",
      "('dummy',)\n",
      "('information_schema',)\n",
      "('mysql',)\n",
      "('performance_schema',)\n",
      "('study',)\n",
      "('sys',)\n",
      "\n",
      "\n",
      "[after]\n",
      "('DoveNest',)\n",
      "('information_schema',)\n",
      "('mysql',)\n",
      "('performance_schema',)\n",
      "('study',)\n",
      "('sys',)\n",
      "\n",
      "\n"
     ]
    }
   ],
   "source": [
    "if not_first: cursor.execute('drop database study')\n",
    "\n",
    "query = 'show databases'\n",
    "cursor.execute(query)\n",
    "print_results('[before]', cursor.fetchall())\n",
    "\n",
    "## 생성하고자 하는 DB가 없는 경우에만 생성\n",
    "cursor.execute('create database if not exists study')\n",
    "cursor.execute('create database if not exists dummy')\n",
    "\n",
    "cursor.execute(query)\n",
    "print_results('[middle]', cursor.fetchall())\n",
    "\n",
    "## DB 제거\n",
    "cursor.execute('drop database dummy')\n",
    "cursor.execute(query)\n",
    "print_results('[after]', cursor.fetchall())"
   ]
  },
  {
   "cell_type": "code",
   "execution_count": 6,
   "id": "323ee35a-2bf1-4aab-bf22-ba55c381a001",
   "metadata": {},
   "outputs": [
    {
     "name": "stdout",
     "output_type": "stream",
     "text": [
      "[before]\n",
      "\n",
      "\n",
      "[middle]\n",
      "('dummy',)\n",
      "('tCity',)\n",
      "\n",
      "\n",
      "[after]\n",
      "('tCity',)\n",
      "\n",
      "\n"
     ]
    }
   ],
   "source": [
    "## 사용하고자 하는 DB 선택\n",
    "cursor.execute('use study')\n",
    "\n",
    "query = 'show tables'\n",
    "cursor.execute(query)\n",
    "print_results('[before]', cursor.fetchall())\n",
    "\n",
    "## 마찬가지로 생성하고자 하는 이름의 테이블이 없을때만 테이블 생성\n",
    "crud_query = '''create table if not exists tCity\n",
    "                (idx INTEGER AUTO_INCREMENT PRIMARY KEY,\n",
    "                 NAME VARCHAR(20) NOT NULL,\n",
    "                 AREA INTEGER NOT NULL,\n",
    "                 POPU INTEGER NOT NULL,\n",
    "                 METRO VARCHAR(5) NOT NULL,\n",
    "                 REGION VARCHAR(10) NOT NULL)\n",
    "             '''\n",
    "\n",
    "dummy_query = '''\n",
    "                create table if not exists dummy (idx INTEGER)\n",
    "              '''\n",
    "\n",
    "cursor.execute(crud_query)\n",
    "cursor.execute(dummy_query)\n",
    "cursor.execute(query)\n",
    "print_results('[middle]', cursor.fetchall())\n",
    "\n",
    "## 테이블 제거\n",
    "cursor.execute('drop table dummy')\n",
    "cursor.execute(query)\n",
    "print_results('[after]', cursor.fetchall())"
   ]
  },
  {
   "cell_type": "code",
   "execution_count": 7,
   "id": "eb777487-58de-4063-9fb6-d4c3ec409c32",
   "metadata": {},
   "outputs": [],
   "source": [
    "## 데이터 추가하는 쿼리함수\n",
    "def insert(columns: list, values: list, table_name: str = 'tCity'):\n",
    "    \n",
    "    columns = ', '.join(columns)\n",
    "    v       = ', '.join(['%s' for _ in values])\n",
    "    query   = f'insert into {table_name} ({columns}) values ({v})'\n",
    "    \n",
    "    cursor.execute(query, values)"
   ]
  },
  {
   "cell_type": "markdown",
   "id": "1a2a45eb-f69f-4458-87f1-28db15d8f28e",
   "metadata": {},
   "source": [
    "## **1. 데이터 조회 (SELECT 문)**\n",
    "~~~ SQL\n",
    "    SELECT '필드명' FROM '테이블 이름' [WHERE 조건][ORDER BY 정렬기준];\n",
    "~~~\n",
    "- []안에 있는 옵션들은 생략가능하다.\n",
    "- 필드명에 '*'을 입력하면 모든 필드의 데이터를 가져올 수 있다.\n",
    "    - 모든 필드의 데이터를 가져올 수는 있지만, 출력 결과가 가변적이라  \n",
    "      위험한 경우도 있다.  \n",
    "   - 코드가 불명확해지고, 어플리케이션의 메모리가 낭비되어 지양하는 것이 좋다. \n",
    "          "
   ]
  },
  {
   "cell_type": "code",
   "execution_count": 8,
   "id": "15bfa37d-1eb2-4aa0-9dca-cf91cff2c23d",
   "metadata": {},
   "outputs": [],
   "source": [
    "## 데이터 조회하는 쿼리함수\n",
    "def select(column:str =  '*', table_name   : str = 'tCity', \n",
    "           cond  :str = None, order_column : str = None, order = None):\n",
    "    \n",
    "    query = f'select {column} from {table_name} '\n",
    "    \n",
    "    ## 조회하는데 조건이 있을 경우에 where문 추가\n",
    "    if cond != None: query += f'where {cond}'\n",
    "    \n",
    "    ## 조회하는데 정렬하고자 하는 컬럼이 있다면 order by문 추가\n",
    "    if order_column != None: \n",
    "        order  = 'desc' if order != None else 'asc'\n",
    "        query += f'order by {order_column} {order}'\n",
    "    \n",
    "    cursor.execute(query)"
   ]
  },
  {
   "cell_type": "code",
   "execution_count": 9,
   "id": "a999ca0e-c925-423c-b472-fe2f724d0ede",
   "metadata": {},
   "outputs": [
    {
     "name": "stdout",
     "output_type": "stream",
     "text": [
      "[before]\n",
      "\n",
      "\n",
      "[after]\n",
      "(1, '부산', 765, 342, 'y', '경상')\n",
      "(2, '서울', 605, 974, 'y', '경기')\n",
      "(3, '순천', 910, 27, 'n', '전라')\n",
      "(4, '오산', 42, 21, 'n', '경기')\n",
      "(5, '전주', 205, 65, 'n', '전라')\n",
      "(6, '청주', 940, 83, 'n', '충청')\n",
      "(7, '춘천', 1116, 27, 'n', '강원')\n",
      "(8, '홍천', 1819, 7, 'n', '강원')\n",
      "\n",
      "\n"
     ]
    }
   ],
   "source": [
    "select()\n",
    "print_results('[before]', cursor.fetchall())\n",
    "\n",
    "\n",
    "column = ['NAME', 'AREA', 'POPU', 'METRO', 'REGION']\n",
    "values = [\n",
    "          ['부산',    765,    342,     'y',    '경상'],\n",
    "          ['서울',    605,    974,     'y',    '경기'],\n",
    "          ['순천',    910,     27,     'n',    '전라'],\n",
    "          ['오산',     42,     21,     'n',    '경기'],\n",
    "          ['전주',    205,     65,     'n',    '전라'],\n",
    "          ['청주',    940,     83,     'n',    '충청'],\n",
    "          ['춘천',   1116,     27,     'n',    '강원'],\n",
    "          ['홍천',   1819,      7,     'n',    '강원'],\n",
    "         ]\n",
    "\n",
    "for value in values: insert(column, value)\n",
    "\n",
    "select()\n",
    "print_results('[after]', cursor.fetchall())"
   ]
  },
  {
   "cell_type": "code",
   "execution_count": 10,
   "id": "825e0a6a-a429-4f82-a13f-72934ab73102",
   "metadata": {},
   "outputs": [
    {
     "name": "stdout",
     "output_type": "stream",
     "text": [
      "[order test]\n",
      "('경기', 974)\n",
      "('경상', 342)\n",
      "('충청', 83)\n",
      "('전라', 65)\n",
      "('전라', 27)\n",
      "('강원', 27)\n",
      "('경기', 21)\n",
      "('강원', 7)\n",
      "\n",
      "\n"
     ]
    }
   ],
   "source": [
    "select('REGION, POPU', order_column = 'POPU', order = 'desc')\n",
    "print_results('[order test]', cursor.fetchall())"
   ]
  },
  {
   "cell_type": "code",
   "execution_count": 11,
   "id": "6ff22314-179d-4c94-b782-804d1e201e11",
   "metadata": {},
   "outputs": [
    {
     "name": "stdout",
     "output_type": "stream",
     "text": [
      "[condition test]\n",
      "(8, '홍천', 1819, 7, 'n', '강원')\n",
      "(4, '오산', 42, 21, 'n', '경기')\n",
      "(3, '순천', 910, 27, 'n', '전라')\n",
      "(7, '춘천', 1116, 27, 'n', '강원')\n",
      "(5, '전주', 205, 65, 'n', '전라')\n",
      "(6, '청주', 940, 83, 'n', '충청')\n",
      "\n",
      "\n"
     ]
    }
   ],
   "source": [
    "select(cond = 'METRO = \"n\"', order_column = 'POPU')\n",
    "print_results('[condition test]', cursor.fetchall())"
   ]
  },
  {
   "cell_type": "code",
   "execution_count": 12,
   "id": "3c902a0b-f6c2-47e0-9d97-257c5ba75292",
   "metadata": {},
   "outputs": [
    {
     "data": {
      "text/plain": [
       "0"
      ]
     },
     "execution_count": 12,
     "metadata": {},
     "output_type": "execute_result"
    }
   ],
   "source": [
    "## 다른 예제를 위한 새로운 테이블 생성\n",
    "query = '''\n",
    "            create table if not exists tStaff\n",
    "            (name   CHAR(15) PRIMARY KEY,\n",
    "             depart CHAR(10) NOT NULL,\n",
    "             gender CHAR(3)  NOT NULL,\n",
    "             joindate DATE NOT NULL,\n",
    "             grade CHAR(10) NOT NULL,\n",
    "             salary INT NOT NULL,\n",
    "             score DECIMAL(5, 2) NULL)\n",
    "        '''\n",
    "\n",
    "cursor.execute(query)"
   ]
  },
  {
   "cell_type": "code",
   "execution_count": 13,
   "id": "6689316b-0776-470c-b905-42f96785cc32",
   "metadata": {},
   "outputs": [
    {
     "name": "stdout",
     "output_type": "stream",
     "text": [
      "[tStaff table]\n",
      "('강감찬', '영업부', '남', datetime.date(2018, 10, 9), '사원', 320, Decimal('56.00'))\n",
      "('김유신', '총무부', '남', datetime.date(2000, 2, 3), '이사', 420, Decimal('88.80'))\n",
      "('논개', '인사과', '여', datetime.date(2010, 9, 16), '대리', 340, Decimal('46.20'))\n",
      "('대조영', '총무부', '남', datetime.date(2020, 7, 7), '차장', 290, Decimal('49.90'))\n",
      "('선덕여왕', '인사과', '여', datetime.date(2017, 8, 3), '사원', 315, Decimal('45.10'))\n",
      "('성삼문', '영업부', '남', datetime.date(2014, 6, 8), '대리', 285, Decimal('87.75'))\n",
      "('신사임당', '영업부', '여', datetime.date(2013, 6, 19), '부장', 400, Decimal('92.00'))\n",
      "('안중근', '인사과', '남', datetime.date(2012, 5, 5), '대리', 256, Decimal('76.50'))\n",
      "('안창호', '영업부', '남', datetime.date(2015, 8, 15), '사원', 370, Decimal('74.20'))\n",
      "('유관순', '영업부', '여', datetime.date(2009, 3, 1), '과장', 380, None)\n",
      "('윤봉길', '영업부', '남', datetime.date(2015, 8, 15), '과장', 350, Decimal('71.25'))\n",
      "('을지문덕', '영업부', '남', datetime.date(2019, 6, 29), '사원', 330, None)\n",
      "('이사부', '총무부', '남', datetime.date(2000, 2, 3), '대리', 375, Decimal('50.00'))\n",
      "('이율곡', '총무부', '남', datetime.date(2016, 3, 8), '과장', 385, Decimal('65.40'))\n",
      "('장보고', '인사과', '남', datetime.date(2005, 4, 1), '부장', 440, Decimal('58.30'))\n",
      "('정몽주', '총무부', '남', datetime.date(2010, 9, 16), '대리', 370, Decimal('89.50'))\n",
      "('정약용', '총무부', '남', datetime.date(2020, 3, 14), '과장', 380, Decimal('69.80'))\n",
      "('허난설헌', '인사과', '여', datetime.date(2020, 1, 5), '사원', 285, Decimal('44.50'))\n",
      "('홍길동', '인사과', '남', datetime.date(2019, 8, 8), '차장', 380, Decimal('77.70'))\n",
      "('황진이', '인사과', '여', datetime.date(2012, 5, 5), '사원', 275, Decimal('52.50'))\n",
      "\n",
      "\n"
     ]
    }
   ],
   "source": [
    "column = ['name', 'depart', 'gender', 'joindate', 'grade', 'salary', 'score']\n",
    "values = [\n",
    "            ('김유신' , '총무부','남','2000-2-3','이사',420,88.8),\n",
    "            ('유관순' , '영업부','여','2009-3-1','과장',380, None),\n",
    "            ('안중근' , '인사과','남','2012-5-5','대리',256,76.5),\n",
    "            ('윤봉길' , '영업부','남','2015-8-15','과장',350,71.25),\n",
    "            ('강감찬' , '영업부','남','2018-10-9','사원',320,56.0),\n",
    "            ('정몽주' , '총무부','남','2010-9-16','대리',370,89.5),\n",
    "            ('허난설헌', '인사과','여','2020-1-5','사원',285,44.5),\n",
    "            ('신사임당', '영업부','여','2013-6-19','부장',400,92.0),\n",
    "            ('성삼문' , '영업부','남','2014-6-8','대리',285,87.75),\n",
    "            ('논개'   , '인사과','여','2010-9-16','대리',340,46.2),\n",
    "            ('황진이'  , '인사과','여','2012-5-5','사원',275,52.5),\n",
    "            ('이율곡'  , '총무부','남','2016-3-8','과장',385,65.4),\n",
    "            ('이사부'  , '총무부','남','2000-2-3','대리',375,50),\n",
    "            ('안창호'  , '영업부','남','2015-8-15','사원',370,74.2),\n",
    "            ('을지문덕' , '영업부','남','2019-6-29','사원',330, None),\n",
    "            ('정약용'  , '총무부','남','2020-3-14','과장',380,69.8),\n",
    "            ('홍길동'  , '인사과','남','2019-8-8','차장',380,77.7),\n",
    "            ('대조영'  , '총무부','남','2020-7-7','차장',290,49.9),\n",
    "            ('장보고'  , '인사과','남','2005-4-1','부장',440,58.3),\n",
    "            ('선덕여왕' , '인사과','여','2017-8-3','사원',315,45.1),\n",
    "         ]\n",
    "\n",
    "\n",
    "for value in values: insert(column, value, table_name = 'tStaff')\n",
    "\n",
    "select(table_name = 'tStaff')\n",
    "print_results('[tStaff table]', cursor.fetchall())"
   ]
  },
  {
   "cell_type": "markdown",
   "id": "f1369e1a-485a-45f1-9c6a-9224b3f491ea",
   "metadata": {},
   "source": [
    "##### **연습 문제 #001.**\n",
    "\n",
    "> Q. tStaff 테이블에서 이름과 부서, 직급 필드만 출력하라\n"
   ]
  },
  {
   "cell_type": "code",
   "execution_count": 14,
   "id": "f574ffe5-2ba3-4dfb-b9f7-d4c6adca10dd",
   "metadata": {},
   "outputs": [
    {
     "name": "stdout",
     "output_type": "stream",
     "text": [
      "[A.]\n",
      "('강감찬', '영업부', '사원')\n",
      "('김유신', '총무부', '이사')\n",
      "('논개', '인사과', '대리')\n",
      "('대조영', '총무부', '차장')\n",
      "('선덕여왕', '인사과', '사원')\n",
      "('성삼문', '영업부', '대리')\n",
      "('신사임당', '영업부', '부장')\n",
      "('안중근', '인사과', '대리')\n",
      "('안창호', '영업부', '사원')\n",
      "('유관순', '영업부', '과장')\n",
      "('윤봉길', '영업부', '과장')\n",
      "('을지문덕', '영업부', '사원')\n",
      "('이사부', '총무부', '대리')\n",
      "('이율곡', '총무부', '과장')\n",
      "('장보고', '인사과', '부장')\n",
      "('정몽주', '총무부', '대리')\n",
      "('정약용', '총무부', '과장')\n",
      "('허난설헌', '인사과', '사원')\n",
      "('홍길동', '인사과', '차장')\n",
      "('황진이', '인사과', '사원')\n",
      "\n",
      "\n"
     ]
    }
   ],
   "source": [
    "select('name, depart, grade', table_name = 'tStaff')\n",
    "print_results('[A.]', cursor.fetchall())"
   ]
  },
  {
   "cell_type": "markdown",
   "id": "91e260b5-2b5a-4142-be17-af9d2c651ad0",
   "metadata": {},
   "source": [
    "- SELECT 문이 출력하는 결과를 결과 셋(result set) 또는  \n",
    "  로우 셋(row set) 이라고 하는 테이블이 생성된다.\n",
    "  - 결과 셋의 필드명은 테이블에서 정의한 필드명과 동일하다.  \n",
    "  \n",
    " ### **별명 (AS)**\n",
    " \n",
    "- SELECT 문의 필드명 뒤에 AS를 사용해 별명을 설정하면,  \n",
    "  출력 결과에서 설정한 별명으로 확인할 수 있다.\n",
    "  - 공백이나 특수문자 포함이 가능하다."
   ]
  },
  {
   "cell_type": "code",
   "execution_count": 15,
   "id": "64837fd0-25dc-4efa-bab3-06c0225f08a1",
   "metadata": {},
   "outputs": [],
   "source": [
    "select(column = 'name as 도시명, popu as \"인구(만 명)\"')"
   ]
  },
  {
   "cell_type": "markdown",
   "id": "4b2a2fb1-4545-4f8f-9245-9e950272b57d",
   "metadata": {},
   "source": [
    "![AS 예제](../../../assets/SQL/CH4/AS_EXAMPLE.jpeg)"
   ]
  },
  {
   "cell_type": "markdown",
   "id": "3067712f-0824-4bbc-9287-907b548538aa",
   "metadata": {},
   "source": [
    "##### **연습 문제 #002.** \n",
    "\n",
    "> Q. 결과창의 헤더에 다음과 같이 출력하도록 하는 필드 목록을 작성하라.\n"
   ]
  },
  {
   "cell_type": "markdown",
   "id": "8dbc1c0d-0e9d-4f74-a297-46a1e33e8aab",
   "metadata": {},
   "source": [
    "||도시|인구(만명)|지역|\n",
    "|---|---|---|---|\n",
    "|1|서울|947|경기|\n",
    "|2|부산|342|경상|\n",
    "|3|오산|21|경기|\n",
    "|4|청주|83|충청|\n",
    "\n",
    "![연습문제 2번](../../../assets/SQL/CH4/EXER_#002.jpeg)"
   ]
  },
  {
   "cell_type": "markdown",
   "id": "642d3c4e-3114-4313-8204-ac218ac18903",
   "metadata": {},
   "source": [
    "#### 계산값 출력\n",
    "- SELECT 이후 필드명에 계산식을 이용하면 테이블에 저장된 값을 가공할 수 있다.\n",
    "![계산식 적용](../../../assets/SQL/CH4/Calc.jpeg)\n",
    "\n",
    "\n",
    "- 계산식을 이용하면 기존 테이블에 존재하지 않는 정보도 추가 할 수 있다.\n",
    "![계산식 적용2](../../../assets/SQL/CH4/Calc2.jpeg)\n",
    "\n",
    "- SELECT 문을 아래 둘 중 하나의 방법으로 간단한 계산기로도 사용할 수 있다.\n",
    "    ~~~ SQL\n",
    "        - select [계산식] from dual;  \n",
    "        - select [계산식];\n",
    "    ~~~"
   ]
  },
  {
   "cell_type": "code",
   "execution_count": 16,
   "id": "89d592fd-ae2d-40d8-860c-73937beec79a",
   "metadata": {},
   "outputs": [
    {
     "name": "stdout",
     "output_type": "stream",
     "text": [
      "[with from]\n",
      "(86400,)\n",
      "\n",
      "\n",
      "[without from]\n",
      "(86400,)\n",
      "\n",
      "\n"
     ]
    }
   ],
   "source": [
    "cursor.execute('select 60 * 60 * 24 as day from dual')\n",
    "print_results('[with from]', cursor.fetchall())\n",
    "cursor.execute('select 60 * 60 * 24 as day')\n",
    "print_results('[without from]', cursor.fetchall())"
   ]
  },
  {
   "cell_type": "markdown",
   "id": "e0ee3b68-3f61-4d7d-96be-3338837df056",
   "metadata": {},
   "source": [
    "##### **연습 문제 #003.** \n",
    "\n",
    "> Q. SELECT 문을 사용해 1년은 몇 초인지 계산하라.\n"
   ]
  },
  {
   "cell_type": "code",
   "execution_count": 17,
   "id": "586b1b18-6a03-4121-8770-25c853366e21",
   "metadata": {},
   "outputs": [
    {
     "name": "stdout",
     "output_type": "stream",
     "text": [
      "[A.]\n",
      "(31536000,)\n",
      "\n",
      "\n"
     ]
    }
   ],
   "source": [
    "cursor.execute('select 60 * 60 * 24 *365')\n",
    "print_results('[A.]', cursor.fetchall())"
   ]
  },
  {
   "cell_type": "markdown",
   "id": "0dbbe26c-a940-450c-ac34-5a4bbadf3e13",
   "metadata": {},
   "source": [
    "## **2. 조건문**\n",
    "### 2-1. 필드 비교\n",
    "- WHERE 절은 읽을 레코드의 조건을 지정해준다.\n",
    "    - SELECT는 조회가 주 기능이어서 주로 WHERE절과 사용한다.\n",
    "    - WHERE 절은 DELETE, UPDATE 등의 명령과도 함께 사용된다.\n",
    "    \n",
    "- WHERE 절에서 조건에 사용할 수 있는 연산자는 아래와 같다.\n",
    "    - 필드의 자료형과 비교대상의 자료형이 호환되어야 한다.  \n",
    "    \n",
    "- 숫자는 상수를 그대로 쓰지만, 문자열과 날짜 상수는 따옴표로 감싸야한다.\n",
    "    \n",
    "||연산자|설명|예|\n",
    "|---|---|---|---|\n",
    "|1|A = B|A와 B가 같다.|WHERE name='서울'|\n",
    "|2|A <> B, A !=B|A와 B가 같지 않다.|WHERE region <> '경기'|\n",
    "|3|A > B|A가 B보다 크다.|WHERE popu > 300|\n",
    "|4|A < B|A가 B보다 작다.|WHERE popu < 200|\n",
    "|5|A >= B|A가 B보다 크거나 같다.|WHERE area >= 1000|\n",
    "|6|A <= B|A가 B보다 작거나 같다.|WHERE area <= 100|\n"
   ]
  },
  {
   "cell_type": "code",
   "execution_count": 18,
   "id": "9c148771-2c1c-4fbb-ab95-c81386ba36de",
   "metadata": {},
   "outputs": [
    {
     "name": "stdout",
     "output_type": "stream",
     "text": [
      "[name equal to \"서울\"]\n",
      "(2, '서울', 605, 974, 'y', '경기')\n",
      "\n",
      "\n",
      "[region not equal to \"경기\"]\n",
      "(1, '부산', 765, 342, 'y', '경상')\n",
      "(3, '순천', 910, 27, 'n', '전라')\n",
      "(5, '전주', 205, 65, 'n', '전라')\n",
      "(6, '청주', 940, 83, 'n', '충청')\n",
      "(7, '춘천', 1116, 27, 'n', '강원')\n",
      "(8, '홍천', 1819, 7, 'n', '강원')\n",
      "\n",
      "\n",
      "[popu greater than 300]\n",
      "(1, '부산', 765, 342, 'y', '경상')\n",
      "(2, '서울', 605, 974, 'y', '경기')\n",
      "\n",
      "\n",
      "[popu less than 200]\n",
      "(3, '순천', 910, 27, 'n', '전라')\n",
      "(4, '오산', 42, 21, 'n', '경기')\n",
      "(5, '전주', 205, 65, 'n', '전라')\n",
      "(6, '청주', 940, 83, 'n', '충청')\n",
      "(7, '춘천', 1116, 27, 'n', '강원')\n",
      "(8, '홍천', 1819, 7, 'n', '강원')\n",
      "\n",
      "\n",
      "[area greater than or equal to 3000]\n",
      "(7, '춘천', 1116, 27, 'n', '강원')\n",
      "(8, '홍천', 1819, 7, 'n', '강원')\n",
      "\n",
      "\n",
      "[area less than or equal to 100]\n",
      "(4, '오산', 42, 21, 'n', '경기')\n",
      "\n",
      "\n"
     ]
    }
   ],
   "source": [
    "select(cond = 'name = \"서울\"')\n",
    "print_results('[name equal to \"서울\"]', cursor.fetchall())\n",
    "\n",
    "select(cond = 'region <> \"경기\"')\n",
    "print_results('[region not equal to \"경기\"]', cursor.fetchall())\n",
    "\n",
    "select(cond = 'popu > 300')\n",
    "print_results('[popu greater than 300]', cursor.fetchall())\n",
    "\n",
    "select(cond = 'popu < 200')\n",
    "print_results('[popu less than 200]', cursor.fetchall())\n",
    "\n",
    "select(cond = 'area >= 1000')\n",
    "print_results('[area greater than or equal to 3000]', cursor.fetchall())\n",
    "\n",
    "select(cond = 'area <= 100')\n",
    "print_results('[area less than or equal to 100]', cursor.fetchall())"
   ]
  },
  {
   "cell_type": "markdown",
   "id": "e1b6f5ef-ff5a-4832-8b99-c0061a72a406",
   "metadata": {},
   "source": [
    "##### **연습 문제 #004.** \n",
    "\n",
    "> Q1. 인구가 10만명 미만인 도시의 이름을 출력하라.  \n",
    "> Q2. 전라도에 있는 도시의 정보를 출력하라.  \n",
    "> Q3. 월급이 400만원 이상인 직원의 이름을 출력하라.\n"
   ]
  },
  {
   "cell_type": "code",
   "execution_count": 19,
   "id": "5d2b4445-c85e-4574-abfb-bcd409f9e1b2",
   "metadata": {},
   "outputs": [
    {
     "name": "stdout",
     "output_type": "stream",
     "text": [
      "[A1.]\n",
      "('부산',)\n",
      "('서울',)\n",
      "('순천',)\n",
      "('오산',)\n",
      "('전주',)\n",
      "('청주',)\n",
      "('춘천',)\n",
      "\n",
      "\n",
      "[A2.]\n",
      "(3, '순천', 910, 27, 'n', '전라')\n",
      "(5, '전주', 205, 65, 'n', '전라')\n",
      "\n",
      "\n",
      "[A3.]\n",
      "('김유신',)\n",
      "('신사임당',)\n",
      "('장보고',)\n",
      "\n",
      "\n"
     ]
    }
   ],
   "source": [
    "select(column = 'name', cond = 'popu * 10000 > 100000')\n",
    "print_results('[A1.]', cursor.fetchall())\n",
    "\n",
    "select(cond = 'region = \"전라\"')\n",
    "print_results('[A2.]', cursor.fetchall())\n",
    "\n",
    "select(column = 'name', table_name = 'tStaff', cond = 'salary * 10000 >= 4000000')\n",
    "print_results('[A3.]', cursor.fetchall())"
   ]
  },
  {
   "cell_type": "markdown",
   "id": "e051cac7-e2b4-402b-97bf-bc64c277724a",
   "metadata": {},
   "source": [
    "### 2-2. NULL 비교\n",
    "- NULL은 값이 입력되어 있지 않은 상태를 말한다.\n",
    "    - 값이 지정되어 있지 않기 때문에, 0이나 빈 문자열과도 다른 상태이다.\n",
    "    \n",
    "> #### <e.g.>\n",
    "~~~ SQL  \n",
    "    CREATE TABLE tCity\n",
    "    (\n",
    "        name CHAR(10) PRIMARY KEY,\n",
    "        area INT NULL,\n",
    "        popu INT NULL,\n",
    "        metro CHAR(1) NOT NULL,\n",
    "        region CHAR(6) NOT NULL\n",
    "    );\n",
    "~~~\n",
    "\n",
    "- 선언문 뒤에 NULL이 있으면 값을 입력하지 않아도 된다는 뜻이다.\n",
    "    - 위 예에서는 인구와 면적은 값을 입력하지 않아도 되고, 그 외 데이터 들은 입력해야한다.\n",
    "    - NULL 비교를 위해서는 연산자로 is를 사용한다."
   ]
  },
  {
   "cell_type": "code",
   "execution_count": 20,
   "id": "e3c99fd4-8798-41c5-b0bd-93ceedb2870d",
   "metadata": {},
   "outputs": [
    {
     "name": "stdout",
     "output_type": "stream",
     "text": [
      "[score is NULL in tStaff]\n",
      "('유관순', '영업부', '여', datetime.date(2009, 3, 1), '과장', 380, None)\n",
      "('을지문덕', '영업부', '남', datetime.date(2019, 6, 29), '사원', 330, None)\n",
      "\n",
      "\n"
     ]
    }
   ],
   "source": [
    "## tStaff 테이블에서 score가 NULL인 직원들만 추출\n",
    "select(table_name = 'tStaff', cond = f'score is NULL')\n",
    "print_results('[score is NULL in tStaff]', cursor.fetchall())"
   ]
  },
  {
   "cell_type": "code",
   "execution_count": 21,
   "id": "dc43cfe7-f075-41e2-84df-9589904d10fe",
   "metadata": {},
   "outputs": [
    {
     "name": "stdout",
     "output_type": "stream",
     "text": [
      "[score is not NULL in tStaff]\n",
      "('강감찬', '영업부', '남', datetime.date(2018, 10, 9), '사원', 320, Decimal('56.00'))\n",
      "('김유신', '총무부', '남', datetime.date(2000, 2, 3), '이사', 420, Decimal('88.80'))\n",
      "('논개', '인사과', '여', datetime.date(2010, 9, 16), '대리', 340, Decimal('46.20'))\n",
      "('대조영', '총무부', '남', datetime.date(2020, 7, 7), '차장', 290, Decimal('49.90'))\n",
      "('선덕여왕', '인사과', '여', datetime.date(2017, 8, 3), '사원', 315, Decimal('45.10'))\n",
      "('성삼문', '영업부', '남', datetime.date(2014, 6, 8), '대리', 285, Decimal('87.75'))\n",
      "('신사임당', '영업부', '여', datetime.date(2013, 6, 19), '부장', 400, Decimal('92.00'))\n",
      "('안중근', '인사과', '남', datetime.date(2012, 5, 5), '대리', 256, Decimal('76.50'))\n",
      "('안창호', '영업부', '남', datetime.date(2015, 8, 15), '사원', 370, Decimal('74.20'))\n",
      "('윤봉길', '영업부', '남', datetime.date(2015, 8, 15), '과장', 350, Decimal('71.25'))\n",
      "('이사부', '총무부', '남', datetime.date(2000, 2, 3), '대리', 375, Decimal('50.00'))\n",
      "('이율곡', '총무부', '남', datetime.date(2016, 3, 8), '과장', 385, Decimal('65.40'))\n",
      "('장보고', '인사과', '남', datetime.date(2005, 4, 1), '부장', 440, Decimal('58.30'))\n",
      "('정몽주', '총무부', '남', datetime.date(2010, 9, 16), '대리', 370, Decimal('89.50'))\n",
      "('정약용', '총무부', '남', datetime.date(2020, 3, 14), '과장', 380, Decimal('69.80'))\n",
      "('허난설헌', '인사과', '여', datetime.date(2020, 1, 5), '사원', 285, Decimal('44.50'))\n",
      "('홍길동', '인사과', '남', datetime.date(2019, 8, 8), '차장', 380, Decimal('77.70'))\n",
      "('황진이', '인사과', '여', datetime.date(2012, 5, 5), '사원', 275, Decimal('52.50'))\n",
      "\n",
      "\n"
     ]
    }
   ],
   "source": [
    "select(table_name = 'tStaff', cond = f'score is not NULL')\n",
    "print_results('[score is not NULL in tStaff]', cursor.fetchall())"
   ]
  },
  {
   "cell_type": "markdown",
   "id": "7396edaa-2fb5-4c53-a95f-94a4c5532556",
   "metadata": {},
   "source": [
    "### 2-3. 논리 연산자\n",
    "- 두 가지 이상의 조건을 동시에 점검할 때는 AND, OR 논리 연산자를 사용한다.\n",
    "    - A AND B | A와 B 두 조건을 모두 만족하는 데이터\n",
    "    - A OR  B | A와 B 둘 중 하나의 조건만 만족하는 데이터\n",
    "    - AND 연산자가 OR 연산자보다 우선 순위가 높고, 괄호로 우선 순위를 지정해 줄 수 있다.\n",
    "    \n",
    "- 조건에 부합하지 않는 데이터를 구하기 위해서는 NOT 논리 연산자를 사용한다.\n",
    "    - \"!=\"와 같은 기능을 하지만, 복합 조건의 부정을 취할 때는 NOT을 사용하면 편하다."
   ]
  },
  {
   "cell_type": "code",
   "execution_count": 22,
   "id": "ca7c5ee7-6452-465a-9c4c-0b76af560294",
   "metadata": {},
   "outputs": [
    {
     "name": "stdout",
     "output_type": "stream",
     "text": [
      "[지역이 경기도면서 인구가 50만 이상이거나 지역이 경기도가 아니여도 면적이 500 이상]\n",
      "(1, '부산', 765, 342, 'y', '경상')\n",
      "(2, '서울', 605, 974, 'y', '경기')\n",
      "(3, '순천', 910, 27, 'n', '전라')\n",
      "(6, '청주', 940, 83, 'n', '충청')\n",
      "(7, '춘천', 1116, 27, 'n', '강원')\n",
      "(8, '홍천', 1819, 7, 'n', '강원')\n",
      "\n",
      "\n",
      "[지역이 경기도면서, 인구가 50만이 넘거나 면적이 500 이상]\n",
      "(2, '서울', 605, 974, 'y', '경기')\n",
      "\n",
      "\n",
      "[지역이 경기도가 아닌 데이터]\n",
      "(1, '부산', 765, 342, 'y', '경상')\n",
      "(3, '순천', 910, 27, 'n', '전라')\n",
      "(5, '전주', 205, 65, 'n', '전라')\n",
      "(6, '청주', 940, 83, 'n', '충청')\n",
      "(7, '춘천', 1116, 27, 'n', '강원')\n",
      "(8, '홍천', 1819, 7, 'n', '강원')\n",
      "\n",
      "\n",
      "[지역이 경기도가 아닌 데이터]\n",
      "(1, '부산', 765, 342, 'y', '경상')\n",
      "(3, '순천', 910, 27, 'n', '전라')\n",
      "(5, '전주', 205, 65, 'n', '전라')\n",
      "(6, '청주', 940, 83, 'n', '충청')\n",
      "(7, '춘천', 1116, 27, 'n', '강원')\n",
      "(8, '홍천', 1819, 7, 'n', '강원')\n",
      "\n",
      "\n"
     ]
    }
   ],
   "source": [
    "select(cond = 'region = \"경기\" and popu >= 50 or area >= 500')\n",
    "print_results('[지역이 경기도면서 인구가 50만 이상이거나 지역이 경기도가 아니여도 면적이 500 이상]', cursor.fetchall())\n",
    "\n",
    "select(cond = 'region = \"경기\" and (popu >= 50 or area >= 500)')\n",
    "print_results('[지역이 경기도면서, 인구가 50만이 넘거나 면적이 500 이상]', cursor.fetchall())\n",
    "\n",
    "select(cond = 'region != \"경기\"')\n",
    "print_results('[지역이 경기도가 아닌 데이터]', cursor.fetchall())\n",
    "\n",
    "select(cond = 'NOT (region = \"경기\")')\n",
    "print_results('[지역이 경기도가 아닌 데이터]', cursor.fetchall())"
   ]
  },
  {
   "cell_type": "markdown",
   "id": "dc75fb1b-d333-45c9-b063-9442480550ec",
   "metadata": {},
   "source": [
    "##### **연습 문제 #005.** \n",
    "\n",
    "> Q1. 직원 목록에서 월급이 300 미만이면서 성취도는 60 이상인 직원이 누구인지 조사하라.  \n",
    "> Q2. 영업부의 여직원 이름을 조사하라.\n"
   ]
  },
  {
   "cell_type": "code",
   "execution_count": 23,
   "id": "193027e1-753b-4962-95be-f4fabd6900cd",
   "metadata": {},
   "outputs": [
    {
     "name": "stdout",
     "output_type": "stream",
     "text": [
      "[A1.]\n",
      "('성삼문', '영업부', '남', datetime.date(2014, 6, 8), '대리', 285, Decimal('87.75'))\n",
      "('안중근', '인사과', '남', datetime.date(2012, 5, 5), '대리', 256, Decimal('76.50'))\n",
      "\n",
      "\n",
      "[A2.]\n",
      "('논개',)\n",
      "('선덕여왕',)\n",
      "('신사임당',)\n",
      "('유관순',)\n",
      "('허난설헌',)\n",
      "('황진이',)\n",
      "\n",
      "\n"
     ]
    }
   ],
   "source": [
    "select(table_name = 'tStaff', cond = 'salary < 300 and score >= 60')\n",
    "print_results('[A1.]', cursor.fetchall())\n",
    "\n",
    "select(table_name = 'tStaff', column = 'name', cond = 'gender = \"여\"')\n",
    "print_results('[A2.]', cursor.fetchall())"
   ]
  },
  {
   "cell_type": "code",
   "execution_count": null,
   "id": "e3248e3b-66a5-48c3-8bbf-051052af85b3",
   "metadata": {},
   "outputs": [],
   "source": []
  }
 ],
 "metadata": {
  "kernelspec": {
   "display_name": "dove",
   "language": "python",
   "name": "dove"
  },
  "language_info": {
   "codemirror_mode": {
    "name": "ipython",
    "version": 3
   },
   "file_extension": ".py",
   "mimetype": "text/x-python",
   "name": "python",
   "nbconvert_exporter": "python",
   "pygments_lexer": "ipython3",
   "version": "3.8.13"
  }
 },
 "nbformat": 4,
 "nbformat_minor": 5
}
