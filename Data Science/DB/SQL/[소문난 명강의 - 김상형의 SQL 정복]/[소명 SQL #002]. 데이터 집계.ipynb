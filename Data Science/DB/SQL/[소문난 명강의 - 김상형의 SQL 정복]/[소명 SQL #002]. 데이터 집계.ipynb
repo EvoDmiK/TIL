{
 "cells": [
  {
   "cell_type": "code",
   "execution_count": 1,
   "id": "6d764c37-1fa7-44bf-81ad-7d0d4170c804",
   "metadata": {},
   "outputs": [
    {
     "name": "stdout",
     "output_type": "stream",
     "text": [
      "[INFO] config.json 파일을 로딩합니다.\n",
      "[INFO] ports.json 파일을 로딩합니다.\n"
     ]
    }
   ],
   "source": [
    "import json\n",
    "import sys\n",
    "import os\n",
    "\n",
    "from easydict import EasyDict as edict\n",
    "import pymysql as sql\n",
    "\n",
    "## 하위 폴더에 있는 패키지 로딩을 위한 밑작업\n",
    "SEP       = os.path.sep\n",
    "MISC_PATH = SEP.join(os.getcwd().split(SEP)[:-2])\n",
    "ROOT_PATH = SEP.join(os.getcwd().split(SEP)[:-4])\n",
    "sys.path.append(MISC_PATH)\n",
    "\n",
    "from misc.config import *\n",
    "from misc.utils import *"
   ]
  },
  {
   "cell_type": "code",
   "execution_count": 2,
   "id": "18750cbf-5277-4efb-9ae6-c636047c639e",
   "metadata": {},
   "outputs": [],
   "source": [
    "host   = CONFIGS.global_host\n",
    "port   = PORTS.sql_port\n",
    "user   = CONFIGS.sql_user\n",
    "passwd = CONFIGS.sql_passwd\n",
    "\n",
    "## 노트북 재시작할때마다 DB삭제용 플래그\n",
    "not_first = True"
   ]
  },
  {
   "cell_type": "code",
   "execution_count": 3,
   "id": "2c329c9c-820f-4f8a-bd6b-0077324027d3",
   "metadata": {},
   "outputs": [],
   "source": [
    "## DB 서버에 연결\n",
    "conn   = sql.connect(host     = host, user = user, port = port,\n",
    "                     password = passwd, db = 'study')\n",
    "\n",
    "cursor = conn.cursor()"
   ]
  },
  {
   "cell_type": "markdown",
   "id": "5c223010-e8af-48a6-b1c5-c0be2e272856",
   "metadata": {},
   "source": [
    "## **1. 집계 함수**\n",
    "- 함수는 입력값으로 부터 모종의 계산을 하여 출력값을 리턴하는 장치이다.\n",
    "- 집계 함수는 복수개의 레코드에 대해 집합적인 계산을 수행하여 평균같은 통계값을 산출한다.\n",
    "### 1-1. COUNT\n",
    "- COUNT함수는 레코드의 개수를 반환해주는 함수이다.\n",
    "  ~~~SQL\n",
    "      SELECT COUNT([필드명]) FROM [테이블명];\n",
    "  ~~~\n",
    "  \n",
    "- WHERE 절과 함께 사용하면 조건에 맞는 데이터의 수를 계산할 수 있다.\n",
    "  ~~~SQL\n",
    "      SELECT COUNT([필드명]) FROM [테이블명] WHERE [조건];\n",
    "  ~~~"
   ]
  },
  {
   "cell_type": "code",
   "execution_count": 4,
   "id": "72c08a9d-2c86-4884-824e-3ca5c7731309",
   "metadata": {},
   "outputs": [
    {
     "name": "stdout",
     "output_type": "stream",
     "text": [
      "[query] select count(*) from tStaff;\n",
      "\n",
      "[count 함수 테스트]\n",
      "(20,)\n",
      "\n",
      "\n",
      "[query] select count(*) from tStaff where salary >= 400;\n",
      "\n",
      "[월급 400이상인 직원의 수]\n",
      "(3,)\n",
      "\n",
      "\n",
      "[query] select name, salary from tStaff where salary >= 400;\n",
      "\n",
      "[위 쿼리문이 제대로 들어갔는지 확인]\n",
      "('김유신', 420)\n",
      "('신사임당', 400)\n",
      "('장보고', 440)\n",
      "\n",
      "\n"
     ]
    }
   ],
   "source": [
    "## 아래 쿼리문은 총 직원수를 출력해준다.\n",
    "select(cursor, text = 'count 함수 테스트', \n",
    "       column = 'count(*)', table_name = 'tStaff')\n",
    "\n",
    "## 아래 쿼리문은 월급이 400 이상인 직원 수를 반환해준다.\n",
    "select(cursor, text = '월급 400이상인 직원의 수', column = 'count(*)', \n",
    "       table_name = 'tStaff', cond = 'salary >= 400')\n",
    "\n",
    "select(cursor, text = '위 쿼리문이 제대로 들어갔는지 확인',\n",
    "      column = 'name, salary', table_name = 'tStaff', \n",
    "      cond   = 'salary >= 400')"
   ]
  },
  {
   "cell_type": "markdown",
   "id": "51504aab-66b5-4c3c-acc3-84eeb4c16552",
   "metadata": {},
   "source": [
    "- 중복된 데이터를 제거한 데이터의 개수를 구하고 싶으면, 필드명 앞에 distinct를 추가한다.\n",
    "~~~SQL\n",
    "   select COUNT(distinct [필드명]) from [테이블명];\n",
    "~~~\n",
    "- count 함수는 필드값이 NULL인 레코드는 집계에서 제거한다."
   ]
  },
  {
   "cell_type": "code",
   "execution_count": 5,
   "id": "58821271-1561-4182-a005-ad19adef1913",
   "metadata": {},
   "outputs": [
    {
     "name": "stdout",
     "output_type": "stream",
     "text": [
      "[query] select count(distinct depart) from tStaff;\n",
      "\n",
      "[중복 데이터 제거]\n",
      "(3,)\n",
      "\n",
      "\n",
      "[query] select distinct depart from tStaff;\n",
      "\n",
      "[중복 데이터 제거 확인]\n",
      "('영업부',)\n",
      "('총무부',)\n",
      "('인사과',)\n",
      "\n",
      "\n",
      "[query] select count(score) from tStaff;\n",
      "\n",
      "[NULL 값 집계 안함]\n",
      "(18,)\n",
      "\n",
      "\n",
      "[query] select score from tStaff;\n",
      "\n",
      "[NULL 제외한 데이터 개수 확인]\n",
      "(Decimal('56.00'),)\n",
      "(Decimal('88.80'),)\n",
      "(Decimal('46.20'),)\n",
      "(Decimal('49.90'),)\n",
      "(Decimal('45.10'),)\n",
      "(Decimal('87.75'),)\n",
      "(Decimal('92.00'),)\n",
      "(Decimal('76.50'),)\n",
      "(Decimal('74.20'),)\n",
      "(None,)\n",
      "(Decimal('71.25'),)\n",
      "(None,)\n",
      "(Decimal('50.00'),)\n",
      "(Decimal('65.40'),)\n",
      "(Decimal('58.30'),)\n",
      "(Decimal('89.50'),)\n",
      "(Decimal('69.80'),)\n",
      "(Decimal('44.50'),)\n",
      "(Decimal('77.70'),)\n",
      "(Decimal('52.50'),)\n",
      "\n",
      "\n",
      "[query] select count(*) from tStaff where score is null;\n",
      "\n",
      "[score가 NULL인 녀석들 수를 집계 1]\n",
      "(2,)\n",
      "\n",
      "\n",
      "[query] select count(*) - count(score) from tStaff;\n",
      "\n",
      "[score가 NULL인 녀석들 수를 집계 2]\n",
      "(2,)\n",
      "\n",
      "\n"
     ]
    }
   ],
   "source": [
    "## 아래 쿼리문은 중복 데이터를 제거한 데이터의 개수만 집계한다.\n",
    "select(cursor, text = '중복 데이터 제거', table_name = 'tStaff',\n",
    "      column = 'count(distinct depart)')\n",
    "\n",
    "select(cursor, text = '중복 데이터 제거 확인', table_name = 'tStaff', \n",
    "       column = 'distinct depart')\n",
    "\n",
    "## 아래 쿼리문은 NULL 데이터를 제외한 데이터의 개수만 집계한다.\n",
    "select(cursor, text = 'NULL 값 집계 안함', table_name = 'tStaff',\n",
    "       column = 'count(score)')\n",
    "\n",
    "## 총 20개 데이터에서 NULL 데이터 2개 뺀 18개\n",
    "select(cursor, text = 'NULL 제외한 데이터 개수 확인', \n",
    "       table_name = 'tStaff', column = 'score')\n",
    "\n",
    "\n",
    "## 아래 두 쿼리문은 score가 NULL인 녀석들 집계해준다.\n",
    "select(cursor, text = 'score가 NULL인 녀석들 수를 집계 1',\n",
    "       column = 'count(*)', table_name = 'tStaff',\n",
    "       cond = 'score is null')\n",
    "\n",
    "select(cursor, text = 'score가 NULL인 녀석들 수를 집계 2',\n",
    "       column = 'count(*) - count(score)', table_name = 'tStaff')"
   ]
  },
  {
   "cell_type": "markdown",
   "id": "1cf37555-a3bd-4638-9886-725d8081e333",
   "metadata": {},
   "source": [
    "##### **연습 문제 #001.** \n",
    "\n",
    "> Q1. 실적도 없이 놀고 있는 두 직원은 누구인지 목록을 출력하는 쿼리를 작성하라.  \n",
    "> Q2. 성취도가 80점 이상인 직원이 몇 명이나 되는지 조사하라."
   ]
  },
  {
   "cell_type": "code",
   "execution_count": 6,
   "id": "dc3b9033-2275-447a-88f3-6b2d9f278801",
   "metadata": {},
   "outputs": [
    {
     "name": "stdout",
     "output_type": "stream",
     "text": [
      "[query] select name, depart, score, salary from tStaff where score is null;\n",
      "\n",
      "[A1.]\n",
      "('유관순', '영업부', None, 380)\n",
      "('을지문덕', '영업부', None, 330)\n",
      "\n",
      "\n",
      "[query] select count(*) from tStaff where score >= 80;\n",
      "\n",
      "[A2.]\n",
      "(4,)\n",
      "\n",
      "\n",
      "[query] select name, depart, score, salary from tStaff where score >= 80;\n",
      "\n",
      "[A2. REF]\n",
      "('김유신', '총무부', Decimal('88.80'), 420)\n",
      "('성삼문', '영업부', Decimal('87.75'), 285)\n",
      "('신사임당', '영업부', Decimal('92.00'), 400)\n",
      "('정몽주', '총무부', Decimal('89.50'), 370)\n",
      "\n",
      "\n"
     ]
    }
   ],
   "source": [
    "select(cursor, text='A1.', table_name = 'tStaff',\n",
    "       cond = 'score is null', column = 'name, depart, score, salary')\n",
    "\n",
    "select(cursor, text='A2.', table_name = 'tStaff',\n",
    "       cond = 'score >= 80', column = 'count(*)')\n",
    "\n",
    "select(cursor, text='A2. REF', table_name = 'tStaff',\n",
    "       cond = 'score >= 80', column = 'name, depart, score, salary')"
   ]
  },
  {
   "cell_type": "markdown",
   "id": "216ec19b-30a4-49b2-82a7-420a07472e58",
   "metadata": {},
   "source": [
    "### 1-2. 통계값\n",
    "||함수|설명|\n",
    "|---|---|---|\n",
    "|1|SUM|총합을 구하는 함수|\n",
    "|2|AVG|평균을 구하는 함수|\n",
    "|3|MAX|최대값을 구하는 함수|\n",
    "|4|MIN|최소값을 구하는 함수|\n",
    "|5|STDDEV|표준 편자를 구하는 함수|\n",
    "|6|VARIANCE|분산을 구하는 함수|\n",
    "\n",
    "- SQL Server에서 표준편차와 분산을 구하는 함수는 각각 STDEV, VAR이다.\n",
    "- COUNT 함수와 마찬가지로 뒤에 WHERE 절을 붙이면 조건에 해당하는 데이터만 집계해준다."
   ]
  },
  {
   "cell_type": "code",
   "execution_count": 7,
   "id": "22f88aa2-9b8c-4a57-a477-780eee4d32b6",
   "metadata": {},
   "outputs": [
    {
     "name": "stdout",
     "output_type": "stream",
     "text": [
      "[query] select sum(popu), avg(popu) from tCity;\n",
      "\n",
      "[인구 총합 및 평균]\n",
      "(Decimal('1546'), Decimal('193.2500'))\n",
      "\n",
      "\n",
      "[query] select min(area), max(area) from tCity;\n",
      "\n",
      "[면적의 최소, 최대]\n",
      "(42, 1819)\n",
      "\n",
      "\n",
      "[query] select sum(score), avg(score) from tStaff where depart = \"인사과\";\n",
      "\n",
      "[인사과 성취도의 합계, 평균]\n",
      "(Decimal('400.80'), Decimal('57.257143'))\n",
      "\n",
      "\n",
      "[query] select min(salary), max(salary) from tStaff where depart = \"영업부\";\n",
      "\n",
      "[영업부 월급 최소, 최대]\n",
      "(285, 400)\n",
      "\n",
      "\n"
     ]
    }
   ],
   "source": [
    "## 아래 쿼리문은 테이블에 있는 도시들의 인구 총합과 평균을 구해준다.\n",
    "select(cursor, text = '인구 총합 및 평균', table_name = 'tCity',\n",
    "      column = 'sum(popu), avg(popu)')\n",
    "\n",
    "\n",
    "## 아래 쿼리문은 면적의 최대값과 최소값을 구해준다.\n",
    "select(cursor, text = '면적의 최소, 최대', table_name = 'tCity',\n",
    "       column = 'min(area), max(area)')\n",
    "\n",
    "\n",
    "## 아래 쿼리문은 인사과의 성취도 합계, 평균을 구해준다.\n",
    "select(cursor, text = '인사과 성취도의 합계, 평균', table_name = 'tStaff',\n",
    "       column = 'sum(score), avg(score)', cond = 'depart = \"인사과\"')\n",
    "\n",
    "## 아래 쿼리문은 영업부의 최소, 최대 월급을 구해준다.\n",
    "select(cursor, text = '영업부 월급 최소, 최대', table_name = 'tStaff',\n",
    "       column = 'min(salary), max(salary)', cond = 'depart = \"영업부\"')"
   ]
  },
  {
   "cell_type": "markdown",
   "id": "bc6ef5fd-f2c2-443f-af49-d6e26193ee78",
   "metadata": {},
   "source": [
    "- 문자열이나 날짜 데이터는 MIN, MAX 함수만 사용할 수 있다.\n",
    "- 아래 코드는 정상적으로 처리될 것 같지만 max(popu)는 출력 필드는 1개,\n",
    "  name 출력 필드는 여러개로 나오기 때문에 처리되지 않는다.\n",
    "    ~~~SQL\n",
    "        SELECT MAX(popu), name from tCity;\n",
    "    ~~~"
   ]
  },
  {
   "cell_type": "code",
   "execution_count": 8,
   "id": "c94e50f8-0554-46b3-a9f6-cfba8f1fc351",
   "metadata": {},
   "outputs": [
    {
     "name": "stdout",
     "output_type": "stream",
     "text": [
      "[query] select sum(name) from tStaff;\n",
      "\n",
      "[텍스트 합계 에러]\n",
      "(0.0,)\n",
      "\n",
      "\n",
      "[query] select min(name) from tStaff;\n",
      "\n",
      "[직원이름 중 가장 빠른 직원]\n",
      "('강감찬',)\n",
      "\n",
      "\n",
      "[query] select name from tStaff order by name asc limit 1;\n",
      "\n",
      "[직원이름 중 가장 빠른 직원 2]\n",
      "('강감찬',)\n",
      "\n",
      "\n"
     ]
    }
   ],
   "source": [
    "## 아래 쿼리문은 에러를 발생시킨다.\n",
    "try:\n",
    "    select(cursor, text = '텍스트 합계 에러', table_name = 'tStaff',\n",
    "          column = 'sum(name)')\n",
    "except Exception as e: print(f'[에러] {e}')\n",
    "\n",
    "## 아래 쿼리문은 직원 이름 중 가장 빠른 직원을 반환한다.\n",
    "select(cursor, text = '직원이름 중 가장 빠른 직원', table_name = 'tStaff',\n",
    "       column = 'min(name)')\n",
    "\n",
    "## 아래 쿼리문은 위 쿼리문과 동일하게 동작하지만, 쿼리가 너무 길다.\n",
    "select(cursor, text = '직원이름 중 가장 빠른 직원 2', table_name = 'tStaff',\n",
    "       column = 'name', order = 'name asc', limit_k = 1)"
   ]
  },
  {
   "cell_type": "markdown",
   "id": "f28c6e63-dba6-4f44-a893-aab0637b09e0",
   "metadata": {},
   "source": [
    "##### **연습 문제 #002.** \n",
    "\n",
    "> Q1. 여직원 중 최고 월급은 얼마인지 조사하라.  \n",
    "> Q2. 총무부 직원이 최초로 입사한 날짜를 구하라."
   ]
  },
  {
   "cell_type": "code",
   "execution_count": 9,
   "id": "729bf12f-dc7b-4974-9348-64ffb31a7a8b",
   "metadata": {},
   "outputs": [
    {
     "name": "stdout",
     "output_type": "stream",
     "text": [
      "[query] select max(salary) from tStaff where gender = \"여\";\n",
      "\n",
      "[A1.]\n",
      "(400,)\n",
      "\n",
      "\n",
      "[query] select name, gender, salary from tStaff where gender = \"여\" order by salary desc;\n",
      "\n",
      "[A1. REF]\n",
      "('신사임당', '여', 400)\n",
      "('유관순', '여', 380)\n",
      "('논개', '여', 340)\n",
      "('선덕여왕', '여', 315)\n",
      "('허난설헌', '여', 285)\n",
      "('황진이', '여', 275)\n",
      "\n",
      "\n",
      "[query] select min(joindate) from tStaff where depart = \"총무부\";\n",
      "\n",
      "[A2.]\n",
      "(datetime.date(2000, 2, 3),)\n",
      "\n",
      "\n",
      "[query] select name, depart, joindate from tStaff where depart = \"총무부\" order by joindate;\n",
      "\n",
      "[A2. REF]\n",
      "('김유신', '총무부', datetime.date(2000, 2, 3))\n",
      "('이사부', '총무부', datetime.date(2000, 2, 3))\n",
      "('정몽주', '총무부', datetime.date(2010, 9, 16))\n",
      "('이율곡', '총무부', datetime.date(2016, 3, 8))\n",
      "('정약용', '총무부', datetime.date(2020, 3, 14))\n",
      "('대조영', '총무부', datetime.date(2020, 7, 7))\n",
      "\n",
      "\n"
     ]
    }
   ],
   "source": [
    "select(cursor, text = 'A1.', table_name = 'tStaff',\n",
    "       cond = 'gender = \"여\"', column = 'max(salary)')\n",
    "\n",
    "select(cursor, text = 'A1. REF', table_name = 'tStaff', cond = 'gender = \"여\"', \n",
    "       order = 'salary desc', column = 'name, gender, salary')\n",
    "\n",
    "\n",
    "select(cursor, text = 'A2.', table_name = 'tStaff',\n",
    "       cond = 'depart = \"총무부\"', column = 'min(joindate)')\n",
    "\n",
    "select(cursor, text = 'A2. REF', table_name = 'tStaff', cond = 'depart = \"총무부\"', \n",
    "       order        = 'joindate', column = 'name, depart, joindate')"
   ]
  },
  {
   "cell_type": "code",
   "execution_count": null,
   "id": "84135896-3d91-441f-88fe-17b4513c4527",
   "metadata": {},
   "outputs": [],
   "source": []
  },
  {
   "cell_type": "code",
   "execution_count": null,
   "id": "061db92f-00d9-44cc-bb1c-2e0138513657",
   "metadata": {},
   "outputs": [],
   "source": []
  },
  {
   "cell_type": "code",
   "execution_count": null,
   "id": "3ea80256-0e48-4066-94c4-3b670667b117",
   "metadata": {},
   "outputs": [],
   "source": []
  },
  {
   "cell_type": "code",
   "execution_count": null,
   "id": "842426d0-4639-41c0-91db-5c00a0078029",
   "metadata": {},
   "outputs": [],
   "source": []
  },
  {
   "cell_type": "code",
   "execution_count": null,
   "id": "ee7d8f19-6172-4f14-9698-023b6743099f",
   "metadata": {},
   "outputs": [],
   "source": []
  },
  {
   "cell_type": "code",
   "execution_count": null,
   "id": "a77881f0-7ce5-4577-a8ad-5acc53427cd6",
   "metadata": {},
   "outputs": [],
   "source": []
  },
  {
   "cell_type": "code",
   "execution_count": null,
   "id": "c334e502-5a39-4007-865d-4d8a30c8105d",
   "metadata": {},
   "outputs": [],
   "source": []
  },
  {
   "cell_type": "code",
   "execution_count": null,
   "id": "38007933-3392-47f2-8d1c-f63f25cab790",
   "metadata": {},
   "outputs": [],
   "source": []
  },
  {
   "cell_type": "code",
   "execution_count": null,
   "id": "10f42730-dc86-41c0-a509-90e207d8b102",
   "metadata": {},
   "outputs": [],
   "source": []
  },
  {
   "cell_type": "code",
   "execution_count": null,
   "id": "0233829c-6780-4f0b-b9b8-e85cad591ffe",
   "metadata": {},
   "outputs": [],
   "source": []
  },
  {
   "cell_type": "code",
   "execution_count": null,
   "id": "2f04470e-b7d1-406c-8f00-6227c59e657e",
   "metadata": {},
   "outputs": [],
   "source": []
  },
  {
   "cell_type": "code",
   "execution_count": 10,
   "id": "07e97765-1b0b-4840-bc84-28e254bc8953",
   "metadata": {},
   "outputs": [],
   "source": [
    "conn.close()"
   ]
  },
  {
   "cell_type": "markdown",
   "id": "4bfe9ec1-6ce4-4533-badf-e570bccf7ae7",
   "metadata": {},
   "source": [
    "# **99. 참고자료**\n",
    "## **99-1. 도서** \n",
    "- 소문난 명강의 - 김상형의 SQL 정복 | 김상형 저 / 한빛 미디어\n",
    "\n",
    "## **99-2. 논문, 학술지**\n",
    "\n",
    "## **99-3. 웹 사이트**\n",
    "\n",
    "## **99-4. 데이터셋 출처**\n"
   ]
  }
 ],
 "metadata": {
  "kernelspec": {
   "display_name": "DS",
   "language": "python",
   "name": "ds"
  },
  "language_info": {
   "codemirror_mode": {
    "name": "ipython",
    "version": 3
   },
   "file_extension": ".py",
   "mimetype": "text/x-python",
   "name": "python",
   "nbconvert_exporter": "python",
   "pygments_lexer": "ipython3",
   "version": "3.10.12"
  }
 },
 "nbformat": 4,
 "nbformat_minor": 5
}
