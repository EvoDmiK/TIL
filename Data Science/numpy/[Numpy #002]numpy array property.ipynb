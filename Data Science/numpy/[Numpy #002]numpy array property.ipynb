{
 "cells": [
  {
   "cell_type": "markdown",
   "id": "3adafb22-e597-4210-abac-0dd7b0b23712",
   "metadata": {
    "tags": []
   },
   "source": [
    "# 참고 자료\n",
    "\n",
    "- O'REILLY 제이크 밴더플래스 저 / 위키북스 김정인 역 - 파이썬 데이터 사이언스 핸드북\n",
    "- Grace's Tech Blog - 2. numpy - ndarray 인덱싱 & 슬라이싱 이해  \n",
    "https://libertegrace.tistory.com/entry/2-numpy-ndarray-%EC%9D%B8%EB%8D%B1%EC%8B%B1-%EC%8A%AC%EB%9D%BC%EC%9D%B4%EC%8B%B1-%EC%9D%B4%ED%95%B4"
   ]
  },
  {
   "cell_type": "code",
   "execution_count": 5,
   "id": "d06cb269-98e2-4f26-bb74-291067fdc48c",
   "metadata": {},
   "outputs": [],
   "source": [
    "import numpy as np"
   ]
  },
  {
   "cell_type": "markdown",
   "id": "a90bf6ce-a74f-49b3-8a83-022cc16d46f6",
   "metadata": {},
   "source": [
    "## 1. 배열의 차원, shape, 크기"
   ]
  },
  {
   "cell_type": "code",
   "execution_count": 6,
   "id": "3a0f8f7e-2b9e-4435-97cd-6386db19be92",
   "metadata": {},
   "outputs": [
    {
     "name": "stdout",
     "output_type": "stream",
     "text": [
      "x3의 차원 : 3 \n",
      "x3 각 차원의 크기 : (3, 4, 5)\n",
      "x3의 크기 : 60\n",
      "x3의 자료형 : int64\n"
     ]
    }
   ],
   "source": [
    "np.random.seed(0)\n",
    "\n",
    "## 0 ~ 20까지의 숫자 중에서 10개를 랜덤하게 추출해 만든 1차원 배열\n",
    "x1 = np.random.randint(20, size = 10)\n",
    "\n",
    "## 0 ~ 10까지의 숫자 중 랜덤하게 추출해 만든 3x4 2차원 배열\n",
    "x2 = np.random.randint(10, size = (3, 4))\n",
    "\n",
    "## 0 ~ 10까지의 숫자 중 랜덤하게 추출해 만든 3x4x5 3차원 배열\n",
    "x3 = np.random.randint(10, size = (3, 4, 5))\n",
    "\n",
    "print(f'x3의 차원 : {x3.ndim} \\nx3 각 차원의 크기 : {x3.shape}\\nx3의 크기 : {x3.size}\\nx3의 자료형 : {x3.dtype}')"
   ]
  },
  {
   "cell_type": "markdown",
   "id": "53681053-93b6-48f9-b144-4ba982ace37a",
   "metadata": {},
   "source": [
    "## 2. 배열의 크기를 바이트 단위로 변환"
   ]
  },
  {
   "cell_type": "code",
   "execution_count": 21,
   "id": "5d48975d-5e19-4f73-832a-6ad1e998cb48",
   "metadata": {},
   "outputs": [
    {
     "name": "stdout",
     "output_type": "stream",
     "text": [
      "x3 itemsize : 8 bytes\n",
      "x3 nbytes :   480 bytes\n"
     ]
    }
   ],
   "source": [
    "## 각 배열 요소의 크기를 바이트 단위로 반환\n",
    "print(f'x3 itemsize : {x3.itemsize} bytes')\n",
    "\n",
    "## 배열 전체 크기를 바이트 단위로 반환\n",
    "print(f'x3 nbytes :   {x3.nbytes} bytes')"
   ]
  },
  {
   "cell_type": "markdown",
   "id": "a37152fb-7cf2-4616-99cd-b7fb84ccff40",
   "metadata": {
    "tags": []
   },
   "source": [
    "## 3. 배열의 인덱싱, 슬라이싱\n",
    "### 3-1. 인덱싱 방법\n",
    "1. 단순 인덱싱 : 특정 위치의 단일값 추출  \n",
    "2. 팬시 인덱싱 : 단일값대신 인덱스 배열을 반환 -> 복잡한 배열값의 하위 집합에 빠르게 접근 및 수정 가능  \n",
    "3. 불리언 인덱싱 : 특정 조건에 해당하는 여부로 True에 해당하는 인덱스 위치의 array를 반환"
   ]
  },
  {
   "cell_type": "code",
   "execution_count": 25,
   "id": "ffe08ff4-bdda-4ee1-b780-5e19e2bc678f",
   "metadata": {},
   "outputs": [
    {
     "name": "stdout",
     "output_type": "stream",
     "text": [
      "Original ndarray x1 :                [12 15  0  3  3  7  9 19 18  4]\n",
      "Extract 3rd element in ndarray x1 :  0\n",
      "Extract last element in ndarray x1 : 4\n",
      "\n",
      "Original ndarray x2 :\n",
      "[[7 6 8 8]\n",
      " [1 6 7 7]\n",
      " [8 1 5 9]]\n",
      "\n",
      "Extract (2, 3) element in ndarray x2 :\n",
      "9\n",
      "\n",
      "Extract (2, 3) element in ndarray x2 (another way) :\n",
      "9\n",
      "\n",
      "Original ndarray x3 :\n",
      "[[[8 9 4 3 0]\n",
      "  [3 5 0 2 3]\n",
      "  [8 1 3 3 3]\n",
      "  [7 0 1 9 9]]\n",
      "\n",
      " [[0 4 7 3 2]\n",
      "  [7 2 0 0 4]\n",
      "  [5 5 6 8 4]\n",
      "  [1 4 9 8 1]]\n",
      "\n",
      " [[1 7 9 9 3]\n",
      "  [6 7 2 0 3]\n",
      "  [5 9 4 4 6]\n",
      "  [4 4 3 4 4]]]\n",
      "\n",
      "Extract (2, 3, 0) element in ndarray x3 :\n",
      "4\n",
      "\n",
      "Extract (2, 3) element in ndarray x3 (another way) :\n",
      "4\n"
     ]
    }
   ],
   "source": [
    "## numpy 배열의 인덱싱\n",
    "## 1. 단순 인덱싱\n",
    "print(f'Original ndarray x1 :                {x1}')\n",
    "print(f'Extract 3rd element in ndarray x1 :  {x1[2]}')\n",
    "print(f'Extract last element in ndarray x1 : {x1[-1]}\\n')\n",
    "\n",
    "## 1-1. 다차원 배열 인덱싱\n",
    "print(f'Original ndarray x2 :\\n{x2}\\n')\n",
    "print(f'Extract (2, 3) element in ndarray x2 :\\n{x2[2, 3]}\\n')\n",
    "print(f'Extract (2, 3) element in ndarray x2 (another way) :\\n{x2[2][3]}\\n')\n",
    "\n",
    "print(f'Original ndarray x3 :\\n{x3}\\n')\n",
    "print(f'Extract (2, 3, 0) element in ndarray x3 :\\n{x3[2, 3, 0]}\\n')\n",
    "print(f'Extract (2, 3) element in ndarray x3 (another way) :\\n{x3[2][3][0]}')"
   ]
  },
  {
   "cell_type": "code",
   "execution_count": 38,
   "id": "e9fa0e76-445f-4b8e-8bf3-6930fe4662b6",
   "metadata": {},
   "outputs": [
    {
     "name": "stdout",
     "output_type": "stream",
     "text": [
      "Original ndarray x1 :                        [12 15  0  3  3  7  9 19 18  4]\n",
      "Fancy indexing in x1 with index 1, 8 and 5 : [15 18  7]\n",
      "\n",
      "Original ndarray x2 :\n",
      "[[7 6 8 8]\n",
      " [1 6 7 7]\n",
      " [8 1 5 9]]\n",
      "\n",
      "Fancy indexing in x2 with index 1, 2 and 0:\n",
      "[[1 6 7 7]\n",
      " [8 1 5 9]\n",
      " [7 6 8 8]]\n",
      "\n",
      "Fancy indexing in x2 :\n",
      "[6 5 7]\n",
      "\n",
      "Fancy indexing in x2[2] with index 1, 2 and 0 :\n",
      "[1 5 8]\n"
     ]
    }
   ],
   "source": [
    "## 2. 팬시 인덱싱\n",
    "idxs = [1, 8, 5]\n",
    "print(f'Original ndarray x1 :                        {x1}')\n",
    "print(f'Fancy indexing in x1 with index 1, 8 and 5 : {x1[idxs]}\\n')\n",
    "\n",
    "\n",
    "## 2-1. 다차원 배열의 팬시 인덱싱\n",
    "idxs = [1, 2, 0]\n",
    "print(f'Original ndarray x2 :\\n{x2}\\n')\n",
    "\n",
    "#! 다차원 배열에서 팬시 인덱싱을 적용시 값들의 위치가 변경 됨\n",
    "print(f'Fancy indexing in x2 with index 1, 2 and 0:\\n{x2[idxs]}\\n')\n",
    "print(f'Fancy indexing in x2 :\\n{x2[idxs, idxs]}\\n')\n",
    "\n",
    "#! 단순 인덱싱과 팬시 인덱싱을 결합하여 사용할 수 있다.\n",
    "print(f'Fancy indexing in x2[2] with index 1, 2 and 0 :\\n{x2[2, idxs]}')"
   ]
  },
  {
   "cell_type": "code",
   "execution_count": 54,
   "id": "30457567-a8c0-4902-a195-ce7aca2f37a9",
   "metadata": {},
   "outputs": [
    {
     "name": "stdout",
     "output_type": "stream",
     "text": [
      "Original array x1 :                                                      [12 15  0  3  3  7  9 19 18  4]\n",
      "Mask array condition :                                                   [ True False  True False False False False False  True  True]\n",
      "\n",
      "Boolean index in ndarray x1 with mask array condition :                  [12  0 18  4]\n",
      "Boolean index in ndarray x1 with mask array condition or less than 15 :  [12  0  3  3  7  9 18  4]\n",
      "Boolean index in ndarray x1 with mask array condition and less than 15 : [12  0  4]\n"
     ]
    }
   ],
   "source": [
    "## 3. 불리언 인덱싱\n",
    "condition = x1%2 == 0\n",
    "print(f'Original array x1 :                                                      {x1}')\n",
    "print(f'Mask array condition :                                                   {condition}\\n')\n",
    "print(f'Boolean index in ndarray x1 with mask array condition :                  {x1[condition]}')\n",
    "\n",
    "## 3-1. 다중 조건 인덱싱\n",
    "print(f'Boolean index in ndarray x1 with mask array condition or less than 15 :  {x1[(condition) | (x1<15)]}')\n",
    "print(f'Boolean index in ndarray x1 with mask array condition and less than 15 : {x1[(condition) & (x1<15)]}')"
   ]
  },
  {
   "cell_type": "markdown",
   "id": "a8029649-32b5-47d3-ac52-c6de636ea363",
   "metadata": {},
   "source": [
    "### 3-2. 슬라이싱"
   ]
  },
  {
   "cell_type": "code",
   "execution_count": 90,
   "id": "8ee92bd1-be43-4c07-a53e-b8744beece28",
   "metadata": {},
   "outputs": [
    {
     "name": "stdout",
     "output_type": "stream",
     "text": [
      "original array :                            [12 15  0  3  3  7  9 19 18  4]\n",
      "reversed array :                            [ 4 18 19  9  7  3  3  0 15 12]\n",
      "array from 0 to 4 :                         [12 15  0  3  3]\n",
      "array from 0 to end_idx with step_size 2 :  [12  0  3  9 18]\n",
      "array from 5 to end_idx with step_size -2 : [ 7  3 15]\n"
     ]
    }
   ],
   "source": [
    "## numpy 배열의 슬라이싱\n",
    "## 배열[start_idx, end_idx, step_size]\n",
    "print(f'original array :                            {x1}')\n",
    "print(f'reversed array :                            {x1[::-1]}')\n",
    "print(f'array from 0 to 4 :                         {x1[:5]}')\n",
    "print(f'array from 0 to end_idx with step_size 2 :  {x1[::2]}')\n",
    "print(f'array from 5 to end_idx with step_size -2 : {x1[5::-2]}')"
   ]
  },
  {
   "cell_type": "code",
   "execution_count": 91,
   "id": "343a94f6-f5ef-44e9-85e8-81b2712d6c22",
   "metadata": {},
   "outputs": [
    {
     "name": "stdout",
     "output_type": "stream",
     "text": [
      "original 2 dimension array :\n",
      "[[7 6 8 8]\n",
      " [1 6 7 7]\n",
      " [8 1 5 9]]\n",
      "\n",
      "reversed 2 dimension array :\n",
      "[[9 5 1 8]\n",
      " [7 7 6 1]\n",
      " [8 8 6 7]]\n",
      "\n",
      "2 columns and 3 rows for 2 dimension array : \n",
      "[[7 6 8]\n",
      " [1 6 7]]\n"
     ]
    }
   ],
   "source": [
    "print(f'original 2 dimension array :\\n{x2}')\n",
    "print(f'\\nreversed 2 dimension array :\\n{x2[::-1, ::-1]}')\n",
    "print(f'\\n2 columns and 3 rows for 2 dimension array : \\n{x2[:2, :3]}')"
   ]
  },
  {
   "cell_type": "markdown",
   "id": "326e8386-8b1d-4a15-a98b-3ac825569aab",
   "metadata": {},
   "source": [
    "## 4. ndarray 값 변경"
   ]
  },
  {
   "cell_type": "code",
   "execution_count": 92,
   "id": "c74d3230-7ee4-404f-bf6d-50743f1aa3ff",
   "metadata": {},
   "outputs": [
    {
     "name": "stdout",
     "output_type": "stream",
     "text": [
      "original 2d array :\n",
      "[[7 6 8 8]\n",
      " [1 6 7 7]\n",
      " [8 1 5 9]] \n",
      "\n",
      "sliced 2d array : \n",
      "[[7 6]\n",
      " [1 6]]\n",
      "\n",
      "-------------------------------------------\n",
      "\n",
      "changed original 2d array :\n",
      "[[9 6 8 8]\n",
      " [1 6 7 7]\n",
      " [8 1 5 9]] \n",
      "\n",
      "chaned slied 2d array : \n",
      "[[9 6]\n",
      " [1 6]]\n"
     ]
    }
   ],
   "source": [
    "## numpy 배열의 값 변경\n",
    "## 슬라이싱 한 배열의 값을 변경하면, 원본 배열도 값이 변경된다.\n",
    "x2_ = x2[:2, :2]\n",
    "print(f'original 2d array :\\n{x2} \\n\\nsliced 2d array : \\n{x2_}')\n",
    "print('\\n-------------------------------------------\\n')\n",
    "\n",
    "x2_[0, 0] = 9\n",
    "print(f'changed original 2d array :\\n{x2} \\n\\nchaned slied 2d array : \\n{x2_}')"
   ]
  },
  {
   "cell_type": "code",
   "execution_count": 93,
   "id": "7f8414c3-4dc5-43fc-a3ba-de6f043f2273",
   "metadata": {},
   "outputs": [
    {
     "name": "stdout",
     "output_type": "stream",
     "text": [
      "original 2d array :\n",
      "[[9 6 8 8]\n",
      " [1 6 7 7]\n",
      " [8 1 5 9]] \n",
      "\n",
      "copy and sliced 2d array : \n",
      "[[10  6]\n",
      " [ 1  6]]\n",
      "\n",
      "-------------------------------------------\n",
      "\n",
      "changed original 2d array :\n",
      "[[9 6 8 8]\n",
      " [1 6 7 7]\n",
      " [8 1 5 9]] \n",
      "\n",
      "chaned copy and sliced 2d array : \n",
      "[[10  6]\n",
      " [ 1  6]]\n"
     ]
    }
   ],
   "source": [
    "## 복사된 numpy 배열을 슬라이싱 한 배열의 값을 변경해도\n",
    "## 원본 배열의 값은 변하지 않는다.\n",
    "x2__ = x2_.copy()\n",
    "x2__ = x2__[:2, :2]\n",
    "x2__[0, 0] = 10\n",
    "\n",
    "print(f'original 2d array :\\n{x2} \\n\\ncopy and sliced 2d array : \\n{x2__}')\n",
    "print('\\n-------------------------------------------\\n')\n",
    "\n",
    "x2_[0, 0] = 9\n",
    "print(f'changed original 2d array :\\n{x2} \\n\\nchaned copy and sliced 2d array : \\n{x2__}')"
   ]
  },
  {
   "cell_type": "markdown",
   "id": "b8ea2370-b437-4caa-889b-bba95e2082b3",
   "metadata": {},
   "source": [
    "## 5. ndarray의 재구조화"
   ]
  },
  {
   "cell_type": "code",
   "execution_count": 94,
   "id": "c5c83002-6bfe-46e6-a57a-009c17775235",
   "metadata": {},
   "outputs": [
    {
     "name": "stdout",
     "output_type": "stream",
     "text": [
      "original 2d array (size : 12) :  \n",
      "[[9 6 8 8]\n",
      " [1 6 7 7]\n",
      " [8 1 5 9]]\n",
      "\n",
      "\n",
      "reshaped 2d array (size : 12) : \n",
      "[[9 6 8 8 1 6 7 7 8 1 5 9]]\n",
      "\n",
      "-------------------------------------------\n",
      "\n",
      "original 1d array : [12 15  0  3  3  7  9 19 18  4]\n",
      "expanded 1d array : [[12 15  0  3  3  7  9 19 18  4]]\n",
      "expanded 1d array2 : [[12]\n",
      " [15]\n",
      " [ 0]\n",
      " [ 3]\n",
      " [ 3]\n",
      " [ 7]\n",
      " [ 9]\n",
      " [19]\n",
      " [18]\n",
      " [ 4]]\n"
     ]
    }
   ],
   "source": [
    "## numpy 배열의 재구조화\n",
    "## 재구조화 시키고자 하는 배열의 size와 변경하고자 하는 size가 동일해야한다.\n",
    "x2_reshaped = x2.reshape(1, 12)\n",
    "\n",
    "print(f'original 2d array (size : {x2.size}) :  \\n{x2}\\n')\n",
    "print(f'\\nreshaped 2d array (size : {x2_reshaped.size}) : \\n{x2_reshaped}')\n",
    "print('\\n-------------------------------------------\\n')\n",
    "\n",
    "## np.newaixs를 통한 차원 추가\n",
    "x1_ = x1.copy()\n",
    "print(f'original 1d array : {x1_}')\n",
    "print(f'expanded 1d array : {x1_[np.newaxis, :]}')\n",
    "print(f'expanded 1d array2 : {x1_[:, np.newaxis]}')"
   ]
  },
  {
   "cell_type": "markdown",
   "id": "205360a0-34dc-4eb9-a22f-2c8c5a6d2729",
   "metadata": {},
   "source": [
    "## 6. 배열 병합, 분할"
   ]
  },
  {
   "cell_type": "code",
   "execution_count": 95,
   "id": "067f9e64-7eda-490b-a5fe-8d354ae80708",
   "metadata": {},
   "outputs": [
    {
     "name": "stdout",
     "output_type": "stream",
     "text": [
      "concatenated two 1d arrays : \n",
      "[1 2 3 3 2 1]\n",
      "\n",
      "concatenated multiple 1d arrays : \n",
      "[ 1  2  3  3  2  1 99 99 99]\n",
      "\n",
      "concatenated two 2d arrays : \n",
      "[[1 2 3]\n",
      " [3 2 1]\n",
      " [1 2 3]\n",
      " [3 2 1]]\n",
      "\n",
      "vertical stack differences dimension arrays : \n",
      "[[  1   2   3]\n",
      " [  3   2   1]\n",
      " [  9  99 999]]\n",
      "\n",
      "horizontal stack differences dimension arrays : \n",
      "[[ 1  2  3  1]\n",
      " [ 3  2  1 11]]\n",
      "\n"
     ]
    }
   ],
   "source": [
    "y1 = np.array([1, 2, 3])\n",
    "y2 = np.array([3, 2, 1])\n",
    "y3 = np.array([99, 99, 99])\n",
    "\n",
    "grid = np.array([[1, 2, 3], [3, 2, 1]])\n",
    "v, h = np.array([9, 99, 999]), np.array([[1], [11]])\n",
    "\n",
    "## 같은 차원의 배열 합치기\n",
    "print(f'concatenated two 1d arrays : \\n{np.concatenate([y1, y2])}\\n')\n",
    "print(f'concatenated multiple 1d arrays : \\n{np.concatenate([y1, y2, y3])}\\n')\n",
    "print(f'concatenated two 2d arrays : \\n{np.concatenate([grid, grid])}\\n')\n",
    "\n",
    "## 혼합된 차원의 배열 합치기\n",
    "## np.vstack : 수직으로 배열으로 합치기\n",
    "print(f'vertical stack differences dimension arrays : \\n{np.vstack([grid, v])}\\n')\n",
    "\n",
    "## np.hstack : 수평으로 배열으로 합치기\n",
    "print(f'horizontal stack differences dimension arrays : \\n{np.hstack([grid, h])}\\n')\n"
   ]
  },
  {
   "cell_type": "code",
   "execution_count": 96,
   "id": "b2407f17-381f-410f-9b36-8c74fea30ada",
   "metadata": {},
   "outputs": [
    {
     "name": "stdout",
     "output_type": "stream",
     "text": [
      "original array : [0 1 2 3 4 5 6 7]\n",
      "splited array :  [array([0, 1, 2, 3]), array([4, 5, 6, 7])]\n",
      "original array : \n",
      "[[ 0  1  2  3]\n",
      " [ 4  5  6  7]\n",
      " [ 8  9 10 11]\n",
      " [12 13 14 15]]\n",
      "\n",
      "upper array : \n",
      "[[0 1 2 3]\n",
      " [4 5 6 7]] \n",
      "\n",
      "lower array : \n",
      "[[ 8  9 10 11]\n",
      " [12 13 14 15]]\n",
      "\n",
      "left array : \n",
      "[[ 0  1]\n",
      " [ 4  5]\n",
      " [ 8  9]\n",
      " [12 13]] \n",
      "\n",
      "right array : \n",
      "[[ 2  3]\n",
      " [ 6  7]\n",
      " [10 11]\n",
      " [14 15]]\n"
     ]
    }
   ],
   "source": [
    "x = np.arange(8)\n",
    "x_2d = np.arange(16).reshape(4, 4)\n",
    "\n",
    "## 배열 분할하기\n",
    "## np.split을 통해 분할 할 경우엔 (배열의 길이) % (나누고자 하는 길이) = 0이어야 한다.\n",
    "print(f'original array : {x}')\n",
    "print(f'splited array :  {np.split(x, 2)}')\n",
    "\n",
    "print(f'original array : \\n{x_2d}\\n')\n",
    "## np.vsplit : 수평으로 분할\n",
    "upper, lower = np.vsplit(x_2d, [2])\n",
    "print(f'upper array : \\n{upper} \\n\\nlower array : \\n{lower}\\n')\n",
    "\n",
    "## np.hsplit : 수직으로 분할\n",
    "left, right = np.hsplit(x_2d, [2])\n",
    "print(f'left array : \\n{left} \\n\\nright array : \\n{right}')"
   ]
  }
 ],
 "metadata": {
  "kernelspec": {
   "display_name": "bio",
   "language": "python",
   "name": "bio"
  },
  "language_info": {
   "codemirror_mode": {
    "name": "ipython",
    "version": 3
   },
   "file_extension": ".py",
   "mimetype": "text/x-python",
   "name": "python",
   "nbconvert_exporter": "python",
   "pygments_lexer": "ipython3",
   "version": "3.9.10"
  }
 },
 "nbformat": 4,
 "nbformat_minor": 5
}
