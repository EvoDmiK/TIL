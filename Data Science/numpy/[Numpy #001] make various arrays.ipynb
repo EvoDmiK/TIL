{
 "cells": [
  {
   "cell_type": "markdown",
   "id": "55a9d9d7-d1e9-4b80-879d-2dfa76cca73f",
   "metadata": {},
   "source": [
    "# 참고 자료\n",
    "- O'REILLY 제이크 밴더플래스 저 / 위키북스 김정인 역 - 파이썬 데이터 사이언스 핸드북"
   ]
  },
  {
   "cell_type": "code",
   "execution_count": 2,
   "id": "84ad7a39-5f98-4309-a8cf-64b38ff686e8",
   "metadata": {},
   "outputs": [],
   "source": [
    "import numpy as np"
   ]
  },
  {
   "cell_type": "markdown",
   "id": "89875c13-5796-4b02-b7ed-7c103d8e955e",
   "metadata": {},
   "source": [
    "## 1. 일반적인 형태의 배열 만들기"
   ]
  },
  {
   "cell_type": "code",
   "execution_count": 2,
   "id": "54676a06-4454-4039-8a4c-3048508357b9",
   "metadata": {},
   "outputs": [
    {
     "name": "stdout",
     "output_type": "stream",
     "text": [
      "float array : \n",
      " [1. 2. 3. 4.]\n",
      "\n",
      "int array : \n",
      " [1 2 3 4]\n",
      "\n",
      "다차원 배열 : \n",
      " [[1 2 3]\n",
      " [2 3 4]\n",
      " [3 4 5]]\n"
     ]
    }
   ],
   "source": [
    "## 실수형 numpy 배열\n",
    "print('float array : \\n', np.array([1, 2, 3, 4], dtype = 'float32'))\n",
    "\n",
    "## 정수형 numpy 배열\n",
    "print('\\nint array : \\n', np.array([1, 2, 3, 4], dtype = 'int'))\n",
    "\n",
    "## 리스트와 반복문을 이용하면 다차원 numpy 배열을 생성할 수 있음.\n",
    "## range() 함수를 이용해 반복 변수인 rep ~ rep + 2 까지의 숫자를 배열의 원소로 삽입\n",
    "print('\\n다차원 배열 : \\n', np.array([range(rep, rep+3) for rep in [1, 2, 3]]))"
   ]
  },
  {
   "cell_type": "markdown",
   "id": "e1138a84-f84c-4ea4-bdf8-5d136d7bd0a2",
   "metadata": {},
   "source": [
    "## 2. 특수한 형태의 배열 만들기"
   ]
  },
  {
   "cell_type": "code",
   "execution_count": 3,
   "id": "4b8f4f19-9f69-46f2-994a-ee8bdc18e391",
   "metadata": {},
   "outputs": [
    {
     "name": "stdout",
     "output_type": "stream",
     "text": [
      "zero array has len 10 : \n",
      " [0 0 0 0 0 0 0 0 0 0]\n",
      "\n",
      "ones array has shape 3 x 5 : \n",
      " [[1. 1. 1. 1. 1.]\n",
      " [1. 1. 1. 1. 1.]\n",
      " [1. 1. 1. 1. 1.]]\n",
      "\n",
      "3.14 array has shape 3 x 5 : \n",
      " [[3.14 3.14 3.14 3.14 3.14]\n",
      " [3.14 3.14 3.14 3.14 3.14]\n",
      " [3.14 3.14 3.14 3.14 3.14]]\n"
     ]
    }
   ],
   "source": [
    "## 0으로만 이루어진 정수 배열 만들기\n",
    "print('zero array has len 10 : \\n', np.zeros(10, dtype = int))\n",
    "\n",
    "## 1로만 이루어진 실수 배열 만들기\n",
    "print('\\nones array has shape 3 x 5 : \\n', np.ones((3, 5), dtype = float))\n",
    "\n",
    "## 특정 값으로만 이루어진 배열 만들기\n",
    "print(f'\\n3.14 array has shape 3 x 5 : \\n', np.full((3, 5), 3.14))"
   ]
  },
  {
   "cell_type": "code",
   "execution_count": 4,
   "id": "7e1cbd79-e4da-4b23-b2f6-4fa3e65512ed",
   "metadata": {},
   "outputs": [
    {
     "name": "stdout",
     "output_type": "stream",
     "text": [
      "linear array from 0 to 20 has step size 2 : \n",
      " [ 0  2  4  6  8 10 12 14 16 18]\n",
      "\n",
      " linear array from 0 to 1 has uniform step size \n",
      " [0.   0.25 0.5  0.75 1.  ]\n"
     ]
    }
   ],
   "source": [
    "## n ~ m까지 l씩 증가 시키는 선형 배열 만들기\n",
    "## 파이썬의 내장함수 range와 비슷한 역할을 함.\n",
    "print('linear array from 0 to 20 has step size 2 : \\n', np.arange(0, 20, 2))\n",
    "\n",
    "## n ~ m까지 사이의 값을 l개의 일정한 간격으로 나눈 값으로 채운 배열 만들기\n",
    "print('\\n linear array from 0 to 1 has uniform step size \\n', np.linspace(0, 1, 5))"
   ]
  },
  {
   "cell_type": "code",
   "execution_count": 5,
   "id": "1a71c5a4-7543-4808-90e6-d94a30ef9c66",
   "metadata": {},
   "outputs": [
    {
     "name": "stdout",
     "output_type": "stream",
     "text": [
      "random array has shape 3x3 : \n",
      " [[0.259142   0.39895841 0.26225286]\n",
      " [0.57860137 0.76431671 0.67051828]\n",
      " [0.7083773  0.92446507 0.9327117 ]]\n",
      "\n",
      "standard distribution array has shape 3x3 : \n",
      " [[ 0.16322698 -2.14693481  0.65314579]\n",
      " [-0.42090596  0.55859701  1.11668424]\n",
      " [ 1.43774009  0.30386782 -0.70271302]]\n"
     ]
    }
   ],
   "source": [
    "## 균등하게 분포된 3x3 배열 만들기 (0 ~ 1 사이의 난수로 채움)\n",
    "print('random array has shape 3x3 : \\n', np.random.random((3, 3)))\n",
    "\n",
    "## mean : 0, std : 1을 가지는 정규 분포 난수로 채운 3x3 배열 만들기\n",
    "print('\\nstandard distribution array has shape 3x3 : \\n', np.random.normal(0, 1, (3, 3)))"
   ]
  },
  {
   "cell_type": "code",
   "execution_count": 3,
   "id": "cfcb2230-6ff0-4a2c-810a-6bac22b47d0e",
   "metadata": {},
   "outputs": [
    {
     "name": "stdout",
     "output_type": "stream",
     "text": [
      "3x3 identity matrix : \n",
      " [[1. 0. 0.]\n",
      " [0. 1. 0.]\n",
      " [0. 0. 1.]]\n"
     ]
    }
   ],
   "source": [
    "## 3x3 단위행렬 만들기\n",
    "print('3x3 identity matrix : \\n', np.eye(3, 3))"
   ]
  },
  {
   "cell_type": "code",
   "execution_count": null,
   "id": "c78c98a1-8dc7-4b46-b7e6-0679c54d3671",
   "metadata": {},
   "outputs": [],
   "source": []
  }
 ],
 "metadata": {
  "kernelspec": {
   "display_name": "bio",
   "language": "python",
   "name": "bio"
  },
  "language_info": {
   "codemirror_mode": {
    "name": "ipython",
    "version": 3
   },
   "file_extension": ".py",
   "mimetype": "text/x-python",
   "name": "python",
   "nbconvert_exporter": "python",
   "pygments_lexer": "ipython3",
   "version": "3.9.10"
  }
 },
 "nbformat": 4,
 "nbformat_minor": 5
}
